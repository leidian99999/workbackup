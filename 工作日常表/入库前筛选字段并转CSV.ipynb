{
 "cells": [
  {
   "cell_type": "code",
   "execution_count": 1,
   "metadata": {},
   "outputs": [],
   "source": [
    "import pandas as pd"
   ]
  },
  {
   "cell_type": "code",
   "execution_count": 2,
   "metadata": {},
   "outputs": [
    {
     "name": "stderr",
     "output_type": "stream",
     "text": [
      "d:\\python\\envs\\jupyterpy36\\lib\\site-packages\\IPython\\core\\interactiveshell.py:2785: DtypeWarning: Columns (5,7,9,11,16,19,24,25,26,29,30,31,35,37,39,44,45,46,47,48,59,60,62,63,64,65,68,69,70,71,73,74,77,78,79,80,81,86,91,92,93) have mixed types. Specify dtype option on import or set low_memory=False.\n",
      "  interactivity=interactivity, compiler=compiler, result=result)\n"
     ]
    }
   ],
   "source": [
    "df = pd.read_csv(r\"G:/work/basic/csv/1812_info.csv\")"
   ]
  },
  {
   "cell_type": "code",
   "execution_count": 3,
   "metadata": {},
   "outputs": [
    {
     "data": {
      "text/plain": [
       "Index(['订单编号', '原始订单', '订单类型', '订单状态', '订单子状态', '取消原因', '订单挂起原因', '安装失败原因',\n",
       "       '订单来源', '结算状态', '支付平台', '机价款', '店铺', 'AB类型', '拆单类型', '制式类型', '订单金额',\n",
       "       '支付方式', '支付流水号', '收取卡密号码', '订单生成时间', '支付完成时间', '交易完成时间', '发货时间',\n",
       "       '物流单回填时间', '用户名', 'QQ号', '入网用户姓名', '入网身份证号', '入网手机号', '联系人电话号码',\n",
       "       'ICCID', '联系住址', '收货人姓名', '收货地址', '收货人电话号码', '收货人邮箱', '邮编',\n",
       "       '所在省 / 市 / 县', '入网人所在省/市/县', '号码归属地', '配送方式', '营业厅地址', '配送时间', '优惠劵',\n",
       "       '优惠券编码', 'F码', 'F码名称', '产品推荐人', 'CPS推荐人', '订单备注', '物流单号', '物流签收时间',\n",
       "       '承运商', '是否上传签收证明项', '预存款发票类别', '物品费发票抬头', '物品费抬头名称', '发票内容', '企业税号',\n",
       "       '用户留言', '大小卡类型', '写卡渠道', '卡号', '串号', '销售品编号', '销售品名称', '销售品类型', '销售品数量',\n",
       "       '销售品价格', '合作商', '实际分账金额', '套餐', '主号码', '副号码', '现金预存款', '可选包', '合约补贴',\n",
       "       '其他', '靓号低消', '靓号等级', '靓号预存款', '营业厅送货方式', '是否线下模式', '是否线下转线上',\n",
       "       '线下转线上原因', '营业厅送货iccid', '身份证图片1', '身份证图片2', '身份证图片3', '身份证图片4',\n",
       "       '实名信息复核中时间', '销售品文本步骤名称', '用户选择的步骤内容'],\n",
       "      dtype='object')"
      ]
     },
     "execution_count": 3,
     "metadata": {},
     "output_type": "execute_result"
    }
   ],
   "source": [
    "df.columns"
   ]
  },
  {
   "cell_type": "code",
   "execution_count": 4,
   "metadata": {},
   "outputs": [],
   "source": [
    "list = ['订单编号', '订单子状态',  '订单挂起原因', '安装失败原因',\n",
    "       '订单来源', '店铺', '订单金额',\n",
    "       '订单生成时间', '交易完成时间', '发货时间',\n",
    "       '物流单回填时间', '入网用户姓名', '入网身份证号', '入网手机号', '收货人姓名', '收货地址', '收货人电话号码', '邮编',\n",
    "       '所在省 / 市 / 县','号码归属地',  'CPS推荐人', '订单备注', '物流单号', '物流签收时间',\n",
    "       '承运商', '大小卡类型', '写卡渠道', '销售品编号', '销售品名称', '销售品类型',  '套餐', '主号码', '副号码', '现金预存款',\n",
    "        '靓号低消', '靓号等级', '靓号预存款', '营业厅送货方式', '是否线下模式', '是否线下转线上',\n",
    "       '线下转线上原因', '营业厅送货iccid']"
   ]
  },
  {
   "cell_type": "code",
   "execution_count": 5,
   "metadata": {},
   "outputs": [],
   "source": [
    "df1 = df[list]"
   ]
  },
  {
   "cell_type": "code",
   "execution_count": 6,
   "metadata": {},
   "outputs": [
    {
     "data": {
      "text/plain": [
       "(915584, 42)"
      ]
     },
     "execution_count": 6,
     "metadata": {},
     "output_type": "execute_result"
    }
   ],
   "source": [
    "df1.shape"
   ]
  },
  {
   "cell_type": "code",
   "execution_count": 7,
   "metadata": {},
   "outputs": [],
   "source": [
    "df1.to_csv(r\"G:/work/basic/alter/1812_info_alter.csv\")"
   ]
  },
  {
   "cell_type": "code",
   "execution_count": null,
   "metadata": {},
   "outputs": [],
   "source": []
  }
 ],
 "metadata": {
  "kernelspec": {
   "display_name": "Python 3",
   "language": "python",
   "name": "python3"
  },
  "language_info": {
   "codemirror_mode": {
    "name": "ipython",
    "version": 3
   },
   "file_extension": ".py",
   "mimetype": "text/x-python",
   "name": "python",
   "nbconvert_exporter": "python",
   "pygments_lexer": "ipython3",
   "version": "3.5.2"
  }
 },
 "nbformat": 4,
 "nbformat_minor": 2
}
