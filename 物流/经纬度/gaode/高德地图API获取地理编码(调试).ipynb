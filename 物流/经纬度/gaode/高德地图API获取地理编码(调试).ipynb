{
 "cells": [
  {
   "cell_type": "code",
   "execution_count": 1,
   "metadata": {},
   "outputs": [],
   "source": [
    "import pandas as pd\n",
    "import json\n",
    "from urllib.request import urlopen, quote,URLError, HTTPError\n",
    "import requests\n",
    "import time"
   ]
  },
  {
   "cell_type": "code",
   "execution_count": 2,
   "metadata": {},
   "outputs": [],
   "source": [
    "data = pd.read_csv(r\"G:\\work\\logistica\\info\\shenglist\\JD_ZJ_list.csv\")"
   ]
  },
  {
   "cell_type": "code",
   "execution_count": 3,
   "metadata": {},
   "outputs": [
    {
     "data": {
      "text/plain": [
       "Index(['订单编号', '收货地址', '物流单号', '物流签收时间', 'LOGISTICS_COMPANY', '最后送达时间', '所在省',\n",
       "       '所在市', '所在县', '快递员', '最后一站', '快递员电话', '导航地址', 'cityId', 'countyId',\n",
       "       'provinceId', 'siteAddress', 'siteBusinessName', 'siteName',\n",
       "       'siteTelephone', 'cityname', 'siteAddress_all', 'siteAdcode_gaode',\n",
       "       'siteCity_gaode', 'siteCountry_gaode', 'siteDistrict_gaode',\n",
       "       'siteFormatted_address_gaode', 'siteLevel_gaode', 'siteLocation_gaode',\n",
       "       'siteNumber_gaode', 'siteProvince_gaode', 'siteStreet_gaode',\n",
       "       'siteTownship_gaode', 'site_Lng_gaode', 'site_Lat_gaode'],\n",
       "      dtype='object')"
      ]
     },
     "execution_count": 3,
     "metadata": {},
     "output_type": "execute_result"
    }
   ],
   "source": [
    "data.columns"
   ]
  },
  {
   "cell_type": "code",
   "execution_count": 4,
   "metadata": {},
   "outputs": [],
   "source": [
    "df = data[[\n",
    "    \"订单编号\",\"导航地址\",\"物流单号\",\"收货地址\", \n",
    "    'site_Lat_gaode', 'site_Lng_gaode','siteAddress_all','siteName','物流签收时间','最后送达时间','siteLocation_gaode']]"
   ]
  },
  {
   "cell_type": "code",
   "execution_count": 5,
   "metadata": {},
   "outputs": [
    {
     "data": {
      "text/plain": [
       "False    5250\n",
       "Name: 导航地址, dtype: int64"
      ]
     },
     "execution_count": 5,
     "metadata": {},
     "output_type": "execute_result"
    }
   ],
   "source": [
    "df['导航地址'].isnull().value_counts()\n",
    "\n"
   ]
  },
  {
   "cell_type": "code",
   "execution_count": 6,
   "metadata": {},
   "outputs": [],
   "source": [
    "ak='1c2682317206ccaa18ec2487bb45d880'"
   ]
  },
  {
   "cell_type": "code",
   "execution_count": 7,
   "metadata": {},
   "outputs": [],
   "source": [
    "add = df['导航地址']"
   ]
  },
  {
   "cell_type": "code",
   "execution_count": 8,
   "metadata": {},
   "outputs": [],
   "source": [
    "\n",
    "def getlatlng_Gaode2(address):\n",
    "    ak='1c2682317206ccaa18ec2487bb45d880'\n",
    "    url=\"http://restapi.amap.com/v3/geocode/geo?key=%s&address=%s\"%(ak,address)\n",
    "    data=requests.get(url)\n",
    "    contest=data.json()\n",
    "#     contest=contest['geocodes'][0]['location']\n",
    "    return contest\n",
    "\n"
   ]
  },
  {
   "cell_type": "code",
   "execution_count": 9,
   "metadata": {},
   "outputs": [
    {
     "name": "stdout",
     "output_type": "stream",
     "text": [
      "总用时： 297.9120397567749\n"
     ]
    }
   ],
   "source": [
    "start_time = time.time()\n",
    "listA = []\n",
    "for b in df['导航地址']:\n",
    "#     print(b)\n",
    "    dictA = {}\n",
    "    try:\n",
    "        temp=getlatlng_Gaode2(b)\n",
    "    except HTTPError as e:\n",
    "        print(\"请求出错\")\n",
    "        pass\n",
    "    else:    \n",
    "        if ('geocodes' in temp):\n",
    "            dictA[\"re_location_gaode\"] = temp['geocodes'][0]['location']\n",
    "            dictA[\"re_formatted_address_gaode\"] = temp['geocodes'][0]['formatted_address']\n",
    "            dictA[\"re_province_gaode\"] = temp['geocodes'][0]['province']\n",
    "            dictA[\"re_country_gaode\"] = temp['geocodes'][0]['country']\n",
    "            if ('citycode' in temp):\n",
    "                dictA[\"re_citycode_gaode\"] = temp['geocodes'][0]['citycode']\n",
    "            else:\n",
    "                pass\n",
    "            dictA[\"re_city_gaode\"] = temp['geocodes'][0]['city']\n",
    "            dictA[\"re_district_gaode\"] = temp['geocodes'][0]['district']\n",
    "            dictA[\"re_level_gaode\"] = temp['geocodes'][0]['level']\n",
    "            dictA[\"re_township_gaode\"] = temp['geocodes'][0]['township']\n",
    "            dictA[\"re_adcode_gaode\"] = temp['geocodes'][0]['adcode']\n",
    "            dictA[\"re_street_gaode\"] = temp['geocodes'][0]['street']\n",
    "            dictA[\"re_number_gaode\"] = temp['geocodes'][0]['number']\n",
    "        else:\n",
    "            pass\n",
    "    listA.append(dictA)\n",
    "#     time.sleep(1)\n",
    "end_time = time.time()\n",
    "print(\"总用时：\",end_time-start_time)"
   ]
  },
  {
   "cell_type": "code",
   "execution_count": 10,
   "metadata": {},
   "outputs": [
    {
     "data": {
      "text/plain": [
       "[{'re_location_gaode': '120.346846,30.165910',\n",
       "  're_formatted_address_gaode': '浙江省杭州市萧山区楼下陈村|171号',\n",
       "  're_province_gaode': '浙江省',\n",
       "  're_country_gaode': '中国',\n",
       "  're_city_gaode': '杭州市',\n",
       "  're_district_gaode': '萧山区',\n",
       "  're_level_gaode': '门牌号',\n",
       "  're_township_gaode': [],\n",
       "  're_adcode_gaode': '330109',\n",
       "  're_street_gaode': [],\n",
       "  're_number_gaode': []},\n",
       " {'re_location_gaode': '119.944750,30.052360',\n",
       "  're_formatted_address_gaode': '浙江省杭州市富阳区后拔路|99',\n",
       "  're_province_gaode': '浙江省',\n",
       "  're_country_gaode': '中国',\n",
       "  're_city_gaode': '杭州市',\n",
       "  're_district_gaode': '富阳区',\n",
       "  're_level_gaode': '门牌号',\n",
       "  're_township_gaode': [],\n",
       "  're_adcode_gaode': '330111',\n",
       "  're_street_gaode': '后拔路',\n",
       "  're_number_gaode': '99'},\n",
       " {'re_location_gaode': '120.363146,27.686364',\n",
       "  're_formatted_address_gaode': '浙江省温州市平阳县凤兴东路|5',\n",
       "  're_province_gaode': '浙江省',\n",
       "  're_country_gaode': '中国',\n",
       "  're_city_gaode': '温州市',\n",
       "  're_district_gaode': '平阳县',\n",
       "  're_level_gaode': '门牌号',\n",
       "  're_township_gaode': [],\n",
       "  're_adcode_gaode': '330326',\n",
       "  're_street_gaode': '凤兴东路',\n",
       "  're_number_gaode': '5'}]"
      ]
     },
     "execution_count": 10,
     "metadata": {},
     "output_type": "execute_result"
    }
   ],
   "source": [
    "listA[0:3]"
   ]
  },
  {
   "cell_type": "code",
   "execution_count": 11,
   "metadata": {},
   "outputs": [],
   "source": [
    "df_A = pd.DataFrame(listA)"
   ]
  },
  {
   "cell_type": "code",
   "execution_count": 12,
   "metadata": {},
   "outputs": [],
   "source": [
    "df_all = pd.concat([df,df_A],axis=1)"
   ]
  },
  {
   "cell_type": "code",
   "execution_count": 13,
   "metadata": {},
   "outputs": [
    {
     "data": {
      "text/plain": [
       "Index(['订单编号', '导航地址', '物流单号', '收货地址', 'site_Lat_gaode', 'site_Lng_gaode',\n",
       "       'siteAddress_all', 'siteName', '物流签收时间', '最后送达时间', 'siteLocation_gaode',\n",
       "       're_adcode_gaode', 're_city_gaode', 're_country_gaode',\n",
       "       're_district_gaode', 're_formatted_address_gaode', 're_level_gaode',\n",
       "       're_location_gaode', 're_number_gaode', 're_province_gaode',\n",
       "       're_street_gaode', 're_township_gaode'],\n",
       "      dtype='object')"
      ]
     },
     "execution_count": 13,
     "metadata": {},
     "output_type": "execute_result"
    }
   ],
   "source": [
    "df_all.columns"
   ]
  },
  {
   "cell_type": "code",
   "execution_count": 14,
   "metadata": {
    "scrolled": true
   },
   "outputs": [
    {
     "data": {
      "text/plain": [
       "0    120.346846,30.165910\n",
       "1    119.944750,30.052360\n",
       "2    120.363146,27.686364\n",
       "3    120.785783,30.731320\n",
       "4    120.014617,30.204623\n",
       "5    120.150896,30.171215\n",
       "6    120.696338,27.746587\n",
       "7    120.102000,27.792423\n",
       "8    121.189801,28.750231\n",
       "9    121.178798,28.793907\n",
       "Name: re_location_gaode, dtype: object"
      ]
     },
     "execution_count": 14,
     "metadata": {},
     "output_type": "execute_result"
    }
   ],
   "source": [
    "df_all[\"re_location_gaode\"][0:10]"
   ]
  },
  {
   "cell_type": "code",
   "execution_count": 15,
   "metadata": {},
   "outputs": [],
   "source": [
    "df_all['re_location_gaode'] = df_all['re_location_gaode'].map(lambda x:str(x))"
   ]
  },
  {
   "cell_type": "code",
   "execution_count": 16,
   "metadata": {},
   "outputs": [],
   "source": [
    "split = pd.DataFrame((x.split(',') for x in df_all['re_location_gaode']), index=df_all.index, columns=['re_Lng_gaode','re_Lat_gaode'])\n",
    "df_allA = pd.merge(df_all,split,left_index=True,right_index=True)"
   ]
  },
  {
   "cell_type": "code",
   "execution_count": 17,
   "metadata": {},
   "outputs": [
    {
     "name": "stdout",
     "output_type": "stream",
     "text": [
      "df_A:5250\n",
      "df:5250\n",
      "df_all:5250\n",
      "df_allA:5250\n"
     ]
    }
   ],
   "source": [
    "print(\"df_A:{}\".format(df_A.shape[0]))\n",
    "print(\"df:{}\".format(df.shape[0]))\n",
    "print(\"df_all:{}\".format(df_all.shape[0]))\n",
    "print(\"df_allA:{}\".format(df_allA.shape[0]))"
   ]
  },
  {
   "cell_type": "code",
   "execution_count": 18,
   "metadata": {},
   "outputs": [
    {
     "data": {
      "text/plain": [
       "(5250, 24)"
      ]
     },
     "execution_count": 18,
     "metadata": {},
     "output_type": "execute_result"
    }
   ],
   "source": [
    "df_allA.shape"
   ]
  },
  {
   "cell_type": "code",
   "execution_count": 19,
   "metadata": {},
   "outputs": [],
   "source": [
    "outpath = r\"G:/work/logistica/info/distance/\"\n",
    "name_UTF8 = \"JD_ZJreceiving_lnglat_gaode.csv\"\n",
    "name_ANSI = \"JD_ZJreceiving_lnglat_gaode.xlsx\""
   ]
  },
  {
   "cell_type": "code",
   "execution_count": 20,
   "metadata": {},
   "outputs": [],
   "source": [
    "df_allA.to_excel(outpath + name_ANSI, index=False)\n",
    "df_allA.to_csv(outpath + name_UTF8, index=False)"
   ]
  },
  {
   "cell_type": "code",
   "execution_count": null,
   "metadata": {},
   "outputs": [],
   "source": []
  }
 ],
 "metadata": {
  "kernelspec": {
   "display_name": "Python 3",
   "language": "python",
   "name": "python3"
  },
  "language_info": {
   "codemirror_mode": {
    "name": "ipython",
    "version": 3
   },
   "file_extension": ".py",
   "mimetype": "text/x-python",
   "name": "python",
   "nbconvert_exporter": "python",
   "pygments_lexer": "ipython3",
   "version": "3.6.6"
  }
 },
 "nbformat": 4,
 "nbformat_minor": 2
}
