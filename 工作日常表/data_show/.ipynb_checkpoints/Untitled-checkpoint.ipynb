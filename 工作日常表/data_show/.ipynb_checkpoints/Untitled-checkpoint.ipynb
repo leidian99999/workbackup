{
 "cells": [
  {
   "cell_type": "code",
   "execution_count": 20,
   "metadata": {},
   "outputs": [],
   "source": [
    "from os import walk\n",
    "import pandas as pd\n",
    "import datetime\n",
    "import time"
   ]
  },
  {
   "cell_type": "code",
   "execution_count": 8,
   "metadata": {},
   "outputs": [],
   "source": [
    "inputPath = \"F:/temp/190611/6.6数据展示/3日 7日前Ctrl189导出/\""
   ]
  },
  {
   "cell_type": "code",
   "execution_count": 9,
   "metadata": {},
   "outputs": [
    {
     "name": "stdout",
     "output_type": "stream",
     "text": [
      "['订单查询（分地市）(1).xlsx', '订单查询（分地市）(2).xlsx', '订单查询（分地市）(3).xlsx', '订单查询（分地市）(4).xlsx', '订单查询（分地市）(5).xlsx', '订单查询（分地市）(6).xlsx', '订单查询（分地市）(7).xlsx', '订单查询（分地市）.xlsx']\n"
     ]
    }
   ],
   "source": [
    "for root,dirs,files_3ri in walk(inputPath + \"\",topdown=False):\n",
    "    print(files_3ri)\n",
    "num_3ri = len(files_3ri)\n",
    "df1_3ri = pd.DataFrame()\n",
    "for i in range(num_3ri):\n",
    "    newdata_3ri = pd.read_excel(inputPath + '%s'%files_3ri[i])\n",
    "    df1_3ri = df1_3ri.append(newdata_3ri) # 189"
   ]
  },
  {
   "cell_type": "code",
   "execution_count": 13,
   "metadata": {},
   "outputs": [],
   "source": [
    "split1 = pd.DataFrame((x.split(' ') for x in df1_3ri['订单生成时间']),index=df1_3ri.index,columns=['订单生成日期','订单生成小时'])\n",
    "df1_3ri = pd.merge(df1_3ri, split1, left_index=True, right_index=True)"
   ]
  },
  {
   "cell_type": "code",
   "execution_count": 15,
   "metadata": {},
   "outputs": [
    {
     "data": {
      "text/plain": [
       "2019-06-03    160750\n",
       "2019-05-30    150816\n",
       "Name: 订单生成日期, dtype: int64"
      ]
     },
     "execution_count": 15,
     "metadata": {},
     "output_type": "execute_result"
    }
   ],
   "source": [
    "df1_3ri[\"订单生成日期\"].value_counts()"
   ]
  },
  {
   "cell_type": "code",
   "execution_count": null,
   "metadata": {},
   "outputs": [],
   "source": []
  }
 ],
 "metadata": {
  "kernelspec": {
   "display_name": "Python 3",
   "language": "python",
   "name": "python3"
  },
  "language_info": {
   "codemirror_mode": {
    "name": "ipython",
    "version": 3
   },
   "file_extension": ".py",
   "mimetype": "text/x-python",
   "name": "python",
   "nbconvert_exporter": "python",
   "pygments_lexer": "ipython3",
   "version": "3.6.6"
  }
 },
 "nbformat": 4,
 "nbformat_minor": 2
}
