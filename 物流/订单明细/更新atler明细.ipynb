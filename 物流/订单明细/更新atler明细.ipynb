{
 "cells": [
  {
   "cell_type": "code",
   "execution_count": 1,
   "metadata": {},
   "outputs": [],
   "source": [
    "import pandas as pd"
   ]
  },
  {
   "cell_type": "code",
   "execution_count": 2,
   "metadata": {
    "scrolled": false
   },
   "outputs": [
    {
     "name": "stderr",
     "output_type": "stream",
     "text": [
      "d:\\python\\envs\\jupyterpy36\\lib\\site-packages\\ipykernel_launcher.py:1: ParserWarning: Falling back to the 'python' engine because the 'c' engine does not support sep=None with delim_whitespace=False; you can avoid this warning by specifying engine='python'.\n",
      "  \"\"\"Entry point for launching an IPython kernel.\n"
     ]
    }
   ],
   "source": [
    "data = pd.read_csv(r\"G:\\work\\basic\\csv\\1902_info.csv\",sep = None,encoding='utf8')"
   ]
  },
  {
   "cell_type": "code",
   "execution_count": 3,
   "metadata": {
    "scrolled": true
   },
   "outputs": [
    {
     "data": {
      "text/plain": [
       "Index(['Unnamed: 0', '订单编号', '原始订单', '订单类型', '订单状态', '订单子状态', '取消原因', '订单挂起原因',\n",
       "       '安装失败原因', '订单来源',\n",
       "       ...\n",
       "       '月拦截量', '所属省', '所属市', '产品分类', '激活时效', '性别', '签收时效', '交付时效', '年龄',\n",
       "       '配送时效'],\n",
       "      dtype='object', length=109)"
      ]
     },
     "execution_count": 3,
     "metadata": {},
     "output_type": "execute_result"
    }
   ],
   "source": [
    "data.columns"
   ]
  },
  {
   "cell_type": "code",
   "execution_count": 4,
   "metadata": {},
   "outputs": [
    {
     "data": {
      "text/plain": [
       "(521246, 109)"
      ]
     },
     "execution_count": 4,
     "metadata": {},
     "output_type": "execute_result"
    }
   ],
   "source": [
    "data.shape"
   ]
  },
  {
   "cell_type": "markdown",
   "metadata": {},
   "source": [
    "### 删除合表表头"
   ]
  },
  {
   "cell_type": "code",
   "execution_count": 5,
   "metadata": {},
   "outputs": [],
   "source": [
    "data = data[data[\"号码归属地\"].str.contains('号码归属地') == False]"
   ]
  },
  {
   "cell_type": "code",
   "execution_count": 6,
   "metadata": {},
   "outputs": [
    {
     "data": {
      "text/plain": [
       "(521246, 109)"
      ]
     },
     "execution_count": 6,
     "metadata": {},
     "output_type": "execute_result"
    }
   ],
   "source": [
    "data.shape"
   ]
  },
  {
   "cell_type": "code",
   "execution_count": 7,
   "metadata": {},
   "outputs": [],
   "source": [
    "df = data[[ '订单编号', '订单状态','订单子状态', '订单挂起原因', '安装失败原因', '订单来源', '店铺', '订单金额',\n",
    "       '订单生成时间', '交易完成时间', '发货时间', '物流单回填时间', '入网用户姓名', '入网身份证号', '入网手机号',\n",
    "       '收货人姓名', '收货地址', '收货人电话号码', '邮编', '所在省 / 市 / 县', '号码归属地', 'CPS推荐人',\n",
    "       '订单备注', '物流单号', '物流签收时间', '承运商', '大小卡类型', '写卡渠道', '销售品编号', '销售品名称',\n",
    "       '销售品类型', '套餐', '主号码', '副号码', '现金预存款', '靓号低消', '靓号等级', '靓号预存款',\n",
    "       '营业厅送货方式', '是否线下模式', '是否线下转线上', '线下转线上原因', '营业厅送货iccid','京东不可达原因']]"
   ]
  },
  {
   "cell_type": "code",
   "execution_count": 8,
   "metadata": {},
   "outputs": [
    {
     "data": {
      "text/plain": [
       "(521246, 44)"
      ]
     },
     "execution_count": 8,
     "metadata": {},
     "output_type": "execute_result"
    }
   ],
   "source": [
    "df.shape"
   ]
  },
  {
   "cell_type": "markdown",
   "metadata": {},
   "source": [
    "### 所在省/市/县/=\"//\"的删除"
   ]
  },
  {
   "cell_type": "code",
   "execution_count": 9,
   "metadata": {},
   "outputs": [
    {
     "data": {
      "text/plain": [
       "北京/北京市/海淀区               5214\n",
       "北京/北京市/朝阳区               4343\n",
       "广东/深圳市/宝安区               3912\n",
       "广东/东莞市/东莞市               3497\n",
       "上海/上海市/浦东新区              3243\n",
       "广东/广州市/白云区               2849\n",
       "北京/北京市/丰台区               2809\n",
       "广东/深圳市/龙岗区               2589\n",
       "北京/北京市/大兴区               2473\n",
       "广东/广州市/天河区               2285\n",
       "北京/北京市/昌平区               2191\n",
       "湖北/武汉市/洪山区               2189\n",
       "广东/佛山市/南海区               2136\n",
       "广东/广州市/番禺区               1883\n",
       "广东/佛山市/顺德区               1729\n",
       "广东/深圳市/南山区               1501\n",
       "陕西/西安市/雁塔区               1499\n",
       "上海/上海市/闵行区               1497\n",
       "江苏/苏州市/昆山市               1472\n",
       "湖南/长沙市/岳麓区               1465\n",
       "广东/惠州市/惠城区               1433\n",
       "广东/中山市/中山市               1376\n",
       "广东/深圳市/龙华新区              1370\n",
       "北京/北京市/西城区               1353\n",
       "北京/北京市/通州区               1317\n",
       "北京/北京市/东城区               1296\n",
       "陕西/西安市/未央区               1270\n",
       "广东/广州市/海珠区               1269\n",
       "湖北/武汉市/江夏区               1230\n",
       "陕西/汉中市/汉台区               1211\n",
       "                         ... \n",
       "海南/三亚市/南滨农场                 1\n",
       "内蒙古自治区/乌兰察布市/集宁区            1\n",
       "黑龙江省/鸡西市/密山市                1\n",
       "江西省/吉安市/永丰县                 1\n",
       "贵州省/遵义市/凤冈县                 1\n",
       "湖北省/荆门市/京山县                 1\n",
       "新疆维吾尔自治区/伊犁哈萨克自治州/奎屯市       1\n",
       "海南/昌江黎族自治县/十月田镇             1\n",
       "天津/天津市/静海区                  1\n",
       "安徽省/阜阳市/太和县                 1\n",
       "海南/临高县/调楼镇                  1\n",
       "河北省/廊坊市/安次区                 1\n",
       "山西省/大同市/大同县                 1\n",
       "云南省/保山市/隆阳区                 1\n",
       "河南/济源市/邵原镇                  1\n",
       "西藏/山南地区/墨竹工卡县               1\n",
       "甘肃省/白银市/靖远县                 1\n",
       "海南/屯昌县/西昌镇                  1\n",
       "浙江省/丽水市/莲都区                 1\n",
       "广东/阳江市/西城区                  1\n",
       "陕西省/汉中市/城固县                 1\n",
       "山东省/威海市/文登区                 1\n",
       "山东省/德州市/齐河县                 1\n",
       "云南省/文山壮族苗族自治州/麻栗坡县          1\n",
       "江苏省/南京市/白下区                 1\n",
       "辽宁省/鞍山市/立山区                 1\n",
       "江西省/宜春市/樟树市                 1\n",
       "福建省/漳州市/长泰县                 1\n",
       "山东省/聊城市/高唐县                 1\n",
       "海南省/三亚市/天涯区                 1\n",
       "Name: 所在省 / 市 / 县, Length: 4589, dtype: int64"
      ]
     },
     "execution_count": 9,
     "metadata": {},
     "output_type": "execute_result"
    }
   ],
   "source": [
    "df[\"所在省 / 市 / 县\"].value_counts()"
   ]
  },
  {
   "cell_type": "code",
   "execution_count": 10,
   "metadata": {},
   "outputs": [],
   "source": [
    "# 去“//”\n",
    "df = df[df[\"所在省 / 市 / 县\"].str.contains(\"^//$\",regex=True) == False]"
   ]
  },
  {
   "cell_type": "code",
   "execution_count": 11,
   "metadata": {},
   "outputs": [
    {
     "data": {
      "text/plain": [
       "北京/北京市/海淀区               5214\n",
       "北京/北京市/朝阳区               4343\n",
       "广东/深圳市/宝安区               3912\n",
       "广东/东莞市/东莞市               3497\n",
       "上海/上海市/浦东新区              3243\n",
       "广东/广州市/白云区               2849\n",
       "北京/北京市/丰台区               2809\n",
       "广东/深圳市/龙岗区               2589\n",
       "北京/北京市/大兴区               2473\n",
       "广东/广州市/天河区               2285\n",
       "北京/北京市/昌平区               2191\n",
       "湖北/武汉市/洪山区               2189\n",
       "广东/佛山市/南海区               2136\n",
       "广东/广州市/番禺区               1883\n",
       "广东/佛山市/顺德区               1729\n",
       "广东/深圳市/南山区               1501\n",
       "陕西/西安市/雁塔区               1499\n",
       "上海/上海市/闵行区               1497\n",
       "江苏/苏州市/昆山市               1472\n",
       "湖南/长沙市/岳麓区               1465\n",
       "广东/惠州市/惠城区               1433\n",
       "广东/中山市/中山市               1376\n",
       "广东/深圳市/龙华新区              1370\n",
       "北京/北京市/西城区               1353\n",
       "北京/北京市/通州区               1317\n",
       "北京/北京市/东城区               1296\n",
       "陕西/西安市/未央区               1270\n",
       "广东/广州市/海珠区               1269\n",
       "湖北/武汉市/江夏区               1230\n",
       "陕西/汉中市/汉台区               1211\n",
       "                         ... \n",
       "海南/三亚市/南滨农场                 1\n",
       "内蒙古自治区/乌兰察布市/集宁区            1\n",
       "黑龙江省/鸡西市/密山市                1\n",
       "江西省/吉安市/永丰县                 1\n",
       "贵州省/遵义市/凤冈县                 1\n",
       "湖北省/荆门市/京山县                 1\n",
       "新疆维吾尔自治区/伊犁哈萨克自治州/奎屯市       1\n",
       "海南/昌江黎族自治县/十月田镇             1\n",
       "天津/天津市/静海区                  1\n",
       "安徽省/阜阳市/太和县                 1\n",
       "海南/临高县/调楼镇                  1\n",
       "河北省/廊坊市/安次区                 1\n",
       "山西省/大同市/大同县                 1\n",
       "云南省/保山市/隆阳区                 1\n",
       "河南/济源市/邵原镇                  1\n",
       "西藏/山南地区/墨竹工卡县               1\n",
       "甘肃省/白银市/靖远县                 1\n",
       "海南/屯昌县/西昌镇                  1\n",
       "浙江省/丽水市/莲都区                 1\n",
       "广东/阳江市/西城区                  1\n",
       "陕西省/汉中市/城固县                 1\n",
       "山东省/威海市/文登区                 1\n",
       "山东省/德州市/齐河县                 1\n",
       "云南省/文山壮族苗族自治州/麻栗坡县          1\n",
       "江苏省/南京市/白下区                 1\n",
       "辽宁省/鞍山市/立山区                 1\n",
       "江西省/宜春市/樟树市                 1\n",
       "福建省/漳州市/长泰县                 1\n",
       "山东省/聊城市/高唐县                 1\n",
       "海南省/三亚市/天涯区                 1\n",
       "Name: 所在省 / 市 / 县, Length: 4589, dtype: int64"
      ]
     },
     "execution_count": 11,
     "metadata": {},
     "output_type": "execute_result"
    }
   ],
   "source": [
    "df[\"所在省 / 市 / 县\"].value_counts()"
   ]
  },
  {
   "cell_type": "markdown",
   "metadata": {},
   "source": [
    "### 统一所在省"
   ]
  },
  {
   "cell_type": "code",
   "execution_count": 12,
   "metadata": {},
   "outputs": [],
   "source": [
    "split = pd.DataFrame((x.split('/') for x in df['所在省 / 市 / 县']), index=df.index, columns=['所在省','所在市','所在县'])\n",
    "df = pd.merge(df,split,left_index=True,right_index=True)"
   ]
  },
  {
   "cell_type": "code",
   "execution_count": 13,
   "metadata": {},
   "outputs": [],
   "source": [
    "# 统一所在省\n",
    "dict_province = {'焦作市':'河南','河南省':'河南','河北省':'河北','贵州省':'贵州','湖南省':'湖南','广东省':'广东','江苏省':'江苏','山西省':'山西',\n",
    "    '吉林省':'吉林','山东省':'山东','广西壮族自治区':'广西','湖北省':'湖北','陕西省':'陕西','浙江省':'浙江','福建省':'福建',\n",
    "    '内蒙古自治区':'内蒙古','云南省':'云南','辽宁省':'辽宁','江西省':'江西','四川省':'四川','黑龙江省':'黑龙江','安徽省':'安徽',\n",
    "    '甘肃省':'甘肃','西藏自治区':'西藏','青海省':'青海','宁夏回族自治区':'宁夏',\n",
    "    '海南省':'海南','六安市':'安徽','东莞市':'广东','新疆维吾尔自治区':'新疆'}\n",
    "df = df.replace(dict_province)"
   ]
  },
  {
   "cell_type": "code",
   "execution_count": 14,
   "metadata": {},
   "outputs": [
    {
     "data": {
      "text/plain": [
       "广东     72664\n",
       "山东     39506\n",
       "河南     35192\n",
       "湖南     27452\n",
       "江苏     27396\n",
       "河北     25568\n",
       "湖北     24799\n",
       "北京     24528\n",
       "四川     22100\n",
       "浙江     19255\n",
       "陕西     18318\n",
       "云南     15882\n",
       "广西     15833\n",
       "辽宁     15723\n",
       "上海     13618\n",
       "山西     12351\n",
       "安徽     12160\n",
       "贵州     11918\n",
       "黑龙江    11559\n",
       "福建     11131\n",
       "江西     10745\n",
       "内蒙古     9888\n",
       "吉林      9370\n",
       "甘肃      8703\n",
       "重庆      8105\n",
       "天津      4856\n",
       "新疆      4505\n",
       "宁夏      3091\n",
       "海南      2513\n",
       "青海      1748\n",
       "西藏       769\n",
       "Name: 所在省, dtype: int64"
      ]
     },
     "execution_count": 14,
     "metadata": {},
     "output_type": "execute_result"
    }
   ],
   "source": [
    "df[\"所在省\"].value_counts()"
   ]
  },
  {
   "cell_type": "markdown",
   "metadata": {},
   "source": [
    "### 号码归属地=\"/\"的删除"
   ]
  },
  {
   "cell_type": "code",
   "execution_count": 15,
   "metadata": {},
   "outputs": [
    {
     "data": {
      "text/plain": [
       "北京/市辖区                  43208\n",
       "广东省/广州市                 14856\n",
       "上海市/市辖区                 14810\n",
       "广东省/深圳市                 12311\n",
       "湖北省/武汉市                  9181\n",
       "陕西省/西安市                  9141\n",
       "四川省/成都市                  8930\n",
       "重庆市/市辖区                  8111\n",
       "广东省/东莞市                  7690\n",
       "湖南省/长沙市                  7086\n",
       "浙江省/杭州市                  6441\n",
       "河南省/郑州市                  6419\n",
       "江苏省/苏州市                  5185\n",
       "河北省/石家庄市                 4863\n",
       "山东省/青岛市                  4843\n",
       "天津市/市辖区                  4823\n",
       "广东省/佛山市                  4767\n",
       "云南省/昆明市                  4565\n",
       "山东省/济南市                  4210\n",
       "辽宁省/沈阳市                  4164\n",
       "黑龙江省/哈尔滨市                4160\n",
       "吉林省/长春市                  3877\n",
       "江苏省/南京市                  3659\n",
       "山东省/临沂市                  3645\n",
       "安徽省/合肥市                  3584\n",
       "广西壮族自治区/南宁市              3416\n",
       "广东省/惠州市                  3326\n",
       "山东省/潍坊市                  3249\n",
       "河北省/保定市                  3144\n",
       "河北省/邯郸市                  3073\n",
       "                        ...  \n",
       "云南省/怒江傈僳族自治州              150\n",
       "内蒙古自治区/阿拉善盟               147\n",
       "新疆维吾尔自治区/和田地区             144\n",
       "新疆维吾尔自治区/哈密地区             142\n",
       "新疆维吾尔自治区/克拉玛依市            140\n",
       "新疆维吾尔自治区/塔城地区             137\n",
       "青海省/海西蒙古族藏族自治州            126\n",
       "甘肃省/嘉峪关市                  126\n",
       "四川省/阿坝藏族羌族自治州             123\n",
       "新疆维吾尔自治区/博尔塔拉蒙古自治州        121\n",
       "黑龙江省/大兴安岭地区               107\n",
       "新疆维吾尔自治区/吐鲁番地区             99\n",
       "新疆维吾尔自治区/阿勒泰地区             97\n",
       "西藏自治区/日喀则地区                96\n",
       "河南省/济源市                    90\n",
       "云南省/迪庆藏族自治州                90\n",
       "青海省/海南藏族自治州                80\n",
       "西藏自治区/林芝地区                 75\n",
       "西藏自治区/山南地区                 67\n",
       "新疆维吾尔自治区/克孜勒苏柯尔克孜自治州       66\n",
       "新疆维吾尔自治区/奎屯市               64\n",
       "青海省/玉树藏族自治州                61\n",
       "青海省/海北藏族自治州                56\n",
       "西藏自治区/昌都地区                 52\n",
       "青海省/格尔木市                   50\n",
       "青海省/黄南藏族自治州                50\n",
       "湖北省/林区（神农架）                30\n",
       "西藏自治区/阿里地区                 29\n",
       "西藏自治区/那曲地区                 28\n",
       "青海省/果洛藏族自治州                16\n",
       "Name: 号码归属地, Length: 343, dtype: int64"
      ]
     },
     "execution_count": 15,
     "metadata": {},
     "output_type": "execute_result"
    }
   ],
   "source": [
    "df[\"号码归属地\"].value_counts()"
   ]
  },
  {
   "cell_type": "code",
   "execution_count": 16,
   "metadata": {},
   "outputs": [],
   "source": [
    "df = df[df[\"号码归属地\"].str.contains(\"^/$\",regex=True) == False]"
   ]
  },
  {
   "cell_type": "code",
   "execution_count": 17,
   "metadata": {},
   "outputs": [],
   "source": [
    "split1 = pd.DataFrame((x.split('/') for x in df['号码归属地']), index=df.index, columns=['号码归属省','号码归属市'])\n",
    "df = pd.merge(df,split1,left_index=True,right_index=True)"
   ]
  },
  {
   "cell_type": "code",
   "execution_count": 18,
   "metadata": {},
   "outputs": [
    {
     "data": {
      "text/plain": [
       "北京/市辖区                  43208\n",
       "广东省/广州市                 14856\n",
       "上海市/市辖区                 14810\n",
       "广东省/深圳市                 12311\n",
       "湖北省/武汉市                  9181\n",
       "陕西省/西安市                  9141\n",
       "四川省/成都市                  8930\n",
       "重庆市/市辖区                  8111\n",
       "广东省/东莞市                  7690\n",
       "湖南省/长沙市                  7086\n",
       "浙江省/杭州市                  6441\n",
       "河南省/郑州市                  6419\n",
       "江苏省/苏州市                  5185\n",
       "河北省/石家庄市                 4863\n",
       "山东省/青岛市                  4843\n",
       "天津市/市辖区                  4823\n",
       "广东省/佛山市                  4767\n",
       "云南省/昆明市                  4565\n",
       "山东省/济南市                  4210\n",
       "辽宁省/沈阳市                  4164\n",
       "黑龙江省/哈尔滨市                4160\n",
       "吉林省/长春市                  3877\n",
       "江苏省/南京市                  3659\n",
       "山东省/临沂市                  3645\n",
       "安徽省/合肥市                  3584\n",
       "广西壮族自治区/南宁市              3416\n",
       "广东省/惠州市                  3326\n",
       "山东省/潍坊市                  3249\n",
       "河北省/保定市                  3144\n",
       "河北省/邯郸市                  3073\n",
       "                        ...  \n",
       "云南省/怒江傈僳族自治州              150\n",
       "内蒙古自治区/阿拉善盟               147\n",
       "新疆维吾尔自治区/和田地区             144\n",
       "新疆维吾尔自治区/哈密地区             142\n",
       "新疆维吾尔自治区/克拉玛依市            140\n",
       "新疆维吾尔自治区/塔城地区             137\n",
       "青海省/海西蒙古族藏族自治州            126\n",
       "甘肃省/嘉峪关市                  126\n",
       "四川省/阿坝藏族羌族自治州             123\n",
       "新疆维吾尔自治区/博尔塔拉蒙古自治州        121\n",
       "黑龙江省/大兴安岭地区               107\n",
       "新疆维吾尔自治区/吐鲁番地区             99\n",
       "新疆维吾尔自治区/阿勒泰地区             97\n",
       "西藏自治区/日喀则地区                96\n",
       "河南省/济源市                    90\n",
       "云南省/迪庆藏族自治州                90\n",
       "青海省/海南藏族自治州                80\n",
       "西藏自治区/林芝地区                 75\n",
       "西藏自治区/山南地区                 67\n",
       "新疆维吾尔自治区/克孜勒苏柯尔克孜自治州       66\n",
       "新疆维吾尔自治区/奎屯市               64\n",
       "青海省/玉树藏族自治州                61\n",
       "青海省/海北藏族自治州                56\n",
       "西藏自治区/昌都地区                 52\n",
       "青海省/格尔木市                   50\n",
       "青海省/黄南藏族自治州                50\n",
       "湖北省/林区（神农架）                30\n",
       "西藏自治区/阿里地区                 29\n",
       "西藏自治区/那曲地区                 28\n",
       "青海省/果洛藏族自治州                16\n",
       "Name: 号码归属地, Length: 343, dtype: int64"
      ]
     },
     "execution_count": 18,
     "metadata": {},
     "output_type": "execute_result"
    }
   ],
   "source": [
    "df[\"号码归属地\"].value_counts()"
   ]
  },
  {
   "cell_type": "markdown",
   "metadata": {},
   "source": [
    "### 订单状态办理类的行删除"
   ]
  },
  {
   "cell_type": "code",
   "execution_count": 19,
   "metadata": {},
   "outputs": [],
   "source": [
    "df = df[df[\"订单状态\"].str.contains(\"办理\") == False]"
   ]
  },
  {
   "cell_type": "code",
   "execution_count": 20,
   "metadata": {},
   "outputs": [
    {
     "data": {
      "text/plain": [
       "交易完成        251681\n",
       "订单关闭        175427\n",
       "订单退回待关闭      44765\n",
       "已发货          35262\n",
       "拆机中           7995\n",
       "退款成功          2806\n",
       "已取消            983\n",
       "身份信息审核失败       579\n",
       "开始备货           458\n",
       "系统审核订单         444\n",
       "订单信息审核失败       334\n",
       "激活失败            60\n",
       "撤单成功            50\n",
       "订单失效            13\n",
       "激活中             12\n",
       "已拒收             10\n",
       "退款中             10\n",
       "退款审核中            7\n",
       "支付成功             5\n",
       "订单生成等待上传         4\n",
       "身份信息审核成功         3\n",
       "退款失败             2\n",
       "身份初审失败           2\n",
       "Name: 订单状态, dtype: int64"
      ]
     },
     "execution_count": 20,
     "metadata": {},
     "output_type": "execute_result"
    }
   ],
   "source": [
    "df[\"订单状态\"].value_counts()"
   ]
  },
  {
   "cell_type": "markdown",
   "metadata": {},
   "source": [
    "### 收货地址去空"
   ]
  },
  {
   "cell_type": "code",
   "execution_count": 21,
   "metadata": {},
   "outputs": [
    {
     "data": {
      "text/plain": [
       "False    520906\n",
       "Name: 收货地址, dtype: int64"
      ]
     },
     "execution_count": 21,
     "metadata": {},
     "output_type": "execute_result"
    }
   ],
   "source": [
    "df[\"收货地址\"].isnull().value_counts()\n",
    "df = df.dropna(subset=[\"收货地址\"])\n",
    "df[\"收货地址\"].isnull().value_counts()"
   ]
  },
  {
   "cell_type": "markdown",
   "metadata": {},
   "source": [
    "### 统一承运商名称"
   ]
  },
  {
   "cell_type": "code",
   "execution_count": 22,
   "metadata": {},
   "outputs": [
    {
     "data": {
      "text/plain": [
       "京东线下                  258889\n",
       "EMS                    59367\n",
       "顺丰                     31971\n",
       "京东物流                   30887\n",
       "韵达                     13932\n",
       "中通                      9208\n",
       "宅急送                     2801\n",
       "??                      1757\n",
       "恒宇运通                     942\n",
       "圆通                       548\n",
       "营业厅送货                    536\n",
       "邮政包裹                     478\n",
       "其他                        87\n",
       "618000319001352960         5\n",
       "邮政物流                       4\n",
       "JDWL                       1\n",
       "Name: 承运商, dtype: int64"
      ]
     },
     "execution_count": 22,
     "metadata": {},
     "output_type": "execute_result"
    }
   ],
   "source": [
    "dict_carrier ={'ems':'EMS','邮政':'EMS','100000137':'圆通','ZHAIJISONG':'宅急送','jingdongwuliu':'京东物流','yunda':'韵达','shunfeng':'顺丰','EMS物流':'EMS'}\n",
    "df =df.replace(dict_carrier)\n",
    "df[\"承运商\"].value_counts()"
   ]
  },
  {
   "cell_type": "code",
   "execution_count": 23,
   "metadata": {},
   "outputs": [
    {
     "data": {
      "text/plain": [
       "0      东区街道火村丛秀街56号101号房\n",
       "1              王母渡镇王母渡中学\n",
       "2    中山园路建工村保障性住房12栋1105\n",
       "Name: 收货地址, dtype: object"
      ]
     },
     "execution_count": 23,
     "metadata": {},
     "output_type": "execute_result"
    }
   ],
   "source": [
    "df[\"收货地址\"][0:3]"
   ]
  },
  {
   "cell_type": "code",
   "execution_count": null,
   "metadata": {},
   "outputs": [],
   "source": []
  },
  {
   "cell_type": "code",
   "execution_count": null,
   "metadata": {},
   "outputs": [],
   "source": []
  },
  {
   "cell_type": "code",
   "execution_count": null,
   "metadata": {},
   "outputs": [],
   "source": []
  },
  {
   "cell_type": "code",
   "execution_count": null,
   "metadata": {},
   "outputs": [],
   "source": []
  },
  {
   "cell_type": "code",
   "execution_count": 25,
   "metadata": {},
   "outputs": [],
   "source": [
    "df.to_csv(r\"G:\\work\\basic\\alter\\1902_info_alter_gai.csv\",index=False)"
   ]
  },
  {
   "cell_type": "code",
   "execution_count": null,
   "metadata": {},
   "outputs": [],
   "source": []
  },
  {
   "cell_type": "code",
   "execution_count": null,
   "metadata": {},
   "outputs": [],
   "source": []
  },
  {
   "cell_type": "code",
   "execution_count": null,
   "metadata": {},
   "outputs": [],
   "source": []
  }
 ],
 "metadata": {
  "kernelspec": {
   "display_name": "Python 3",
   "language": "python",
   "name": "python3"
  },
  "language_info": {
   "codemirror_mode": {
    "name": "ipython",
    "version": 3
   },
   "file_extension": ".py",
   "mimetype": "text/x-python",
   "name": "python",
   "nbconvert_exporter": "python",
   "pygments_lexer": "ipython3",
   "version": "3.6.6"
  }
 },
 "nbformat": 4,
 "nbformat_minor": 2
}
