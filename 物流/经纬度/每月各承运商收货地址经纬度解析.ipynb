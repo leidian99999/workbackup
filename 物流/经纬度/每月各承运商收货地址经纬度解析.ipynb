{
 "cells": [
  {
   "cell_type": "code",
   "execution_count": 1,
   "metadata": {},
   "outputs": [],
   "source": [
    "import pandas as pd\n",
    "import requests\n",
    "from bs4 import BeautifulSoup\n",
    "import json\n",
    "import os\n",
    "from urllib.request import urlopen, quote,URLError, HTTPError\n",
    "import time"
   ]
  },
  {
   "cell_type": "code",
   "execution_count": 2,
   "metadata": {},
   "outputs": [],
   "source": [
    "# 解析高德地图API网址信息\n",
    "def get_latlng_gaode(address,ak):\n",
    "    ak= ak\n",
    "    url=\"http://restapi.amap.com/v3/geocode/geo?key=%s&address=%s\"%(ak,address)\n",
    "    data=requests.get(url)\n",
    "    contest=data.json()\n",
    "    return contest"
   ]
  },
  {
   "cell_type": "code",
   "execution_count": 3,
   "metadata": {},
   "outputs": [],
   "source": [
    "def get_receiver_lnglat_gaode(address):\n",
    "    start_time = time.time()\n",
    "    re_List_gaode = []\n",
    "    for b in address:\n",
    "#         print(b)\n",
    "        re_Dict_gaode = {}\n",
    "        try:\n",
    "            temp=get_latlng_gaode(b,ak_gaode)\n",
    "        except requests.exceptions.ConnectionError: # HTTPError\n",
    "            re_Dict_gaode[\"re_location_gaode\"] = \"请求出错\"         \n",
    "        else:\n",
    "            if ('geocodes' in temp):\n",
    "                re_Dict_gaode[\"re_location_gaode\"] = temp['geocodes'][0]['location']\n",
    "                re_Dict_gaode[\"re_formatted_address_gaode\"] = temp['geocodes'][0]['formatted_address']\n",
    "                re_Dict_gaode[\"re_province_gaode\"] = temp['geocodes'][0]['province']\n",
    "                re_Dict_gaode[\"re_country_gaode\"] = temp['geocodes'][0]['country']\n",
    "                re_Dict_gaode[\"re_city_gaode\"] = temp['geocodes'][0]['city']\n",
    "                re_Dict_gaode[\"re_district_gaode\"] = temp['geocodes'][0]['district']\n",
    "                re_Dict_gaode[\"re_level_gaode\"] = temp['geocodes'][0]['level']\n",
    "                re_Dict_gaode[\"re_township_gaode\"] = temp['geocodes'][0]['township']\n",
    "                re_Dict_gaode[\"re_adcode_gaode\"] = temp['geocodes'][0]['adcode']\n",
    "                re_Dict_gaode[\"re_street_gaode\"] = temp['geocodes'][0]['street']\n",
    "                re_Dict_gaode[\"re_number_gaode\"] = temp['geocodes'][0]['number']\n",
    "            else:\n",
    "                pass\n",
    "        re_List_gaode.append(re_Dict_gaode)\n",
    "    #     time.sleep(1)\n",
    "    end_time = time.time()\n",
    "    print(\"高德总用时：\",end_time-start_time)\n",
    "    return re_List_gaode"
   ]
  },
  {
   "cell_type": "code",
   "execution_count": 4,
   "metadata": {},
   "outputs": [],
   "source": [
    "def parse_gaode(df,address):\n",
    "    # 解析高德\n",
    "    list_gaode = get_receiver_lnglat_gaode(address)\n",
    "    # df化(高德)\n",
    "    df_gaode = pd.DataFrame(list_gaode)\n",
    "    data_gaode = pd.concat([df,df_gaode],axis=1)\n",
    "    print(\"data_gaode:\" + str(data_gaode.shape))\n",
    "    return data_gaode"
   ]
  },
  {
   "cell_type": "code",
   "execution_count": 5,
   "metadata": {},
   "outputs": [],
   "source": [
    "# 解析百度地图API网址信息\n",
    "def get_latlng_baidu(address,ak):\n",
    "    url = 'http://api.map.baidu.com/geocoder/v2/'\n",
    "    output = 'json'#输出数据的格式\n",
    "    ak = ak\n",
    "    add = quote(address) #由于本文地址变量为中文，为防止乱码，先用quote进行编码\n",
    "    uri = url + '?' + 'address=' + add  + '&output=' + output + '&ak=' + ak\n",
    "    req = urlopen(uri)\n",
    "    res = req.read().decode()\n",
    "    temp = json.loads(res)\n",
    "    return temp"
   ]
  },
  {
   "cell_type": "code",
   "execution_count": 6,
   "metadata": {},
   "outputs": [],
   "source": [
    "# 获取百度地图API地址信息\n",
    "def get_receiver_lnglat_baidu(address):\n",
    "    start_time = time.time()\n",
    "    re_List_baidu = []\n",
    "    for b in address:\n",
    "#         print(b)\n",
    "        re_Dict_baidu = {}\n",
    "        try:\n",
    "            temp = get_latlng_baidu(b,ak_baidu)\n",
    "        except HTTPError as e:\n",
    "            print(\"请求出错\")\n",
    "            pass\n",
    "        else:\n",
    "            if ('result' in temp):\n",
    "                re_Dict_baidu[\"re_Lng_baidu\"] = temp['result']['location']['lng']\n",
    "                re_Dict_baidu[\"re_Lat_baidu\"] = temp['result']['location']['lat']\n",
    "                re_Dict_baidu[\"re_Precise_baidu\"] = temp['result']['precise']\n",
    "                re_Dict_baidu[\"re_Confidence_baidu\"] = temp['result']['confidence']\n",
    "                re_Dict_baidu[\"re_Comprehension_baidu\"] = temp['result']['comprehension']\n",
    "                re_Dict_baidu[\"re_Level_baidu\"] = temp['result']['level']\n",
    "            else:\n",
    "                pass\n",
    "        re_List_baidu.append(re_Dict_baidu)\n",
    "    #     time.sleep(1)\n",
    "    end_time = time.time()\n",
    "    print(\"百度总用时：\", end_time - start_time)\n",
    "    return re_List_baidu"
   ]
  },
  {
   "cell_type": "code",
   "execution_count": 7,
   "metadata": {},
   "outputs": [],
   "source": [
    "def parse_baidu(df,address):\n",
    "    # 解析百度\n",
    "    list_baidu = get_receiver_lnglat_baidu(address)\n",
    "    # df化(百度)\n",
    "    df_baidu = pd.DataFrame(list_baidu)\n",
    "    data_baidu = pd.concat([df,df_baidu],axis=1)\n",
    "    print(\"data_baidu:\" + str(data_baidu.shape))\n",
    "    return data_baidu"
   ]
  },
  {
   "cell_type": "code",
   "execution_count": 8,
   "metadata": {},
   "outputs": [],
   "source": [
    "# ak码\n",
    "# ak_gaode = 'c71d9eda293d20db64955275557d92d4'\n",
    "ak_gaode = \"1c2682317206ccaa18ec2487bb45d880\"\n",
    "ak_baidu = 'z3KEtliyTGvj0bFudEkz4GO0GN8eQQa5'"
   ]
  },
  {
   "cell_type": "code",
   "execution_count": 9,
   "metadata": {},
   "outputs": [],
   "source": [
    "# 导入数据\n",
    "date = \"1902\"\n",
    "fileName = \"宅急送(承运商).xlsx\"\n",
    "pinyin = \"zhaijisong\"\n",
    "mainpath = \"G:\\\\work\\\\basic\\\\carriers\\\\\"\n",
    "inputpath = mainpath + date + \"\\\\\"\n",
    "data = pd.read_excel(inputpath + fileName)"
   ]
  },
  {
   "cell_type": "code",
   "execution_count": 10,
   "metadata": {
    "scrolled": true
   },
   "outputs": [],
   "source": [
    "# 导出数据路径\n",
    "outpath_gaode = mainpath + date + \"\\\\output\\\\gaode\\\\\"\n",
    "name_ANSI_gaode = date + \"Info_lnglat_\" + pinyin + \"_gaode.xlsx\"\n",
    "name_UTF8_gaode = date + \"Info_lnglat_\" + pinyin + \"_gaode.csv\"\n",
    "\n",
    "outpath_baidu = mainpath + date + \"\\\\output\\\\baidu\\\\\"\n",
    "name_ANSI_baidu = date + \"Info_lnglat_\" + pinyin + \"_baidu.xlsx\"\n",
    "name_UTF8_baidu = date + \"Info_lnglat_\" + pinyin + \"_baidu.csv\"\n"
   ]
  },
  {
   "cell_type": "code",
   "execution_count": 11,
   "metadata": {
    "scrolled": true
   },
   "outputs": [
    {
     "data": {
      "text/plain": [
       "宅急送    2801\n",
       "Name: 承运商, dtype: int64"
      ]
     },
     "execution_count": 11,
     "metadata": {},
     "output_type": "execute_result"
    }
   ],
   "source": [
    "data[\"承运商\"].value_counts()"
   ]
  },
  {
   "cell_type": "markdown",
   "metadata": {},
   "source": [
    "### 选取有效字段"
   ]
  },
  {
   "cell_type": "code",
   "execution_count": 12,
   "metadata": {},
   "outputs": [],
   "source": [
    "df = data[[\"所在省\",\"所在市\",\"收货地址\",\"订单编号\",\"承运商\",\"所在县\"]]"
   ]
  },
  {
   "cell_type": "code",
   "execution_count": 13,
   "metadata": {
    "scrolled": true
   },
   "outputs": [
    {
     "name": "stderr",
     "output_type": "stream",
     "text": [
      "d:\\python\\envs\\jupyterpy36\\lib\\site-packages\\ipykernel_launcher.py:1: SettingWithCopyWarning: \n",
      "A value is trying to be set on a copy of a slice from a DataFrame.\n",
      "Try using .loc[row_indexer,col_indexer] = value instead\n",
      "\n",
      "See the caveats in the documentation: http://pandas.pydata.org/pandas-docs/stable/indexing.html#indexing-view-versus-copy\n",
      "  \"\"\"Entry point for launching an IPython kernel.\n"
     ]
    }
   ],
   "source": [
    "df[\"address_all\"]= df[\"所在省\"] +\"省\"+ df[\"所在市\"] + df[\"收货地址\"]"
   ]
  },
  {
   "cell_type": "markdown",
   "metadata": {},
   "source": [
    "### 文件分组并检查"
   ]
  },
  {
   "cell_type": "code",
   "execution_count": 14,
   "metadata": {},
   "outputs": [
    {
     "name": "stdout",
     "output_type": "stream",
     "text": [
      "data:(2801, 49)\n",
      "df:(2801, 7)\n"
     ]
    }
   ],
   "source": [
    "print(\"data:\" + str(data.shape))\n",
    "print(\"df:\" + str(df.shape))"
   ]
  },
  {
   "cell_type": "code",
   "execution_count": 15,
   "metadata": {},
   "outputs": [
    {
     "name": "stdout",
     "output_type": "stream",
     "text": [
      "高德总用时： 129.54740977287292\n",
      "data_gaode:(2801, 18)\n"
     ]
    }
   ],
   "source": [
    "data_gaode = parse_gaode(df,df[\"address_all\"])"
   ]
  },
  {
   "cell_type": "code",
   "execution_count": 16,
   "metadata": {},
   "outputs": [
    {
     "name": "stdout",
     "output_type": "stream",
     "text": [
      "百度总用时： 127.09026908874512\n",
      "data_baidu:(2801, 13)\n"
     ]
    }
   ],
   "source": [
    "data_baidu = parse_baidu(df,df[\"address_all\"])"
   ]
  },
  {
   "cell_type": "code",
   "execution_count": 19,
   "metadata": {},
   "outputs": [],
   "source": [
    "# 合表\n",
    "split_gaode = pd.DataFrame((x.split(',') for x in data_gaode['re_location_gaode']), index=data_gaode.index, columns=['re_siteLng_gaode','re_siteLat_gaode'])\n",
    "data_gaode = pd.merge(data_gaode,split_gaode,left_index=True,right_index=True)\n"
   ]
  },
  {
   "cell_type": "code",
   "execution_count": 20,
   "metadata": {},
   "outputs": [
    {
     "name": "stdout",
     "output_type": "stream",
     "text": [
      "data:(2801, 49)\n",
      "df:(2801, 7)\n",
      "data_gaode:(2801, 20)\n",
      "data_baidu:(2801, 13)\n"
     ]
    }
   ],
   "source": [
    "# 检查合并后结构\n",
    "print(\"data:\" + str(data.shape))\n",
    "print(\"df:\" + str(df.shape))\n",
    "print(\"data_gaode:\" + str(data_gaode.shape))\n",
    "print(\"data_baidu:\" + str(data_baidu.shape))"
   ]
  },
  {
   "cell_type": "code",
   "execution_count": 22,
   "metadata": {},
   "outputs": [],
   "source": [
    "data_gaode.to_csv(outpath_gaode + name_UTF8_gaode,index=False)\n",
    "data_baidu.to_csv(outpath_baidu + name_UTF8_baidu,index=False)"
   ]
  },
  {
   "cell_type": "code",
   "execution_count": null,
   "metadata": {},
   "outputs": [],
   "source": []
  },
  {
   "cell_type": "code",
   "execution_count": 21,
   "metadata": {},
   "outputs": [
    {
     "data": {
      "text/html": [
       "<div>\n",
       "<style scoped>\n",
       "    .dataframe tbody tr th:only-of-type {\n",
       "        vertical-align: middle;\n",
       "    }\n",
       "\n",
       "    .dataframe tbody tr th {\n",
       "        vertical-align: top;\n",
       "    }\n",
       "\n",
       "    .dataframe thead th {\n",
       "        text-align: right;\n",
       "    }\n",
       "</style>\n",
       "<table border=\"1\" class=\"dataframe\">\n",
       "  <thead>\n",
       "    <tr style=\"text-align: right;\">\n",
       "      <th></th>\n",
       "      <th>所在省</th>\n",
       "      <th>所在市</th>\n",
       "      <th>收货地址</th>\n",
       "      <th>订单编号</th>\n",
       "      <th>承运商</th>\n",
       "      <th>所在县</th>\n",
       "      <th>address_all</th>\n",
       "      <th>re_adcode_gaode</th>\n",
       "      <th>re_city_gaode</th>\n",
       "      <th>re_country_gaode</th>\n",
       "      <th>re_district_gaode</th>\n",
       "      <th>re_formatted_address_gaode</th>\n",
       "      <th>re_level_gaode</th>\n",
       "      <th>re_location_gaode</th>\n",
       "      <th>re_number_gaode</th>\n",
       "      <th>re_province_gaode</th>\n",
       "      <th>re_street_gaode</th>\n",
       "      <th>re_township_gaode</th>\n",
       "      <th>re_siteLng_gaode</th>\n",
       "      <th>re_siteLat_gaode</th>\n",
       "    </tr>\n",
       "  </thead>\n",
       "  <tbody>\n",
       "    <tr>\n",
       "      <th>0</th>\n",
       "      <td>河南</td>\n",
       "      <td>洛阳市</td>\n",
       "      <td>河南洛阳市嵩县大章镇三人场村</td>\n",
       "      <td>690000000001008319021822064980</td>\n",
       "      <td>宅急送</td>\n",
       "      <td>嵩县</td>\n",
       "      <td>河南省洛阳市河南洛阳市嵩县大章镇三人场村</td>\n",
       "      <td>410325</td>\n",
       "      <td>洛阳市</td>\n",
       "      <td>中国</td>\n",
       "      <td>嵩县</td>\n",
       "      <td>河南省洛阳市嵩县三人场村</td>\n",
       "      <td>村庄</td>\n",
       "      <td>111.764944,34.172490</td>\n",
       "      <td>[]</td>\n",
       "      <td>河南省</td>\n",
       "      <td>[]</td>\n",
       "      <td>[]</td>\n",
       "      <td>111.764944</td>\n",
       "      <td>34.172490</td>\n",
       "    </tr>\n",
       "    <tr>\n",
       "      <th>1</th>\n",
       "      <td>河南</td>\n",
       "      <td>驻马店市</td>\n",
       "      <td>河南驻马店市遂平县石寨铺乡大魏庄村黄庄</td>\n",
       "      <td>690000000001008319021822064963</td>\n",
       "      <td>宅急送</td>\n",
       "      <td>遂平县</td>\n",
       "      <td>河南省驻马店市河南驻马店市遂平县石寨铺乡大魏庄村黄庄</td>\n",
       "      <td>411728</td>\n",
       "      <td>驻马店市</td>\n",
       "      <td>中国</td>\n",
       "      <td>遂平县</td>\n",
       "      <td>河南省驻马店市遂平县大魏庄村</td>\n",
       "      <td>村庄</td>\n",
       "      <td>114.069985,33.071957</td>\n",
       "      <td>[]</td>\n",
       "      <td>河南省</td>\n",
       "      <td>[]</td>\n",
       "      <td>[]</td>\n",
       "      <td>114.069985</td>\n",
       "      <td>33.071957</td>\n",
       "    </tr>\n",
       "    <tr>\n",
       "      <th>2</th>\n",
       "      <td>河南</td>\n",
       "      <td>商丘市</td>\n",
       "      <td>李集镇郭庄乡</td>\n",
       "      <td>690000000001008319021822064920</td>\n",
       "      <td>宅急送</td>\n",
       "      <td>夏邑县</td>\n",
       "      <td>河南省商丘市李集镇郭庄乡</td>\n",
       "      <td>411426</td>\n",
       "      <td>商丘市</td>\n",
       "      <td>中国</td>\n",
       "      <td>夏邑县</td>\n",
       "      <td>河南省商丘市夏邑县李集镇</td>\n",
       "      <td>村庄</td>\n",
       "      <td>116.055760,34.313369</td>\n",
       "      <td>[]</td>\n",
       "      <td>河南省</td>\n",
       "      <td>[]</td>\n",
       "      <td>[]</td>\n",
       "      <td>116.055760</td>\n",
       "      <td>34.313369</td>\n",
       "    </tr>\n",
       "    <tr>\n",
       "      <th>3</th>\n",
       "      <td>河南</td>\n",
       "      <td>新乡市</td>\n",
       "      <td>河南省原阳县齐街镇东川村</td>\n",
       "      <td>690000000001008319021822064703</td>\n",
       "      <td>宅急送</td>\n",
       "      <td>原阳县</td>\n",
       "      <td>河南省新乡市河南省原阳县齐街镇东川村</td>\n",
       "      <td>410725</td>\n",
       "      <td>新乡市</td>\n",
       "      <td>中国</td>\n",
       "      <td>原阳县</td>\n",
       "      <td>河南省新乡市原阳县东川村</td>\n",
       "      <td>村庄</td>\n",
       "      <td>114.199519,35.070911</td>\n",
       "      <td>[]</td>\n",
       "      <td>河南省</td>\n",
       "      <td>[]</td>\n",
       "      <td>[]</td>\n",
       "      <td>114.199519</td>\n",
       "      <td>35.070911</td>\n",
       "    </tr>\n",
       "    <tr>\n",
       "      <th>4</th>\n",
       "      <td>河南</td>\n",
       "      <td>周口市</td>\n",
       "      <td>蔡河东街蔡河安居苑13号楼一单元四楼西户</td>\n",
       "      <td>690000000001008319021822064633</td>\n",
       "      <td>宅急送</td>\n",
       "      <td>淮阳县</td>\n",
       "      <td>河南省周口市蔡河东街蔡河安居苑13号楼一单元四楼西户</td>\n",
       "      <td>411626</td>\n",
       "      <td>周口市</td>\n",
       "      <td>中国</td>\n",
       "      <td>淮阳县</td>\n",
       "      <td>河南省周口市淮阳县蔡河安居苑|13号楼</td>\n",
       "      <td>门牌号</td>\n",
       "      <td>114.901382,33.746156</td>\n",
       "      <td>[]</td>\n",
       "      <td>河南省</td>\n",
       "      <td>[]</td>\n",
       "      <td>[]</td>\n",
       "      <td>114.901382</td>\n",
       "      <td>33.746156</td>\n",
       "    </tr>\n",
       "  </tbody>\n",
       "</table>\n",
       "</div>"
      ],
      "text/plain": [
       "  所在省   所在市                  收货地址                            订单编号  承运商  所在县  \\\n",
       "0  河南   洛阳市        河南洛阳市嵩县大章镇三人场村  690000000001008319021822064980  宅急送   嵩县   \n",
       "1  河南  驻马店市   河南驻马店市遂平县石寨铺乡大魏庄村黄庄  690000000001008319021822064963  宅急送  遂平县   \n",
       "2  河南   商丘市                李集镇郭庄乡  690000000001008319021822064920  宅急送  夏邑县   \n",
       "3  河南   新乡市          河南省原阳县齐街镇东川村  690000000001008319021822064703  宅急送  原阳县   \n",
       "4  河南   周口市  蔡河东街蔡河安居苑13号楼一单元四楼西户  690000000001008319021822064633  宅急送  淮阳县   \n",
       "\n",
       "                  address_all re_adcode_gaode re_city_gaode re_country_gaode  \\\n",
       "0        河南省洛阳市河南洛阳市嵩县大章镇三人场村          410325           洛阳市               中国   \n",
       "1  河南省驻马店市河南驻马店市遂平县石寨铺乡大魏庄村黄庄          411728          驻马店市               中国   \n",
       "2                河南省商丘市李集镇郭庄乡          411426           商丘市               中国   \n",
       "3          河南省新乡市河南省原阳县齐街镇东川村          410725           新乡市               中国   \n",
       "4  河南省周口市蔡河东街蔡河安居苑13号楼一单元四楼西户          411626           周口市               中国   \n",
       "\n",
       "  re_district_gaode re_formatted_address_gaode re_level_gaode  \\\n",
       "0                嵩县               河南省洛阳市嵩县三人场村             村庄   \n",
       "1               遂平县             河南省驻马店市遂平县大魏庄村             村庄   \n",
       "2               夏邑县               河南省商丘市夏邑县李集镇             村庄   \n",
       "3               原阳县               河南省新乡市原阳县东川村             村庄   \n",
       "4               淮阳县        河南省周口市淮阳县蔡河安居苑|13号楼            门牌号   \n",
       "\n",
       "      re_location_gaode re_number_gaode re_province_gaode re_street_gaode  \\\n",
       "0  111.764944,34.172490              []               河南省              []   \n",
       "1  114.069985,33.071957              []               河南省              []   \n",
       "2  116.055760,34.313369              []               河南省              []   \n",
       "3  114.199519,35.070911              []               河南省              []   \n",
       "4  114.901382,33.746156              []               河南省              []   \n",
       "\n",
       "  re_township_gaode re_siteLng_gaode re_siteLat_gaode  \n",
       "0                []       111.764944        34.172490  \n",
       "1                []       114.069985        33.071957  \n",
       "2                []       116.055760        34.313369  \n",
       "3                []       114.199519        35.070911  \n",
       "4                []       114.901382        33.746156  "
      ]
     },
     "execution_count": 21,
     "metadata": {},
     "output_type": "execute_result"
    }
   ],
   "source": [
    "data_gaode.head()"
   ]
  },
  {
   "cell_type": "code",
   "execution_count": null,
   "metadata": {},
   "outputs": [],
   "source": []
  }
 ],
 "metadata": {
  "kernelspec": {
   "display_name": "Python 3",
   "language": "python",
   "name": "python3"
  },
  "language_info": {
   "codemirror_mode": {
    "name": "ipython",
    "version": 3
   },
   "file_extension": ".py",
   "mimetype": "text/x-python",
   "name": "python",
   "nbconvert_exporter": "python",
   "pygments_lexer": "ipython3",
   "version": "3.5.2"
  }
 },
 "nbformat": 4,
 "nbformat_minor": 2
}
