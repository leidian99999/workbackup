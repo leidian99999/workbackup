{
 "cells": [
  {
   "cell_type": "code",
   "execution_count": 1,
   "metadata": {},
   "outputs": [],
   "source": [
    "import pandas as pd\n",
    "import datetime \n",
    "import os\n",
    "import openpyxl\n",
    "import re"
   ]
  },
  {
   "cell_type": "code",
   "execution_count": 2,
   "metadata": {},
   "outputs": [],
   "source": [
    "# 输出指定sheet到新表\n",
    "def putout_sheets(datapath1,outpath1):\n",
    "    sheet1 = pd.read_excel(datapath1,sheet_name=\"昨日省份激活率\",header=1)\n",
    "    sheet2 = pd.read_excel(datapath1,sheet_name=\"昨日产品激活率\",header=1)\n",
    "    writer = pd.ExcelWriter(outpath1)\n",
    "    sheet1.to_excel(writer,sheet_name=\"昨日省份激活率\",index=False)\n",
    "    sheet2.to_excel(writer,sheet_name=\"昨日产品激活率\",index=False)\n",
    "    writer.save()\n",
    "    return sheet1,sheet2"
   ]
  },
  {
   "cell_type": "code",
   "execution_count": null,
   "metadata": {},
   "outputs": [],
   "source": [
    "# 读取文件夹下所有文件名\n",
    "def all_path(datapath2):\n",
    "    filepaths = []#所有的文件\n",
    "    filenames = []\n",
    "    for maindir, subdir, file_name_list in os.walk(datapath2):\n",
    "        #os.walk(top[, topdown=True[, onerror=None[, followlinks=False]]])\n",
    "        print(\"当前目录:\",maindir) #当前主目录\n",
    "        print(\"当前目录下所有目录:\",subdir) #当前主目录下的所有目录\n",
    "        print(\"当前主目录下的所有文件:\",file_name_list)  #当前主目录下的所有文件\n",
    "        print(\"*\"*50)\n",
    "        for filename in file_name_list:\n",
    "            apath = os.path.join(maindir, filename)#合并成一个完整路径\n",
    "            filepaths.append(apath)\n",
    "            filenames.append(filename)\n",
    "    return filenames,filepaths"
   ]
  }
 ],
 "metadata": {
  "kernelspec": {
   "display_name": "Python 3",
   "language": "python",
   "name": "python3"
  },
  "language_info": {
   "codemirror_mode": {
    "name": "ipython",
    "version": 3
   },
   "file_extension": ".py",
   "mimetype": "text/x-python",
   "name": "python",
   "nbconvert_exporter": "python",
   "pygments_lexer": "ipython3",
   "version": "3.6.6"
  }
 },
 "nbformat": 4,
 "nbformat_minor": 2
}
