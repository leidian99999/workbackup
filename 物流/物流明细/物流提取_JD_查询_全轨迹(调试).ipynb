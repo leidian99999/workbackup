{
 "cells": [
  {
   "cell_type": "code",
   "execution_count": 1,
   "metadata": {},
   "outputs": [],
   "source": [
    "import pandas as pd\n",
    "import re\n"
   ]
  },
  {
   "cell_type": "code",
   "execution_count": 2,
   "metadata": {
    "scrolled": true
   },
   "outputs": [
    {
     "name": "stderr",
     "output_type": "stream",
     "text": [
      "d:\\python\\envs\\jupyterpy36\\lib\\site-packages\\IPython\\core\\interactiveshell.py:2785: DtypeWarning: Columns (77,78,79,80,81,82) have mixed types. Specify dtype option on import or set low_memory=False.\n",
      "  interactivity=interactivity, compiler=compiler, result=result)\n"
     ]
    }
   ],
   "source": [
    "data = pd.read_csv(r\"G:\\work\\logistica\\input\\Dec_cha/Dec_JDSF_cha.csv\")"
   ]
  },
  {
   "cell_type": "code",
   "execution_count": 3,
   "metadata": {},
   "outputs": [
    {
     "data": {
      "text/html": [
       "<div>\n",
       "<style scoped>\n",
       "    .dataframe tbody tr th:only-of-type {\n",
       "        vertical-align: middle;\n",
       "    }\n",
       "\n",
       "    .dataframe tbody tr th {\n",
       "        vertical-align: top;\n",
       "    }\n",
       "\n",
       "    .dataframe thead th {\n",
       "        text-align: right;\n",
       "    }\n",
       "</style>\n",
       "<table border=\"1\" class=\"dataframe\">\n",
       "  <thead>\n",
       "    <tr style=\"text-align: right;\">\n",
       "      <th></th>\n",
       "      <th>ORDER_ID</th>\n",
       "      <th>LOGISTICS_COMPANY</th>\n",
       "      <th>MAIL_NO</th>\n",
       "      <th>DESCRIPTION1</th>\n",
       "      <th>ROUTE_TIME1</th>\n",
       "      <th>DESCRIPTION2</th>\n",
       "      <th>ROUTE_TIME2</th>\n",
       "      <th>DESCRIPTION3</th>\n",
       "      <th>ROUTE_TIME3</th>\n",
       "      <th>DESCRIPTION4</th>\n",
       "      <th>...</th>\n",
       "      <th>DESCRIPTION36</th>\n",
       "      <th>ROUTE_TIME36</th>\n",
       "      <th>DESCRIPTION37</th>\n",
       "      <th>ROUTE_TIME37</th>\n",
       "      <th>DESCRIPTION38</th>\n",
       "      <th>ROUTE_TIME38</th>\n",
       "      <th>DESCRIPTION39</th>\n",
       "      <th>ROUTE_TIME39</th>\n",
       "      <th>DESCRIPTION40</th>\n",
       "      <th>ROUTE_TIME40</th>\n",
       "    </tr>\n",
       "  </thead>\n",
       "  <tbody>\n",
       "    <tr>\n",
       "      <th>0</th>\n",
       "      <td>690000000001008318121220668130</td>\n",
       "      <td>shunfeng</td>\n",
       "      <td>252149455218</td>\n",
       "      <td>顺丰速运 已收取快件</td>\n",
       "      <td>2018-12-12 18:31</td>\n",
       "      <td>快件在【南京建邺集庆门大街营业点】已装车,准备发往 【南京江宁集散中心】</td>\n",
       "      <td>2018-12-12 20:52</td>\n",
       "      <td>快件已发车</td>\n",
       "      <td>2018-12-12 21:07</td>\n",
       "      <td>快件到达 【南京江宁集散中心】</td>\n",
       "      <td>...</td>\n",
       "      <td>NaN</td>\n",
       "      <td>NaN</td>\n",
       "      <td>NaN</td>\n",
       "      <td>NaN</td>\n",
       "      <td>NaN</td>\n",
       "      <td>NaN</td>\n",
       "      <td>NaN</td>\n",
       "      <td>NaN</td>\n",
       "      <td>NaN</td>\n",
       "      <td>NaN</td>\n",
       "    </tr>\n",
       "    <tr>\n",
       "      <th>1</th>\n",
       "      <td>690000000001008318121220668127</td>\n",
       "      <td>shunfeng</td>\n",
       "      <td>245451608345</td>\n",
       "      <td>顺丰速运 已收取快件</td>\n",
       "      <td>2018-12-12 15:36</td>\n",
       "      <td>快件在【广州白云鹤龙一路营业部】已装车,准备发往下一站</td>\n",
       "      <td>2018-12-12 21:25</td>\n",
       "      <td>快件已发车</td>\n",
       "      <td>2018-12-12 21:59</td>\n",
       "      <td>快件到达 【广州穗北集散中心】</td>\n",
       "      <td>...</td>\n",
       "      <td>NaN</td>\n",
       "      <td>NaN</td>\n",
       "      <td>NaN</td>\n",
       "      <td>NaN</td>\n",
       "      <td>NaN</td>\n",
       "      <td>NaN</td>\n",
       "      <td>NaN</td>\n",
       "      <td>NaN</td>\n",
       "      <td>NaN</td>\n",
       "      <td>NaN</td>\n",
       "    </tr>\n",
       "    <tr>\n",
       "      <th>2</th>\n",
       "      <td>690000000001008318121220668122</td>\n",
       "      <td>jingdongwuliu</td>\n",
       "      <td>VA49330022862</td>\n",
       "      <td>配送员柏旭已经揽收完成</td>\n",
       "      <td>2018-12-12 17:27</td>\n",
       "      <td>货物已交付京东物流</td>\n",
       "      <td>2018-12-12 17:27</td>\n",
       "      <td>货物已完成分拣，离开【太原分拨中心】</td>\n",
       "      <td>2018-12-13 01:53</td>\n",
       "      <td>货物已到达【吕梁柳林营业部】</td>\n",
       "      <td>...</td>\n",
       "      <td>NaN</td>\n",
       "      <td>NaN</td>\n",
       "      <td>NaN</td>\n",
       "      <td>NaN</td>\n",
       "      <td>NaN</td>\n",
       "      <td>NaN</td>\n",
       "      <td>NaN</td>\n",
       "      <td>NaN</td>\n",
       "      <td>NaN</td>\n",
       "      <td>NaN</td>\n",
       "    </tr>\n",
       "    <tr>\n",
       "      <th>3</th>\n",
       "      <td>690000000001008318121220668123</td>\n",
       "      <td>shunfeng</td>\n",
       "      <td>245451620838</td>\n",
       "      <td>顺丰速运 已收取快件</td>\n",
       "      <td>2018-12-12 15:41</td>\n",
       "      <td>快件在【广州白云鹤龙一路营业部】已装车,准备发往下一站</td>\n",
       "      <td>2018-12-12 21:25</td>\n",
       "      <td>快件已发车</td>\n",
       "      <td>2018-12-12 21:59</td>\n",
       "      <td>快件到达 【广州穗北集散中心】</td>\n",
       "      <td>...</td>\n",
       "      <td>NaN</td>\n",
       "      <td>NaN</td>\n",
       "      <td>NaN</td>\n",
       "      <td>NaN</td>\n",
       "      <td>NaN</td>\n",
       "      <td>NaN</td>\n",
       "      <td>NaN</td>\n",
       "      <td>NaN</td>\n",
       "      <td>NaN</td>\n",
       "      <td>NaN</td>\n",
       "    </tr>\n",
       "    <tr>\n",
       "      <th>4</th>\n",
       "      <td>690000000001008318121220668021</td>\n",
       "      <td>shunfeng</td>\n",
       "      <td>245449471676</td>\n",
       "      <td>顺丰速运 已收取快件</td>\n",
       "      <td>2018-12-12 14:26</td>\n",
       "      <td>快件在【广州白云鹤龙一路营业部】已装车,准备发往下一站</td>\n",
       "      <td>2018-12-12 16:29</td>\n",
       "      <td>快件已发车</td>\n",
       "      <td>2018-12-12 17:28</td>\n",
       "      <td>快件到达 【广州穗北集散中心】</td>\n",
       "      <td>...</td>\n",
       "      <td>NaN</td>\n",
       "      <td>NaN</td>\n",
       "      <td>NaN</td>\n",
       "      <td>NaN</td>\n",
       "      <td>NaN</td>\n",
       "      <td>NaN</td>\n",
       "      <td>NaN</td>\n",
       "      <td>NaN</td>\n",
       "      <td>NaN</td>\n",
       "      <td>NaN</td>\n",
       "    </tr>\n",
       "  </tbody>\n",
       "</table>\n",
       "<p>5 rows × 83 columns</p>\n",
       "</div>"
      ],
      "text/plain": [
       "                         ORDER_ID LOGISTICS_COMPANY        MAIL_NO  \\\n",
       "0  690000000001008318121220668130          shunfeng   252149455218   \n",
       "1  690000000001008318121220668127          shunfeng   245451608345   \n",
       "2  690000000001008318121220668122     jingdongwuliu  VA49330022862   \n",
       "3  690000000001008318121220668123          shunfeng   245451620838   \n",
       "4  690000000001008318121220668021          shunfeng   245449471676   \n",
       "\n",
       "  DESCRIPTION1       ROUTE_TIME1                          DESCRIPTION2  \\\n",
       "0   顺丰速运 已收取快件  2018-12-12 18:31  快件在【南京建邺集庆门大街营业点】已装车,准备发往 【南京江宁集散中心】   \n",
       "1   顺丰速运 已收取快件  2018-12-12 15:36           快件在【广州白云鹤龙一路营业部】已装车,准备发往下一站   \n",
       "2  配送员柏旭已经揽收完成  2018-12-12 17:27                             货物已交付京东物流   \n",
       "3   顺丰速运 已收取快件  2018-12-12 15:41           快件在【广州白云鹤龙一路营业部】已装车,准备发往下一站   \n",
       "4   顺丰速运 已收取快件  2018-12-12 14:26           快件在【广州白云鹤龙一路营业部】已装车,准备发往下一站   \n",
       "\n",
       "        ROUTE_TIME2        DESCRIPTION3       ROUTE_TIME3     DESCRIPTION4  \\\n",
       "0  2018-12-12 20:52               快件已发车  2018-12-12 21:07  快件到达 【南京江宁集散中心】   \n",
       "1  2018-12-12 21:25               快件已发车  2018-12-12 21:59  快件到达 【广州穗北集散中心】   \n",
       "2  2018-12-12 17:27  货物已完成分拣，离开【太原分拨中心】  2018-12-13 01:53   货物已到达【吕梁柳林营业部】   \n",
       "3  2018-12-12 21:25               快件已发车  2018-12-12 21:59  快件到达 【广州穗北集散中心】   \n",
       "4  2018-12-12 16:29               快件已发车  2018-12-12 17:28  快件到达 【广州穗北集散中心】   \n",
       "\n",
       "      ...      DESCRIPTION36 ROUTE_TIME36 DESCRIPTION37 ROUTE_TIME37  \\\n",
       "0     ...                NaN          NaN           NaN          NaN   \n",
       "1     ...                NaN          NaN           NaN          NaN   \n",
       "2     ...                NaN          NaN           NaN          NaN   \n",
       "3     ...                NaN          NaN           NaN          NaN   \n",
       "4     ...                NaN          NaN           NaN          NaN   \n",
       "\n",
       "  DESCRIPTION38 ROUTE_TIME38 DESCRIPTION39 ROUTE_TIME39 DESCRIPTION40  \\\n",
       "0           NaN          NaN           NaN          NaN           NaN   \n",
       "1           NaN          NaN           NaN          NaN           NaN   \n",
       "2           NaN          NaN           NaN          NaN           NaN   \n",
       "3           NaN          NaN           NaN          NaN           NaN   \n",
       "4           NaN          NaN           NaN          NaN           NaN   \n",
       "\n",
       "  ROUTE_TIME40  \n",
       "0          NaN  \n",
       "1          NaN  \n",
       "2          NaN  \n",
       "3          NaN  \n",
       "4          NaN  \n",
       "\n",
       "[5 rows x 83 columns]"
      ]
     },
     "execution_count": 3,
     "metadata": {},
     "output_type": "execute_result"
    }
   ],
   "source": [
    "data.head()"
   ]
  },
  {
   "cell_type": "code",
   "execution_count": null,
   "metadata": {},
   "outputs": [],
   "source": [
    "def get_del_list(n):\n",
    "    '''选出路径时间列'''\n",
    "    dayslist = []\n",
    "    for i in range(1, n + 1)[::-1]: # 倒序\n",
    "        route_time = \"ROUTE_TIME\" + str(i)\n",
    "        dayslist.append(route_time)\n",
    "    return dayslist\n"
   ]
  },
  {
   "cell_type": "code",
   "execution_count": null,
   "metadata": {},
   "outputs": [],
   "source": [
    "dayslist = get_del_list(40)"
   ]
  },
  {
   "cell_type": "code",
   "execution_count": null,
   "metadata": {},
   "outputs": [],
   "source": [
    "df = data.copy().fillna(\"kong\")\n",
    "df.drop(dayslist,axis=1, inplace=True)"
   ]
  },
  {
   "cell_type": "code",
   "execution_count": null,
   "metadata": {},
   "outputs": [],
   "source": [
    "print(df[\"LOGISTICS_COMPANY\"].value_counts())"
   ]
  },
  {
   "cell_type": "code",
   "execution_count": null,
   "metadata": {},
   "outputs": [],
   "source": [
    "JD = df[df[\"LOGISTICS_COMPANY\"] == \"jingdongwuliu\"]"
   ]
  },
  {
   "cell_type": "code",
   "execution_count": null,
   "metadata": {},
   "outputs": [],
   "source": [
    "def get_carrier_list(carrier):\n",
    "    '''将DataFrame行转换为list'''\n",
    "    a = []\n",
    "    for indexs in carrier.index:\n",
    "        b = carrier.loc[indexs].values[0:-1]\n",
    "        c = ' '.join('%s' %id for id in b)\n",
    "        a.append(c)\n",
    "    return a"
   ]
  },
  {
   "cell_type": "code",
   "execution_count": null,
   "metadata": {},
   "outputs": [],
   "source": [
    "JD_list = get_carrier_list(JD)"
   ]
  },
  {
   "cell_type": "code",
   "execution_count": null,
   "metadata": {},
   "outputs": [],
   "source": [
    "JD_list\n"
   ]
  },
  {
   "cell_type": "code",
   "execution_count": null,
   "metadata": {},
   "outputs": [],
   "source": [
    "def get_JD_name(JD):\n",
    "    JD_name_list = []\n",
    "    for i in JD:\n",
    "        JD_name_dict = {}\n",
    "        #deliveryman_JD = re.findall('(\\\\d+)\\\\s(\\\\w+)\\\\s(\\\\w+).*配送员，(\\\\w+)，手机号，(\\\\d+).*(货物已由\\\\w+|货物已\\\\w+)',i)\n",
    "        #JD_name_dict[\"JD_OrderId\"] = str(re.findall(\"(\\\\d+)\\\\sjingdongwuliu\",i))        \n",
    "\n",
    "        JD_name_dict[\"JD_OrderId\"] = str(re.findall(\"(\\\\d+)\\\\sjingdongwuliu\",i)).replace(\"['\",\"\").replace(\"']\",\"\")\n",
    "        JD_name_dict[\"JD_trackingID\"] = str(re.findall(\"jingdongwuliu\\\\s(\\\\w+)\",i)).replace(\"['\",\"\").replace(\"']\",\"\")\n",
    "        JD_name_dict[\"JD_deliveryman_name\"] = str(re.findall(\"配送员\\，(\\\\w+)\\，手机号\\，\\\\d+\\s货物已\",i)).replace(\"['\",\"\").replace(\"']\",\"\")\n",
    "        JD_name_dict[\"JD_deliveryman_tel\"] = str(re.findall(\"配送员\\，\\\\w+\\，手机号\\，(\\\\d+)\\s货物已\",i)).replace(\"['\",\"\").replace(\"']\",\"\")\n",
    "        JD_name_dict[\"JD_orderstatus\"] = str(re.findall(\"\\\\d+\\s(货物已由\\\\w+|货物已\\\\w+)，感谢您选择京东物流！\",i)).replace(\"['\",\"\").replace(\"']\",\"\")\n",
    "        JD_name_dict[\"JD_LastStation\"] = str(re.findall(\"\\【(\\\\w+)\\】\\s货物已分配\\，等待配送\",i)).replace(\"['\",\"\").replace(\"']\",\"\")\n",
    "#         ttt = \"【\"\n",
    "#         if ttt in i:\n",
    "#             JD_name_dict[\"JD_LastStation\"] = re.findall(\"【(.+?)】\",i)[-1]\n",
    "        JD_name_list.append(JD_name_dict)\n",
    "        print(JD_name_dict[\"JD_LastStation\"])\n",
    "    return JD_name_list"
   ]
  },
  {
   "cell_type": "code",
   "execution_count": null,
   "metadata": {},
   "outputs": [],
   "source": [
    "JD_name = get_JD_name(JD_list)\n",
    "JD_name"
   ]
  },
  {
   "cell_type": "code",
   "execution_count": null,
   "metadata": {},
   "outputs": [],
   "source": [
    "str1 =  '690000000001008318121220658082 jingdongwuliu VD50167410576 货物已交付京东物流 配送员张坤已经揽收完成 货物已完成分拣，离开【成都青白江分拣中心】 货物已完成分拣，离开【泸州中转场】 配送员开始配送，请您准备收货，配送员，何涛，手机号，18180283626 货物已由本人签收，感谢您选择京东物流！ kong kong kong kong kong kong kong kong kong kong kong kong kong kong kong kong kong kong kong kong kong kong kong kong kong kong kong kong kong kong kong kong kong',\n",
    "str1"
   ]
  },
  {
   "cell_type": "code",
   "execution_count": null,
   "metadata": {},
   "outputs": [],
   "source": [
    "str2 =  '690000000001008318121220657914 jingdongwuliu V048761509790 货物已交付京东物流 配送员宋龙军已经揽收完成 货物已到达【潍坊中转场】 货物已到达【潍坊中转场】 货物已完成分拣，离开【潍坊中转场】 货物已到达【潍坊青云山营业部】 货物已分配，等待配送 配送员开始配送，请您准备收货，配送员，张建军，手机号，13210765501 货物已由本人签收，感谢您选择京东物流！ kong kong kong kong kong kong kong kong kong kong kong kong kong kong kong kong kong kong kong kong kong kong kong kong kong kong kong kong kong kong'\n",
    "str2"
   ]
  },
  {
   "cell_type": "code",
   "execution_count": null,
   "metadata": {},
   "outputs": [],
   "source": [
    "aaa= re.findall(\"【(\\\\w+)】\\s['货物已分配','配送员开始配送']\",str1)"
   ]
  },
  {
   "cell_type": "code",
   "execution_count": null,
   "metadata": {},
   "outputs": [],
   "source": []
  }
 ],
 "metadata": {
  "kernelspec": {
   "display_name": "Python 3",
   "language": "python",
   "name": "python3"
  },
  "language_info": {
   "codemirror_mode": {
    "name": "ipython",
    "version": 3
   },
   "file_extension": ".py",
   "mimetype": "text/x-python",
   "name": "python",
   "nbconvert_exporter": "python",
   "pygments_lexer": "ipython3",
   "version": "3.6.6"
  }
 },
 "nbformat": 4,
 "nbformat_minor": 2
}
