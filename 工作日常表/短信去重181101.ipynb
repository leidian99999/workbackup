{
 "cells": [
  {
   "cell_type": "code",
   "execution_count": 1,
   "metadata": {},
   "outputs": [],
   "source": [
    "import pandas as pd"
   ]
  },
  {
   "cell_type": "code",
   "execution_count": 2,
   "metadata": {},
   "outputs": [
    {
     "data": {
      "text/plain": [
       "(26321, 79)"
      ]
     },
     "execution_count": 2,
     "metadata": {},
     "output_type": "execute_result"
    }
   ],
   "source": [
    "df = pd.read_excel(r\"G:\\work\\临时\\181101\\实名未首话v1\\2月实名未首话.xlsx\")\n",
    "outer = \"G:\\\\work\\\\临时\\\\181101\\\\实名未首话v1\\\\输出\\\\2月实名未首话(重复项).xlsx\"\n",
    "df.shape"
   ]
  },
  {
   "cell_type": "code",
   "execution_count": 3,
   "metadata": {},
   "outputs": [
    {
     "data": {
      "text/plain": [
       "Index(['订单编号', '原始订单', '订单类型', '订单状态', '订单子状态', '取消原因', '订单挂起原因', '安装失败原因',\n",
       "       '订单来源', '结算状态', '支付平台', '机价款', '店铺', 'AB类型', '拆单类型', '制式类型', '订单金额',\n",
       "       '支付方式', '支付流水号', '收取卡密号码', '订单生成时间', '支付完成时间', '交易完成时间', '发货时间',\n",
       "       '物流单回填时间', '用户名', 'QQ号', '入网用户姓名', '入网身份证号', '入网手机号', '联系人电话号码',\n",
       "       'ICCID', '联系住址', '收货人姓名', '收货地址', '收货人电话号码', '收货人邮箱', '邮编', '配送省份名称',\n",
       "       '配送地市名称', '配送区县名称', '入网人所在省', '入网人所在市', '号码归属地', '配送方式', '营业厅地址',\n",
       "       '配送时间', '订单备注', '物流单号', '物流签收时间', '承运商', '是否上传签收证明项', '预存款发票类别',\n",
       "       '物品费发票抬头', '物品费抬头名称', '大小卡类型', '写卡渠道', '卡号', '串号', '销售品编号', '销售品名称',\n",
       "       '销售品类型', '销售品数量', '销售品价格', '合作商', '实际分账金额', '套餐', '主号码', '副号码', '主可选包',\n",
       "       '其他', '靓号等级', '营业厅送货方式', '是否线下模式', '是否线下转线上', '线下转线上原因', '身份证图片4',\n",
       "       '实名信息复核中时间', '订单生成时间.1'],\n",
       "      dtype='object')"
      ]
     },
     "execution_count": 3,
     "metadata": {},
     "output_type": "execute_result"
    }
   ],
   "source": [
    "df.columns"
   ]
  },
  {
   "cell_type": "code",
   "execution_count": 4,
   "metadata": {},
   "outputs": [
    {
     "data": {
      "text/plain": [
       "北京        9029\n",
       "广东        3273\n",
       "江苏        2152\n",
       "湖南        1572\n",
       "辽宁        1338\n",
       "河南        1233\n",
       "河北         977\n",
       "湖北         712\n",
       "重庆         676\n",
       "吉林         573\n",
       "山西         508\n",
       "山东         484\n",
       "甘肃         456\n",
       "黑龙江        422\n",
       "福建         417\n",
       "安徽         336\n",
       "天津         296\n",
       "上海         211\n",
       "四川         197\n",
       "贵州         196\n",
       "江西         192\n",
       "内蒙古        191\n",
       "浙江         158\n",
       "陕西         152\n",
       "云南         148\n",
       "宁夏         125\n",
       "广西          83\n",
       "海南          63\n",
       "广东省         31\n",
       "新疆          26\n",
       "青海          16\n",
       "湖南省         13\n",
       "山东省          8\n",
       "西藏           7\n",
       "江苏省          7\n",
       "福建省          5\n",
       "辽宁省          3\n",
       "黑龙江省         3\n",
       "四川省          3\n",
       "内蒙古自治区       3\n",
       "甘肃省          3\n",
       "河北省          2\n",
       "河南省          2\n",
       "湖北省          2\n",
       "云南省          2\n",
       "浙江省          1\n",
       "安徽省          1\n",
       "江西省          1\n",
       "Name: 配送省份名称, dtype: int64"
      ]
     },
     "execution_count": 4,
     "metadata": {},
     "output_type": "execute_result"
    }
   ],
   "source": [
    "df['配送省份名称'].value_counts()"
   ]
  },
  {
   "cell_type": "code",
   "execution_count": 5,
   "metadata": {},
   "outputs": [],
   "source": [
    "dict = {'焦作市':'河南','河南省':'河南','河北省':'河北','贵州省':'贵州','湖南省':'湖南','广东省':'广东','江苏省':'江苏','山西省':'山西',\n",
    "        '吉林省':'吉林','山东省':'山东','广西壮族自治区':'广西','湖北省':'湖北','陕西省':'陕西','浙江省':'浙江','福建省':'福建',\n",
    "        '内蒙古自治区':'内蒙古','云南省':'云南','辽宁省':'辽宁','江西省':'江西','四川省':'四川','黑龙江省':'黑龙江','安徽省':'安徽',\n",
    "        '甘肃省':'甘肃','西藏自治区':'西藏','青海省':'青海','宁夏回族自治区':'宁夏',\n",
    "        '海南省':'海南','六安市':'安徽','东莞市':'广东','新疆维吾尔自治区':'新疆'}"
   ]
  },
  {
   "cell_type": "code",
   "execution_count": 6,
   "metadata": {},
   "outputs": [],
   "source": [
    "df1 = df.replace(dict)"
   ]
  },
  {
   "cell_type": "code",
   "execution_count": 7,
   "metadata": {},
   "outputs": [
    {
     "data": {
      "text/plain": [
       "北京     9029\n",
       "广东     3304\n",
       "江苏     2159\n",
       "湖南     1585\n",
       "辽宁     1341\n",
       "河南     1235\n",
       "河北      979\n",
       "湖北      714\n",
       "重庆      676\n",
       "吉林      573\n",
       "山西      508\n",
       "山东      492\n",
       "甘肃      459\n",
       "黑龙江     425\n",
       "福建      422\n",
       "安徽      337\n",
       "天津      296\n",
       "上海      211\n",
       "四川      200\n",
       "贵州      196\n",
       "内蒙古     194\n",
       "江西      193\n",
       "浙江      159\n",
       "陕西      152\n",
       "云南      150\n",
       "宁夏      125\n",
       "广西       83\n",
       "海南       63\n",
       "新疆       26\n",
       "青海       16\n",
       "西藏        7\n",
       "Name: 配送省份名称, dtype: int64"
      ]
     },
     "execution_count": 7,
     "metadata": {},
     "output_type": "execute_result"
    }
   ],
   "source": [
    "df1[\"配送省份名称\"].value_counts()"
   ]
  },
  {
   "cell_type": "code",
   "execution_count": 8,
   "metadata": {},
   "outputs": [
    {
     "data": {
      "text/plain": [
       "(26321, 79)"
      ]
     },
     "execution_count": 8,
     "metadata": {},
     "output_type": "execute_result"
    }
   ],
   "source": [
    "df1.shape"
   ]
  },
  {
   "cell_type": "code",
   "execution_count": 9,
   "metadata": {},
   "outputs": [
    {
     "data": {
      "text/plain": [
       "(23864, 79)"
      ]
     },
     "execution_count": 9,
     "metadata": {},
     "output_type": "execute_result"
    }
   ],
   "source": [
    "df2 = df1.drop_duplicates(subset=['配送省份名称','入网用户姓名'],keep='first')\n",
    "df2.shape"
   ]
  },
  {
   "cell_type": "code",
   "execution_count": 10,
   "metadata": {},
   "outputs": [
    {
     "data": {
      "text/plain": [
       "(21834, 79)"
      ]
     },
     "execution_count": 10,
     "metadata": {},
     "output_type": "execute_result"
    }
   ],
   "source": [
    "df3 = df1.drop_duplicates(subset=['配送省份名称','入网用户姓名'],keep=False)\n",
    "df3.shape"
   ]
  },
  {
   "cell_type": "code",
   "execution_count": 11,
   "metadata": {},
   "outputs": [
    {
     "data": {
      "text/plain": [
       "(2030, 79)"
      ]
     },
     "execution_count": 11,
     "metadata": {},
     "output_type": "execute_result"
    }
   ],
   "source": [
    "df4 = df2.append(df3).drop_duplicates(subset=['配送省份名称','入网用户姓名'],keep=False)\n",
    "df4.shape"
   ]
  },
  {
   "cell_type": "code",
   "execution_count": 12,
   "metadata": {},
   "outputs": [],
   "source": [
    "df4.to_excel(outer,index=False)"
   ]
  },
  {
   "cell_type": "code",
   "execution_count": 13,
   "metadata": {},
   "outputs": [
    {
     "data": {
      "text/plain": [
       "北京     1404\n",
       "江苏       79\n",
       "湖南       67\n",
       "山东       65\n",
       "广东       62\n",
       "湖北       49\n",
       "河北       46\n",
       "辽宁       42\n",
       "重庆       33\n",
       "河南       29\n",
       "江西       25\n",
       "福建       19\n",
       "吉林       17\n",
       "黑龙江      15\n",
       "山西       12\n",
       "四川       12\n",
       "陕西       11\n",
       "甘肃        8\n",
       "内蒙古       8\n",
       "贵州        7\n",
       "安徽        4\n",
       "浙江        4\n",
       "天津        3\n",
       "上海        3\n",
       "广西        2\n",
       "海南        1\n",
       "云南        1\n",
       "宁夏        1\n",
       "西藏        1\n",
       "Name: 配送省份名称, dtype: int64"
      ]
     },
     "execution_count": 13,
     "metadata": {},
     "output_type": "execute_result"
    }
   ],
   "source": [
    "df4['配送省份名称'].value_counts()"
   ]
  },
  {
   "cell_type": "code",
   "execution_count": null,
   "metadata": {},
   "outputs": [],
   "source": []
  }
 ],
 "metadata": {
  "kernelspec": {
   "display_name": "Python 3",
   "language": "python",
   "name": "python3"
  },
  "language_info": {
   "codemirror_mode": {
    "name": "ipython",
    "version": 3
   },
   "file_extension": ".py",
   "mimetype": "text/x-python",
   "name": "python",
   "nbconvert_exporter": "python",
   "pygments_lexer": "ipython3",
   "version": "3.5.2"
  }
 },
 "nbformat": 4,
 "nbformat_minor": 2
}
