{
 "cells": [
  {
   "cell_type": "code",
   "execution_count": 1,
   "metadata": {},
   "outputs": [],
   "source": [
    "import pandas as pd"
   ]
  },
  {
   "cell_type": "code",
   "execution_count": 2,
   "metadata": {
    "scrolled": false
   },
   "outputs": [
    {
     "name": "stderr",
     "output_type": "stream",
     "text": [
      "d:\\python\\envs\\jupyterpy36\\lib\\site-packages\\ipykernel_launcher.py:1: ParserWarning: Falling back to the 'python' engine because the 'c' engine does not support sep=None with delim_whitespace=False; you can avoid this warning by specifying engine='python'.\n",
      "  \"\"\"Entry point for launching an IPython kernel.\n"
     ]
    }
   ],
   "source": [
    "data = pd.read_csv(r\"G:\\work\\basic\\CSV\\1903_info.csv\",sep = None,encoding='utf8')"
   ]
  },
  {
   "cell_type": "code",
   "execution_count": 3,
   "metadata": {
    "scrolled": true
   },
   "outputs": [
    {
     "data": {
      "text/plain": [
       "Index(['Unnamed: 0', '订单编号', '原始订单', '订单类型', '订单状态', '订单子状态', '取消原因', '订单挂起原因',\n",
       "       '安装失败原因', '订单来源',\n",
       "       ...\n",
       "       '激活时效', '性别', '签收时效', '交付时效', '年龄', '配送时效', '激发时效', '线下激活量', '线上激活量',\n",
       "       '生产模式'],\n",
       "      dtype='object', length=115)"
      ]
     },
     "execution_count": 3,
     "metadata": {},
     "output_type": "execute_result"
    }
   ],
   "source": [
    "data.columns"
   ]
  },
  {
   "cell_type": "code",
   "execution_count": 4,
   "metadata": {},
   "outputs": [
    {
     "data": {
      "text/plain": [
       "(946115, 115)"
      ]
     },
     "execution_count": 4,
     "metadata": {},
     "output_type": "execute_result"
    }
   ],
   "source": [
    "data.shape"
   ]
  },
  {
   "cell_type": "markdown",
   "metadata": {},
   "source": [
    "### 删除合表表头"
   ]
  },
  {
   "cell_type": "code",
   "execution_count": 5,
   "metadata": {},
   "outputs": [],
   "source": [
    "data = data[data[\"号码归属地\"].str.contains('号码归属地') == False]"
   ]
  },
  {
   "cell_type": "code",
   "execution_count": 6,
   "metadata": {},
   "outputs": [
    {
     "data": {
      "text/plain": [
       "(946115, 115)"
      ]
     },
     "execution_count": 6,
     "metadata": {},
     "output_type": "execute_result"
    }
   ],
   "source": [
    "data.shape"
   ]
  },
  {
   "cell_type": "code",
   "execution_count": 7,
   "metadata": {},
   "outputs": [],
   "source": [
    "df = data[[ '订单编号', '订单状态','订单子状态', '订单挂起原因', '安装失败原因', '订单来源', '店铺', '订单金额',\n",
    "       '订单生成时间', '交易完成时间', '发货时间', '物流单回填时间', '入网用户姓名', '入网身份证号', '入网手机号',\n",
    "       '收货人姓名', '收货地址', '收货人电话号码', '邮编', '所在省 / 市 / 县', '号码归属地', 'CPS推荐人',\n",
    "       '订单备注', '物流单号', '物流签收时间', '承运商', '大小卡类型', '写卡渠道', '销售品编号', '销售品名称',\n",
    "       '销售品类型', '套餐', '主号码', '副号码', '现金预存款', '靓号低消', '靓号等级', '靓号预存款',\n",
    "       '营业厅送货方式', '是否线下模式', '是否线下转线上', '线下转线上原因', '营业厅送货iccid']]#,'京东不可达原因'"
   ]
  },
  {
   "cell_type": "code",
   "execution_count": 8,
   "metadata": {},
   "outputs": [
    {
     "data": {
      "text/plain": [
       "(946115, 43)"
      ]
     },
     "execution_count": 8,
     "metadata": {},
     "output_type": "execute_result"
    }
   ],
   "source": [
    "df.shape"
   ]
  },
  {
   "cell_type": "markdown",
   "metadata": {},
   "source": [
    "### 所在省/市/县/=\"//\"的删除"
   ]
  },
  {
   "cell_type": "code",
   "execution_count": 9,
   "metadata": {
    "scrolled": true
   },
   "outputs": [
    {
     "data": {
      "text/plain": [
       "北京/北京市/东城区            9603\n",
       "北京/北京市/海淀区            6913\n",
       "广东/深圳市/宝安区            6732\n",
       "北京/北京市/朝阳区            6569\n",
       "广东/广州市/白云区            5363\n",
       "上海/上海市/浦东新区           5258\n",
       "广东/深圳市/龙岗区            4854\n",
       "广东/东莞市/东莞市            4623\n",
       "北京/北京市/大兴区            4535\n",
       "吉林/长春市/南关区            4227\n",
       "广东/佛山市/南海区            3752\n",
       "广东/广州市/天河区            3674\n",
       "湖北/武汉市/洪山区            3627\n",
       "北京/北京市/昌平区            3424\n",
       "北京/北京市/丰台区            3074\n",
       "广东/广州市/番禺区            2902\n",
       "陕西/西安市/雁塔区            2896\n",
       "广东/佛山市/顺德区            2885\n",
       "江苏/苏州市/昆山市            2696\n",
       "广东/深圳市/龙华新区           2669\n",
       "湖南/长沙市/岳麓区            2510\n",
       "黑龙江/齐齐哈尔市/克东县         2456\n",
       "上海/上海市/闵行区            2450\n",
       "陕西/西安市/未央区            2444\n",
       "河南/郑州市/金水区            2380\n",
       "北京/北京市/通州区            2354\n",
       "云南/昆明市/官渡区            2235\n",
       "广东/深圳市/南山区            2192\n",
       "黑龙江/齐齐哈尔市/龙江县         2190\n",
       "河北/秦皇岛市/海港区           2183\n",
       "                      ... \n",
       "河南省/焦作市/解放区              1\n",
       "河北/北京市/东城区               1\n",
       "山东省/滨州市/邹平县              1\n",
       "云南省/曲靖市/师宗县              1\n",
       "广西壮族自治区/梧州市/藤县           1\n",
       "内蒙古自治区/兴安盟/扎赉特旗          1\n",
       "浙江/北京市/崇文区               1\n",
       "云南省/德宏傣族景颇族自治州/盈江县       1\n",
       "河北省/唐山市/路北区              1\n",
       "海南/定安县/南海农场              1\n",
       "广西壮族自治区/南宁市/上林县          1\n",
       "甘肃省/酒泉市/敦煌市              1\n",
       "河南/信阳市/中原区               1\n",
       "重庆/重庆市/高新区               1\n",
       "河南省/新乡市/辉县市              1\n",
       "贵州省/遵义市/务川仡佬族苗族自治县       1\n",
       "吉林省/四平市/铁西区              1\n",
       "云南省/丽江市/玉龙纳西族自治县         1\n",
       "四川省/德阳市/什邡市              1\n",
       "黑龙江省/鹤岗市/兴安区             1\n",
       "江苏省/南京市/溧水区              1\n",
       "湖南省/邵阳市/新邵县              1\n",
       "湖北省/黄石市/阳新县              1\n",
       "云南省/怒江傈僳族自治州/泸水市         1\n",
       "山东省/潍坊市/高密市              1\n",
       "海南/琼中黎族自治县/城区            1\n",
       "甘肃省/兰州市/榆中县              1\n",
       "内蒙古自治区/鄂尔多斯市/乌审旗         1\n",
       "黑龙江省/哈尔滨市/五常市            1\n",
       "福建省/龙岩市/永定区              1\n",
       "Name: 所在省 / 市 / 县, Length: 5115, dtype: int64"
      ]
     },
     "execution_count": 9,
     "metadata": {},
     "output_type": "execute_result"
    }
   ],
   "source": [
    "df[\"所在省 / 市 / 县\"].value_counts()"
   ]
  },
  {
   "cell_type": "code",
   "execution_count": 10,
   "metadata": {},
   "outputs": [],
   "source": [
    "# 去“//”\n",
    "df = df[df[\"所在省 / 市 / 县\"].str.contains(\"^//$\",regex=True) == False]"
   ]
  },
  {
   "cell_type": "code",
   "execution_count": 11,
   "metadata": {
    "scrolled": true
   },
   "outputs": [
    {
     "data": {
      "text/plain": [
       "北京/北京市/东城区            9603\n",
       "北京/北京市/海淀区            6913\n",
       "广东/深圳市/宝安区            6732\n",
       "北京/北京市/朝阳区            6569\n",
       "广东/广州市/白云区            5363\n",
       "上海/上海市/浦东新区           5258\n",
       "广东/深圳市/龙岗区            4854\n",
       "广东/东莞市/东莞市            4623\n",
       "北京/北京市/大兴区            4535\n",
       "吉林/长春市/南关区            4227\n",
       "广东/佛山市/南海区            3752\n",
       "广东/广州市/天河区            3674\n",
       "湖北/武汉市/洪山区            3627\n",
       "北京/北京市/昌平区            3424\n",
       "北京/北京市/丰台区            3074\n",
       "广东/广州市/番禺区            2902\n",
       "陕西/西安市/雁塔区            2896\n",
       "广东/佛山市/顺德区            2885\n",
       "江苏/苏州市/昆山市            2696\n",
       "广东/深圳市/龙华新区           2669\n",
       "湖南/长沙市/岳麓区            2510\n",
       "黑龙江/齐齐哈尔市/克东县         2456\n",
       "上海/上海市/闵行区            2450\n",
       "陕西/西安市/未央区            2444\n",
       "河南/郑州市/金水区            2380\n",
       "北京/北京市/通州区            2354\n",
       "云南/昆明市/官渡区            2235\n",
       "广东/深圳市/南山区            2192\n",
       "黑龙江/齐齐哈尔市/龙江县         2190\n",
       "河北/秦皇岛市/海港区           2183\n",
       "                      ... \n",
       "河南省/焦作市/解放区              1\n",
       "河北/北京市/东城区               1\n",
       "山东省/滨州市/邹平县              1\n",
       "云南省/曲靖市/师宗县              1\n",
       "广西壮族自治区/梧州市/藤县           1\n",
       "内蒙古自治区/兴安盟/扎赉特旗          1\n",
       "浙江/北京市/崇文区               1\n",
       "云南省/德宏傣族景颇族自治州/盈江县       1\n",
       "河北省/唐山市/路北区              1\n",
       "海南/定安县/南海农场              1\n",
       "广西壮族自治区/南宁市/上林县          1\n",
       "甘肃省/酒泉市/敦煌市              1\n",
       "河南/信阳市/中原区               1\n",
       "重庆/重庆市/高新区               1\n",
       "河南省/新乡市/辉县市              1\n",
       "贵州省/遵义市/务川仡佬族苗族自治县       1\n",
       "吉林省/四平市/铁西区              1\n",
       "云南省/丽江市/玉龙纳西族自治县         1\n",
       "四川省/德阳市/什邡市              1\n",
       "黑龙江省/鹤岗市/兴安区             1\n",
       "江苏省/南京市/溧水区              1\n",
       "湖南省/邵阳市/新邵县              1\n",
       "湖北省/黄石市/阳新县              1\n",
       "云南省/怒江傈僳族自治州/泸水市         1\n",
       "山东省/潍坊市/高密市              1\n",
       "海南/琼中黎族自治县/城区            1\n",
       "甘肃省/兰州市/榆中县              1\n",
       "内蒙古自治区/鄂尔多斯市/乌审旗         1\n",
       "黑龙江省/哈尔滨市/五常市            1\n",
       "福建省/龙岩市/永定区              1\n",
       "Name: 所在省 / 市 / 县, Length: 5115, dtype: int64"
      ]
     },
     "execution_count": 11,
     "metadata": {},
     "output_type": "execute_result"
    }
   ],
   "source": [
    "df[\"所在省 / 市 / 县\"].value_counts()"
   ]
  },
  {
   "cell_type": "markdown",
   "metadata": {},
   "source": [
    "### 统一所在省"
   ]
  },
  {
   "cell_type": "code",
   "execution_count": 12,
   "metadata": {},
   "outputs": [],
   "source": [
    "split = pd.DataFrame((x.split('/') for x in df['所在省 / 市 / 县']), index=df.index, columns=['所在省','所在市','所在县'])\n",
    "df = pd.merge(df,split,left_index=True,right_index=True)"
   ]
  },
  {
   "cell_type": "code",
   "execution_count": 13,
   "metadata": {},
   "outputs": [],
   "source": [
    "# 统一所在省\n",
    "dict_province = {'焦作市':'河南','河南省':'河南','河北省':'河北','贵州省':'贵州','湖南省':'湖南','广东省':'广东','江苏省':'江苏','山西省':'山西',\n",
    "    '吉林省':'吉林','山东省':'山东','广西壮族自治区':'广西','湖北省':'湖北','陕西省':'陕西','浙江省':'浙江','福建省':'福建',\n",
    "    '内蒙古自治区':'内蒙古','云南省':'云南','辽宁省':'辽宁','江西省':'江西','四川省':'四川','黑龙江省':'黑龙江','安徽省':'安徽',\n",
    "    '甘肃省':'甘肃','西藏自治区':'西藏','青海省':'青海','宁夏回族自治区':'宁夏',\n",
    "    '海南省':'海南','六安市':'安徽','东莞市':'广东','新疆维吾尔自治区':'新疆'}\n",
    "df = df.replace(dict_province)"
   ]
  },
  {
   "cell_type": "code",
   "execution_count": 14,
   "metadata": {},
   "outputs": [
    {
     "data": {
      "text/plain": [
       "广东     112745\n",
       "山东      68668\n",
       "河南      57503\n",
       "江苏      50921\n",
       "河北      48997\n",
       "黑龙江     48556\n",
       "北京      44197\n",
       "湖南      43078\n",
       "辽宁      41084\n",
       "湖北      39010\n",
       "浙江      38021\n",
       "四川      34836\n",
       "陕西      29317\n",
       "云南      27050\n",
       "吉林      26482\n",
       "山西      25894\n",
       "广西      25786\n",
       "上海      22323\n",
       "内蒙古     22011\n",
       "贵州      18766\n",
       "福建      18206\n",
       "安徽      17958\n",
       "重庆      16544\n",
       "江西      15977\n",
       "甘肃      14647\n",
       "天津      12416\n",
       "新疆      10242\n",
       "宁夏       6487\n",
       "海南       4027\n",
       "青海       2894\n",
       "西藏       1472\n",
       "Name: 所在省, dtype: int64"
      ]
     },
     "execution_count": 14,
     "metadata": {},
     "output_type": "execute_result"
    }
   ],
   "source": [
    "df[\"所在省\"].value_counts()"
   ]
  },
  {
   "cell_type": "markdown",
   "metadata": {},
   "source": [
    "### 号码归属地=\"/\"的删除"
   ]
  },
  {
   "cell_type": "code",
   "execution_count": 15,
   "metadata": {},
   "outputs": [
    {
     "data": {
      "text/plain": [
       "北京/市辖区                  140348\n",
       "广东省/广州市                  23438\n",
       "上海市/市辖区                  21764\n",
       "广东省/深圳市                  20217\n",
       "湖北省/武汉市                  14948\n",
       "重庆市/市辖区                  14120\n",
       "浙江省/杭州市                  13972\n",
       "四川省/成都市                  13627\n",
       "陕西省/西安市                  13398\n",
       "广东省/东莞市                  13057\n",
       "河南省/郑州市                  11459\n",
       "黑龙江省/齐齐哈尔市               11276\n",
       "湖南省/长沙市                  11069\n",
       "天津市/市辖区                  10299\n",
       "吉林省/长春市                  10235\n",
       "黑龙江省/哈尔滨市                10152\n",
       "辽宁省/沈阳市                   9419\n",
       "河北省/石家庄市                  8906\n",
       "江苏省/苏州市                   8812\n",
       "云南省/昆明市                   8604\n",
       "辽宁省/大连市                   8122\n",
       "山东省/青岛市                   7792\n",
       "广东省/佛山市                   7449\n",
       "山东省/济南市                   6991\n",
       "江苏省/南京市                   6221\n",
       "山东省/临沂市                   5717\n",
       "广西壮族自治区/南宁市               5500\n",
       "山东省/潍坊市                   5430\n",
       "山东省/烟台市                   5391\n",
       "河北省/唐山市                   5134\n",
       "                         ...  \n",
       "湖北省/潜江市                    271\n",
       "黑龙江省/大兴安岭地区                266\n",
       "新疆维吾尔自治区/塔城地区              262\n",
       "甘肃省/甘南藏族自治州                257\n",
       "四川省/甘孜藏族自治州                254\n",
       "甘肃省/嘉峪关市                   232\n",
       "新疆维吾尔自治区/阿勒泰地区             232\n",
       "四川省/阿坝藏族羌族自治州              223\n",
       "西藏自治区/日喀则地区                206\n",
       "新疆维吾尔自治区/和田地区              203\n",
       "河南省/济源市                    197\n",
       "新疆维吾尔自治区/博尔塔拉蒙古自治州         195\n",
       "青海省/海西蒙古族藏族自治州             193\n",
       "云南省/怒江傈僳族自治州               185\n",
       "新疆维吾尔自治区/吐鲁番地区             169\n",
       "西藏自治区/林芝地区                 135\n",
       "云南省/迪庆藏族自治州                130\n",
       "青海省/海南藏族自治州                120\n",
       "西藏自治区/山南地区                 111\n",
       "西藏自治区/昌都地区                 106\n",
       "新疆维吾尔自治区/克孜勒苏柯尔克孜自治州        97\n",
       "青海省/玉树藏族自治州                 81\n",
       "青海省/黄南藏族自治州                 77\n",
       "新疆维吾尔自治区/奎屯市                74\n",
       "青海省/海北藏族自治州                 70\n",
       "青海省/格尔木市                    59\n",
       "西藏自治区/阿里地区                  56\n",
       "西藏自治区/那曲地区                  52\n",
       "青海省/果洛藏族自治州                 46\n",
       "湖北省/林区（神农架）                 39\n",
       "Name: 号码归属地, Length: 343, dtype: int64"
      ]
     },
     "execution_count": 15,
     "metadata": {},
     "output_type": "execute_result"
    }
   ],
   "source": [
    "df[\"号码归属地\"].value_counts()"
   ]
  },
  {
   "cell_type": "code",
   "execution_count": 16,
   "metadata": {},
   "outputs": [],
   "source": [
    "df = df[df[\"号码归属地\"].str.contains(\"^/$\",regex=True) == False]"
   ]
  },
  {
   "cell_type": "code",
   "execution_count": 17,
   "metadata": {},
   "outputs": [],
   "source": [
    "split1 = pd.DataFrame((x.split('/') for x in df['号码归属地']), index=df.index, columns=['号码归属省','号码归属市'])\n",
    "df = pd.merge(df,split1,left_index=True,right_index=True)"
   ]
  },
  {
   "cell_type": "code",
   "execution_count": 18,
   "metadata": {},
   "outputs": [
    {
     "data": {
      "text/plain": [
       "北京/市辖区                  140348\n",
       "广东省/广州市                  23438\n",
       "上海市/市辖区                  21764\n",
       "广东省/深圳市                  20217\n",
       "湖北省/武汉市                  14948\n",
       "重庆市/市辖区                  14120\n",
       "浙江省/杭州市                  13972\n",
       "四川省/成都市                  13627\n",
       "陕西省/西安市                  13398\n",
       "广东省/东莞市                  13057\n",
       "河南省/郑州市                  11459\n",
       "黑龙江省/齐齐哈尔市               11276\n",
       "湖南省/长沙市                  11069\n",
       "天津市/市辖区                  10299\n",
       "吉林省/长春市                  10235\n",
       "黑龙江省/哈尔滨市                10152\n",
       "辽宁省/沈阳市                   9419\n",
       "河北省/石家庄市                  8906\n",
       "江苏省/苏州市                   8812\n",
       "云南省/昆明市                   8604\n",
       "辽宁省/大连市                   8122\n",
       "山东省/青岛市                   7792\n",
       "广东省/佛山市                   7449\n",
       "山东省/济南市                   6991\n",
       "江苏省/南京市                   6221\n",
       "山东省/临沂市                   5717\n",
       "广西壮族自治区/南宁市               5500\n",
       "山东省/潍坊市                   5430\n",
       "山东省/烟台市                   5391\n",
       "河北省/唐山市                   5134\n",
       "                         ...  \n",
       "湖北省/潜江市                    271\n",
       "黑龙江省/大兴安岭地区                266\n",
       "新疆维吾尔自治区/塔城地区              262\n",
       "甘肃省/甘南藏族自治州                257\n",
       "四川省/甘孜藏族自治州                254\n",
       "甘肃省/嘉峪关市                   232\n",
       "新疆维吾尔自治区/阿勒泰地区             232\n",
       "四川省/阿坝藏族羌族自治州              223\n",
       "西藏自治区/日喀则地区                206\n",
       "新疆维吾尔自治区/和田地区              203\n",
       "河南省/济源市                    197\n",
       "新疆维吾尔自治区/博尔塔拉蒙古自治州         195\n",
       "青海省/海西蒙古族藏族自治州             193\n",
       "云南省/怒江傈僳族自治州               185\n",
       "新疆维吾尔自治区/吐鲁番地区             169\n",
       "西藏自治区/林芝地区                 135\n",
       "云南省/迪庆藏族自治州                130\n",
       "青海省/海南藏族自治州                120\n",
       "西藏自治区/山南地区                 111\n",
       "西藏自治区/昌都地区                 106\n",
       "新疆维吾尔自治区/克孜勒苏柯尔克孜自治州        97\n",
       "青海省/玉树藏族自治州                 81\n",
       "青海省/黄南藏族自治州                 77\n",
       "新疆维吾尔自治区/奎屯市                74\n",
       "青海省/海北藏族自治州                 70\n",
       "青海省/格尔木市                    59\n",
       "西藏自治区/阿里地区                  56\n",
       "西藏自治区/那曲地区                  52\n",
       "青海省/果洛藏族自治州                 46\n",
       "湖北省/林区（神农架）                 39\n",
       "Name: 号码归属地, Length: 343, dtype: int64"
      ]
     },
     "execution_count": 18,
     "metadata": {},
     "output_type": "execute_result"
    }
   ],
   "source": [
    "df[\"号码归属地\"].value_counts()"
   ]
  },
  {
   "cell_type": "markdown",
   "metadata": {},
   "source": [
    "### 订单状态办理类的行删除"
   ]
  },
  {
   "cell_type": "code",
   "execution_count": 19,
   "metadata": {},
   "outputs": [],
   "source": [
    "df = df[df[\"订单状态\"].str.contains(\"办理\") == False]"
   ]
  },
  {
   "cell_type": "code",
   "execution_count": 20,
   "metadata": {},
   "outputs": [
    {
     "data": {
      "text/plain": [
       "交易完成        445977\n",
       "订单关闭        239217\n",
       "已发货         134003\n",
       "拆机中          49832\n",
       "订单退回待关闭      29976\n",
       "订单信息审核失败     23944\n",
       "订单生成等待上传      7322\n",
       "退款成功          4472\n",
       "系统审核订单        2991\n",
       "已取消           2007\n",
       "订单照片上传中       1875\n",
       "身份信息审核失败      1697\n",
       "开始备货           815\n",
       "激活失败           360\n",
       "身份初审失败         200\n",
       "撤单成功            84\n",
       "支付成功            80\n",
       "激活中             69\n",
       "订单失效            40\n",
       "退款中             26\n",
       "已拒收             17\n",
       "身份照片核验失败        16\n",
       "退款审核中           11\n",
       "身份信息审核成功        11\n",
       "待人工审核            4\n",
       "退款失败             4\n",
       "身份信息审核中          3\n",
       "身份复审失败           1\n",
       "Name: 订单状态, dtype: int64"
      ]
     },
     "execution_count": 20,
     "metadata": {},
     "output_type": "execute_result"
    }
   ],
   "source": [
    "df[\"订单状态\"].value_counts()"
   ]
  },
  {
   "cell_type": "markdown",
   "metadata": {},
   "source": [
    "### 收货地址去空"
   ]
  },
  {
   "cell_type": "code",
   "execution_count": 21,
   "metadata": {},
   "outputs": [
    {
     "data": {
      "text/plain": [
       "False    945045\n",
       "Name: 收货地址, dtype: int64"
      ]
     },
     "execution_count": 21,
     "metadata": {},
     "output_type": "execute_result"
    }
   ],
   "source": [
    "df[\"收货地址\"].isnull().value_counts()\n",
    "df = df.dropna(subset=[\"收货地址\"])\n",
    "df[\"收货地址\"].isnull().value_counts()"
   ]
  },
  {
   "cell_type": "markdown",
   "metadata": {},
   "source": [
    "### 统一承运商名称"
   ]
  },
  {
   "cell_type": "code",
   "execution_count": 22,
   "metadata": {},
   "outputs": [
    {
     "data": {
      "text/plain": [
       "京东线下                              499738\n",
       "京东物流                               67316\n",
       "EMS                                50423\n",
       "顺丰                                 33862\n",
       "中通                                 13987\n",
       "韵达                                  5947\n",
       "??                                  3335\n",
       "营业厅送货                               1082\n",
       "邮政包裹                                 929\n",
       "恒宇运通                                 866\n",
       "宅急送                                  503\n",
       "JDWL                                 412\n",
       "其他                                   116\n",
       "顺丰物流                                  29\n",
       "690000000001008062869234778112         4\n",
       "1142862029117                          2\n",
       "1142862031417                          2\n",
       "1142862030517                          2\n",
       "1142862032817                          2\n",
       "600302845100008018322105827328         2\n",
       "1142862033117                          1\n",
       "1142862041617                          1\n",
       "1142862034517                          1\n",
       "254020681495                           1\n",
       "600302845000007981133646004224         1\n",
       "Name: 承运商, dtype: int64"
      ]
     },
     "execution_count": 22,
     "metadata": {},
     "output_type": "execute_result"
    }
   ],
   "source": [
    "dict_carrier ={'ems':'EMS','邮政':'EMS','100000137':'圆通','ZHAIJISONG':'宅急送','jingdongwuliu':'京东物流','yunda':'韵达','shunfeng':'顺丰','EMS物流':'EMS'}\n",
    "df =df.replace(dict_carrier)\n",
    "df[\"承运商\"].value_counts()"
   ]
  },
  {
   "cell_type": "code",
   "execution_count": 23,
   "metadata": {},
   "outputs": [
    {
     "data": {
      "text/plain": [
       "0    峡山街道华桥练江护堤路43号\n",
       "1         海子角农贸市场A区\n",
       "2         海子角农贸市场A区\n",
       "Name: 收货地址, dtype: object"
      ]
     },
     "execution_count": 23,
     "metadata": {},
     "output_type": "execute_result"
    }
   ],
   "source": [
    "df[\"收货地址\"][0:3]"
   ]
  },
  {
   "cell_type": "code",
   "execution_count": 24,
   "metadata": {},
   "outputs": [],
   "source": [
    "df.to_csv(r\"G:\\work\\basic\\alter\\1903_info_alter_gai.csv\",index=False)"
   ]
  }
 ],
 "metadata": {
  "kernelspec": {
   "display_name": "Python 3",
   "language": "python",
   "name": "python3"
  },
  "language_info": {
   "codemirror_mode": {
    "name": "ipython",
    "version": 3
   },
   "file_extension": ".py",
   "mimetype": "text/x-python",
   "name": "python",
   "nbconvert_exporter": "python",
   "pygments_lexer": "ipython3",
   "version": "3.6.6"
  }
 },
 "nbformat": 4,
 "nbformat_minor": 2
}
