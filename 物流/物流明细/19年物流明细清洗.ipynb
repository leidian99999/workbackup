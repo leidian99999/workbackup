{
 "cells": [
  {
   "cell_type": "code",
   "execution_count": 1,
   "metadata": {},
   "outputs": [],
   "source": [
    "import pandas as pd\n",
    "import re"
   ]
  },
  {
   "cell_type": "code",
   "execution_count": 2,
   "metadata": {
    "scrolled": true
   },
   "outputs": [
    {
     "name": "stderr",
     "output_type": "stream",
     "text": [
      "d:\\python\\envs\\jupyterpy36\\lib\\site-packages\\ipykernel_launcher.py:1: ParserWarning: Falling back to the 'python' engine because the 'c' engine does not support sep=None with delim_whitespace=False; you can avoid this warning by specifying engine='python'.\n",
      "  \"\"\"Entry point for launching an IPython kernel.\n"
     ]
    }
   ],
   "source": [
    "data = pd.read_csv(r\"G:\\work\\logistica\\info\\input\\1902info_L\\cha\\1902cha_jingdongwuliu.csv\",sep = None,encoding='utf8')"
   ]
  },
  {
   "cell_type": "code",
   "execution_count": 3,
   "metadata": {},
   "outputs": [
    {
     "data": {
      "text/plain": [
       "(295898, 11)"
      ]
     },
     "execution_count": 3,
     "metadata": {},
     "output_type": "execute_result"
    }
   ],
   "source": [
    "data.shape"
   ]
  },
  {
   "cell_type": "code",
   "execution_count": 4,
   "metadata": {},
   "outputs": [
    {
     "data": {
      "text/html": [
       "<div>\n",
       "<style scoped>\n",
       "    .dataframe tbody tr th:only-of-type {\n",
       "        vertical-align: middle;\n",
       "    }\n",
       "\n",
       "    .dataframe tbody tr th {\n",
       "        vertical-align: top;\n",
       "    }\n",
       "\n",
       "    .dataframe thead th {\n",
       "        text-align: right;\n",
       "    }\n",
       "</style>\n",
       "<table border=\"1\" class=\"dataframe\">\n",
       "  <thead>\n",
       "    <tr style=\"text-align: right;\">\n",
       "      <th></th>\n",
       "      <th>﻿\"ORDER_ID\"</th>\n",
       "      <th>MAIL_NO</th>\n",
       "      <th>ORDER_STATUS</th>\n",
       "      <th>PROV_NAME</th>\n",
       "      <th>CITY_NAME</th>\n",
       "      <th>CHANNEL_ID</th>\n",
       "      <th>LOGISTICS_COMPANY</th>\n",
       "      <th>ACTION</th>\n",
       "      <th>PARTNER_ACTION</th>\n",
       "      <th>ROUTE_TIME</th>\n",
       "      <th>DESCRIPTION</th>\n",
       "    </tr>\n",
       "  </thead>\n",
       "  <tbody>\n",
       "    <tr>\n",
       "      <th>0</th>\n",
       "      <td>600000000000008319020100865032</td>\n",
       "      <td>V050315123412</td>\n",
       "      <td>交易完成</td>\n",
       "      <td>北京</td>\n",
       "      <td>北京</td>\n",
       "      <td>20001.0</td>\n",
       "      <td>jingdongwuliu</td>\n",
       "      <td>NaN</td>\n",
       "      <td>快递签收</td>\n",
       "      <td>2019-02-01 12:43:33.000000000</td>\n",
       "      <td>货物已交付京东物流</td>\n",
       "    </tr>\n",
       "    <tr>\n",
       "      <th>1</th>\n",
       "      <td>600000000000008319020100865032</td>\n",
       "      <td>V050315123412</td>\n",
       "      <td>交易完成</td>\n",
       "      <td>北京</td>\n",
       "      <td>北京</td>\n",
       "      <td>20001.0</td>\n",
       "      <td>jingdongwuliu</td>\n",
       "      <td>NaN</td>\n",
       "      <td>配送员完成揽收</td>\n",
       "      <td>2019-02-01 12:43:33.000000000</td>\n",
       "      <td>配送员高如霞已经揽收完成</td>\n",
       "    </tr>\n",
       "    <tr>\n",
       "      <th>2</th>\n",
       "      <td>600000000000008319020100865032</td>\n",
       "      <td>V050315123412</td>\n",
       "      <td>交易完成</td>\n",
       "      <td>北京</td>\n",
       "      <td>北京</td>\n",
       "      <td>20001.0</td>\n",
       "      <td>jingdongwuliu</td>\n",
       "      <td>NaN</td>\n",
       "      <td>分拣中心验货</td>\n",
       "      <td>2019-02-01 19:28:38.000000000</td>\n",
       "      <td>货物已到达【北京通州分拣中心】</td>\n",
       "    </tr>\n",
       "    <tr>\n",
       "      <th>3</th>\n",
       "      <td>600000000000008319020100865032</td>\n",
       "      <td>V050315123412</td>\n",
       "      <td>交易完成</td>\n",
       "      <td>北京</td>\n",
       "      <td>北京</td>\n",
       "      <td>20001.0</td>\n",
       "      <td>jingdongwuliu</td>\n",
       "      <td>NaN</td>\n",
       "      <td>分拣中心发货</td>\n",
       "      <td>2019-02-02 03:38:47.000000000</td>\n",
       "      <td>货物已完成分拣，离开【北京通州分拣中心】</td>\n",
       "    </tr>\n",
       "    <tr>\n",
       "      <th>4</th>\n",
       "      <td>600000000000008319020100865032</td>\n",
       "      <td>V050315123412</td>\n",
       "      <td>交易完成</td>\n",
       "      <td>北京</td>\n",
       "      <td>北京</td>\n",
       "      <td>20001.0</td>\n",
       "      <td>jingdongwuliu</td>\n",
       "      <td>NaN</td>\n",
       "      <td>站点收货</td>\n",
       "      <td>2019-02-02 07:55:54.000000000</td>\n",
       "      <td>货物已到达【北京纪家庙营业部】</td>\n",
       "    </tr>\n",
       "  </tbody>\n",
       "</table>\n",
       "</div>"
      ],
      "text/plain": [
       "                      ﻿\"ORDER_ID\"        MAIL_NO ORDER_STATUS PROV_NAME  \\\n",
       "0  600000000000008319020100865032  V050315123412         交易完成        北京   \n",
       "1  600000000000008319020100865032  V050315123412         交易完成        北京   \n",
       "2  600000000000008319020100865032  V050315123412         交易完成        北京   \n",
       "3  600000000000008319020100865032  V050315123412         交易完成        北京   \n",
       "4  600000000000008319020100865032  V050315123412         交易完成        北京   \n",
       "\n",
       "  CITY_NAME  CHANNEL_ID LOGISTICS_COMPANY  ACTION PARTNER_ACTION  \\\n",
       "0        北京     20001.0     jingdongwuliu     NaN           快递签收   \n",
       "1        北京     20001.0     jingdongwuliu     NaN        配送员完成揽收   \n",
       "2        北京     20001.0     jingdongwuliu     NaN         分拣中心验货   \n",
       "3        北京     20001.0     jingdongwuliu     NaN         分拣中心发货   \n",
       "4        北京     20001.0     jingdongwuliu     NaN           站点收货   \n",
       "\n",
       "                      ROUTE_TIME           DESCRIPTION  \n",
       "0  2019-02-01 12:43:33.000000000             货物已交付京东物流  \n",
       "1  2019-02-01 12:43:33.000000000          配送员高如霞已经揽收完成  \n",
       "2  2019-02-01 19:28:38.000000000       货物已到达【北京通州分拣中心】  \n",
       "3  2019-02-02 03:38:47.000000000  货物已完成分拣，离开【北京通州分拣中心】  \n",
       "4  2019-02-02 07:55:54.000000000       货物已到达【北京纪家庙营业部】  "
      ]
     },
     "execution_count": 4,
     "metadata": {},
     "output_type": "execute_result"
    }
   ],
   "source": [
    "data.head()"
   ]
  },
  {
   "cell_type": "code",
   "execution_count": 5,
   "metadata": {},
   "outputs": [],
   "source": [
    "df = data.copy()"
   ]
  },
  {
   "cell_type": "code",
   "execution_count": 6,
   "metadata": {},
   "outputs": [
    {
     "data": {
      "text/plain": [
       "分拣中心发货      58959\n",
       "分拣中心验货      45022\n",
       "配送员收货       38983\n",
       "配送员完成揽收     32400\n",
       "站点验货        30815\n",
       "快递签收        30684\n",
       "妥投          27181\n",
       "站点收货        18287\n",
       "再投           9023\n",
       "提货登记         2059\n",
       "换单打印          869\n",
       "拒收            697\n",
       "自提上架          475\n",
       "揽件再取          305\n",
       "超时催提           82\n",
       "上门接货退货完成       37\n",
       "逆向分拣中心发货        8\n",
       "退货运单打印          6\n",
       "终止揽收            3\n",
       "下单取消            3\n",
       "Name: PARTNER_ACTION, dtype: int64"
      ]
     },
     "execution_count": 6,
     "metadata": {},
     "output_type": "execute_result"
    }
   ],
   "source": [
    "df[\"PARTNER_ACTION\"].value_counts()"
   ]
  },
  {
   "cell_type": "code",
   "execution_count": 7,
   "metadata": {},
   "outputs": [],
   "source": [
    "df1 = df[df[\"PARTNER_ACTION\"] == \"站点收货\"].reset_index(drop=True)\n",
    "df2 = df[df[\"PARTNER_ACTION\"] == \"配送员收货\"].reset_index(drop=True)"
   ]
  },
  {
   "cell_type": "code",
   "execution_count": 8,
   "metadata": {},
   "outputs": [
    {
     "name": "stdout",
     "output_type": "stream",
     "text": [
      "站点收货：(18287, 11)\n",
      "配送员收货：(38983, 11)\n"
     ]
    }
   ],
   "source": [
    "print(\"站点收货：\"+ str(df1.shape))\n",
    "print(\"配送员收货：\"+ str(df2.shape))"
   ]
  },
  {
   "cell_type": "code",
   "execution_count": 9,
   "metadata": {},
   "outputs": [
    {
     "data": {
      "text/plain": [
       "0     配送员开始配送，请您准备收货，配送员，程波，手机号，18514400720\n",
       "1     配送员开始配送，请您准备收货，配送员，卢萍，手机号，17732609044\n",
       "2    配送员开始配送，请您准备收货，配送员，张殿峰，手机号，17701209086\n",
       "Name: DESCRIPTION, dtype: object"
      ]
     },
     "execution_count": 9,
     "metadata": {},
     "output_type": "execute_result"
    }
   ],
   "source": [
    "df2[\"DESCRIPTION\"][0:3]"
   ]
  },
  {
   "cell_type": "code",
   "execution_count": 10,
   "metadata": {},
   "outputs": [],
   "source": [
    "def get_JD19_lastStations(JD):\n",
    "    JD_name_list = []\n",
    "    for i in JD:\n",
    "        JD_name_dict = {}\n",
    "        JD_name_dict[\"JD_lastStation\"] = str(re.findall(\"货物已到达【(\\\\w+)】\",i)).replace(\"['\",\"\").replace(\"']\",\"\")\n",
    "\n",
    "        JD_name_list.append(JD_name_dict)\n",
    "#         print(JD_name_dict[\"JD_lastStation\"])\n",
    "    return JD_name_list"
   ]
  },
  {
   "cell_type": "code",
   "execution_count": 11,
   "metadata": {},
   "outputs": [],
   "source": [
    "def get_JD19_deliveryman(JD):\n",
    "    JD_name_list = []\n",
    "    for i in JD:\n",
    "        JD_name_dict = {}\n",
    "        JD_name_dict[\"JD_deliveryman_name\"] = str(re.findall(\"配送员，(\\\\w+)\",i)).replace(\"['\",\"\").replace(\"']\",\"\")\n",
    "        JD_name_dict[\"JD_deliveryman_tel\"] = str(re.findall(\"手机号，(\\\\d+)\",i)).replace(\"['\",\"\").replace(\"']\",\"\")\n",
    "\n",
    "        JD_name_list.append(JD_name_dict)\n",
    "#         print(JD_name_dict[\"JD_lastStation\"])\n",
    "    return JD_name_list"
   ]
  },
  {
   "cell_type": "code",
   "execution_count": 12,
   "metadata": {},
   "outputs": [],
   "source": [
    "df3 = pd.DataFrame(get_JD19_lastStations(df1[\"DESCRIPTION\"]))"
   ]
  },
  {
   "cell_type": "code",
   "execution_count": 13,
   "metadata": {},
   "outputs": [],
   "source": [
    "df4 = pd.DataFrame(get_JD19_deliveryman(df2[\"DESCRIPTION\"]))"
   ]
  },
  {
   "cell_type": "code",
   "execution_count": 18,
   "metadata": {},
   "outputs": [],
   "source": [
    "df_LS = pd.concat([df1,df3],axis=1)\n",
    "df_DM = pd.concat([df2,df4],axis=1)"
   ]
  },
  {
   "cell_type": "code",
   "execution_count": 26,
   "metadata": {
    "scrolled": true
   },
   "outputs": [
    {
     "name": "stdout",
     "output_type": "stream",
     "text": [
      "df_LS：(18287, 12)\n",
      "df_DM：(38983, 13)\n"
     ]
    }
   ],
   "source": [
    "print(\"df_LS：\"+ str(df_LS.shape))\n",
    "print(\"df_DM：\"+ str(df_DM.shape))"
   ]
  },
  {
   "cell_type": "code",
   "execution_count": 24,
   "metadata": {},
   "outputs": [],
   "source": [
    "df_LS.to_csv(r\"G:\\work\\logistica\\info\\output\\CHA\\CSV\\201902_JDWL_LS_cha.csv\",index=False)\n",
    "df_DM.to_csv(r\"G:\\work\\logistica\\info\\output\\CHA\\CSV\\201902_JDWL_DM_cha.csv\",index=False)"
   ]
  },
  {
   "cell_type": "code",
   "execution_count": 36,
   "metadata": {},
   "outputs": [
    {
     "data": {
      "text/plain": [
       "(24915, 17)"
      ]
     },
     "execution_count": 36,
     "metadata": {},
     "output_type": "execute_result"
    }
   ],
   "source": [
    "df5 = pd.merge(df_LS,\n",
    "               df_DM[['MAIL_NO','PARTNER_ACTION','ROUTE_TIME','DESCRIPTION','JD_deliveryman_name','JD_deliveryman_tel']],\n",
    "               how='inner',on=\"MAIL_NO\",suffixes=(\"_LS\",\"_DM\"))\n",
    "df5.shape"
   ]
  },
  {
   "cell_type": "code",
   "execution_count": 62,
   "metadata": {
    "scrolled": true
   },
   "outputs": [],
   "source": [
    "df5.to_excel(r\"G:\\work\\logistica\\info\\output\\CHA\\CSV\\201902_JDWL_cha.xlsx\",index=False)"
   ]
  },
  {
   "cell_type": "code",
   "execution_count": 55,
   "metadata": {},
   "outputs": [],
   "source": [
    "df6 = df5[df5[\"PROV_NAME\"] == \"重庆\"]"
   ]
  },
  {
   "cell_type": "code",
   "execution_count": 60,
   "metadata": {},
   "outputs": [
    {
     "data": {
      "text/plain": [
       "(99, 17)"
      ]
     },
     "execution_count": 60,
     "metadata": {},
     "output_type": "execute_result"
    }
   ],
   "source": [
    "df6.shape"
   ]
  },
  {
   "cell_type": "code",
   "execution_count": 61,
   "metadata": {},
   "outputs": [
    {
     "data": {
      "text/plain": [
       "JD_lastStation\n",
       "三门峡卢氏营业部       1\n",
       "上海华新营业部        1\n",
       "上海南浦营业部        1\n",
       "上海卢湾营业部        2\n",
       "上海新顺营业部        1\n",
       "上海金泽营业部        1\n",
       "东莞大京九营业部       1\n",
       "义乌后宅营业部        1\n",
       "伊犁师范营业部        1\n",
       "保定中天营业部        1\n",
       "保定仙颐园营业部       1\n",
       "兰州红山营业部        2\n",
       "北京天宫院营业部       1\n",
       "北京望京营业部        1\n",
       "北京黄庄营业部        1\n",
       "南京海峡营业部        2\n",
       "南京湖熟营业部        1\n",
       "厦门赵岗营业部        2\n",
       "咸阳秦都营业部        2\n",
       "哈尔滨盛平营业部       1\n",
       "喀什莎车营业部        1\n",
       "安顺平坝营业部        1\n",
       "宣城旌德营业部        1\n",
       "巴州库尔勒营业部       3\n",
       "广州大沙头营业部       1\n",
       "广州西华营业部        1\n",
       "广州钟村营业部        4\n",
       "广州黄阁营业部        2\n",
       "廊坊九州乡营业部       1\n",
       "开封兰考营业部        1\n",
       "              ..\n",
       "杭州致远营业部        3\n",
       "汕尾海丰营业部        2\n",
       "沙市营业部          1\n",
       "河源源城营业部        1\n",
       "泰州堰南营业部        1\n",
       "洛阳大唐营业部        1\n",
       "海口蓝天营业部        3\n",
       "海宁钱塘营业部        1\n",
       "涿州劳动关系学院京东派    1\n",
       "深圳蛇口营业部        2\n",
       "温岭迎宾营业部        2\n",
       "温州永强营业部        1\n",
       "温州白象营业部        2\n",
       "温州苍南营业部        1\n",
       "眉山仁寿营业部        2\n",
       "石家庄南三条营业部      1\n",
       "绍兴福全营业部        2\n",
       "绵阳安县营业部        1\n",
       "自贡荣县营业部        4\n",
       "苏州大学北区加盟京东派    1\n",
       "苏州新康营业部        1\n",
       "贵港城东营业部        1\n",
       "贵港平南营业部        1\n",
       "贵阳开阳营业部        1\n",
       "贵阳沙南营业部        1\n",
       "遂宁射洪营业部        1\n",
       "银川兴庆营业部        1\n",
       "青岛北关营业部        1\n",
       "黄山休宁营业部        1\n",
       "黄州营业部          1\n",
       "Name: JD_deliveryman_name, Length: 68, dtype: int64"
      ]
     },
     "execution_count": 61,
     "metadata": {},
     "output_type": "execute_result"
    }
   ],
   "source": [
    "df6['JD_deliveryman_name'].groupby(df6['JD_lastStation']).count()"
   ]
  },
  {
   "cell_type": "code",
   "execution_count": null,
   "metadata": {},
   "outputs": [],
   "source": []
  },
  {
   "cell_type": "code",
   "execution_count": null,
   "metadata": {},
   "outputs": [],
   "source": []
  },
  {
   "cell_type": "code",
   "execution_count": null,
   "metadata": {},
   "outputs": [],
   "source": []
  },
  {
   "cell_type": "code",
   "execution_count": null,
   "metadata": {},
   "outputs": [],
   "source": []
  },
  {
   "cell_type": "code",
   "execution_count": null,
   "metadata": {},
   "outputs": [],
   "source": []
  },
  {
   "cell_type": "code",
   "execution_count": null,
   "metadata": {},
   "outputs": [],
   "source": []
  },
  {
   "cell_type": "code",
   "execution_count": null,
   "metadata": {},
   "outputs": [],
   "source": []
  },
  {
   "cell_type": "code",
   "execution_count": null,
   "metadata": {},
   "outputs": [],
   "source": []
  },
  {
   "cell_type": "code",
   "execution_count": null,
   "metadata": {},
   "outputs": [],
   "source": []
  },
  {
   "cell_type": "code",
   "execution_count": 47,
   "metadata": {},
   "outputs": [
    {
     "data": {
      "text/plain": [
       "False    16471\n",
       "True      8444\n",
       "dtype: int64"
      ]
     },
     "execution_count": 47,
     "metadata": {},
     "output_type": "execute_result"
    }
   ],
   "source": [
    "# # df5[df5.duplicated(subset='MAIL_NO') == True]\n",
    "# df5.duplicated(subset='MAIL_NO').value_counts()\n",
    "\n",
    "\n",
    "\n",
    "# # df6 = df[df[\"PARTNER_ACTION\"] == \"妥投\"].reset_index(drop=True)\n",
    "\n",
    "# # df6.shape\n",
    "\n",
    "# # df7 = pd.merge(df5,df6,how='inner',on='MAIL_NO')\n",
    "\n",
    "# # df7.shape\n",
    "\n",
    "# # df7.duplicated(subset='MAIL_NO').value_counts()\n",
    "\n",
    "# # df7[df7.duplicated(subset='MAIL_NO') == True]"
   ]
  }
 ],
 "metadata": {
  "kernelspec": {
   "display_name": "Python 3",
   "language": "python",
   "name": "python3"
  },
  "language_info": {
   "codemirror_mode": {
    "name": "ipython",
    "version": 3
   },
   "file_extension": ".py",
   "mimetype": "text/x-python",
   "name": "python",
   "nbconvert_exporter": "python",
   "pygments_lexer": "ipython3",
   "version": "3.6.6"
  }
 },
 "nbformat": 4,
 "nbformat_minor": 2
}
