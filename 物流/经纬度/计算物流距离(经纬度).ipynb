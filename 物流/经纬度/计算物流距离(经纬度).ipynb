{
 "cells": [
  {
   "cell_type": "code",
   "execution_count": 1,
   "metadata": {},
   "outputs": [],
   "source": [
    "import pandas as pd\n",
    "from geopy.distance import vincenty"
   ]
  },
  {
   "cell_type": "code",
   "execution_count": 2,
   "metadata": {},
   "outputs": [],
   "source": [
    "data = pd.read_csv(r\"G:\\work\\logistica\\info\\distance\\JD_ZJreceiving_lnglat_gaode.csv\")"
   ]
  },
  {
   "cell_type": "code",
   "execution_count": 3,
   "metadata": {
    "scrolled": true
   },
   "outputs": [
    {
     "data": {
      "text/plain": [
       "Index(['订单编号', '导航地址', '物流单号', '收货地址', 'site_Lat_gaode', 'site_Lng_gaode',\n",
       "       'siteAddress_all', 'siteName', '物流签收时间', '最后送达时间', 'siteLocation_gaode',\n",
       "       're_adcode_gaode', 're_city_gaode', 're_country_gaode',\n",
       "       're_district_gaode', 're_formatted_address_gaode', 're_level_gaode',\n",
       "       're_location_gaode', 're_number_gaode', 're_province_gaode',\n",
       "       're_street_gaode', 're_township_gaode', 're_Lng_gaode', 're_Lat_gaode'],\n",
       "      dtype='object')"
      ]
     },
     "execution_count": 3,
     "metadata": {},
     "output_type": "execute_result"
    }
   ],
   "source": [
    "data.columns"
   ]
  },
  {
   "cell_type": "code",
   "execution_count": 4,
   "metadata": {},
   "outputs": [
    {
     "data": {
      "text/html": [
       "<div>\n",
       "<style scoped>\n",
       "    .dataframe tbody tr th:only-of-type {\n",
       "        vertical-align: middle;\n",
       "    }\n",
       "\n",
       "    .dataframe tbody tr th {\n",
       "        vertical-align: top;\n",
       "    }\n",
       "\n",
       "    .dataframe thead th {\n",
       "        text-align: right;\n",
       "    }\n",
       "</style>\n",
       "<table border=\"1\" class=\"dataframe\">\n",
       "  <thead>\n",
       "    <tr style=\"text-align: right;\">\n",
       "      <th></th>\n",
       "      <th>siteLocation_gaode</th>\n",
       "      <th>re_location_gaode</th>\n",
       "    </tr>\n",
       "  </thead>\n",
       "  <tbody>\n",
       "    <tr>\n",
       "      <th>0</th>\n",
       "      <td>120.327480,30.153282</td>\n",
       "      <td>120.346846,30.165910</td>\n",
       "    </tr>\n",
       "  </tbody>\n",
       "</table>\n",
       "</div>"
      ],
      "text/plain": [
       "     siteLocation_gaode     re_location_gaode\n",
       "0  120.327480,30.153282  120.346846,30.165910"
      ]
     },
     "execution_count": 4,
     "metadata": {},
     "output_type": "execute_result"
    }
   ],
   "source": [
    "data[['siteLocation_gaode','re_location_gaode']][0:1]"
   ]
  },
  {
   "cell_type": "code",
   "execution_count": 5,
   "metadata": {},
   "outputs": [
    {
     "data": {
      "text/plain": [
       "0    120.327480,30.153282\n",
       "1    119.930040,30.021908\n",
       "2    120.315070,27.633886\n",
       "3    120.785960,30.725390\n",
       "4    120.248679,30.035225\n",
       "Name: siteLocation_gaode, dtype: object"
      ]
     },
     "execution_count": 5,
     "metadata": {},
     "output_type": "execute_result"
    }
   ],
   "source": [
    "data['siteLocation_gaode'][0:5]"
   ]
  },
  {
   "cell_type": "code",
   "execution_count": 13,
   "metadata": {},
   "outputs": [
    {
     "name": "stderr",
     "output_type": "stream",
     "text": [
      "d:\\python\\envs\\jupyterpy36\\lib\\site-packages\\ipykernel_launcher.py:9: DeprecationWarning: Vincenty is deprecated and is going to be removed in geopy 2.0. Use `geopy.distance.geodesic` (or the default `geopy.distance.distance`) instead, which is more accurate and always converges.\n",
      "  if __name__ == '__main__':\n"
     ]
    }
   ],
   "source": [
    "listA = []\n",
    "for i in range(0,len(data['siteLocation_gaode'])):\n",
    "    start_lng = round(data['re_Lng_gaode'][i],6)\n",
    "    start_lat = round(data['re_Lat_gaode'][i],6)\n",
    "    end_lng = round(data['site_Lng_gaode'][i],6)\n",
    "    end_lat = round(data['site_Lat_gaode'][i],6)\n",
    "    start_lnglat = (start_lat,start_lng)\n",
    "    end_lnglat = (end_lat,end_lng)\n",
    "    a = vincenty(start_lnglat, end_lnglat).km\n",
    "    listA.append(a)"
   ]
  },
  {
   "cell_type": "code",
   "execution_count": 16,
   "metadata": {},
   "outputs": [],
   "source": [
    "data[\"distance\"] = listA"
   ]
  },
  {
   "cell_type": "code",
   "execution_count": 20,
   "metadata": {},
   "outputs": [
    {
     "data": {
      "text/plain": [
       "139.555312    1\n",
       "130.944452    1\n",
       "125.945566    1\n",
       "125.261742    1\n",
       "124.460527    1\n",
       "123.746252    1\n",
       "122.663413    1\n",
       "103.360737    1\n",
       "90.028252     1\n",
       "86.913779     1\n",
       "83.598311     1\n",
       "82.546679     1\n",
       "74.132372     1\n",
       "74.038641     1\n",
       "73.272345     1\n",
       "71.024217     1\n",
       "70.877421     1\n",
       "70.075624     2\n",
       "69.151502     1\n",
       "68.407724     1\n",
       "65.846210     1\n",
       "60.368453     1\n",
       "59.435378     1\n",
       "58.764686     1\n",
       "57.237711     1\n",
       "57.036744     1\n",
       "56.154091     1\n",
       "55.237710     1\n",
       "53.251208     1\n",
       "52.389980     1\n",
       "             ..\n",
       "0.169934      1\n",
       "0.166875      1\n",
       "0.162433      1\n",
       "0.160337      1\n",
       "0.152463      2\n",
       "0.152359      1\n",
       "0.147902      1\n",
       "0.140862      1\n",
       "0.140635      2\n",
       "0.126297      1\n",
       "0.122861      1\n",
       "0.116175      1\n",
       "0.110726      1\n",
       "0.109678      1\n",
       "0.104729      1\n",
       "0.099203      1\n",
       "0.097060      1\n",
       "0.093668      1\n",
       "0.093226      1\n",
       "0.091239      1\n",
       "0.078391      1\n",
       "0.070192      1\n",
       "0.062806      1\n",
       "0.059200      1\n",
       "0.052011      1\n",
       "0.051639      1\n",
       "0.045898      1\n",
       "0.033918      1\n",
       "0.031030      1\n",
       "0.000000      5\n",
       "Name: distance, Length: 4662, dtype: int64"
      ]
     },
     "execution_count": 20,
     "metadata": {},
     "output_type": "execute_result"
    }
   ],
   "source": [
    "data[\"distance\"].value_counts().sort_index(ascending=False)"
   ]
  },
  {
   "cell_type": "code",
   "execution_count": 21,
   "metadata": {},
   "outputs": [],
   "source": [
    "bins =[-1,50,10000] \n",
    "data['distance_check'] = pd.cut(data['distance'],bins,labels=[\"50KM以下\",\"50KM以上\"])"
   ]
  },
  {
   "cell_type": "code",
   "execution_count": 22,
   "metadata": {},
   "outputs": [
    {
     "data": {
      "text/plain": [
       "50KM以下    5218\n",
       "50KM以上      32\n",
       "Name: distance_check, dtype: int64"
      ]
     },
     "execution_count": 22,
     "metadata": {},
     "output_type": "execute_result"
    }
   ],
   "source": [
    "data['distance_check'].value_counts()"
   ]
  },
  {
   "cell_type": "code",
   "execution_count": 23,
   "metadata": {},
   "outputs": [],
   "source": [
    "df = data[data[\"distance_check\"].str.contains(\"50KM以上\")]"
   ]
  },
  {
   "cell_type": "code",
   "execution_count": 24,
   "metadata": {},
   "outputs": [],
   "source": [
    "df.to_excel(r\"G:\\work\\logistica\\info\\distance\\check\\more50KM.xlsx\")"
   ]
  },
  {
   "cell_type": "code",
   "execution_count": null,
   "metadata": {},
   "outputs": [],
   "source": []
  }
 ],
 "metadata": {
  "kernelspec": {
   "display_name": "Python 3",
   "language": "python",
   "name": "python3"
  },
  "language_info": {
   "codemirror_mode": {
    "name": "ipython",
    "version": 3
   },
   "file_extension": ".py",
   "mimetype": "text/x-python",
   "name": "python",
   "nbconvert_exporter": "python",
   "pygments_lexer": "ipython3",
   "version": "3.6.5"
  }
 },
 "nbformat": 4,
 "nbformat_minor": 2
}
