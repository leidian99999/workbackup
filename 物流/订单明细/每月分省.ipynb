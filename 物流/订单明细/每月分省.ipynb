{
 "cells": [
  {
   "cell_type": "code",
   "execution_count": 1,
   "metadata": {},
   "outputs": [],
   "source": [
    "import pandas as pd"
   ]
  },
  {
   "cell_type": "code",
   "execution_count": 2,
   "metadata": {},
   "outputs": [],
   "source": [
    "def FenSheng(df,col,writer,name):\n",
    "    print(\"开始分省\")\n",
    "    print(df[col].value_counts())\n",
    "    sheng_list = df[col].unique()\n",
    "    for sheng in sheng_list:\n",
    "        df_new = df[df[col] == sheng]\n",
    "        df_new.to_excel(writer + sheng + name + '.xlsx', index=False)"
   ]
  },
  {
   "cell_type": "code",
   "execution_count": 3,
   "metadata": {},
   "outputs": [
    {
     "name": "stderr",
     "output_type": "stream",
     "text": [
      "d:\\python\\envs\\jupyterpy36\\lib\\site-packages\\IPython\\core\\interactiveshell.py:2785: DtypeWarning: Columns (5,8,12,15,18,19,28,29,33,34,36,37,38,43) have mixed types. Specify dtype option on import or set low_memory=False.\n",
      "  interactivity=interactivity, compiler=compiler, result=result)\n"
     ]
    }
   ],
   "source": [
    "data = pd.read_csv(r\"G:/work/basic/alter/1812_info_alter_gai.csv\")\n"
   ]
  },
  {
   "cell_type": "code",
   "execution_count": 4,
   "metadata": {},
   "outputs": [
    {
     "data": {
      "text/plain": [
       "Index(['Unnamed: 0', '订单编号', '订单状态', '订单子状态', '订单挂起原因', '安装失败原因', '订单来源', '店铺',\n",
       "       '订单金额', '订单生成时间', '交易完成时间', '发货时间', '物流单回填时间', '入网用户姓名', '入网身份证号',\n",
       "       '入网手机号', '收货人姓名', '收货地址', '收货人电话号码', '邮编', '所在省 / 市 / 县', '号码归属地',\n",
       "       'CPS推荐人', '订单备注', '物流单号', '物流签收时间', '承运商', '大小卡类型', '写卡渠道', '销售品编号',\n",
       "       '销售品名称', '销售品类型', '套餐', '主号码', '副号码', '现金预存款', '靓号低消', '靓号等级', '靓号预存款',\n",
       "       '营业厅送货方式', '是否线下模式', '是否线下转线上', '线下转线上原因', '营业厅送货iccid'],\n",
       "      dtype='object')"
      ]
     },
     "execution_count": 4,
     "metadata": {},
     "output_type": "execute_result"
    }
   ],
   "source": [
    "data.columns"
   ]
  },
  {
   "cell_type": "code",
   "execution_count": 5,
   "metadata": {},
   "outputs": [],
   "source": [
    "df = data.copy()"
   ]
  },
  {
   "cell_type": "code",
   "execution_count": 6,
   "metadata": {},
   "outputs": [
    {
     "data": {
      "text/plain": [
       "北京/北京市/海淀区            11214\n",
       "广东/深圳市/宝安区             8189\n",
       "广东/广州市/海珠区             8144\n",
       "北京/北京市/朝阳区             7877\n",
       "北京/北京市/大兴区             7201\n",
       "广东/广州市/白云区             6541\n",
       "广东/广州市/天河区             5843\n",
       "广东/东莞市/东莞市             5711\n",
       "上海/上海市/浦东新区            5580\n",
       "广东/深圳市/龙岗区             5333\n",
       "吉林/长春市/南关区             5115\n",
       "广东/佛山市/南海区             4494\n",
       "湖北/武汉市/洪山区             4340\n",
       "北京/北京市/丰台区             4322\n",
       "陕西/西安市/雁塔区             4191\n",
       "陕西/西安市/未央区             4188\n",
       "湖南/长沙市/岳麓区             3996\n",
       "北京/北京市/昌平区             3916\n",
       "河南/郑州市/金水区             3817\n",
       "广东/广州市/番禺区             3649\n",
       "北京/北京市/通州区             3631\n",
       "广东/佛山市/顺德区             3452\n",
       "广东/惠州市/惠城区             3095\n",
       "陕西/西安市/莲湖区             3001\n",
       "广东/深圳市/龙华新区            2959\n",
       "湖北/武汉市/江汉区             2767\n",
       "广东/深圳市/南山区             2710\n",
       "上海/上海市/闵行区             2708\n",
       "江苏/苏州市/昆山市             2532\n",
       "湖北/武汉市/江夏区             2480\n",
       "                      ...  \n",
       "甘肃省/平凉市/泾川县               1\n",
       "云南/普洱市/西城区                1\n",
       "湖北省/鄂州市/华容区               1\n",
       "甘肃省/兰州市/皋兰县               1\n",
       "山东省/日照市/岚山区               1\n",
       "湖南省/株洲市/株洲县               1\n",
       "广西壮族自治区/南宁市/上林县           1\n",
       "西藏自治区/日喀则市/萨迦县            1\n",
       "内蒙古自治区/鄂尔多斯市/准格尔旗         1\n",
       "辽宁省/鞍山市/高新区               1\n",
       "广西壮族自治区/崇左市/江州区           1\n",
       "山东省/威海市/其它区               1\n",
       "辽宁省/锦州市/古塔区               1\n",
       "贵州省/遵义市/道真仡佬族苗族自治县        1\n",
       "吉林省/四平市/伊通满族自治县           1\n",
       "福建省/南平市/松溪县               1\n",
       "广东/惠州市/东城区                1\n",
       "四川省/南充市/营山县               1\n",
       "江西省/上饶市/广丰区               1\n",
       "云南省/玉溪市/峨山彝族自治县           1\n",
       "黑龙江省/大庆市/让胡路区             1\n",
       "河北省/邯郸市/临漳县               1\n",
       "海南/琼中黎族自治县/乌石农场           1\n",
       "河南/周口市/                   1\n",
       "江苏省/徐州市/沛县                1\n",
       "海南/澄迈县/文儒镇                1\n",
       "青海省/西宁市/城中区               1\n",
       "湖南省/益阳市/南县                1\n",
       "山西/朔州市/东城区                1\n",
       "海南/文昌市/新桥镇                1\n",
       "Name: 所在省 / 市 / 县, Length: 5042, dtype: int64"
      ]
     },
     "execution_count": 6,
     "metadata": {},
     "output_type": "execute_result"
    }
   ],
   "source": [
    "df[\"所在省 / 市 / 县\"].value_counts()"
   ]
  },
  {
   "cell_type": "code",
   "execution_count": 7,
   "metadata": {},
   "outputs": [],
   "source": [
    "split = pd.DataFrame((x.split('/') for x in df['所在省 / 市 / 县']), index=df.index, columns=['所在省','所在市','所在县'])\n",
    "df = pd.merge(df,split,left_index=True,right_index=True)"
   ]
  },
  {
   "cell_type": "code",
   "execution_count": 8,
   "metadata": {},
   "outputs": [],
   "source": [
    "dict_province = {'焦作市':'河南','河南省':'河南','河北省':'河北','贵州省':'贵州','湖南省':'湖南','广东省':'广东','江苏省':'江苏','山西省':'山西',\n",
    "    '吉林省':'吉林','山东省':'山东','广西壮族自治区':'广西','湖北省':'湖北','陕西省':'陕西','浙江省':'浙江','福建省':'福建',\n",
    "    '内蒙古自治区':'内蒙古','云南省':'云南','辽宁省':'辽宁','江西省':'江西','四川省':'四川','黑龙江省':'黑龙江','安徽省':'安徽',\n",
    "    '甘肃省':'甘肃','西藏自治区':'西藏','青海省':'青海','宁夏回族自治区':'宁夏',\n",
    "    '海南省':'海南','六安市':'安徽','东莞市':'广东','新疆维吾尔自治区':'新疆'}\n"
   ]
  },
  {
   "cell_type": "code",
   "execution_count": 9,
   "metadata": {},
   "outputs": [],
   "source": [
    "df = df.replace(dict_province)"
   ]
  },
  {
   "cell_type": "code",
   "execution_count": 10,
   "metadata": {
    "scrolled": true
   },
   "outputs": [
    {
     "data": {
      "text/plain": [
       "广东      140702\n",
       "山东       68338\n",
       "河南       56089\n",
       "湖南       51188\n",
       "北京       49377\n",
       "湖北       44398\n",
       "江苏       40252\n",
       "河北       38664\n",
       "浙江       38403\n",
       "陕西       36645\n",
       "四川       36567\n",
       "辽宁       24927\n",
       "上海       24720\n",
       "云南       24298\n",
       "广西       20248\n",
       "山西       19142\n",
       "吉林       18953\n",
       "安徽       18710\n",
       "黑龙江      18472\n",
       "福建       17955\n",
       "贵州       17568\n",
       "江西       14807\n",
       "甘肃       12651\n",
       "重庆       12305\n",
       "内蒙古      10768\n",
       "天津        9629\n",
       "新疆        7127\n",
       "宁夏        4640\n",
       "海南        4065\n",
       "青海        3094\n",
       "西藏        1472\n",
       "所在省         34\n",
       "Name: 所在省, dtype: int64"
      ]
     },
     "execution_count": 10,
     "metadata": {},
     "output_type": "execute_result"
    }
   ],
   "source": [
    "df[\"所在省\"].value_counts()"
   ]
  },
  {
   "cell_type": "code",
   "execution_count": 11,
   "metadata": {},
   "outputs": [],
   "source": [
    "df_ZJ = df[df[\"所在省\"] == '浙江']"
   ]
  },
  {
   "cell_type": "code",
   "execution_count": 12,
   "metadata": {},
   "outputs": [],
   "source": [
    "df_ZJ.to_excel(r\"G:\\work\\basic\\DEC_info_ZJ.xlsx\",index=False)"
   ]
  },
  {
   "cell_type": "code",
   "execution_count": 14,
   "metadata": {},
   "outputs": [
    {
     "data": {
      "text/plain": [
       "浙江    38403\n",
       "Name: 所在省, dtype: int64"
      ]
     },
     "execution_count": 14,
     "metadata": {},
     "output_type": "execute_result"
    }
   ],
   "source": [
    "df_ZJ[\"所在省\"].value_counts()"
   ]
  }
 ],
 "metadata": {
  "kernelspec": {
   "display_name": "Python 3",
   "language": "python",
   "name": "python3"
  },
  "language_info": {
   "codemirror_mode": {
    "name": "ipython",
    "version": 3
   },
   "file_extension": ".py",
   "mimetype": "text/x-python",
   "name": "python",
   "nbconvert_exporter": "python",
   "pygments_lexer": "ipython3",
   "version": "3.6.6"
  }
 },
 "nbformat": 4,
 "nbformat_minor": 2
}
