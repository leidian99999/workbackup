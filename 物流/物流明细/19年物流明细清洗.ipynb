{
 "cells": [
  {
   "cell_type": "code",
   "execution_count": 1,
   "metadata": {},
   "outputs": [],
   "source": [
    "import pandas as pd\n",
    "import re"
   ]
  },
  {
   "cell_type": "code",
   "execution_count": 2,
   "metadata": {},
   "outputs": [],
   "source": [
    "date = \"1904\"\n",
    "carrier = \"YD\"\n",
    "\n",
    "inputpath = \"G:\\\\work\\\\logistica\\\\info\\\\input\\\\cha\\\\\"+date+\"cha\\\\\"\n",
    "inputname = date + \"cha_\"+carrier+\".csv\"\n",
    "outpath = \"G:\\\\work\\\\logistica\\\\info\\\\output\\\\CHA\\\\CSV\\\\\"\n",
    "outname1 = date+\"_\"+carrier+\"_LS_cha\"\n",
    "outname2 = date+\"_\"+carrier+\"_DM_cha\"\n",
    "outname3 = date+\"_\"+carrier+\"_ST_cha\""
   ]
  },
  {
   "cell_type": "code",
   "execution_count": 3,
   "metadata": {
    "scrolled": true
   },
   "outputs": [
    {
     "name": "stderr",
     "output_type": "stream",
     "text": [
      "d:\\python\\envs\\jupyterpy36\\lib\\site-packages\\ipykernel_launcher.py:1: ParserWarning: Falling back to the 'python' engine because the 'c' engine does not support sep=None with delim_whitespace=False; you can avoid this warning by specifying engine='python'.\n",
      "  \"\"\"Entry point for launching an IPython kernel.\n"
     ]
    }
   ],
   "source": [
    "df = pd.read_csv(inputpath + inputname,sep = None,encoding='utf8')"
   ]
  },
  {
   "cell_type": "code",
   "execution_count": 10,
   "metadata": {},
   "outputs": [
    {
     "data": {
      "text/plain": [
       "out        19253\n",
       "weight      6565\n",
       "deliver     6248\n",
       "got         6113\n",
       "signed      5793\n",
       "in          5396\n",
       "arrived     2799\n",
       "air           46\n",
       "next          11\n",
       "Name: PARTNER_ACTION, dtype: int64"
      ]
     },
     "execution_count": 10,
     "metadata": {},
     "output_type": "execute_result"
    }
   ],
   "source": [
    "df[\"PARTNER_ACTION\"].value_counts()"
   ]
  },
  {
   "cell_type": "code",
   "execution_count": 4,
   "metadata": {},
   "outputs": [],
   "source": [
    "df1 = df[df[\"PARTNER_ACTION\"] == \"deliver\"].reset_index(drop=True) # LS\n",
    "df2 = df[df[\"PARTNER_ACTION\"] == \"deliver\"].reset_index(drop=True) # DM\n",
    "df3 = df[df[\"PARTNER_ACTION\"] == \"signed\"].reset_index(drop=True) # ST"
   ]
  },
  {
   "cell_type": "code",
   "execution_count": 5,
   "metadata": {},
   "outputs": [],
   "source": [
    "def get_YD19_lastStations(YD):\n",
    "    YD_name_list = []\n",
    "    for i in YD:\n",
    "        YD_name_dict = {}\n",
    "        YD_name_dict[\"YD_lastStation\"] = str(re.findall(\"^(\\\\w+)\\s【\",i)).replace(\"['\",\"\").replace(\"']\",\"\")\n",
    "        YD_name_list.append(YD_name_dict)\n",
    "    return YD_name_list"
   ]
  },
  {
   "cell_type": "code",
   "execution_count": 6,
   "metadata": {},
   "outputs": [],
   "source": [
    "def get_YD19_deliveryman(YD):\n",
    "    YD_name_list = []\n",
    "    for i in YD:\n",
    "        YD_name_dict = {}\n",
    "        YD_name_dict[\"YD_deliveryman_name\"] = str(re.findall(\"派件员\\s(\\\\w+)\\s\",i)).replace(\"['\",\"\").replace(\"']\",\"\")\n",
    "        YD_name_dict[\"YD_deliveryman_tel\"] = str(re.findall(\"(\\\\d+)\\s正在\",i)).replace(\"['\",\"\").replace(\"']\",\"\")\n",
    "        YD_name_list.append(YD_name_dict)\n",
    "    return YD_name_list"
   ]
  },
  {
   "cell_type": "code",
   "execution_count": 7,
   "metadata": {},
   "outputs": [],
   "source": [
    "def get_YD19_status(YD):\n",
    "    YD_name_list = []\n",
    "    for i in YD:\n",
    "        YD_name_dict = {}\n",
    "        # if \"签收人\" in YD:\n",
    "        YD_name_dict[\"YD_status\"] = str(re.findall(\"快件已被\\s(.*)。如有\",i)).replace(\"['\",\"\").replace(\"']\",\"\")\n",
    "        YD_name_list.append(YD_name_dict)\n",
    "    return YD_name_list"
   ]
  },
  {
   "cell_type": "code",
   "execution_count": 8,
   "metadata": {},
   "outputs": [],
   "source": [
    "data1 = pd.DataFrame(get_YD19_lastStations(df1[\"DESCRIPTION\"]))\n",
    "data2 = pd.DataFrame(get_YD19_deliveryman(df2[\"DESCRIPTION\"]))\n",
    "data3 = pd.DataFrame(get_YD19_status(df3[\"DESCRIPTION\"]))\n",
    "df_LS = pd.concat([df1,data1],axis=1)\n",
    "df_DM = pd.concat([df2,data2],axis=1)\n",
    "df_ST = pd.concat([df3,data3],axis=1)"
   ]
  },
  {
   "cell_type": "code",
   "execution_count": 9,
   "metadata": {},
   "outputs": [
    {
     "name": "stdout",
     "output_type": "stream",
     "text": [
      "df_LS:(6248, 13)\n",
      "df_DM:(6248, 14)\n",
      "df_ST:(5793, 13)\n"
     ]
    }
   ],
   "source": [
    "print(\"df_LS:\" + str(df_LS.shape))\n",
    "print(\"df_DM:\" + str(df_DM.shape))\n",
    "print(\"df_ST:\" + str(df_ST.shape))"
   ]
  },
  {
   "cell_type": "code",
   "execution_count": 13,
   "metadata": {},
   "outputs": [
    {
     "data": {
      "text/html": [
       "<div>\n",
       "<style scoped>\n",
       "    .dataframe tbody tr th:only-of-type {\n",
       "        vertical-align: middle;\n",
       "    }\n",
       "\n",
       "    .dataframe tbody tr th {\n",
       "        vertical-align: top;\n",
       "    }\n",
       "\n",
       "    .dataframe thead th {\n",
       "        text-align: right;\n",
       "    }\n",
       "</style>\n",
       "<table border=\"1\" class=\"dataframe\">\n",
       "  <thead>\n",
       "    <tr style=\"text-align: right;\">\n",
       "      <th></th>\n",
       "      <th>﻿\"ORDER_ID\"</th>\n",
       "      <th>MAIL_NO</th>\n",
       "      <th>ORDER_STATUS</th>\n",
       "      <th>PROV_NAME</th>\n",
       "      <th>CITY_NAME</th>\n",
       "      <th>CHANNEL_ID</th>\n",
       "      <th>LOGISTICS_COMPANY</th>\n",
       "      <th>ROUTE_TIME</th>\n",
       "      <th>ACTION</th>\n",
       "      <th>PARTNER_ACTION</th>\n",
       "      <th>DESCRIPTION</th>\n",
       "      <th>LOGISTICS_CLASS</th>\n",
       "      <th>YD_lastStation</th>\n",
       "    </tr>\n",
       "  </thead>\n",
       "  <tbody>\n",
       "    <tr>\n",
       "      <th>0</th>\n",
       "      <td>600000000001008320190401532716</td>\n",
       "      <td>3102365503981</td>\n",
       "      <td>10112</td>\n",
       "      <td>广东</td>\n",
       "      <td>深圳</td>\n",
       "      <td>NaN</td>\n",
       "      <td>yunda</td>\n",
       "      <td>03-4月 -19 09.38.23.000000000 上午</td>\n",
       "      <td>NaN</td>\n",
       "      <td>deliver</td>\n",
       "      <td>江西新余公司 【新余市】江西新余公司 派件员 胡四豪 13879012746 正在为您派件</td>\n",
       "      <td>0</td>\n",
       "      <td>江西新余公司</td>\n",
       "    </tr>\n",
       "    <tr>\n",
       "      <th>1</th>\n",
       "      <td>600000000001008320190401498544</td>\n",
       "      <td>3102365503971</td>\n",
       "      <td>10112</td>\n",
       "      <td>河南</td>\n",
       "      <td>周口</td>\n",
       "      <td>NaN</td>\n",
       "      <td>yunda</td>\n",
       "      <td>03-4月 -19 09.05.25.000000000 上午</td>\n",
       "      <td>NaN</td>\n",
       "      <td>deliver</td>\n",
       "      <td>河南淮阳县公司西城区分部 【周口市】河南淮阳县公司西城区分部 派件员 王艳臣 1589679...</td>\n",
       "      <td>0</td>\n",
       "      <td>河南淮阳县公司西城区分部</td>\n",
       "    </tr>\n",
       "    <tr>\n",
       "      <th>2</th>\n",
       "      <td>600000000001008320190401518112</td>\n",
       "      <td>3102365503994</td>\n",
       "      <td>10112</td>\n",
       "      <td>四川</td>\n",
       "      <td>成都</td>\n",
       "      <td>NaN</td>\n",
       "      <td>yunda</td>\n",
       "      <td>03-4月 -19 08.13.07.000000000 上午</td>\n",
       "      <td>NaN</td>\n",
       "      <td>deliver</td>\n",
       "      <td>四川成都金堂县公司 【成都市】四川成都金堂县公司 派件员 陈扬伟 18782016501 正...</td>\n",
       "      <td>0</td>\n",
       "      <td>四川成都金堂县公司</td>\n",
       "    </tr>\n",
       "    <tr>\n",
       "      <th>3</th>\n",
       "      <td>600000000001008320190401558569</td>\n",
       "      <td>3102365504104</td>\n",
       "      <td>10112</td>\n",
       "      <td>四川</td>\n",
       "      <td>成都</td>\n",
       "      <td>NaN</td>\n",
       "      <td>yunda</td>\n",
       "      <td>03-4月 -19 08.59.25.000000000 上午</td>\n",
       "      <td>NaN</td>\n",
       "      <td>deliver</td>\n",
       "      <td>河北廊坊公司香河县分部 【廊坊市】河北廊坊公司香河县分部 派件员 王海发 151006828...</td>\n",
       "      <td>0</td>\n",
       "      <td>河北廊坊公司香河县分部</td>\n",
       "    </tr>\n",
       "    <tr>\n",
       "      <th>4</th>\n",
       "      <td>600000000001008320190401515143</td>\n",
       "      <td>3102365503972</td>\n",
       "      <td>11202</td>\n",
       "      <td>湖北</td>\n",
       "      <td>十堰</td>\n",
       "      <td>NaN</td>\n",
       "      <td>yunda</td>\n",
       "      <td>03-4月 -19 12.07.49.000000000 下午</td>\n",
       "      <td>NaN</td>\n",
       "      <td>deliver</td>\n",
       "      <td>湖北竹山县公司 【十堰市】湖北竹山县公司 派件员 吴娇 15171363671 正在为您派件</td>\n",
       "      <td>0</td>\n",
       "      <td>湖北竹山县公司</td>\n",
       "    </tr>\n",
       "  </tbody>\n",
       "</table>\n",
       "</div>"
      ],
      "text/plain": [
       "                      ﻿\"ORDER_ID\"        MAIL_NO  ORDER_STATUS PROV_NAME  \\\n",
       "0  600000000001008320190401532716  3102365503981         10112        广东   \n",
       "1  600000000001008320190401498544  3102365503971         10112        河南   \n",
       "2  600000000001008320190401518112  3102365503994         10112        四川   \n",
       "3  600000000001008320190401558569  3102365504104         10112        四川   \n",
       "4  600000000001008320190401515143  3102365503972         11202        湖北   \n",
       "\n",
       "  CITY_NAME  CHANNEL_ID LOGISTICS_COMPANY                       ROUTE_TIME  \\\n",
       "0        深圳         NaN             yunda  03-4月 -19 09.38.23.000000000 上午   \n",
       "1        周口         NaN             yunda  03-4月 -19 09.05.25.000000000 上午   \n",
       "2        成都         NaN             yunda  03-4月 -19 08.13.07.000000000 上午   \n",
       "3        成都         NaN             yunda  03-4月 -19 08.59.25.000000000 上午   \n",
       "4        十堰         NaN             yunda  03-4月 -19 12.07.49.000000000 下午   \n",
       "\n",
       "   ACTION PARTNER_ACTION                                        DESCRIPTION  \\\n",
       "0     NaN        deliver      江西新余公司 【新余市】江西新余公司 派件员 胡四豪 13879012746 正在为您派件   \n",
       "1     NaN        deliver  河南淮阳县公司西城区分部 【周口市】河南淮阳县公司西城区分部 派件员 王艳臣 1589679...   \n",
       "2     NaN        deliver  四川成都金堂县公司 【成都市】四川成都金堂县公司 派件员 陈扬伟 18782016501 正...   \n",
       "3     NaN        deliver  河北廊坊公司香河县分部 【廊坊市】河北廊坊公司香河县分部 派件员 王海发 151006828...   \n",
       "4     NaN        deliver     湖北竹山县公司 【十堰市】湖北竹山县公司 派件员 吴娇 15171363671 正在为您派件   \n",
       "\n",
       "   LOGISTICS_CLASS YD_lastStation  \n",
       "0                0         江西新余公司  \n",
       "1                0   河南淮阳县公司西城区分部  \n",
       "2                0      四川成都金堂县公司  \n",
       "3                0    河北廊坊公司香河县分部  \n",
       "4                0        湖北竹山县公司  "
      ]
     },
     "execution_count": 13,
     "metadata": {},
     "output_type": "execute_result"
    }
   ],
   "source": [
    "df_LS.head()"
   ]
  },
  {
   "cell_type": "code",
   "execution_count": null,
   "metadata": {},
   "outputs": [],
   "source": []
  }
 ],
 "metadata": {
  "kernelspec": {
   "display_name": "Python 3",
   "language": "python",
   "name": "python3"
  },
  "language_info": {
   "codemirror_mode": {
    "name": "ipython",
    "version": 3
   },
   "file_extension": ".py",
   "mimetype": "text/x-python",
   "name": "python",
   "nbconvert_exporter": "python",
   "pygments_lexer": "ipython3",
   "version": "3.6.6"
  }
 },
 "nbformat": 4,
 "nbformat_minor": 2
}
