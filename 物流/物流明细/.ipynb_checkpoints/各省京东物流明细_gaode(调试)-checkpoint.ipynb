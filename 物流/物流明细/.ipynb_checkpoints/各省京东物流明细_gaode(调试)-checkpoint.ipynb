{
 "cells": [
  {
   "cell_type": "code",
   "execution_count": 1,
   "metadata": {},
   "outputs": [],
   "source": [
    "import pandas as pd\n",
    "import csv"
   ]
  },
  {
   "cell_type": "code",
   "execution_count": 2,
   "metadata": {},
   "outputs": [
    {
     "name": "stderr",
     "output_type": "stream",
     "text": [
      "d:\\python\\envs\\jupyterpy36\\lib\\site-packages\\IPython\\core\\interactiveshell.py:2785: DtypeWarning: Columns (4,7,11,14,17,18,27,28,32,33,35,36,37,42) have mixed types. Specify dtype option on import or set low_memory=False.\n",
      "  interactivity=interactivity, compiler=compiler, result=result)\n"
     ]
    }
   ],
   "source": [
    "df = pd.read_csv(r\"G:\\work\\basic\\alter\\1812_info_alter.csv\")"
   ]
  },
  {
   "cell_type": "code",
   "execution_count": 3,
   "metadata": {},
   "outputs": [],
   "source": [
    "df_tui = pd.read_csv(r\"G:\\work\\logistica\\output\\CHA\\CSV\\201812_JD_cha.csv\")"
   ]
  },
  {
   "cell_type": "code",
   "execution_count": 4,
   "metadata": {},
   "outputs": [
    {
     "data": {
      "text/plain": [
       "Index(['Unnamed: 0', '订单编号', '订单子状态', '订单挂起原因', '安装失败原因', '订单来源', '店铺', '订单金额',\n",
       "       '订单生成时间', '交易完成时间', '发货时间', '物流单回填时间', '入网用户姓名', '入网身份证号', '入网手机号',\n",
       "       '收货人姓名', '收货地址', '收货人电话号码', '邮编', '所在省 / 市 / 县', '号码归属地', 'CPS推荐人',\n",
       "       '订单备注', '物流单号', '物流签收时间', '承运商', '大小卡类型', '写卡渠道', '销售品编号', '销售品名称',\n",
       "       '销售品类型', '套餐', '主号码', '副号码', '现金预存款', '靓号低消', '靓号等级', '靓号预存款',\n",
       "       '营业厅送货方式', '是否线下模式', '是否线下转线上', '线下转线上原因', '营业厅送货iccid'],\n",
       "      dtype='object')"
      ]
     },
     "execution_count": 4,
     "metadata": {},
     "output_type": "execute_result"
    }
   ],
   "source": [
    "df.columns"
   ]
  },
  {
   "cell_type": "code",
   "execution_count": 5,
   "metadata": {},
   "outputs": [],
   "source": [
    "df1 = df[[ '订单编号','承运商','收货地址',\"所在省 / 市 / 县\",\"物流签收时间\",\"是否线下模式\",\"物流单号\"]]"
   ]
  },
  {
   "cell_type": "code",
   "execution_count": 6,
   "metadata": {},
   "outputs": [],
   "source": [
    "split = pd.DataFrame((x.split('/') for x in df1['所在省 / 市 / 县']), index=df1.index, columns=['所在省','所在市','所在区'])\n",
    "df1 = pd.merge(df1,split,left_index=True,right_index=True)\n",
    "df1 = df1.drop(columns=\"所在省 / 市 / 县\")"
   ]
  },
  {
   "cell_type": "code",
   "execution_count": 7,
   "metadata": {},
   "outputs": [
    {
     "data": {
      "text/plain": [
       "False    886316\n",
       "True      29268\n",
       "Name: 收货地址, dtype: int64"
      ]
     },
     "execution_count": 7,
     "metadata": {},
     "output_type": "execute_result"
    }
   ],
   "source": [
    "df1[\"收货地址\"].isnull().value_counts()"
   ]
  },
  {
   "cell_type": "code",
   "execution_count": 8,
   "metadata": {},
   "outputs": [],
   "source": [
    "df1 = df1.dropna(subset=[\"收货地址\"])"
   ]
  },
  {
   "cell_type": "code",
   "execution_count": 9,
   "metadata": {},
   "outputs": [
    {
     "data": {
      "text/plain": [
       "(886316, 9)"
      ]
     },
     "execution_count": 9,
     "metadata": {},
     "output_type": "execute_result"
    }
   ],
   "source": [
    "df1.shape"
   ]
  },
  {
   "cell_type": "code",
   "execution_count": 10,
   "metadata": {
    "scrolled": true
   },
   "outputs": [
    {
     "data": {
      "text/plain": [
       "Index(['订单编号', '承运商', '收货地址', '物流签收时间', '是否线下模式', '物流单号', '所在省', '所在市', '所在区'], dtype='object')"
      ]
     },
     "execution_count": 10,
     "metadata": {},
     "output_type": "execute_result"
    }
   ],
   "source": [
    "df1.columns"
   ]
  },
  {
   "cell_type": "code",
   "execution_count": 11,
   "metadata": {},
   "outputs": [
    {
     "data": {
      "text/plain": [
       "EMS              182935\n",
       "京东线下             147326\n",
       "顺丰               128936\n",
       "韵达                90459\n",
       "京东物流              79440\n",
       "中通                27671\n",
       "宅急送               17489\n",
       "ems               16108\n",
       "恒宇运通               8745\n",
       "圆通                 6993\n",
       "邮政包裹               2984\n",
       "其他                 1963\n",
       "??                 1866\n",
       "100000137          1819\n",
       "邮政                  684\n",
       "jingdongwuliu        71\n",
       "营业厅送货                41\n",
       "骏飞通信专营店              41\n",
       "承运商                  34\n",
       "shunfeng              7\n",
       "如初数码专营店               3\n",
       "VA50041387771         1\n",
       "VA48524083090         1\n",
       "VA47656377241         1\n",
       "VA48680105703         1\n",
       "yunda                 1\n",
       "VA48678610341         1\n",
       "通港数码专营店               1\n",
       "EMS物流                 1\n",
       "Name: 承运商, dtype: int64"
      ]
     },
     "execution_count": 11,
     "metadata": {},
     "output_type": "execute_result"
    }
   ],
   "source": [
    "df1[\"承运商\"].value_counts()"
   ]
  },
  {
   "cell_type": "code",
   "execution_count": 12,
   "metadata": {},
   "outputs": [],
   "source": [
    "dict_carrier ={'ems':'EMS','邮政':'EMS','100000137':'圆通','ZHAIJISONG':'宅急送','jingdongwuliu':'京东物流','yunda':'韵达','shunfeng':'顺丰','EMS物流':'EMS'}"
   ]
  },
  {
   "cell_type": "code",
   "execution_count": 13,
   "metadata": {},
   "outputs": [],
   "source": [
    "df1 =df1.replace(dict_carrier)"
   ]
  },
  {
   "cell_type": "code",
   "execution_count": 14,
   "metadata": {},
   "outputs": [
    {
     "data": {
      "text/plain": [
       "EMS              199728\n",
       "京东线下             147326\n",
       "顺丰               128943\n",
       "韵达                90460\n",
       "京东物流              79511\n",
       "中通                27671\n",
       "宅急送               17489\n",
       "圆通                 8812\n",
       "恒宇运通               8745\n",
       "邮政包裹               2984\n",
       "其他                 1963\n",
       "??                 1866\n",
       "营业厅送货                41\n",
       "骏飞通信专营店              41\n",
       "承运商                  34\n",
       "如初数码专营店               3\n",
       "VA48680105703         1\n",
       "VA48524083090         1\n",
       "VA47656377241         1\n",
       "VA48678610341         1\n",
       "通港数码专营店               1\n",
       "VA50041387771         1\n",
       "Name: 承运商, dtype: int64"
      ]
     },
     "execution_count": 14,
     "metadata": {},
     "output_type": "execute_result"
    }
   ],
   "source": [
    "df1[\"承运商\"].value_counts()"
   ]
  },
  {
   "cell_type": "code",
   "execution_count": 15,
   "metadata": {},
   "outputs": [],
   "source": [
    "dict_province = {'焦作市':'河南','河南省':'河南','河北省':'河北','贵州省':'贵州','湖南省':'湖南','广东省':'广东','江苏省':'江苏','山西省':'山西',\n",
    "        '吉林省':'吉林','山东省':'山东','广西壮族自治区':'广西','湖北省':'湖北','陕西省':'陕西','浙江省':'浙江','福建省':'福建',\n",
    "        '内蒙古自治区':'内蒙古','云南省':'云南','辽宁省':'辽宁','江西省':'江西','四川省':'四川','黑龙江省':'黑龙江','安徽省':'安徽',\n",
    "        '甘肃省':'甘肃','西藏自治区':'西藏','青海省':'青海','宁夏回族自治区':'宁夏',\n",
    "        '海南省':'海南','六安市':'安徽','东莞市':'广东','新疆维吾尔自治区':'新疆'}"
   ]
  },
  {
   "cell_type": "code",
   "execution_count": 16,
   "metadata": {},
   "outputs": [],
   "source": [
    "df1 = df1.replace(dict_province)"
   ]
  },
  {
   "cell_type": "code",
   "execution_count": 17,
   "metadata": {},
   "outputs": [
    {
     "data": {
      "text/plain": [
       "广东      140724\n",
       "山东       68340\n",
       "河南       56089\n",
       "湖南       51199\n",
       "北京       49377\n",
       "湖北       44398\n",
       "江苏       40253\n",
       "河北       38664\n",
       "浙江       38403\n",
       "陕西       36646\n",
       "四川       36569\n",
       "辽宁       24929\n",
       "上海       24723\n",
       "云南       24303\n",
       "广西       20256\n",
       "山西       19144\n",
       "吉林       18953\n",
       "安徽       18712\n",
       "黑龙江      18472\n",
       "福建       17955\n",
       "贵州       17568\n",
       "江西       14808\n",
       "甘肃       12651\n",
       "重庆       12305\n",
       "内蒙古      10768\n",
       "天津        9629\n",
       "新疆        7128\n",
       "宁夏        4640\n",
       "海南        4065\n",
       "青海        3094\n",
       "西藏        1472\n",
       "            45\n",
       "所在省         34\n",
       "Name: 所在省, dtype: int64"
      ]
     },
     "execution_count": 17,
     "metadata": {},
     "output_type": "execute_result"
    }
   ],
   "source": [
    "df1[\"所在省\"].value_counts()"
   ]
  },
  {
   "cell_type": "code",
   "execution_count": 18,
   "metadata": {},
   "outputs": [],
   "source": [
    "df1_JD = df1[df1[\"承运商\"] == \"京东物流\"]"
   ]
  },
  {
   "cell_type": "code",
   "execution_count": 19,
   "metadata": {},
   "outputs": [],
   "source": [
    "df1_ZJ_JD = df1_JD[df1_JD[\"所在省\"] == \"浙江\"]\n",
    "df1_SC_JD = df1_JD[df1_JD[\"所在省\"] == \"四川\"]"
   ]
  },
  {
   "cell_type": "code",
   "execution_count": 20,
   "metadata": {
    "scrolled": true
   },
   "outputs": [
    {
     "name": "stdout",
     "output_type": "stream",
     "text": [
      "浙江省样本数：6556\n",
      "四川省样本数：20390\n"
     ]
    }
   ],
   "source": [
    "print(\"浙江省样本数：{}\".format(df1_ZJ_JD.shape[0]))\n",
    "print(\"四川省样本数：{}\".format(df1_SC_JD.shape[0]))"
   ]
  },
  {
   "cell_type": "code",
   "execution_count": 21,
   "metadata": {},
   "outputs": [
    {
     "data": {
      "text/html": [
       "<div>\n",
       "<style scoped>\n",
       "    .dataframe tbody tr th:only-of-type {\n",
       "        vertical-align: middle;\n",
       "    }\n",
       "\n",
       "    .dataframe tbody tr th {\n",
       "        vertical-align: top;\n",
       "    }\n",
       "\n",
       "    .dataframe thead th {\n",
       "        text-align: right;\n",
       "    }\n",
       "</style>\n",
       "<table border=\"1\" class=\"dataframe\">\n",
       "  <thead>\n",
       "    <tr style=\"text-align: right;\">\n",
       "      <th></th>\n",
       "      <th>JD_LastStation</th>\n",
       "      <th>JD_OrderId</th>\n",
       "      <th>JD_deliveryman_name</th>\n",
       "      <th>JD_deliveryman_tel</th>\n",
       "      <th>JD_orderstatus</th>\n",
       "      <th>JD_trackingID</th>\n",
       "    </tr>\n",
       "  </thead>\n",
       "  <tbody>\n",
       "    <tr>\n",
       "      <th>0</th>\n",
       "      <td>吕梁柳林营业部</td>\n",
       "      <td>690000000001008318121220668122</td>\n",
       "      <td>韩永利</td>\n",
       "      <td>15333588847</td>\n",
       "      <td>货物已由本人签收</td>\n",
       "      <td>VA49330022862</td>\n",
       "    </tr>\n",
       "    <tr>\n",
       "      <th>1</th>\n",
       "      <td>青岛夏庄营业部</td>\n",
       "      <td>690000000001008318121220667988</td>\n",
       "      <td>郝耀光</td>\n",
       "      <td>13061316113</td>\n",
       "      <td>货物已由本人签收</td>\n",
       "      <td>V047871924726</td>\n",
       "    </tr>\n",
       "    <tr>\n",
       "      <th>2</th>\n",
       "      <td>枣庄薛城营业部</td>\n",
       "      <td>690000000001008318121220667930</td>\n",
       "      <td>张明</td>\n",
       "      <td>15726324060</td>\n",
       "      <td>货物已由本人签收</td>\n",
       "      <td>V048765951636</td>\n",
       "    </tr>\n",
       "    <tr>\n",
       "      <th>3</th>\n",
       "      <td>天津智文营业部', '天津机电职业技术学院加盟京东派</td>\n",
       "      <td>690000000001008318121220667948</td>\n",
       "      <td>冯丽倩</td>\n",
       "      <td>13920326893</td>\n",
       "      <td>货物已由本人签收</td>\n",
       "      <td>V048658397815</td>\n",
       "    </tr>\n",
       "    <tr>\n",
       "      <th>4</th>\n",
       "      <td>贵阳亚一分拨中心</td>\n",
       "      <td>690000000001008318121220667965</td>\n",
       "      <td>哨兵4</td>\n",
       "      <td>18908700327</td>\n",
       "      <td>[]</td>\n",
       "      <td>VD48806013060</td>\n",
       "    </tr>\n",
       "  </tbody>\n",
       "</table>\n",
       "</div>"
      ],
      "text/plain": [
       "               JD_LastStation                      JD_OrderId  \\\n",
       "0                     吕梁柳林营业部  690000000001008318121220668122   \n",
       "1                     青岛夏庄营业部  690000000001008318121220667988   \n",
       "2                     枣庄薛城营业部  690000000001008318121220667930   \n",
       "3  天津智文营业部', '天津机电职业技术学院加盟京东派  690000000001008318121220667948   \n",
       "4                    贵阳亚一分拨中心  690000000001008318121220667965   \n",
       "\n",
       "  JD_deliveryman_name JD_deliveryman_tel JD_orderstatus  JD_trackingID  \n",
       "0                 韩永利        15333588847       货物已由本人签收  VA49330022862  \n",
       "1                 郝耀光        13061316113       货物已由本人签收  V047871924726  \n",
       "2                  张明        15726324060       货物已由本人签收  V048765951636  \n",
       "3                 冯丽倩        13920326893       货物已由本人签收  V048658397815  \n",
       "4                 哨兵4        18908700327             []  VD48806013060  "
      ]
     },
     "execution_count": 21,
     "metadata": {},
     "output_type": "execute_result"
    }
   ],
   "source": [
    "df_tui.head()"
   ]
  },
  {
   "cell_type": "code",
   "execution_count": 22,
   "metadata": {},
   "outputs": [],
   "source": [
    "df1_ZJ_JD_tui = pd.merge(df1_ZJ_JD,df_tui,how=\"inner\",left_on=\"订单编号\",right_on=\"JD_OrderId\")"
   ]
  },
  {
   "cell_type": "code",
   "execution_count": 23,
   "metadata": {},
   "outputs": [],
   "source": [
    "df1_SC_JD_tui = pd.merge(df1_SC_JD,df_tui,how=\"inner\",left_on=\"订单编号\",right_on=\"JD_OrderId\")"
   ]
  },
  {
   "cell_type": "code",
   "execution_count": 24,
   "metadata": {},
   "outputs": [
    {
     "data": {
      "text/plain": [
       "Index(['订单编号', '承运商', '收货地址', '物流签收时间', '是否线下模式', '物流单号', '所在省', '所在市', '所在区',\n",
       "       'JD_LastStation', 'JD_OrderId', 'JD_deliveryman_name',\n",
       "       'JD_deliveryman_tel', 'JD_orderstatus', 'JD_trackingID'],\n",
       "      dtype='object')"
      ]
     },
     "execution_count": 24,
     "metadata": {},
     "output_type": "execute_result"
    }
   ],
   "source": [
    "df1_SC_JD_tui.columns"
   ]
  },
  {
   "cell_type": "code",
   "execution_count": 25,
   "metadata": {},
   "outputs": [
    {
     "data": {
      "text/plain": [
       "Index(['订单编号', '承运商', '收货地址', '物流签收时间', '是否线下模式', '物流单号', '所在省', '所在市', '所在区',\n",
       "       'JD_LastStation', 'JD_OrderId', 'JD_deliveryman_name',\n",
       "       'JD_deliveryman_tel', 'JD_orderstatus', 'JD_trackingID'],\n",
       "      dtype='object')"
      ]
     },
     "execution_count": 25,
     "metadata": {},
     "output_type": "execute_result"
    }
   ],
   "source": [
    "df1_ZJ_JD_tui.columns"
   ]
  },
  {
   "cell_type": "code",
   "execution_count": 26,
   "metadata": {},
   "outputs": [],
   "source": [
    "df1_ZJ_JD_tui = df1_ZJ_JD_tui.drop(columns=['JD_OrderId','JD_trackingID'])"
   ]
  },
  {
   "cell_type": "code",
   "execution_count": 27,
   "metadata": {},
   "outputs": [],
   "source": [
    "df1_SC_JD_tui = df1_SC_JD_tui.drop(columns=['JD_OrderId','JD_trackingID'])"
   ]
  },
  {
   "cell_type": "code",
   "execution_count": 28,
   "metadata": {},
   "outputs": [],
   "source": [
    "df1_ZJ_JD_tui[\"导航地址\"] = df1_ZJ_JD_tui[ '所在省'] + df1_ZJ_JD_tui[ '所在区'] +df1_ZJ_JD_tui[ '收货地址']"
   ]
  },
  {
   "cell_type": "code",
   "execution_count": 29,
   "metadata": {},
   "outputs": [],
   "source": [
    "df1_SC_JD_tui[\"导航地址\"] = df1_SC_JD_tui[ '所在省'] + df1_SC_JD_tui[ '所在区'] +df1_SC_JD_tui[ '收货地址']"
   ]
  },
  {
   "cell_type": "code",
   "execution_count": 30,
   "metadata": {},
   "outputs": [],
   "source": [
    "df1_ZJ_JD_tui.to_excel(r\"G:\\work\\logistica\\JDStations\\test\\1812浙江京东推送明细.xlsx\")\n",
    "df1_ZJ_JD_tui.to_csv(r\"G:\\work\\logistica\\JDStations\\test\\1812JD_ZJ_info.csv\")"
   ]
  },
  {
   "cell_type": "code",
   "execution_count": 31,
   "metadata": {},
   "outputs": [],
   "source": [
    "df1_SC_JD_tui.to_excel(r\"G:\\work\\logistica\\JDStations\\test\\1812四川京东推送明细.xlsx\")\n",
    "df1_SC_JD_tui.to_csv(r\"G:\\work\\logistica\\JDStations\\test\\1812JD_SC_info.csv\")"
   ]
  },
  {
   "cell_type": "code",
   "execution_count": null,
   "metadata": {},
   "outputs": [],
   "source": []
  }
 ],
 "metadata": {
  "kernelspec": {
   "display_name": "Python 3",
   "language": "python",
   "name": "python3"
  },
  "language_info": {
   "codemirror_mode": {
    "name": "ipython",
    "version": 3
   },
   "file_extension": ".py",
   "mimetype": "text/x-python",
   "name": "python",
   "nbconvert_exporter": "python",
   "pygments_lexer": "ipython3",
   "version": "3.5.2"
  }
 },
 "nbformat": 4,
 "nbformat_minor": 2
}
