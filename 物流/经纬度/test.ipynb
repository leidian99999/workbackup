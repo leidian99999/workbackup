{
 "cells": [
  {
   "cell_type": "code",
   "execution_count": 1,
   "metadata": {},
   "outputs": [],
   "source": [
    "import pandas as pd\n",
    "from geopy.distance import vincenty\n",
    "import time"
   ]
  },
  {
   "cell_type": "code",
   "execution_count": 2,
   "metadata": {},
   "outputs": [
    {
     "name": "stderr",
     "output_type": "stream",
     "text": [
      "d:\\python\\envs\\jupyterpy36\\lib\\site-packages\\IPython\\core\\interactiveshell.py:2785: DtypeWarning: Columns (6,17,18) have mixed types. Specify dtype option on import or set low_memory=False.\n",
      "  interactivity=interactivity, compiler=compiler, result=result)\n"
     ]
    }
   ],
   "source": [
    "df_old = pd.read_csv(r\"G:\\work\\logistica\\distance\\input\\/1901info_lnglat_gaode.csv\")\n",
    "df_new = pd.read_csv(r\"G:\\work\\logistica\\distance\\input\\/190416Info_lnglat_gaode.csv\")"
   ]
  },
  {
   "cell_type": "code",
   "execution_count": 3,
   "metadata": {
    "scrolled": false
   },
   "outputs": [
    {
     "data": {
      "text/plain": [
       "Index(['所在省', '所在市', '收货地址', '订单编号', '承运商', 'address_all', 're_adcode_gaode',\n",
       "       're_city_gaode', 're_country_gaode', 're_district_gaode',\n",
       "       're_formatted_address_gaode', 're_level_gaode', 're_location_gaode',\n",
       "       're_number_gaode', 're_province_gaode', 're_street_gaode',\n",
       "       're_township_gaode', 're_siteLng_gaode', 're_siteLat_gaode'],\n",
       "      dtype='object')"
      ]
     },
     "execution_count": 3,
     "metadata": {},
     "output_type": "execute_result"
    }
   ],
   "source": [
    "df_old.columns"
   ]
  },
  {
   "cell_type": "code",
   "execution_count": 30,
   "metadata": {},
   "outputs": [
    {
     "data": {
      "text/plain": [
       "Index(['所在省', '所在市', '收货人地址', '订单编号', '所在县', 're_adcode_gaode',\n",
       "       're_city_gaode', 're_country_gaode', 're_district_gaode',\n",
       "       're_formatted_address_gaode', 're_level_gaode', 're_location_gaode',\n",
       "       're_number_gaode', 're_province_gaode', 're_street_gaode',\n",
       "       're_township_gaode', 're_siteLng_gaode', 're_siteLat_gaode'],\n",
       "      dtype='object')"
      ]
     },
     "execution_count": 30,
     "metadata": {},
     "output_type": "execute_result"
    }
   ],
   "source": [
    "df_new.columns"
   ]
  },
  {
   "cell_type": "code",
   "execution_count": 7,
   "metadata": {},
   "outputs": [],
   "source": [
    "df_old = df_old[df_old[\"所在省\"].str.contains(\"所在省\") == False]"
   ]
  },
  {
   "cell_type": "code",
   "execution_count": 10,
   "metadata": {},
   "outputs": [],
   "source": [
    "df_old = df_old[df_old[\"re_district_gaode\"].str.contains(\"\\[\\]\",regex=True) == False]"
   ]
  },
  {
   "cell_type": "code",
   "execution_count": 18,
   "metadata": {},
   "outputs": [],
   "source": [
    "df_new = df_new[df_new[\"re_district_gaode\"].str.contains(\"\\[\\]\",regex=True) == False]\n"
   ]
  },
  {
   "cell_type": "code",
   "execution_count": 22,
   "metadata": {},
   "outputs": [
    {
     "name": "stdout",
     "output_type": "stream",
     "text": [
      "df_new:(2775, 18)\n",
      "df_old:(521663, 19)\n"
     ]
    }
   ],
   "source": [
    "print(\"df_new:\" + str(df_new.shape))\n",
    "print(\"df_old:\" + str(df_old.shape))"
   ]
  },
  {
   "cell_type": "code",
   "execution_count": 28,
   "metadata": {},
   "outputs": [],
   "source": [
    "def FenSheng(df_new,df_old,col_province,col_city,col_district,col_lng,col_lat):\n",
    "    start_time = time.time()\n",
    "    dfA = pd.DataFrame(columns=['orderID_old','orderID_new','distance'])\n",
    "    limit_KM = round(3 /(3.14 * 6400 /180),6)\n",
    "    \n",
    "    \n",
    "    province_list = df_new[col_province].unique()\n",
    "    for sheng in province_list:\n",
    "#         print(sheng)\n",
    "\n",
    "        dfold_sheng = df_old[df_old[col_province] == sheng].reset_index(drop=True)\n",
    "        dfnew_sheng = df_new[df_new[col_province] == sheng].reset_index(drop=True)\n",
    "        \n",
    "               \n",
    "        city_list = dfnew_sheng[col_city].unique()\n",
    "        for shi in city_list:\n",
    "#             print(sheng+shi)\n",
    "\n",
    "            dfold_shi = dfold_sheng[(dfold_sheng[col_city] == shi)].reset_index(drop=True)\n",
    "            dfnew_shi = dfnew_sheng[(dfnew_sheng[col_city] == shi)].reset_index(drop=True)   \n",
    "            \n",
    "            district_list = dfnew_shi[col_district].unique()              \n",
    "            for xian in district_list:\n",
    "#                 print(sheng+shi+xian)\n",
    "#                 print(\"*\"*30)\n",
    "                dfold = dfold_shi[dfold_shi[col_district] == xian].reset_index(drop=True)\n",
    "                dfnew = dfnew_shi[dfnew_shi[col_district] == xian].reset_index(drop=True)\n",
    "                if dfnew.empty == True:\n",
    "                    print(sheng + xian + \"：为空\")\n",
    "                    pass\n",
    "                elif dfold.empty == True:\n",
    "                    print(\"原所在市不存在\")\n",
    "                    pass\n",
    "                else:\n",
    "                    for i in range(0,len(dfnew[col_lng])):\n",
    "                        for j in range(0,len(dfold[col_lng])):\n",
    "                            start_lng = round(dfnew[col_lng][i],6)\n",
    "                            start_lat = round(dfnew[col_lat][i],6)\n",
    "                            end_lng = round(dfold[col_lng][j],6)\n",
    "                            end_lat = round(dfold[col_lat][j],6)\n",
    "                            start_lnglat = (start_lat,start_lng)\n",
    "                            end_lnglat = (end_lat,end_lng)\n",
    "                            if (abs(start_lat - end_lat) <= limit_KM or abs(start_lng - end_lng) <= limit_KM ):\n",
    "                                a = vincenty(start_lnglat, end_lnglat).km\n",
    "                                row={'orderID_old':dfold['订单编号'][j],'orderID_new':dfnew['订单编号'][i],'distance':a}\n",
    "                                dfA = dfA.append(row,ignore_index=True)\n",
    "                            else:\n",
    "                                pass\n",
    "                    print(str(sheng) + str(shi) + str(xian) + \"：已完成\")\n",
    "    end_time = time.time()\n",
    "    print(\"总用时：\",end_time-start_time)\n",
    "    return dfA"
   ]
  },
  {
   "cell_type": "code",
   "execution_count": 24,
   "metadata": {},
   "outputs": [],
   "source": [
    "df_old2 = df_old.sample(n=100000)"
   ]
  },
  {
   "cell_type": "code",
   "execution_count": 40,
   "metadata": {},
   "outputs": [
    {
     "name": "stderr",
     "output_type": "stream",
     "text": [
      "d:\\python\\envs\\jupyterpy36\\lib\\site-packages\\ipykernel_launcher.py:44: DeprecationWarning: Vincenty is deprecated and is going to be removed in geopy 2.0. Use `geopy.distance.geodesic` (or the default `geopy.distance.distance`) instead, which is more accurate and always converges.\n"
     ]
    },
    {
     "name": "stdout",
     "output_type": "stream",
     "text": [
      "安徽省安庆市宿松县：已完成\n",
      "安徽省安庆市怀宁县：已完成\n",
      "安徽省安庆市桐城市：已完成\n",
      "安徽省安庆市宜秀区：已完成\n",
      "安徽省六安市金寨县：已完成\n",
      "安徽省六安市裕安区：已完成\n",
      "安徽省六安市舒城县：已完成\n",
      "安徽省六安市霍邱县：已完成\n",
      "安徽省六安市金安区：已完成\n",
      "安徽省合肥市蜀山区：已完成\n",
      "安徽省合肥市肥西县：已完成\n",
      "安徽省合肥市瑶海区：已完成\n",
      "安徽省合肥市包河区：已完成\n",
      "安徽省合肥市巢湖市：已完成\n",
      "安徽省合肥市庐阳区：已完成\n",
      "安徽省合肥市肥东县：已完成\n",
      "安徽省芜湖市无为县：已完成\n",
      "安徽省芜湖市弋江区：已完成\n",
      "安徽省芜湖市芜湖县：已完成\n",
      "安徽省芜湖市鸠江区：已完成\n",
      "安徽省芜湖市繁昌县：已完成\n",
      "安徽省马鞍山市花山区：已完成\n",
      "安徽省马鞍山市雨山区：已完成\n",
      "安徽省池州市青阳县：已完成\n",
      "安徽省滁州市明光市：已完成\n",
      "安徽省滁州市琅琊区：已完成\n",
      "安徽省滁州市南谯区：已完成\n",
      "安徽省宣城市宣州区：已完成\n",
      "安徽省宣城市宁国市：已完成\n",
      "安徽省蚌埠市蚌山区：已完成\n",
      "安徽省蚌埠市怀远县：已完成\n",
      "安徽省蚌埠市固镇县：已完成\n",
      "安徽省蚌埠市禹会区：已完成\n",
      "安徽省阜阳市颍州区：已完成\n",
      "安徽省阜阳市颍上县：已完成\n",
      "安徽省阜阳市颍泉区：已完成\n",
      "安徽省阜阳市临泉县：已完成\n",
      "安徽省阜阳市颍东区：已完成\n",
      "安徽省淮南市寿县：已完成\n",
      "安徽省淮南市凤台县：已完成\n",
      "安徽省黄山市屯溪区：已完成\n",
      "安徽省淮北市濉溪县：已完成\n",
      "安徽省亳州市涡阳县：已完成\n",
      "安徽省亳州市蒙城县：已完成\n",
      "北京市北京市房山区：已完成\n",
      "北京市北京市海淀区：已完成\n"
     ]
    },
    {
     "ename": "KeyboardInterrupt",
     "evalue": "",
     "output_type": "error",
     "traceback": [
      "\u001b[1;31m---------------------------------------------------------------------------\u001b[0m",
      "\u001b[1;31mKeyboardInterrupt\u001b[0m                         Traceback (most recent call last)",
      "\u001b[1;32m<ipython-input-40-1c5b42792813>\u001b[0m in \u001b[0;36m<module>\u001b[1;34m()\u001b[0m\n\u001b[1;32m----> 1\u001b[1;33m \u001b[0mdfA\u001b[0m \u001b[1;33m=\u001b[0m \u001b[0mFenSheng\u001b[0m\u001b[1;33m(\u001b[0m\u001b[0mdf_new\u001b[0m\u001b[1;33m,\u001b[0m\u001b[0mdf_old\u001b[0m\u001b[1;33m,\u001b[0m\u001b[1;34m\"re_province_gaode\"\u001b[0m\u001b[1;33m,\u001b[0m\u001b[1;34m\"re_city_gaode\"\u001b[0m\u001b[1;33m,\u001b[0m\u001b[1;34m\"re_district_gaode\"\u001b[0m\u001b[1;33m,\u001b[0m\u001b[1;34m\"re_siteLng_gaode\"\u001b[0m\u001b[1;33m,\u001b[0m\u001b[1;34m\"re_siteLat_gaode\"\u001b[0m\u001b[1;33m)\u001b[0m\u001b[1;33m\u001b[0m\u001b[0m\n\u001b[0m",
      "\u001b[1;32m<ipython-input-28-913f9ae8eb74>\u001b[0m in \u001b[0;36mFenSheng\u001b[1;34m(df_new, df_old, col_province, col_city, col_district, col_lng, col_lat)\u001b[0m\n\u001b[0;32m     44\u001b[0m                                 \u001b[0ma\u001b[0m \u001b[1;33m=\u001b[0m \u001b[0mvincenty\u001b[0m\u001b[1;33m(\u001b[0m\u001b[0mstart_lnglat\u001b[0m\u001b[1;33m,\u001b[0m \u001b[0mend_lnglat\u001b[0m\u001b[1;33m)\u001b[0m\u001b[1;33m.\u001b[0m\u001b[0mkm\u001b[0m\u001b[1;33m\u001b[0m\u001b[0m\n\u001b[0;32m     45\u001b[0m                                 \u001b[0mrow\u001b[0m\u001b[1;33m=\u001b[0m\u001b[1;33m{\u001b[0m\u001b[1;34m'orderID_old'\u001b[0m\u001b[1;33m:\u001b[0m\u001b[0mdfold\u001b[0m\u001b[1;33m[\u001b[0m\u001b[1;34m'订单编号'\u001b[0m\u001b[1;33m]\u001b[0m\u001b[1;33m[\u001b[0m\u001b[0mj\u001b[0m\u001b[1;33m]\u001b[0m\u001b[1;33m,\u001b[0m\u001b[1;34m'orderID_new'\u001b[0m\u001b[1;33m:\u001b[0m\u001b[0mdfnew\u001b[0m\u001b[1;33m[\u001b[0m\u001b[1;34m'订单编号'\u001b[0m\u001b[1;33m]\u001b[0m\u001b[1;33m[\u001b[0m\u001b[0mi\u001b[0m\u001b[1;33m]\u001b[0m\u001b[1;33m,\u001b[0m\u001b[1;34m'distance'\u001b[0m\u001b[1;33m:\u001b[0m\u001b[0ma\u001b[0m\u001b[1;33m}\u001b[0m\u001b[1;33m\u001b[0m\u001b[0m\n\u001b[1;32m---> 46\u001b[1;33m                                 \u001b[0mdfA\u001b[0m \u001b[1;33m=\u001b[0m \u001b[0mdfA\u001b[0m\u001b[1;33m.\u001b[0m\u001b[0mappend\u001b[0m\u001b[1;33m(\u001b[0m\u001b[0mrow\u001b[0m\u001b[1;33m,\u001b[0m\u001b[0mignore_index\u001b[0m\u001b[1;33m=\u001b[0m\u001b[1;32mTrue\u001b[0m\u001b[1;33m)\u001b[0m\u001b[1;33m\u001b[0m\u001b[0m\n\u001b[0m\u001b[0;32m     47\u001b[0m                             \u001b[1;32melse\u001b[0m\u001b[1;33m:\u001b[0m\u001b[1;33m\u001b[0m\u001b[0m\n\u001b[0;32m     48\u001b[0m                                 \u001b[1;32mpass\u001b[0m\u001b[1;33m\u001b[0m\u001b[0m\n",
      "\u001b[1;32md:\\python\\envs\\jupyterpy36\\lib\\site-packages\\pandas\\core\\frame.py\u001b[0m in \u001b[0;36mappend\u001b[1;34m(self, other, ignore_index, verify_integrity, sort)\u001b[0m\n\u001b[0;32m   6209\u001b[0m         return concat(to_concat, ignore_index=ignore_index,\n\u001b[0;32m   6210\u001b[0m                       \u001b[0mverify_integrity\u001b[0m\u001b[1;33m=\u001b[0m\u001b[0mverify_integrity\u001b[0m\u001b[1;33m,\u001b[0m\u001b[1;33m\u001b[0m\u001b[0m\n\u001b[1;32m-> 6211\u001b[1;33m                       sort=sort)\n\u001b[0m\u001b[0;32m   6212\u001b[0m \u001b[1;33m\u001b[0m\u001b[0m\n\u001b[0;32m   6213\u001b[0m     def join(self, other, on=None, how='left', lsuffix='', rsuffix='',\n",
      "\u001b[1;32md:\\python\\envs\\jupyterpy36\\lib\\site-packages\\pandas\\core\\reshape\\concat.py\u001b[0m in \u001b[0;36mconcat\u001b[1;34m(objs, axis, join, join_axes, ignore_index, keys, levels, names, verify_integrity, sort, copy)\u001b[0m\n\u001b[0;32m    224\u001b[0m                        \u001b[0mverify_integrity\u001b[0m\u001b[1;33m=\u001b[0m\u001b[0mverify_integrity\u001b[0m\u001b[1;33m,\u001b[0m\u001b[1;33m\u001b[0m\u001b[0m\n\u001b[0;32m    225\u001b[0m                        copy=copy, sort=sort)\n\u001b[1;32m--> 226\u001b[1;33m     \u001b[1;32mreturn\u001b[0m \u001b[0mop\u001b[0m\u001b[1;33m.\u001b[0m\u001b[0mget_result\u001b[0m\u001b[1;33m(\u001b[0m\u001b[1;33m)\u001b[0m\u001b[1;33m\u001b[0m\u001b[0m\n\u001b[0m\u001b[0;32m    227\u001b[0m \u001b[1;33m\u001b[0m\u001b[0m\n\u001b[0;32m    228\u001b[0m \u001b[1;33m\u001b[0m\u001b[0m\n",
      "\u001b[1;32md:\\python\\envs\\jupyterpy36\\lib\\site-packages\\pandas\\core\\reshape\\concat.py\u001b[0m in \u001b[0;36mget_result\u001b[1;34m(self)\u001b[0m\n\u001b[0;32m    421\u001b[0m             new_data = concatenate_block_managers(\n\u001b[0;32m    422\u001b[0m                 \u001b[0mmgrs_indexers\u001b[0m\u001b[1;33m,\u001b[0m \u001b[0mself\u001b[0m\u001b[1;33m.\u001b[0m\u001b[0mnew_axes\u001b[0m\u001b[1;33m,\u001b[0m \u001b[0mconcat_axis\u001b[0m\u001b[1;33m=\u001b[0m\u001b[0mself\u001b[0m\u001b[1;33m.\u001b[0m\u001b[0maxis\u001b[0m\u001b[1;33m,\u001b[0m\u001b[1;33m\u001b[0m\u001b[0m\n\u001b[1;32m--> 423\u001b[1;33m                 copy=self.copy)\n\u001b[0m\u001b[0;32m    424\u001b[0m             \u001b[1;32mif\u001b[0m \u001b[1;32mnot\u001b[0m \u001b[0mself\u001b[0m\u001b[1;33m.\u001b[0m\u001b[0mcopy\u001b[0m\u001b[1;33m:\u001b[0m\u001b[1;33m\u001b[0m\u001b[0m\n\u001b[0;32m    425\u001b[0m                 \u001b[0mnew_data\u001b[0m\u001b[1;33m.\u001b[0m\u001b[0m_consolidate_inplace\u001b[0m\u001b[1;33m(\u001b[0m\u001b[1;33m)\u001b[0m\u001b[1;33m\u001b[0m\u001b[0m\n",
      "\u001b[1;32md:\\python\\envs\\jupyterpy36\\lib\\site-packages\\pandas\\core\\internals.py\u001b[0m in \u001b[0;36mconcatenate_block_managers\u001b[1;34m(mgrs_indexers, axes, concat_axis, copy)\u001b[0m\n\u001b[0;32m   5414\u001b[0m                 \u001b[0mvalues\u001b[0m \u001b[1;33m=\u001b[0m \u001b[0mvalues\u001b[0m\u001b[1;33m.\u001b[0m\u001b[0mview\u001b[0m\u001b[1;33m(\u001b[0m\u001b[1;33m)\u001b[0m\u001b[1;33m\u001b[0m\u001b[0m\n\u001b[0;32m   5415\u001b[0m             \u001b[0mb\u001b[0m \u001b[1;33m=\u001b[0m \u001b[0mb\u001b[0m\u001b[1;33m.\u001b[0m\u001b[0mmake_block_same_class\u001b[0m\u001b[1;33m(\u001b[0m\u001b[0mvalues\u001b[0m\u001b[1;33m,\u001b[0m \u001b[0mplacement\u001b[0m\u001b[1;33m=\u001b[0m\u001b[0mplacement\u001b[0m\u001b[1;33m)\u001b[0m\u001b[1;33m\u001b[0m\u001b[0m\n\u001b[1;32m-> 5416\u001b[1;33m         \u001b[1;32melif\u001b[0m \u001b[0mis_uniform_join_units\u001b[0m\u001b[1;33m(\u001b[0m\u001b[0mjoin_units\u001b[0m\u001b[1;33m)\u001b[0m\u001b[1;33m:\u001b[0m\u001b[1;33m\u001b[0m\u001b[0m\n\u001b[0m\u001b[0;32m   5417\u001b[0m             b = join_units[0].block.concat_same_type(\n\u001b[0;32m   5418\u001b[0m                 [ju.block for ju in join_units], placement=placement)\n",
      "\u001b[1;32md:\\python\\envs\\jupyterpy36\\lib\\site-packages\\pandas\\core\\internals.py\u001b[0m in \u001b[0;36mis_uniform_join_units\u001b[1;34m(join_units)\u001b[0m\n\u001b[0;32m   5438\u001b[0m         \u001b[1;31m# no blocks that would get missing values (can lead to type upcasts)\u001b[0m\u001b[1;33m\u001b[0m\u001b[1;33m\u001b[0m\u001b[0m\n\u001b[0;32m   5439\u001b[0m         \u001b[1;31m# unless we're an extension dtype.\u001b[0m\u001b[1;33m\u001b[0m\u001b[1;33m\u001b[0m\u001b[0m\n\u001b[1;32m-> 5440\u001b[1;33m         \u001b[0mall\u001b[0m\u001b[1;33m(\u001b[0m\u001b[1;32mnot\u001b[0m \u001b[0mju\u001b[0m\u001b[1;33m.\u001b[0m\u001b[0mis_na\u001b[0m \u001b[1;32mor\u001b[0m \u001b[0mju\u001b[0m\u001b[1;33m.\u001b[0m\u001b[0mblock\u001b[0m\u001b[1;33m.\u001b[0m\u001b[0mis_extension\u001b[0m \u001b[1;32mfor\u001b[0m \u001b[0mju\u001b[0m \u001b[1;32min\u001b[0m \u001b[0mjoin_units\u001b[0m\u001b[1;33m)\u001b[0m \u001b[1;32mand\u001b[0m\u001b[1;33m\u001b[0m\u001b[0m\n\u001b[0m\u001b[0;32m   5441\u001b[0m         \u001b[1;31m# no blocks with indexers (as then the dimensions do not fit)\u001b[0m\u001b[1;33m\u001b[0m\u001b[1;33m\u001b[0m\u001b[0m\n\u001b[0;32m   5442\u001b[0m         \u001b[0mall\u001b[0m\u001b[1;33m(\u001b[0m\u001b[1;32mnot\u001b[0m \u001b[0mju\u001b[0m\u001b[1;33m.\u001b[0m\u001b[0mindexers\u001b[0m \u001b[1;32mfor\u001b[0m \u001b[0mju\u001b[0m \u001b[1;32min\u001b[0m \u001b[0mjoin_units\u001b[0m\u001b[1;33m)\u001b[0m \u001b[1;32mand\u001b[0m\u001b[1;33m\u001b[0m\u001b[0m\n",
      "\u001b[1;32md:\\python\\envs\\jupyterpy36\\lib\\site-packages\\pandas\\core\\internals.py\u001b[0m in \u001b[0;36m<genexpr>\u001b[1;34m(.0)\u001b[0m\n\u001b[0;32m   5438\u001b[0m         \u001b[1;31m# no blocks that would get missing values (can lead to type upcasts)\u001b[0m\u001b[1;33m\u001b[0m\u001b[1;33m\u001b[0m\u001b[0m\n\u001b[0;32m   5439\u001b[0m         \u001b[1;31m# unless we're an extension dtype.\u001b[0m\u001b[1;33m\u001b[0m\u001b[1;33m\u001b[0m\u001b[0m\n\u001b[1;32m-> 5440\u001b[1;33m         \u001b[0mall\u001b[0m\u001b[1;33m(\u001b[0m\u001b[1;32mnot\u001b[0m \u001b[0mju\u001b[0m\u001b[1;33m.\u001b[0m\u001b[0mis_na\u001b[0m \u001b[1;32mor\u001b[0m \u001b[0mju\u001b[0m\u001b[1;33m.\u001b[0m\u001b[0mblock\u001b[0m\u001b[1;33m.\u001b[0m\u001b[0mis_extension\u001b[0m \u001b[1;32mfor\u001b[0m \u001b[0mju\u001b[0m \u001b[1;32min\u001b[0m \u001b[0mjoin_units\u001b[0m\u001b[1;33m)\u001b[0m \u001b[1;32mand\u001b[0m\u001b[1;33m\u001b[0m\u001b[0m\n\u001b[0m\u001b[0;32m   5441\u001b[0m         \u001b[1;31m# no blocks with indexers (as then the dimensions do not fit)\u001b[0m\u001b[1;33m\u001b[0m\u001b[1;33m\u001b[0m\u001b[0m\n\u001b[0;32m   5442\u001b[0m         \u001b[0mall\u001b[0m\u001b[1;33m(\u001b[0m\u001b[1;32mnot\u001b[0m \u001b[0mju\u001b[0m\u001b[1;33m.\u001b[0m\u001b[0mindexers\u001b[0m \u001b[1;32mfor\u001b[0m \u001b[0mju\u001b[0m \u001b[1;32min\u001b[0m \u001b[0mjoin_units\u001b[0m\u001b[1;33m)\u001b[0m \u001b[1;32mand\u001b[0m\u001b[1;33m\u001b[0m\u001b[0m\n",
      "\u001b[1;32mpandas\\_libs\\properties.pyx\u001b[0m in \u001b[0;36mpandas._libs.properties.CachedProperty.__get__\u001b[1;34m()\u001b[0m\n",
      "\u001b[1;32md:\\python\\envs\\jupyterpy36\\lib\\site-packages\\pandas\\core\\internals.py\u001b[0m in \u001b[0;36mis_na\u001b[1;34m(self)\u001b[0m\n\u001b[0;32m   5814\u001b[0m         \u001b[0mchunk_len\u001b[0m \u001b[1;33m=\u001b[0m \u001b[0mmax\u001b[0m\u001b[1;33m(\u001b[0m\u001b[0mtotal_len\u001b[0m \u001b[1;33m//\u001b[0m \u001b[1;36m40\u001b[0m\u001b[1;33m,\u001b[0m \u001b[1;36m1000\u001b[0m\u001b[1;33m)\u001b[0m\u001b[1;33m\u001b[0m\u001b[0m\n\u001b[0;32m   5815\u001b[0m         \u001b[1;32mfor\u001b[0m \u001b[0mi\u001b[0m \u001b[1;32min\u001b[0m \u001b[0mrange\u001b[0m\u001b[1;33m(\u001b[0m\u001b[1;36m0\u001b[0m\u001b[1;33m,\u001b[0m \u001b[0mtotal_len\u001b[0m\u001b[1;33m,\u001b[0m \u001b[0mchunk_len\u001b[0m\u001b[1;33m)\u001b[0m\u001b[1;33m:\u001b[0m\u001b[1;33m\u001b[0m\u001b[0m\n\u001b[1;32m-> 5816\u001b[1;33m             \u001b[1;32mif\u001b[0m \u001b[1;32mnot\u001b[0m \u001b[0misna\u001b[0m\u001b[1;33m(\u001b[0m\u001b[0mvalues_flat\u001b[0m\u001b[1;33m[\u001b[0m\u001b[0mi\u001b[0m\u001b[1;33m:\u001b[0m\u001b[0mi\u001b[0m \u001b[1;33m+\u001b[0m \u001b[0mchunk_len\u001b[0m\u001b[1;33m]\u001b[0m\u001b[1;33m)\u001b[0m\u001b[1;33m.\u001b[0m\u001b[0mall\u001b[0m\u001b[1;33m(\u001b[0m\u001b[1;33m)\u001b[0m\u001b[1;33m:\u001b[0m\u001b[1;33m\u001b[0m\u001b[0m\n\u001b[0m\u001b[0;32m   5817\u001b[0m                 \u001b[1;32mreturn\u001b[0m \u001b[1;32mFalse\u001b[0m\u001b[1;33m\u001b[0m\u001b[0m\n\u001b[0;32m   5818\u001b[0m \u001b[1;33m\u001b[0m\u001b[0m\n",
      "\u001b[1;32md:\\python\\envs\\jupyterpy36\\lib\\site-packages\\pandas\\core\\dtypes\\missing.py\u001b[0m in \u001b[0;36misna\u001b[1;34m(obj)\u001b[0m\n\u001b[0;32m    104\u001b[0m     \u001b[0mName\u001b[0m\u001b[1;33m:\u001b[0m \u001b[1;36m1\u001b[0m\u001b[1;33m,\u001b[0m \u001b[0mdtype\u001b[0m\u001b[1;33m:\u001b[0m \u001b[0mbool\u001b[0m\u001b[1;33m\u001b[0m\u001b[0m\n\u001b[0;32m    105\u001b[0m     \"\"\"\n\u001b[1;32m--> 106\u001b[1;33m     \u001b[1;32mreturn\u001b[0m \u001b[0m_isna\u001b[0m\u001b[1;33m(\u001b[0m\u001b[0mobj\u001b[0m\u001b[1;33m)\u001b[0m\u001b[1;33m\u001b[0m\u001b[0m\n\u001b[0m\u001b[0;32m    107\u001b[0m \u001b[1;33m\u001b[0m\u001b[0m\n\u001b[0;32m    108\u001b[0m \u001b[1;33m\u001b[0m\u001b[0m\n",
      "\u001b[1;32md:\\python\\envs\\jupyterpy36\\lib\\site-packages\\pandas\\core\\dtypes\\missing.py\u001b[0m in \u001b[0;36m_isna_new\u001b[1;34m(obj)\u001b[0m\n\u001b[0;32m    118\u001b[0m     elif isinstance(obj, (ABCSeries, np.ndarray, ABCIndexClass,\n\u001b[0;32m    119\u001b[0m                           ABCExtensionArray)):\n\u001b[1;32m--> 120\u001b[1;33m         \u001b[1;32mreturn\u001b[0m \u001b[0m_isna_ndarraylike\u001b[0m\u001b[1;33m(\u001b[0m\u001b[0mobj\u001b[0m\u001b[1;33m)\u001b[0m\u001b[1;33m\u001b[0m\u001b[0m\n\u001b[0m\u001b[0;32m    121\u001b[0m     \u001b[1;32melif\u001b[0m \u001b[0misinstance\u001b[0m\u001b[1;33m(\u001b[0m\u001b[0mobj\u001b[0m\u001b[1;33m,\u001b[0m \u001b[0mABCGeneric\u001b[0m\u001b[1;33m)\u001b[0m\u001b[1;33m:\u001b[0m\u001b[1;33m\u001b[0m\u001b[0m\n\u001b[0;32m    122\u001b[0m         \u001b[1;32mreturn\u001b[0m \u001b[0mobj\u001b[0m\u001b[1;33m.\u001b[0m\u001b[0m_constructor\u001b[0m\u001b[1;33m(\u001b[0m\u001b[0mobj\u001b[0m\u001b[1;33m.\u001b[0m\u001b[0m_data\u001b[0m\u001b[1;33m.\u001b[0m\u001b[0misna\u001b[0m\u001b[1;33m(\u001b[0m\u001b[0mfunc\u001b[0m\u001b[1;33m=\u001b[0m\u001b[0misna\u001b[0m\u001b[1;33m)\u001b[0m\u001b[1;33m)\u001b[0m\u001b[1;33m\u001b[0m\u001b[0m\n",
      "\u001b[1;32md:\\python\\envs\\jupyterpy36\\lib\\site-packages\\pandas\\core\\dtypes\\missing.py\u001b[0m in \u001b[0;36m_isna_ndarraylike\u001b[1;34m(obj)\u001b[0m\n\u001b[0;32m    212\u001b[0m             \u001b[0mresult\u001b[0m \u001b[1;33m=\u001b[0m \u001b[0mnp\u001b[0m\u001b[1;33m.\u001b[0m\u001b[0mempty\u001b[0m\u001b[1;33m(\u001b[0m\u001b[0mshape\u001b[0m\u001b[1;33m,\u001b[0m \u001b[0mdtype\u001b[0m\u001b[1;33m=\u001b[0m\u001b[0mbool\u001b[0m\u001b[1;33m)\u001b[0m\u001b[1;33m\u001b[0m\u001b[0m\n\u001b[0;32m    213\u001b[0m             \u001b[0mvec\u001b[0m \u001b[1;33m=\u001b[0m \u001b[0mlibmissing\u001b[0m\u001b[1;33m.\u001b[0m\u001b[0misnaobj\u001b[0m\u001b[1;33m(\u001b[0m\u001b[0mvalues\u001b[0m\u001b[1;33m.\u001b[0m\u001b[0mravel\u001b[0m\u001b[1;33m(\u001b[0m\u001b[1;33m)\u001b[0m\u001b[1;33m)\u001b[0m\u001b[1;33m\u001b[0m\u001b[0m\n\u001b[1;32m--> 214\u001b[1;33m             \u001b[0mresult\u001b[0m\u001b[1;33m[\u001b[0m\u001b[1;33m...\u001b[0m\u001b[1;33m]\u001b[0m \u001b[1;33m=\u001b[0m \u001b[0mvec\u001b[0m\u001b[1;33m.\u001b[0m\u001b[0mreshape\u001b[0m\u001b[1;33m(\u001b[0m\u001b[0mshape\u001b[0m\u001b[1;33m)\u001b[0m\u001b[1;33m\u001b[0m\u001b[0m\n\u001b[0m\u001b[0;32m    215\u001b[0m \u001b[1;33m\u001b[0m\u001b[0m\n\u001b[0;32m    216\u001b[0m     \u001b[1;32melif\u001b[0m \u001b[0mneeds_i8_conversion\u001b[0m\u001b[1;33m(\u001b[0m\u001b[0mobj\u001b[0m\u001b[1;33m)\u001b[0m\u001b[1;33m:\u001b[0m\u001b[1;33m\u001b[0m\u001b[0m\n",
      "\u001b[1;31mKeyboardInterrupt\u001b[0m: "
     ]
    }
   ],
   "source": [
    "dfA = FenSheng(df_new,df_old,\"re_province_gaode\",\"re_city_gaode\",\"re_district_gaode\",\"re_siteLng_gaode\",\"re_siteLat_gaode\")"
   ]
  },
  {
   "cell_type": "code",
   "execution_count": null,
   "metadata": {},
   "outputs": [],
   "source": [
    "dfB = dfA[dfA['distance'] <= 3]"
   ]
  },
  {
   "cell_type": "code",
   "execution_count": 26,
   "metadata": {},
   "outputs": [
    {
     "data": {
      "text/plain": [
       "array(['山西省', '福建省', '贵州省', '湖南省', '北京市', '山东省', '甘肃省', '陕西省', '广西壮族自治区',\n",
       "       '河北省', '西藏自治区', '黑龙江省', '内蒙古自治区', '湖北省', '海南省', '辽宁省', '宁夏回族自治区',\n",
       "       '河南省', '新疆维吾尔自治区', '安徽省', '青海省', '浙江省', '广东省', '江苏省', '吉林省', '四川省',\n",
       "       '云南省', '江西省', '上海市', '天津市', '重庆市'], dtype=object)"
      ]
     },
     "execution_count": 26,
     "metadata": {},
     "output_type": "execute_result"
    }
   ],
   "source": [
    "df_old[\"re_province_gaode\"].unique()"
   ]
  },
  {
   "cell_type": "code",
   "execution_count": 27,
   "metadata": {},
   "outputs": [
    {
     "data": {
      "text/plain": [
       "array(['安徽省', '北京市', '福建省', '甘肃省', '广东省', '广西壮族自治区', '贵州省', '海南省', '河北省',\n",
       "       '河南省', '黑龙江省', '湖北省', '湖南省', '吉林省', '江苏省', '江西省', '辽宁省', '内蒙古自治区',\n",
       "       '宁夏回族自治区', '青海省', '山东省', '山西省', '陕西省', '上海市', '四川省', '天津市',\n",
       "       '西藏自治区', '新疆维吾尔自治区', '云南省', '浙江省', '重庆市'], dtype=object)"
      ]
     },
     "execution_count": 27,
     "metadata": {},
     "output_type": "execute_result"
    }
   ],
   "source": [
    "df_new[\"re_province_gaode\"].unique()"
   ]
  },
  {
   "cell_type": "code",
   "execution_count": null,
   "metadata": {},
   "outputs": [],
   "source": []
  },
  {
   "cell_type": "code",
   "execution_count": 38,
   "metadata": {
    "scrolled": false
   },
   "outputs": [],
   "source": [
    "df_old['re_siteLat_gaode'] = df_old['re_siteLat_gaode'].map(lambda x:float(x))\n",
    "df_old['re_siteLng_gaode'] = df_old['re_siteLng_gaode'].map(lambda x:float(x))\n",
    "df_new['re_siteLat_gaode'] = df_new['re_siteLat_gaode'].map(lambda x:float(x))\n",
    "df_new['re_siteLng_gaode'] = df_new['re_siteLng_gaode'].map(lambda x:float(x))\n"
   ]
  },
  {
   "cell_type": "code",
   "execution_count": 42,
   "metadata": {},
   "outputs": [
    {
     "data": {
      "text/plain": [
       "广东省         380\n",
       "河南省         256\n",
       "山东省         254\n",
       "江苏省         215\n",
       "河北省         181\n",
       "浙江省         139\n",
       "湖南省         135\n",
       "辽宁省         129\n",
       "湖北省         119\n",
       "陕西省          96\n",
       "安徽省          82\n",
       "四川省          79\n",
       "福建省          77\n",
       "山西省          74\n",
       "北京市          65\n",
       "上海市          62\n",
       "黑龙江省         56\n",
       "甘肃省          48\n",
       "内蒙古自治区       43\n",
       "云南省          38\n",
       "吉林省          37\n",
       "广西壮族自治区      36\n",
       "江西省          36\n",
       "新疆维吾尔自治区     34\n",
       "重庆市          24\n",
       "天津市          22\n",
       "贵州省          22\n",
       "宁夏回族自治区      17\n",
       "海南省           9\n",
       "青海省           7\n",
       "西藏自治区         3\n",
       "Name: re_province_gaode, dtype: int64"
      ]
     },
     "execution_count": 42,
     "metadata": {},
     "output_type": "execute_result"
    }
   ],
   "source": [
    "df_new['re_province_gaode'].value_counts()"
   ]
  },
  {
   "cell_type": "code",
   "execution_count": null,
   "metadata": {},
   "outputs": [],
   "source": []
  }
 ],
 "metadata": {
  "kernelspec": {
   "display_name": "Python 3",
   "language": "python",
   "name": "python3"
  },
  "language_info": {
   "codemirror_mode": {
    "name": "ipython",
    "version": 3
   },
   "file_extension": ".py",
   "mimetype": "text/x-python",
   "name": "python",
   "nbconvert_exporter": "python",
   "pygments_lexer": "ipython3",
   "version": "3.6.6"
  }
 },
 "nbformat": 4,
 "nbformat_minor": 2
}
