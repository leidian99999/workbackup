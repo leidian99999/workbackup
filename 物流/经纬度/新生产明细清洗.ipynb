{
 "cells": [
  {
   "cell_type": "code",
   "execution_count": 1,
   "metadata": {},
   "outputs": [],
   "source": [
    "import pandas as pd"
   ]
  },
  {
   "cell_type": "code",
   "execution_count": 2,
   "metadata": {},
   "outputs": [
    {
     "data": {
      "text/plain": [
       "(12731, 33)"
      ]
     },
     "execution_count": 2,
     "metadata": {},
     "output_type": "execute_result"
    }
   ],
   "source": [
    "data = pd.read_excel(r\"D:\\work\\logistica\\0415取数.xls\")\n",
    "data.shape"
   ]
  },
  {
   "cell_type": "code",
   "execution_count": 3,
   "metadata": {},
   "outputs": [
    {
     "data": {
      "text/html": [
       "<div>\n",
       "<style scoped>\n",
       "    .dataframe tbody tr th:only-of-type {\n",
       "        vertical-align: middle;\n",
       "    }\n",
       "\n",
       "    .dataframe tbody tr th {\n",
       "        vertical-align: top;\n",
       "    }\n",
       "\n",
       "    .dataframe thead th {\n",
       "        text-align: right;\n",
       "    }\n",
       "</style>\n",
       "<table border=\"1\" class=\"dataframe\">\n",
       "  <thead>\n",
       "    <tr style=\"text-align: right;\">\n",
       "      <th></th>\n",
       "      <th>订单编号</th>\n",
       "      <th>订单状态</th>\n",
       "      <th>订单挂起原因</th>\n",
       "      <th>生产备注</th>\n",
       "      <th>挂起时间</th>\n",
       "      <th>解挂时间</th>\n",
       "      <th>订单来源</th>\n",
       "      <th>订单生成时间</th>\n",
       "      <th>销售品编码</th>\n",
       "      <th>销售品名称</th>\n",
       "      <th>...</th>\n",
       "      <th>订单金额</th>\n",
       "      <th>原始订单</th>\n",
       "      <th>物流公司编码</th>\n",
       "      <th>物流网址</th>\n",
       "      <th>运单号</th>\n",
       "      <th>下单模式</th>\n",
       "      <th>送货模式</th>\n",
       "      <th>模式分类</th>\n",
       "      <th>是否下省</th>\n",
       "      <th>激活来源</th>\n",
       "    </tr>\n",
       "  </thead>\n",
       "  <tbody>\n",
       "    <tr>\n",
       "      <th>0</th>\n",
       "      <td>600101844100008319041504763459</td>\n",
       "      <td>已发货</td>\n",
       "      <td></td>\n",
       "      <td>NaN</td>\n",
       "      <td>NaN</td>\n",
       "      <td>NaN</td>\n",
       "      <td>WAP客户端/服务</td>\n",
       "      <td>2019-04-15 00:00:04</td>\n",
       "      <td>10011228964</td>\n",
       "      <td>爽卡-抖音</td>\n",
       "      <td>...</td>\n",
       "      <td>0.0</td>\n",
       "      <td>600101844100008319041504763459</td>\n",
       "      <td>jingdongxianxia</td>\n",
       "      <td>NaN</td>\n",
       "      <td>VA51377645406</td>\n",
       "      <td>V4'</td>\n",
       "      <td>线下模式</td>\n",
       "      <td>京东模式</td>\n",
       "      <td>下省</td>\n",
       "      <td>NaN</td>\n",
       "    </tr>\n",
       "    <tr>\n",
       "      <th>1</th>\n",
       "      <td>690000000001008319041523553541</td>\n",
       "      <td>已发货</td>\n",
       "      <td></td>\n",
       "      <td>NaN</td>\n",
       "      <td>NaN</td>\n",
       "      <td>NaN</td>\n",
       "      <td>京东</td>\n",
       "      <td>2019-04-15 00:00:12</td>\n",
       "      <td>10011227431</td>\n",
       "      <td>权益卡</td>\n",
       "      <td>...</td>\n",
       "      <td>0.0</td>\n",
       "      <td>0798000550199202</td>\n",
       "      <td>jingdongxianxia</td>\n",
       "      <td>NaN</td>\n",
       "      <td>VA54279238650</td>\n",
       "      <td>V4'</td>\n",
       "      <td>线下模式</td>\n",
       "      <td>京东模式</td>\n",
       "      <td>下省</td>\n",
       "      <td>NaN</td>\n",
       "    </tr>\n",
       "    <tr>\n",
       "      <th>2</th>\n",
       "      <td>690000000001008319041523553527</td>\n",
       "      <td>已发货</td>\n",
       "      <td></td>\n",
       "      <td>NaN</td>\n",
       "      <td>NaN</td>\n",
       "      <td>NaN</td>\n",
       "      <td>阿里</td>\n",
       "      <td>2019-04-15 00:00:19</td>\n",
       "      <td>10011212609</td>\n",
       "      <td>阿里微宝卡</td>\n",
       "      <td>...</td>\n",
       "      <td>0.0</td>\n",
       "      <td>ALBKJT201904150000162996292</td>\n",
       "      <td>jingdongxianxia</td>\n",
       "      <td>NaN</td>\n",
       "      <td>VA53276886946</td>\n",
       "      <td>V4'</td>\n",
       "      <td>线下模式</td>\n",
       "      <td>京东模式</td>\n",
       "      <td>下省</td>\n",
       "      <td>NaN</td>\n",
       "    </tr>\n",
       "    <tr>\n",
       "      <th>3</th>\n",
       "      <td>609903837000008319041504763643</td>\n",
       "      <td>已发货</td>\n",
       "      <td></td>\n",
       "      <td>NaN</td>\n",
       "      <td>NaN</td>\n",
       "      <td>NaN</td>\n",
       "      <td>WAP客户端/服务</td>\n",
       "      <td>2019-04-15 00:00:25</td>\n",
       "      <td>10011228964</td>\n",
       "      <td>爽卡-抖音</td>\n",
       "      <td>...</td>\n",
       "      <td>0.0</td>\n",
       "      <td>609903837000008319041504763643</td>\n",
       "      <td>jingdongxianxia</td>\n",
       "      <td>NaN</td>\n",
       "      <td>VA52604807301</td>\n",
       "      <td>V4'</td>\n",
       "      <td>线下模式</td>\n",
       "      <td>京东模式</td>\n",
       "      <td>下省</td>\n",
       "      <td>NaN</td>\n",
       "    </tr>\n",
       "    <tr>\n",
       "      <th>4</th>\n",
       "      <td>600000000000008319041504763644</td>\n",
       "      <td>办理成功</td>\n",
       "      <td></td>\n",
       "      <td>NaN</td>\n",
       "      <td>NaN</td>\n",
       "      <td>NaN</td>\n",
       "      <td>WAP客户端/服务</td>\n",
       "      <td>2019-04-15 00:00:27</td>\n",
       "      <td>185011226515</td>\n",
       "      <td>预存20元得40元</td>\n",
       "      <td>...</td>\n",
       "      <td>20.0</td>\n",
       "      <td>600000000000008319041504763644</td>\n",
       "      <td>NaN</td>\n",
       "      <td>NaN</td>\n",
       "      <td>NaN</td>\n",
       "      <td>NaN</td>\n",
       "      <td>线上模式</td>\n",
       "      <td>普通线上</td>\n",
       "      <td>不下省</td>\n",
       "      <td>NaN</td>\n",
       "    </tr>\n",
       "  </tbody>\n",
       "</table>\n",
       "<p>5 rows × 33 columns</p>\n",
       "</div>"
      ],
      "text/plain": [
       "                             订单编号  订单状态 订单挂起原因 生产备注 挂起时间  解挂时间       订单来源  \\\n",
       "0  600101844100008319041504763459   已发货         NaN  NaN   NaN  WAP客户端/服务   \n",
       "1  690000000001008319041523553541   已发货         NaN  NaN   NaN         京东   \n",
       "2  690000000001008319041523553527   已发货         NaN  NaN   NaN         阿里   \n",
       "3  609903837000008319041504763643   已发货         NaN  NaN   NaN  WAP客户端/服务   \n",
       "4  600000000000008319041504763644  办理成功         NaN  NaN   NaN  WAP客户端/服务   \n",
       "\n",
       "                订单生成时间         销售品编码      销售品名称 ...   订单金额  \\\n",
       "0  2019-04-15 00:00:04   10011228964      爽卡-抖音 ...    0.0   \n",
       "1  2019-04-15 00:00:12   10011227431        权益卡 ...    0.0   \n",
       "2  2019-04-15 00:00:19   10011212609      阿里微宝卡 ...    0.0   \n",
       "3  2019-04-15 00:00:25   10011228964      爽卡-抖音 ...    0.0   \n",
       "4  2019-04-15 00:00:27  185011226515  预存20元得40元 ...   20.0   \n",
       "\n",
       "                             原始订单           物流公司编码 物流网址            运单号  下单模式  \\\n",
       "0  600101844100008319041504763459  jingdongxianxia  NaN  VA51377645406   V4'   \n",
       "1                0798000550199202  jingdongxianxia  NaN  VA54279238650   V4'   \n",
       "2     ALBKJT201904150000162996292  jingdongxianxia  NaN  VA53276886946   V4'   \n",
       "3  609903837000008319041504763643  jingdongxianxia  NaN  VA52604807301   V4'   \n",
       "4  600000000000008319041504763644              NaN  NaN            NaN   NaN   \n",
       "\n",
       "   送货模式  模式分类 是否下省 激活来源  \n",
       "0  线下模式  京东模式   下省  NaN  \n",
       "1  线下模式  京东模式   下省  NaN  \n",
       "2  线下模式  京东模式   下省  NaN  \n",
       "3  线下模式  京东模式   下省  NaN  \n",
       "4  线上模式  普通线上  不下省  NaN  \n",
       "\n",
       "[5 rows x 33 columns]"
      ]
     },
     "execution_count": 3,
     "metadata": {},
     "output_type": "execute_result"
    }
   ],
   "source": [
    "data.head()"
   ]
  },
  {
   "cell_type": "code",
   "execution_count": 4,
   "metadata": {},
   "outputs": [
    {
     "data": {
      "text/plain": [
       "Index(['订单编号', '订单状态', '订单挂起原因', '生产备注', '挂起时间', '解挂时间', '订单来源', '订单生成时间',\n",
       "       '销售品编码', '销售品名称', '入网用户姓名', '入网身份证号', '入网手机号', '收货人姓名', '收货人地址',\n",
       "       '收货人电话', '所在省', '所在市', '所在县', '号码归属地', '写卡渠道', '办理路径', 'AB类型', '订单金额',\n",
       "       '原始订单', '物流公司编码', '物流网址', '运单号', '下单模式', '送货模式', '模式分类', '是否下省',\n",
       "       '激活来源'],\n",
       "      dtype='object')"
      ]
     },
     "execution_count": 4,
     "metadata": {},
     "output_type": "execute_result"
    }
   ],
   "source": [
    "data.columns"
   ]
  },
  {
   "cell_type": "code",
   "execution_count": 5,
   "metadata": {},
   "outputs": [
    {
     "data": {
      "text/plain": [
       "jingdongxianxia    5372\n",
       "ems                 228\n",
       "shunfeng            160\n",
       "yunda               141\n",
       "jingdongwuliu       135\n",
       "zhongtong            37\n",
       "zhaijisong           13\n",
       "qita                  8\n",
       "hyytes                5\n",
       "youzhengguonei        2\n",
       "shd56                 1\n",
       "Name: 物流公司编码, dtype: int64"
      ]
     },
     "execution_count": 5,
     "metadata": {},
     "output_type": "execute_result"
    }
   ],
   "source": [
    "data['物流公司编码'].value_counts()"
   ]
  },
  {
   "cell_type": "code",
   "execution_count": 6,
   "metadata": {},
   "outputs": [],
   "source": [
    "# 统一所在省\n",
    "dict_province = {'焦作市':'河南','河南省':'河南','河北省':'河北','贵州省':'贵州','湖南省':'湖南','广东省':'广东','江苏省':'江苏','山西省':'山西',\n",
    "    '吉林省':'吉林','山东省':'山东','广西壮族自治区':'广西','湖北省':'湖北','陕西省':'陕西','浙江省':'浙江','福建省':'福建',\n",
    "    '内蒙古自治区':'内蒙古','云南省':'云南','辽宁省':'辽宁','江西省':'江西','四川省':'四川','黑龙江省':'黑龙江','安徽省':'安徽',\n",
    "    '甘肃省':'甘肃','西藏自治区':'西藏','青海省':'青海','宁夏回族自治区':'宁夏',\n",
    "    '海南省':'海南','六安市':'安徽','东莞市':'广东','新疆维吾尔自治区':'新疆'}\n",
    "data = data.replace(dict_province)"
   ]
  },
  {
   "cell_type": "code",
   "execution_count": 7,
   "metadata": {},
   "outputs": [
    {
     "data": {
      "text/plain": [
       "广东     1286\n",
       "北京     1027\n",
       "河南     1012\n",
       "河北      813\n",
       "山东      628\n",
       "湖北      501\n",
       "江苏      430\n",
       "湖南      414\n",
       "浙江      335\n",
       "陕西      329\n",
       "辽宁      319\n",
       "黑龙江     310\n",
       "福建      265\n",
       "吉林      254\n",
       "四川      229\n",
       "云南      227\n",
       "上海      214\n",
       "山西      191\n",
       "广西      170\n",
       "重庆      150\n",
       "贵州      133\n",
       "内蒙古     125\n",
       "安徽      121\n",
       "江西      115\n",
       "甘肃       83\n",
       "天津       77\n",
       "新疆       40\n",
       "宁夏       39\n",
       "海南       25\n",
       "西藏        9\n",
       "青海        5\n",
       "Name: 所在省, dtype: int64"
      ]
     },
     "execution_count": 7,
     "metadata": {},
     "output_type": "execute_result"
    }
   ],
   "source": [
    "data[\"所在省\"].value_counts()"
   ]
  },
  {
   "cell_type": "code",
   "execution_count": 11,
   "metadata": {},
   "outputs": [
    {
     "data": {
      "text/plain": [
       "12631                    湖南益阳市安化县东平镇林家村安置小区21栋\n",
       "12632                           吉林长春市南关区辽宁省沈阳市\n",
       "12633                           河北廊坊市香河县辽宁省沈阳市\n",
       "12634                           北京北京市东城区辽宁省沈阳市\n",
       "12635                           河南郑州市中原区辽宁省沈阳市\n",
       "12636      河北石家庄市长安区和平路与平安北大街交叉口南行200米路东安怡图文快印\n",
       "12637                           河南郑州市中原区辽宁省沈阳市\n",
       "12638                 河北保定市雄县河北保定市雄县米家务乡米东大村小区\n",
       "12639                           吉林长春市南关区辽宁省沈阳市\n",
       "12640                          湖南长沙市望城县紫鑫戴斯大酒店\n",
       "12641                     安徽六安市裕安县狮子岗乡南岳庙村北大塘组\n",
       "12642                    广东广州市花都区振兴北路33号智尔娜手袋厂\n",
       "12643                                      NaN\n",
       "12644                           江苏镇江市句容市辽宁省沈阳市\n",
       "12645                           浙江杭州市萧山市金城路天汇园\n",
       "12646    河北石家庄市桥西区河北石家庄市桥西区红旗大街学院路6号河北劳动关系职业学院\n",
       "12647                                      NaN\n",
       "12648                       广西南宁市江南区广西轻工高级技工学校\n",
       "12649                                      NaN\n",
       "12650                       山东潍坊市高密市欧拓电子商务有限公司\n",
       "12651                           辽宁铁岭市银州区辽宁省沈阳市\n",
       "12652                           北京北京市东城区辽宁省沈阳市\n",
       "12653    湖北咸宁市赤壁市湖北咸宁市赤壁市瑞通大道 立嘉诚豪园 8栋2单元1401室\n",
       "12654                           吉林长春市南关区辽宁省沈阳市\n",
       "12655                           重庆重庆市万州区辽宁省沈阳市\n",
       "12656                        广西贵港市覃塘区大岭乡中通快递学生\n",
       "12657                           河南郑州市二七区辽宁省沈阳市\n",
       "12658            云南昆明市东川区铜都街道兴玉路9号广电小区3幢2单元302\n",
       "12659             陕西西安市未央区凤城八路与文景路十字国金华府底商405室\n",
       "12660                           辽宁丹东市元宝区辽宁省沈阳市\n",
       "                         ...                  \n",
       "12700                                      NaN\n",
       "12701                      贵州铜仁地区碧江区铜仁市碧江区康复医院\n",
       "12702                           辽宁大连市中山区辽宁省沈阳市\n",
       "12703                      浙江杭州市余杭市红联九漾华庭小区16栋\n",
       "12704                           湖南岳阳市岳阳县辽宁省沈阳市\n",
       "12705                           吉林长春市南关区辽宁省沈阳市\n",
       "12706                                      NaN\n",
       "12707                           河北石家庄市赵县辽宁省沈阳市\n",
       "12708                       江苏苏州市工业园区工业园区友达宿舍楼\n",
       "12709                          河北石家庄市裕华区辽宁省沈阳市\n",
       "12710                           湖南长沙市芙蓉区辽宁省沈阳市\n",
       "12711                           湖北孝感市孝南区辽宁省沈阳市\n",
       "12712                山东潍坊市高密市凤凰大街家家悦超市三楼纯K派对前台\n",
       "12713                         陕西延安市子长县齐家湾婚礼鲜花店\n",
       "12714                          山西晋中市介休市介休市万紫千红\n",
       "12715                           北京北京市大兴区辽宁省沈阳市\n",
       "12716    广东省深圳市坪山区坪山街道欧姆龙电子部件深圳有限公司生活区大门口丰巢快递柜\n",
       "12717                           北京北京市大兴区辽宁省沈阳市\n",
       "12718                           云南昆明市五华区辽宁省沈阳市\n",
       "12719                           河南郑州市中原区辽宁省沈阳市\n",
       "12720                广东惠州市博罗县罗阳镇上塘路185号金加福百货商场\n",
       "12721                           吉林长春市南关区辽宁省沈阳市\n",
       "12722                           河北廊坊市安次区辽宁省沈阳市\n",
       "12723          江苏淮安市洪泽县江苏淮安市洪泽县高良涧镇北一道华斯达食品厂门卫\n",
       "12724                        陕西咸阳市秦都区思源南路博锐幼儿园\n",
       "12725                          黑龙江绥化市兰西县辽宁省沈阳市\n",
       "12726           河南驻马店市确山县河南驻马店市确山县普会寺乡凡店村委薛营一队\n",
       "12727                    甘肃陇南市徽县徽县亿源超市一楼   恩瑞妮\n",
       "12728                                      NaN\n",
       "12729                           辽宁鞍山市立山区辽宁省沈阳市\n",
       "Name: 收货人地址, Length: 99, dtype: object"
      ]
     },
     "execution_count": 11,
     "metadata": {},
     "output_type": "execute_result"
    }
   ],
   "source": [
    "data[\"收货人地址\"][-100:-1]"
   ]
  },
  {
   "cell_type": "code",
   "execution_count": 9,
   "metadata": {},
   "outputs": [],
   "source": [
    "data.to_csv(r\"D:\\work\\basic\\daily\\190415_alter.csv\")"
   ]
  },
  {
   "cell_type": "code",
   "execution_count": null,
   "metadata": {},
   "outputs": [],
   "source": []
  }
 ],
 "metadata": {
  "kernelspec": {
   "display_name": "Python 3",
   "language": "python",
   "name": "python3"
  },
  "language_info": {
   "codemirror_mode": {
    "name": "ipython",
    "version": 3
   },
   "file_extension": ".py",
   "mimetype": "text/x-python",
   "name": "python",
   "nbconvert_exporter": "python",
   "pygments_lexer": "ipython3",
   "version": "3.5.2"
  }
 },
 "nbformat": 4,
 "nbformat_minor": 2
}
