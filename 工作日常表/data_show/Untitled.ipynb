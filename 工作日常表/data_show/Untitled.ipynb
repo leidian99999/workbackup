{
 "cells": [
  {
   "cell_type": "code",
   "execution_count": 1,
   "metadata": {},
   "outputs": [],
   "source": [
    "from os import walk\n",
    "import pandas as pd\n",
    "from datetime import datetime,timedelta\n",
    "import time\n",
    "from def_fiveTables import *"
   ]
  },
  {
   "cell_type": "code",
   "execution_count": 2,
   "metadata": {},
   "outputs": [
    {
     "name": "stdout",
     "output_type": "stream",
     "text": [
      "before set display.max_rows =  60\n",
      "after set display.max_rows =  80\n"
     ]
    }
   ],
   "source": [
    "print(\"before set display.max_rows = \",pd.get_option(\"display.max_rows\"))\n",
    "pd.set_option(\"display.max_rows\",80)\n",
    "print(\"after set display.max_rows = \",pd.get_option(\"display.max_rows\"))"
   ]
  },
  {
   "cell_type": "code",
   "execution_count": 3,
   "metadata": {},
   "outputs": [],
   "source": [
    "pd.set_option('display.large_repr', 'info')"
   ]
  },
  {
   "cell_type": "code",
   "execution_count": 4,
   "metadata": {},
   "outputs": [],
   "source": [
    "import numpy as np\n",
    "np.set_printoptions(suppress=True, threshold=np.nan)"
   ]
  },
  {
   "cell_type": "code",
   "execution_count": 5,
   "metadata": {},
   "outputs": [],
   "source": [
    "date = '19/06/13'  # 表中日期\n",
    "filename = 'testALL.xlsx'  # 输出文件名\n",
    "inputPath = \"G:/work/daily/DataShow/190613/\"  # 输出路径\n",
    "inputPath2 = \"G:/work/daily/DataShow/\""
   ]
  },
  {
   "cell_type": "code",
   "execution_count": 6,
   "metadata": {},
   "outputs": [],
   "source": [
    "date1 = '190613'  # 文件名日期\n",
    "date2 = '2019-06-13'\n",
    "date3 = '190612'"
   ]
  },
  {
   "cell_type": "code",
   "execution_count": 7,
   "metadata": {},
   "outputs": [
    {
     "name": "stdout",
     "output_type": "stream",
     "text": [
      "三日前：2019-06-10\n",
      "七日前：2019-06-06\n",
      "二十五日前：2019-05-19\n"
     ]
    }
   ],
   "source": [
    "san_days  = (datetime.strptime(date2, '%Y-%m-%d') - timedelta(days=3)).strftime('%Y-%m-%d')\n",
    "qi_days   = (datetime.strptime(date2, '%Y-%m-%d') - timedelta(days=7)).strftime('%Y-%m-%d')\n",
    "erwu_days = (datetime.strptime(date2, '%Y-%m-%d') - timedelta(days=25)).strftime('%Y-%m-%d')\n",
    "print(\"三日前：\" + str(san_days))\n",
    "print(\"七日前：\" + str(qi_days))\n",
    "print(\"二十五日前：\" + str(erwu_days))"
   ]
  },
  {
   "cell_type": "code",
   "execution_count": 8,
   "metadata": {},
   "outputs": [
    {
     "name": "stderr",
     "output_type": "stream",
     "text": [
      "d:\\python\\envs\\jupyterpy36\\lib\\site-packages\\IPython\\core\\interactiveshell.py:2785: DtypeWarning: Columns (5,24,25,30,35,36,43,60) have mixed types. Specify dtype option on import or set low_memory=False.\n",
      "  interactivity=interactivity, compiler=compiler, result=result)\n"
     ]
    }
   ],
   "source": [
    "df1 = pd.read_csv(inputPath + \"data1.csv\")\n",
    "# df1 = pd.read_excel(inputPath + \"data1.xlsx\")\n",
    "split1 = pd.DataFrame((x.split(' ') for x in df1['订单生成时间']),index=df1.index,columns=['订单生成日期','订单生成小时'])\n",
    "df1 = pd.merge(df1, split1, left_index=True, right_index=True)\n",
    "# df1.to_csv(inputPath+\"df1.csv\",index=False)"
   ]
  },
  {
   "cell_type": "code",
   "execution_count": 9,
   "metadata": {},
   "outputs": [
    {
     "name": "stderr",
     "output_type": "stream",
     "text": [
      "d:\\python\\envs\\jupyterpy36\\lib\\site-packages\\IPython\\core\\interactiveshell.py:2785: DtypeWarning: Columns (8,15) have mixed types. Specify dtype option on import or set low_memory=False.\n",
      "  interactivity=interactivity, compiler=compiler, result=result)\n"
     ]
    }
   ],
   "source": [
    "df2 = pd.read_csv(inputPath + \"NewPro.csv\")\n",
    "# df2 = pd.read_excel(inputPath + \"NewPro.xlsx\")\n",
    "split2 = pd.DataFrame((x.split(' ') for x in df2['订单生成时间']),index=df2.index,columns=['订单生成日期','订单生成小时'])\n",
    "df2 = pd.merge(df2, split2, left_index=True, right_index=True)\n"
   ]
  },
  {
   "cell_type": "code",
   "execution_count": 10,
   "metadata": {},
   "outputs": [],
   "source": [
    "df5 = pd.read_excel(inputPath + \"NewJD.xlsx\")\n",
    "split5 = pd.DataFrame((x.split(' ') for x in df5['用户下单时间']),index=df5.index,columns=['用户下单日期','用户下单小时'])\n",
    "df5 = pd.merge(df5, split5, left_index=True, right_index=True)\n"
   ]
  },
  {
   "cell_type": "code",
   "execution_count": 11,
   "metadata": {},
   "outputs": [
    {
     "name": "stderr",
     "output_type": "stream",
     "text": [
      "d:\\python\\envs\\jupyterpy36\\lib\\site-packages\\IPython\\core\\interactiveshell.py:2785: DtypeWarning: Columns (4,74,80) have mixed types. Specify dtype option on import or set low_memory=False.\n",
      "  interactivity=interactivity, compiler=compiler, result=result)\n"
     ]
    },
    {
     "name": "stdout",
     "output_type": "stream",
     "text": [
      "当前日期：2019-06-13\n",
      "['2019-06-06', '2019-06-07', '2019-06-08', '2019-06-09', '2019-06-10', '2019-06-11', '2019-06-12']\n"
     ]
    }
   ],
   "source": [
    "df3 = pd.read_csv(inputPath2 + \"CHZH_Info\"+ date3 + \".csv\") # 首充历史表\n",
    "split3 = pd.DataFrame((x.split(' ') for x in df3['订单生成时间']), index=df3.index, columns=['订单生成日期', '订单生成小时'])\n",
    "df3 = pd.merge(df3, split3, left_index=True, right_index=True)\n",
    "print(\"当前日期：\"+ date2)\n",
    "ggDays = get_nday_list(date2,7)\n",
    "df3 = df3[df3[\"订单生成日期\"].isin(ggDays)]\n",
    "df3 = df3[[\"主号码\"]]"
   ]
  },
  {
   "cell_type": "code",
   "execution_count": 12,
   "metadata": {},
   "outputs": [
    {
     "name": "stderr",
     "output_type": "stream",
     "text": [
      "d:\\python\\envs\\jupyterpy36\\lib\\site-packages\\IPython\\core\\interactiveshell.py:2785: DtypeWarning: Columns (50) have mixed types. Specify dtype option on import or set low_memory=False.\n",
      "  interactivity=interactivity, compiler=compiler, result=result)\n"
     ]
    }
   ],
   "source": [
    "df4 = pd.read_csv(inputPath + \"NewPay\" + date1 + \".csv\") # 当日历史表\n",
    "df4 = df4[[\"主号码\"]]"
   ]
  },
  {
   "cell_type": "code",
   "execution_count": 13,
   "metadata": {},
   "outputs": [],
   "source": [
    "df1 = df1[df1[\"订单生成日期\"] == san_days]\n",
    "df2 = df2[df2[\"订单生成日期\"] == san_days]\n",
    "df5 = df5[df5[\"用户下单日期\"] == san_days] # 京东表"
   ]
  },
  {
   "cell_type": "code",
   "execution_count": 14,
   "metadata": {},
   "outputs": [
    {
     "name": "stdout",
     "output_type": "stream",
     "text": [
      "df1:(22094, 97)\n",
      "df2:(29274, 37)\n",
      "df3:(67094, 1)\n",
      "df4:(26000, 1)\n",
      "df5:(12802, 38)\n"
     ]
    }
   ],
   "source": [
    "print(\"df1:\"+str(df1.shape))\n",
    "print(\"df2:\"+str(df2.shape))\n",
    "print(\"df3:\"+str(df3.shape))\n",
    "print(\"df4:\"+str(df4.shape))\n",
    "print(\"df5:\"+str(df5.shape))"
   ]
  },
  {
   "cell_type": "code",
   "execution_count": 15,
   "metadata": {},
   "outputs": [],
   "source": [
    "df1 = df1[(True ^ df1['订单状态'].isin(['办理成功', '办理中', '办理失败']))]\n",
    "df1 = df1[pd.notnull(df1['所在省 / 市 / 县'])]\n",
    "df1 = df1[df1[\"订单编号\"].str.contains('订单编号') == False]\n",
    "df1 = df1.drop_duplicates(subset=['订单编号'], keep='first')\n",
    "df1 = df1[pd.notnull(df1['号码归属地'])]\n",
    "df1 = df1[pd.notnull(df1['入网手机号'])]\n",
    "df1[\"入网手机号\"] = df1['入网手机号'].astype('int64')"
   ]
  },
  {
   "cell_type": "code",
   "execution_count": 47,
   "metadata": {},
   "outputs": [
    {
     "data": {
      "text/plain": [
       "0     17350893710\n",
       "1     19110358607\n",
       "2     17307404480\n",
       "3     17753953392\n",
       "4     18953356607\n",
       "5     17338122350\n",
       "6     19125871207\n",
       "7     17359542151\n",
       "8     17724310315\n",
       "9     17323103557\n",
       "10    17777786731\n",
       "11    17363370667\n",
       "12    17728052252\n",
       "13    17356006251\n",
       "14    17777785563\n",
       "15    17387005504\n",
       "16    17302086636\n",
       "17    17777785536\n",
       "18    15343849875\n",
       "19    15391108097\n",
       "20    17335609394\n",
       "21    17322481021\n",
       "22    17322166495\n",
       "23    17325753839\n",
       "24    15303481296\n",
       "25    17343940254\n",
       "26    17379511637\n",
       "27    13321544912\n",
       "28    13327563831\n",
       "29    17742012759\n",
       "30    15330901135\n",
       "31    18187141645\n",
       "32    18071675561\n",
       "33    17323190972\n",
       "34    17328421706\n",
       "Name: 入网手机号, dtype: int64"
      ]
     },
     "execution_count": 47,
     "metadata": {},
     "output_type": "execute_result"
    }
   ],
   "source": [
    "df1[\"入网手机号\"][0:35]"
   ]
  },
  {
   "cell_type": "code",
   "execution_count": 17,
   "metadata": {},
   "outputs": [
    {
     "data": {
      "text/plain": [
       "(13516, 37)"
      ]
     },
     "execution_count": 17,
     "metadata": {},
     "output_type": "execute_result"
    }
   ],
   "source": [
    "df2 = df2[df2[\"模式分类\"] == \"京东模式\"]\n",
    "df2 = df2[pd.notnull(df2['是否下省'])]\n",
    "df2.shape"
   ]
  },
  {
   "cell_type": "code",
   "execution_count": 18,
   "metadata": {},
   "outputs": [],
   "source": [
    "df34 = pd.concat([df3, df4],sort=False)\n",
    "df34 = df34.drop_duplicates(subset=['主号码'], keep='first')\n",
    "df34 = df34[pd.notnull(df34['主号码'])]\n",
    "df34[\"主号码\"] = df34['主号码'].astype('int64')\n"
   ]
  },
  {
   "cell_type": "code",
   "execution_count": 46,
   "metadata": {},
   "outputs": [
    {
     "data": {
      "text/plain": [
       "0     17370455425\n",
       "1     18175733027\n",
       "2     18158216920\n",
       "3     17769725705\n",
       "4     17336634913\n",
       "5     17757174144\n",
       "6     18067265601\n",
       "7     18903262767\n",
       "8     18974377067\n",
       "9     13336003419\n",
       "10    13348768768\n",
       "11    17366592587\n",
       "12    15371982882\n",
       "13    17348232868\n",
       "14    18943692120\n",
       "15    17737072097\n",
       "16    17774191520\n",
       "17    18106628054\n",
       "18    18968148118\n",
       "19    13308476051\n",
       "20    17343658825\n",
       "21    13303226130\n",
       "22    18966010618\n",
       "23    18175527024\n",
       "24    15338021686\n",
       "25    17365714845\n",
       "26    17310886481\n",
       "27    17347023504\n",
       "28    17725340923\n",
       "29    13371371074\n",
       "30    18958091763\n",
       "31    15395055997\n",
       "32    13358949679\n",
       "33    17376325585\n",
       "34    17312879519\n",
       "Name: 主号码, dtype: int64"
      ]
     },
     "execution_count": 46,
     "metadata": {},
     "output_type": "execute_result"
    }
   ],
   "source": [
    "df34[\"主号码\"][0:35]"
   ]
  },
  {
   "cell_type": "code",
   "execution_count": 19,
   "metadata": {},
   "outputs": [],
   "source": [
    "df51 = df5[[\"运营商单号\", \"物流单号\"]]\n",
    "df52 = df5[[\"运营商单号\", \"APP操作时间\"]]\n",
    "df51 = df51[pd.notnull(df51['物流单号'])]\n",
    "df52 = df52[pd.notnull(df52['APP操作时间'])]"
   ]
  },
  {
   "cell_type": "code",
   "execution_count": 20,
   "metadata": {},
   "outputs": [
    {
     "name": "stdout",
     "output_type": "stream",
     "text": [
      "df51:(12745, 2)\n",
      "df52:(6870, 2)\n"
     ]
    }
   ],
   "source": [
    "print(\"df51:\"+str(df51.shape))\n",
    "print(\"df52:\"+str(df52.shape))"
   ]
  },
  {
   "cell_type": "code",
   "execution_count": 37,
   "metadata": {},
   "outputs": [],
   "source": [
    "df11 = pd.merge(df1, df2[[\"订单编号\", \"模式分类\", \"是否下省\"]],\n",
    "                    left_on=\"订单编号\", right_on=\"订单编号\", how=\"left\")"
   ]
  },
  {
   "cell_type": "code",
   "execution_count": 38,
   "metadata": {},
   "outputs": [],
   "source": [
    "df11 = pd.merge(df11, df51, left_on=\"订单编号\", right_on=\"运营商单号\", how=\"left\")\n",
    "df11 = pd.merge(df11, df52, left_on=\"订单编号\", right_on=\"运营商单号\", how=\"left\")\n",
    "# df11['入网手机号'] = df11['入网手机号'].apply(int)\n",
    "df11 = pd.merge(df11, df34[['主号码']],left_on=\"入网手机号\", right_on=\"主号码\", how=\"left\") #'订单编号',\n",
    "df11 = df11[df11[\"订单状态\"] == \"交易完成\"]"
   ]
  },
  {
   "cell_type": "code",
   "execution_count": 48,
   "metadata": {},
   "outputs": [],
   "source": [
    "df11 = df11.fillna(-1)\n",
    "df11[\"主号码_y\"] = df11['主号码_y'].astype('int64')"
   ]
  },
  {
   "cell_type": "code",
   "execution_count": 49,
   "metadata": {},
   "outputs": [],
   "source": [
    "df12 = df11.copy()"
   ]
  },
  {
   "cell_type": "code",
   "execution_count": 50,
   "metadata": {},
   "outputs": [],
   "source": [
    "def shouchong(x):\n",
    "    if x == -1:\n",
    "        return 0\n",
    "    else:\n",
    "        return 1"
   ]
  },
  {
   "cell_type": "code",
   "execution_count": 51,
   "metadata": {},
   "outputs": [
    {
     "data": {
      "text/plain": [
       "1              -1\n",
       "6              -1\n",
       "9              -1\n",
       "12             -1\n",
       "18             -1\n",
       "21             -1\n",
       "23             -1\n",
       "31    18187141645\n",
       "32             -1\n",
       "41             -1\n",
       "Name: 主号码_y, dtype: int64"
      ]
     },
     "execution_count": 51,
     "metadata": {},
     "output_type": "execute_result"
    }
   ],
   "source": [
    "df12[\"主号码_y\"][0:10]"
   ]
  },
  {
   "cell_type": "code",
   "execution_count": 52,
   "metadata": {
    "scrolled": true
   },
   "outputs": [
    {
     "data": {
      "text/plain": [
       "0    7236\n",
       "1     494\n",
       "Name: 首充, dtype: int64"
      ]
     },
     "execution_count": 52,
     "metadata": {},
     "output_type": "execute_result"
    }
   ],
   "source": [
    "df12['首充'] = df12[\"主号码_y\"].apply(shouchong)\n",
    "df12['首充'].value_counts()"
   ]
  },
  {
   "cell_type": "code",
   "execution_count": 33,
   "metadata": {},
   "outputs": [
    {
     "data": {
      "text/plain": [
       "1              NaN\n",
       "6              NaN\n",
       "9              NaN\n",
       "12             NaN\n",
       "18             NaN\n",
       "21             NaN\n",
       "23             NaN\n",
       "31    1.818714e+10\n",
       "32             NaN\n",
       "41             NaN\n",
       "Name: 主号码_y, dtype: float64"
      ]
     },
     "execution_count": 33,
     "metadata": {},
     "output_type": "execute_result"
    }
   ],
   "source": [
    "df12[\"主号码_y\"][0:10]"
   ]
  },
  {
   "cell_type": "code",
   "execution_count": 34,
   "metadata": {},
   "outputs": [
    {
     "data": {
      "text/plain": [
       "订单编号            object\n",
       "原始订单            object\n",
       "订单类型            object\n",
       "订单状态            object\n",
       "订单子状态           object\n",
       "取消原因            object\n",
       "订单挂起原因          object\n",
       "安装失败原因         float64\n",
       "订单来源            object\n",
       "结算状态           float64\n",
       "支付平台            object\n",
       "机价款            float64\n",
       "店铺              object\n",
       "AB类型            object\n",
       "拆单类型            object\n",
       "制式类型            object\n",
       "订单金额           float64\n",
       "支付方式            object\n",
       "支付流水号           object\n",
       "收取卡密号码         float64\n",
       "订单生成时间          object\n",
       "支付完成时间          object\n",
       "交易完成时间          object\n",
       "发货时间            object\n",
       "物流单回填时间         object\n",
       "用户名             object\n",
       "QQ号            float64\n",
       "入网用户姓名          object\n",
       "入网身份证号          object\n",
       "入网手机号            int64\n",
       "联系人电话号码         object\n",
       "ICCID          float64\n",
       "联系住址            object\n",
       "收货人姓名           object\n",
       "收货地址            object\n",
       "收货人电话号码         object\n",
       "收货人邮箱           object\n",
       "邮编             float64\n",
       "所在省 / 市 / 县     object\n",
       "入网人所在省/市/县     float64\n",
       "                ...   \n",
       "销售品类型           object\n",
       "销售品数量          float64\n",
       "销售品价格          float64\n",
       "合作商            float64\n",
       "实际分账金额         float64\n",
       "套餐              object\n",
       "主号码_x          float64\n",
       "副号码            float64\n",
       "现金预存款           object\n",
       "可选包             object\n",
       "合约补贴           float64\n",
       "其他             float64\n",
       "靓号低消           float64\n",
       "靓号等级           float64\n",
       "靓号预存款          float64\n",
       "营业厅送货方式         object\n",
       "是否线下模式          object\n",
       "是否线下转线上         object\n",
       "线下转线上原因         object\n",
       "营业厅送货iccid     float64\n",
       "身份证图片1          object\n",
       "身份证图片2          object\n",
       "身份证图片3          object\n",
       "身份证图片4          object\n",
       "实名信息复核中时间      float64\n",
       "销售品文本步骤名称      float64\n",
       "用户选择的步骤内容      float64\n",
       "京东不可达原因         object\n",
       "订单生成日期          object\n",
       "订单生成小时          object\n",
       "模式分类            object\n",
       "是否下省            object\n",
       "运营商单号_x         object\n",
       "物流单号_y          object\n",
       "运营商单号_y         object\n",
       "APP操作时间         object\n",
       "主号码_y          float64\n",
       "派单               int64\n",
       "上门               int64\n",
       "首充               int64\n",
       "Length: 107, dtype: object"
      ]
     },
     "execution_count": 34,
     "metadata": {},
     "output_type": "execute_result"
    }
   ],
   "source": [
    "df12.dtypes"
   ]
  },
  {
   "cell_type": "code",
   "execution_count": null,
   "metadata": {},
   "outputs": [],
   "source": []
  }
 ],
 "metadata": {
  "kernelspec": {
   "display_name": "Python 3",
   "language": "python",
   "name": "python3"
  },
  "language_info": {
   "codemirror_mode": {
    "name": "ipython",
    "version": 3
   },
   "file_extension": ".py",
   "mimetype": "text/x-python",
   "name": "python",
   "nbconvert_exporter": "python",
   "pygments_lexer": "ipython3",
   "version": "3.6.6"
  }
 },
 "nbformat": 4,
 "nbformat_minor": 2
}
