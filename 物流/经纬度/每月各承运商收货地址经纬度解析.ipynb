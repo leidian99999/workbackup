{
 "cells": [
  {
   "cell_type": "code",
   "execution_count": 1,
   "metadata": {},
   "outputs": [],
   "source": [
    "import pandas as pd\n",
    "import requests\n",
    "from bs4 import BeautifulSoup\n",
    "import json\n",
    "import os\n",
    "from urllib.request import urlopen, quote,URLError, HTTPError\n",
    "import time"
   ]
  },
  {
   "cell_type": "code",
   "execution_count": 2,
   "metadata": {},
   "outputs": [],
   "source": [
    "# 解析高德地图API网址信息\n",
    "def get_latlng_gaode(address,ak):\n",
    "    ak= ak\n",
    "    url=\"http://restapi.amap.com/v3/geocode/geo?key=%s&address=%s\"%(ak,address)\n",
    "    data=requests.get(url)\n",
    "    contest=data.json()\n",
    "    return contest"
   ]
  },
  {
   "cell_type": "code",
   "execution_count": 3,
   "metadata": {},
   "outputs": [],
   "source": [
    "# 获取高德地图API地址信息\n",
    "def get_receiver_lnglat_gaode(address):\n",
    "    start_time = time.time()\n",
    "    re_List_gaode = []\n",
    "    for b in address:\n",
    "#         print(b)\n",
    "        re_Dict_gaode = {}\n",
    "        try:\n",
    "            temp=get_latlng_gaode(b,ak_gaode)\n",
    "        except requests.exceptions.ConnectionError: # HTTPError\n",
    "            re_Dict_gaode[\"re_location_gaode\"] = \"请求出错\"\n",
    "            \n",
    "        else:\n",
    "            if ('geocodes' in temp):\n",
    "                re_Dict_gaode[\"re_location_gaode\"] = temp['geocodes'][0]['location']\n",
    "                re_Dict_gaode[\"re_formatted_address_gaode\"] = temp['geocodes'][0]['formatted_address']\n",
    "                re_Dict_gaode[\"re_province_gaode\"] = temp['geocodes'][0]['province']\n",
    "                re_Dict_gaode[\"re_country_gaode\"] = temp['geocodes'][0]['country']\n",
    "                if ('citycode' in temp):\n",
    "                    re_Dict_gaode[\"re_citycode_gaode\"] = temp['geocodes'][0]['citycode']\n",
    "                else:\n",
    "                    pass\n",
    "                re_Dict_gaode[\"re_city_gaode\"] = temp['geocodes'][0]['city']\n",
    "                re_Dict_gaode[\"re_district_gaode\"] = temp['geocodes'][0]['district']\n",
    "                re_Dict_gaode[\"re_level_gaode\"] = temp['geocodes'][0]['level']\n",
    "                re_Dict_gaode[\"re_township_gaode\"] = temp['geocodes'][0]['township']\n",
    "                re_Dict_gaode[\"re_adcode_gaode\"] = temp['geocodes'][0]['adcode']\n",
    "                re_Dict_gaode[\"re_street_gaode\"] = temp['geocodes'][0]['street']\n",
    "                re_Dict_gaode[\"re_number_gaode\"] = temp['geocodes'][0]['number']\n",
    "            else:\n",
    "                pass\n",
    "        re_List_gaode.append(re_Dict_gaode)\n",
    "    #     time.sleep(1)\n",
    "    end_time = time.time()\n",
    "    print(\"高德总用时：\",end_time-start_time)\n",
    "    return re_List_gaode"
   ]
  },
  {
   "cell_type": "code",
   "execution_count": 4,
   "metadata": {},
   "outputs": [],
   "source": [
    "# 解析百度地图API网址信息\n",
    "def get_latlng_baidu(address,ak):\n",
    "    url = 'http://api.map.baidu.com/geocoder/v2/'\n",
    "    output = 'json'#输出数据的格式\n",
    "    ak = ak\n",
    "    add = quote(address) #由于本文地址变量为中文，为防止乱码，先用quote进行编码\n",
    "    uri = url + '?' + 'address=' + add  + '&output=' + output + '&ak=' + ak\n",
    "    req = urlopen(uri)\n",
    "    res = req.read().decode()\n",
    "    temp = json.loads(res)\n",
    "    return temp"
   ]
  },
  {
   "cell_type": "code",
   "execution_count": 5,
   "metadata": {},
   "outputs": [],
   "source": [
    "# 获取百度地图API地址信息\n",
    "def get_receiver_lnglat_baidu(address):\n",
    "    start_time = time.time()\n",
    "    re_List_baidu = []\n",
    "    for b in address:\n",
    "#         print(b)\n",
    "        re_Dict_baidu = {}\n",
    "        try:\n",
    "            temp = get_latlng_baidu(b,ak_baidu)\n",
    "        except HTTPError as e:\n",
    "            print(\"请求出错\")\n",
    "            pass\n",
    "        else:\n",
    "            if ('result' in temp):\n",
    "                re_Dict_baidu[\"re_Lng_baidu\"] = temp['result']['location']['lng']\n",
    "                re_Dict_baidu[\"re_Lat_baidu\"] = temp['result']['location']['lat']\n",
    "                re_Dict_baidu[\"re_Precise_baidu\"] = temp['result']['precise']\n",
    "                re_Dict_baidu[\"re_Confidence_baidu\"] = temp['result']['confidence']\n",
    "                re_Dict_baidu[\"re_Comprehension_baidu\"] = temp['result']['comprehension']\n",
    "                re_Dict_baidu[\"re_Level_baidu\"] = temp['result']['level']\n",
    "            else:\n",
    "                pass\n",
    "        re_List_baidu.append(re_Dict_baidu)\n",
    "    #     time.sleep(1)\n",
    "    end_time = time.time()\n",
    "    print(\"百度总用时：\", end_time - start_time)\n",
    "    return re_List_baidu"
   ]
  },
  {
   "cell_type": "code",
   "execution_count": 6,
   "metadata": {},
   "outputs": [],
   "source": [
    "# ak码\n",
    "ak_gaode = 'c71d9eda293d20db64955275557d92d4'\n",
    "ak_baidu = 'z3KEtliyTGvj0bFudEkz4GO0GN8eQQa5'"
   ]
  },
  {
   "cell_type": "code",
   "execution_count": 8,
   "metadata": {},
   "outputs": [],
   "source": [
    "# 导入数据\n",
    "date = \"1902\"\n",
    "fileName = \"京东物流(承运商).xlsx\"\n",
    "pinyin = \"JDWL\"\n",
    "inputpath = \"G:\\\\work\\\\basic\\\\carriers\\\\\" + date + \"\\\\\"\n",
    "data = pd.read_excel(inputpath + fileName)"
   ]
  },
  {
   "cell_type": "code",
   "execution_count": 9,
   "metadata": {
    "scrolled": true
   },
   "outputs": [],
   "source": [
    "# 导出数据路径\n",
    "outpath_gaode = \"G:\\\\work\\\\basic\\\\carriers\\\\\" + date + \"\\\\output\\\\gaode\\\\\"\n",
    "name_ANSI_gaode = date + \"Info_lnglat_\" + pinyin + \"_gaode.xlsx\"\n",
    "name_UTF8_gaode = date + \"Info_lnglat_\" + pinyin + \"_gaode.csv\"\n",
    "\n",
    "outpath_baidu = \"G:\\\\work\\\\basic\\\\carriers\\\\\" + date + \"\\\\output\\\\baidu\\\\\"\n",
    "name_ANSI_baidu = date + \"Info_lnglat_\" + pinyin + \"_baidu.xlsx\"\n",
    "name_UTF8_baidu = date + \"Info_lnglat_\" + pinyin + \"_baidu.csv\"\n"
   ]
  },
  {
   "cell_type": "code",
   "execution_count": 10,
   "metadata": {
    "scrolled": true
   },
   "outputs": [
    {
     "data": {
      "text/plain": [
       "京东物流    30887\n",
       "Name: 承运商, dtype: int64"
      ]
     },
     "execution_count": 10,
     "metadata": {},
     "output_type": "execute_result"
    }
   ],
   "source": [
    "data[\"承运商\"].value_counts()"
   ]
  },
  {
   "cell_type": "markdown",
   "metadata": {},
   "source": [
    "### 选取有效字段"
   ]
  },
  {
   "cell_type": "code",
   "execution_count": 11,
   "metadata": {},
   "outputs": [],
   "source": [
    "df = data[[\"所在省\",\"所在市\",\"收货地址\",\"订单编号\",\"承运商\"]]"
   ]
  },
  {
   "cell_type": "code",
   "execution_count": 12,
   "metadata": {
    "scrolled": true
   },
   "outputs": [
    {
     "name": "stderr",
     "output_type": "stream",
     "text": [
      "d:\\python\\envs\\jupyterpy36\\lib\\site-packages\\ipykernel_launcher.py:1: SettingWithCopyWarning: \n",
      "A value is trying to be set on a copy of a slice from a DataFrame.\n",
      "Try using .loc[row_indexer,col_indexer] = value instead\n",
      "\n",
      "See the caveats in the documentation: http://pandas.pydata.org/pandas-docs/stable/indexing.html#indexing-view-versus-copy\n",
      "  \"\"\"Entry point for launching an IPython kernel.\n"
     ]
    }
   ],
   "source": [
    "df[\"address_all\"]= df[\"所在省\"] +\"省\"+ df[\"所在市\"] + df[\"收货地址\"]"
   ]
  },
  {
   "cell_type": "markdown",
   "metadata": {},
   "source": [
    "### 文件分组并检查"
   ]
  },
  {
   "cell_type": "code",
   "execution_count": 13,
   "metadata": {},
   "outputs": [
    {
     "name": "stdout",
     "output_type": "stream",
     "text": [
      "data:(30887, 49)\n",
      "df:(30887, 6)\n"
     ]
    }
   ],
   "source": [
    "print(\"data:\" + str(data.shape))\n",
    "print(\"df:\" + str(df.shape))"
   ]
  },
  {
   "cell_type": "code",
   "execution_count": 14,
   "metadata": {},
   "outputs": [
    {
     "name": "stdout",
     "output_type": "stream",
     "text": [
      "高德总用时： 2129.605806350708\n"
     ]
    }
   ],
   "source": [
    "# 解析高德\n",
    "list_gaode = get_receiver_lnglat_gaode(df[\"address_all\"])\n",
    "\n",
    "# df化(高德)\n",
    "df_gaode = pd.DataFrame(list_gaode)\n",
    "data_gaode = pd.concat([df,df_gaode],axis=1)"
   ]
  },
  {
   "cell_type": "code",
   "execution_count": 15,
   "metadata": {},
   "outputs": [
    {
     "name": "stdout",
     "output_type": "stream",
     "text": [
      "百度总用时： 2650.2605862617493\n"
     ]
    }
   ],
   "source": [
    "# 解析百度\n",
    "list_baidu = get_receiver_lnglat_baidu(df[\"address_all\"])\n",
    "\n",
    "# df化(百度)\n",
    "df_baidu = pd.DataFrame(list_baidu)\n",
    "data_baidu = pd.concat([df,df_baidu],axis=1)"
   ]
  },
  {
   "cell_type": "code",
   "execution_count": 16,
   "metadata": {},
   "outputs": [
    {
     "name": "stdout",
     "output_type": "stream",
     "text": [
      "data_gaode:(30887, 17)\n",
      "**************************************************\n",
      "data_baidu:(30887, 12)\n"
     ]
    }
   ],
   "source": [
    "# 检查各df\n",
    "print(\"data_gaode:\" + str(data_gaode.shape))\n",
    "print(\"*\"*50)\n",
    "print(\"data_baidu:\" + str(data_baidu.shape))"
   ]
  },
  {
   "cell_type": "code",
   "execution_count": 17,
   "metadata": {},
   "outputs": [],
   "source": [
    "# 合表\n",
    "split_gaode = pd.DataFrame((x.split(',') for x in data_gaode['re_location_gaode']), index=data_gaode.index, columns=['re_siteLng_gaode','re_siteLat_gaode'])\n",
    "data_gaode = pd.merge(data_gaode,split_gaode,left_index=True,right_index=True)\n"
   ]
  },
  {
   "cell_type": "code",
   "execution_count": 18,
   "metadata": {},
   "outputs": [
    {
     "name": "stdout",
     "output_type": "stream",
     "text": [
      "data:(30887, 49)\n",
      "df:(30887, 6)\n",
      "data_gaode:(30887, 19)\n",
      "data_baidu:(30887, 12)\n"
     ]
    }
   ],
   "source": [
    "# 检查合并后结构\n",
    "print(\"data:\" + str(data.shape))\n",
    "print(\"df:\" + str(df.shape))\n",
    "print(\"data_gaode:\" + str(data_gaode.shape))\n",
    "print(\"data_baidu:\" + str(data_baidu.shape))"
   ]
  },
  {
   "cell_type": "code",
   "execution_count": null,
   "metadata": {},
   "outputs": [],
   "source": [
    "# 输出\n",
    "# data_gaode_all.to_excel(outpath_gaode + name_ANSI_gaode,index=False)\n",
    "# data_baidu_all.to_excel(outpath_baidu + name_ANSI_baidu,index=False)"
   ]
  },
  {
   "cell_type": "code",
   "execution_count": 19,
   "metadata": {},
   "outputs": [],
   "source": [
    "data_gaode.to_csv(outpath_gaode + name_UTF8_gaode,index=False)\n",
    "data_baidu.to_csv(outpath_baidu + name_UTF8_baidu,index=False)"
   ]
  },
  {
   "cell_type": "code",
   "execution_count": null,
   "metadata": {},
   "outputs": [],
   "source": []
  }
 ],
 "metadata": {
  "kernelspec": {
   "display_name": "Python 3",
   "language": "python",
   "name": "python3"
  },
  "language_info": {
   "codemirror_mode": {
    "name": "ipython",
    "version": 3
   },
   "file_extension": ".py",
   "mimetype": "text/x-python",
   "name": "python",
   "nbconvert_exporter": "python",
   "pygments_lexer": "ipython3",
   "version": "3.6.6"
  }
 },
 "nbformat": 4,
 "nbformat_minor": 2
}
