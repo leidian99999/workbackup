{
 "cells": [
  {
   "cell_type": "code",
   "execution_count": 1,
   "metadata": {},
   "outputs": [],
   "source": [
    "import pandas as pd"
   ]
  },
  {
   "cell_type": "code",
   "execution_count": 2,
   "metadata": {
    "scrolled": false
   },
   "outputs": [
    {
     "name": "stderr",
     "output_type": "stream",
     "text": [
      "d:\\python\\envs\\jupyterpy36\\lib\\site-packages\\ipykernel_launcher.py:1: ParserWarning: Falling back to the 'python' engine because the 'c' engine does not support sep=None with delim_whitespace=False; you can avoid this warning by specifying engine='python'.\n",
      "  \"\"\"Entry point for launching an IPython kernel.\n"
     ]
    }
   ],
   "source": [
    "data = pd.read_csv(r\"G:\\work\\basic\\csv\\1804_info_p2.csv\",sep = None,encoding='utf8')"
   ]
  },
  {
   "cell_type": "code",
   "execution_count": 3,
   "metadata": {
    "scrolled": true
   },
   "outputs": [
    {
     "data": {
      "text/plain": [
       "Index(['Unnamed: 0', '订单编号', '原始订单', '订单类型', '订单状态', '订单子状态', '取消原因', '订单挂起原因',\n",
       "       '安装失败原因', '订单来源', '结算状态', '支付平台', '机价款', '店铺', 'AB类型', '拆单类型', '制式类型',\n",
       "       '订单金额', '支付方式', '支付流水号', '收取卡密号码', '订单生成时间', '支付完成时间', '交易完成时间', '发货时间',\n",
       "       '物流单回填时间', '用户名', 'QQ号', '入网用户姓名', '入网身份证号', '入网手机号', '联系人电话号码',\n",
       "       'ICCID', '联系住址', '收货人姓名', '收货地址', '收货人电话号码', '收货人邮箱', '邮编',\n",
       "       '所在省 / 市 / 县', '入网人所在省/市/县', '号码归属地', '配送方式', '营业厅地址', '配送时间', '优惠劵',\n",
       "       '优惠券编码', 'F码', 'F码名称', '产品推荐人', 'CPS推荐人', '订单备注', '物流单号', '物流签收时间',\n",
       "       '承运商', '是否上传签收证明项', '预存款发票类别', '物品费发票抬头', '物品费抬头名称', '发票内容', '企业税号',\n",
       "       '用户留言', '大小卡类型', '写卡渠道', '卡号', '串号', '销售品编号', '销售品名称', '销售品类型', '销售品数量',\n",
       "       '销售品价格', '合作商', '实际分账金额', '套餐', '主号码', '副号码', '现金预存款', '可选包', '合约补贴',\n",
       "       '其他', '靓号低消', '靓号等级', '靓号预存款', '营业厅送货方式', '是否线下模式', '是否线下转线上',\n",
       "       '线下转线上原因', '营业厅送货iccid', '身份证图片1', '身份证图片2', '身份证图片3', '身份证图片4',\n",
       "       '实名信息复核中时间', '销售品文本步骤名称', '用户选择的步骤内容'],\n",
       "      dtype='object')"
      ]
     },
     "execution_count": 3,
     "metadata": {},
     "output_type": "execute_result"
    }
   ],
   "source": [
    "data.columns"
   ]
  },
  {
   "cell_type": "code",
   "execution_count": 4,
   "metadata": {},
   "outputs": [
    {
     "data": {
      "text/plain": [
       "(677677, 95)"
      ]
     },
     "execution_count": 4,
     "metadata": {},
     "output_type": "execute_result"
    }
   ],
   "source": [
    "data.shape"
   ]
  },
  {
   "cell_type": "markdown",
   "metadata": {},
   "source": [
    "### 删除合表表头"
   ]
  },
  {
   "cell_type": "code",
   "execution_count": 5,
   "metadata": {},
   "outputs": [],
   "source": [
    "data = data[data[\"号码归属地\"].str.contains('号码归属地') == False]"
   ]
  },
  {
   "cell_type": "code",
   "execution_count": 6,
   "metadata": {},
   "outputs": [
    {
     "data": {
      "text/plain": [
       "(677652, 95)"
      ]
     },
     "execution_count": 6,
     "metadata": {},
     "output_type": "execute_result"
    }
   ],
   "source": [
    "data.shape"
   ]
  },
  {
   "cell_type": "code",
   "execution_count": 7,
   "metadata": {},
   "outputs": [],
   "source": [
    "df = data[[ '订单编号', '订单状态','订单子状态', '订单挂起原因', '安装失败原因', '订单来源', '店铺', '订单金额',\n",
    "       '订单生成时间', '交易完成时间', '发货时间', '物流单回填时间', '入网用户姓名', '入网身份证号', '入网手机号',\n",
    "       '收货人姓名', '收货地址', '收货人电话号码', '邮编', '所在省 / 市 / 县', '号码归属地', 'CPS推荐人',\n",
    "       '订单备注', '物流单号', '物流签收时间', '承运商', '大小卡类型', '写卡渠道', '销售品编号', '销售品名称',\n",
    "       '销售品类型', '套餐', '主号码', '副号码', '现金预存款', '靓号低消', '靓号等级', '靓号预存款',\n",
    "       '营业厅送货方式', '是否线下模式', '是否线下转线上', '线下转线上原因', '营业厅送货iccid']]#,'京东不可达原因'"
   ]
  },
  {
   "cell_type": "code",
   "execution_count": 8,
   "metadata": {},
   "outputs": [
    {
     "data": {
      "text/plain": [
       "(677652, 43)"
      ]
     },
     "execution_count": 8,
     "metadata": {},
     "output_type": "execute_result"
    }
   ],
   "source": [
    "df.shape"
   ]
  },
  {
   "cell_type": "markdown",
   "metadata": {},
   "source": [
    "### 所在省/市/县/=\"//\"的删除"
   ]
  },
  {
   "cell_type": "code",
   "execution_count": 9,
   "metadata": {
    "scrolled": true
   },
   "outputs": [
    {
     "data": {
      "text/plain": [
       "//                    31512\n",
       "广东/深圳市/宝安区             6993\n",
       "北京/北京市/海淀区             5938\n",
       "北京/北京市/朝阳区             5616\n",
       "广东/东莞市/东莞市             5395\n",
       "广东/广州市/天河区             4934\n",
       "广东/广州市/白云区             4631\n",
       "上海/上海市/静安区             4305\n",
       "上海/上海市/浦东新区            4264\n",
       "广东/深圳市/龙岗区             4177\n",
       "广东/佛山市/南海区             3352\n",
       "北京/北京市/昌平区             3039\n",
       "广东/广州市/番禺区             2885\n",
       "湖南/长沙市/岳麓区             2577\n",
       "广东/惠州市/惠城区             2573\n",
       "广东/佛山市/顺德区             2528\n",
       "北京/北京市/大兴区             2502\n",
       "湖北/武汉市/洪山区             2493\n",
       "北京/北京市/丰台区             2381\n",
       "北京/北京市/通州区             2129\n",
       "广东/深圳市/龙华新区            2034\n",
       "广东/中山市/中山市             2025\n",
       "江苏/苏州市/昆山市             2014\n",
       "广东/广州市/海珠区             1906\n",
       "上海/上海市/闵行区             1897\n",
       "广东/深圳市/南山区             1889\n",
       "陕西/西安市/雁塔区             1835\n",
       "广东/广州市/花都区             1789\n",
       "河南/郑州市/金水区             1761\n",
       "云南/昆明市/官渡区             1732\n",
       "                      ...  \n",
       "福建省/三明市/尤溪县               1\n",
       "广东省/湛江市/徐闻县               1\n",
       "广东省/肇庆市/鼎湖区               1\n",
       "江苏省/常州市/天宁区               1\n",
       "吉林省/长春市/汽车产业开发区           1\n",
       "四川省/达州市/通川区               1\n",
       "江西省/抚州市/东乡县               1\n",
       "江苏省/扬州市/邗江区               1\n",
       "河北省/石家庄市/赞皇县              1\n",
       "吉林/上海市/静安区                1\n",
       "四川省/阿坝藏族羌族自治州/阿坝县         1\n",
       "安徽省/宿州市/埇桥区               1\n",
       "湖北/神农架林区/新华镇              1\n",
       "湖北省/宜昌市/夷陵区               1\n",
       "西藏自治区/林芝市/朗县              1\n",
       "湖北省/荆州市/公安县               1\n",
       "海南/乐东黎族自治县/尖峰岭林业公司        1\n",
       "陕西//海淀区                   1\n",
       "广东省/清远市/阳山县               1\n",
       "陕西省/延安市/宝塔区               1\n",
       "西藏自治区/日喀则市/亚东县            1\n",
       "河南省/济源市/                  1\n",
       "福建省/福州市/平潭县               1\n",
       "湖北/仙桃市/九合垸原种场             1\n",
       "湖北省/宜昌市/西陵区               1\n",
       "江苏省/无锡市/锡山区               1\n",
       "吉林省/松原市/长岭县               1\n",
       "江西省/吉安市/遂川县               1\n",
       "四川省/德阳市/绵竹市               1\n",
       "江苏/扬州市/                   1\n",
       "Name: 所在省 / 市 / 县, Length: 4644, dtype: int64"
      ]
     },
     "execution_count": 9,
     "metadata": {},
     "output_type": "execute_result"
    }
   ],
   "source": [
    "df[\"所在省 / 市 / 县\"].value_counts()"
   ]
  },
  {
   "cell_type": "code",
   "execution_count": 10,
   "metadata": {},
   "outputs": [],
   "source": [
    "# 去“//”\n",
    "df = df[df[\"所在省 / 市 / 县\"].str.contains(\"^//$\",regex=True) == False]"
   ]
  },
  {
   "cell_type": "code",
   "execution_count": 11,
   "metadata": {
    "scrolled": true
   },
   "outputs": [
    {
     "data": {
      "text/plain": [
       "广东/深圳市/宝安区                6993\n",
       "北京/北京市/海淀区                5938\n",
       "北京/北京市/朝阳区                5616\n",
       "广东/东莞市/东莞市                5395\n",
       "广东/广州市/天河区                4934\n",
       "广东/广州市/白云区                4631\n",
       "上海/上海市/静安区                4305\n",
       "上海/上海市/浦东新区               4264\n",
       "广东/深圳市/龙岗区                4177\n",
       "广东/佛山市/南海区                3352\n",
       "北京/北京市/昌平区                3039\n",
       "广东/广州市/番禺区                2885\n",
       "湖南/长沙市/岳麓区                2577\n",
       "广东/惠州市/惠城区                2573\n",
       "广东/佛山市/顺德区                2528\n",
       "北京/北京市/大兴区                2502\n",
       "湖北/武汉市/洪山区                2493\n",
       "北京/北京市/丰台区                2381\n",
       "北京/北京市/通州区                2129\n",
       "广东/深圳市/龙华新区               2034\n",
       "广东/中山市/中山市                2025\n",
       "江苏/苏州市/昆山市                2014\n",
       "广东/广州市/海珠区                1906\n",
       "上海/上海市/闵行区                1897\n",
       "广东/深圳市/南山区                1889\n",
       "陕西/西安市/雁塔区                1835\n",
       "广东/广州市/花都区                1789\n",
       "河南/郑州市/金水区                1761\n",
       "云南/昆明市/官渡区                1732\n",
       "广东/广州市/黄埔区                1545\n",
       "                          ... \n",
       "黑龙江省/大庆市/杜尔伯特蒙古族自治县          1\n",
       "贵州省/铜仁市/江口县                  1\n",
       "山东省/临沂市/河东区                  1\n",
       "河南省/济源市/                     1\n",
       "贵州省/毕节市/其它区                  1\n",
       "陕西省/延安市/宝塔区                  1\n",
       "陕西省/宝鸡市/凤县                   1\n",
       "黑龙江/齐齐哈尔市/                   1\n",
       "广西/南宁市/合浦县                   1\n",
       "海南/琼海市/石壁镇                   1\n",
       "江西省/上饶市/鄱阳县                  1\n",
       "黑龙江/上海市/静安区                  1\n",
       "湖北省/黄冈市/英山县                  1\n",
       "黑龙江省/齐齐哈尔市/铁锋区               1\n",
       "河北/张家口市/                     1\n",
       "上海/合肥市/包河区                   1\n",
       "河北省/保定市/安新县                  1\n",
       "四川省/成都市/简阳市                  1\n",
       "广西壮族自治区/玉林市/福绵区              1\n",
       "海南/万宁市/后安镇                   1\n",
       "西藏/那曲地区/聂荣县                  1\n",
       "广东省/汕头市/濠江区                  1\n",
       "海南/定安县/富文镇                   1\n",
       "贵州省/黔南布依族苗族自治州/三都水族自治县       1\n",
       "四川省/成都市/青白江区                 1\n",
       "青海/海西蒙古族藏族自治州/海西州属           1\n",
       "广东省/肇庆市/怀集县                  1\n",
       "福建省/宁德市/古田县                  1\n",
       "湖北/仙桃市/豆河镇                   1\n",
       "山西省/忻州市/河曲县                  1\n",
       "Name: 所在省 / 市 / 县, Length: 4643, dtype: int64"
      ]
     },
     "execution_count": 11,
     "metadata": {},
     "output_type": "execute_result"
    }
   ],
   "source": [
    "df[\"所在省 / 市 / 县\"].value_counts()"
   ]
  },
  {
   "cell_type": "markdown",
   "metadata": {},
   "source": [
    "### 统一所在省"
   ]
  },
  {
   "cell_type": "code",
   "execution_count": 12,
   "metadata": {},
   "outputs": [],
   "source": [
    "split = pd.DataFrame((x.split('/') for x in df['所在省 / 市 / 县']), index=df.index, columns=['所在省','所在市','所在县'])\n",
    "df = pd.merge(df,split,left_index=True,right_index=True)"
   ]
  },
  {
   "cell_type": "code",
   "execution_count": 13,
   "metadata": {},
   "outputs": [],
   "source": [
    "# 统一所在省\n",
    "dict_province = {'焦作市':'河南','河南省':'河南','河北省':'河北','贵州省':'贵州','湖南省':'湖南','广东省':'广东','江苏省':'江苏','山西省':'山西',\n",
    "    '吉林省':'吉林','山东省':'山东','广西壮族自治区':'广西','湖北省':'湖北','陕西省':'陕西','浙江省':'浙江','福建省':'福建',\n",
    "    '内蒙古自治区':'内蒙古','云南省':'云南','辽宁省':'辽宁','江西省':'江西','四川省':'四川','黑龙江省':'黑龙江','安徽省':'安徽',\n",
    "    '甘肃省':'甘肃','西藏自治区':'西藏','青海省':'青海','宁夏回族自治区':'宁夏',\n",
    "    '海南省':'海南','六安市':'安徽','东莞市':'广东','新疆维吾尔自治区':'新疆'}\n",
    "df = df.replace(dict_province)"
   ]
  },
  {
   "cell_type": "code",
   "execution_count": 14,
   "metadata": {},
   "outputs": [
    {
     "data": {
      "text/plain": [
       "广东     115874\n",
       "山东      37935\n",
       "河南      37423\n",
       "湖南      36593\n",
       "江苏      33213\n",
       "河北      30561\n",
       "北京      28586\n",
       "湖北      27849\n",
       "浙江      26941\n",
       "云南      22636\n",
       "四川      22366\n",
       "上海      21874\n",
       "陕西      20084\n",
       "广西      19200\n",
       "贵州      16399\n",
       "山西      15673\n",
       "辽宁      15473\n",
       "安徽      14249\n",
       "江西      13078\n",
       "内蒙古     12985\n",
       "福建      12421\n",
       "重庆      10761\n",
       "黑龙江     10688\n",
       "甘肃      10580\n",
       "吉林      10345\n",
       "天津       7248\n",
       "新疆       5309\n",
       "宁夏       3887\n",
       "海南       3206\n",
       "青海       1799\n",
       "西藏        903\n",
       "芙蓉区         1\n",
       "Name: 所在省, dtype: int64"
      ]
     },
     "execution_count": 14,
     "metadata": {},
     "output_type": "execute_result"
    }
   ],
   "source": [
    "df[\"所在省\"].value_counts()"
   ]
  },
  {
   "cell_type": "markdown",
   "metadata": {},
   "source": [
    "### 号码归属地=\"/\"的删除"
   ]
  },
  {
   "cell_type": "code",
   "execution_count": 15,
   "metadata": {},
   "outputs": [
    {
     "data": {
      "text/plain": [
       "北京/市辖区                  32842\n",
       "广东省/广州市                 24480\n",
       "上海市/市辖区                 21355\n",
       "广东省/深圳市                 19774\n",
       "广东省/东莞市                 15039\n",
       "湖北省/武汉市                 10894\n",
       "重庆市/市辖区                 10842\n",
       "四川省/成都市                  9394\n",
       "辽宁省/沈阳市                  9097\n",
       "海南省/海口市                  9021\n",
       "湖南省/长沙市                  8973\n",
       "陕西省/西安市                  8912\n",
       "江苏省/苏州市                  8388\n",
       "河南省/郑州市                  7676\n",
       "广东省/佛山市                  7281\n",
       "天津市/市辖区                  7029\n",
       "浙江省/杭州市                  6777\n",
       "云南省/昆明市                  6730\n",
       "广东省/惠州市                  6057\n",
       "河北省/石家庄市                 5915\n",
       "广东省/中山市                  5676\n",
       "山东省/青岛市                  5399\n",
       "江苏省/南京市                  5030\n",
       "河北省/保定市                  4737\n",
       "辽宁省/大连市                  4721\n",
       "内蒙古自治区/呼和浩特市             4720\n",
       "贵州省/贵阳市                  4537\n",
       "山东省/济南市                  4473\n",
       "广西壮族自治区/南宁市              4207\n",
       "广东省/茂名市                  4057\n",
       "                        ...  \n",
       "青海省/海南藏族自治州               169\n",
       "云南省/怒江傈僳族自治州              169\n",
       "青海省/格尔木市                  158\n",
       "河南省/济源市                   156\n",
       "甘肃省/嘉峪关市                  153\n",
       "云南省/迪庆藏族自治州               153\n",
       "新疆维吾尔自治区/塔城地区             147\n",
       "黑龙江省/七台河市                 143\n",
       "新疆维吾尔自治区/克拉玛依市            143\n",
       "四川省/阿坝藏族羌族自治州             135\n",
       "新疆维吾尔自治区/阿勒泰地区            131\n",
       "青海省/玉树藏族自治州               128\n",
       "青海省/果洛藏族自治州               128\n",
       "新疆维吾尔自治区/博尔塔拉蒙古自治州        123\n",
       "四川省/甘孜藏族自治州               120\n",
       "西藏自治区/日喀则地区               114\n",
       "黑龙江省/大兴安岭地区               103\n",
       "新疆维吾尔自治区/吐鲁番地区            103\n",
       "青海省/黄南藏族自治州               100\n",
       "新疆维吾尔自治区/奎屯市               86\n",
       "新疆维吾尔自治区/克孜勒苏柯尔克孜自治州       78\n",
       "西藏自治区/山南地区                 68\n",
       "西藏自治区/昌都地区                 62\n",
       "西藏自治区/林芝地区                 58\n",
       "西藏自治区/阿里地区                 35\n",
       "西藏自治区/那曲地区                 32\n",
       "湖北省/林区（神农架）                30\n",
       "/                          25\n",
       "上海市/                        2\n",
       "湖北省/省直辖县级行政区划               1\n",
       "Name: 号码归属地, Length: 346, dtype: int64"
      ]
     },
     "execution_count": 15,
     "metadata": {},
     "output_type": "execute_result"
    }
   ],
   "source": [
    "df[\"号码归属地\"].value_counts()"
   ]
  },
  {
   "cell_type": "code",
   "execution_count": 16,
   "metadata": {},
   "outputs": [],
   "source": [
    "df = df[df[\"号码归属地\"].str.contains(\"^/$\",regex=True) == False]"
   ]
  },
  {
   "cell_type": "code",
   "execution_count": 17,
   "metadata": {},
   "outputs": [],
   "source": [
    "split1 = pd.DataFrame((x.split('/') for x in df['号码归属地']), index=df.index, columns=['号码归属省','号码归属市'])\n",
    "df = pd.merge(df,split1,left_index=True,right_index=True)"
   ]
  },
  {
   "cell_type": "code",
   "execution_count": 18,
   "metadata": {},
   "outputs": [
    {
     "data": {
      "text/plain": [
       "北京/市辖区                  32842\n",
       "广东省/广州市                 24480\n",
       "上海市/市辖区                 21355\n",
       "广东省/深圳市                 19774\n",
       "广东省/东莞市                 15039\n",
       "湖北省/武汉市                 10894\n",
       "重庆市/市辖区                 10842\n",
       "四川省/成都市                  9394\n",
       "辽宁省/沈阳市                  9097\n",
       "海南省/海口市                  9021\n",
       "湖南省/长沙市                  8973\n",
       "陕西省/西安市                  8912\n",
       "江苏省/苏州市                  8388\n",
       "河南省/郑州市                  7676\n",
       "广东省/佛山市                  7281\n",
       "天津市/市辖区                  7029\n",
       "浙江省/杭州市                  6777\n",
       "云南省/昆明市                  6730\n",
       "广东省/惠州市                  6057\n",
       "河北省/石家庄市                 5915\n",
       "广东省/中山市                  5676\n",
       "山东省/青岛市                  5399\n",
       "江苏省/南京市                  5030\n",
       "河北省/保定市                  4737\n",
       "辽宁省/大连市                  4721\n",
       "内蒙古自治区/呼和浩特市             4720\n",
       "贵州省/贵阳市                  4537\n",
       "山东省/济南市                  4473\n",
       "广西壮族自治区/南宁市              4207\n",
       "广东省/茂名市                  4057\n",
       "                        ...  \n",
       "四川省/攀枝花市                  183\n",
       "云南省/怒江傈僳族自治州              169\n",
       "青海省/海南藏族自治州               169\n",
       "青海省/格尔木市                  158\n",
       "河南省/济源市                   156\n",
       "云南省/迪庆藏族自治州               153\n",
       "甘肃省/嘉峪关市                  153\n",
       "新疆维吾尔自治区/塔城地区             147\n",
       "黑龙江省/七台河市                 143\n",
       "新疆维吾尔自治区/克拉玛依市            143\n",
       "四川省/阿坝藏族羌族自治州             135\n",
       "新疆维吾尔自治区/阿勒泰地区            131\n",
       "青海省/果洛藏族自治州               128\n",
       "青海省/玉树藏族自治州               128\n",
       "新疆维吾尔自治区/博尔塔拉蒙古自治州        123\n",
       "四川省/甘孜藏族自治州               120\n",
       "西藏自治区/日喀则地区               114\n",
       "黑龙江省/大兴安岭地区               103\n",
       "新疆维吾尔自治区/吐鲁番地区            103\n",
       "青海省/黄南藏族自治州               100\n",
       "新疆维吾尔自治区/奎屯市               86\n",
       "新疆维吾尔自治区/克孜勒苏柯尔克孜自治州       78\n",
       "西藏自治区/山南地区                 68\n",
       "西藏自治区/昌都地区                 62\n",
       "西藏自治区/林芝地区                 58\n",
       "西藏自治区/阿里地区                 35\n",
       "西藏自治区/那曲地区                 32\n",
       "湖北省/林区（神农架）                30\n",
       "上海市/                        2\n",
       "湖北省/省直辖县级行政区划               1\n",
       "Name: 号码归属地, Length: 345, dtype: int64"
      ]
     },
     "execution_count": 18,
     "metadata": {},
     "output_type": "execute_result"
    }
   ],
   "source": [
    "df[\"号码归属地\"].value_counts()"
   ]
  },
  {
   "cell_type": "markdown",
   "metadata": {},
   "source": [
    "### 订单状态办理类的行删除"
   ]
  },
  {
   "cell_type": "code",
   "execution_count": 19,
   "metadata": {},
   "outputs": [],
   "source": [
    "df = df[df[\"订单状态\"].str.contains(\"办理\") == False]"
   ]
  },
  {
   "cell_type": "code",
   "execution_count": 20,
   "metadata": {},
   "outputs": [
    {
     "data": {
      "text/plain": [
       "订单关闭         309752\n",
       "交易完成         299892\n",
       "拆机成功           9086\n",
       "拆机中            8913\n",
       "身份信息审核失败       6693\n",
       "订单信息审核失败       5425\n",
       "退款成功           1502\n",
       "撤单成功            864\n",
       "实名信息复核未通过       665\n",
       "开始备货            333\n",
       "已取消             327\n",
       "超期未激活           250\n",
       "系统审核订单           83\n",
       "支付成功             27\n",
       "退款中              13\n",
       "身份信息审核成功          9\n",
       "已拒收               9\n",
       "退款失败              7\n",
       "退款审核中             3\n",
       "身份初审失败            1\n",
       "激活中               1\n",
       "已发货               1\n",
       "Name: 订单状态, dtype: int64"
      ]
     },
     "execution_count": 20,
     "metadata": {},
     "output_type": "execute_result"
    }
   ],
   "source": [
    "df[\"订单状态\"].value_counts()"
   ]
  },
  {
   "cell_type": "markdown",
   "metadata": {},
   "source": [
    "### 收货地址去空"
   ]
  },
  {
   "cell_type": "code",
   "execution_count": 21,
   "metadata": {},
   "outputs": [
    {
     "data": {
      "text/plain": [
       "False    643855\n",
       "Name: 收货地址, dtype: int64"
      ]
     },
     "execution_count": 21,
     "metadata": {},
     "output_type": "execute_result"
    }
   ],
   "source": [
    "df[\"收货地址\"].isnull().value_counts()\n",
    "df = df.dropna(subset=[\"收货地址\"])\n",
    "df[\"收货地址\"].isnull().value_counts()"
   ]
  },
  {
   "cell_type": "markdown",
   "metadata": {},
   "source": [
    "### 统一承运商名称"
   ]
  },
  {
   "cell_type": "code",
   "execution_count": 22,
   "metadata": {},
   "outputs": [
    {
     "data": {
      "text/plain": [
       "EMS            184550\n",
       "韵达             130813\n",
       "顺丰              89275\n",
       "如风达             41957\n",
       "京东物流            35031\n",
       "北京如风达快递有限公司     24128\n",
       "邮政包裹            23736\n",
       "中通               5794\n",
       "恒宇运通             5199\n",
       "圆通               4292\n",
       "其他                460\n",
       "圆通速递               89\n",
       "移宝旗舰店              54\n",
       "国疆通信专营店            21\n",
       "通港数码专营店            18\n",
       "骏飞通信专营店            11\n",
       "电信凡思特通信专卖店          7\n",
       "凡思特通信专营             3\n",
       "商海德                 1\n",
       "如初数码专营店             1\n",
       "Name: 承运商, dtype: int64"
      ]
     },
     "execution_count": 22,
     "metadata": {},
     "output_type": "execute_result"
    }
   ],
   "source": [
    "dict_carrier ={'ems':'EMS','邮政':'EMS','100000137':'圆通','ZHAIJISONG':'宅急送','jingdongwuliu':'京东物流','yunda':'韵达','shunfeng':'顺丰','EMS物流':'EMS'}\n",
    "df =df.replace(dict_carrier)\n",
    "df[\"承运商\"].value_counts()"
   ]
  },
  {
   "cell_type": "code",
   "execution_count": 23,
   "metadata": {},
   "outputs": [
    {
     "data": {
      "text/plain": [
       "0                蚬岗镇华源五金电镀有限公司E3\n",
       "1               红旗镇南顺路口利冠达科技有限公司\n",
       "2    广东深圳市龙华新区民治街道办塘水围村一区28栋102铺\n",
       "Name: 收货地址, dtype: object"
      ]
     },
     "execution_count": 23,
     "metadata": {},
     "output_type": "execute_result"
    }
   ],
   "source": [
    "df[\"收货地址\"][0:3]"
   ]
  },
  {
   "cell_type": "code",
   "execution_count": 24,
   "metadata": {},
   "outputs": [],
   "source": [
    "df.to_csv(r\"G:\\work\\basic\\alter\\1804_info_p2_alter_gai.csv\",index=False)"
   ]
  }
 ],
 "metadata": {
  "kernelspec": {
   "display_name": "Python 3",
   "language": "python",
   "name": "python3"
  },
  "language_info": {
   "codemirror_mode": {
    "name": "ipython",
    "version": 3
   },
   "file_extension": ".py",
   "mimetype": "text/x-python",
   "name": "python",
   "nbconvert_exporter": "python",
   "pygments_lexer": "ipython3",
   "version": "3.6.6"
  }
 },
 "nbformat": 4,
 "nbformat_minor": 2
}
