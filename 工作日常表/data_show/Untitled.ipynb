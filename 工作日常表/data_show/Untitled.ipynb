{
 "cells": [
  {
   "cell_type": "code",
   "execution_count": 1,
   "metadata": {},
   "outputs": [
    {
     "name": "stdout",
     "output_type": "stream",
     "text": [
      "d:\\python\\envs\\jupyterpy36\\scripts\\python.exe\n"
     ]
    }
   ],
   "source": [
    "import pandas as pd\n",
    "import xlsxwriter\n",
    "from os import walk\n",
    "from def_zhanshi import *\n",
    "from def_fiveTables import *\n",
    "from def_fiveTables2 import *\n",
    "from def_SummarySheets import *\n",
    "from combin2csv import *\n",
    "from datetime import datetime,timedelta\n",
    "import time\n",
    "# 忽略无用警告\n",
    "import warnings\n",
    "warnings.filterwarnings(action=\"ignore\")\n",
    "pd.options.display.max_seq_items = 8000\n",
    "pd.options.display.max_rows = 8000"
   ]
  },
  {
   "cell_type": "code",
   "execution_count": 2,
   "metadata": {},
   "outputs": [
    {
     "name": "stdout",
     "output_type": "stream",
     "text": [
      "before set display.max_rows =  8000\n",
      "after set display.max_rows =  80\n"
     ]
    }
   ],
   "source": [
    "print(\"before set display.max_rows = \",pd.get_option(\"display.max_rows\"))\n",
    "pd.set_option(\"display.max_rows\",80)\n",
    "print(\"after set display.max_rows = \",pd.get_option(\"display.max_rows\"))"
   ]
  },
  {
   "cell_type": "code",
   "execution_count": 3,
   "metadata": {},
   "outputs": [],
   "source": [
    "pd.set_option('display.large_repr', 'info')"
   ]
  },
  {
   "cell_type": "code",
   "execution_count": 4,
   "metadata": {},
   "outputs": [],
   "source": [
    "import numpy as np\n",
    "np.set_printoptions(suppress=True, threshold=np.nan)"
   ]
  },
  {
   "cell_type": "code",
   "execution_count": 5,
   "metadata": {},
   "outputs": [],
   "source": [
    "date = '19/06/18'  # 表中日期\n",
    "filename = 'testALL.xlsx'  # 输出文件名\n",
    "inputPath = \"G:/work/daily/DataShow/190618/\"  # 输出路径\n",
    "inputPath2 = \"G:/work/daily/DataShow/\""
   ]
  },
  {
   "cell_type": "code",
   "execution_count": 6,
   "metadata": {},
   "outputs": [],
   "source": [
    "date1 = '190618'  # 文件名日期\n",
    "date2 = '2019-06-18'\n",
    "date3 = '190617'"
   ]
  },
  {
   "cell_type": "code",
   "execution_count": 7,
   "metadata": {},
   "outputs": [
    {
     "name": "stdout",
     "output_type": "stream",
     "text": [
      "三日前：2019-06-15\n",
      "七日前：2019-06-11\n",
      "二十五日前：2019-05-24\n"
     ]
    }
   ],
   "source": [
    "san_days  = (datetime.strptime(date2, '%Y-%m-%d') - timedelta(days=3)).strftime('%Y-%m-%d')\n",
    "qi_days   = (datetime.strptime(date2, '%Y-%m-%d') - timedelta(days=7)).strftime('%Y-%m-%d')\n",
    "erwu_days = (datetime.strptime(date2, '%Y-%m-%d') - timedelta(days=25)).strftime('%Y-%m-%d')\n",
    "print(\"三日前：\" + str(san_days))\n",
    "print(\"七日前：\" + str(qi_days))\n",
    "print(\"二十五日前：\" + str(erwu_days))"
   ]
  },
  {
   "cell_type": "code",
   "execution_count": 8,
   "metadata": {},
   "outputs": [],
   "source": [
    "df1 = pd.read_csv(inputPath + \"data1.csv\")\n",
    "# df1[\"销售品编号\"] = round(df1[\"销售品编号\"],0)\n",
    "# df1 = pd.read_excel(inputPath + \"data1.xlsx\")\n",
    "split1 = pd.DataFrame((x.split(' ') for x in df1['订单生成时间']),index=df1.index,columns=['订单生成日期','订单生成小时'])\n",
    "df1 = pd.merge(df1, split1, left_index=True, right_index=True)\n",
    "# df1.to_csv(inputPath+\"df1.csv\",index=False)"
   ]
  },
  {
   "cell_type": "code",
   "execution_count": 9,
   "metadata": {},
   "outputs": [],
   "source": [
    "df2 = pd.read_csv(inputPath + \"NewPro.csv\")\n",
    "# df2 = pd.read_excel(inputPath + \"NewPro.xlsx\")\n",
    "split2 = pd.DataFrame((x.split(' ') for x in df2['订单生成时间']),index=df2.index,columns=['订单生成日期','订单生成小时'])\n",
    "df2 = pd.merge(df2, split2, left_index=True, right_index=True)\n"
   ]
  },
  {
   "cell_type": "code",
   "execution_count": 10,
   "metadata": {},
   "outputs": [],
   "source": [
    "df3 = pd.read_csv(inputPath2 + \"CHZH_Info\"+ date3 + \".csv\") # 首充历史表\n"
   ]
  },
  {
   "cell_type": "code",
   "execution_count": 11,
   "metadata": {},
   "outputs": [],
   "source": [
    "df4 = pd.read_csv(inputPath + \"NewPay\" + date1 + \".csv\") # 当日历史表\n",
    "split4 = pd.DataFrame((x.split(' ') for x in df4['订单生成时间']), index=df4.index, columns=['订单生成日期', '订单生成小时'])\n",
    "df4 = pd.merge(df4, split4, left_index=True, right_index=True)"
   ]
  },
  {
   "cell_type": "code",
   "execution_count": 12,
   "metadata": {},
   "outputs": [],
   "source": [
    "df5 = pd.read_csv(inputPath + \"NewJD.csv\")\n",
    "split5 = pd.DataFrame((x.split(' ') for x in df5['用户下单时间']),index=df5.index,columns=['用户下单日期','用户下单小时'])\n",
    "df5 = pd.merge(df5, split5, left_index=True, right_index=True)\n"
   ]
  },
  {
   "cell_type": "code",
   "execution_count": 13,
   "metadata": {},
   "outputs": [],
   "source": [
    "df1 = df1[df1[\"订单生成日期\"] == san_days]\n",
    "df2 = df2[df2[\"订单生成日期\"] == san_days]\n",
    "df5 = df5[df5[\"用户下单日期\"] == san_days] # 京东表"
   ]
  },
  {
   "cell_type": "code",
   "execution_count": 14,
   "metadata": {},
   "outputs": [
    {
     "name": "stdout",
     "output_type": "stream",
     "text": [
      "df1:(17756, 97)\n",
      "df2:(28355, 37)\n",
      "df3:(61698, 97)\n",
      "df4:(51703, 97)\n",
      "df5:(11792, 38)\n"
     ]
    }
   ],
   "source": [
    "print(\"df1:\"+str(df1.shape))\n",
    "print(\"df2:\"+str(df2.shape))\n",
    "print(\"df3:\"+str(df3.shape))\n",
    "print(\"df4:\"+str(df4.shape))\n",
    "print(\"df5:\"+str(df5.shape))"
   ]
  },
  {
   "cell_type": "code",
   "execution_count": 15,
   "metadata": {},
   "outputs": [],
   "source": [
    "df1 = df1[(True ^ df1['订单状态'].isin(['办理成功', '办理中', '办理失败']))]\n",
    "df1 = df1[pd.notnull(df1['所在省 / 市 / 县'])]\n",
    "df1 = df1[df1[\"订单编号\"].str.contains('订单编号') == False]\n",
    "df1 = df1.drop_duplicates(subset=['订单编号'], keep='first')\n",
    "df1 = df1[pd.notnull(df1['号码归属地'])]\n",
    "df1 = df1[pd.notnull(df1['入网手机号'])]\n",
    "df1[\"入网手机号\"] = df1['入网手机号'].astype('int64')"
   ]
  },
  {
   "cell_type": "code",
   "execution_count": 16,
   "metadata": {},
   "outputs": [
    {
     "data": {
      "text/plain": [
       "(12445, 37)"
      ]
     },
     "execution_count": 16,
     "metadata": {},
     "output_type": "execute_result"
    }
   ],
   "source": [
    "df2 = df2[df2[\"模式分类\"] == \"京东模式\"]\n",
    "df2 = df2[pd.notnull(df2['是否下省'])]\n",
    "df2.shape"
   ]
  },
  {
   "cell_type": "code",
   "execution_count": 17,
   "metadata": {},
   "outputs": [
    {
     "name": "stdout",
     "output_type": "stream",
     "text": [
      "当前日期：2019-06-18\n",
      "['2019-06-11', '2019-06-12', '2019-06-13', '2019-06-14', '2019-06-15', '2019-06-16', '2019-06-17']\n"
     ]
    }
   ],
   "source": [
    "df34 = pd.concat([df3, df4],sort=False)\n",
    "df34 = df34.drop_duplicates(subset=['主号码'], keep='first') # 主号码\n",
    "df34 = df34[pd.notnull(df34['主号码'])]\n",
    "df34[\"主号码\"] = df34['主号码'].astype('int64')\n",
    "print(\"当前日期：\" + date2)\n",
    "ggDays = get_nday_list(date2, 7)\n",
    "df34 = df34[df34[\"订单生成日期\"].isin(ggDays)]\n"
   ]
  },
  {
   "cell_type": "code",
   "execution_count": 18,
   "metadata": {},
   "outputs": [],
   "source": [
    "df51 = df5[[\"运营商单号\", \"物流单号\"]]\n",
    "df52 = df5[[\"运营商单号\", \"APP操作时间\"]]\n",
    "df51 = df51[pd.notnull(df51['物流单号'])]\n",
    "df52 = df52[pd.notnull(df52['APP操作时间'])]"
   ]
  },
  {
   "cell_type": "code",
   "execution_count": 19,
   "metadata": {},
   "outputs": [
    {
     "name": "stdout",
     "output_type": "stream",
     "text": [
      "df51:(11713, 2)\n",
      "df52:(6015, 2)\n"
     ]
    }
   ],
   "source": [
    "print(\"df51:\"+str(df51.shape))\n",
    "print(\"df52:\"+str(df52.shape))"
   ]
  },
  {
   "cell_type": "code",
   "execution_count": 20,
   "metadata": {},
   "outputs": [],
   "source": [
    "df11 = pd.merge(df1, df2[[\"订单编号\", \"模式分类\", \"是否下省\"]],\n",
    "                left_on=\"订单编号\", right_on=\"订单编号\", how=\"left\")\n",
    "df11 = pd.merge(df11, df51, left_on=\"订单编号\", right_on=\"运营商单号\", how=\"left\")\n",
    "df11 = pd.merge(df11, df52, left_on=\"订单编号\", right_on=\"运营商单号\", how=\"left\")\n",
    "df11['入网手机号'] = df11['入网手机号'].apply(int)\n",
    "df11 = pd.merge(df11, df34[['主号码']],left_on=\"入网手机号\", right_on=\"主号码\", how=\"left\") #'订单编号',\n",
    "# df11 = df11[df11[\"订单状态\"] == \"交易完成\"]\n",
    "df11[\"主号码_y\"] = df11[\"主号码_y\"].fillna(-1)\n",
    "df11[\"主号码_y\"] = df11['主号码_y'].astype('int64')"
   ]
  },
  {
   "cell_type": "code",
   "execution_count": 21,
   "metadata": {},
   "outputs": [],
   "source": [
    "df12 = df11.copy()"
   ]
  },
  {
   "cell_type": "code",
   "execution_count": 22,
   "metadata": {},
   "outputs": [],
   "source": [
    "def shouchong(x):\n",
    "    if x == -1:\n",
    "        return 0\n",
    "    else:\n",
    "        return 1"
   ]
  },
  {
   "cell_type": "code",
   "execution_count": 23,
   "metadata": {},
   "outputs": [],
   "source": [
    "def laidan(x):\n",
    "    if x is np.nan:\n",
    "        return 0\n",
    "    else:\n",
    "        return 1\n",
    "\n",
    "\n",
    "def fahuo(a,b,c):\n",
    "    if a is not np.nan:\n",
    "        return 1\n",
    "    elif a is np.nan and b == \"交易完成\":\n",
    "        return 1\n",
    "    elif a is np.nan and c is not np.nan:\n",
    "        return 1\n",
    "    else:\n",
    "        return 0\n",
    "\n",
    "def qianshou(a,b):\n",
    "    if a is not np.nan:\n",
    "        return 1\n",
    "    elif a is np.nan and b == \"交易完成\":\n",
    "        return 1\n",
    "    else:\n",
    "        return 0\n",
    "\n",
    "def jihuo(x):\n",
    "    if x == \"交易完成\":\n",
    "        return 1\n",
    "    else:\n",
    "        return 0\n",
    "\n",
    "def paidan(x):\n",
    "    if x is np.nan:\n",
    "        return 0\n",
    "    else:\n",
    "        return 1"
   ]
  },
  {
   "cell_type": "code",
   "execution_count": 24,
   "metadata": {},
   "outputs": [],
   "source": [
    "df11['派单'] = df11[\"是否下省\"].apply(paidan)\n",
    "df11['派卡'] = df11[\"物流单号_y\"].apply(paidan)\n",
    "df11['上门'] = df11[\"APP操作时间\"].apply(paidan)\n",
    "df11['首充'] = df11[\"主号码_y\"].apply(shouchong) #订单编号_y\n",
    "df11['来单量'] = df11['订单编号'].apply(laidan) #订单编号_x\n",
    "df11['发货量'] = df11.apply(lambda x: fahuo(x[\"物流单号_x\"], x[\"订单状态\"], x[\"物流签收时间\"]), axis=1)\n",
    "df11['签收量'] = df11.apply(lambda x: qianshou(x[\"物流签收时间\"], x[\"订单状态\"]), axis=1)\n",
    "df11['激活量'] = df11[\"订单状态\"].apply(jihuo)"
   ]
  },
  {
   "cell_type": "code",
   "execution_count": 25,
   "metadata": {},
   "outputs": [],
   "source": [
    "df = df11[[\"号码归属地\",\"销售品编号\",\"营业厅送货方式\",\"派单\",\"派卡\",\"上门\",\"首充\",\"发货量\",\"签收量\",\"激活量\",\"来单量\"]]\n",
    "split1 = pd.DataFrame((x.split('/') for x in df['号码归属地']),index=df.index,columns=['所属省','所属市'])\n",
    "df = pd.merge(df, split1, left_index=True, right_index=True)"
   ]
  },
  {
   "cell_type": "code",
   "execution_count": 26,
   "metadata": {},
   "outputs": [],
   "source": [
    "df[\"销售品编号\"] = df[\"销售品编号\"].map(lambda x : str(x))"
   ]
  },
  {
   "cell_type": "code",
   "execution_count": 27,
   "metadata": {},
   "outputs": [],
   "source": [
    "# 产品标卡\n",
    "biaoka = pd.read_excel(inputPath2 + \"产品标卡.xlsx\")\n",
    "biaoka[\"销售品编号\"] = biaoka[\"销售品编号\"].map(lambda x: str(x))"
   ]
  },
  {
   "cell_type": "code",
   "execution_count": 28,
   "metadata": {},
   "outputs": [
    {
     "data": {
      "text/plain": [
       "0    3001146112\n",
       "1    3001147403\n",
       "2    3001147680\n",
       "3    3001156081\n",
       "4    3001166277\n",
       "Name: 销售品编号, dtype: object"
      ]
     },
     "execution_count": 28,
     "metadata": {},
     "output_type": "execute_result"
    }
   ],
   "source": [
    "biaoka[\"销售品编号\"][0:5]"
   ]
  },
  {
   "cell_type": "code",
   "execution_count": 29,
   "metadata": {},
   "outputs": [],
   "source": [
    "df[\"销售品编号\"] = df[\"销售品编号\"].map(lambda x : x[:-2])"
   ]
  },
  {
   "cell_type": "code",
   "execution_count": 30,
   "metadata": {
    "scrolled": true
   },
   "outputs": [
    {
     "data": {
      "text/plain": [
       "0    903011143780\n",
       "1     90011235593\n",
       "2     10011229051\n",
       "3     10011228990\n",
       "4     10011228964\n",
       "Name: 销售品编号, dtype: object"
      ]
     },
     "execution_count": 30,
     "metadata": {},
     "output_type": "execute_result"
    }
   ],
   "source": [
    "df[\"销售品编号\"][0:5]"
   ]
  },
  {
   "cell_type": "code",
   "execution_count": 31,
   "metadata": {},
   "outputs": [],
   "source": [
    "data_JM3 = pd.merge(df, biaoka, how=\"left\", on=\"销售品编号\")\n"
   ]
  },
  {
   "cell_type": "code",
   "execution_count": 32,
   "metadata": {},
   "outputs": [
    {
     "data": {
      "text/plain": [
       "0           新装\n",
       "1           新装\n",
       "2          京粉卡\n",
       "3          京粉卡\n",
       "4          抖音卡\n",
       "5          京粉卡\n",
       "6         阿里鱼卡\n",
       "7         百度圣卡\n",
       "8          抖音卡\n",
       "9          V粉卡\n",
       "10         V粉卡\n",
       "11        百度圣卡\n",
       "12         V粉卡\n",
       "13         抖音卡\n",
       "14        百度圣卡\n",
       "15        阿里鱼卡\n",
       "16         抖音卡\n",
       "17         V粉卡\n",
       "18         京粉卡\n",
       "19       网易白金卡\n",
       "20         抖音卡\n",
       "21          新装\n",
       "22          新装\n",
       "23         抖音卡\n",
       "24        百度圣卡\n",
       "25        阿里鱼卡\n",
       "26        百度圣卡\n",
       "27        百度圣卡\n",
       "28          新装\n",
       "29         抖音卡\n",
       "30         抖音卡\n",
       "31          新装\n",
       "32         抖音卡\n",
       "33         抖音卡\n",
       "34         V粉卡\n",
       "35       网易白金卡\n",
       "36       网易白金卡\n",
       "37         V粉卡\n",
       "38         京粉卡\n",
       "39         京粉卡\n",
       "         ...  \n",
       "17497       新装\n",
       "17498      V粉卡\n",
       "17499      抖音卡\n",
       "17500       新装\n",
       "17501      京粉卡\n",
       "17502      V粉卡\n",
       "17503     百度圣卡\n",
       "17504       新装\n",
       "17505      京粉卡\n",
       "17506      抖音卡\n",
       "17507       新装\n",
       "17508      京粉卡\n",
       "17509      V粉卡\n",
       "17510      抖音卡\n",
       "17511      京粉卡\n",
       "17512      京粉卡\n",
       "17513      京粉卡\n",
       "17514      抖音卡\n",
       "17515      京粉卡\n",
       "17516      京粉卡\n",
       "17517    网易白金卡\n",
       "17518      抖音卡\n",
       "17519      京粉卡\n",
       "17520      V粉卡\n",
       "17521     百度圣卡\n",
       "17522      京粉卡\n",
       "17523     百度圣卡\n",
       "17524      京粉卡\n",
       "17525      抖音卡\n",
       "17526      京粉卡\n",
       "17527    网易白金卡\n",
       "17528      抖音卡\n",
       "17529     百度圣卡\n",
       "17530      抖音卡\n",
       "17531      京粉卡\n",
       "17532     百度圣卡\n",
       "17533      V粉卡\n",
       "17534      V粉卡\n",
       "17535      京粉卡\n",
       "17536      京粉卡\n",
       "Name: 分类, Length: 17537, dtype: object"
      ]
     },
     "execution_count": 32,
     "metadata": {},
     "output_type": "execute_result"
    }
   ],
   "source": [
    "data_JM3[\"分类\"]"
   ]
  },
  {
   "cell_type": "code",
   "execution_count": 36,
   "metadata": {
    "scrolled": true
   },
   "outputs": [],
   "source": [
    "data10 = JD_mode_product(data_JM3)\n"
   ]
  },
  {
   "cell_type": "code",
   "execution_count": 37,
   "metadata": {},
   "outputs": [
    {
     "data": {
      "text/plain": [
       "Index(['分类', '派单', '产品派单量占比', '派卡', '派卡率', '异常筛查', '异常筛查率', '上门', '上门率', '未上门',\n",
       "       '未上门率', '激活量', '产品激活量占比', '激活率', '首充', '产品首充量占比', '首充率', '全量首充'],\n",
       "      dtype='object')"
      ]
     },
     "execution_count": 37,
     "metadata": {},
     "output_type": "execute_result"
    }
   ],
   "source": [
    "data10.columns"
   ]
  },
  {
   "cell_type": "code",
   "execution_count": 38,
   "metadata": {},
   "outputs": [
    {
     "data": {
      "text/plain": [
       "0       V粉卡\n",
       "1       京粉卡\n",
       "2       大王卡\n",
       "3      大黑牛卡\n",
       "4       抖音卡\n",
       "5      百度圣卡\n",
       "6     米粉卡体验\n",
       "7     米粉卡日租\n",
       "8     网易白金卡\n",
       "9      阿里鱼卡\n",
       "10       合计\n",
       "Name: 分类, dtype: object"
      ]
     },
     "execution_count": 38,
     "metadata": {},
     "output_type": "execute_result"
    }
   ],
   "source": [
    "data10[\"分类\"]"
   ]
  },
  {
   "cell_type": "code",
   "execution_count": null,
   "metadata": {},
   "outputs": [],
   "source": []
  }
 ],
 "metadata": {
  "kernelspec": {
   "display_name": "Python 3",
   "language": "python",
   "name": "python3"
  },
  "language_info": {
   "codemirror_mode": {
    "name": "ipython",
    "version": 3
   },
   "file_extension": ".py",
   "mimetype": "text/x-python",
   "name": "python",
   "nbconvert_exporter": "python",
   "pygments_lexer": "ipython3",
   "version": "3.6.6"
  }
 },
 "nbformat": 4,
 "nbformat_minor": 2
}
