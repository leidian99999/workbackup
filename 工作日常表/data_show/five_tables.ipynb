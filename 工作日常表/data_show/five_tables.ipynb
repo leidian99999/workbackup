{
 "cells": [
  {
   "cell_type": "code",
   "execution_count": 1,
   "metadata": {},
   "outputs": [],
   "source": [
    "import pandas as pd\n",
    "import xlsxwriter\n",
    "import numpy as np\n",
    "from datetime import datetime,timedelta"
   ]
  },
  {
   "cell_type": "code",
   "execution_count": 2,
   "metadata": {},
   "outputs": [],
   "source": [
    "date1 = '190606'  # 文件名日期\n",
    "date2 = '2019-06-06'\n",
    "date3 = '190605'"
   ]
  },
  {
   "cell_type": "code",
   "execution_count": 3,
   "metadata": {},
   "outputs": [],
   "source": [
    "inputPath = \"G:/work/daily/DataShow/190606/\"  # 输出路径\n",
    "inputPath2 = \"G:/work/daily/DataShow/\""
   ]
  },
  {
   "cell_type": "code",
   "execution_count": 4,
   "metadata": {},
   "outputs": [],
   "source": [
    "def laidan(x):\n",
    "    if x is np.nan:\n",
    "        return 0\n",
    "    else:\n",
    "        return 1"
   ]
  },
  {
   "cell_type": "code",
   "execution_count": 5,
   "metadata": {},
   "outputs": [],
   "source": [
    "def fahuo(a,b,c):\n",
    "    if a is not np.nan:\n",
    "        return 1\n",
    "    elif a is np.nan and b == \"交易完成\":\n",
    "        return 1\n",
    "    elif a is np.nan and c is not np.nan:\n",
    "        return 1\n",
    "    else:\n",
    "        return 0"
   ]
  },
  {
   "cell_type": "code",
   "execution_count": 6,
   "metadata": {},
   "outputs": [],
   "source": [
    "def qianshou(a,b):\n",
    "    if a is not np.nan:\n",
    "        return 1\n",
    "    elif a is np.nan and b == \"交易完成\":\n",
    "        return 1\n",
    "    else:\n",
    "        return 0"
   ]
  },
  {
   "cell_type": "code",
   "execution_count": 7,
   "metadata": {},
   "outputs": [],
   "source": [
    "def jihuo(x):\n",
    "    if x == \"交易完成\":\n",
    "        return 1\n",
    "    else:\n",
    "        return 0"
   ]
  },
  {
   "cell_type": "code",
   "execution_count": 8,
   "metadata": {},
   "outputs": [],
   "source": [
    "def paidan(x):\n",
    "    if x is np.nan:\n",
    "        return 0\n",
    "    else:\n",
    "        return 1"
   ]
  },
  {
   "cell_type": "code",
   "execution_count": 9,
   "metadata": {},
   "outputs": [],
   "source": [
    "inputPath = \"G:/work/daily/DataShow/190606/\"  # 输出路径"
   ]
  },
  {
   "cell_type": "code",
   "execution_count": 10,
   "metadata": {},
   "outputs": [
    {
     "name": "stderr",
     "output_type": "stream",
     "text": [
      "d:\\python\\envs\\jupyterpy36\\lib\\site-packages\\IPython\\core\\interactiveshell.py:2785: DtypeWarning: Columns (5,25,30,35,48,60) have mixed types. Specify dtype option on import or set low_memory=False.\n",
      "  interactivity=interactivity, compiler=compiler, result=result)\n"
     ]
    }
   ],
   "source": [
    "data1 = pd.read_csv(inputPath + \"df1.csv\")\n"
   ]
  },
  {
   "cell_type": "code",
   "execution_count": 11,
   "metadata": {},
   "outputs": [],
   "source": [
    "df1 = data1.copy()"
   ]
  },
  {
   "cell_type": "code",
   "execution_count": 12,
   "metadata": {},
   "outputs": [
    {
     "data": {
      "text/plain": [
       "Index(['订单编号', '原始订单', '订单类型', '订单状态', '订单子状态', '取消原因', '订单挂起原因', '安装失败原因',\n",
       "       '订单来源', '结算状态', '支付平台', '机价款', '店铺', 'AB类型', '拆单类型', '制式类型', '订单金额',\n",
       "       '支付方式', '支付流水号', '收取卡密号码', '订单生成时间', '支付完成时间', '交易完成时间', '发货时间',\n",
       "       '物流单回填时间', '用户名', 'QQ号', '入网用户姓名', '入网身份证号', '入网手机号', '联系人电话号码',\n",
       "       'ICCID', '联系住址', '收货人姓名', '收货地址', '收货人电话号码', '收货人邮箱', '邮编',\n",
       "       '所在省 / 市 / 县', '入网人所在省/市/县', '号码归属地', '配送方式', '营业厅地址', '配送时间', '优惠劵',\n",
       "       '优惠券编码', 'F码', 'F码名称', '产品推荐人', 'CPS推荐人', '订单备注', '物流单号', '物流签收时间',\n",
       "       '承运商', '是否上传签收证明项', '预存款发票类别', '物品费发票抬头', '物品费抬头名称', '发票内容', '企业税号',\n",
       "       '用户留言', '大小卡类型', '写卡渠道', '卡号', '串号', '销售品编号', '销售品名称', '销售品类型', '销售品数量',\n",
       "       '销售品价格', '合作商', '实际分账金额', '套餐', '主号码', '副号码', '现金预存款', '可选包', '合约补贴',\n",
       "       '其他', '靓号低消', '靓号等级', '靓号预存款', '营业厅送货方式', '是否线下模式', '是否线下转线上',\n",
       "       '线下转线上原因', '营业厅送货iccid', '身份证图片1', '身份证图片2', '身份证图片3', '身份证图片4',\n",
       "       '实名信息复核中时间', '销售品文本步骤名称', '用户选择的步骤内容', '京东不可达原因', '订单生成日期', '订单生成小时'],\n",
       "      dtype='object')"
      ]
     },
     "execution_count": 12,
     "metadata": {},
     "output_type": "execute_result"
    }
   ],
   "source": [
    "df1.columns"
   ]
  },
  {
   "cell_type": "code",
   "execution_count": 13,
   "metadata": {},
   "outputs": [],
   "source": [
    "split1 = pd.DataFrame((x.split(' ') for x in df1['订单生成时间']),index=df1.index,columns=['订单生成日期','订单生成小时'])\n",
    "df1 = pd.merge(df1, split1, left_index=True, right_index=True)"
   ]
  },
  {
   "cell_type": "code",
   "execution_count": 14,
   "metadata": {},
   "outputs": [],
   "source": [
    "data2 = pd.read_excel(inputPath + \"3 7日前新生产导出.xlsx\")\n",
    "split2 = pd.DataFrame((x.split(' ') for x in data2['订单生成时间']),index=data2.index,columns=['订单生成日期','订单生成小时'])\n",
    "data2 = pd.merge(data2, split2, left_index=True, right_index=True)"
   ]
  },
  {
   "cell_type": "code",
   "execution_count": 15,
   "metadata": {},
   "outputs": [],
   "source": [
    "data5 = pd.read_excel(inputPath + \"3 7日京东平台导出.xlsx\")\n",
    "split5 = pd.DataFrame((x.split(' ') for x in data5['用户下单时间']),index=data5.index,columns=['用户下单日期','用户下单小时'])\n",
    "data5 = pd.merge(data5, split5, left_index=True, right_index=True)"
   ]
  },
  {
   "cell_type": "code",
   "execution_count": 16,
   "metadata": {},
   "outputs": [],
   "source": [
    "san_days = (datetime.strptime(date2, '%Y-%m-%d') - timedelta(days=3)).strftime('%Y-%m-%d')\n",
    "qi_days  = (datetime.strptime(date2, '%Y-%m-%d') - timedelta(days=7)).strftime('%Y-%m-%d')"
   ]
  },
  {
   "cell_type": "code",
   "execution_count": 17,
   "metadata": {},
   "outputs": [],
   "source": [
    "df3 = pd.read_excel(inputPath2 + \"首充明细\"+ date3+\".xlsx\", sheet_name=\"Sheet1\") # 首充历史表\n",
    "df4 = pd.read_excel(inputPath + \"首充新增\" + date1 + \".xlsx\") # 当日历史表\n",
    "df4 = df4[[\"用户名\"]]"
   ]
  },
  {
   "cell_type": "code",
   "execution_count": 18,
   "metadata": {},
   "outputs": [],
   "source": [
    "df1_3ri = data1[data1[\"订单生成日期\"] == san_days]\n",
    "df2_3ri = data2[data2[\"订单生成日期\"] == san_days]\n",
    "df5_3ri = data5[data5[\"用户下单日期\"] == san_days] # 京东表"
   ]
  },
  {
   "cell_type": "code",
   "execution_count": 19,
   "metadata": {},
   "outputs": [],
   "source": [
    "df1_3ri = df1_3ri[(True ^ df1_3ri['订单状态'].isin(['办理成功', '办理中', '办理失败']))]\n",
    "df1_3ri = df1_3ri[pd.notnull(df1_3ri['所在省 / 市 / 县'])]\n",
    "df1_3ri = df1_3ri[df1_3ri[\"订单编号\"].str.contains('订单编号') == False]\n",
    "df1_3ri = df1_3ri.drop_duplicates(subset=['订单编号'], keep='first')\n",
    "df1_3ri = df1_3ri[pd.notnull(df1_3ri['号码归属地'])]\n",
    "df1_3ri = df1_3ri[pd.notnull(df1_3ri['入网手机号'])]\n",
    "split1 = pd.DataFrame((x.split(' ') for x in df1_3ri['订单生成时间']),index=df1_3ri.index,columns=['订单生成日期','订单生成小时'])\n",
    "df1_3ri = pd.merge(df1_3ri, split1, left_index=True, right_index=True)"
   ]
  },
  {
   "cell_type": "code",
   "execution_count": 20,
   "metadata": {},
   "outputs": [],
   "source": [
    "df2_3ri = df2_3ri[df2_3ri[\"模式分类\"] == \"京东模式\"]\n",
    "df2_3ri = df2_3ri[pd.notnull(df2_3ri['是否下省'])]"
   ]
  },
  {
   "cell_type": "code",
   "execution_count": 21,
   "metadata": {},
   "outputs": [],
   "source": [
    "df34 = pd.concat([df3, df4],sort=False)\n",
    "df34 = df34.drop_duplicates(subset=['用户名'], keep='first')\n",
    "# df34 = df34[df34[\"订单编号\"].str.contains('订单编号') == False]\n",
    "df34['用户名'] = df34['用户名'].map(lambda x: round(x, 0))"
   ]
  },
  {
   "cell_type": "code",
   "execution_count": 22,
   "metadata": {},
   "outputs": [],
   "source": [
    "df51 = df5_3ri[[\"运营商单号\", \"物流单号\"]]\n",
    "df52 = df5_3ri[[\"运营商单号\", \"APP操作时间\"]]\n",
    "df51 = df51[pd.notnull(df51['物流单号'])]\n",
    "df52 = df52[pd.notnull(df52['APP操作时间'])]"
   ]
  },
  {
   "cell_type": "code",
   "execution_count": 23,
   "metadata": {},
   "outputs": [],
   "source": [
    "df11 = pd.merge(df1_3ri, df2_3ri[[\"订单编号\", \"模式分类\", \"是否下省\"]],\n",
    "                    left_on=\"订单编号\", right_on=\"订单编号\", how=\"left\")"
   ]
  },
  {
   "cell_type": "code",
   "execution_count": 24,
   "metadata": {},
   "outputs": [],
   "source": [
    "df11 = pd.merge(df11, df51, left_on=\"订单编号\", right_on=\"运营商单号\", how=\"left\")"
   ]
  },
  {
   "cell_type": "code",
   "execution_count": 25,
   "metadata": {},
   "outputs": [],
   "source": [
    "df11 = pd.merge(df11, df52, left_on=\"订单编号\", right_on=\"运营商单号\", how=\"left\")"
   ]
  },
  {
   "cell_type": "code",
   "execution_count": 26,
   "metadata": {},
   "outputs": [],
   "source": [
    "df11['入网手机号'] = df11['入网手机号'].apply(int)"
   ]
  },
  {
   "cell_type": "code",
   "execution_count": 27,
   "metadata": {},
   "outputs": [],
   "source": [
    "df11 = pd.merge(df11, df34[[ '用户名']],left_on=\"入网手机号\", right_on=\"用户名\", how=\"left\") #'订单编号',"
   ]
  },
  {
   "cell_type": "code",
   "execution_count": 28,
   "metadata": {},
   "outputs": [],
   "source": [
    "df11['派单'] = df11[\"是否下省\"].apply(paidan)"
   ]
  },
  {
   "cell_type": "code",
   "execution_count": 29,
   "metadata": {},
   "outputs": [],
   "source": [
    "df11['派卡'] = df11[\"物流单号_y\"].apply(paidan)"
   ]
  },
  {
   "cell_type": "code",
   "execution_count": 30,
   "metadata": {},
   "outputs": [],
   "source": [
    "df11['上门'] = df11[\"APP操作时间\"].apply(paidan)"
   ]
  },
  {
   "cell_type": "code",
   "execution_count": 31,
   "metadata": {},
   "outputs": [],
   "source": [
    "df11['首充'] = df11[\"订单编号\"].apply(paidan) #订单编号_y"
   ]
  },
  {
   "cell_type": "code",
   "execution_count": 32,
   "metadata": {},
   "outputs": [
    {
     "data": {
      "text/plain": [
       "Index(['订单编号', '原始订单', '订单类型', '订单状态', '订单子状态', '取消原因', '订单挂起原因', '安装失败原因',\n",
       "       '订单来源', '结算状态',\n",
       "       ...\n",
       "       '是否下省', '运营商单号_x', '物流单号_y', '运营商单号_y', 'APP操作时间', '用户名_y', '派单', '派卡',\n",
       "       '上门', '首充'],\n",
       "      dtype='object', length=110)"
      ]
     },
     "execution_count": 32,
     "metadata": {},
     "output_type": "execute_result"
    }
   ],
   "source": [
    "df11.columns"
   ]
  },
  {
   "cell_type": "code",
   "execution_count": 33,
   "metadata": {},
   "outputs": [],
   "source": [
    "df11['来单量'] = df11['订单编号'].apply(laidan)"
   ]
  },
  {
   "cell_type": "code",
   "execution_count": 34,
   "metadata": {},
   "outputs": [],
   "source": [
    "df11['发货量'] = df11.apply(lambda x: fahuo(x[\"物流单号_x\"], x[\"订单状态\"], x[\"物流签收时间\"]), axis=1)"
   ]
  },
  {
   "cell_type": "code",
   "execution_count": 35,
   "metadata": {},
   "outputs": [],
   "source": [
    "df11['签收量'] = df11.apply(lambda x: qianshou(x[\"物流签收时间\"], x[\"订单状态\"]), axis=1)"
   ]
  },
  {
   "cell_type": "code",
   "execution_count": 36,
   "metadata": {},
   "outputs": [],
   "source": [
    "df11['激活量'] = df11[\"订单状态\"].apply(jihuo)"
   ]
  },
  {
   "cell_type": "code",
   "execution_count": 37,
   "metadata": {},
   "outputs": [],
   "source": [
    "df = df11[[\"号码归属地\",\"销售品编号\",\"营业厅送货方式\",\"派单\",\"派卡\",\"上门\",\"首充\",\"发货量\",\"签收量\",\"激活量\",\"来单量\"]]"
   ]
  },
  {
   "cell_type": "code",
   "execution_count": 38,
   "metadata": {},
   "outputs": [],
   "source": [
    "split1 = pd.DataFrame((x.split('/') for x in df['号码归属地']),index=df.index,columns=['所属省','所属市'])\n",
    "df = pd.merge(df, split1, left_index=True, right_index=True)"
   ]
  },
  {
   "cell_type": "code",
   "execution_count": 39,
   "metadata": {},
   "outputs": [],
   "source": [
    "df[\"销售品编号\"] = df[\"销售品编号\"].map(lambda x : str(x))"
   ]
  },
  {
   "cell_type": "code",
   "execution_count": 40,
   "metadata": {},
   "outputs": [],
   "source": [
    "biaoka = pd.read_excel(inputPath2 + \"产品标卡.xlsx\")\n",
    "biaoka[\"销售品编号\"] = biaoka[\"销售品编号\"].map(lambda x: str(x))"
   ]
  },
  {
   "cell_type": "code",
   "execution_count": 41,
   "metadata": {},
   "outputs": [],
   "source": [
    "data_JM3 = pd.merge(df, biaoka, how=\"left\", on=\"销售品编号\")"
   ]
  },
  {
   "cell_type": "code",
   "execution_count": 42,
   "metadata": {},
   "outputs": [],
   "source": [
    "df_JM3 = data_JM3.copy()"
   ]
  },
  {
   "cell_type": "code",
   "execution_count": 43,
   "metadata": {},
   "outputs": [],
   "source": [
    "df_SHCH_product = pd.pivot_table(df_JM3, index=[u'分类'], values=['首充'],\n",
    "                                      aggfunc=[np.sum], fill_value=0,\n",
    "                                      margins=True, margins_name='合计')"
   ]
  },
  {
   "cell_type": "code",
   "execution_count": 49,
   "metadata": {},
   "outputs": [],
   "source": [
    "df_JD = df_JM3[df_JM3[\"营业厅送货方式\"] == \"线下送货（京东模式）\"]\n",
    "df_JD_product = df_JD.groupby(by=[\"分类\"]).sum()\n",
    "df_JD_product.loc['合计'] = df_JD_product.apply(lambda x: x.sum())\n",
    "df_JD_product[\"产品派单量占比\"] = df_JD_product[\"派单\"].map(\n",
    "lambda x: (2 * x) / (sum(df_JD_product[\"派单\"])+0.00001)\n",
    ")\n",
    "df_JD_product[\"派卡率\"] = df_JD_product[\"派卡\"] / (df_JD_product[\"派单\"] + 0.00001)\n",
    "df_JD_product[\"异常筛查\"] = df_JD_product[\"派单\"] - df_JD_product[\"派卡\"]\n",
    "df_JD_product[\"异常筛查率\"] = df_JD_product[\"异常筛查\"] / (df_JD_product[\"派单\"] +0.00001)\n",
    "df_JD_product[\"上门率\"] = df_JD_product[\"上门\"] / (df_JD_product[\"派卡\"]+0.00001)\n",
    "df_JD_product[\"未上门\"] = df_JD_product[\"派卡\"] - df_JD_product[\"上门\"]\n",
    "df_JD_product[\"未上门率\"] = df_JD_product[\"未上门\"] / (df_JD_product[\"派卡\"]+0.00001)\n",
    "df_JD_product[\"产品激活量占比\"] = df_JD_product[\"激活量\"].map(\n",
    "lambda x: (2 * x) / (sum(df_JD_product[\"激活量\"])+0.00001)\n",
    ")\n",
    "df_JD_product[\"激活率\"] = df_JD_product[\"激活量\"] / (df_JD_product[\"派卡\"]+0.00001)\n",
    "df_JD_product[\"产品首充量占比\"] = df_JD_product[\"首充\"].map(\n",
    "lambda x: (2 * x) / (sum(df_JD_product[\"首充\"])+0.00001)\n",
    ")\n",
    "df_JD_product[\"首充率\"] = df_JD_product[\"首充\"] / (df_JD_product[\"派卡\"]+0.00001)\n",
    "df_JD_product[\"全量首充\"] = df_SHCH_product\n",
    "df_JD_product = df_JD_product.reset_index('分类')\n",
    "df_JD_product2 = df_JD_product[[\"分类\",\"派单\",\n",
    "\"产品派单量占比\",\n",
    "\"派卡\",\n",
    "\"派卡率\",\n",
    "\"异常筛查\",\n",
    "\"异常筛查率\",\n",
    "\"上门\",\n",
    "\"上门率\",\n",
    "\"未上门\",\n",
    "\"未上门率\",\n",
    "\"激活量\",\n",
    "\"产品激活量占比\",\n",
    "\"激活率\",\n",
    "\"首充\",\n",
    "\"产品首充量占比\",\n",
    "\"首充率\",\n",
    "\"全量首充\"]]"
   ]
  },
  {
   "cell_type": "code",
   "execution_count": 50,
   "metadata": {},
   "outputs": [
    {
     "data": {
      "text/plain": [
       "分类                 翼视卡\n",
       "派单                   0\n",
       "产品派单量占比              0\n",
       "派卡                   0\n",
       "派卡率                  0\n",
       "异常筛查                 0\n",
       "异常筛查率                0\n",
       "上门                   0\n",
       "上门率                  0\n",
       "未上门                  0\n",
       "未上门率                 0\n",
       "激活量                  2\n",
       "产品激活量占比    0.000184247\n",
       "激活率             200000\n",
       "首充                   5\n",
       "产品首充量占比    0.000207503\n",
       "首充率             500000\n",
       "全量首充                 6\n",
       "Name: 10, dtype: object"
      ]
     },
     "execution_count": 50,
     "metadata": {},
     "output_type": "execute_result"
    }
   ],
   "source": [
    "df_JD_product2.iloc[10,]"
   ]
  },
  {
   "cell_type": "code",
   "execution_count": null,
   "metadata": {},
   "outputs": [],
   "source": []
  }
 ],
 "metadata": {
  "kernelspec": {
   "display_name": "Python 3",
   "language": "python",
   "name": "python3"
  },
  "language_info": {
   "codemirror_mode": {
    "name": "ipython",
    "version": 3
   },
   "file_extension": ".py",
   "mimetype": "text/x-python",
   "name": "python",
   "nbconvert_exporter": "python",
   "pygments_lexer": "ipython3",
   "version": "3.6.6"
  }
 },
 "nbformat": 4,
 "nbformat_minor": 2
}
