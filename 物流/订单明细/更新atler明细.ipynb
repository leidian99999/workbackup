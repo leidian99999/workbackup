{
 "cells": [
  {
   "cell_type": "code",
   "execution_count": 1,
   "metadata": {},
   "outputs": [],
   "source": [
    "import pandas as pd"
   ]
  },
  {
   "cell_type": "code",
   "execution_count": 2,
   "metadata": {
    "scrolled": false
   },
   "outputs": [
    {
     "name": "stderr",
     "output_type": "stream",
     "text": [
      "d:\\python\\envs\\jupyterpy36\\lib\\site-packages\\IPython\\core\\interactiveshell.py:2785: DtypeWarning: Columns (0,6,8,10,12,17,20,25,26,27,32,37,38,40,44,45,46,47,48,49,60,61,63,64,65,66,69,70,71,72,78,79,80,81,82,87,92,93,94) have mixed types. Specify dtype option on import or set low_memory=False.\n",
      "  interactivity=interactivity, compiler=compiler, result=result)\n"
     ]
    }
   ],
   "source": [
    "# data = pd.read_excel(r\"G:\\work\\basic\\XLSX/1903_info.xlsx\")\n",
    "data = pd.read_csv(r\"G:\\work\\basic\\CSV/1904_info.csv\")"
   ]
  },
  {
   "cell_type": "code",
   "execution_count": 3,
   "metadata": {
    "scrolled": true
   },
   "outputs": [
    {
     "data": {
      "text/plain": [
       "Index(['Unnamed: 0', '订单编号', '原始订单', '订单类型', '订单状态', '订单子状态', '取消原因', '订单挂起原因',\n",
       "       '安装失败原因', '订单来源', '结算状态', '支付平台', '机价款', '店铺', 'AB类型', '拆单类型', '制式类型',\n",
       "       '订单金额', '支付方式', '支付流水号', '收取卡密号码', '订单生成时间', '支付完成时间', '交易完成时间', '发货时间',\n",
       "       '物流单回填时间', '用户名', 'QQ号', '入网用户姓名', '入网身份证号', '入网手机号', '联系人电话号码',\n",
       "       'ICCID', '联系住址', '收货人姓名', '收货地址', '收货人电话号码', '收货人邮箱', '邮编',\n",
       "       '所在省 / 市 / 县', '入网人所在省/市/县', '号码归属地', '配送方式', '营业厅地址', '配送时间', '优惠劵',\n",
       "       '优惠券编码', 'F码', 'F码名称', '产品推荐人', 'CPS推荐人', '订单备注', '物流单号', '物流签收时间',\n",
       "       '承运商', '是否上传签收证明项', '预存款发票类别', '物品费发票抬头', '物品费抬头名称', '发票内容', '企业税号',\n",
       "       '用户留言', '大小卡类型', '写卡渠道', '卡号', '串号', '销售品编号', '销售品名称', '销售品类型', '销售品数量',\n",
       "       '销售品价格', '合作商', '实际分账金额', '套餐', '主号码', '副号码', '现金预存款', '可选包', '合约补贴',\n",
       "       '其他', '靓号低消', '靓号等级', '靓号预存款', '营业厅送货方式', '是否线下模式', '是否线下转线上',\n",
       "       '线下转线上原因', '营业厅送货iccid', '身份证图片1', '身份证图片2', '身份证图片3', '身份证图片4',\n",
       "       '实名信息复核中时间', '销售品文本步骤名称', '用户选择的步骤内容', '京东不可达原因'],\n",
       "      dtype='object')"
      ]
     },
     "execution_count": 3,
     "metadata": {},
     "output_type": "execute_result"
    }
   ],
   "source": [
    "data.columns"
   ]
  },
  {
   "cell_type": "code",
   "execution_count": 4,
   "metadata": {},
   "outputs": [
    {
     "data": {
      "text/plain": [
       "(910548, 96)"
      ]
     },
     "execution_count": 4,
     "metadata": {},
     "output_type": "execute_result"
    }
   ],
   "source": [
    "data.shape"
   ]
  },
  {
   "cell_type": "code",
   "execution_count": 5,
   "metadata": {},
   "outputs": [
    {
     "data": {
      "text/html": [
       "<div>\n",
       "<style scoped>\n",
       "    .dataframe tbody tr th:only-of-type {\n",
       "        vertical-align: middle;\n",
       "    }\n",
       "\n",
       "    .dataframe tbody tr th {\n",
       "        vertical-align: top;\n",
       "    }\n",
       "\n",
       "    .dataframe thead th {\n",
       "        text-align: right;\n",
       "    }\n",
       "</style>\n",
       "<table border=\"1\" class=\"dataframe\">\n",
       "  <thead>\n",
       "    <tr style=\"text-align: right;\">\n",
       "      <th></th>\n",
       "      <th>Unnamed: 0</th>\n",
       "      <th>订单编号</th>\n",
       "      <th>原始订单</th>\n",
       "      <th>订单类型</th>\n",
       "      <th>订单状态</th>\n",
       "      <th>订单子状态</th>\n",
       "      <th>取消原因</th>\n",
       "      <th>订单挂起原因</th>\n",
       "      <th>安装失败原因</th>\n",
       "      <th>订单来源</th>\n",
       "      <th>...</th>\n",
       "      <th>线下转线上原因</th>\n",
       "      <th>营业厅送货iccid</th>\n",
       "      <th>身份证图片1</th>\n",
       "      <th>身份证图片2</th>\n",
       "      <th>身份证图片3</th>\n",
       "      <th>身份证图片4</th>\n",
       "      <th>实名信息复核中时间</th>\n",
       "      <th>销售品文本步骤名称</th>\n",
       "      <th>用户选择的步骤内容</th>\n",
       "      <th>京东不可达原因</th>\n",
       "    </tr>\n",
       "  </thead>\n",
       "  <tbody>\n",
       "    <tr>\n",
       "      <th>0</th>\n",
       "      <td>0</td>\n",
       "      <td>690000000001008319040923326136</td>\n",
       "      <td>OI060006011904092359453651300110</td>\n",
       "      <td>普通订单</td>\n",
       "      <td>交易完成</td>\n",
       "      <td>NaN</td>\n",
       "      <td>NaN</td>\n",
       "      <td>NaN</td>\n",
       "      <td>NaN</td>\n",
       "      <td>高阳</td>\n",
       "      <td>...</td>\n",
       "      <td>NaN</td>\n",
       "      <td>8.98603e+18</td>\n",
       "      <td>/orderCommon/certificationImage?certificatePic...</td>\n",
       "      <td>/orderCommon/certificationImage?certificatePic...</td>\n",
       "      <td>/orderCommon/certificationImage?certificatePic...</td>\n",
       "      <td>/orderCommon/certificationImage?certificatePic...</td>\n",
       "      <td>NaN</td>\n",
       "      <td>NaN</td>\n",
       "      <td>NaN</td>\n",
       "      <td>NaN</td>\n",
       "    </tr>\n",
       "    <tr>\n",
       "      <th>1</th>\n",
       "      <td>1</td>\n",
       "      <td>690000000001008319040923326135</td>\n",
       "      <td>ALBKJT201904092359385173334</td>\n",
       "      <td>普通订单</td>\n",
       "      <td>订单退回待关闭</td>\n",
       "      <td>待推单</td>\n",
       "      <td>NaN</td>\n",
       "      <td>NaN</td>\n",
       "      <td>NaN</td>\n",
       "      <td>阿里</td>\n",
       "      <td>...</td>\n",
       "      <td>用户不要了</td>\n",
       "      <td>8.98603e+18</td>\n",
       "      <td>NaN</td>\n",
       "      <td>NaN</td>\n",
       "      <td>NaN</td>\n",
       "      <td>NaN</td>\n",
       "      <td>NaN</td>\n",
       "      <td>NaN</td>\n",
       "      <td>NaN</td>\n",
       "      <td>NaN</td>\n",
       "    </tr>\n",
       "    <tr>\n",
       "      <th>2</th>\n",
       "      <td>2</td>\n",
       "      <td>690000000001008319040923326134</td>\n",
       "      <td>7093800150470721</td>\n",
       "      <td>普通订单</td>\n",
       "      <td>订单关闭</td>\n",
       "      <td>待推单</td>\n",
       "      <td>NaN</td>\n",
       "      <td>NaN</td>\n",
       "      <td>NaN</td>\n",
       "      <td>京东</td>\n",
       "      <td>...</td>\n",
       "      <td>用户不要了</td>\n",
       "      <td>8.98603e+18</td>\n",
       "      <td>NaN</td>\n",
       "      <td>NaN</td>\n",
       "      <td>NaN</td>\n",
       "      <td>NaN</td>\n",
       "      <td>NaN</td>\n",
       "      <td>NaN</td>\n",
       "      <td>NaN</td>\n",
       "      <td>NaN</td>\n",
       "    </tr>\n",
       "    <tr>\n",
       "      <th>3</th>\n",
       "      <td>3</td>\n",
       "      <td>609905821000008319040904549305</td>\n",
       "      <td>609905821000008319040904549305</td>\n",
       "      <td>普通订单</td>\n",
       "      <td>交易完成</td>\n",
       "      <td>NaN</td>\n",
       "      <td>NaN</td>\n",
       "      <td>NaN</td>\n",
       "      <td>NaN</td>\n",
       "      <td>WAP客户端/服务</td>\n",
       "      <td>...</td>\n",
       "      <td>NaN</td>\n",
       "      <td>NaN</td>\n",
       "      <td>/orderCommon/certificationImage?certificatePic...</td>\n",
       "      <td>/orderCommon/certificationImage?certificatePic...</td>\n",
       "      <td>/orderCommon/certificationImage?certificatePic...</td>\n",
       "      <td>/orderCommon/certificationImage?certificatePic...</td>\n",
       "      <td>NaN</td>\n",
       "      <td>NaN</td>\n",
       "      <td>NaN</td>\n",
       "      <td>E0003</td>\n",
       "    </tr>\n",
       "    <tr>\n",
       "      <th>4</th>\n",
       "      <td>4</td>\n",
       "      <td>690000000001008319040923326143</td>\n",
       "      <td>ALBKJT201904092359172505855</td>\n",
       "      <td>普通订单</td>\n",
       "      <td>交易完成</td>\n",
       "      <td>NaN</td>\n",
       "      <td>NaN</td>\n",
       "      <td>NaN</td>\n",
       "      <td>NaN</td>\n",
       "      <td>阿里</td>\n",
       "      <td>...</td>\n",
       "      <td>NaN</td>\n",
       "      <td>NaN</td>\n",
       "      <td>/orderCommon/certificationImage?certificatePic...</td>\n",
       "      <td>/orderCommon/certificationImage?certificatePic...</td>\n",
       "      <td>/orderCommon/certificationImage?certificatePic...</td>\n",
       "      <td>/orderCommon/certificationImage?certificatePic...</td>\n",
       "      <td>NaN</td>\n",
       "      <td>NaN</td>\n",
       "      <td>NaN</td>\n",
       "      <td>E0003</td>\n",
       "    </tr>\n",
       "  </tbody>\n",
       "</table>\n",
       "<p>5 rows × 96 columns</p>\n",
       "</div>"
      ],
      "text/plain": [
       "  Unnamed: 0                            订单编号  \\\n",
       "0          0  690000000001008319040923326136   \n",
       "1          1  690000000001008319040923326135   \n",
       "2          2  690000000001008319040923326134   \n",
       "3          3  609905821000008319040904549305   \n",
       "4          4  690000000001008319040923326143   \n",
       "\n",
       "                               原始订单  订单类型     订单状态 订单子状态 取消原因 订单挂起原因 安装失败原因  \\\n",
       "0  OI060006011904092359453651300110  普通订单     交易完成   NaN  NaN    NaN    NaN   \n",
       "1       ALBKJT201904092359385173334  普通订单  订单退回待关闭   待推单  NaN    NaN    NaN   \n",
       "2                  7093800150470721  普通订单     订单关闭   待推单  NaN    NaN    NaN   \n",
       "3    609905821000008319040904549305  普通订单     交易完成   NaN  NaN    NaN    NaN   \n",
       "4       ALBKJT201904092359172505855  普通订单     交易完成   NaN  NaN    NaN    NaN   \n",
       "\n",
       "        订单来源   ...   线下转线上原因   营业厅送货iccid  \\\n",
       "0         高阳   ...       NaN  8.98603e+18   \n",
       "1         阿里   ...     用户不要了  8.98603e+18   \n",
       "2         京东   ...     用户不要了  8.98603e+18   \n",
       "3  WAP客户端/服务   ...       NaN          NaN   \n",
       "4         阿里   ...       NaN          NaN   \n",
       "\n",
       "                                              身份证图片1  \\\n",
       "0  /orderCommon/certificationImage?certificatePic...   \n",
       "1                                                NaN   \n",
       "2                                                NaN   \n",
       "3  /orderCommon/certificationImage?certificatePic...   \n",
       "4  /orderCommon/certificationImage?certificatePic...   \n",
       "\n",
       "                                              身份证图片2  \\\n",
       "0  /orderCommon/certificationImage?certificatePic...   \n",
       "1                                                NaN   \n",
       "2                                                NaN   \n",
       "3  /orderCommon/certificationImage?certificatePic...   \n",
       "4  /orderCommon/certificationImage?certificatePic...   \n",
       "\n",
       "                                              身份证图片3  \\\n",
       "0  /orderCommon/certificationImage?certificatePic...   \n",
       "1                                                NaN   \n",
       "2                                                NaN   \n",
       "3  /orderCommon/certificationImage?certificatePic...   \n",
       "4  /orderCommon/certificationImage?certificatePic...   \n",
       "\n",
       "                                              身份证图片4 实名信息复核中时间 销售品文本步骤名称  \\\n",
       "0  /orderCommon/certificationImage?certificatePic...       NaN       NaN   \n",
       "1                                                NaN       NaN       NaN   \n",
       "2                                                NaN       NaN       NaN   \n",
       "3  /orderCommon/certificationImage?certificatePic...       NaN       NaN   \n",
       "4  /orderCommon/certificationImage?certificatePic...       NaN       NaN   \n",
       "\n",
       "  用户选择的步骤内容 京东不可达原因  \n",
       "0       NaN     NaN  \n",
       "1       NaN     NaN  \n",
       "2       NaN     NaN  \n",
       "3       NaN   E0003  \n",
       "4       NaN   E0003  \n",
       "\n",
       "[5 rows x 96 columns]"
      ]
     },
     "execution_count": 5,
     "metadata": {},
     "output_type": "execute_result"
    }
   ],
   "source": [
    "data.head()"
   ]
  },
  {
   "cell_type": "markdown",
   "metadata": {},
   "source": [
    "### 删除合表表头"
   ]
  },
  {
   "cell_type": "code",
   "execution_count": 6,
   "metadata": {},
   "outputs": [],
   "source": [
    "data = data[data[\"号码归属地\"].str.contains('号码归属地') == False]"
   ]
  },
  {
   "cell_type": "code",
   "execution_count": 7,
   "metadata": {},
   "outputs": [
    {
     "data": {
      "text/plain": [
       "(910513, 96)"
      ]
     },
     "execution_count": 7,
     "metadata": {},
     "output_type": "execute_result"
    }
   ],
   "source": [
    "data.shape"
   ]
  },
  {
   "cell_type": "code",
   "execution_count": 8,
   "metadata": {},
   "outputs": [],
   "source": [
    "df = data[[ '订单编号', '订单状态','订单子状态', '订单挂起原因', '安装失败原因', '订单来源', '店铺', '订单金额',\n",
    "       '订单生成时间', '交易完成时间', '发货时间', '物流单回填时间', '入网用户姓名', '入网身份证号', '入网手机号',\n",
    "       '收货人姓名', '收货地址', '收货人电话号码', '邮编', '所在省 / 市 / 县', '号码归属地', 'CPS推荐人',\n",
    "       '订单备注', '物流单号', '物流签收时间', '承运商', '大小卡类型', '写卡渠道', '销售品编号', '销售品名称',\n",
    "       '销售品类型', '套餐', '主号码', '副号码', '现金预存款', '靓号低消', '靓号等级', '靓号预存款',\n",
    "       '营业厅送货方式', '是否线下模式', '是否线下转线上', '线下转线上原因', '营业厅送货iccid','京东不可达原因']]\n",
    "# df = data.copy()"
   ]
  },
  {
   "cell_type": "code",
   "execution_count": 9,
   "metadata": {},
   "outputs": [
    {
     "data": {
      "text/plain": [
       "(910513, 44)"
      ]
     },
     "execution_count": 9,
     "metadata": {},
     "output_type": "execute_result"
    }
   ],
   "source": [
    "df.shape"
   ]
  },
  {
   "cell_type": "markdown",
   "metadata": {},
   "source": [
    "### 所在省/市/县/=\"//\"的删除"
   ]
  },
  {
   "cell_type": "code",
   "execution_count": 10,
   "metadata": {
    "scrolled": true
   },
   "outputs": [
    {
     "data": {
      "text/plain": [
       "北京/北京市/***                   59416\n",
       "广东/广州市/***                   21192\n",
       "广东/深圳市/***                   18160\n",
       "陕西/西安市/***                   17967\n",
       "河南/郑州市/***                   16970\n",
       "湖北/武汉市/***                   16443\n",
       "上海/上海市/***                   15619\n",
       "广东/东莞市/***                   14512\n",
       "重庆/重庆市/***                   13330\n",
       "湖南/长沙市/***                   11245\n",
       "河北/石家庄市/***                  10182\n",
       "四川/成都市/***                    9803\n",
       "云南/昆明市/***                    9590\n",
       "天津/天津市/***                    9219\n",
       "浙江/杭州市/***                    8724\n",
       "河南/南阳市/***                    8706\n",
       "江苏/苏州市/***                    8530\n",
       "广东/佛山市/***                    8259\n",
       "黑龙江/哈尔滨市/***                  7860\n",
       "吉林/长春市/***                    7777\n",
       "山东/青岛市/***                    7534\n",
       "辽宁/沈阳市/***                    7389\n",
       "吉林/吉林市/***                    6998\n",
       "黑龙江/绥化市/***                   6719\n",
       "山东/济南市/***                    6660\n",
       "山东/临沂市/***                    5815\n",
       "福建/福州市/***                    5602\n",
       "河北/廊坊市/***                    5525\n",
       "山东/潍坊市/***                    5513\n",
       "河北/唐山市/***                    5467\n",
       "                             ...  \n",
       "山东/济南市/*****                     1\n",
       "河北/邯郸市/*****                     1\n",
       "青海省/海南藏族自治州/***                  1\n",
       "云南省/临沧市/**                       1\n",
       "广东/东莞市/******                    1\n",
       "辽宁省/营口市/****                     1\n",
       "云南省/玉溪市/************             1\n",
       "贵州省/铜仁市/*******                  1\n",
       "河北省/衡水市/***                      1\n",
       "甘肃省/天水市/********                 1\n",
       "吉林省/长春市/*******                  1\n",
       "广东/揭阳市/*****                     1\n",
       "浙江/北京市/***                       1\n",
       "新疆维吾尔自治区/昌吉回族自治州/****            1\n",
       "内蒙古自治区/巴彦淖尔市/*****               1\n",
       "海南/琼海市/****                      1\n",
       "江苏/常州市/                          1\n",
       "内蒙古自治区/鄂尔多斯市/*****               1\n",
       "海南/三沙市/****                      1\n",
       "青海省/海东市/***                      1\n",
       "四川省/乐山市/****                     1\n",
       "广西壮族自治区/河池市/********             1\n",
       "吉林/                              1\n",
       "云南省/大理白族自治州/*********            1\n",
       "青海/果洛藏族自治州/****                  1\n",
       "新疆维吾尔自治区/克孜勒苏柯尔克孜自治州/****        1\n",
       "浙江省/丽水市/*******                  1\n",
       "云南省/普洱市/*************            1\n",
       "福建/福州市/**                        1\n",
       "湖北省/黄石市/****                     1\n",
       "Name: 所在省 / 市 / 县, Length: 1342, dtype: int64"
      ]
     },
     "execution_count": 10,
     "metadata": {},
     "output_type": "execute_result"
    }
   ],
   "source": [
    "df[\"所在省 / 市 / 县\"].value_counts()"
   ]
  },
  {
   "cell_type": "code",
   "execution_count": 11,
   "metadata": {},
   "outputs": [],
   "source": [
    "# 去“//”\n",
    "df = df[df[\"所在省 / 市 / 县\"].str.contains(\"^//$\",regex=True) == False]"
   ]
  },
  {
   "cell_type": "code",
   "execution_count": 12,
   "metadata": {
    "scrolled": true
   },
   "outputs": [
    {
     "data": {
      "text/plain": [
       "北京/北京市/***                   59416\n",
       "广东/广州市/***                   21192\n",
       "广东/深圳市/***                   18160\n",
       "陕西/西安市/***                   17967\n",
       "河南/郑州市/***                   16970\n",
       "湖北/武汉市/***                   16443\n",
       "上海/上海市/***                   15619\n",
       "广东/东莞市/***                   14512\n",
       "重庆/重庆市/***                   13330\n",
       "湖南/长沙市/***                   11245\n",
       "河北/石家庄市/***                  10182\n",
       "四川/成都市/***                    9803\n",
       "云南/昆明市/***                    9590\n",
       "天津/天津市/***                    9219\n",
       "浙江/杭州市/***                    8724\n",
       "河南/南阳市/***                    8706\n",
       "江苏/苏州市/***                    8530\n",
       "广东/佛山市/***                    8259\n",
       "黑龙江/哈尔滨市/***                  7860\n",
       "吉林/长春市/***                    7777\n",
       "山东/青岛市/***                    7534\n",
       "辽宁/沈阳市/***                    7389\n",
       "吉林/吉林市/***                    6998\n",
       "黑龙江/绥化市/***                   6719\n",
       "山东/济南市/***                    6660\n",
       "山东/临沂市/***                    5815\n",
       "福建/福州市/***                    5602\n",
       "河北/廊坊市/***                    5525\n",
       "山东/潍坊市/***                    5513\n",
       "河北/唐山市/***                    5467\n",
       "                             ...  \n",
       "山东/济南市/*****                     1\n",
       "河北/邯郸市/*****                     1\n",
       "青海省/海南藏族自治州/***                  1\n",
       "云南省/临沧市/**                       1\n",
       "广东/东莞市/******                    1\n",
       "辽宁省/营口市/****                     1\n",
       "云南省/玉溪市/************             1\n",
       "贵州省/铜仁市/*******                  1\n",
       "河北省/衡水市/***                      1\n",
       "甘肃省/天水市/********                 1\n",
       "吉林省/长春市/*******                  1\n",
       "广东/揭阳市/*****                     1\n",
       "浙江/北京市/***                       1\n",
       "新疆维吾尔自治区/昌吉回族自治州/****            1\n",
       "内蒙古自治区/巴彦淖尔市/*****               1\n",
       "海南/琼海市/****                      1\n",
       "江苏/常州市/                          1\n",
       "内蒙古自治区/鄂尔多斯市/*****               1\n",
       "海南/三沙市/****                      1\n",
       "青海省/海东市/***                      1\n",
       "四川省/乐山市/****                     1\n",
       "广西壮族自治区/河池市/********             1\n",
       "吉林/                              1\n",
       "云南省/大理白族自治州/*********            1\n",
       "青海/果洛藏族自治州/****                  1\n",
       "新疆维吾尔自治区/克孜勒苏柯尔克孜自治州/****        1\n",
       "浙江省/丽水市/*******                  1\n",
       "云南省/普洱市/*************            1\n",
       "福建/福州市/**                        1\n",
       "湖北省/黄石市/****                     1\n",
       "Name: 所在省 / 市 / 县, Length: 1342, dtype: int64"
      ]
     },
     "execution_count": 12,
     "metadata": {},
     "output_type": "execute_result"
    }
   ],
   "source": [
    "df[\"所在省 / 市 / 县\"].value_counts()"
   ]
  },
  {
   "cell_type": "markdown",
   "metadata": {},
   "source": [
    "### 统一所在省"
   ]
  },
  {
   "cell_type": "code",
   "execution_count": 13,
   "metadata": {},
   "outputs": [],
   "source": [
    "split = pd.DataFrame((x.split('/') for x in df['所在省 / 市 / 县']), index=df.index, columns=['所在省','所在市','所在县'])\n",
    "df = pd.merge(df,split,left_index=True,right_index=True)"
   ]
  },
  {
   "cell_type": "code",
   "execution_count": 14,
   "metadata": {},
   "outputs": [],
   "source": [
    "# 统一所在省\n",
    "dict_province = {'焦作市':'河南','河南省':'河南','河北省':'河北','贵州省':'贵州','湖南省':'湖南','广东省':'广东','江苏省':'江苏','山西省':'山西',\n",
    "    '吉林省':'吉林','山东省':'山东','广西壮族自治区':'广西','湖北省':'湖北','陕西省':'陕西','浙江省':'浙江','福建省':'福建',\n",
    "    '内蒙古自治区':'内蒙古','云南省':'云南','辽宁省':'辽宁','江西省':'江西','四川省':'四川','黑龙江省':'黑龙江','安徽省':'安徽',\n",
    "    '甘肃省':'甘肃','西藏自治区':'西藏','青海省':'青海','宁夏回族自治区':'宁夏',\n",
    "    '海南省':'海南','六安市':'安徽','东莞市':'广东','新疆维吾尔自治区':'新疆'}\n",
    "df = df.replace(dict_province)"
   ]
  },
  {
   "cell_type": "code",
   "execution_count": 15,
   "metadata": {},
   "outputs": [
    {
     "data": {
      "text/plain": [
       "广东     106444\n",
       "河南      72535\n",
       "北京      60546\n",
       "山东      58946\n",
       "河北      52562\n",
       "江苏      42895\n",
       "湖南      40641\n",
       "湖北      38396\n",
       "浙江      34904\n",
       "辽宁      33244\n",
       "黑龙江     32029\n",
       "陕西      30885\n",
       "吉林      29258\n",
       "四川      28482\n",
       "云南      24447\n",
       "福建      21729\n",
       "上海      20351\n",
       "广西      20210\n",
       "山西      19584\n",
       "内蒙古     17461\n",
       "重庆      16801\n",
       "贵州      15679\n",
       "安徽      14378\n",
       "江西      14303\n",
       "甘肃      12260\n",
       "天津      10346\n",
       "新疆       7274\n",
       "宁夏       4859\n",
       "海南       3246\n",
       "青海       1996\n",
       "西藏       1314\n",
       "北京市         3\n",
       "白山市         1\n",
       "Name: 所在省, dtype: int64"
      ]
     },
     "execution_count": 15,
     "metadata": {},
     "output_type": "execute_result"
    }
   ],
   "source": [
    "df[\"所在省\"].value_counts()"
   ]
  },
  {
   "cell_type": "markdown",
   "metadata": {},
   "source": [
    "### 号码归属地=\"/\"的删除"
   ]
  },
  {
   "cell_type": "code",
   "execution_count": 16,
   "metadata": {},
   "outputs": [
    {
     "data": {
      "text/plain": [
       "北京/市辖区                  97986\n",
       "上海市/市辖区                 23494\n",
       "广东省/广州市                 22289\n",
       "广东省/深圳市                 20845\n",
       "河南省/郑州市                 20054\n",
       "陕西省/西安市                 19440\n",
       "湖北省/武汉市                 17728\n",
       "重庆市/市辖区                 17004\n",
       "四川省/成都市                 13041\n",
       "广东省/东莞市                 12378\n",
       "浙江省/杭州市                 12017\n",
       "湖南省/长沙市                 11998\n",
       "天津市/市辖区                 11857\n",
       "云南省/昆明市                 10360\n",
       "河北省/石家庄市                10138\n",
       "河南省/南阳市                  8843\n",
       "江苏省/苏州市                  8607\n",
       "辽宁省/沈阳市                  8309\n",
       "黑龙江省/哈尔滨市                7993\n",
       "吉林省/长春市                  7797\n",
       "山东省/济南市                  7334\n",
       "广东省/佛山市                  7257\n",
       "山东省/青岛市                  7005\n",
       "江苏省/南京市                  6608\n",
       "辽宁省/大连市                  6492\n",
       "黑龙江省/绥化市                 6205\n",
       "吉林省/吉林市                  6170\n",
       "山东省/临沂市                  5867\n",
       "福建省/福州市                  5707\n",
       "福建省/厦门市                  5671\n",
       "                        ...  \n",
       "新疆维吾尔自治区/阿勒泰地区            209\n",
       "甘肃省/甘南藏族自治州               204\n",
       "甘肃省/嘉峪关市                  194\n",
       "四川省/阿坝藏族羌族自治州             190\n",
       "西藏自治区/日喀则地区               181\n",
       "四川省/甘孜藏族自治州               173\n",
       "云南省/怒江傈僳族自治州              172\n",
       "新疆维吾尔自治区/和田地区             137\n",
       "新疆维吾尔自治区/吐鲁番地区            136\n",
       "青海省/海西蒙古族藏族自治州            136\n",
       "新疆维吾尔自治区/哈密地区             130\n",
       "河南省/济源市                   116\n",
       "西藏自治区/阿里地区                115\n",
       "新疆维吾尔自治区/塔城地区             114\n",
       "云南省/迪庆藏族自治州               110\n",
       "新疆维吾尔自治区/克孜勒苏柯尔克孜自治州      109\n",
       "新疆维吾尔自治区/博尔塔拉蒙古自治州        107\n",
       "西藏自治区/山南地区                104\n",
       "新疆维吾尔自治区/奎屯市              103\n",
       "西藏自治区/昌都地区                 86\n",
       "青海省/格尔木市                   68\n",
       "青海省/玉树藏族自治州                61\n",
       "湖北省/林区（神农架）                61\n",
       "西藏自治区/那曲地区                 61\n",
       "西藏自治区/林芝地区                 61\n",
       "青海省/海南藏族自治州                53\n",
       "青海省/海北藏族自治州                46\n",
       "青海省/黄南藏族自治州                39\n",
       "青海省/果洛藏族自治州                24\n",
       "/                           6\n",
       "Name: 号码归属地, Length: 344, dtype: int64"
      ]
     },
     "execution_count": 16,
     "metadata": {},
     "output_type": "execute_result"
    }
   ],
   "source": [
    "df[\"号码归属地\"].value_counts()"
   ]
  },
  {
   "cell_type": "code",
   "execution_count": 17,
   "metadata": {},
   "outputs": [],
   "source": [
    "df = df[df[\"号码归属地\"].str.contains(\"^/$\",regex=True) == False]"
   ]
  },
  {
   "cell_type": "code",
   "execution_count": 18,
   "metadata": {},
   "outputs": [],
   "source": [
    "split1 = pd.DataFrame((x.split('/') for x in df['号码归属地']), index=df.index, columns=['号码归属省','号码归属市'])\n",
    "df = pd.merge(df,split1,left_index=True,right_index=True)"
   ]
  },
  {
   "cell_type": "code",
   "execution_count": 19,
   "metadata": {},
   "outputs": [
    {
     "data": {
      "text/plain": [
       "北京/市辖区                  97986\n",
       "上海市/市辖区                 23494\n",
       "广东省/广州市                 22289\n",
       "广东省/深圳市                 20845\n",
       "河南省/郑州市                 20054\n",
       "陕西省/西安市                 19440\n",
       "湖北省/武汉市                 17728\n",
       "重庆市/市辖区                 17004\n",
       "四川省/成都市                 13041\n",
       "广东省/东莞市                 12378\n",
       "浙江省/杭州市                 12017\n",
       "湖南省/长沙市                 11998\n",
       "天津市/市辖区                 11857\n",
       "云南省/昆明市                 10360\n",
       "河北省/石家庄市                10138\n",
       "河南省/南阳市                  8843\n",
       "江苏省/苏州市                  8607\n",
       "辽宁省/沈阳市                  8309\n",
       "黑龙江省/哈尔滨市                7993\n",
       "吉林省/长春市                  7797\n",
       "山东省/济南市                  7334\n",
       "广东省/佛山市                  7257\n",
       "山东省/青岛市                  7005\n",
       "江苏省/南京市                  6608\n",
       "辽宁省/大连市                  6492\n",
       "黑龙江省/绥化市                 6205\n",
       "吉林省/吉林市                  6170\n",
       "山东省/临沂市                  5867\n",
       "福建省/福州市                  5707\n",
       "福建省/厦门市                  5671\n",
       "                        ...  \n",
       "内蒙古自治区/阿拉善盟               213\n",
       "新疆维吾尔自治区/阿勒泰地区            209\n",
       "甘肃省/甘南藏族自治州               204\n",
       "甘肃省/嘉峪关市                  194\n",
       "四川省/阿坝藏族羌族自治州             190\n",
       "西藏自治区/日喀则地区               181\n",
       "四川省/甘孜藏族自治州               173\n",
       "云南省/怒江傈僳族自治州              172\n",
       "新疆维吾尔自治区/和田地区             137\n",
       "新疆维吾尔自治区/吐鲁番地区            136\n",
       "青海省/海西蒙古族藏族自治州            136\n",
       "新疆维吾尔自治区/哈密地区             130\n",
       "河南省/济源市                   116\n",
       "西藏自治区/阿里地区                115\n",
       "新疆维吾尔自治区/塔城地区             114\n",
       "云南省/迪庆藏族自治州               110\n",
       "新疆维吾尔自治区/克孜勒苏柯尔克孜自治州      109\n",
       "新疆维吾尔自治区/博尔塔拉蒙古自治州        107\n",
       "西藏自治区/山南地区                104\n",
       "新疆维吾尔自治区/奎屯市              103\n",
       "西藏自治区/昌都地区                 86\n",
       "青海省/格尔木市                   68\n",
       "西藏自治区/那曲地区                 61\n",
       "青海省/玉树藏族自治州                61\n",
       "湖北省/林区（神农架）                61\n",
       "西藏自治区/林芝地区                 61\n",
       "青海省/海南藏族自治州                53\n",
       "青海省/海北藏族自治州                46\n",
       "青海省/黄南藏族自治州                39\n",
       "青海省/果洛藏族自治州                24\n",
       "Name: 号码归属地, Length: 343, dtype: int64"
      ]
     },
     "execution_count": 19,
     "metadata": {},
     "output_type": "execute_result"
    }
   ],
   "source": [
    "df[\"号码归属地\"].value_counts()"
   ]
  },
  {
   "cell_type": "markdown",
   "metadata": {},
   "source": [
    "### 订单状态办理类的行删除"
   ]
  },
  {
   "cell_type": "code",
   "execution_count": 20,
   "metadata": {},
   "outputs": [],
   "source": [
    "df = df[df[\"订单状态\"].str.contains(\"办理\") == False]"
   ]
  },
  {
   "cell_type": "code",
   "execution_count": 21,
   "metadata": {},
   "outputs": [
    {
     "data": {
      "text/plain": [
       "交易完成        476313\n",
       "订单关闭        248058\n",
       "已发货          62366\n",
       "订单退回待关闭      61532\n",
       "订单信息审核失败     13802\n",
       "拆机中          13147\n",
       "退款成功          3106\n",
       "系统审核订单        2300\n",
       "已取消           1828\n",
       "订单生成等待上传      1580\n",
       "身份信息审核失败      1194\n",
       "激活失败           559\n",
       "订单照片上传中        535\n",
       "超期未激活          206\n",
       "开始备货           201\n",
       "支付成功            98\n",
       "身份照片核验失败        53\n",
       "激活中             43\n",
       "订单失效            24\n",
       "退款中             21\n",
       "身份信息审核成功        10\n",
       "撤单成功             5\n",
       "退款审核中            5\n",
       "已拒收              4\n",
       "身份信息审核中          1\n",
       "退款失败             1\n",
       "身份初审失败           1\n",
       "Name: 订单状态, dtype: int64"
      ]
     },
     "execution_count": 21,
     "metadata": {},
     "output_type": "execute_result"
    }
   ],
   "source": [
    "df[\"订单状态\"].value_counts()"
   ]
  },
  {
   "cell_type": "markdown",
   "metadata": {},
   "source": [
    "### 收货地址去空"
   ]
  },
  {
   "cell_type": "code",
   "execution_count": 22,
   "metadata": {},
   "outputs": [
    {
     "data": {
      "text/plain": [
       "False    886992\n",
       "Name: 收货地址, dtype: int64"
      ]
     },
     "execution_count": 22,
     "metadata": {},
     "output_type": "execute_result"
    }
   ],
   "source": [
    "df[\"收货地址\"].isnull().value_counts()\n",
    "df = df.dropna(subset=[\"收货地址\"])\n",
    "df[\"收货地址\"].isnull().value_counts()"
   ]
  },
  {
   "cell_type": "markdown",
   "metadata": {},
   "source": [
    "### 统一承运商名称"
   ]
  },
  {
   "cell_type": "code",
   "execution_count": 23,
   "metadata": {},
   "outputs": [
    {
     "data": {
      "text/plain": [
       "京东线下     528217\n",
       "EMS       43281\n",
       "京东物流      41143\n",
       "顺丰        29792\n",
       "中通         9294\n",
       "韵达         5779\n",
       "宅急送        4327\n",
       "营业厅送货      2480\n",
       "??         2268\n",
       "恒宇运通       1877\n",
       "测试订单         10\n",
       "商海德           5\n",
       "其他            2\n",
       "Name: 承运商, dtype: int64"
      ]
     },
     "execution_count": 23,
     "metadata": {},
     "output_type": "execute_result"
    }
   ],
   "source": [
    "dict_carrier ={\n",
    "    'ems':'EMS',\n",
    "    '邮政':'EMS',\n",
    "    '100000137':'圆通',\n",
    "    'ZHAIJISONG':'宅急送',\n",
    "    'jingdongwuliu':'京东物流',\n",
    "    'yunda':'韵达',\n",
    "    'shunfeng':'顺丰',\n",
    "    'EMS物流':'EMS',\n",
    "    'JDWL':'京东物流',\n",
    "    '顺丰物流':'顺丰'\n",
    "    \n",
    "}\n",
    "df =df.replace(dict_carrier)\n",
    "df[\"承运商\"].value_counts()"
   ]
  },
  {
   "cell_type": "code",
   "execution_count": 24,
   "metadata": {},
   "outputs": [
    {
     "data": {
      "text/plain": [
       "0    *****************\n",
       "1     ****************\n",
       "2    *****************\n",
       "Name: 收货地址, dtype: object"
      ]
     },
     "execution_count": 24,
     "metadata": {},
     "output_type": "execute_result"
    }
   ],
   "source": [
    "df[\"收货地址\"][0:3]"
   ]
  },
  {
   "cell_type": "code",
   "execution_count": 25,
   "metadata": {},
   "outputs": [],
   "source": [
    "df1 = df[[\"订单状态\",\"订单编号\"]]"
   ]
  },
  {
   "cell_type": "code",
   "execution_count": 28,
   "metadata": {
    "scrolled": true
   },
   "outputs": [],
   "source": [
    "df.to_csv(r\"G:\\work\\basic\\alter\\1904_info_alter_gai.csv\",index=False)"
   ]
  },
  {
   "cell_type": "code",
   "execution_count": null,
   "metadata": {},
   "outputs": [],
   "source": []
  }
 ],
 "metadata": {
  "kernelspec": {
   "display_name": "Python 3",
   "language": "python",
   "name": "python3"
  },
  "language_info": {
   "codemirror_mode": {
    "name": "ipython",
    "version": 3
   },
   "file_extension": ".py",
   "mimetype": "text/x-python",
   "name": "python",
   "nbconvert_exporter": "python",
   "pygments_lexer": "ipython3",
   "version": "3.6.6"
  }
 },
 "nbformat": 4,
 "nbformat_minor": 2
}
