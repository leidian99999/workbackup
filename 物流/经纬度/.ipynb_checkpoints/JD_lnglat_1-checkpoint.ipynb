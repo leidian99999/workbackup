{
 "cells": [
  {
   "cell_type": "code",
   "execution_count": 1,
   "metadata": {},
   "outputs": [],
   "source": [
    "import pandas as pd\n",
    "from geopy.distance import vincenty"
   ]
  },
  {
   "cell_type": "code",
   "execution_count": 2,
   "metadata": {},
   "outputs": [
    {
     "data": {
      "text/plain": [
       "(39258, 8)"
      ]
     },
     "execution_count": 2,
     "metadata": {},
     "output_type": "execute_result"
    }
   ],
   "source": [
    "data_old = pd.read_csv(r\"F:/temp/190408/1812JDlnglat.csv\")\n",
    "data_old.shape"
   ]
  },
  {
   "cell_type": "code",
   "execution_count": 3,
   "metadata": {},
   "outputs": [
    {
     "data": {
      "text/plain": [
       "(70243, 8)"
      ]
     },
     "execution_count": 3,
     "metadata": {},
     "output_type": "execute_result"
    }
   ],
   "source": [
    "data_new = pd.read_csv(r\"F:/temp/190408/1902JDlnglat.csv\")\n",
    "data_new.shape"
   ]
  },
  {
   "cell_type": "code",
   "execution_count": 4,
   "metadata": {},
   "outputs": [
    {
     "data": {
      "text/plain": [
       "Index(['订单编号', '承运商', 're_province_gaode', 're_city_gaode',\n",
       "       're_district_gaode', 're_siteLng_gaode', 're_siteLat_gaode',\n",
       "       're_location_gaode'],\n",
       "      dtype='object')"
      ]
     },
     "execution_count": 4,
     "metadata": {},
     "output_type": "execute_result"
    }
   ],
   "source": [
    "data_new.columns"
   ]
  },
  {
   "cell_type": "code",
   "execution_count": 5,
   "metadata": {},
   "outputs": [
    {
     "data": {
      "text/plain": [
       "(100, 8)"
      ]
     },
     "execution_count": 5,
     "metadata": {},
     "output_type": "execute_result"
    }
   ],
   "source": [
    "df_old = data_old[0:100]\n",
    "df_old.shape"
   ]
  },
  {
   "cell_type": "code",
   "execution_count": 6,
   "metadata": {},
   "outputs": [
    {
     "data": {
      "text/plain": [
       "(200, 8)"
      ]
     },
     "execution_count": 6,
     "metadata": {},
     "output_type": "execute_result"
    }
   ],
   "source": [
    "df_new = data_new[0:200]\n",
    "df_new.shape"
   ]
  },
  {
   "cell_type": "code",
   "execution_count": 7,
   "metadata": {
    "scrolled": true
   },
   "outputs": [
    {
     "data": {
      "text/html": [
       "<div>\n",
       "<style scoped>\n",
       "    .dataframe tbody tr th:only-of-type {\n",
       "        vertical-align: middle;\n",
       "    }\n",
       "\n",
       "    .dataframe tbody tr th {\n",
       "        vertical-align: top;\n",
       "    }\n",
       "\n",
       "    .dataframe thead th {\n",
       "        text-align: right;\n",
       "    }\n",
       "</style>\n",
       "<table border=\"1\" class=\"dataframe\">\n",
       "  <thead>\n",
       "    <tr style=\"text-align: right;\">\n",
       "      <th></th>\n",
       "      <th>订单编号</th>\n",
       "      <th>承运商</th>\n",
       "      <th>re_province_gaode</th>\n",
       "      <th>re_city_gaode</th>\n",
       "      <th>re_district_gaode</th>\n",
       "      <th>re_siteLng_gaode</th>\n",
       "      <th>re_siteLat_gaode</th>\n",
       "      <th>re_location_gaode</th>\n",
       "    </tr>\n",
       "  </thead>\n",
       "  <tbody>\n",
       "    <tr>\n",
       "      <th>0</th>\n",
       "      <td>690000000001008318120420508973</td>\n",
       "      <td>京东线下</td>\n",
       "      <td>江苏省</td>\n",
       "      <td>南京市</td>\n",
       "      <td>江宁区</td>\n",
       "      <td>118.809944</td>\n",
       "      <td>31.943942</td>\n",
       "      <td>118.809944,31.943942</td>\n",
       "    </tr>\n",
       "    <tr>\n",
       "      <th>1</th>\n",
       "      <td>690000000001008318120420508818</td>\n",
       "      <td>京东线下</td>\n",
       "      <td>湖北省</td>\n",
       "      <td>咸宁市</td>\n",
       "      <td>通山县</td>\n",
       "      <td>114.494307</td>\n",
       "      <td>29.601624</td>\n",
       "      <td>114.494307,29.601624</td>\n",
       "    </tr>\n",
       "    <tr>\n",
       "      <th>2</th>\n",
       "      <td>690000000001008318120420508726</td>\n",
       "      <td>京东线下</td>\n",
       "      <td>江苏省</td>\n",
       "      <td>苏州市</td>\n",
       "      <td>张家港市</td>\n",
       "      <td>120.553559</td>\n",
       "      <td>31.872070</td>\n",
       "      <td>120.553559,31.872070</td>\n",
       "    </tr>\n",
       "    <tr>\n",
       "      <th>3</th>\n",
       "      <td>690000000001008318120420508594</td>\n",
       "      <td>京东线下</td>\n",
       "      <td>云南省</td>\n",
       "      <td>曲靖市</td>\n",
       "      <td>师宗县</td>\n",
       "      <td>103.919803</td>\n",
       "      <td>24.699084</td>\n",
       "      <td>103.919803,24.699084</td>\n",
       "    </tr>\n",
       "    <tr>\n",
       "      <th>4</th>\n",
       "      <td>690000000001008318120420508550</td>\n",
       "      <td>京东线下</td>\n",
       "      <td>河南省</td>\n",
       "      <td>郑州市</td>\n",
       "      <td>中原区</td>\n",
       "      <td>113.497570</td>\n",
       "      <td>34.765543</td>\n",
       "      <td>113.497570,34.765543</td>\n",
       "    </tr>\n",
       "  </tbody>\n",
       "</table>\n",
       "</div>"
      ],
      "text/plain": [
       "                             订单编号   承运商 re_province_gaode re_city_gaode  \\\n",
       "0  690000000001008318120420508973  京东线下               江苏省           南京市   \n",
       "1  690000000001008318120420508818  京东线下               湖北省           咸宁市   \n",
       "2  690000000001008318120420508726  京东线下               江苏省           苏州市   \n",
       "3  690000000001008318120420508594  京东线下               云南省           曲靖市   \n",
       "4  690000000001008318120420508550  京东线下               河南省           郑州市   \n",
       "\n",
       "  re_district_gaode  re_siteLng_gaode  re_siteLat_gaode     re_location_gaode  \n",
       "0               江宁区        118.809944         31.943942  118.809944,31.943942  \n",
       "1               通山县        114.494307         29.601624  114.494307,29.601624  \n",
       "2              张家港市        120.553559         31.872070  120.553559,31.872070  \n",
       "3               师宗县        103.919803         24.699084  103.919803,24.699084  \n",
       "4               中原区        113.497570         34.765543  113.497570,34.765543  "
      ]
     },
     "execution_count": 7,
     "metadata": {},
     "output_type": "execute_result"
    }
   ],
   "source": [
    "df_old.head()"
   ]
  },
  {
   "cell_type": "code",
   "execution_count": 8,
   "metadata": {},
   "outputs": [
    {
     "name": "stdout",
     "output_type": "stream",
     "text": [
      "武汉市           11\n",
      "郑州市            9\n",
      "苏州市            8\n",
      "昆明市            7\n",
      "信阳市            4\n",
      "洛阳市            4\n",
      "无锡市            4\n",
      "南京市            3\n",
      "襄阳市            3\n",
      "安阳市            3\n",
      "宿迁市            3\n",
      "开封市            3\n",
      "玉溪市            3\n",
      "曲靖市            3\n",
      "黄冈市            2\n",
      "荆州市            2\n",
      "宜昌市            2\n",
      "驻马店市           2\n",
      "泰州市            2\n",
      "漯河市            2\n",
      "南阳市            2\n",
      "随州市            2\n",
      "南通市            2\n",
      "濮阳市            2\n",
      "楚雄彝族自治州        1\n",
      "咸宁市            1\n",
      "三门峡市           1\n",
      "许昌市            1\n",
      "连云港市           1\n",
      "周口市            1\n",
      "盐城市            1\n",
      "平顶山市           1\n",
      "恩施土家族苗族自治州     1\n",
      "黄石市            1\n",
      "商丘市            1\n",
      "镇江市            1\n",
      "Name: re_city_gaode, dtype: int64\n"
     ]
    }
   ],
   "source": [
    "print(df_old[\"re_city_gaode\"].value_counts())"
   ]
  },
  {
   "cell_type": "code",
   "execution_count": 9,
   "metadata": {},
   "outputs": [
    {
     "name": "stdout",
     "output_type": "stream",
     "text": [
      "郑州市           39\n",
      "洛阳市           26\n",
      "周口市           18\n",
      "安阳市           13\n",
      "新乡市           11\n",
      "商丘市           11\n",
      "开封市           10\n",
      "驻马店市          10\n",
      "平顶山市          10\n",
      "南阳市            9\n",
      "[]             8\n",
      "濮阳市            7\n",
      "信阳市            6\n",
      "许昌市            6\n",
      "漯河市            3\n",
      "苏州市            3\n",
      "三门峡市           2\n",
      "黄石市            2\n",
      "孝感市            1\n",
      "随州市            1\n",
      "焦作市            1\n",
      "红河哈尼族彝族自治州     1\n",
      "鹤壁市            1\n",
      "湖州市            1\n",
      "Name: re_city_gaode, dtype: int64\n"
     ]
    }
   ],
   "source": [
    "print(df_new[\"re_city_gaode\"].value_counts())"
   ]
  },
  {
   "cell_type": "code",
   "execution_count": 10,
   "metadata": {},
   "outputs": [
    {
     "data": {
      "text/plain": [
       "array(['南京市', '咸宁市', '苏州市', '曲靖市', '郑州市', '开封市', '南通市', '昆明市', '平顶山市',\n",
       "       '镇江市', '武汉市', '黄冈市', '濮阳市', '无锡市', '三门峡市', '宿迁市', '宜昌市', '漯河市',\n",
       "       '荆州市', '泰州市', '玉溪市', '洛阳市', '南阳市', '信阳市', '随州市', '驻马店市', '商丘市',\n",
       "       '襄阳市', '连云港市', '周口市', '黄石市', '安阳市', '楚雄彝族自治州', '许昌市', '恩施土家族苗族自治州',\n",
       "       '盐城市'], dtype=object)"
      ]
     },
     "execution_count": 10,
     "metadata": {},
     "output_type": "execute_result"
    }
   ],
   "source": [
    "sheng_list = df_old[\"re_city_gaode\"].unique()\n",
    "sheng_list"
   ]
  },
  {
   "cell_type": "code",
   "execution_count": 90,
   "metadata": {},
   "outputs": [],
   "source": [
    "def FenSheng(df_new,df_old,col_city,col_lng,col_lat):\n",
    "    sheng_list = df_old[col_city].unique()\n",
    "    print(sheng_list)\n",
    "    listA = []\n",
    "    for sheng in sheng_list:    \n",
    "        dfold = df_old[df_old[col_city] == sheng].reset_index(drop=True)\n",
    "        dfnew = df_new[df_new[col_city] == sheng].reset_index(drop=True)\n",
    "#         print(dfnew)\n",
    "#         print(\"**********************\")\n",
    "        if dfnew.empty == True:\n",
    "            print(sheng + \"：为空\")\n",
    "            pass\n",
    "        elif dfold.empty == True:\n",
    "            print(\"原所在市不存在\")\n",
    "            pass\n",
    "        else:\n",
    "            \n",
    "            for i in range(0,len(dfnew[col_lng])):\n",
    "                for j in range(0,len(dfold[col_lng])):\n",
    "                    start_lng = round(dfnew[col_lng][i],6)\n",
    "                    start_lat = round(dfnew[col_lat][i],6)\n",
    "                    end_lng = round(dfold[col_lng][j],6)\n",
    "                    end_lat = round(dfold[col_lat][j],6)\n",
    "                    start_lnglat = (start_lat,start_lng)\n",
    "                    end_lnglat = (end_lat,end_lng)\n",
    "                    a = vincenty(start_lnglat, end_lnglat).km\n",
    "                    listA.append(a)\n",
    "                print(str(sheng) + \"：已完成\")\n",
    "    return listA"
   ]
  },
  {
   "cell_type": "code",
   "execution_count": 91,
   "metadata": {},
   "outputs": [],
   "source": [
    "# listA = []\n",
    "# for i in range(0,len(df_new_sheng['re_location_gaode'])):\n",
    "#     for j in range(0,len(df_old_sheng['re_location_gaode'])):\n",
    "#         start_lng = round(df_new_sheng['re_siteLng_gaode'][i],6)\n",
    "#         start_lat = round(df_new_sheng['re_siteLat_gaode'][j],6)\n",
    "#         end_lng = round(df_old_sheng['re_siteLng_gaode'][j],6)\n",
    "#         end_lat = round(df_old_sheng['re_siteLat_gaode'][j],6)\n",
    "#         start_lnglat = (start_lat,start_lng)\n",
    "#         end_lnglat = (end_lat,end_lng)\n",
    "#         a = vincenty(start_lnglat, end_lnglat).km\n",
    "#         listA.append(a)"
   ]
  },
  {
   "cell_type": "code",
   "execution_count": 92,
   "metadata": {},
   "outputs": [
    {
     "name": "stdout",
     "output_type": "stream",
     "text": [
      "['南京市' '咸宁市' '苏州市' '曲靖市' '郑州市' '开封市' '南通市' '昆明市' '平顶山市' '镇江市' '武汉市' '黄冈市'\n",
      " '濮阳市' '无锡市' '三门峡市' '宿迁市' '宜昌市' '漯河市' '荆州市' '泰州市' '玉溪市' '洛阳市' '南阳市' '信阳市'\n",
      " '随州市' '驻马店市' '商丘市' '襄阳市' '连云港市' '周口市' '黄石市' '安阳市' '楚雄彝族自治州' '许昌市'\n",
      " '恩施土家族苗族自治州' '盐城市']\n",
      "南京市：为空\n",
      "咸宁市：为空\n",
      "苏州市：已完成\n",
      "苏州市：已完成\n",
      "苏州市：已完成\n",
      "曲靖市：为空\n",
      "郑州市：已完成\n",
      "郑州市：已完成\n",
      "郑州市：已完成\n",
      "郑州市：已完成\n",
      "郑州市：已完成\n",
      "郑州市：已完成\n",
      "郑州市：已完成\n",
      "郑州市：已完成\n",
      "郑州市：已完成\n",
      "郑州市：已完成\n",
      "郑州市：已完成\n",
      "郑州市：已完成\n",
      "郑州市：已完成\n",
      "郑州市：已完成\n",
      "郑州市：已完成\n",
      "郑州市：已完成\n",
      "郑州市：已完成\n",
      "郑州市：已完成\n",
      "郑州市：已完成\n",
      "郑州市：已完成\n",
      "郑州市：已完成\n",
      "郑州市：已完成\n",
      "郑州市：已完成\n",
      "郑州市：已完成\n",
      "郑州市：已完成\n",
      "郑州市：已完成\n",
      "郑州市：已完成\n",
      "郑州市：已完成\n",
      "郑州市：已完成\n",
      "郑州市：已完成\n",
      "郑州市：已完成\n",
      "郑州市：已完成\n",
      "郑州市：已完成\n",
      "郑州市：已完成\n",
      "郑州市：已完成\n",
      "郑州市：已完成\n",
      "郑州市：已完成\n",
      "郑州市：已完成\n",
      "郑州市：已完成\n",
      "开封市：已完成\n",
      "开封市：已完成\n",
      "开封市：已完成\n",
      "开封市：已完成\n",
      "开封市：已完成\n",
      "开封市：已完成\n",
      "开封市：已完成\n",
      "开封市：已完成\n",
      "开封市：已完成\n",
      "开封市：已完成\n",
      "南通市：为空\n",
      "昆明市：为空\n",
      "平顶山市：已完成\n",
      "平顶山市：已完成\n",
      "平顶山市：已完成\n",
      "平顶山市：已完成\n",
      "平顶山市：已完成\n",
      "平顶山市：已完成\n",
      "平顶山市：已完成\n",
      "平顶山市：已完成\n",
      "平顶山市：已完成\n",
      "平顶山市：已完成\n",
      "镇江市：为空\n",
      "武汉市：为空\n",
      "黄冈市：为空\n",
      "濮阳市：已完成\n",
      "濮阳市：已完成\n",
      "濮阳市：已完成\n",
      "濮阳市：已完成\n",
      "濮阳市：已完成\n",
      "濮阳市：已完成\n",
      "濮阳市：已完成\n",
      "无锡市：为空\n",
      "三门峡市：已完成\n",
      "三门峡市：已完成\n",
      "宿迁市：为空\n",
      "宜昌市：为空\n",
      "漯河市：已完成\n",
      "漯河市：已完成\n",
      "漯河市：已完成\n",
      "荆州市：为空\n",
      "泰州市：为空\n",
      "玉溪市：为空\n",
      "洛阳市：已完成\n",
      "洛阳市：已完成\n",
      "洛阳市：已完成\n",
      "洛阳市：已完成\n",
      "洛阳市：已完成\n",
      "洛阳市：已完成\n",
      "洛阳市：已完成\n",
      "洛阳市：已完成\n",
      "洛阳市：已完成\n",
      "洛阳市：已完成\n",
      "洛阳市：已完成\n",
      "洛阳市：已完成\n",
      "洛阳市：已完成\n",
      "洛阳市：已完成\n",
      "洛阳市：已完成"
     ]
    },
    {
     "name": "stderr",
     "output_type": "stream",
     "text": [
      "d:\\python\\envs\\jupyterpy36\\lib\\site-packages\\ipykernel_launcher.py:26: DeprecationWarning: Vincenty is deprecated and is going to be removed in geopy 2.0. Use `geopy.distance.geodesic` (or the default `geopy.distance.distance`) instead, which is more accurate and always converges.\n"
     ]
    },
    {
     "name": "stdout",
     "output_type": "stream",
     "text": [
      "\n",
      "洛阳市：已完成\n",
      "洛阳市：已完成\n",
      "洛阳市：已完成\n",
      "洛阳市：已完成\n",
      "洛阳市：已完成\n",
      "洛阳市：已完成\n",
      "洛阳市：已完成\n",
      "洛阳市：已完成\n",
      "洛阳市：已完成\n",
      "洛阳市：已完成\n",
      "洛阳市：已完成\n",
      "南阳市：已完成\n",
      "南阳市：已完成\n",
      "南阳市：已完成\n",
      "南阳市：已完成\n",
      "南阳市：已完成\n",
      "南阳市：已完成\n",
      "南阳市：已完成\n",
      "南阳市：已完成\n",
      "南阳市：已完成\n",
      "信阳市：已完成\n",
      "信阳市：已完成\n",
      "信阳市：已完成\n",
      "信阳市：已完成\n",
      "信阳市：已完成\n",
      "信阳市：已完成\n",
      "随州市：已完成\n",
      "驻马店市：已完成\n",
      "驻马店市：已完成\n",
      "驻马店市：已完成\n",
      "驻马店市：已完成\n",
      "驻马店市：已完成\n",
      "驻马店市：已完成\n",
      "驻马店市：已完成\n",
      "驻马店市：已完成\n",
      "驻马店市：已完成\n",
      "驻马店市：已完成\n",
      "商丘市：已完成\n",
      "商丘市：已完成\n",
      "商丘市：已完成\n",
      "商丘市：已完成\n",
      "商丘市：已完成\n",
      "商丘市：已完成\n",
      "商丘市：已完成\n",
      "商丘市：已完成\n",
      "商丘市：已完成\n",
      "商丘市：已完成\n",
      "商丘市：已完成\n",
      "襄阳市：为空\n",
      "连云港市：为空\n",
      "周口市：已完成\n",
      "周口市：已完成\n",
      "周口市：已完成\n",
      "周口市：已完成\n",
      "周口市：已完成\n",
      "周口市：已完成\n",
      "周口市：已完成\n",
      "周口市：已完成\n",
      "周口市：已完成\n",
      "周口市：已完成\n",
      "周口市：已完成\n",
      "周口市：已完成\n",
      "周口市：已完成\n",
      "周口市：已完成\n",
      "周口市：已完成\n",
      "周口市：已完成\n",
      "周口市：已完成\n",
      "周口市：已完成\n",
      "黄石市：已完成\n",
      "黄石市：已完成\n",
      "安阳市：已完成\n",
      "安阳市：已完成\n",
      "安阳市：已完成\n",
      "安阳市：已完成\n",
      "安阳市：已完成\n",
      "安阳市：已完成\n",
      "安阳市：已完成\n",
      "安阳市：已完成\n",
      "安阳市：已完成\n",
      "安阳市：已完成\n",
      "安阳市：已完成\n",
      "安阳市：已完成\n",
      "安阳市：已完成\n",
      "楚雄彝族自治州：为空\n",
      "许昌市：已完成\n",
      "许昌市：已完成\n",
      "许昌市：已完成\n",
      "许昌市：已完成\n",
      "许昌市：已完成\n",
      "许昌市：已完成\n",
      "恩施土家族苗族自治州：为空\n",
      "盐城市：为空\n"
     ]
    }
   ],
   "source": [
    "listA = FenSheng(df_new,df_old,\"re_city_gaode\",\"re_siteLng_gaode\",\"re_siteLat_gaode\")"
   ]
  },
  {
   "cell_type": "code",
   "execution_count": 94,
   "metadata": {},
   "outputs": [
    {
     "data": {
      "text/plain": [
       "list"
      ]
     },
     "execution_count": 94,
     "metadata": {},
     "output_type": "execute_result"
    }
   ],
   "source": [
    "type(listA)"
   ]
  },
  {
   "cell_type": "code",
   "execution_count": null,
   "metadata": {},
   "outputs": [],
   "source": []
  }
 ],
 "metadata": {
  "kernelspec": {
   "display_name": "Python 3",
   "language": "python",
   "name": "python3"
  },
  "language_info": {
   "codemirror_mode": {
    "name": "ipython",
    "version": 3
   },
   "file_extension": ".py",
   "mimetype": "text/x-python",
   "name": "python",
   "nbconvert_exporter": "python",
   "pygments_lexer": "ipython3",
   "version": "3.6.6"
  }
 },
 "nbformat": 4,
 "nbformat_minor": 2
}
