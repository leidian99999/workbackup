{
 "cells": [
  {
   "cell_type": "code",
   "execution_count": 1,
   "metadata": {},
   "outputs": [],
   "source": [
    "import pandas as pd \n",
    "import datetime"
   ]
  },
  {
   "cell_type": "code",
   "execution_count": 2,
   "metadata": {},
   "outputs": [],
   "source": [
    "data1 = pd.read_excel(r\"G:\\work\\logistica\\stations\\JDStations\\stations\\gaode/JDstations_beijing_gaode.xlsx\")\n",
    "df_station = data1[[\"JD_siteName\",\"JD_siteLng_gaode\",\"JD_siteLat_gaode\",\"JD_siteDistrict_gaode\",\"JD_siteCity_gaode\"]]\n",
    "# df_station.head()"
   ]
  },
  {
   "cell_type": "code",
   "execution_count": 3,
   "metadata": {},
   "outputs": [],
   "source": [
    "data2_WL = pd.read_excel(r\"G:\\work\\logistica\\info\\output\\CHA\\all\\1901_JDWL.xlsx\",header=None,skiprows=[0])\n",
    "data2_XX = pd.read_excel(r\"G:\\work\\logistica\\info\\output\\CHA\\all\\1901_JDXX.xlsx\",header=None,skiprows=[0])\n",
    "data2 = pd.concat([data2_WL,data2_XX])\n",
    "data2.columns = ['ORDER_ID','MAIL_NO','ROUTE_TIME','JD_deliveryman_name','JD_deliveryman_tel','ROUTE_TIME','LOGISTICS_COMPANY','JD_lastStation','JD_status']\n",
    "df_log = data2.copy()"
   ]
  },
  {
   "cell_type": "code",
   "execution_count": 4,
   "metadata": {
    "scrolled": true
   },
   "outputs": [
    {
     "name": "stderr",
     "output_type": "stream",
     "text": [
      "d:\\python\\envs\\jupyterpy36\\lib\\site-packages\\IPython\\core\\interactiveshell.py:2785: DtypeWarning: Columns (11,17,18) have mixed types. Specify dtype option on import or set low_memory=False.\n",
      "  interactivity=interactivity, compiler=compiler, result=result)\n"
     ]
    }
   ],
   "source": [
    "data3 = pd.read_csv(r\"G:\\work\\basic\\alter/1901_info_alter_gai.csv\")"
   ]
  },
  {
   "cell_type": "code",
   "execution_count": 5,
   "metadata": {},
   "outputs": [
    {
     "data": {
      "text/plain": [
       "(714453, 48)"
      ]
     },
     "execution_count": 5,
     "metadata": {},
     "output_type": "execute_result"
    }
   ],
   "source": [
    "data3.shape"
   ]
  },
  {
   "cell_type": "code",
   "execution_count": 6,
   "metadata": {},
   "outputs": [],
   "source": [
    "df_info = data3[data3[\"所在省\"] == \"北京\"]"
   ]
  },
  {
   "cell_type": "code",
   "execution_count": 7,
   "metadata": {
    "scrolled": true
   },
   "outputs": [
    {
     "data": {
      "text/plain": [
       "Index(['JD_siteName', 'JD_siteLng_gaode', 'JD_siteLat_gaode',\n",
       "       'JD_siteDistrict_gaode', 'JD_siteCity_gaode'],\n",
       "      dtype='object')"
      ]
     },
     "execution_count": 7,
     "metadata": {},
     "output_type": "execute_result"
    }
   ],
   "source": [
    "df_station.columns"
   ]
  },
  {
   "cell_type": "code",
   "execution_count": 8,
   "metadata": {
    "scrolled": false
   },
   "outputs": [
    {
     "data": {
      "text/plain": [
       "Index(['ORDER_ID', 'MAIL_NO', 'ROUTE_TIME', 'JD_deliveryman_name',\n",
       "       'JD_deliveryman_tel', 'ROUTE_TIME', 'LOGISTICS_COMPANY',\n",
       "       'JD_lastStation', 'JD_status'],\n",
       "      dtype='object')"
      ]
     },
     "execution_count": 8,
     "metadata": {},
     "output_type": "execute_result"
    }
   ],
   "source": [
    "df_log.columns"
   ]
  },
  {
   "cell_type": "code",
   "execution_count": 9,
   "metadata": {},
   "outputs": [
    {
     "data": {
      "text/plain": [
       "Index(['订单编号', '订单状态', '订单子状态', '订单挂起原因', '安装失败原因', '订单来源', '店铺', '订单金额',\n",
       "       '订单生成时间', '交易完成时间', '发货时间', '物流单回填时间', '入网用户姓名', '入网身份证号', '入网手机号',\n",
       "       '收货人姓名', '收货地址', '收货人电话号码', '邮编', '所在省 / 市 / 县', '号码归属地', 'CPS推荐人',\n",
       "       '订单备注', '物流单号', '物流签收时间', '承运商', '大小卡类型', '写卡渠道', '销售品编号', '销售品名称',\n",
       "       '销售品类型', '套餐', '主号码', '副号码', '现金预存款', '靓号低消', '靓号等级', '靓号预存款',\n",
       "       '营业厅送货方式', '是否线下模式', '是否线下转线上', '线下转线上原因', '营业厅送货iccid', '所在省', '所在市',\n",
       "       '所在县', '号码归属省', '号码归属市'],\n",
       "      dtype='object')"
      ]
     },
     "execution_count": 9,
     "metadata": {},
     "output_type": "execute_result"
    }
   ],
   "source": [
    "df_info.columns"
   ]
  },
  {
   "cell_type": "code",
   "execution_count": 10,
   "metadata": {},
   "outputs": [
    {
     "name": "stdout",
     "output_type": "stream",
     "text": [
      "  df_info: (38648, 48)\n",
      "  df_log: (103563, 9)\n",
      "  df_station: (662, 5)\n"
     ]
    }
   ],
   "source": [
    "print(\"  df_info:\",df_info.shape)\n",
    "print(\"  df_log:\",df_log.shape)\n",
    "print(\"  df_station:\",df_station.shape)"
   ]
  },
  {
   "cell_type": "code",
   "execution_count": 11,
   "metadata": {},
   "outputs": [
    {
     "name": "stderr",
     "output_type": "stream",
     "text": [
      "d:\\python\\envs\\jupyterpy36\\lib\\site-packages\\ipykernel_launcher.py:1: SettingWithCopyWarning: \n",
      "A value is trying to be set on a copy of a slice from a DataFrame.\n",
      "Try using .loc[row_indexer,col_indexer] = value instead\n",
      "\n",
      "See the caveats in the documentation: http://pandas.pydata.org/pandas-docs/stable/indexing.html#indexing-view-versus-copy\n",
      "  \"\"\"Entry point for launching an IPython kernel.\n"
     ]
    }
   ],
   "source": [
    "df_info['订单编号'] = df_info['订单编号'].map(lambda x:str(x))\n",
    "df_log['ORDER_ID'] = df_log['ORDER_ID'].map(lambda x:str(x))"
   ]
  },
  {
   "cell_type": "code",
   "execution_count": 12,
   "metadata": {},
   "outputs": [],
   "source": [
    "# df1 = pd.merge(df_info,df_log,how=\"inner\",left_on='订单编号',right_on='ORDER_ID')"
   ]
  },
  {
   "cell_type": "code",
   "execution_count": 13,
   "metadata": {
    "scrolled": true
   },
   "outputs": [],
   "source": [
    "# df1.shape"
   ]
  },
  {
   "cell_type": "code",
   "execution_count": 14,
   "metadata": {},
   "outputs": [],
   "source": [
    "# df2 = pd.merge(df1,df_station,how=\"left\",left_on=\"JD_lastStation\",right_on=\"JD_siteName\")"
   ]
  },
  {
   "cell_type": "code",
   "execution_count": 15,
   "metadata": {
    "scrolled": true
   },
   "outputs": [],
   "source": [
    "# df2.shape"
   ]
  },
  {
   "cell_type": "code",
   "execution_count": 16,
   "metadata": {},
   "outputs": [],
   "source": [
    "df = pd.merge(pd.merge(df_info,df_log,how=\"inner\",left_on='订单编号',right_on='ORDER_ID'),df_station,how=\"left\",left_on=\"JD_lastStation\",right_on=\"JD_siteName\")"
   ]
  },
  {
   "cell_type": "code",
   "execution_count": 17,
   "metadata": {},
   "outputs": [
    {
     "data": {
      "text/plain": [
       "(5573, 62)"
      ]
     },
     "execution_count": 17,
     "metadata": {},
     "output_type": "execute_result"
    }
   ],
   "source": [
    "df.shape"
   ]
  },
  {
   "cell_type": "code",
   "execution_count": 18,
   "metadata": {},
   "outputs": [],
   "source": [
    "df[\"订单生成时间\"] = pd.to_datetime(df[\"订单生成时间\"])\n",
    "df[\"交易完成时间\"] = pd.to_datetime(df[\"交易完成时间\"])\n",
    "df[\"发货时间\"] = pd.to_datetime(df[\"发货时间\"])\n",
    "df[\"物流签收时间\"] = pd.to_datetime(df[\"物流签收时间\"])"
   ]
  },
  {
   "cell_type": "code",
   "execution_count": 19,
   "metadata": {
    "scrolled": true
   },
   "outputs": [
    {
     "name": "stdout",
     "output_type": "stream",
     "text": [
      "<class 'pandas.core.frame.DataFrame'>\n",
      "Int64Index: 5573 entries, 0 to 5572\n",
      "Data columns (total 62 columns):\n",
      "订单编号                     5573 non-null object\n",
      "订单状态                     5573 non-null object\n",
      "订单子状态                    952 non-null object\n",
      "订单挂起原因                   3 non-null object\n",
      "安装失败原因                   0 non-null float64\n",
      "订单来源                     5573 non-null object\n",
      "店铺                       5573 non-null object\n",
      "订单金额                     5573 non-null float64\n",
      "订单生成时间                   5573 non-null datetime64[ns]\n",
      "交易完成时间                   5015 non-null datetime64[ns]\n",
      "发货时间                     5573 non-null datetime64[ns]\n",
      "物流单回填时间                  0 non-null object\n",
      "入网用户姓名                   5573 non-null object\n",
      "入网身份证号                   5573 non-null object\n",
      "入网手机号                    5573 non-null int64\n",
      "收货人姓名                    5573 non-null object\n",
      "收货地址                     5573 non-null object\n",
      "收货人电话号码                  5573 non-null object\n",
      "邮编                       4966 non-null object\n",
      "所在省 / 市 / 县              5573 non-null object\n",
      "号码归属地                    5573 non-null object\n",
      "CPS推荐人                   5254 non-null object\n",
      "订单备注                     196 non-null object\n",
      "物流单号                     5573 non-null object\n",
      "物流签收时间                   5573 non-null datetime64[ns]\n",
      "承运商                      5573 non-null object\n",
      "大小卡类型                    4999 non-null object\n",
      "写卡渠道                     5573 non-null object\n",
      "销售品编号                    5573 non-null int64\n",
      "销售品名称                    5573 non-null object\n",
      "销售品类型                    5573 non-null object\n",
      "套餐                       5573 non-null object\n",
      "主号码                      5573 non-null int64\n",
      "副号码                      1536 non-null float64\n",
      "现金预存款                    15 non-null object\n",
      "靓号低消                     4037 non-null float64\n",
      "靓号等级                     4037 non-null float64\n",
      "靓号预存款                    4037 non-null float64\n",
      "营业厅送货方式                  3354 non-null object\n",
      "是否线下模式                   3354 non-null object\n",
      "是否线下转线上                  5 non-null object\n",
      "线下转线上原因                  2 non-null object\n",
      "营业厅送货iccid               3354 non-null float64\n",
      "所在省                      5573 non-null object\n",
      "所在市                      5573 non-null object\n",
      "所在县                      5573 non-null object\n",
      "号码归属省                    5573 non-null object\n",
      "号码归属市                    5573 non-null object\n",
      "ORDER_ID                 5573 non-null object\n",
      "MAIL_NO                  5573 non-null object\n",
      "ROUTE_TIME               5573 non-null object\n",
      "JD_deliveryman_name      5573 non-null object\n",
      "JD_deliveryman_tel       5573 non-null object\n",
      "ROUTE_TIME               5573 non-null object\n",
      "LOGISTICS_COMPANY        5573 non-null object\n",
      "JD_lastStation           5573 non-null object\n",
      "JD_status                5573 non-null object\n",
      "JD_siteName              5489 non-null object\n",
      "JD_siteLng_gaode         5489 non-null float64\n",
      "JD_siteLat_gaode         5489 non-null float64\n",
      "JD_siteDistrict_gaode    5489 non-null object\n",
      "JD_siteCity_gaode        5489 non-null object\n",
      "dtypes: datetime64[ns](4), float64(9), int64(3), object(46)\n",
      "memory usage: 2.7+ MB\n"
     ]
    }
   ],
   "source": [
    "df.info()"
   ]
  },
  {
   "cell_type": "code",
   "execution_count": 20,
   "metadata": {},
   "outputs": [],
   "source": [
    "df[\"发货时效\"] = round((df[\"发货时间\"] - df[\"订单生成时间\"]).dt.total_seconds() / 3600,0).map(lambda x:int(x))\n",
    "df[\"签收时效\"] = round((df[\"物流签收时间\"] - df[\"发货时间\"]).dt.total_seconds() / 3600,0).map(lambda x:int(x))\n",
    "df[\"激活时效\"] = round((df[\"交易完成时间\"] - df[\"订单生成时间\"]).dt.total_seconds() / 3600,0).fillna(-1).map(lambda x:int(x))"
   ]
  },
  {
   "cell_type": "code",
   "execution_count": 21,
   "metadata": {},
   "outputs": [],
   "source": [
    "def get_sex(str1):\n",
    "    #查看性别\n",
    "    if str1 % 2 ==0:\n",
    "        return '女'\n",
    "    else:\n",
    "        return '男'"
   ]
  },
  {
   "cell_type": "code",
   "execution_count": 22,
   "metadata": {},
   "outputs": [],
   "source": [
    "df['性别'] = df[\"入网身份证号\"].str.slice(16,17).map(lambda x:int(x)).apply(get_sex)"
   ]
  },
  {
   "cell_type": "code",
   "execution_count": 23,
   "metadata": {},
   "outputs": [],
   "source": [
    "# 区分年龄段\n",
    "df['生日'] = pd.to_datetime(df['入网身份证号'].str[6:14])"
   ]
  },
  {
   "cell_type": "code",
   "execution_count": 24,
   "metadata": {},
   "outputs": [],
   "source": [
    "now_year =datetime.datetime.today().year #当前的年份\n",
    "df['年龄']=now_year-df[\"生日\"].dt.year"
   ]
  },
  {
   "cell_type": "code",
   "execution_count": 25,
   "metadata": {},
   "outputs": [
    {
     "name": "stdout",
     "output_type": "stream",
     "text": [
      "<class 'pandas.core.frame.DataFrame'>\n",
      "Int64Index: 5573 entries, 0 to 5572\n",
      "Data columns (total 68 columns):\n",
      "订单编号                     5573 non-null object\n",
      "订单状态                     5573 non-null object\n",
      "订单子状态                    952 non-null object\n",
      "订单挂起原因                   3 non-null object\n",
      "安装失败原因                   0 non-null float64\n",
      "订单来源                     5573 non-null object\n",
      "店铺                       5573 non-null object\n",
      "订单金额                     5573 non-null float64\n",
      "订单生成时间                   5573 non-null datetime64[ns]\n",
      "交易完成时间                   5015 non-null datetime64[ns]\n",
      "发货时间                     5573 non-null datetime64[ns]\n",
      "物流单回填时间                  0 non-null object\n",
      "入网用户姓名                   5573 non-null object\n",
      "入网身份证号                   5573 non-null object\n",
      "入网手机号                    5573 non-null int64\n",
      "收货人姓名                    5573 non-null object\n",
      "收货地址                     5573 non-null object\n",
      "收货人电话号码                  5573 non-null object\n",
      "邮编                       4966 non-null object\n",
      "所在省 / 市 / 县              5573 non-null object\n",
      "号码归属地                    5573 non-null object\n",
      "CPS推荐人                   5254 non-null object\n",
      "订单备注                     196 non-null object\n",
      "物流单号                     5573 non-null object\n",
      "物流签收时间                   5573 non-null datetime64[ns]\n",
      "承运商                      5573 non-null object\n",
      "大小卡类型                    4999 non-null object\n",
      "写卡渠道                     5573 non-null object\n",
      "销售品编号                    5573 non-null int64\n",
      "销售品名称                    5573 non-null object\n",
      "销售品类型                    5573 non-null object\n",
      "套餐                       5573 non-null object\n",
      "主号码                      5573 non-null int64\n",
      "副号码                      1536 non-null float64\n",
      "现金预存款                    15 non-null object\n",
      "靓号低消                     4037 non-null float64\n",
      "靓号等级                     4037 non-null float64\n",
      "靓号预存款                    4037 non-null float64\n",
      "营业厅送货方式                  3354 non-null object\n",
      "是否线下模式                   3354 non-null object\n",
      "是否线下转线上                  5 non-null object\n",
      "线下转线上原因                  2 non-null object\n",
      "营业厅送货iccid               3354 non-null float64\n",
      "所在省                      5573 non-null object\n",
      "所在市                      5573 non-null object\n",
      "所在县                      5573 non-null object\n",
      "号码归属省                    5573 non-null object\n",
      "号码归属市                    5573 non-null object\n",
      "ORDER_ID                 5573 non-null object\n",
      "MAIL_NO                  5573 non-null object\n",
      "ROUTE_TIME               5573 non-null object\n",
      "JD_deliveryman_name      5573 non-null object\n",
      "JD_deliveryman_tel       5573 non-null object\n",
      "ROUTE_TIME               5573 non-null object\n",
      "LOGISTICS_COMPANY        5573 non-null object\n",
      "JD_lastStation           5573 non-null object\n",
      "JD_status                5573 non-null object\n",
      "JD_siteName              5489 non-null object\n",
      "JD_siteLng_gaode         5489 non-null float64\n",
      "JD_siteLat_gaode         5489 non-null float64\n",
      "JD_siteDistrict_gaode    5489 non-null object\n",
      "JD_siteCity_gaode        5489 non-null object\n",
      "发货时效                     5573 non-null int64\n",
      "签收时效                     5573 non-null int64\n",
      "激活时效                     5573 non-null int64\n",
      "性别                       5573 non-null object\n",
      "生日                       5573 non-null datetime64[ns]\n",
      "年龄                       5573 non-null int64\n",
      "dtypes: datetime64[ns](5), float64(9), int64(7), object(47)\n",
      "memory usage: 2.9+ MB\n"
     ]
    }
   ],
   "source": [
    "df.info()"
   ]
  },
  {
   "cell_type": "code",
   "execution_count": 40,
   "metadata": {},
   "outputs": [
    {
     "data": {
      "text/plain": [
       "北京水城营业部         71\n",
       "北京沙河营业部         66\n",
       "北京霍营乡营业部        45\n",
       "北京辉煌国际营业部       44\n",
       "北京歇甲村营业部        41\n",
       "北京大红门营业部        40\n",
       "北京宏福苑营业部        40\n",
       "北京领航营业部         39\n",
       "北京上地营业部         39\n",
       "北京天宫院营业部        38\n",
       "北京海淀营业部         38\n",
       "北京酒仙桥营业部        37\n",
       "北京首都机场营业部       37\n",
       "北京花园路营业部        35\n",
       "北京青塔营业部         35\n",
       "北京回龙观营业部        35\n",
       "北京安宁里营业部        34\n",
       "北京东大桥营业部        33\n",
       "北京航天城营业部        33\n",
       "北京马池口营业部        33\n",
       "北京踩河营业部         32\n",
       "北京韩家川营业部        32\n",
       "北京南沙滩营业部        32\n",
       "北京总部基地营业部       31\n",
       "北京永旺营业部         31\n",
       "北京马连道营业部        31\n",
       "北京龙华园营业部        31\n",
       "北京吉祥里营业部        30\n",
       "北京昌平营业部         30\n",
       "北京瑞祥营业部         29\n",
       "                ..\n",
       "北京领峰营业部          3\n",
       "北京密云营业部          3\n",
       "北京模式口营业部         3\n",
       "北京大石窝营业部         3\n",
       "北京星河城营业部         3\n",
       "北京宁馨苑营业部         3\n",
       "北京行宫园营业部         2\n",
       "北京太师屯营业部         2\n",
       "北京大马庄营业部         2\n",
       "北京梨园营业部          2\n",
       "北京三槐堂营业部         2\n",
       "北京北航营业部          2\n",
       "北京礼贤营业部          2\n",
       "北京月季园营业部         1\n",
       "北京大学营业部          1\n",
       "北京旭辉营业部          1\n",
       "北京佛子庄营业部         1\n",
       "北京万泉庄营业部         1\n",
       "北京东柏街营业部         1\n",
       "北京张山营营业部         1\n",
       "北京大有庄营业部         1\n",
       "北京双裕花园营业部        1\n",
       "北京李家巷营业部         1\n",
       "北京劲松营业部          1\n",
       "北京通州营业部          1\n",
       "北京文慧园营业部         1\n",
       "北京地坛营业部          1\n",
       "北京多彩嘉园虚拟站        1\n",
       "北京装甲兵工程学院京东派     1\n",
       "北京后夏公庄营业部        1\n",
       "Name: JD_lastStation, Length: 368, dtype: int64"
      ]
     },
     "execution_count": 40,
     "metadata": {},
     "output_type": "execute_result"
    }
   ],
   "source": [
    "df11[\"JD_lastStation\"].value_counts()"
   ]
  },
  {
   "cell_type": "code",
   "execution_count": null,
   "metadata": {},
   "outputs": [],
   "source": []
  },
  {
   "cell_type": "code",
   "execution_count": 31,
   "metadata": {},
   "outputs": [
    {
     "data": {
      "text/plain": [
       "False    5489\n",
       "True       84\n",
       "Name: JD_siteName, dtype: int64"
      ]
     },
     "execution_count": 31,
     "metadata": {},
     "output_type": "execute_result"
    }
   ],
   "source": [
    "# df.to_excel(r\"G:\\work\\basic/BJ_JD_df2.xlsx\",index=False)"
   ]
  },
  {
   "cell_type": "code",
   "execution_count": 32,
   "metadata": {},
   "outputs": [
    {
     "data": {
      "text/plain": [
       "False    5489\n",
       "True       84\n",
       "Name: JD_siteName, dtype: int64"
      ]
     },
     "execution_count": 32,
     "metadata": {},
     "output_type": "execute_result"
    }
   ],
   "source": [
    "df[\"JD_siteName\"].isnull().value_counts()"
   ]
  },
  {
   "cell_type": "code",
   "execution_count": 37,
   "metadata": {},
   "outputs": [],
   "source": [
    "import numpy as np\n",
    "df11 = df[pd.notnull(df['JD_siteName'])]"
   ]
  },
  {
   "cell_type": "code",
   "execution_count": 38,
   "metadata": {},
   "outputs": [
    {
     "data": {
      "text/plain": [
       "(5489, 68)"
      ]
     },
     "execution_count": 38,
     "metadata": {},
     "output_type": "execute_result"
    }
   ],
   "source": [
    "df11.shape"
   ]
  },
  {
   "cell_type": "code",
   "execution_count": null,
   "metadata": {},
   "outputs": [],
   "source": []
  }
 ],
 "metadata": {
  "kernelspec": {
   "display_name": "Python 3",
   "language": "python",
   "name": "python3"
  },
  "language_info": {
   "codemirror_mode": {
    "name": "ipython",
    "version": 3
   },
   "file_extension": ".py",
   "mimetype": "text/x-python",
   "name": "python",
   "nbconvert_exporter": "python",
   "pygments_lexer": "ipython3",
   "version": "3.6.6"
  }
 },
 "nbformat": 4,
 "nbformat_minor": 2
}
