{
 "cells": [
  {
   "cell_type": "code",
   "execution_count": 1,
   "metadata": {},
   "outputs": [],
   "source": [
    "import pandas as pd\n",
    "from geopy.distance import vincenty"
   ]
  },
  {
   "cell_type": "code",
   "execution_count": 2,
   "metadata": {},
   "outputs": [
    {
     "data": {
      "text/plain": [
       "(1, 8)"
      ]
     },
     "execution_count": 2,
     "metadata": {},
     "output_type": "execute_result"
    }
   ],
   "source": [
    "dataA = pd.read_excel(r\"F:/temp/190408/testA.xlsx\")\n",
    "dataA.shape"
   ]
  },
  {
   "cell_type": "code",
   "execution_count": 3,
   "metadata": {},
   "outputs": [
    {
     "data": {
      "text/plain": [
       "(99, 8)"
      ]
     },
     "execution_count": 3,
     "metadata": {},
     "output_type": "execute_result"
    }
   ],
   "source": [
    "dataB = pd.read_excel(r\"F:/temp/190408/testB.xlsx\")\n",
    "dataB.shape"
   ]
  },
  {
   "cell_type": "code",
   "execution_count": 5,
   "metadata": {},
   "outputs": [
    {
     "data": {
      "text/plain": [
       "Index(['订单编号', '承运商', 're_province_gaode', 're_city_gaode',\n",
       "       're_district_gaode', 're_siteLng_gaode', 're_siteLat_gaode',\n",
       "       're_location_gaode'],\n",
       "      dtype='object')"
      ]
     },
     "execution_count": 5,
     "metadata": {},
     "output_type": "execute_result"
    }
   ],
   "source": [
    "dataA.columns"
   ]
  },
  {
   "cell_type": "code",
   "execution_count": 6,
   "metadata": {},
   "outputs": [
    {
     "data": {
      "text/plain": [
       "Index(['订单编号', '承运商', 're_province_gaode', 're_city_gaode',\n",
       "       're_district_gaode', 're_siteLng_gaode', 're_siteLat_gaode',\n",
       "       're_location_gaode'],\n",
       "      dtype='object')"
      ]
     },
     "execution_count": 6,
     "metadata": {},
     "output_type": "execute_result"
    }
   ],
   "source": [
    "dataB.columns"
   ]
  },
  {
   "cell_type": "code",
   "execution_count": 7,
   "metadata": {},
   "outputs": [],
   "source": [
    "def FenSheng(df_new,df_old,col_city,col_lng,col_lat):\n",
    "    sheng_list = df_old[col_city].unique()\n",
    "    print(sheng_list)\n",
    "#     listA = []\n",
    "    dfA = pd.DataFrame()\n",
    "    for sheng in sheng_list:    \n",
    "        dfold = df_old[df_old[col_city] == sheng].reset_index(drop=True)\n",
    "        dfnew = df_new[df_new[col_city] == sheng].reset_index(drop=True)\n",
    "#         print(dfnew)\n",
    "#         print(\"**********************\")\n",
    "        if dfnew.empty == True:\n",
    "            print(sheng + \"：为空\")\n",
    "            pass\n",
    "        elif dfold.empty == True:\n",
    "            print(\"原所在市不存在\")\n",
    "            pass\n",
    "        else:\n",
    "            \n",
    "            for i in range(0,len(dfnew[col_lng])):\n",
    "                for j in range(0,len(dfold[col_lng])):\n",
    "                    start_lng = round(dfnew[col_lng][i],6)\n",
    "                    start_lat = round(dfnew[col_lat][i],6)\n",
    "                    end_lng = round(dfold[col_lng][j],6)\n",
    "                    end_lat = round(dfold[col_lat][j],6)\n",
    "                    start_lnglat = (start_lat,start_lng)\n",
    "                    end_lnglat = (end_lat,end_lng)\n",
    "                    a = vincenty(start_lnglat, end_lnglat).km\n",
    "                    listA.append(a)\n",
    "            print(str(sheng) + \"：已完成\")\n",
    "    return listA"
   ]
  },
  {
   "cell_type": "code",
   "execution_count": 8,
   "metadata": {},
   "outputs": [
    {
     "name": "stdout",
     "output_type": "stream",
     "text": [
      "['信阳市']\n",
      "信阳市：已完成\n"
     ]
    },
    {
     "name": "stderr",
     "output_type": "stream",
     "text": [
      "d:\\python\\envs\\jupyterpy36\\lib\\site-packages\\ipykernel_launcher.py:26: DeprecationWarning: Vincenty is deprecated and is going to be removed in geopy 2.0. Use `geopy.distance.geodesic` (or the default `geopy.distance.distance`) instead, which is more accurate and always converges.\n"
     ]
    }
   ],
   "source": [
    "listA = FenSheng(dataB,dataA,\"re_city_gaode\",\"re_siteLng_gaode\",\"re_siteLat_gaode\")"
   ]
  },
  {
   "cell_type": "code",
   "execution_count": 10,
   "metadata": {},
   "outputs": [
    {
     "name": "stdout",
     "output_type": "stream",
     "text": [
      "[0.01868632436286973, 0.24260784257021098, 0.24260784257021098, 0.24260784257021098, 0.24260784257021098, 0.277159937436898, 0.3099599051121642, 0.30998927440714524, 0.3283655476586011, 0.41806375584473143, 0.45576706782432347, 0.49486702215277273, 0.5212650813284999, 0.5307310555375324, 0.5755774904516989, 0.6575576847736752, 0.6575576847736752, 0.7456884783234323, 0.7748700369261162, 0.8653610347899554, 0.8974961165841239, 0.905943743868158, 0.9793712111120243, 1.0127359051306106, 1.0977042397943866, 1.1145390796766137, 1.1292035811078074, 1.1477404633235353, 1.1553611661737555, 1.1902867330585996, 1.2003715517649272, 1.2057558032215068, 1.2283749300174251, 1.2343920952013172, 1.2439033939172737, 1.247445174207125, 1.3966901243431329, 1.442748424351657, 1.4762257687751366, 1.4808163203695974, 1.54933988566338, 1.610686940726891, 1.6292769789224666, 1.6359870332473507, 1.692269500169696, 1.775455376847649, 1.788928190513425, 1.79301883886099, 1.79301883886099, 1.79301883886099, 1.8008466115653698, 1.8760737739010909, 1.8760737739010909, 1.8783194824583727, 1.9869348714325206, 2.0537964319610413, 2.059569868137087, 2.1487949081244513, 2.1487949081244513, 2.2588659547737353, 2.2933059256242783, 2.3253061877706185, 2.4255071780243527, 2.595459152823658, 2.595459152823658, 2.8032526514069915, 3.077804676459874, 3.691850129513544, 4.055285691233258, 4.0663000847686, 4.499314622530455, 4.537487876974626, 4.960839009447796, 5.108629528216529, 5.315902608886029, 5.401975669876356, 5.401975669876356, 5.777123772284992, 8.98561817915921, 8.98561817915921, 10.181767369065824, 10.236806841640341, 11.107964340597983, 11.107964340597983, 13.743244774331787, 14.090897488724341, 15.738817711587844, 16.622213960189416, 16.68873989075014, 18.133195824043117, 18.64737918741352, 22.575829522440632, 23.451997606363207, 23.714331655417535, 24.592799987104584, 26.062964979777213, 27.412234535132903, 27.535016898304658, 30.32476123692867]\n"
     ]
    }
   ],
   "source": [
    "a = sorted(listA)\n",
    "print(a)"
   ]
  },
  {
   "cell_type": "code",
   "execution_count": null,
   "metadata": {},
   "outputs": [],
   "source": []
  }
 ],
 "metadata": {
  "kernelspec": {
   "display_name": "Python 3",
   "language": "python",
   "name": "python3"
  },
  "language_info": {
   "codemirror_mode": {
    "name": "ipython",
    "version": 3
   },
   "file_extension": ".py",
   "mimetype": "text/x-python",
   "name": "python",
   "nbconvert_exporter": "python",
   "pygments_lexer": "ipython3",
   "version": "3.6.6"
  }
 },
 "nbformat": 4,
 "nbformat_minor": 2
}
