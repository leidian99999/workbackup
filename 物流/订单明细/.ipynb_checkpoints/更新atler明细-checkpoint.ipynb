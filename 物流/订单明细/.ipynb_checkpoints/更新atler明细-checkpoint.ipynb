{
 "cells": [
  {
   "cell_type": "code",
   "execution_count": 1,
   "metadata": {},
   "outputs": [],
   "source": [
    "import pandas as pd"
   ]
  },
  {
   "cell_type": "code",
   "execution_count": 2,
   "metadata": {
    "scrolled": false
   },
   "outputs": [
    {
     "name": "stderr",
     "output_type": "stream",
     "text": [
      "d:\\python\\envs\\jupyterpy36\\lib\\site-packages\\ipykernel_launcher.py:1: ParserWarning: Falling back to the 'python' engine because the 'c' engine does not support sep=None with delim_whitespace=False; you can avoid this warning by specifying engine='python'.\n",
      "  \"\"\"Entry point for launching an IPython kernel.\n"
     ]
    }
   ],
   "source": [
    "data = pd.read_csv(r\"G:\\work\\basic\\csv\\1807_info_p2.csv\",sep = None,encoding='utf8')"
   ]
  },
  {
   "cell_type": "code",
   "execution_count": 3,
   "metadata": {
    "scrolled": true
   },
   "outputs": [
    {
     "data": {
      "text/plain": [
       "Index(['Unnamed: 0', '订单编号', '原始订单', '订单类型', '订单状态', '订单子状态', '取消原因', '订单挂起原因',\n",
       "       '安装失败原因', '订单来源', '结算状态', '支付平台', '机价款', '店铺', 'AB类型', '拆单类型', '制式类型',\n",
       "       '订单金额', '支付方式', '支付流水号', '收取卡密号码', '订单生成时间', '支付完成时间', '交易完成时间', '发货时间',\n",
       "       '物流单回填时间', '用户名', 'QQ号', '入网用户姓名', '入网身份证号', '入网手机号', '联系人电话号码',\n",
       "       'ICCID', '联系住址', '收货人姓名', '收货地址', '收货人电话号码', '收货人邮箱', '邮编',\n",
       "       '所在省 / 市 / 县', '入网人所在省/市/县', '号码归属地', '配送方式', '营业厅地址', '配送时间', '优惠劵',\n",
       "       '优惠券编码', 'F码', 'F码名称', '产品推荐人', 'CPS推荐人', '订单备注', '物流单号', '物流签收时间',\n",
       "       '承运商', '是否上传签收证明项', '预存款发票类别', '物品费发票抬头', '物品费抬头名称', '发票内容', '企业税号',\n",
       "       '用户留言', '大小卡类型', '写卡渠道', '卡号', '串号', '销售品编号', '销售品名称', '销售品类型', '销售品数量',\n",
       "       '销售品价格', '合作商', '实际分账金额', '套餐', '主号码', '副号码', '现金预存款', '可选包', '合约补贴',\n",
       "       '其他', '靓号低消', '靓号等级', '靓号预存款', '营业厅送货方式', '是否线下模式', '是否线下转线上',\n",
       "       '线下转线上原因', '营业厅送货iccid', '身份证图片1', '身份证图片2', '身份证图片3', '身份证图片4',\n",
       "       '实名信息复核中时间', '销售品文本步骤名称', '用户选择的步骤内容'],\n",
       "      dtype='object')"
      ]
     },
     "execution_count": 3,
     "metadata": {},
     "output_type": "execute_result"
    }
   ],
   "source": [
    "data.columns"
   ]
  },
  {
   "cell_type": "code",
   "execution_count": 4,
   "metadata": {},
   "outputs": [
    {
     "data": {
      "text/plain": [
       "(690022, 95)"
      ]
     },
     "execution_count": 4,
     "metadata": {},
     "output_type": "execute_result"
    }
   ],
   "source": [
    "data.shape"
   ]
  },
  {
   "cell_type": "markdown",
   "metadata": {},
   "source": [
    "### 删除合表表头"
   ]
  },
  {
   "cell_type": "code",
   "execution_count": 5,
   "metadata": {},
   "outputs": [],
   "source": [
    "data = data[data[\"号码归属地\"].str.contains('号码归属地') == False]"
   ]
  },
  {
   "cell_type": "code",
   "execution_count": 6,
   "metadata": {},
   "outputs": [
    {
     "data": {
      "text/plain": [
       "(690000, 95)"
      ]
     },
     "execution_count": 6,
     "metadata": {},
     "output_type": "execute_result"
    }
   ],
   "source": [
    "data.shape"
   ]
  },
  {
   "cell_type": "code",
   "execution_count": 7,
   "metadata": {},
   "outputs": [],
   "source": [
    "df = data[[ '订单编号', '订单状态','订单子状态', '订单挂起原因', '安装失败原因', '订单来源', '店铺', '订单金额',\n",
    "       '订单生成时间', '交易完成时间', '发货时间', '物流单回填时间', '入网用户姓名', '入网身份证号', '入网手机号',\n",
    "       '收货人姓名', '收货地址', '收货人电话号码', '邮编', '所在省 / 市 / 县', '号码归属地', 'CPS推荐人',\n",
    "       '订单备注', '物流单号', '物流签收时间', '承运商', '大小卡类型', '写卡渠道', '销售品编号', '销售品名称',\n",
    "       '销售品类型', '套餐', '主号码', '副号码', '现金预存款', '靓号低消', '靓号等级', '靓号预存款',\n",
    "       '营业厅送货方式', '是否线下模式', '是否线下转线上', '线下转线上原因', '营业厅送货iccid']]#,'京东不可达原因'"
   ]
  },
  {
   "cell_type": "code",
   "execution_count": 8,
   "metadata": {},
   "outputs": [
    {
     "data": {
      "text/plain": [
       "(690000, 43)"
      ]
     },
     "execution_count": 8,
     "metadata": {},
     "output_type": "execute_result"
    }
   ],
   "source": [
    "df.shape"
   ]
  },
  {
   "cell_type": "markdown",
   "metadata": {},
   "source": [
    "### 所在省/市/县/=\"//\"的删除"
   ]
  },
  {
   "cell_type": "code",
   "execution_count": 9,
   "metadata": {
    "scrolled": true
   },
   "outputs": [
    {
     "data": {
      "text/plain": [
       "//                     30110\n",
       "广东/深圳市/宝安区              7847\n",
       "北京/北京市/朝阳区              6306\n",
       "北京/北京市/海淀区              6044\n",
       "广东/广州市/白云区              5101\n",
       "广东/深圳市/龙岗区              4746\n",
       "广东/佛山市/南海区              4356\n",
       "河南/郑州市/金水区              3840\n",
       "广东/东莞市/东莞市              3647\n",
       "上海/上海市/浦东新区             3560\n",
       "广东/广州市/天河区              3534\n",
       "北京/北京市/昌平区              3316\n",
       "广东/广州市/番禺区              3270\n",
       "广东/佛山市/顺德区              3221\n",
       "广东/深圳市/龙华新区             3173\n",
       "湖南/长沙市/岳麓区              2862\n",
       "北京/北京市/丰台区              2774\n",
       "北京/北京市/大兴区              2703\n",
       "广东/惠州市/惠城区              2683\n",
       "北京/北京市/通州区              2445\n",
       "河南/郑州市/惠济区              2327\n",
       "湖北/武汉市/洪山区              2302\n",
       "陕西/西安市/雁塔区              2217\n",
       "广东/深圳市/南山区              2153\n",
       "江苏/苏州市/昆山市              2129\n",
       "广东/广州市/海珠区              2084\n",
       "广东/广州市/花都区              2018\n",
       "广东/惠州市/惠阳区              1864\n",
       "山东/日照市/五莲县              1814\n",
       "广东/深圳市/福田区              1718\n",
       "                       ...  \n",
       "广东省/汕头市/南澳县                1\n",
       "贵州省/安顺市/平坝区                1\n",
       "湖北省/襄阳市/襄城区                1\n",
       "河南省/安阳市/内黄县                1\n",
       "黑龙江省/齐齐哈尔市/依安县             1\n",
       "海南省/保亭黎族苗族自治县/             1\n",
       "甘肃省/平凉市/庄浪县                1\n",
       "海南/临高县/皇桐镇                 1\n",
       "湖北省/十堰市/竹山县                1\n",
       "江西省/萍乡市/上栗县                1\n",
       "四川省/泸州市/合江县                1\n",
       "江西省/九江市/柴桑区                1\n",
       "云南省/曲靖市/沾益区                1\n",
       "山西省/长治市/长子县                1\n",
       "新疆维吾尔自治区/乌鲁木齐市/水磨沟区        1\n",
       "黑龙江省/七台河市/茄子河区             1\n",
       "广东省/云浮市/郁南县                1\n",
       "安徽省/宣城市/广德县                1\n",
       "河北省/邯郸市/鸡泽县                1\n",
       "湖南省/常德市/鼎城区                1\n",
       "河北/邯郸市/邯郸市                 1\n",
       "河南省/安阳市/殷都区                1\n",
       "安徽省/安庆市/大观区                1\n",
       "河南省/商丘市/柘城县                1\n",
       "甘肃省/甘南藏族自治州/临潭县            1\n",
       "河北省/廊坊市/燕郊经济技术开发区          1\n",
       "河南/济源市/金水区                 1\n",
       "江西省/赣州市/安远县                1\n",
       "湖南省/怀化市/通道侗族自治县            1\n",
       "黑龙江省/佳木斯市/前进区              1\n",
       "Name: 所在省 / 市 / 县, Length: 5300, dtype: int64"
      ]
     },
     "execution_count": 9,
     "metadata": {},
     "output_type": "execute_result"
    }
   ],
   "source": [
    "df[\"所在省 / 市 / 县\"].value_counts()"
   ]
  },
  {
   "cell_type": "code",
   "execution_count": 10,
   "metadata": {},
   "outputs": [],
   "source": [
    "# 去“//”\n",
    "df = df[df[\"所在省 / 市 / 县\"].str.contains(\"^//$\",regex=True) == False]"
   ]
  },
  {
   "cell_type": "code",
   "execution_count": 11,
   "metadata": {
    "scrolled": true
   },
   "outputs": [
    {
     "data": {
      "text/plain": [
       "广东/深圳市/宝安区           7847\n",
       "北京/北京市/朝阳区           6306\n",
       "北京/北京市/海淀区           6044\n",
       "广东/广州市/白云区           5101\n",
       "广东/深圳市/龙岗区           4746\n",
       "广东/佛山市/南海区           4356\n",
       "河南/郑州市/金水区           3840\n",
       "广东/东莞市/东莞市           3647\n",
       "上海/上海市/浦东新区          3560\n",
       "广东/广州市/天河区           3534\n",
       "北京/北京市/昌平区           3316\n",
       "广东/广州市/番禺区           3270\n",
       "广东/佛山市/顺德区           3221\n",
       "广东/深圳市/龙华新区          3173\n",
       "湖南/长沙市/岳麓区           2862\n",
       "北京/北京市/丰台区           2774\n",
       "北京/北京市/大兴区           2703\n",
       "广东/惠州市/惠城区           2683\n",
       "北京/北京市/通州区           2445\n",
       "河南/郑州市/惠济区           2327\n",
       "湖北/武汉市/洪山区           2302\n",
       "陕西/西安市/雁塔区           2217\n",
       "广东/深圳市/南山区           2153\n",
       "江苏/苏州市/昆山市           2129\n",
       "广东/广州市/海珠区           2084\n",
       "广东/广州市/花都区           2018\n",
       "广东/惠州市/惠阳区           1864\n",
       "山东/日照市/五莲县           1814\n",
       "广东/深圳市/福田区           1718\n",
       "陕西/西安市/未央区           1679\n",
       "                     ... \n",
       "山西省/长治市/长治县             1\n",
       "四川省/广元市/剑阁县             1\n",
       "山东省/潍坊市/临朐县             1\n",
       "福建省/龙岩市/新罗区             1\n",
       "河南省/开封市/禹王台区            1\n",
       "河南省/三门峡市/卢氏县            1\n",
       "西藏自治区/日喀则市/江孜县          1\n",
       "云南省/昆明市/晋宁区             1\n",
       "河北省/沧州市/盐山县             1\n",
       "辽宁省/本溪市/溪湖区             1\n",
       "甘肃省/庆阳市/正宁县             1\n",
       "内蒙古自治区/赤峰市/喀喇沁旗         1\n",
       "山西省/大同市/矿区              1\n",
       "福建省/宁德市/福安市             1\n",
       "河北省/唐山市/迁安市             1\n",
       "福建省/泉州市/丰泽区             1\n",
       "海南/屯昌县/中坤农场             1\n",
       "云南省/楚雄彝族自治州/牟定县         1\n",
       "河北省/邯郸市/邯郸县             1\n",
       "江西/鹰潭市/庐山风景名胜区          1\n",
       "黑龙江省/哈尔滨市/五常市           1\n",
       "江苏省/盐城市/响水县             1\n",
       "安徽省/黄山市/屯溪区             1\n",
       "新疆维吾尔自治区/喀什地区/疏勒县       1\n",
       "黑龙江省/绥化市/海伦市            1\n",
       "河北省/保定市/徐水区             1\n",
       "海南/定安县/中瑞农场             1\n",
       "广西壮族自治区/钦州市/钦北区         1\n",
       "贵州省/贵阳市/白云区             1\n",
       "云南省/临沧市/凤庆县             1\n",
       "Name: 所在省 / 市 / 县, Length: 5299, dtype: int64"
      ]
     },
     "execution_count": 11,
     "metadata": {},
     "output_type": "execute_result"
    }
   ],
   "source": [
    "df[\"所在省 / 市 / 县\"].value_counts()"
   ]
  },
  {
   "cell_type": "markdown",
   "metadata": {},
   "source": [
    "### 统一所在省"
   ]
  },
  {
   "cell_type": "code",
   "execution_count": 12,
   "metadata": {},
   "outputs": [],
   "source": [
    "split = pd.DataFrame((x.split('/') for x in df['所在省 / 市 / 县']), index=df.index, columns=['所在省','所在市','所在县'])\n",
    "df = pd.merge(df,split,left_index=True,right_index=True)"
   ]
  },
  {
   "cell_type": "code",
   "execution_count": 13,
   "metadata": {},
   "outputs": [],
   "source": [
    "# 统一所在省\n",
    "dict_province = {'焦作市':'河南','河南省':'河南','河北省':'河北','贵州省':'贵州','湖南省':'湖南','广东省':'广东','江苏省':'江苏','山西省':'山西',\n",
    "    '吉林省':'吉林','山东省':'山东','广西壮族自治区':'广西','湖北省':'湖北','陕西省':'陕西','浙江省':'浙江','福建省':'福建',\n",
    "    '内蒙古自治区':'内蒙古','云南省':'云南','辽宁省':'辽宁','江西省':'江西','四川省':'四川','黑龙江省':'黑龙江','安徽省':'安徽',\n",
    "    '甘肃省':'甘肃','西藏自治区':'西藏','青海省':'青海','宁夏回族自治区':'宁夏',\n",
    "    '海南省':'海南','六安市':'安徽','东莞市':'广东','新疆维吾尔自治区':'新疆'}\n",
    "df = df.replace(dict_province)"
   ]
  },
  {
   "cell_type": "code",
   "execution_count": 14,
   "metadata": {},
   "outputs": [
    {
     "data": {
      "text/plain": [
       "广东     123204\n",
       "山东      46066\n",
       "河南      40739\n",
       "湖南      32909\n",
       "河北      32349\n",
       "北京      32002\n",
       "江苏      31691\n",
       "浙江      29566\n",
       "湖北      26746\n",
       "云南      24849\n",
       "四川      23213\n",
       "陕西      22211\n",
       "贵州      18515\n",
       "吉林      17554\n",
       "辽宁      16638\n",
       "上海      15133\n",
       "广西      14695\n",
       "山西      14254\n",
       "安徽      13197\n",
       "福建      12339\n",
       "江西      10384\n",
       "甘肃      10364\n",
       "黑龙江     10223\n",
       "重庆       9412\n",
       "内蒙古      9053\n",
       "天津       6075\n",
       "新疆       4939\n",
       "宁夏       4149\n",
       "海南       3741\n",
       "青海       2294\n",
       "西藏       1386\n",
       "Name: 所在省, dtype: int64"
      ]
     },
     "execution_count": 14,
     "metadata": {},
     "output_type": "execute_result"
    }
   ],
   "source": [
    "df[\"所在省\"].value_counts()"
   ]
  },
  {
   "cell_type": "markdown",
   "metadata": {},
   "source": [
    "### 号码归属地=\"/\"的删除"
   ]
  },
  {
   "cell_type": "code",
   "execution_count": 15,
   "metadata": {},
   "outputs": [
    {
     "data": {
      "text/plain": [
       "北京/市辖区                  41868\n",
       "广东省/广州市                 28928\n",
       "广东省/深圳市                 21351\n",
       "广东省/东莞市                 16466\n",
       "上海市/市辖区                 15902\n",
       "湖北省/武汉市                 10721\n",
       "湖南省/长沙市                 10365\n",
       "重庆市/市辖区                 10098\n",
       "四川省/成都市                  9951\n",
       "吉林省/长春市                  9586\n",
       "广东省/佛山市                  8604\n",
       "陕西省/西安市                  8594\n",
       "河南省/郑州市                  8484\n",
       "云南省/昆明市                  7639\n",
       "江苏省/苏州市                  7593\n",
       "浙江省/杭州市                  6935\n",
       "河北省/石家庄市                 6408\n",
       "天津市/市辖区                  6115\n",
       "广东省/惠州市                  6107\n",
       "浙江省/台州市                  5771\n",
       "山东省/济南市                  5679\n",
       "山东省/青岛市                  5319\n",
       "贵州省/贵阳市                  4960\n",
       "广东省/中山市                  4902\n",
       "江苏省/南京市                  4555\n",
       "辽宁省/沈阳市                  4424\n",
       "黑龙江省/哈尔滨市                4237\n",
       "山东省/潍坊市                  4233\n",
       "山东省/临沂市                  4194\n",
       "河北省/保定市                  3990\n",
       "                        ...  \n",
       "云南省/迪庆藏族自治州               192\n",
       "青海省/海西蒙古族藏族自治州            183\n",
       "新疆维吾尔自治区/石河子市             178\n",
       "河南省/济源市                   178\n",
       "内蒙古自治区/乌海市                177\n",
       "新疆维吾尔自治区/克拉玛依市            161\n",
       "新疆维吾尔自治区/吐鲁番地区            160\n",
       "内蒙古自治区/阿拉善盟               158\n",
       "新疆维吾尔自治区/哈密地区             155\n",
       "甘肃省/嘉峪关市                  147\n",
       "新疆维吾尔自治区/阿勒泰地区            141\n",
       "新疆维吾尔自治区/塔城地区             141\n",
       "黑龙江省/大兴安岭地区               141\n",
       "西藏自治区/山南地区                126\n",
       "新疆维吾尔自治区/博尔塔拉蒙古自治州        125\n",
       "青海省/海南藏族自治州               119\n",
       "西藏自治区/林芝地区                110\n",
       "青海省/海北藏族自治州                96\n",
       "西藏自治区/昌都地区                 87\n",
       "新疆维吾尔自治区/克孜勒苏柯尔克孜自治州       86\n",
       "青海省/格尔木市                   68\n",
       "新疆维吾尔自治区/奎屯市               67\n",
       "青海省/玉树藏族自治州                60\n",
       "西藏自治区/那曲地区                 51\n",
       "青海省/黄南藏族自治州                49\n",
       "西藏自治区/阿里地区                 48\n",
       "湖北省/林区（神农架）                40\n",
       "青海省/果洛藏族自治州                26\n",
       "湖北省/省直辖县级行政区划               7\n",
       "/                           1\n",
       "Name: 号码归属地, Length: 345, dtype: int64"
      ]
     },
     "execution_count": 15,
     "metadata": {},
     "output_type": "execute_result"
    }
   ],
   "source": [
    "df[\"号码归属地\"].value_counts()"
   ]
  },
  {
   "cell_type": "code",
   "execution_count": 16,
   "metadata": {},
   "outputs": [],
   "source": [
    "df = df[df[\"号码归属地\"].str.contains(\"^/$\",regex=True) == False]"
   ]
  },
  {
   "cell_type": "code",
   "execution_count": 17,
   "metadata": {},
   "outputs": [],
   "source": [
    "split1 = pd.DataFrame((x.split('/') for x in df['号码归属地']), index=df.index, columns=['号码归属省','号码归属市'])\n",
    "df = pd.merge(df,split1,left_index=True,right_index=True)"
   ]
  },
  {
   "cell_type": "code",
   "execution_count": 18,
   "metadata": {},
   "outputs": [
    {
     "data": {
      "text/plain": [
       "北京/市辖区                  41868\n",
       "广东省/广州市                 28928\n",
       "广东省/深圳市                 21351\n",
       "广东省/东莞市                 16466\n",
       "上海市/市辖区                 15902\n",
       "湖北省/武汉市                 10721\n",
       "湖南省/长沙市                 10365\n",
       "重庆市/市辖区                 10098\n",
       "四川省/成都市                  9951\n",
       "吉林省/长春市                  9586\n",
       "广东省/佛山市                  8604\n",
       "陕西省/西安市                  8594\n",
       "河南省/郑州市                  8484\n",
       "云南省/昆明市                  7639\n",
       "江苏省/苏州市                  7593\n",
       "浙江省/杭州市                  6935\n",
       "河北省/石家庄市                 6408\n",
       "天津市/市辖区                  6115\n",
       "广东省/惠州市                  6107\n",
       "浙江省/台州市                  5771\n",
       "山东省/济南市                  5679\n",
       "山东省/青岛市                  5319\n",
       "贵州省/贵阳市                  4960\n",
       "广东省/中山市                  4902\n",
       "江苏省/南京市                  4555\n",
       "辽宁省/沈阳市                  4424\n",
       "黑龙江省/哈尔滨市                4237\n",
       "山东省/潍坊市                  4233\n",
       "山东省/临沂市                  4194\n",
       "河北省/保定市                  3990\n",
       "                        ...  \n",
       "黑龙江省/七台河市                 197\n",
       "云南省/迪庆藏族自治州               192\n",
       "青海省/海西蒙古族藏族自治州            183\n",
       "河南省/济源市                   178\n",
       "新疆维吾尔自治区/石河子市             178\n",
       "内蒙古自治区/乌海市                177\n",
       "新疆维吾尔自治区/克拉玛依市            161\n",
       "新疆维吾尔自治区/吐鲁番地区            160\n",
       "内蒙古自治区/阿拉善盟               158\n",
       "新疆维吾尔自治区/哈密地区             155\n",
       "甘肃省/嘉峪关市                  147\n",
       "新疆维吾尔自治区/阿勒泰地区            141\n",
       "黑龙江省/大兴安岭地区               141\n",
       "新疆维吾尔自治区/塔城地区             141\n",
       "西藏自治区/山南地区                126\n",
       "新疆维吾尔自治区/博尔塔拉蒙古自治州        125\n",
       "青海省/海南藏族自治州               119\n",
       "西藏自治区/林芝地区                110\n",
       "青海省/海北藏族自治州                96\n",
       "西藏自治区/昌都地区                 87\n",
       "新疆维吾尔自治区/克孜勒苏柯尔克孜自治州       86\n",
       "青海省/格尔木市                   68\n",
       "新疆维吾尔自治区/奎屯市               67\n",
       "青海省/玉树藏族自治州                60\n",
       "西藏自治区/那曲地区                 51\n",
       "青海省/黄南藏族自治州                49\n",
       "西藏自治区/阿里地区                 48\n",
       "湖北省/林区（神农架）                40\n",
       "青海省/果洛藏族自治州                26\n",
       "湖北省/省直辖县级行政区划               7\n",
       "Name: 号码归属地, Length: 344, dtype: int64"
      ]
     },
     "execution_count": 18,
     "metadata": {},
     "output_type": "execute_result"
    }
   ],
   "source": [
    "df[\"号码归属地\"].value_counts()"
   ]
  },
  {
   "cell_type": "markdown",
   "metadata": {},
   "source": [
    "### 订单状态办理类的行删除"
   ]
  },
  {
   "cell_type": "code",
   "execution_count": 19,
   "metadata": {},
   "outputs": [],
   "source": [
    "df = df[df[\"订单状态\"].str.contains(\"办理\") == False]"
   ]
  },
  {
   "cell_type": "code",
   "execution_count": 20,
   "metadata": {},
   "outputs": [
    {
     "data": {
      "text/plain": [
       "交易完成        345347\n",
       "订单关闭        303141\n",
       "拆机成功          3978\n",
       "已发货           2405\n",
       "退款成功          2004\n",
       "拆机中            862\n",
       "身份信息审核失败       585\n",
       "开始备货           302\n",
       "已取消            266\n",
       "撤单成功           247\n",
       "已拒收            241\n",
       "支付成功            37\n",
       "系统审核订单          26\n",
       "退款中             15\n",
       "退款失败             7\n",
       "退款审核中            7\n",
       "订单信息审核失败         2\n",
       "身份初审失败           2\n",
       "身份信息审核成功         1\n",
       "Name: 订单状态, dtype: int64"
      ]
     },
     "execution_count": 20,
     "metadata": {},
     "output_type": "execute_result"
    }
   ],
   "source": [
    "df[\"订单状态\"].value_counts()"
   ]
  },
  {
   "cell_type": "markdown",
   "metadata": {},
   "source": [
    "### 收货地址去空"
   ]
  },
  {
   "cell_type": "code",
   "execution_count": 21,
   "metadata": {},
   "outputs": [
    {
     "data": {
      "text/plain": [
       "False    659474\n",
       "Name: 收货地址, dtype: int64"
      ]
     },
     "execution_count": 21,
     "metadata": {},
     "output_type": "execute_result"
    }
   ],
   "source": [
    "df[\"收货地址\"].isnull().value_counts()\n",
    "df = df.dropna(subset=[\"收货地址\"])\n",
    "df[\"收货地址\"].isnull().value_counts()"
   ]
  },
  {
   "cell_type": "markdown",
   "metadata": {},
   "source": [
    "### 统一承运商名称"
   ]
  },
  {
   "cell_type": "code",
   "execution_count": 22,
   "metadata": {},
   "outputs": [
    {
     "data": {
      "text/plain": [
       "EMS              198906\n",
       "顺丰               184757\n",
       "韵达               114889\n",
       "京东物流              57990\n",
       "中通                14890\n",
       "圆通                14835\n",
       "恒宇运通               6972\n",
       "邮政包裹               2018\n",
       "其他                  297\n",
       "商海德                 191\n",
       "移宝旗舰店                11\n",
       "宅急送                   9\n",
       "骏飞通信专营店               6\n",
       "凡思特通信专营               4\n",
       "1164851080915         1\n",
       "Name: 承运商, dtype: int64"
      ]
     },
     "execution_count": 22,
     "metadata": {},
     "output_type": "execute_result"
    }
   ],
   "source": [
    "dict_carrier ={'ems':'EMS','邮政':'EMS','100000137':'圆通','ZHAIJISONG':'宅急送','jingdongwuliu':'京东物流','yunda':'韵达','shunfeng':'顺丰','EMS物流':'EMS'}\n",
    "df =df.replace(dict_carrier)\n",
    "df[\"承运商\"].value_counts()"
   ]
  },
  {
   "cell_type": "code",
   "execution_count": 23,
   "metadata": {},
   "outputs": [
    {
     "data": {
      "text/plain": [
       "0           龙南县龙翔国际29栋永鑫五金。黄生林\n",
       "1    珠峰大道1399号世荣作品壹号25栋2单元1101\n",
       "2                      新仁村418号\n",
       "Name: 收货地址, dtype: object"
      ]
     },
     "execution_count": 23,
     "metadata": {},
     "output_type": "execute_result"
    }
   ],
   "source": [
    "df[\"收货地址\"][0:3]"
   ]
  },
  {
   "cell_type": "code",
   "execution_count": 24,
   "metadata": {},
   "outputs": [],
   "source": [
    "df.to_csv(r\"G:\\work\\basic\\alter\\1807_info_p2_alter_gai.csv\",index=False)"
   ]
  }
 ],
 "metadata": {
  "kernelspec": {
   "display_name": "Python 3",
   "language": "python",
   "name": "python3"
  },
  "language_info": {
   "codemirror_mode": {
    "name": "ipython",
    "version": 3
   },
   "file_extension": ".py",
   "mimetype": "text/x-python",
   "name": "python",
   "nbconvert_exporter": "python",
   "pygments_lexer": "ipython3",
   "version": "3.6.6"
  }
 },
 "nbformat": 4,
 "nbformat_minor": 2
}
