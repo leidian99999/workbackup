{
 "cells": [
  {
   "cell_type": "code",
   "execution_count": 1,
   "metadata": {},
   "outputs": [],
   "source": [
    "import pandas as pd"
   ]
  },
  {
   "cell_type": "code",
   "execution_count": 2,
   "metadata": {},
   "outputs": [
    {
     "name": "stderr",
     "output_type": "stream",
     "text": [
      "d:\\python\\envs\\jupyterpy36\\lib\\site-packages\\IPython\\core\\interactiveshell.py:2785: DtypeWarning: Columns (12) have mixed types. Specify dtype option on import or set low_memory=False.\n",
      "  interactivity=interactivity, compiler=compiler, result=result)\n"
     ]
    }
   ],
   "source": [
    "df_DM1 = pd.read_csv(r\"G:\\work\\logistica\\info\\output\\CHA\\CSV\\201902_JDXX_DM_cha.csv\")\n",
    "df_LS1 = pd.read_csv(r\"G:\\work\\logistica\\info\\output\\CHA\\CSV\\201902_JDXX_LS_cha.csv\")\n",
    "df_DM2 = pd.read_csv(r\"G:\\work\\logistica\\info\\output\\CHA\\CSV\\201902_JDWL_DM_cha.csv\")\n",
    "df_LS2 = pd.read_csv(r\"G:\\work\\logistica\\info\\output\\CHA\\CSV\\201902_JDWL_LS_cha.csv\")"
   ]
  },
  {
   "cell_type": "code",
   "execution_count": 10,
   "metadata": {},
   "outputs": [],
   "source": [
    "dfXX = pd.merge(df_LS1,\n",
    "               df_DM1[['MAIL_NO','PARTNER_ACTION','ROUTE_TIME','DESCRIPTION','JD_deliveryman_name','JD_deliveryman_tel']],\n",
    "               how='inner',on=\"MAIL_NO\",suffixes=(\"_LS\",\"_DM\"))"
   ]
  },
  {
   "cell_type": "code",
   "execution_count": 11,
   "metadata": {},
   "outputs": [],
   "source": [
    "dfWL = pd.merge(df_LS2,\n",
    "               df_DM2[['MAIL_NO','PARTNER_ACTION','ROUTE_TIME','DESCRIPTION','JD_deliveryman_name','JD_deliveryman_tel']],\n",
    "               how='inner',on=\"MAIL_NO\",suffixes=(\"_LS\",\"_DM\"))"
   ]
  },
  {
   "cell_type": "code",
   "execution_count": 12,
   "metadata": {},
   "outputs": [
    {
     "data": {
      "text/plain": [
       "Index(['﻿\"ORDER_ID\"', 'MAIL_NO', 'ORDER_STATUS', 'PROV_NAME', 'CITY_NAME',\n",
       "       'CHANNEL_ID', 'LOGISTICS_COMPANY', 'ACTION', 'PARTNER_ACTION_LS',\n",
       "       'ROUTE_TIME_LS', 'DESCRIPTION_LS', 'JD_lastStation',\n",
       "       'PARTNER_ACTION_DM', 'ROUTE_TIME_DM', 'DESCRIPTION_DM',\n",
       "       'JD_deliveryman_name', 'JD_deliveryman_tel'],\n",
       "      dtype='object')"
      ]
     },
     "execution_count": 12,
     "metadata": {},
     "output_type": "execute_result"
    }
   ],
   "source": [
    "dfWL.columns"
   ]
  },
  {
   "cell_type": "code",
   "execution_count": 13,
   "metadata": {},
   "outputs": [
    {
     "data": {
      "text/plain": [
       "Index(['﻿\"ORDER_ID\"', 'MAIL_NO', 'ORDER_STATUS', 'PROV_NAME', 'CITY_NAME',\n",
       "       'CHANNEL_ID', 'LOGISTICS_COMPANY', 'ACTION', 'PARTNER_ACTION_LS',\n",
       "       'ROUTE_TIME_LS', 'DESCRIPTION_LS', 'JD_lastStation',\n",
       "       'PARTNER_ACTION_DM', 'ROUTE_TIME_DM', 'DESCRIPTION_DM',\n",
       "       'JD_deliveryman_name', 'JD_deliveryman_tel'],\n",
       "      dtype='object')"
      ]
     },
     "execution_count": 13,
     "metadata": {},
     "output_type": "execute_result"
    }
   ],
   "source": [
    "dfXX.columns"
   ]
  },
  {
   "cell_type": "code",
   "execution_count": 14,
   "metadata": {},
   "outputs": [],
   "source": [
    "df = pd.concat([dfWL,dfXX])"
   ]
  },
  {
   "cell_type": "code",
   "execution_count": 18,
   "metadata": {},
   "outputs": [
    {
     "name": "stderr",
     "output_type": "stream",
     "text": [
      "d:\\python\\envs\\jupyterpy36\\lib\\site-packages\\IPython\\core\\interactiveshell.py:2785: DtypeWarning: Columns (11,17) have mixed types. Specify dtype option on import or set low_memory=False.\n",
      "  interactivity=interactivity, compiler=compiler, result=result)\n"
     ]
    }
   ],
   "source": [
    "data = pd.read_csv(r\"G:\\work\\basic\\alter\\1902_info_alter_gai.csv\")"
   ]
  },
  {
   "cell_type": "code",
   "execution_count": 19,
   "metadata": {},
   "outputs": [
    {
     "data": {
      "text/plain": [
       "(520906, 49)"
      ]
     },
     "execution_count": 19,
     "metadata": {},
     "output_type": "execute_result"
    }
   ],
   "source": [
    "data.shape"
   ]
  },
  {
   "cell_type": "code",
   "execution_count": 20,
   "metadata": {},
   "outputs": [
    {
     "data": {
      "text/plain": [
       "Index(['订单编号', '订单状态', '订单子状态', '订单挂起原因', '安装失败原因', '订单来源', '店铺', '订单金额',\n",
       "       '订单生成时间', '交易完成时间', '发货时间', '物流单回填时间', '入网用户姓名', '入网身份证号', '入网手机号',\n",
       "       '收货人姓名', '收货地址', '收货人电话号码', '邮编', '所在省 / 市 / 县', '号码归属地', 'CPS推荐人',\n",
       "       '订单备注', '物流单号', '物流签收时间', '承运商', '大小卡类型', '写卡渠道', '销售品编号', '销售品名称',\n",
       "       '销售品类型', '套餐', '主号码', '副号码', '现金预存款', '靓号低消', '靓号等级', '靓号预存款',\n",
       "       '营业厅送货方式', '是否线下模式', '是否线下转线上', '线下转线上原因', '营业厅送货iccid', '京东不可达原因',\n",
       "       '所在省', '所在市', '所在县', '号码归属省', '号码归属市'],\n",
       "      dtype='object')"
      ]
     },
     "execution_count": 20,
     "metadata": {},
     "output_type": "execute_result"
    }
   ],
   "source": [
    "data.columns"
   ]
  },
  {
   "cell_type": "code",
   "execution_count": 21,
   "metadata": {},
   "outputs": [],
   "source": [
    "dataA = pd.merge(data[['物流单号','所在省','所在市']],\n",
    "                 df[['MAIL_NO','LOGISTICS_COMPANY','JD_lastStation','JD_deliveryman_name']],\n",
    "                 how=\"inner\",\n",
    "                 left_on='物流单号',\n",
    "                right_on = 'MAIL_NO'\n",
    "                )"
   ]
  },
  {
   "cell_type": "code",
   "execution_count": 22,
   "metadata": {
    "scrolled": true
   },
   "outputs": [
    {
     "data": {
      "text/html": [
       "<div>\n",
       "<style scoped>\n",
       "    .dataframe tbody tr th:only-of-type {\n",
       "        vertical-align: middle;\n",
       "    }\n",
       "\n",
       "    .dataframe tbody tr th {\n",
       "        vertical-align: top;\n",
       "    }\n",
       "\n",
       "    .dataframe thead th {\n",
       "        text-align: right;\n",
       "    }\n",
       "</style>\n",
       "<table border=\"1\" class=\"dataframe\">\n",
       "  <thead>\n",
       "    <tr style=\"text-align: right;\">\n",
       "      <th></th>\n",
       "      <th>物流单号</th>\n",
       "      <th>所在省</th>\n",
       "      <th>所在市</th>\n",
       "      <th>MAIL_NO</th>\n",
       "      <th>LOGISTICS_COMPANY</th>\n",
       "      <th>JD_lastStation</th>\n",
       "      <th>JD_deliveryman_name</th>\n",
       "    </tr>\n",
       "  </thead>\n",
       "  <tbody>\n",
       "    <tr>\n",
       "      <th>0</th>\n",
       "      <td>VA50808674265</td>\n",
       "      <td>广东</td>\n",
       "      <td>潮州市</td>\n",
       "      <td>VA50808674265</td>\n",
       "      <td>jingdongxianxia</td>\n",
       "      <td>潮州钱东营业部</td>\n",
       "      <td>张旭生</td>\n",
       "    </tr>\n",
       "    <tr>\n",
       "      <th>1</th>\n",
       "      <td>VA50808674265</td>\n",
       "      <td>广东</td>\n",
       "      <td>潮州市</td>\n",
       "      <td>VA50808674265</td>\n",
       "      <td>jingdongxianxia</td>\n",
       "      <td>潮州钱东营业部</td>\n",
       "      <td>卓卫浩</td>\n",
       "    </tr>\n",
       "    <tr>\n",
       "      <th>2</th>\n",
       "      <td>VA50808674265</td>\n",
       "      <td>广东</td>\n",
       "      <td>潮州市</td>\n",
       "      <td>VA50808674265</td>\n",
       "      <td>jingdongxianxia</td>\n",
       "      <td>潮州钱东营业部</td>\n",
       "      <td>郑加鑫</td>\n",
       "    </tr>\n",
       "    <tr>\n",
       "      <th>3</th>\n",
       "      <td>VA50808674265</td>\n",
       "      <td>广东</td>\n",
       "      <td>潮州市</td>\n",
       "      <td>VA50808674265</td>\n",
       "      <td>jingdongxianxia</td>\n",
       "      <td>潮州钱东营业部</td>\n",
       "      <td>郑加鑫</td>\n",
       "    </tr>\n",
       "    <tr>\n",
       "      <th>4</th>\n",
       "      <td>VA50808674265</td>\n",
       "      <td>广东</td>\n",
       "      <td>潮州市</td>\n",
       "      <td>VA50808674265</td>\n",
       "      <td>jingdongxianxia</td>\n",
       "      <td>潮州钱东营业部</td>\n",
       "      <td>郑加鑫</td>\n",
       "    </tr>\n",
       "  </tbody>\n",
       "</table>\n",
       "</div>"
      ],
      "text/plain": [
       "            物流单号 所在省  所在市        MAIL_NO LOGISTICS_COMPANY JD_lastStation  \\\n",
       "0  VA50808674265  广东  潮州市  VA50808674265   jingdongxianxia        潮州钱东营业部   \n",
       "1  VA50808674265  广东  潮州市  VA50808674265   jingdongxianxia        潮州钱东营业部   \n",
       "2  VA50808674265  广东  潮州市  VA50808674265   jingdongxianxia        潮州钱东营业部   \n",
       "3  VA50808674265  广东  潮州市  VA50808674265   jingdongxianxia        潮州钱东营业部   \n",
       "4  VA50808674265  广东  潮州市  VA50808674265   jingdongxianxia        潮州钱东营业部   \n",
       "\n",
       "  JD_deliveryman_name  \n",
       "0                 张旭生  \n",
       "1                 卓卫浩  \n",
       "2                 郑加鑫  \n",
       "3                 郑加鑫  \n",
       "4                 郑加鑫  "
      ]
     },
     "execution_count": 22,
     "metadata": {},
     "output_type": "execute_result"
    }
   ],
   "source": [
    "dataA.head()"
   ]
  },
  {
   "cell_type": "code",
   "execution_count": 23,
   "metadata": {
    "collapsed": true
   },
   "outputs": [
    {
     "data": {
      "text/plain": [
       "广东     73289\n",
       "山东     37434\n",
       "河南     32315\n",
       "江苏     26565\n",
       "北京     20257\n",
       "河北     19678\n",
       "湖北     19149\n",
       "湖南     17820\n",
       "浙江     17532\n",
       "四川     17483\n",
       "上海     16774\n",
       "云南     10305\n",
       "山西      9833\n",
       "江西      9336\n",
       "辽宁      9042\n",
       "安徽      8841\n",
       "广西      8249\n",
       "内蒙古     7889\n",
       "重庆      7167\n",
       "陕西      7027\n",
       "黑龙江     6664\n",
       "福建      6602\n",
       "吉林      3397\n",
       "天津      2770\n",
       "贵州      2686\n",
       "甘肃      2518\n",
       "海南      1179\n",
       "宁夏       910\n",
       "青海       196\n",
       "新疆       191\n",
       "西藏       138\n",
       "Name: 所在省, dtype: int64"
      ]
     },
     "execution_count": 23,
     "metadata": {},
     "output_type": "execute_result"
    }
   ],
   "source": [
    "dataA['所在省'].value_counts()"
   ]
  },
  {
   "cell_type": "code",
   "execution_count": 24,
   "metadata": {},
   "outputs": [],
   "source": [
    "dataB = dataA[dataA['所在省'] == \"重庆\"]"
   ]
  },
  {
   "cell_type": "code",
   "execution_count": 28,
   "metadata": {},
   "outputs": [],
   "source": [
    "list_station_CQ = dataB['JD_deliveryman_name'].groupby(dataB['JD_lastStation']).count()"
   ]
  },
  {
   "cell_type": "code",
   "execution_count": 30,
   "metadata": {},
   "outputs": [],
   "source": [
    "list_station_CQ.to_excel(r\"G:\\work\\logistica\\info\\output\\chongqing.xlsx\")"
   ]
  },
  {
   "cell_type": "code",
   "execution_count": null,
   "metadata": {},
   "outputs": [],
   "source": []
  }
 ],
 "metadata": {
  "kernelspec": {
   "display_name": "Python 3",
   "language": "python",
   "name": "python3"
  },
  "language_info": {
   "codemirror_mode": {
    "name": "ipython",
    "version": 3
   },
   "file_extension": ".py",
   "mimetype": "text/x-python",
   "name": "python",
   "nbconvert_exporter": "python",
   "pygments_lexer": "ipython3",
   "version": "3.6.6"
  }
 },
 "nbformat": 4,
 "nbformat_minor": 2
}
