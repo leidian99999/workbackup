{
 "cells": [
  {
   "cell_type": "code",
   "execution_count": 1,
   "metadata": {},
   "outputs": [],
   "source": [
    "import pandas as pd\n",
    "import requests\n",
    "from bs4 import BeautifulSoup\n",
    "import json\n",
    "import os\n",
    "from urllib.request import urlopen, quote,URLError, HTTPError\n",
    "import time"
   ]
  },
  {
   "cell_type": "code",
   "execution_count": 2,
   "metadata": {},
   "outputs": [],
   "source": [
    "# 解析高德地图API网址信息\n",
    "def get_latlng_gaode(address,ak):\n",
    "    ak= ak\n",
    "    url=\"http://restapi.amap.com/v3/geocode/geo?key=%s&address=%s\"%(ak,address)\n",
    "    data=requests.get(url)\n",
    "    contest=data.json()\n",
    "    return contest"
   ]
  },
  {
   "cell_type": "code",
   "execution_count": 3,
   "metadata": {},
   "outputs": [],
   "source": [
    "def get_receiver_lnglat_gaode(address):\n",
    "    start_time = time.time()\n",
    "    re_List_gaode = []\n",
    "    for b in address:\n",
    "        print(b)\n",
    "        re_Dict_gaode = {}\n",
    "        try:\n",
    "            temp=get_latlng_gaode(b,ak_gaode)\n",
    "        except requests.exceptions.ConnectionError: # HTTPError\n",
    "            re_Dict_gaode[\"re_location_gaode\"] = \"请求出错\"         \n",
    "        else:\n",
    "            if (temp['count'] == \"1\"):\n",
    "                if('location' in temp['geocodes'][0]):\n",
    "                    re_Dict_gaode[\"re_location_gaode\"] = temp['geocodes'][0]['location']\n",
    "                else:\n",
    "                    pass\n",
    "                if ('formatted_address' in temp['geocodes'][0]):\n",
    "                    re_Dict_gaode[\"re_formatted_address_gaode\"] = temp['geocodes'][0]['formatted_address']\n",
    "                else:\n",
    "                    pass\n",
    "\n",
    "            elif (temp['count'] == \"0\"):\n",
    "                pass\n",
    "            elif (temp['status'] == \"0\"):\n",
    "                pass\n",
    "            else:\n",
    "                pass\n",
    "        re_List_gaode.append(re_Dict_gaode)\n",
    "    #     time.sleep(1)\n",
    "    end_time = time.time()\n",
    "    print(\"高德总用时：\",end_time-start_time)\n",
    "    return re_List_gaode"
   ]
  },
  {
   "cell_type": "code",
   "execution_count": 4,
   "metadata": {},
   "outputs": [],
   "source": [
    "def parse_gaode(df,address):\n",
    "    # 解析高德\n",
    "    list_gaode = get_receiver_lnglat_gaode(address)\n",
    "    # df化(高德)\n",
    "    df_gaode = pd.DataFrame(list_gaode)\n",
    "    data_gaode = pd.concat([df,df_gaode],axis=1)\n",
    "    print(\"data_gaode:\" + str(data_gaode.shape))\n",
    "    return data_gaode"
   ]
  },
  {
   "cell_type": "code",
   "execution_count": 5,
   "metadata": {},
   "outputs": [],
   "source": [
    "# ak码\n",
    "# ak_gaode = 'c71d9eda293d20db64955275557d92d4'\n",
    "ak_gaode = \"1c2682317206ccaa18ec2487bb45d880\"\n",
    "ak_baidu = 'z3KEtliyTGvj0bFudEkz4GO0GN8eQQa5'"
   ]
  },
  {
   "cell_type": "code",
   "execution_count": 6,
   "metadata": {},
   "outputs": [],
   "source": [
    "# 导入数据\n",
    "date = \"1902\"\n",
    "fileName = \"testJDXX.xlsx\"\n",
    "pinyin = \"JDXX\"\n",
    "mainpath = \"D:\\\\work\\\\basic\\\\carriers\\\\\"\n",
    "inputpath = mainpath + date + \"\\\\\"\n",
    "data = pd.read_excel(inputpath + fileName)"
   ]
  },
  {
   "cell_type": "code",
   "execution_count": 7,
   "metadata": {
    "scrolled": true
   },
   "outputs": [],
   "source": [
    "# 导出数据路径\n",
    "outpath_gaode = mainpath + date + \"\\\\output\\\\gaode\\\\\"\n",
    "name_ANSI_gaode = date + \"Info_lnglat_\" + pinyin + \"_gaode.xlsx\"\n",
    "name_UTF8_gaode = date + \"Info_lnglat_\" + pinyin + \"_gaode.csv\"\n",
    "\n",
    "outpath_baidu = mainpath + date + \"\\\\output\\\\baidu\\\\\"\n",
    "name_ANSI_baidu = date + \"Info_lnglat_\" + pinyin + \"_baidu.xlsx\"\n",
    "name_UTF8_baidu = date + \"Info_lnglat_\" + pinyin + \"_baidu.csv\"\n"
   ]
  },
  {
   "cell_type": "code",
   "execution_count": 8,
   "metadata": {
    "scrolled": false
   },
   "outputs": [
    {
     "data": {
      "text/plain": [
       "广东    3\n",
       "辽宁    1\n",
       "湖北    1\n",
       "重庆    1\n",
       "Name: 所在省, dtype: int64"
      ]
     },
     "execution_count": 8,
     "metadata": {},
     "output_type": "execute_result"
    }
   ],
   "source": [
    "data[\"所在省\"].value_counts()"
   ]
  },
  {
   "cell_type": "markdown",
   "metadata": {},
   "source": [
    "### 选取有效字段"
   ]
  },
  {
   "cell_type": "code",
   "execution_count": 9,
   "metadata": {},
   "outputs": [],
   "source": [
    "df = data[[\"所在省\",\"所在市\",\"收货地址\",\"订单编号\",\"承运商\",\"所在县\"]]"
   ]
  },
  {
   "cell_type": "code",
   "execution_count": 10,
   "metadata": {
    "scrolled": true
   },
   "outputs": [
    {
     "name": "stderr",
     "output_type": "stream",
     "text": [
      "d:\\python\\py35\\lib\\site-packages\\ipykernel_launcher.py:1: SettingWithCopyWarning: \n",
      "A value is trying to be set on a copy of a slice from a DataFrame.\n",
      "Try using .loc[row_indexer,col_indexer] = value instead\n",
      "\n",
      "See the caveats in the documentation: http://pandas.pydata.org/pandas-docs/stable/indexing.html#indexing-view-versus-copy\n",
      "  \"\"\"Entry point for launching an IPython kernel.\n"
     ]
    }
   ],
   "source": [
    "df[\"address_all\"]= df[\"所在省\"] +\"省\"+ df[\"所在市\"] + df[\"收货地址\"]"
   ]
  },
  {
   "cell_type": "code",
   "execution_count": 11,
   "metadata": {},
   "outputs": [],
   "source": [
    "df1 = df[df[\"所在省\"].isin([\"广东\"])].reset_index(drop=True)\n",
    "# df2 = df[df[\"所在省\"].isin([\"山东\"])].reset_index(drop=True)\n",
    "# df3 = df[df[\"所在省\"].isin([\"河南\"])].reset_index(drop=True)\n",
    "\n",
    "# df4 = df[df[\"所在省\"].isin([\"江苏\"])].reset_index(drop=True)\n",
    "# df5 = df[df[\"所在省\"].isin([\"河北\"])].reset_index(drop=True)\n",
    "# df6 = df[df[\"所在省\"].isin([\"湖北\"])].reset_index(drop=True)\n",
    "# df7 = df[df[\"所在省\"].isin([\"北京\"])].reset_index(drop=True)\n",
    "# df8 = df[df[\"所在省\"].isin([\"湖南\"])].reset_index(drop=True)\n",
    "\n",
    "# df9 = df[df[\"所在省\"].isin([\"浙江\",\"上海\"])].reset_index(drop=True)\n",
    "# df10 = df[df[\"所在省\"].isin([\"四川\",\"云南\",\"广西\"])].reset_index(drop=True)\n",
    "# df11 = df[df[\"所在省\"].isin([\"辽宁\",\"黑龙江\",\"安徽\"])].reset_index(drop=True)\n",
    "# df12 = df[df[\"所在省\"].isin([\"陕西\",\"山西\"])].reset_index(drop=True)\n",
    "\n",
    "# df13 = df[df[\"所在省\"].isin([\"吉林\",\"内蒙古\",\"重庆\",\"江西\",\"福建\",\"贵州\",\"甘肃\",\"天津\",\"宁夏\",\"海南\",\"青海\",\"西藏\",\"新疆\"])].reset_index(drop=True)"
   ]
  },
  {
   "cell_type": "markdown",
   "metadata": {},
   "source": [
    "### 文件分组并检查"
   ]
  },
  {
   "cell_type": "code",
   "execution_count": 12,
   "metadata": {},
   "outputs": [
    {
     "name": "stdout",
     "output_type": "stream",
     "text": [
      "data:(6, 49)\n",
      "df:(6, 7)\n"
     ]
    }
   ],
   "source": [
    "print(\"data:\" + str(data.shape))\n",
    "print(\"df:\" + str(df.shape))"
   ]
  },
  {
   "cell_type": "code",
   "execution_count": 13,
   "metadata": {},
   "outputs": [
    {
     "name": "stdout",
     "output_type": "stream",
     "text": [
      "广东省深圳市中山园路建工村保障性住房12栋1105\n",
      "广东省潮州市高堂镇邦湖村\n",
      "广东省广州市竹料镇沙亭岗村中国O3产业园\n",
      "高德总用时： 0.17255449295043945\n",
      "data_gaode:(3, 9)\n"
     ]
    }
   ],
   "source": [
    "data1_gaode = parse_gaode(df1,df1[\"address_all\"])"
   ]
  },
  {
   "cell_type": "code",
   "execution_count": 14,
   "metadata": {},
   "outputs": [
    {
     "data": {
      "text/html": [
       "<div>\n",
       "<style scoped>\n",
       "    .dataframe tbody tr th:only-of-type {\n",
       "        vertical-align: middle;\n",
       "    }\n",
       "\n",
       "    .dataframe tbody tr th {\n",
       "        vertical-align: top;\n",
       "    }\n",
       "\n",
       "    .dataframe thead th {\n",
       "        text-align: right;\n",
       "    }\n",
       "</style>\n",
       "<table border=\"1\" class=\"dataframe\">\n",
       "  <thead>\n",
       "    <tr style=\"text-align: right;\">\n",
       "      <th></th>\n",
       "      <th>所在省</th>\n",
       "      <th>所在市</th>\n",
       "      <th>收货地址</th>\n",
       "      <th>订单编号</th>\n",
       "      <th>承运商</th>\n",
       "      <th>所在县</th>\n",
       "      <th>address_all</th>\n",
       "      <th>re_formatted_address_gaode</th>\n",
       "      <th>re_location_gaode</th>\n",
       "    </tr>\n",
       "  </thead>\n",
       "  <tbody>\n",
       "    <tr>\n",
       "      <th>0</th>\n",
       "      <td>广东</td>\n",
       "      <td>深圳市</td>\n",
       "      <td>中山园路建工村保障性住房12栋1105</td>\n",
       "      <td>600101844000008319022502045182</td>\n",
       "      <td>京东线下</td>\n",
       "      <td>南山区</td>\n",
       "      <td>广东省深圳市中山园路建工村保障性住房12栋1105</td>\n",
       "      <td>广东省深圳市南山区建工村保障性住房|12栋</td>\n",
       "      <td>113.927380,22.564155</td>\n",
       "    </tr>\n",
       "    <tr>\n",
       "      <th>1</th>\n",
       "      <td>广东</td>\n",
       "      <td>潮州市</td>\n",
       "      <td>高堂镇邦湖村</td>\n",
       "      <td>690000000001008319021822065408</td>\n",
       "      <td>京东线下</td>\n",
       "      <td>饶平县</td>\n",
       "      <td>广东省潮州市高堂镇邦湖村</td>\n",
       "      <td>广东省潮州市饶平县高堂镇</td>\n",
       "      <td>116.940537,23.706640</td>\n",
       "    </tr>\n",
       "    <tr>\n",
       "      <th>2</th>\n",
       "      <td>广东</td>\n",
       "      <td>广州市</td>\n",
       "      <td>竹料镇沙亭岗村中国O3产业园</td>\n",
       "      <td>600101844000008319022201829436</td>\n",
       "      <td>京东线下</td>\n",
       "      <td>白云区</td>\n",
       "      <td>广东省广州市竹料镇沙亭岗村中国O3产业园</td>\n",
       "      <td>NaN</td>\n",
       "      <td>NaN</td>\n",
       "    </tr>\n",
       "  </tbody>\n",
       "</table>\n",
       "</div>"
      ],
      "text/plain": [
       "  所在省  所在市                 收货地址                            订单编号   承运商  所在县  \\\n",
       "0  广东  深圳市  中山园路建工村保障性住房12栋1105  600101844000008319022502045182  京东线下  南山区   \n",
       "1  广东  潮州市               高堂镇邦湖村  690000000001008319021822065408  京东线下  饶平县   \n",
       "2  广东  广州市       竹料镇沙亭岗村中国O3产业园  600101844000008319022201829436  京东线下  白云区   \n",
       "\n",
       "                 address_all re_formatted_address_gaode     re_location_gaode  \n",
       "0  广东省深圳市中山园路建工村保障性住房12栋1105      广东省深圳市南山区建工村保障性住房|12栋  113.927380,22.564155  \n",
       "1               广东省潮州市高堂镇邦湖村               广东省潮州市饶平县高堂镇  116.940537,23.706640  \n",
       "2       广东省广州市竹料镇沙亭岗村中国O3产业园                        NaN                   NaN  "
      ]
     },
     "execution_count": 14,
     "metadata": {},
     "output_type": "execute_result"
    }
   ],
   "source": [
    "data1_gaode"
   ]
  },
  {
   "cell_type": "code",
   "execution_count": null,
   "metadata": {},
   "outputs": [],
   "source": [
    "data_gaode = pd.concat([data1_gaode,data2_gaode,data3_gaode,data4_gaode,data5_gaode,data6_gaode,data7_gaode,\n",
    "                        data8_gaode,data9_gaode,data10_gaode,data11_gaode,data12_gaode,data13_gaode])"
   ]
  },
  {
   "cell_type": "code",
   "execution_count": null,
   "metadata": {},
   "outputs": [],
   "source": [
    "# 合表\n",
    "split_gaode = pd.DataFrame((x.split(',') for x in data_gaode['re_location_gaode']), index=data_gaode.index, columns=['re_siteLng_gaode','re_siteLat_gaode'])\n",
    "data_gaode = pd.merge(data_gaode,split_gaode,left_index=True,right_index=True)\n"
   ]
  },
  {
   "cell_type": "code",
   "execution_count": null,
   "metadata": {},
   "outputs": [],
   "source": [
    "# data_baidu = parse_baidu(df,df[\"address_all\"])"
   ]
  },
  {
   "cell_type": "code",
   "execution_count": null,
   "metadata": {},
   "outputs": [],
   "source": [
    "# 检查合并后结构\n",
    "print(\"data:\" + str(data.shape))\n",
    "print(\"df:\" + str(df.shape))\n",
    "print(\"data_gaode:\" + str(data_gaode.shape))\n",
    "# print(\"data_baidu:\" + str(data_baidu.shape))"
   ]
  },
  {
   "cell_type": "code",
   "execution_count": null,
   "metadata": {},
   "outputs": [],
   "source": [
    "# data_gaode.to_csv(outpath_gaode + name_UTF8_gaode,index=False)\n",
    "# data_baidu.to_csv(outpath_baidu + name_UTF8_baidu,index=False)"
   ]
  },
  {
   "cell_type": "code",
   "execution_count": null,
   "metadata": {},
   "outputs": [],
   "source": []
  },
  {
   "cell_type": "code",
   "execution_count": null,
   "metadata": {},
   "outputs": [],
   "source": [
    "data_gaode.head()"
   ]
  },
  {
   "cell_type": "code",
   "execution_count": null,
   "metadata": {},
   "outputs": [],
   "source": []
  }
 ],
 "metadata": {
  "kernelspec": {
   "display_name": "Python 3",
   "language": "python",
   "name": "python3"
  },
  "language_info": {
   "codemirror_mode": {
    "name": "ipython",
    "version": 3
   },
   "file_extension": ".py",
   "mimetype": "text/x-python",
   "name": "python",
   "nbconvert_exporter": "python",
   "pygments_lexer": "ipython3",
   "version": "3.5.2"
  }
 },
 "nbformat": 4,
 "nbformat_minor": 2
}
