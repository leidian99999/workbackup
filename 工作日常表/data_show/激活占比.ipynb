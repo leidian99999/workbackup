{
 "cells": [
  {
   "cell_type": "code",
   "execution_count": 1,
   "metadata": {},
   "outputs": [],
   "source": [
    "import pandas as pd\n",
    "import xlsxwriter"
   ]
  },
  {
   "cell_type": "code",
   "execution_count": 2,
   "metadata": {},
   "outputs": [],
   "source": [
    "inputPath = \"D:/work/daily/\""
   ]
  },
  {
   "cell_type": "code",
   "execution_count": 3,
   "metadata": {},
   "outputs": [],
   "source": [
    "date = '2019/5/26'"
   ]
  },
  {
   "cell_type": "code",
   "execution_count": 4,
   "metadata": {},
   "outputs": [],
   "source": [
    "data6 = pd.read_excel(inputPath + \"jihuozhanbi.xlsx\")"
   ]
  },
  {
   "cell_type": "code",
   "execution_count": 5,
   "metadata": {
    "scrolled": true
   },
   "outputs": [
    {
     "data": {
      "text/html": [
       "<div>\n",
       "<style scoped>\n",
       "    .dataframe tbody tr th:only-of-type {\n",
       "        vertical-align: middle;\n",
       "    }\n",
       "\n",
       "    .dataframe tbody tr th {\n",
       "        vertical-align: top;\n",
       "    }\n",
       "\n",
       "    .dataframe thead th {\n",
       "        text-align: right;\n",
       "    }\n",
       "</style>\n",
       "<table border=\"1\" class=\"dataframe\">\n",
       "  <thead>\n",
       "    <tr style=\"text-align: right;\">\n",
       "      <th></th>\n",
       "      <th>日期</th>\n",
       "      <th>4日激活占比</th>\n",
       "      <th>5-10天激活占比</th>\n",
       "      <th>11-15天激活占比</th>\n",
       "      <th>16-30天激活占比</th>\n",
       "      <th>30天以上激活占比</th>\n",
       "      <th>总计</th>\n",
       "    </tr>\n",
       "  </thead>\n",
       "  <tbody>\n",
       "    <tr>\n",
       "      <th>232</th>\n",
       "      <td>2019-05-21</td>\n",
       "      <td>0.847359</td>\n",
       "      <td>0.141667</td>\n",
       "      <td>0.004892</td>\n",
       "      <td>0.006082</td>\n",
       "      <td>0.000000</td>\n",
       "      <td>NaN</td>\n",
       "    </tr>\n",
       "    <tr>\n",
       "      <th>233</th>\n",
       "      <td>2019-05-22</td>\n",
       "      <td>0.860434</td>\n",
       "      <td>0.125596</td>\n",
       "      <td>0.005628</td>\n",
       "      <td>0.008210</td>\n",
       "      <td>0.000132</td>\n",
       "      <td>NaN</td>\n",
       "    </tr>\n",
       "    <tr>\n",
       "      <th>234</th>\n",
       "      <td>2019-05-23</td>\n",
       "      <td>0.882300</td>\n",
       "      <td>0.103500</td>\n",
       "      <td>0.004800</td>\n",
       "      <td>0.009200</td>\n",
       "      <td>0.000300</td>\n",
       "      <td>NaN</td>\n",
       "    </tr>\n",
       "    <tr>\n",
       "      <th>235</th>\n",
       "      <td>2019-05-24</td>\n",
       "      <td>0.897612</td>\n",
       "      <td>0.087620</td>\n",
       "      <td>0.005582</td>\n",
       "      <td>0.008974</td>\n",
       "      <td>0.000212</td>\n",
       "      <td>NaN</td>\n",
       "    </tr>\n",
       "    <tr>\n",
       "      <th>236</th>\n",
       "      <td>2019-05-25</td>\n",
       "      <td>0.897220</td>\n",
       "      <td>0.089113</td>\n",
       "      <td>0.006248</td>\n",
       "      <td>0.007341</td>\n",
       "      <td>0.000078</td>\n",
       "      <td>NaN</td>\n",
       "    </tr>\n",
       "  </tbody>\n",
       "</table>\n",
       "</div>"
      ],
      "text/plain": [
       "            日期    4日激活占比  5-10天激活占比  11-15天激活占比  16-30天激活占比  30天以上激活占比  总计\n",
       "232 2019-05-21  0.847359   0.141667    0.004892    0.006082   0.000000 NaN\n",
       "233 2019-05-22  0.860434   0.125596    0.005628    0.008210   0.000132 NaN\n",
       "234 2019-05-23  0.882300   0.103500    0.004800    0.009200   0.000300 NaN\n",
       "235 2019-05-24  0.897612   0.087620    0.005582    0.008974   0.000212 NaN\n",
       "236 2019-05-25  0.897220   0.089113    0.006248    0.007341   0.000078 NaN"
      ]
     },
     "execution_count": 5,
     "metadata": {},
     "output_type": "execute_result"
    }
   ],
   "source": [
    "data6.tail()"
   ]
  },
  {
   "cell_type": "code",
   "execution_count": 6,
   "metadata": {},
   "outputs": [
    {
     "name": "stdout",
     "output_type": "stream",
     "text": [
      "<class 'pandas.core.frame.DataFrame'>\n",
      "RangeIndex: 237 entries, 0 to 236\n",
      "Data columns (total 7 columns):\n",
      "日期            237 non-null datetime64[ns]\n",
      "4日激活占比        237 non-null float64\n",
      "5-10天激活占比     237 non-null float64\n",
      "11-15天激活占比    237 non-null float64\n",
      "16-30天激活占比    237 non-null float64\n",
      "30天以上激活占比     237 non-null float64\n",
      "总计            55 non-null float64\n",
      "dtypes: datetime64[ns](1), float64(6)\n",
      "memory usage: 13.0 KB\n"
     ]
    }
   ],
   "source": [
    "data6.info()"
   ]
  },
  {
   "cell_type": "code",
   "execution_count": null,
   "metadata": {},
   "outputs": [],
   "source": [
    "data6 = data6.drop(columns=[\"总计\"])"
   ]
  },
  {
   "cell_type": "code",
   "execution_count": null,
   "metadata": {},
   "outputs": [],
   "source": [
    "data6.tail()"
   ]
  },
  {
   "cell_type": "code",
   "execution_count": null,
   "metadata": {},
   "outputs": [],
   "source": [
    "data6[\"30天以上激活占比\"] = data6[\"30天以上激活占比\"].apply(lambda x: format(x, '.2%'))"
   ]
  },
  {
   "cell_type": "code",
   "execution_count": null,
   "metadata": {},
   "outputs": [],
   "source": [
    "data6.head()"
   ]
  },
  {
   "cell_type": "code",
   "execution_count": null,
   "metadata": {},
   "outputs": [],
   "source": [
    "data5 = pd.read_excel(inputPath + \"A1_type_active_shengchan.xlsx\",\n",
    "                     skiprows=4,\n",
    "                     header=None,\n",
    "                     sheet_name=\"激活时效\",\n",
    "                     nrows=6)"
   ]
  },
  {
   "cell_type": "code",
   "execution_count": null,
   "metadata": {},
   "outputs": [],
   "source": [
    "data5 = data5.drop([0, 1], axis=1)"
   ]
  },
  {
   "cell_type": "code",
   "execution_count": null,
   "metadata": {},
   "outputs": [],
   "source": [
    "data5"
   ]
  },
  {
   "cell_type": "code",
   "execution_count": null,
   "metadata": {},
   "outputs": [],
   "source": [
    "new=pd.DataFrame({'日期':date,\n",
    "                  '4日激活占比':data5.iloc[0,2],\n",
    "                  '5-10天激活占比':data5.iloc[1,2],\n",
    "                  '11-15天激活占比':data5.iloc[2,2],\n",
    "                  '16-30天激活占比':data5.iloc[3,2],\n",
    "                  '30天以上激活占比':data5.iloc[4,2],\n",
    "                 },index=[1])"
   ]
  },
  {
   "cell_type": "code",
   "execution_count": null,
   "metadata": {},
   "outputs": [],
   "source": [
    "new"
   ]
  },
  {
   "cell_type": "code",
   "execution_count": null,
   "metadata": {},
   "outputs": [],
   "source": [
    "data6=data6.append(new,ignore_index=True)"
   ]
  },
  {
   "cell_type": "code",
   "execution_count": null,
   "metadata": {},
   "outputs": [],
   "source": [
    "data6.tail()"
   ]
  },
  {
   "cell_type": "code",
   "execution_count": null,
   "metadata": {},
   "outputs": [],
   "source": [
    "data6.info()"
   ]
  },
  {
   "cell_type": "code",
   "execution_count": null,
   "metadata": {},
   "outputs": [],
   "source": [
    "# data6[\"日期\"] = pd.to_datetime(data6[\"日期\"])\n"
   ]
  },
  {
   "cell_type": "code",
   "execution_count": null,
   "metadata": {},
   "outputs": [],
   "source": [
    "data6.tail()"
   ]
  },
  {
   "cell_type": "code",
   "execution_count": null,
   "metadata": {},
   "outputs": [],
   "source": [
    "data6[\"日期\"] = data6[\"日期\"].map(lambdaa x : str(x))"
   ]
  },
  {
   "cell_type": "code",
   "execution_count": null,
   "metadata": {},
   "outputs": [],
   "source": [
    "data6.tail()"
   ]
  },
  {
   "cell_type": "code",
   "execution_count": null,
   "metadata": {},
   "outputs": [],
   "source": []
  }
 ],
 "metadata": {
  "kernelspec": {
   "display_name": "Python 3",
   "language": "python",
   "name": "python3"
  },
  "language_info": {
   "codemirror_mode": {
    "name": "ipython",
    "version": 3
   },
   "file_extension": ".py",
   "mimetype": "text/x-python",
   "name": "python",
   "nbconvert_exporter": "python",
   "pygments_lexer": "ipython3",
   "version": "3.6.6"
  }
 },
 "nbformat": 4,
 "nbformat_minor": 2
}
