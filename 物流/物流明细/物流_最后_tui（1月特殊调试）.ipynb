{
 "cells": [
  {
   "cell_type": "code",
   "execution_count": 1,
   "metadata": {},
   "outputs": [],
   "source": [
    "import pandas as pd\n",
    "import re\n",
    "import openpyxl\n",
    "pd.set_option('max_colwidth',1000)"
   ]
  },
  {
   "cell_type": "code",
   "execution_count": 2,
   "metadata": {},
   "outputs": [
    {
     "name": "stdout",
     "output_type": "stream",
     "text": [
      "查询接口：4250123行，7列：\n"
     ]
    }
   ],
   "source": [
    "df_tui = pd.read_csv(\"G:/work/logistica/input/tui/tui_Jan19.csv\")\n",
    "print(\"查询接口：{}行，{}列：\".format(df_tui.shape[0],df_tui.shape[1]))"
   ]
  },
  {
   "cell_type": "code",
   "execution_count": 3,
   "metadata": {},
   "outputs": [],
   "source": [
    "df_tui[\"承运商\"] = df_tui[\"承运商\"].map(lambda x:str(x))\n",
    "df_tui[\"承运商\"] = df_tui[\"承运商\"].map(str.strip)"
   ]
  },
  {
   "cell_type": "code",
   "execution_count": 4,
   "metadata": {},
   "outputs": [],
   "source": [
    "dict ={'ems':'EMS','邮政':'EMS','100000137':'圆通','ZHAIJISONG':'宅急送','jingdongwuliu':'京东物流'}\n",
    "\n",
    "df1_tui = df_tui.replace(dict)\n"
   ]
  },
  {
   "cell_type": "code",
   "execution_count": 5,
   "metadata": {},
   "outputs": [],
   "source": [
    "df1_tui_SF = df1_tui[df1_tui[\"承运商\"] == \"顺丰\"]\n",
    "df1_tui_EMS = df1_tui[df1_tui[\"承运商\"] == \"EMS\"]\n",
    "df1_tui_JD = df1_tui[df1_tui[\"承运商\"] == \"京东物流\"]\n",
    "df1_tui_YD = df1_tui[df1_tui[\"承运商\"] == \"韵达\"]\n",
    "df1_tui_ZT = df1_tui[df1_tui[\"承运商\"] == \"中通\"]\n",
    "df1_tui_ZJS = df1_tui[df1_tui[\"承运商\"] == \"宅急送\"]\n",
    "df1_tui_YT = df1_tui[df1_tui[\"承运商\"] == \"圆通\"]\n",
    "df1_tui_hyytes = df1_tui[df1_tui[\"承运商\"] == \"恒宇运通\"]\n",
    "df1_tui_YZ = df1_tui[df1_tui[\"承运商\"] == \"邮政包裹\"]"
   ]
  },
  {
   "cell_type": "code",
   "execution_count": 53,
   "metadata": {},
   "outputs": [
    {
     "name": "stderr",
     "output_type": "stream",
     "text": [
      "d:\\python\\envs\\jupyterpy36\\lib\\site-packages\\pandas\\core\\frame.py:3140: SettingWithCopyWarning: \n",
      "A value is trying to be set on a copy of a slice from a DataFrame.\n",
      "Try using .loc[row_indexer,col_indexer] = value instead\n",
      "\n",
      "See the caveats in the documentation: http://pandas.pydata.org/pandas-docs/stable/indexing.html#indexing-view-versus-copy\n",
      "  self[k1] = value[k2]\n"
     ]
    }
   ],
   "source": [
    "# df1_tui_EMS[['EMS快递员','EMS快递员电话']] = df1_tui_EMS['物流轨迹'].str.extract('员姓名：(\\\\w+);联系电话：(\\\\d+)', expand=False)\n",
    "df1_tui_JD[['JD快递员','JD快递员电话']] = df1_tui_JD['物流轨迹'].str.extract('配送员：(\\\\w+)，电话：(\\\\d+)', expand=False)\n",
    "# df1_tui_ZT[['ZT快递员','ZT快递员电话']] = df1_tui_ZT['物流轨迹'].str.extract('的\\((\\\\w+)\\)正在派件\\((\\\\d+)\\)', expand=False)\n",
    "# df1_tui_YZ[['YZ快递员','YZ快递员电话']] = df1_tui_YZ['物流轨迹'].str.extract('配送员：(\\\\w+)，电话：(\\\\d+)', expand=False)\n",
    "# df1_tui_YD[['YD快递员','YD快递员电话']] = df1_tui_YD['物流轨迹'].str.extract('派件员\\s(\\\\w+)\\s(\\\\d+)', expand=False)\n",
    "# df1_tui_hyytes[['hyytes快递员','hyytes快递员电话']] = df1_tui_hyytes['物流轨迹'].str.extract('员[(\\\\w+)].*电话[(\\\\d+)]', expand=False)\n",
    "# df1_tui_hyytes[['hyytes快递员', 'hyytes快递员电话']] = df1_tui_hyytes['物流轨迹'].str.extract('员\\[(\\\\w+)\\].*电话\\[(\\\\d+)\\]', expand=False)\n"
   ]
  },
  {
   "cell_type": "code",
   "execution_count": null,
   "metadata": {},
   "outputs": [],
   "source": [
    "货物已由[总站]的派送员[杨希安]反馈为[配送成功],电话[13911011126]\n",
    "货物由[总站]的派件员[郭清池]正在派件..电话[18519909930]"
   ]
  },
  {
   "cell_type": "code",
   "execution_count": 56,
   "metadata": {},
   "outputs": [
    {
     "name": "stdout",
     "output_type": "stream",
     "text": [
      "        JD快递员  \\\n",
      "4249438   所学华   \n",
      "4249443   古品财   \n",
      "4249445   NaN   \n",
      "4249459   NaN   \n",
      "4249517   杨光俊   \n",
      "4249534   NaN   \n",
      "4249535   张敬珍   \n",
      "4249552   NaN   \n",
      "4249572   NaN   \n",
      "4249573    杨罗   \n",
      "4249577   NaN   \n",
      "4249605   尤丽萍   \n",
      "4249631   NaN   \n",
      "4249638   NaN   \n",
      "4249666   NaN   \n",
      "4249678   NaN   \n",
      "4249680   马湫雲   \n",
      "4249689   杨学锋   \n",
      "4249693   蔡益飞   \n",
      "4249699   NaN   \n",
      "4249700    黄勇   \n",
      "4249704   NaN   \n",
      "4249728   NaN   \n",
      "4249745    沈彬   \n",
      "4249746   NaN   \n",
      "4249756   王俭博   \n",
      "4249766   李佳伟   \n",
      "4249771   NaN   \n",
      "4249784   阳廷志   \n",
      "4249791   NaN   \n",
      "4249807   马湫雲   \n",
      "4249856   NaN   \n",
      "4249857   NaN   \n",
      "4249871   NaN   \n",
      "4249872   NaN   \n",
      "4249895   NaN   \n",
      "4249914   NaN   \n",
      "4249919   NaN   \n",
      "4249931   NaN   \n",
      "4249945   王小兵   \n",
      "4249956   NaN   \n",
      "4249980   NaN   \n",
      "4249981   NaN   \n",
      "4250000    李欣   \n",
      "4250006   李红雄   \n",
      "4250011   张祖松   \n",
      "4250051   周林彪   \n",
      "4250059   NaN   \n",
      "4250092   NaN   \n",
      "4250119   NaN   \n",
      "\n",
      "                                                                           物流轨迹  \n",
      "4249438                      您的订单正在配送途中（配送员：所学华，电话：13108562106）请您准备签收，感谢您的耐心等待   \n",
      "4249443                      您的订单正在配送途中（配送员：古品财，电话：18122710898）请您准备签收，感谢您的耐心等待   \n",
      "4249445                                                     您的订单已到达京东【厦门将军祠营业部】  \n",
      "4249459                                                                    分拣验货  \n",
      "4249517                      您的订单正在配送途中（配送员：杨光俊，电话：13118753703）请您准备签收，感谢您的耐心等待   \n",
      "4249534                    再投原因：[原因：转其他方式配送，备注：再投无备注下次再投时间:2019-02-14 10:00:00]  \n",
      "4249535                      您的订单正在配送途中（配送员：张敬珍，电话：19948803820）请您准备签收，感谢您的耐心等待   \n",
      "4249552  再投原因：[原因：拒收待商家审核，备注：再投原因:外单拒收再审核拒收-连续三天无法联系下次再投时间:2019-02-13 17:04:14]  \n",
      "4249572                                                         拒收原因：[连续三天无法联系]  \n",
      "4249573                       您的订单正在配送途中（配送员：杨罗，电话：18384260639）请您准备签收，感谢您的耐心等待   \n",
      "4249577                                                                      妥投  \n",
      "4249605               【西南众包站】您的订单正在配送途中（配送员：尤丽萍，电话：15288038001）请您准备签收，感谢您的耐心等待   \n",
      "4249631                                                                      妥投  \n",
      "4249638                                                                      妥投  \n",
      "4249666                                                   离开雅安市邮政局邮件处理分局 发往下一城市  \n",
      "4249678                                                                      妥投  \n",
      "4249680               【西南众包站】您的订单正在配送途中（配送员：马湫雲，电话：13987887723）请您准备签收，感谢您的耐心等待   \n",
      "4249689                      您的订单正在配送途中（配送员：杨学锋，电话：13990500448）请您准备签收，感谢您的耐心等待   \n",
      "4249693                      您的订单正在配送途中（配送员：蔡益飞，电话：18042304780）请您准备签收，感谢您的耐心等待   \n",
      "4249699                                                                      妥投  \n",
      "4249700                       您的订单正在配送途中（配送员：黄勇，电话：18193415242）请您准备签收，感谢您的耐心等待   \n",
      "4249704                                                                      妥投  \n",
      "4249728                                                                      妥投  \n",
      "4249745                       您的订单正在配送途中（配送员：沈彬，电话：18088154259）请您准备签收，感谢您的耐心等待   \n",
      "4249746                                                                      妥投  \n",
      "4249756                      您的订单正在配送途中（配送员：王俭博，电话：18137038782）请您准备签收，感谢您的耐心等待   \n",
      "4249766                      您的订单正在配送途中（配送员：李佳伟，电话：13739999258）请您准备签收，感谢您的耐心等待   \n",
      "4249771                                                                      妥投  \n",
      "4249784                      您的订单正在配送途中（配送员：阳廷志，电话：13108580025）请您准备签收，感谢您的耐心等待   \n",
      "4249791                                                      您的订单已到达京东【保山隆阳营业部】  \n",
      "4249807               【西南众包站】您的订单正在配送途中（配送员：马湫雲，电话：13987887723）请您准备签收，感谢您的耐心等待   \n",
      "4249856                                                您的订单由京东【济南分拣中心】送往【烟台中转场】  \n",
      "4249857                                                                      妥投  \n",
      "4249871                                                                    分拣验货  \n",
      "4249872                                                             拒收原因：[客户误购]  \n",
      "4249895                                                         拒收原因：[连续三天无法联系]  \n",
      "4249914                                                                      妥投  \n",
      "4249919                                                                      妥投  \n",
      "4249931                                                                      妥投  \n",
      "4249945                      您的订单正在配送途中（配送员：王小兵，电话：18185437857）请您准备签收，感谢您的耐心等待   \n",
      "4249956                                                                      妥投  \n",
      "4249980                                                                      妥投  \n",
      "4249981    再投原因：[原因：拒收待商家审核，备注：再投原因:外单拒收再审核拒收-客户无法收货下次再投时间:2019-02-13 21:39:18]  \n",
      "4250000                       您的订单正在配送途中（配送员：李欣，电话：18760768390）请您准备签收，感谢您的耐心等待   \n",
      "4250006                      您的订单正在配送途中（配送员：李红雄，电话：15687216212）请您准备签收，感谢您的耐心等待   \n",
      "4250011                      您的订单正在配送途中（配送员：张祖松，电话：18668247620）请您准备签收，感谢您的耐心等待   \n",
      "4250051                      您的订单正在配送途中（配送员：周林彪，电话：17098158236）请您准备签收，感谢您的耐心等待   \n",
      "4250059                                                                      妥投  \n",
      "4250092                                                       您的订单已到达京东【济南分拣中心】  \n",
      "4250119                                                                      妥投  \n"
     ]
    }
   ],
   "source": [
    "print(df1_tui_JD[['JD快递员','物流轨迹']].tail(50))"
   ]
  },
  {
   "cell_type": "code",
   "execution_count": 39,
   "metadata": {},
   "outputs": [],
   "source": [
    "df1_tui_EMS_out = df1_tui_EMS[['EMS快递员','写卡渠道','订单编号','订单状态','号码归属地']]\n",
    "df1_tui_JD_out = df1_tui_JD[['JD快递员','写卡渠道','订单编号','订单状态','号码归属地']]\n",
    "df1_tui_ZT_out = df1_tui_ZT[['ZT快递员','写卡渠道','订单编号','订单状态','号码归属地']]\n",
    "df1_tui_YZ_out = df1_tui_YZ[['YZ快递员','写卡渠道','订单编号','订单状态','号码归属地']]\n",
    "df1_tui_YD_out = df1_tui_YD[['YD快递员','写卡渠道','订单编号','订单状态','号码归属地']]\n",
    "df1_tui_hyytes_out = df1_tui_hyytes[['hyytes快递员姓名','写卡渠道','订单编号','订单状态','号码归属地']]"
   ]
  },
  {
   "cell_type": "code",
   "execution_count": 57,
   "metadata": {},
   "outputs": [],
   "source": [
    "writer = \"G:/work/logistica/output/TUI/1901/\"\n",
    "# df1_tui_ZT_out.to_excel(writer + \"1901_tui_ZT.xlsx\",sheet_name=\"ZT\",index=False)\n",
    "df1_tui_JD_out.to_excel(writer + \"1901_tui_JD.xlsx\",sheet_name=\"JD\",index=False)\n",
    "# df1_tui_EMS_out.to_excel(writer + \"1901_tui_EMS.xlsx\",sheet_name=\"EMS\",index=False)\n",
    "# df1_tui_YZ_out.to_excel(writer + \"1901_tui_YZ.xlsx\",sheet_name=\"YZ\",index=False)\n",
    "# df1_tui_hyytes_out.to_excel(writer + \"1901_tui_hyytes.xlsx\",sheet_name=\"hyytes\",index=False)\n",
    "# df1_tui_YD_out.to_excel(writer + \"1901_tui_YD.xlsx\",sheet_name=\"YD\",index=False)"
   ]
  },
  {
   "cell_type": "code",
   "execution_count": 41,
   "metadata": {},
   "outputs": [
    {
     "data": {
      "text/plain": [
       "(28, 9)"
      ]
     },
     "execution_count": 41,
     "metadata": {},
     "output_type": "execute_result"
    }
   ],
   "source": [
    "df1_tui_YZ.shape"
   ]
  },
  {
   "cell_type": "code",
   "execution_count": null,
   "metadata": {},
   "outputs": [],
   "source": []
  }
 ],
 "metadata": {
  "kernelspec": {
   "display_name": "Python 3",
   "language": "python",
   "name": "python3"
  },
  "language_info": {
   "codemirror_mode": {
    "name": "ipython",
    "version": 3
   },
   "file_extension": ".py",
   "mimetype": "text/x-python",
   "name": "python",
   "nbconvert_exporter": "python",
   "pygments_lexer": "ipython3",
   "version": "3.6.6"
  }
 },
 "nbformat": 4,
 "nbformat_minor": 2
}
