{
 "cells": [
  {
   "cell_type": "code",
   "execution_count": 7,
   "metadata": {},
   "outputs": [],
   "source": [
    "import pandas as pd\n",
    "import requests\n",
    "from bs4 import BeautifulSoup\n",
    "import json\n",
    "import os\n",
    "from urllib.request import urlopen, quote,URLError, HTTPError\n",
    "import time"
   ]
  },
  {
   "cell_type": "code",
   "execution_count": 3,
   "metadata": {},
   "outputs": [],
   "source": [
    "inputpath_urls = \"G:\\\\work\\\\logistica\\\\stations\\\\JDStations\\\\yuanURL\\\\浙江/浙江.xlsx\"\n",
    "inputpath_citys = \"G:\\\\work\\\\logistica\\\\stations\\\\JDStations\\\\stations\\\\zhejiangcityID.xlsx\"\n",
    "\n",
    "# 导入数据\n",
    "df = pd.read_excel(inputpath_urls)\n",
    "data_city = pd.read_excel(inputpath_citys)\n",
    "province = \"浙江省\""
   ]
  },
  {
   "cell_type": "code",
   "execution_count": 4,
   "metadata": {},
   "outputs": [
    {
     "name": "stdout",
     "output_type": "stream",
     "text": [
      "验证完整地址：\n",
      "['http://www.jdwl.com/site/querySiteList?provinceId=15&cityId=1158&countyId=1224', 'http://www.jdwl.com/site/querySiteList?provinceId=15&cityId=1158&countyId=1226', 'http://www.jdwl.com/site/querySiteList?provinceId=15&cityId=1158&countyId=1227']\n"
     ]
    }
   ],
   "source": [
    "urls = []\n",
    "for a in df[\"url\"]:\n",
    "    urls.append(\"http://www.jdwl.com/site/querySiteList?\" + a)\n",
    "\n",
    "print(\"验证完整地址：\")\n",
    "print(urls[0:3])"
   ]
  },
  {
   "cell_type": "code",
   "execution_count": null,
   "metadata": {},
   "outputs": [],
   "source": []
  },
  {
   "cell_type": "code",
   "execution_count": 5,
   "metadata": {},
   "outputs": [],
   "source": [
    "def get_JD_siteInfo(urls):\n",
    "    JD_siteList = []\n",
    "    for url in urls:\n",
    "        request = requests.get(url)\n",
    "        soup = BeautifulSoup(request.content, \"lxml\").get_text()\n",
    "        jsonlist = json.loads(soup)\n",
    "        for i in range(len(jsonlist)):\n",
    "            JD_siteDict = {}\n",
    "            JD_siteDict[\"JD_siteBusinessName\"] = jsonlist[i][\"siteBusinessName\"]\n",
    "            JD_siteDict[\"JD_siteProvinceId\"] = jsonlist[i][\"provinceId\"]\n",
    "            JD_siteDict[\"JD_siteCityId\"] = jsonlist[i][\"cityId\"]\n",
    "            JD_siteDict[\"JD_siteCountyId\"] = jsonlist[i][\"countyId\"]\n",
    "            JD_siteDict[\"JD_siteName\"] = jsonlist[i][\"siteName\"]\n",
    "            if 'address' in jsonlist[i]:\n",
    "                JD_siteDict[\"JD_siteAddress\"] = jsonlist[i][\"address\"]\n",
    "            else:\n",
    "                pass\n",
    "            if 'latitude' in jsonlist[i]:\n",
    "                JD_siteDict[\"JD_siteLatitude\"] = jsonlist[i]['latitude']\n",
    "            else:\n",
    "                pass  \n",
    "            if 'longitude' in jsonlist[i]:\n",
    "                JD_siteDict[\"JD_siteLongitude\"] = jsonlist[i]['longitude']\n",
    "            else:\n",
    "                pass       \n",
    "            if \"telephone\" in jsonlist[i]:\n",
    "                JD_siteDict[\"JD_siteTelephone\"] = jsonlist[i][\"telephone\"]\n",
    "            else:\n",
    "                pass\n",
    "            JD_siteList.append(JD_siteDict)\n",
    "    return JD_siteList"
   ]
  },
  {
   "cell_type": "code",
   "execution_count": 8,
   "metadata": {},
   "outputs": [
    {
     "name": "stdout",
     "output_type": "stream",
     "text": [
      "去除空白地址前：\n",
      "False    447\n",
      "True       1\n",
      "Name: JD_siteAddress, dtype: int64\n",
      "去除空白地址后：\n",
      "False    447\n",
      "Name: JD_siteAddress, dtype: int64\n",
      "**************************************************\n",
      "查看JD网店及对应城市列名：\n",
      "Index(['JD_siteAddress', 'JD_siteBusinessName', 'JD_siteCityId',\n",
      "       'JD_siteCountyId', 'JD_siteLatitude', 'JD_siteLongitude', 'JD_siteName',\n",
      "       'JD_siteProvinceId', 'JD_siteTelephone'],\n",
      "      dtype='object')\n",
      "$$$$$$$$$$$$$$$$$$$$$$$$$$$$$$\n",
      "Index(['cityId', 'cityName'], dtype='object')\n",
      "**************************************************\n"
     ]
    }
   ],
   "source": [
    "df_JD_siteInfo = pd.DataFrame(get_JD_siteInfo(urls))\n",
    "# 去除空白地址所在行\n",
    "print(\"去除空白地址前：\")\n",
    "print(df_JD_siteInfo['JD_siteAddress'].isnull().value_counts())\n",
    "df_JD_siteInfo = df_JD_siteInfo.dropna(subset=[\"JD_siteAddress\"])\n",
    "print(\"去除空白地址后：\")\n",
    "print(df_JD_siteInfo['JD_siteAddress'].isnull().value_counts())\n",
    "print(\"*\"*50)\n",
    "print(\"查看JD网店及对应城市列名：\")\n",
    "print(df_JD_siteInfo.columns)\n",
    "print(\"$\"*30)\n",
    "print(data_city.columns)\n",
    "print(\"*\"*50)"
   ]
  },
  {
   "cell_type": "code",
   "execution_count": 13,
   "metadata": {},
   "outputs": [],
   "source": [
    "data_city['cityId'] = data_city['cityId'].map(lambda x:int(x))"
   ]
  },
  {
   "cell_type": "code",
   "execution_count": 14,
   "metadata": {},
   "outputs": [],
   "source": [
    "df_JD_siteInfo[\"JD_siteCityId\"] = df_JD_siteInfo[\"JD_siteCityId\"].map(lambda x:int(x))"
   ]
  },
  {
   "cell_type": "code",
   "execution_count": 23,
   "metadata": {},
   "outputs": [],
   "source": [
    "df_JD_siteInfo = pd.merge(df_JD_siteInfo,data_city,how=\"left\",left_on=\"JD_siteCityId\",right_on=\"cityId\")"
   ]
  },
  {
   "cell_type": "code",
   "execution_count": 21,
   "metadata": {
    "collapsed": true
   },
   "outputs": [
    {
     "ename": "TypeError",
     "evalue": "first argument must be an iterable of pandas objects, you passed an object of type \"DataFrame\"",
     "output_type": "error",
     "traceback": [
      "\u001b[1;31m---------------------------------------------------------------------------\u001b[0m",
      "\u001b[1;31mTypeError\u001b[0m                                 Traceback (most recent call last)",
      "\u001b[1;32m<ipython-input-21-d9f8bd372d9a>\u001b[0m in \u001b[0;36m<module>\u001b[1;34m()\u001b[0m\n\u001b[1;32m----> 1\u001b[1;33m \u001b[0mdf_JD_siteInfoA\u001b[0m \u001b[1;33m=\u001b[0m \u001b[0mpd\u001b[0m\u001b[1;33m.\u001b[0m\u001b[0mconcat\u001b[0m\u001b[1;33m(\u001b[0m\u001b[0mdf_JD_siteInfo\u001b[0m\u001b[1;33m,\u001b[0m\u001b[0ma\u001b[0m\u001b[1;33m)\u001b[0m\u001b[1;33m\u001b[0m\u001b[0m\n\u001b[0m",
      "\u001b[1;32md:\\python\\envs\\jupyterpy36\\lib\\site-packages\\pandas\\core\\reshape\\concat.py\u001b[0m in \u001b[0;36mconcat\u001b[1;34m(objs, axis, join, join_axes, ignore_index, keys, levels, names, verify_integrity, sort, copy)\u001b[0m\n\u001b[0;32m    223\u001b[0m                        \u001b[0mkeys\u001b[0m\u001b[1;33m=\u001b[0m\u001b[0mkeys\u001b[0m\u001b[1;33m,\u001b[0m \u001b[0mlevels\u001b[0m\u001b[1;33m=\u001b[0m\u001b[0mlevels\u001b[0m\u001b[1;33m,\u001b[0m \u001b[0mnames\u001b[0m\u001b[1;33m=\u001b[0m\u001b[0mnames\u001b[0m\u001b[1;33m,\u001b[0m\u001b[1;33m\u001b[0m\u001b[0m\n\u001b[0;32m    224\u001b[0m                        \u001b[0mverify_integrity\u001b[0m\u001b[1;33m=\u001b[0m\u001b[0mverify_integrity\u001b[0m\u001b[1;33m,\u001b[0m\u001b[1;33m\u001b[0m\u001b[0m\n\u001b[1;32m--> 225\u001b[1;33m                        copy=copy, sort=sort)\n\u001b[0m\u001b[0;32m    226\u001b[0m     \u001b[1;32mreturn\u001b[0m \u001b[0mop\u001b[0m\u001b[1;33m.\u001b[0m\u001b[0mget_result\u001b[0m\u001b[1;33m(\u001b[0m\u001b[1;33m)\u001b[0m\u001b[1;33m\u001b[0m\u001b[0m\n\u001b[0;32m    227\u001b[0m \u001b[1;33m\u001b[0m\u001b[0m\n",
      "\u001b[1;32md:\\python\\envs\\jupyterpy36\\lib\\site-packages\\pandas\\core\\reshape\\concat.py\u001b[0m in \u001b[0;36m__init__\u001b[1;34m(self, objs, axis, join, join_axes, keys, levels, names, ignore_index, verify_integrity, copy, sort)\u001b[0m\n\u001b[0;32m    239\u001b[0m             raise TypeError('first argument must be an iterable of pandas '\n\u001b[0;32m    240\u001b[0m                             \u001b[1;34m'objects, you passed an object of type '\u001b[0m\u001b[1;33m\u001b[0m\u001b[0m\n\u001b[1;32m--> 241\u001b[1;33m                             '\"{name}\"'.format(name=type(objs).__name__))\n\u001b[0m\u001b[0;32m    242\u001b[0m \u001b[1;33m\u001b[0m\u001b[0m\n\u001b[0;32m    243\u001b[0m         \u001b[1;32mif\u001b[0m \u001b[0mjoin\u001b[0m \u001b[1;33m==\u001b[0m \u001b[1;34m'outer'\u001b[0m\u001b[1;33m:\u001b[0m\u001b[1;33m\u001b[0m\u001b[0m\n",
      "\u001b[1;31mTypeError\u001b[0m: first argument must be an iterable of pandas objects, you passed an object of type \"DataFrame\""
     ]
    }
   ],
   "source": [
    "df_JD_siteInfoA = pd.concat(df_JD_siteInfo,a)"
   ]
  },
  {
   "cell_type": "code",
   "execution_count": 22,
   "metadata": {},
   "outputs": [],
   "source": [
    "a.to_excel(r\"G:\\work\\logistica\\stations\\JDStations\\stations\\text1.xlsx\")"
   ]
  },
  {
   "cell_type": "code",
   "execution_count": 24,
   "metadata": {},
   "outputs": [],
   "source": [
    "df_JD_siteInfo.to_excel(r\"G:\\work\\logistica\\stations\\JDStations\\stations\\text.xlsx\")"
   ]
  },
  {
   "cell_type": "code",
   "execution_count": null,
   "metadata": {},
   "outputs": [],
   "source": [
    "print(df_JD_siteInfo[[\"JD_siteCityId\",\"JD_cityName\"]])"
   ]
  },
  {
   "cell_type": "code",
   "execution_count": null,
   "metadata": {},
   "outputs": [],
   "source": []
  },
  {
   "cell_type": "code",
   "execution_count": null,
   "metadata": {},
   "outputs": [],
   "source": []
  },
  {
   "cell_type": "code",
   "execution_count": null,
   "metadata": {},
   "outputs": [],
   "source": []
  },
  {
   "cell_type": "code",
   "execution_count": null,
   "metadata": {
    "scrolled": true
   },
   "outputs": [],
   "source": [
    "print(data.columns)\n",
    "print(\"*\"*30)\n",
    "print(data_city.columns)"
   ]
  },
  {
   "cell_type": "code",
   "execution_count": null,
   "metadata": {},
   "outputs": [],
   "source": [
    "# df = data[['订单编号','网点地址']]\n",
    "# df = data.copy()"
   ]
  },
  {
   "cell_type": "code",
   "execution_count": null,
   "metadata": {},
   "outputs": [],
   "source": [
    "df = pd.merge(data,data_city,how=\"left\",on=\"cityId\")"
   ]
  },
  {
   "cell_type": "code",
   "execution_count": null,
   "metadata": {},
   "outputs": [],
   "source": [
    "df.columns"
   ]
  },
  {
   "cell_type": "code",
   "execution_count": null,
   "metadata": {},
   "outputs": [],
   "source": [
    "def getlnglat(address):\n",
    "    url = 'http://api.map.baidu.com/geocoder/v2/'\n",
    "    output = 'json'#输出数据的格式\t\n",
    "    ak = 'z3KEtliyTGvj0bFudEkz4GO0GN8eQQa5'\n",
    "    add = quote(address) #由于本文地址变量为中文，为防止乱码，先用quote进行编码\n",
    "    uri = url + '?' + 'address=' + add  + '&output=' + output + '&ak=' + ak \n",
    "    req = urlopen(uri)\n",
    "    res = req.read().decode() \n",
    "    temp = json.loads(res)\n",
    "    return temp"
   ]
  },
  {
   "cell_type": "code",
   "execution_count": null,
   "metadata": {},
   "outputs": [],
   "source": [
    "print(\"地址去空前：{}\".format(df['siteAddress'].isnull().value_counts()))\n",
    "      \n",
    "df = df.dropna(subset=[\"siteAddress\"])\n",
    "      \n"
   ]
  },
  {
   "cell_type": "code",
   "execution_count": null,
   "metadata": {},
   "outputs": [],
   "source": [
    "print(\"地址去空后：{}\".format(df['siteAddress'].isnull().value_counts()))"
   ]
  },
  {
   "cell_type": "code",
   "execution_count": null,
   "metadata": {},
   "outputs": [],
   "source": [
    "df[\"siteAddress_all\"] = province+ df['cityName'] + df['siteAddress']"
   ]
  },
  {
   "cell_type": "code",
   "execution_count": null,
   "metadata": {},
   "outputs": [],
   "source": [
    "df[\"siteAddress_all\"]"
   ]
  },
  {
   "cell_type": "code",
   "execution_count": null,
   "metadata": {},
   "outputs": [],
   "source": [
    "start_time = time.time()\n",
    "listA = []\n",
    "for b in df['siteAddress_all']:\n",
    "#     print(b)\n",
    "    dictA = {}\n",
    "    try:\n",
    "        temp = getlnglat(b)\n",
    "    except HTTPError as e:\n",
    "        print(\"请求出错\")\n",
    "        pass\n",
    "    else:    \n",
    "        if ('result' in temp):\n",
    "            dictA[\"siteLongitude_baidu\"] = temp['result']['location']['lng']\n",
    "            dictA[\"siteLatitude_baidu\"] = temp['result']['location']['lat']\n",
    "            dictA[\"sitePrecise_baidu\"] = temp['result']['precise']\n",
    "            dictA[\"siteConfidence_baidu\"] = temp['result']['confidence']\n",
    "            dictA[\"siteComprehension_baidu\"] = temp['result']['comprehension']\n",
    "            dictA[\"siteLevel_baidu\"] = temp['result']['level']\n",
    "        else:\n",
    "            pass\n",
    "    listA.append(dictA)\n",
    "#     time.sleep(1)\n",
    "end_time = time.time()\n",
    "print(\"总用时：\",end_time-start_time)"
   ]
  },
  {
   "cell_type": "markdown",
   "metadata": {},
   "source": [
    "0.857048749923706\n",
    "5.161295413970947\n"
   ]
  },
  {
   "cell_type": "code",
   "execution_count": null,
   "metadata": {},
   "outputs": [],
   "source": [
    "listA"
   ]
  },
  {
   "cell_type": "code",
   "execution_count": null,
   "metadata": {},
   "outputs": [],
   "source": [
    "df_A = pd.DataFrame(listA)"
   ]
  },
  {
   "cell_type": "code",
   "execution_count": null,
   "metadata": {},
   "outputs": [],
   "source": [
    "df_all = pd.concat([df,df_A],axis=1,join_axes=[df.index])"
   ]
  },
  {
   "cell_type": "code",
   "execution_count": null,
   "metadata": {},
   "outputs": [],
   "source": [
    "\n",
    "print(\"data:{}行\".format(data.shape[0]))\n",
    "print(\"df:{}行\".format(df.shape[0]))\n",
    "print(\"df_A:{}行\".format(df_A.shape[0]))\n",
    "print(\"df_all:{}行\".format(df_all.shape[0]))"
   ]
  },
  {
   "cell_type": "code",
   "execution_count": null,
   "metadata": {
    "scrolled": true
   },
   "outputs": [],
   "source": [
    "df_A.columns"
   ]
  },
  {
   "cell_type": "code",
   "execution_count": null,
   "metadata": {},
   "outputs": [],
   "source": [
    "df_all.columns"
   ]
  },
  {
   "cell_type": "code",
   "execution_count": null,
   "metadata": {},
   "outputs": [],
   "source": [
    "df_all.to_excel(outpath + name_ANSI)\n",
    "# df_all.to_csv(outpath + name_UTF8, index=False)"
   ]
  },
  {
   "cell_type": "code",
   "execution_count": null,
   "metadata": {},
   "outputs": [],
   "source": []
  }
 ],
 "metadata": {
  "kernelspec": {
   "display_name": "Python 3",
   "language": "python",
   "name": "python3"
  },
  "language_info": {
   "codemirror_mode": {
    "name": "ipython",
    "version": 3
   },
   "file_extension": ".py",
   "mimetype": "text/x-python",
   "name": "python",
   "nbconvert_exporter": "python",
   "pygments_lexer": "ipython3",
   "version": "3.6.6"
  }
 },
 "nbformat": 4,
 "nbformat_minor": 2
}
