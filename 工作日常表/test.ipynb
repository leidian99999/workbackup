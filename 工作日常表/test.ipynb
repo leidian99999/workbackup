{
 "cells": [
  {
   "cell_type": "code",
   "execution_count": 1,
   "metadata": {},
   "outputs": [],
   "source": [
    "import pandas as pd\n",
    "import os\n",
    "import glob"
   ]
  },
  {
   "cell_type": "code",
   "execution_count": 2,
   "metadata": {},
   "outputs": [],
   "source": [
    "#建立单个文件的excel转换成csv函数,file 是excel文件名，to_file 是csv文件名。\n",
    "def excel_to_csv(file,to_file):\n",
    "    data_xls=pd.read_excel(file,sheet_name=0)\n",
    "    data_xls.to_csv(to_file,encoding='utf_8_sig')"
   ]
  },
  {
   "cell_type": "code",
   "execution_count": 3,
   "metadata": {},
   "outputs": [],
   "source": [
    "#读取一个目录里面的所有文件：\n",
    "def read_path(path):\n",
    "    dirs=os.listdir(path)\n",
    "    return dirs"
   ]
  },
  {
   "cell_type": "code",
   "execution_count": 4,
   "metadata": {},
   "outputs": [],
   "source": [
    "date = \"1901\""
   ]
  },
  {
   "cell_type": "code",
   "execution_count": 5,
   "metadata": {},
   "outputs": [],
   "source": [
    "#源文件路径\n",
    "xls_inputPath  = \"G:/work/logistica/yuan/\"  #读取目录"
   ]
  },
  {
   "cell_type": "code",
   "execution_count": 6,
   "metadata": {},
   "outputs": [],
   "source": [
    "#目标文件路径\n",
    "xls_outputPath = \"G:/work/logistica/\"  #输出目录"
   ]
  },
  {
   "cell_type": "code",
   "execution_count": 7,
   "metadata": {},
   "outputs": [],
   "source": [
    "csv_inputPath = \"G:/work/logistica/\"  #输出目录"
   ]
  },
  {
   "cell_type": "code",
   "execution_count": 8,
   "metadata": {},
   "outputs": [],
   "source": [
    "csv_outputPath = \"G:/work/logistica/csv/\"  #输出目录"
   ]
  },
  {
   "cell_type": "code",
   "execution_count": 9,
   "metadata": {},
   "outputs": [
    {
     "name": "stdout",
     "output_type": "stream",
     "text": [
      "G:/work/logistica/yuan/\\查询订单信息20190417152634.xls\n",
      "G:/work/logistica/yuan/\\查询订单信息20190417153211.xls\n",
      "G:/work/logistica/yuan/\\查询订单信息20190417153529.xls\n",
      "G:/work/logistica/yuan/\\查询订单信息20190417153745.xls\n",
      "G:/work/logistica/yuan/\\查询订单信息20190417154034.xls\n",
      "G:/work/logistica/yuan/\\查询订单信息20190417154423.xls\n",
      "G:/work/logistica/yuan/\\查询订单信息20190417154705.xls\n",
      "G:/work/logistica/yuan/\\查询订单信息20190417155055.xls\n",
      "G:/work/logistica/yuan/\\查询订单信息20190417155739.xls\n",
      "G:/work/logistica/yuan/\\查询订单信息20190417155829.xls\n",
      "G:/work/logistica/yuan/\\查询订单信息20190417160907.xls\n",
      "G:/work/logistica/yuan/\\查询订单信息20190417161407.xls\n",
      "G:/work/logistica/yuan/\\查询订单信息20190417162612.xls\n",
      "G:/work/logistica/yuan/\\查询订单信息20190417163117.xls\n",
      "G:/work/logistica/yuan/\\查询订单信息20190417163436.xls\n",
      "G:/work/logistica/yuan/\\查询订单信息20190417163738.xls\n",
      "G:/work/logistica/yuan/\\查询订单信息20190417164137.xls\n",
      "G:/work/logistica/yuan/\\查询订单信息20190417164238.xls\n",
      "G:/work/logistica/yuan/\\查询订单信息20190417164805.xls\n",
      "G:/work/logistica/yuan/\\查询订单信息20190417164812.xls\n",
      "G:/work/logistica/yuan/\\查询订单信息20190417165408.xls\n"
     ]
    }
   ],
   "source": [
    " #将源文件路径里面的文件转换成列表file_list\n",
    "file_list=[xls_inputPath+'\\\\'+i for i in read_path(xls_inputPath)]\n",
    "j=1\n",
    "#建立循环对于每个文件调用excel_to_csv()\n",
    "for it in file_list:\n",
    "    #给目标文件新建一些名字列表\n",
    "    j_mid=str(j)\n",
    "    j_csv=xls_outputPath+'\\\\'+j_mid+\".csv\"\n",
    "    excel_to_csv(it,j_csv)\n",
    "    print(it)\n",
    "    j=j+1\n"
   ]
  },
  {
   "cell_type": "code",
   "execution_count": 10,
   "metadata": {},
   "outputs": [
    {
     "name": "stdout",
     "output_type": "stream",
     "text": [
      "共发现22个CSV文件\n",
      "正在处理............\n",
      "合并完毕！\n"
     ]
    }
   ],
   "source": [
    "csv_list = glob.glob(csv_inputPath + '*.csv') #查看同文件夹下的csv文件数\n",
    "print(u'共发现%s个CSV文件'% len(csv_list))\n",
    "print(u'正在处理............')\n",
    "for i in csv_list: #循环读取同文件夹下的csv文件\n",
    "    fr = open(i,'rb').read()\n",
    "    with open(csv_outputPath + date + 'info_lnglat_gaode.csv','ab') as f: #将结果保存为csv\n",
    "        f.write(fr)\n",
    "print(u'合并完毕！')"
   ]
  },
  {
   "cell_type": "code",
   "execution_count": null,
   "metadata": {},
   "outputs": [],
   "source": []
  },
  {
   "cell_type": "code",
   "execution_count": null,
   "metadata": {},
   "outputs": [],
   "source": []
  },
  {
   "cell_type": "code",
   "execution_count": null,
   "metadata": {},
   "outputs": [],
   "source": []
  }
 ],
 "metadata": {
  "kernelspec": {
   "display_name": "Python 3",
   "language": "python",
   "name": "python3"
  },
  "language_info": {
   "codemirror_mode": {
    "name": "ipython",
    "version": 3
   },
   "file_extension": ".py",
   "mimetype": "text/x-python",
   "name": "python",
   "nbconvert_exporter": "python",
   "pygments_lexer": "ipython3",
   "version": "3.6.6"
  }
 },
 "nbformat": 4,
 "nbformat_minor": 2
}
