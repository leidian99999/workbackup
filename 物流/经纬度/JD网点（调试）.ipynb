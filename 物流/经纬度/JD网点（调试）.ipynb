{
 "cells": [
  {
   "cell_type": "code",
   "execution_count": 1,
   "metadata": {},
   "outputs": [],
   "source": [
    "import pandas as pd\n",
    "import requests\n",
    "from bs4 import BeautifulSoup\n",
    "import json\n",
    "import os"
   ]
  },
  {
   "cell_type": "code",
   "execution_count": 2,
   "metadata": {},
   "outputs": [],
   "source": [
    "df = pd.read_excel(r\"G:\\\\work\\\\logistica\\\\stations\\\\JDStations\\\\yuanURL\\\\浙江/浙江.xlsx\")"
   ]
  },
  {
   "cell_type": "code",
   "execution_count": 3,
   "metadata": {},
   "outputs": [],
   "source": [
    "outpath = \"G:\\\\work\\\\logistica\\\\stations\\\\JDStations\\\\stations\\\\website\\\\\"\n",
    "name_ANSI = \"JDstations_zhejiang_JD.xlsx\""
   ]
  },
  {
   "cell_type": "code",
   "execution_count": 4,
   "metadata": {},
   "outputs": [
    {
     "data": {
      "text/plain": [
       "Index(['url'], dtype='object')"
      ]
     },
     "execution_count": 4,
     "metadata": {},
     "output_type": "execute_result"
    }
   ],
   "source": [
    "df.columns"
   ]
  },
  {
   "cell_type": "code",
   "execution_count": 5,
   "metadata": {},
   "outputs": [],
   "source": [
    "urls = []\n",
    "for a in df[\"url\"]:\n",
    "    urls.append(\"http://www.jdwl.com/site/querySiteList?\" + a)"
   ]
  },
  {
   "cell_type": "code",
   "execution_count": 6,
   "metadata": {},
   "outputs": [
    {
     "data": {
      "text/plain": [
       "['http://www.jdwl.com/site/querySiteList?provinceId=15&cityId=1158&countyId=1224',\n",
       " 'http://www.jdwl.com/site/querySiteList?provinceId=15&cityId=1158&countyId=1226',\n",
       " 'http://www.jdwl.com/site/querySiteList?provinceId=15&cityId=1158&countyId=1227',\n",
       " 'http://www.jdwl.com/site/querySiteList?provinceId=15&cityId=1158&countyId=1228',\n",
       " 'http://www.jdwl.com/site/querySiteList?provinceId=15&cityId=1158&countyId=3412',\n",
       " 'http://www.jdwl.com/site/querySiteList?provinceId=15&cityId=1158&countyId=3413',\n",
       " 'http://www.jdwl.com/site/querySiteList?provinceId=15&cityId=1158&countyId=4253',\n",
       " 'http://www.jdwl.com/site/querySiteList?provinceId=15&cityId=1158&countyId=46341',\n",
       " 'http://www.jdwl.com/site/querySiteList?provinceId=15&cityId=1158&countyId=46342',\n",
       " 'http://www.jdwl.com/site/querySiteList?provinceId=15&cityId=1158&countyId=46343']"
      ]
     },
     "execution_count": 6,
     "metadata": {},
     "output_type": "execute_result"
    }
   ],
   "source": [
    "urls[0:10]"
   ]
  },
  {
   "cell_type": "code",
   "execution_count": 7,
   "metadata": {},
   "outputs": [],
   "source": [
    "listA = []\n",
    "for url in urls:\n",
    "\n",
    "    request = requests.get(url)\n",
    "    soup = BeautifulSoup(request.content, \"lxml\").get_text()\n",
    "    jsonlist = json.loads(soup)\n",
    "\n",
    "    \n",
    "    for i in range(len(jsonlist)):\n",
    "        dictA = {}\n",
    "        dictA[\"siteBusinessName\"] = jsonlist[i][\"siteBusinessName\"]\n",
    "        dictA[\"provinceId\"] = jsonlist[i][\"provinceId\"]\n",
    "        dictA[\"cityId\"] = jsonlist[i][\"cityId\"]\n",
    "        dictA[\"countyId\"] = jsonlist[i][\"countyId\"]\n",
    "        dictA[\"siteName\"] = jsonlist[i][\"siteName\"]\n",
    "        if 'address' in jsonlist[i]:\n",
    "            dictA[\"siteAddress\"] = jsonlist[i][\"address\"]\n",
    "        else:\n",
    "            pass\n",
    "        if 'latitude' in jsonlist[i]:\n",
    "            dictA[\"siteLatitude\"] = jsonlist[i]['latitude']\n",
    "        else:\n",
    "            pass  \n",
    "        if 'longitude' in jsonlist[i]:\n",
    "            dictA[\"siteLongitude\"] = jsonlist[i]['longitude']\n",
    "        else:\n",
    "            pass       \n",
    "        if \"telephone\" in jsonlist[i]:\n",
    "            dictA[\"siteTelephone\"] = jsonlist[i][\"telephone\"]\n",
    "        else:\n",
    "            pass\n",
    "        \n",
    "        listA.append(dictA)"
   ]
  },
  {
   "cell_type": "code",
   "execution_count": 8,
   "metadata": {},
   "outputs": [],
   "source": [
    "df_A = pd.DataFrame(listA)"
   ]
  },
  {
   "cell_type": "code",
   "execution_count": 9,
   "metadata": {},
   "outputs": [
    {
     "name": "stdout",
     "output_type": "stream",
     "text": [
      "False    447\n",
      "True       1\n",
      "Name: siteAddress, dtype: int64\n",
      "False    447\n",
      "Name: siteAddress, dtype: int64\n"
     ]
    }
   ],
   "source": [
    "print(df_A['siteAddress'].isnull().value_counts())\n",
    "df_A = df_A.dropna(subset=[\"siteAddress\"])\n",
    "print(df_A['siteAddress'].isnull().value_counts())"
   ]
  },
  {
   "cell_type": "code",
   "execution_count": 10,
   "metadata": {},
   "outputs": [
    {
     "name": "stdout",
     "output_type": "stream",
     "text": [
      "df_A:(447, 9)\n"
     ]
    }
   ],
   "source": [
    "print(\"df_A:\" + str(df_A.shape))\n",
    "df_A.to_excel(outpath + name_ANSI,index=False)"
   ]
  },
  {
   "cell_type": "code",
   "execution_count": null,
   "metadata": {},
   "outputs": [],
   "source": []
  }
 ],
 "metadata": {
  "kernelspec": {
   "display_name": "Python 3",
   "language": "python",
   "name": "python3"
  },
  "language_info": {
   "codemirror_mode": {
    "name": "ipython",
    "version": 3
   },
   "file_extension": ".py",
   "mimetype": "text/x-python",
   "name": "python",
   "nbconvert_exporter": "python",
   "pygments_lexer": "ipython3",
   "version": "3.6.6"
  }
 },
 "nbformat": 4,
 "nbformat_minor": 2
}
