{
 "cells": [
  {
   "cell_type": "code",
   "execution_count": null,
   "metadata": {},
   "outputs": [],
   "source": [
    "import pandas as pd\n",
    "import json\n",
    "from urllib.request import urlopen, quote,URLError, HTTPError\n",
    "import requests\n",
    "import time\n"
   ]
  },
  {
   "cell_type": "code",
   "execution_count": null,
   "metadata": {},
   "outputs": [],
   "source": [
    "data = pd.read_excel(r\"G:\\work\\logistica\\stations\\JDStations\\stations\\website\\JDstations_zhejiang_JD.xlsx\")\n",
    "data_city = pd.read_excel(r\"G:\\work\\logistica\\stations\\JDStations\\stations\\zhejiangcityID.xlsx\")\n",
    "province = \"浙江省\""
   ]
  },
  {
   "cell_type": "code",
   "execution_count": null,
   "metadata": {},
   "outputs": [],
   "source": [
    "outpath = r\"G:\\work\\logistica\\stations\\JDStations\\stations\\gaode\\\\\"\n",
    "name_ANSI = \"JDstations_zhejiang_gaode.xlsx\""
   ]
  },
  {
   "cell_type": "code",
   "execution_count": null,
   "metadata": {
    "scrolled": true
   },
   "outputs": [],
   "source": [
    "print(data.columns)\n",
    "print(\"*\"*30)\n",
    "print(data_city.columns)"
   ]
  },
  {
   "cell_type": "code",
   "execution_count": null,
   "metadata": {},
   "outputs": [],
   "source": [
    "# df = data.copy()"
   ]
  },
  {
   "cell_type": "code",
   "execution_count": null,
   "metadata": {},
   "outputs": [],
   "source": [
    "data.shape"
   ]
  },
  {
   "cell_type": "code",
   "execution_count": null,
   "metadata": {},
   "outputs": [],
   "source": []
  },
  {
   "cell_type": "code",
   "execution_count": null,
   "metadata": {},
   "outputs": [],
   "source": [
    "df.columns"
   ]
  },
  {
   "cell_type": "code",
   "execution_count": null,
   "metadata": {},
   "outputs": [],
   "source": [
    "def getlatlng_Gaode2(address):\n",
    "    ak='c71d9eda293d20db64955275557d92d4'\n",
    "    url=\"http://restapi.amap.com/v3/geocode/geo?key=%s&address=%s\"%(ak,address)\n",
    "    data=requests.get(url)\n",
    "    contest=data.json()\n",
    "#     contest=contest['geocodes'][0]['location']\n",
    "    return contest"
   ]
  },
  {
   "cell_type": "code",
   "execution_count": null,
   "metadata": {},
   "outputs": [],
   "source": [
    "# print(df['siteAddress'].isnull().value_counts())\n",
    "# df = df.dropna(subset=[\"siteAddress\"])\n",
    "# print(df['siteAddress'].isnull().value_counts())"
   ]
  },
  {
   "cell_type": "code",
   "execution_count": null,
   "metadata": {},
   "outputs": [],
   "source": [
    "df[\"siteAddress_all\"] = province + df['cityname'] + df['siteAddress']"
   ]
  },
  {
   "cell_type": "code",
   "execution_count": null,
   "metadata": {},
   "outputs": [],
   "source": [
    "df[\"siteAddress_all\"][0:10]"
   ]
  },
  {
   "cell_type": "code",
   "execution_count": null,
   "metadata": {
    "scrolled": true
   },
   "outputs": [],
   "source": [
    "start_time = time.time()\n",
    "listA = []\n",
    "for b in df['siteAddress_all']:\n",
    "    print(b)\n",
    "    dictA = {}\n",
    "    try:\n",
    "        temp=getlatlng_Gaode2(b)\n",
    "    except HTTPError as e:\n",
    "        print(\"请求出错\")\n",
    "        pass\n",
    "    else:    \n",
    "        if ('geocodes' in temp):\n",
    "            dictA[\"siteLocation_gaode\"] = temp['geocodes'][0]['location']\n",
    "            dictA[\"siteFormatted_address_gaode\"] = temp['geocodes'][0]['formatted_address']\n",
    "            dictA[\"siteProvince_gaode\"] = temp['geocodes'][0]['province']\n",
    "            dictA[\"siteCountry_gaode\"] = temp['geocodes'][0]['country']\n",
    "            if ('citycode' in temp):\n",
    "                dictA[\"siteCitycode_gaode\"] = temp['geocodes'][0]['citycode']\n",
    "            else:\n",
    "                pass\n",
    "            dictA[\"siteCity_gaode\"] = temp['geocodes'][0]['city']\n",
    "            dictA[\"siteDistrict_gaode\"] = temp['geocodes'][0]['district']\n",
    "            dictA[\"siteLevel_gaode\"] = temp['geocodes'][0]['level']\n",
    "            dictA[\"siteTownship_gaode\"] = temp['geocodes'][0]['township']\n",
    "            dictA[\"siteAdcode_gaode\"] = temp['geocodes'][0]['adcode']\n",
    "            dictA[\"siteStreet_gaode\"] = temp['geocodes'][0]['street']\n",
    "            dictA[\"siteNumber_gaode\"] = temp['geocodes'][0]['number']\n",
    "        else:\n",
    "            pass\n",
    "    listA.append(dictA)\n",
    "#     time.sleep(1)\n",
    "end_time = time.time()\n",
    "print(\"总用时：\",end_time-start_time)"
   ]
  },
  {
   "cell_type": "code",
   "execution_count": null,
   "metadata": {},
   "outputs": [],
   "source": [
    "# listA"
   ]
  },
  {
   "cell_type": "code",
   "execution_count": null,
   "metadata": {},
   "outputs": [],
   "source": [
    "df_A = pd.DataFrame(listA)"
   ]
  },
  {
   "cell_type": "code",
   "execution_count": null,
   "metadata": {},
   "outputs": [],
   "source": [
    "df_A.columns"
   ]
  },
  {
   "cell_type": "code",
   "execution_count": null,
   "metadata": {},
   "outputs": [],
   "source": [
    "df_all = pd.concat([df,df_A],axis=1)"
   ]
  },
  {
   "cell_type": "code",
   "execution_count": null,
   "metadata": {},
   "outputs": [],
   "source": [
    "df_A.columns"
   ]
  },
  {
   "cell_type": "code",
   "execution_count": null,
   "metadata": {
    "scrolled": true
   },
   "outputs": [],
   "source": [
    "df_all.columns"
   ]
  },
  {
   "cell_type": "code",
   "execution_count": null,
   "metadata": {},
   "outputs": [],
   "source": [
    "df_all = df_all.drop(columns=['siteLatitude','siteLongitude'])"
   ]
  },
  {
   "cell_type": "code",
   "execution_count": null,
   "metadata": {
    "scrolled": true
   },
   "outputs": [],
   "source": [
    "# df_all['siteLocation_gaode'] = df_all['siteLocation_gaode'].map(lambda x:str(x))"
   ]
  },
  {
   "cell_type": "code",
   "execution_count": null,
   "metadata": {},
   "outputs": [],
   "source": [
    "split = pd.DataFrame((x.split(',') for x in df_all['siteLocation_gaode']), index=df_all.index, columns=['site_Lng_gaode','site_Lat_gaode'])\n",
    "df_allA = pd.merge(df_all,split,left_index=True,right_index=True)"
   ]
  },
  {
   "cell_type": "code",
   "execution_count": null,
   "metadata": {},
   "outputs": [],
   "source": [
    "print(data.shape)\n",
    "print(df.shape)\n",
    "print(df_A.shape)\n",
    "print(df_all.shape)\n",
    "print(df_allA.shape)"
   ]
  },
  {
   "cell_type": "code",
   "execution_count": null,
   "metadata": {},
   "outputs": [],
   "source": [
    "# df_allA.columns"
   ]
  },
  {
   "cell_type": "code",
   "execution_count": null,
   "metadata": {},
   "outputs": [],
   "source": [
    "df_allA.info()"
   ]
  },
  {
   "cell_type": "code",
   "execution_count": null,
   "metadata": {},
   "outputs": [],
   "source": [
    "df_allA.to_excel(outpath + name_ANSI,index=False)"
   ]
  },
  {
   "cell_type": "code",
   "execution_count": null,
   "metadata": {},
   "outputs": [],
   "source": [
    "df_allA[\"site_Lat_gaode\"]"
   ]
  },
  {
   "cell_type": "code",
   "execution_count": null,
   "metadata": {},
   "outputs": [],
   "source": []
  }
 ],
 "metadata": {
  "kernelspec": {
   "display_name": "Python 3",
   "language": "python",
   "name": "python3"
  },
  "language_info": {
   "codemirror_mode": {
    "name": "ipython",
    "version": 3
   },
   "file_extension": ".py",
   "mimetype": "text/x-python",
   "name": "python",
   "nbconvert_exporter": "python",
   "pygments_lexer": "ipython3",
   "version": "3.6.6"
  }
 },
 "nbformat": 4,
 "nbformat_minor": 2
}
