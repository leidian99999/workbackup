{
 "cells": [
  {
   "cell_type": "code",
   "execution_count": 1,
   "metadata": {},
   "outputs": [
    {
     "name": "stdout",
     "output_type": "stream",
     "text": [
      "d:\\python\\envs\\jupyterpy36\\scripts\\python.exe\n"
     ]
    }
   ],
   "source": [
    "import pandas as pd\n",
    "import xlsxwriter\n",
    "from os import walk\n",
    "from def_zhanshi import *\n",
    "from def_fiveTables import *\n",
    "from def_fiveTables2 import *\n",
    "from def_SummarySheets import *\n",
    "from combin2csv import *\n",
    "from datetime import datetime,timedelta\n",
    "import time\n",
    "# 忽略无用警告\n",
    "import warnings\n",
    "warnings.filterwarnings(action=\"ignore\")\n",
    "pd.options.display.max_seq_items = 8000\n",
    "pd.options.display.max_rows = 8000"
   ]
  },
  {
   "cell_type": "code",
   "execution_count": 2,
   "metadata": {},
   "outputs": [
    {
     "name": "stdout",
     "output_type": "stream",
     "text": [
      "before set display.max_rows =  8000\n",
      "after set display.max_rows =  80\n"
     ]
    }
   ],
   "source": [
    "print(\"before set display.max_rows = \",pd.get_option(\"display.max_rows\"))\n",
    "pd.set_option(\"display.max_rows\",80)\n",
    "print(\"after set display.max_rows = \",pd.get_option(\"display.max_rows\"))"
   ]
  },
  {
   "cell_type": "code",
   "execution_count": 3,
   "metadata": {},
   "outputs": [],
   "source": [
    "pd.set_option('display.large_repr', 'info')"
   ]
  },
  {
   "cell_type": "code",
   "execution_count": 4,
   "metadata": {},
   "outputs": [],
   "source": [
    "import numpy as np\n",
    "np.set_printoptions(suppress=True, threshold=np.nan)"
   ]
  },
  {
   "cell_type": "code",
   "execution_count": 5,
   "metadata": {},
   "outputs": [],
   "source": [
    "disk = \"G\"\n",
    "date = '19/06/22'  # 表中日期\n",
    "date1 = '190622'  # 文件名日期\n",
    "date2 = '2019-06-22'\n",
    "date3 = '190621'\n",
    "filename = 'testALL'+ date1+'.xlsx'  # 输出文件名\n",
    "inputPath = disk +\":/work/daily/DataShow/190622/\"  # 输出路径\n",
    "inputPath2 = disk + \":/work/daily/DataShow/\""
   ]
  },
  {
   "cell_type": "code",
   "execution_count": 6,
   "metadata": {},
   "outputs": [
    {
     "name": "stdout",
     "output_type": "stream",
     "text": [
      "三日前：2019-06-19\n",
      "七日前：2019-06-15\n",
      "二十五日前：2019-05-28\n"
     ]
    }
   ],
   "source": [
    "san_days  = (datetime.strptime(date2, '%Y-%m-%d') - timedelta(days=3)).strftime('%Y-%m-%d')\n",
    "qi_days   = (datetime.strptime(date2, '%Y-%m-%d') - timedelta(days=7)).strftime('%Y-%m-%d')\n",
    "erwu_days = (datetime.strptime(date2, '%Y-%m-%d') - timedelta(days=25)).strftime('%Y-%m-%d')\n",
    "print(\"三日前：\" + str(san_days))\n",
    "print(\"七日前：\" + str(qi_days))\n",
    "print(\"二十五日前：\" + str(erwu_days))"
   ]
  },
  {
   "cell_type": "code",
   "execution_count": 7,
   "metadata": {},
   "outputs": [],
   "source": [
    "df1 = pd.read_csv(inputPath + \"data1.csv\")\n",
    "# df1[\"销售品编号\"] = round(df1[\"销售品编号\"],0)\n",
    "# df1 = pd.read_excel(inputPath + \"data1.xlsx\")\n",
    "split1 = pd.DataFrame((x.split(' ') for x in df1['订单生成时间']),index=df1.index,columns=['订单生成日期','订单生成小时'])\n",
    "df1 = pd.merge(df1, split1, left_index=True, right_index=True)\n",
    "# df1.to_csv(inputPath+\"df1.csv\",index=False)"
   ]
  },
  {
   "cell_type": "code",
   "execution_count": 8,
   "metadata": {},
   "outputs": [
    {
     "data": {
      "text/plain": [
       "0    10011228962\n",
       "1    10011212654\n",
       "2    10011228970\n",
       "3    10011228970\n",
       "4    10011228990\n",
       "5    10011228970\n",
       "6    10011228964\n",
       "7    10011212654\n",
       "8    10011228970\n",
       "9    10011212567\n",
       "Name: 销售品编号, dtype: int64"
      ]
     },
     "execution_count": 8,
     "metadata": {},
     "output_type": "execute_result"
    }
   ],
   "source": [
    "df1[\"销售品编号\"][0:10]"
   ]
  },
  {
   "cell_type": "code",
   "execution_count": 9,
   "metadata": {},
   "outputs": [],
   "source": [
    "df2 = pd.read_csv(inputPath + \"NewPro.csv\")\n",
    "# df2 = pd.read_excel(inputPath + \"NewPro.xlsx\")\n",
    "split2 = pd.DataFrame((x.split(' ') for x in df2['订单生成时间']),index=df2.index,columns=['订单生成日期','订单生成小时'])\n",
    "df2 = pd.merge(df2, split2, left_index=True, right_index=True)\n"
   ]
  },
  {
   "cell_type": "code",
   "execution_count": 10,
   "metadata": {},
   "outputs": [],
   "source": [
    "df3 = pd.read_csv(inputPath2 + \"CHZH/CHZH_Info\"+ date3 + \".csv\") # 首充历史表\n"
   ]
  },
  {
   "cell_type": "code",
   "execution_count": 11,
   "metadata": {},
   "outputs": [],
   "source": [
    "df4 = pd.read_csv(inputPath + \"NewPay\" + date1 + \".csv\") # 当日历史表\n",
    "split4 = pd.DataFrame((x.split(' ') for x in df4['订单生成时间']), index=df4.index, columns=['订单生成日期', '订单生成小时'])\n",
    "df4 = pd.merge(df4, split4, left_index=True, right_index=True)"
   ]
  },
  {
   "cell_type": "code",
   "execution_count": 12,
   "metadata": {},
   "outputs": [],
   "source": [
    "df5 = pd.read_csv(inputPath + \"NewJD.csv\")\n",
    "split5 = pd.DataFrame((x.split(' ') for x in df5['用户下单时间']),index=df5.index,columns=['用户下单日期','用户下单小时'])\n",
    "df5 = pd.merge(df5, split5, left_index=True, right_index=True)\n"
   ]
  },
  {
   "cell_type": "code",
   "execution_count": 13,
   "metadata": {},
   "outputs": [],
   "source": [
    "df1 = df1[df1[\"订单生成日期\"] == san_days]\n",
    "df2 = df2[df2[\"订单生成日期\"] == san_days]\n",
    "df5 = df5[df5[\"用户下单日期\"] == san_days] # 京东表"
   ]
  },
  {
   "cell_type": "code",
   "execution_count": 14,
   "metadata": {},
   "outputs": [
    {
     "name": "stdout",
     "output_type": "stream",
     "text": [
      "df1:(0, 97)\n",
      "df2:(0, 37)\n",
      "df3:(72310, 97)\n",
      "df4:(32775, 97)\n",
      "df5:(15290, 38)\n"
     ]
    }
   ],
   "source": [
    "print(\"df1:\"+str(df1.shape))\n",
    "print(\"df2:\"+str(df2.shape))\n",
    "print(\"df3:\"+str(df3.shape))\n",
    "print(\"df4:\"+str(df4.shape))\n",
    "print(\"df5:\"+str(df5.shape))"
   ]
  },
  {
   "cell_type": "code",
   "execution_count": null,
   "metadata": {},
   "outputs": [],
   "source": [
    "df1 = df1[(True ^ df1['订单状态'].isin(['办理成功', '办理中', '办理失败']))]\n",
    "df1 = df1[pd.notnull(df1['所在省 / 市 / 县'])]\n",
    "df1 = df1[df1[\"订单编号\"].str.contains('订单编号') == False]\n",
    "df1 = df1.drop_duplicates(subset=['订单编号'], keep='first')\n",
    "df1 = df1[pd.notnull(df1['号码归属地'])]\n",
    "df1 = df1[pd.notnull(df1['入网手机号'])]\n",
    "df1[\"入网手机号\"] = df1['入网手机号'].astype('int64')"
   ]
  },
  {
   "cell_type": "code",
   "execution_count": null,
   "metadata": {},
   "outputs": [],
   "source": [
    "df2 = df2[df2[\"模式分类\"] == \"京东模式\"]\n",
    "df2 = df2[pd.notnull(df2['是否下省'])]\n",
    "df2.shape"
   ]
  },
  {
   "cell_type": "code",
   "execution_count": null,
   "metadata": {},
   "outputs": [],
   "source": [
    "df34 = pd.concat([df3, df4],sort=False)\n",
    "df34 = df34.drop_duplicates(subset=['主号码'], keep='first') # 主号码\n",
    "df34 = df34[pd.notnull(df34['主号码'])]\n",
    "df34[\"主号码\"] = df34['主号码'].astype('int64')\n",
    "print(\"当前日期：\" + date2)\n",
    "ggDays = get_nday_list(date2, 7)\n",
    "df34 = df34[df34[\"订单生成日期\"].isin(ggDays)]\n"
   ]
  },
  {
   "cell_type": "code",
   "execution_count": null,
   "metadata": {},
   "outputs": [],
   "source": [
    "df51 = df5[[\"运营商单号\", \"物流单号\"]]\n",
    "df52 = df5[[\"运营商单号\", \"APP操作时间\"]]\n",
    "df51 = df51[pd.notnull(df51['物流单号'])]\n",
    "df52 = df52[pd.notnull(df52['APP操作时间'])]"
   ]
  },
  {
   "cell_type": "code",
   "execution_count": null,
   "metadata": {},
   "outputs": [],
   "source": [
    "print(\"df51:\"+str(df51.shape))\n",
    "print(\"df52:\"+str(df52.shape))"
   ]
  },
  {
   "cell_type": "code",
   "execution_count": null,
   "metadata": {},
   "outputs": [],
   "source": [
    "df11 = pd.merge(df1, df2[[\"订单编号\", \"模式分类\", \"是否下省\"]],\n",
    "                left_on=\"订单编号\", right_on=\"订单编号\", how=\"left\")\n",
    "df11 = pd.merge(df11, df51, left_on=\"订单编号\", right_on=\"运营商单号\", how=\"left\")\n",
    "df11 = pd.merge(df11, df52, left_on=\"订单编号\", right_on=\"运营商单号\", how=\"left\")\n",
    "df11['入网手机号'] = df11['入网手机号'].apply(int)\n",
    "df11 = pd.merge(df11, df34[['主号码']],left_on=\"入网手机号\", right_on=\"主号码\", how=\"left\") #'订单编号',\n",
    "# df11 = df11[df11[\"订单状态\"] == \"交易完成\"]\n",
    "df11[\"主号码_y\"] = df11[\"主号码_y\"].fillna(-1)\n",
    "df11[\"主号码_y\"] = df11['主号码_y'].astype('int64')"
   ]
  },
  {
   "cell_type": "code",
   "execution_count": null,
   "metadata": {},
   "outputs": [],
   "source": [
    "df12 = df11.copy()"
   ]
  },
  {
   "cell_type": "code",
   "execution_count": null,
   "metadata": {},
   "outputs": [],
   "source": [
    "df12.shape"
   ]
  },
  {
   "cell_type": "code",
   "execution_count": null,
   "metadata": {},
   "outputs": [],
   "source": [
    "def shouchong(x):\n",
    "    if x == -1:\n",
    "        return 0\n",
    "    else:\n",
    "        return 1"
   ]
  },
  {
   "cell_type": "code",
   "execution_count": null,
   "metadata": {},
   "outputs": [],
   "source": [
    "def laidan(x):\n",
    "    if x is np.nan:\n",
    "        return 0\n",
    "    else:\n",
    "        return 1\n",
    "\n",
    "\n",
    "def fahuo(a,b,c):\n",
    "    if a is not np.nan:\n",
    "        return 1\n",
    "    elif a is np.nan and b == \"交易完成\":\n",
    "        return 1\n",
    "    elif a is np.nan and c is not np.nan:\n",
    "        return 1\n",
    "    else:\n",
    "        return 0\n",
    "\n",
    "def qianshou(a,b):\n",
    "    if a is not np.nan:\n",
    "        return 1\n",
    "    elif a is np.nan and b == \"交易完成\":\n",
    "        return 1\n",
    "    else:\n",
    "        return 0\n",
    "\n",
    "def jihuo(x):\n",
    "    if x == \"交易完成\":\n",
    "        return 1\n",
    "    else:\n",
    "        return 0\n",
    "\n",
    "def paidan(x):\n",
    "    if x is np.nan:\n",
    "        return 0\n",
    "    else:\n",
    "        return 1"
   ]
  },
  {
   "cell_type": "code",
   "execution_count": null,
   "metadata": {},
   "outputs": [],
   "source": [
    "df11['派单'] = df11[\"是否下省\"].apply(paidan)\n",
    "df11['派卡'] = df11[\"物流单号_y\"].apply(paidan)\n",
    "df11['上门'] = df11[\"APP操作时间\"].apply(paidan)\n",
    "df11['首充'] = df11[\"主号码_y\"].apply(shouchong) #订单编号_y\n",
    "df11['来单量'] = df11['订单编号'].apply(laidan) #订单编号_x\n",
    "df11['发货量'] = df11.apply(lambda x: fahuo(x[\"物流单号_x\"], x[\"订单状态\"], x[\"物流签收时间\"]), axis=1)\n",
    "df11['签收量'] = df11.apply(lambda x: qianshou(x[\"物流签收时间\"], x[\"订单状态\"]), axis=1)\n",
    "df11['激活量'] = df11[\"订单状态\"].apply(jihuo)"
   ]
  },
  {
   "cell_type": "code",
   "execution_count": null,
   "metadata": {},
   "outputs": [],
   "source": [
    "df = df11[[\"号码归属地\",\"销售品编号\",\"营业厅送货方式\",\"派单\",\"派卡\",\"上门\",\"首充\",\"发货量\",\"签收量\",\"激活量\",\"来单量\"]]\n",
    "split1 = pd.DataFrame((x.split('/') for x in df['号码归属地']),index=df.index,columns=['所属省','所属市'])\n",
    "df = pd.merge(df, split1, left_index=True, right_index=True)"
   ]
  },
  {
   "cell_type": "code",
   "execution_count": null,
   "metadata": {},
   "outputs": [],
   "source": [
    "# df[\"销售品编号\"] = df[\"销售品编号\"].map(lambda x : str(x))"
   ]
  },
  {
   "cell_type": "code",
   "execution_count": null,
   "metadata": {},
   "outputs": [],
   "source": [
    "df.head()"
   ]
  },
  {
   "cell_type": "code",
   "execution_count": null,
   "metadata": {},
   "outputs": [],
   "source": [
    "# 产品标卡\n",
    "biaoka = pd.read_excel(inputPath2 + \"产品标卡.xlsx\")\n",
    "# biaoka[\"销售品编号\"] = biaoka[\"销售品编号\"].map(lambda x: str(x))"
   ]
  },
  {
   "cell_type": "code",
   "execution_count": null,
   "metadata": {},
   "outputs": [],
   "source": [
    "biaoka[\"销售品编号\"][0:5]"
   ]
  },
  {
   "cell_type": "code",
   "execution_count": null,
   "metadata": {},
   "outputs": [],
   "source": [
    "# df[\"销售品编号\"] = df[\"销售品编号\"].map(lambda x : x[:-2])"
   ]
  },
  {
   "cell_type": "code",
   "execution_count": null,
   "metadata": {
    "scrolled": true
   },
   "outputs": [],
   "source": [
    "df[\"销售品编号\"][0:5]"
   ]
  },
  {
   "cell_type": "code",
   "execution_count": null,
   "metadata": {},
   "outputs": [],
   "source": [
    "data_JM3 = pd.merge(df, biaoka, how=\"left\", on=\"销售品编号\")\n"
   ]
  },
  {
   "cell_type": "code",
   "execution_count": null,
   "metadata": {
    "scrolled": true
   },
   "outputs": [],
   "source": [
    "# data_JM3.to_excel(inputPath+\"data_JM31.xlsx\",index=False)"
   ]
  },
  {
   "cell_type": "code",
   "execution_count": null,
   "metadata": {},
   "outputs": [],
   "source": [
    "data_JM3.columns"
   ]
  },
  {
   "cell_type": "code",
   "execution_count": null,
   "metadata": {
    "scrolled": true
   },
   "outputs": [],
   "source": [
    "data10 = JD_mode_product(data_JM3)\n"
   ]
  },
  {
   "cell_type": "code",
   "execution_count": null,
   "metadata": {},
   "outputs": [],
   "source": [
    "data10.info()\n"
   ]
  },
  {
   "cell_type": "code",
   "execution_count": null,
   "metadata": {},
   "outputs": [],
   "source": [
    "data10.to_excel(inputPath+\"data10_1.xlsx\",index=False)"
   ]
  },
  {
   "cell_type": "code",
   "execution_count": null,
   "metadata": {},
   "outputs": [],
   "source": [
    "223*223+355*355"
   ]
  },
  {
   "cell_type": "code",
   "execution_count": null,
   "metadata": {},
   "outputs": [],
   "source": []
  }
 ],
 "metadata": {
  "kernelspec": {
   "display_name": "Python 3",
   "language": "python",
   "name": "python3"
  },
  "language_info": {
   "codemirror_mode": {
    "name": "ipython",
    "version": 3
   },
   "file_extension": ".py",
   "mimetype": "text/x-python",
   "name": "python",
   "nbconvert_exporter": "python",
   "pygments_lexer": "ipython3",
   "version": "3.6.6"
  }
 },
 "nbformat": 4,
 "nbformat_minor": 2
}
