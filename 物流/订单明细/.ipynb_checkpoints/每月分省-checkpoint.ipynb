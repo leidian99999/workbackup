{
 "cells": [
  {
   "cell_type": "code",
   "execution_count": 1,
   "metadata": {},
   "outputs": [],
   "source": [
    "import pandas as pd"
   ]
  },
  {
   "cell_type": "code",
   "execution_count": 2,
   "metadata": {},
   "outputs": [],
   "source": [
    "def FenSheng(df,col,writer,name):\n",
    "    print(\"开始分省\")\n",
    "    print(df[col].value_counts())\n",
    "    sheng_list = df[col].unique()\n",
    "    for sheng in sheng_list:\n",
    "        df_new = df[df[col] == sheng]\n",
    "        df_new.to_excel(writer + sheng + name + '.xlsx', index=False)"
   ]
  },
  {
   "cell_type": "code",
   "execution_count": 7,
   "metadata": {},
   "outputs": [
    {
     "name": "stderr",
     "output_type": "stream",
     "text": [
      "d:\\python\\envs\\jupyterpy36\\lib\\site-packages\\IPython\\core\\interactiveshell.py:2785: DtypeWarning: Columns (5,8,12,15,18,19,28,29,33,34,36,37,38,43) have mixed types. Specify dtype option on import or set low_memory=False.\n",
      "  interactivity=interactivity, compiler=compiler, result=result)\n"
     ]
    }
   ],
   "source": [
    "data = pd.read_csv(r\"G:/work/basic/alter/1812_info_alter_gai.csv\")\n"
   ]
  },
  {
   "cell_type": "code",
   "execution_count": 8,
   "metadata": {},
   "outputs": [
    {
     "data": {
      "text/plain": [
       "Index(['Unnamed: 0', '订单编号', '订单状态', '订单子状态', '订单挂起原因', '安装失败原因', '订单来源', '店铺',\n",
       "       '订单金额', '订单生成时间', '交易完成时间', '发货时间', '物流单回填时间', '入网用户姓名', '入网身份证号',\n",
       "       '入网手机号', '收货人姓名', '收货地址', '收货人电话号码', '邮编', '所在省 / 市 / 县', '号码归属地',\n",
       "       'CPS推荐人', '订单备注', '物流单号', '物流签收时间', '承运商', '大小卡类型', '写卡渠道', '销售品编号',\n",
       "       '销售品名称', '销售品类型', '套餐', '主号码', '副号码', '现金预存款', '靓号低消', '靓号等级', '靓号预存款',\n",
       "       '营业厅送货方式', '是否线下模式', '是否线下转线上', '线下转线上原因', '营业厅送货iccid'],\n",
       "      dtype='object')"
      ]
     },
     "execution_count": 8,
     "metadata": {},
     "output_type": "execute_result"
    }
   ],
   "source": [
    "data.columns"
   ]
  },
  {
   "cell_type": "code",
   "execution_count": 9,
   "metadata": {},
   "outputs": [],
   "source": [
    "df = data.copy()"
   ]
  },
  {
   "cell_type": "code",
   "execution_count": 10,
   "metadata": {
    "collapsed": true
   },
   "outputs": [
    {
     "data": {
      "text/plain": [
       "北京/北京市/海淀区              11214\n",
       "广东/深圳市/宝安区               8189\n",
       "广东/广州市/海珠区               8144\n",
       "北京/北京市/朝阳区               7877\n",
       "北京/北京市/大兴区               7201\n",
       "广东/广州市/白云区               6541\n",
       "广东/广州市/天河区               5843\n",
       "广东/东莞市/东莞市               5711\n",
       "上海/上海市/浦东新区              5580\n",
       "广东/深圳市/龙岗区               5333\n",
       "吉林/长春市/南关区               5115\n",
       "广东/佛山市/南海区               4494\n",
       "湖北/武汉市/洪山区               4340\n",
       "北京/北京市/丰台区               4322\n",
       "陕西/西安市/雁塔区               4191\n",
       "陕西/西安市/未央区               4188\n",
       "湖南/长沙市/岳麓区               3996\n",
       "北京/北京市/昌平区               3916\n",
       "河南/郑州市/金水区               3817\n",
       "广东/广州市/番禺区               3649\n",
       "北京/北京市/通州区               3631\n",
       "广东/佛山市/顺德区               3452\n",
       "广东/惠州市/惠城区               3095\n",
       "陕西/西安市/莲湖区               3001\n",
       "广东/深圳市/龙华新区              2959\n",
       "湖北/武汉市/江汉区               2767\n",
       "广东/深圳市/南山区               2710\n",
       "上海/上海市/闵行区               2708\n",
       "江苏/苏州市/昆山市               2532\n",
       "湖北/武汉市/江夏区               2480\n",
       "                        ...  \n",
       "河南/周口市/经济开发区                1\n",
       "江西省/抚州市/东乡区                 1\n",
       "贵州省/遵义市/仁怀市                 1\n",
       "四川省/南充市/营山县                 1\n",
       "重庆/重庆市/开州区                  1\n",
       "江苏省/南通市/其它区                 1\n",
       "山东省/烟台市/招远市                 1\n",
       "湖北/仙桃市/杨林尾镇                 1\n",
       "山东省/临沂市/沂南县                 1\n",
       "江西/南昌市/英雄经济开发区              1\n",
       "陕西省/商洛市/山阳县                 1\n",
       "河南/周口市/                     1\n",
       "山西省/运城市/临猗县                 1\n",
       "云南省/文山壮族苗族自治州/富宁县           1\n",
       "云南省/昭通市/水富县                 1\n",
       "河北省/衡水市/枣强县                 1\n",
       "云南省/玉溪市/元江哈尼族彝族傣族自治县        1\n",
       "湖北省/十堰市/竹溪县                 1\n",
       "湖北/天门市/石河镇                  1\n",
       "广东省/云浮市/新兴县                 1\n",
       "广西壮族自治区/崇左市/江州区             1\n",
       "海南/五指山市/毛阳镇                 1\n",
       "江苏省/宿迁市/宿豫区                 1\n",
       "海南/文昌市/抱罗镇                  1\n",
       "江苏省/苏州市/其它区                 1\n",
       "新疆维吾尔自治区/和田地区/墨玉县           1\n",
       "安徽省/淮南市/凤台县                 1\n",
       "河南/新乡市/北站区                  1\n",
       "云南省/红河哈尼族彝族自治州/弥勒市          1\n",
       "江西/南昌市/东城区                  1\n",
       "Name: 所在省 / 市 / 县, Length: 5042, dtype: int64"
      ]
     },
     "execution_count": 10,
     "metadata": {},
     "output_type": "execute_result"
    }
   ],
   "source": [
    "df[\"所在省 / 市 / 县\"].value_counts()"
   ]
  },
  {
   "cell_type": "code",
   "execution_count": 11,
   "metadata": {},
   "outputs": [],
   "source": [
    "split = pd.DataFrame((x.split('/') for x in df['所在省 / 市 / 县']), index=df.index, columns=['所在省','所在市','所在县'])\n",
    "df = pd.merge(df,split,left_index=True,right_index=True)"
   ]
  },
  {
   "cell_type": "code",
   "execution_count": 15,
   "metadata": {},
   "outputs": [],
   "source": [
    "dict_province = {'焦作市':'河南','河南省':'河南','河北省':'河北','贵州省':'贵州','湖南省':'湖南','广东省':'广东','江苏省':'江苏','山西省':'山西',\n",
    "    '吉林省':'吉林','山东省':'山东','广西壮族自治区':'广西','湖北省':'湖北','陕西省':'陕西','浙江省':'浙江','福建省':'福建',\n",
    "    '内蒙古自治区':'内蒙古','云南省':'云南','辽宁省':'辽宁','江西省':'江西','四川省':'四川','黑龙江省':'黑龙江','安徽省':'安徽',\n",
    "    '甘肃省':'甘肃','西藏自治区':'西藏','青海省':'青海','宁夏回族自治区':'宁夏',\n",
    "    '海南省':'海南','六安市':'安徽','东莞市':'广东','新疆维吾尔自治区':'新疆'}\n"
   ]
  },
  {
   "cell_type": "code",
   "execution_count": 16,
   "metadata": {},
   "outputs": [
    {
     "ename": "MemoryError",
     "evalue": "",
     "output_type": "error",
     "traceback": [
      "\u001b[1;31m---------------------------------------------------------------------------\u001b[0m",
      "\u001b[1;31mMemoryError\u001b[0m                               Traceback (most recent call last)",
      "\u001b[1;32m<ipython-input-16-5f6e3d4e727c>\u001b[0m in \u001b[0;36m<module>\u001b[1;34m()\u001b[0m\n\u001b[1;32m----> 1\u001b[1;33m \u001b[0mdf\u001b[0m \u001b[1;33m=\u001b[0m \u001b[0mdf\u001b[0m\u001b[1;33m.\u001b[0m\u001b[0mreplace\u001b[0m\u001b[1;33m(\u001b[0m\u001b[0mdict_province\u001b[0m\u001b[1;33m)\u001b[0m\u001b[1;33m\u001b[0m\u001b[0m\n\u001b[0m",
      "\u001b[1;32md:\\python\\envs\\jupyterpy36\\lib\\site-packages\\pandas\\core\\frame.py\u001b[0m in \u001b[0;36mreplace\u001b[1;34m(self, to_replace, value, inplace, limit, regex, method)\u001b[0m\n\u001b[0;32m   3796\u001b[0m                                               \u001b[0mvalue\u001b[0m\u001b[1;33m=\u001b[0m\u001b[0mvalue\u001b[0m\u001b[1;33m,\u001b[0m \u001b[0minplace\u001b[0m\u001b[1;33m=\u001b[0m\u001b[0minplace\u001b[0m\u001b[1;33m,\u001b[0m\u001b[1;33m\u001b[0m\u001b[0m\n\u001b[0;32m   3797\u001b[0m                                               \u001b[0mlimit\u001b[0m\u001b[1;33m=\u001b[0m\u001b[0mlimit\u001b[0m\u001b[1;33m,\u001b[0m \u001b[0mregex\u001b[0m\u001b[1;33m=\u001b[0m\u001b[0mregex\u001b[0m\u001b[1;33m,\u001b[0m\u001b[1;33m\u001b[0m\u001b[0m\n\u001b[1;32m-> 3798\u001b[1;33m                                               method=method)\n\u001b[0m\u001b[0;32m   3799\u001b[0m \u001b[1;33m\u001b[0m\u001b[0m\n\u001b[0;32m   3800\u001b[0m     \u001b[1;33m@\u001b[0m\u001b[0mAppender\u001b[0m\u001b[1;33m(\u001b[0m\u001b[0m_shared_docs\u001b[0m\u001b[1;33m[\u001b[0m\u001b[1;34m'shift'\u001b[0m\u001b[1;33m]\u001b[0m \u001b[1;33m%\u001b[0m \u001b[0m_shared_doc_kwargs\u001b[0m\u001b[1;33m)\u001b[0m\u001b[1;33m\u001b[0m\u001b[0m\n",
      "\u001b[1;32md:\\python\\envs\\jupyterpy36\\lib\\site-packages\\pandas\\core\\generic.py\u001b[0m in \u001b[0;36mreplace\u001b[1;34m(self, to_replace, value, inplace, limit, regex, method)\u001b[0m\n\u001b[0;32m   5800\u001b[0m \u001b[1;33m\u001b[0m\u001b[0m\n\u001b[0;32m   5801\u001b[0m             return self.replace(to_replace, value, inplace=inplace,\n\u001b[1;32m-> 5802\u001b[1;33m                                 limit=limit, regex=regex)\n\u001b[0m\u001b[0;32m   5803\u001b[0m         \u001b[1;32melse\u001b[0m\u001b[1;33m:\u001b[0m\u001b[1;33m\u001b[0m\u001b[0m\n\u001b[0;32m   5804\u001b[0m \u001b[1;33m\u001b[0m\u001b[0m\n",
      "\u001b[1;32md:\\python\\envs\\jupyterpy36\\lib\\site-packages\\pandas\\core\\frame.py\u001b[0m in \u001b[0;36mreplace\u001b[1;34m(self, to_replace, value, inplace, limit, regex, method)\u001b[0m\n\u001b[0;32m   3796\u001b[0m                                               \u001b[0mvalue\u001b[0m\u001b[1;33m=\u001b[0m\u001b[0mvalue\u001b[0m\u001b[1;33m,\u001b[0m \u001b[0minplace\u001b[0m\u001b[1;33m=\u001b[0m\u001b[0minplace\u001b[0m\u001b[1;33m,\u001b[0m\u001b[1;33m\u001b[0m\u001b[0m\n\u001b[0;32m   3797\u001b[0m                                               \u001b[0mlimit\u001b[0m\u001b[1;33m=\u001b[0m\u001b[0mlimit\u001b[0m\u001b[1;33m,\u001b[0m \u001b[0mregex\u001b[0m\u001b[1;33m=\u001b[0m\u001b[0mregex\u001b[0m\u001b[1;33m,\u001b[0m\u001b[1;33m\u001b[0m\u001b[0m\n\u001b[1;32m-> 3798\u001b[1;33m                                               method=method)\n\u001b[0m\u001b[0;32m   3799\u001b[0m \u001b[1;33m\u001b[0m\u001b[0m\n\u001b[0;32m   3800\u001b[0m     \u001b[1;33m@\u001b[0m\u001b[0mAppender\u001b[0m\u001b[1;33m(\u001b[0m\u001b[0m_shared_docs\u001b[0m\u001b[1;33m[\u001b[0m\u001b[1;34m'shift'\u001b[0m\u001b[1;33m]\u001b[0m \u001b[1;33m%\u001b[0m \u001b[0m_shared_doc_kwargs\u001b[0m\u001b[1;33m)\u001b[0m\u001b[1;33m\u001b[0m\u001b[0m\n",
      "\u001b[1;32md:\\python\\envs\\jupyterpy36\\lib\\site-packages\\pandas\\core\\generic.py\u001b[0m in \u001b[0;36mreplace\u001b[1;34m(self, to_replace, value, inplace, limit, regex, method)\u001b[0m\n\u001b[0;32m   5849\u001b[0m                                                        \u001b[0mdest_list\u001b[0m\u001b[1;33m=\u001b[0m\u001b[0mvalue\u001b[0m\u001b[1;33m,\u001b[0m\u001b[1;33m\u001b[0m\u001b[0m\n\u001b[0;32m   5850\u001b[0m                                                        \u001b[0minplace\u001b[0m\u001b[1;33m=\u001b[0m\u001b[0minplace\u001b[0m\u001b[1;33m,\u001b[0m\u001b[1;33m\u001b[0m\u001b[0m\n\u001b[1;32m-> 5851\u001b[1;33m                                                        regex=regex)\n\u001b[0m\u001b[0;32m   5852\u001b[0m \u001b[1;33m\u001b[0m\u001b[0m\n\u001b[0;32m   5853\u001b[0m                 \u001b[1;32melse\u001b[0m\u001b[1;33m:\u001b[0m  \u001b[1;31m# [NA, ''] -> 0\u001b[0m\u001b[1;33m\u001b[0m\u001b[0m\n",
      "\u001b[1;32md:\\python\\envs\\jupyterpy36\\lib\\site-packages\\pandas\\core\\internals.py\u001b[0m in \u001b[0;36mreplace_list\u001b[1;34m(self, src_list, dest_list, inplace, regex, mgr)\u001b[0m\n\u001b[0;32m   3730\u001b[0m \u001b[1;33m\u001b[0m\u001b[0m\n\u001b[0;32m   3731\u001b[0m         \u001b[1;31m# figure out our mask a-priori to avoid repeated replacements\u001b[0m\u001b[1;33m\u001b[0m\u001b[1;33m\u001b[0m\u001b[0m\n\u001b[1;32m-> 3732\u001b[1;33m         \u001b[0mvalues\u001b[0m \u001b[1;33m=\u001b[0m \u001b[0mself\u001b[0m\u001b[1;33m.\u001b[0m\u001b[0mas_array\u001b[0m\u001b[1;33m(\u001b[0m\u001b[1;33m)\u001b[0m\u001b[1;33m\u001b[0m\u001b[0m\n\u001b[0m\u001b[0;32m   3733\u001b[0m \u001b[1;33m\u001b[0m\u001b[0m\n\u001b[0;32m   3734\u001b[0m         \u001b[1;32mdef\u001b[0m \u001b[0mcomp\u001b[0m\u001b[1;33m(\u001b[0m\u001b[0ms\u001b[0m\u001b[1;33m)\u001b[0m\u001b[1;33m:\u001b[0m\u001b[1;33m\u001b[0m\u001b[0m\n",
      "\u001b[1;32md:\\python\\envs\\jupyterpy36\\lib\\site-packages\\pandas\\core\\internals.py\u001b[0m in \u001b[0;36mas_array\u001b[1;34m(self, transpose, items)\u001b[0m\n\u001b[0;32m   3947\u001b[0m             \u001b[0marr\u001b[0m \u001b[1;33m=\u001b[0m \u001b[0mmgr\u001b[0m\u001b[1;33m.\u001b[0m\u001b[0mblocks\u001b[0m\u001b[1;33m[\u001b[0m\u001b[1;36m0\u001b[0m\u001b[1;33m]\u001b[0m\u001b[1;33m.\u001b[0m\u001b[0mget_values\u001b[0m\u001b[1;33m(\u001b[0m\u001b[1;33m)\u001b[0m\u001b[1;33m\u001b[0m\u001b[0m\n\u001b[0;32m   3948\u001b[0m         \u001b[1;32melse\u001b[0m\u001b[1;33m:\u001b[0m\u001b[1;33m\u001b[0m\u001b[0m\n\u001b[1;32m-> 3949\u001b[1;33m             \u001b[0marr\u001b[0m \u001b[1;33m=\u001b[0m \u001b[0mmgr\u001b[0m\u001b[1;33m.\u001b[0m\u001b[0m_interleave\u001b[0m\u001b[1;33m(\u001b[0m\u001b[1;33m)\u001b[0m\u001b[1;33m\u001b[0m\u001b[0m\n\u001b[0m\u001b[0;32m   3950\u001b[0m \u001b[1;33m\u001b[0m\u001b[0m\n\u001b[0;32m   3951\u001b[0m         \u001b[1;32mreturn\u001b[0m \u001b[0marr\u001b[0m\u001b[1;33m.\u001b[0m\u001b[0mtranspose\u001b[0m\u001b[1;33m(\u001b[0m\u001b[1;33m)\u001b[0m \u001b[1;32mif\u001b[0m \u001b[0mtranspose\u001b[0m \u001b[1;32melse\u001b[0m \u001b[0marr\u001b[0m\u001b[1;33m\u001b[0m\u001b[0m\n",
      "\u001b[1;32md:\\python\\envs\\jupyterpy36\\lib\\site-packages\\pandas\\core\\internals.py\u001b[0m in \u001b[0;36m_interleave\u001b[1;34m(self)\u001b[0m\n\u001b[0;32m   3958\u001b[0m         \u001b[0mdtype\u001b[0m \u001b[1;33m=\u001b[0m \u001b[0m_interleaved_dtype\u001b[0m\u001b[1;33m(\u001b[0m\u001b[0mself\u001b[0m\u001b[1;33m.\u001b[0m\u001b[0mblocks\u001b[0m\u001b[1;33m)\u001b[0m\u001b[1;33m\u001b[0m\u001b[0m\n\u001b[0;32m   3959\u001b[0m \u001b[1;33m\u001b[0m\u001b[0m\n\u001b[1;32m-> 3960\u001b[1;33m         \u001b[0mresult\u001b[0m \u001b[1;33m=\u001b[0m \u001b[0mnp\u001b[0m\u001b[1;33m.\u001b[0m\u001b[0mempty\u001b[0m\u001b[1;33m(\u001b[0m\u001b[0mself\u001b[0m\u001b[1;33m.\u001b[0m\u001b[0mshape\u001b[0m\u001b[1;33m,\u001b[0m \u001b[0mdtype\u001b[0m\u001b[1;33m=\u001b[0m\u001b[0mdtype\u001b[0m\u001b[1;33m)\u001b[0m\u001b[1;33m\u001b[0m\u001b[0m\n\u001b[0m\u001b[0;32m   3961\u001b[0m \u001b[1;33m\u001b[0m\u001b[0m\n\u001b[0;32m   3962\u001b[0m         \u001b[1;32mif\u001b[0m \u001b[0mresult\u001b[0m\u001b[1;33m.\u001b[0m\u001b[0mshape\u001b[0m\u001b[1;33m[\u001b[0m\u001b[1;36m0\u001b[0m\u001b[1;33m]\u001b[0m \u001b[1;33m==\u001b[0m \u001b[1;36m0\u001b[0m\u001b[1;33m:\u001b[0m\u001b[1;33m\u001b[0m\u001b[0m\n",
      "\u001b[1;31mMemoryError\u001b[0m: "
     ]
    }
   ],
   "source": [
    "df = df.replace(dict_province)"
   ]
  },
  {
   "cell_type": "code",
   "execution_count": null,
   "metadata": {},
   "outputs": [],
   "source": [
    "df[\"所在省\"].value_counts()"
   ]
  },
  {
   "cell_type": "code",
   "execution_count": null,
   "metadata": {},
   "outputs": [],
   "source": [
    "if __name__ == \"__main__\": \n",
    "\n",
    "\n",
    "    # 分所在省市县\n",
    "   \n",
    "    \n",
    "#     df = df[[ '订单编号','所在省', '所在市', '所在县','收货地址','承运商']]\n",
    "    \n",
    "    writer = \"G:\\\\work\\\\basic\\\\province\\\\DEC18\\\\\"\n",
    "    \n",
    "    col = \"所在省\"\n",
    "    \n",
    "    name = \"12月所在省\"\n",
    "    \n",
    "    FenSheng(df,col,writer,name)"
   ]
  }
 ],
 "metadata": {
  "kernelspec": {
   "display_name": "Python 3",
   "language": "python",
   "name": "python3"
  },
  "language_info": {
   "codemirror_mode": {
    "name": "ipython",
    "version": 3
   },
   "file_extension": ".py",
   "mimetype": "text/x-python",
   "name": "python",
   "nbconvert_exporter": "python",
   "pygments_lexer": "ipython3",
   "version": "3.6.6"
  }
 },
 "nbformat": 4,
 "nbformat_minor": 2
}
