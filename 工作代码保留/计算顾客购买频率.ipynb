{
 "cells": [
  {
   "cell_type": "code",
   "execution_count": 1,
   "metadata": {},
   "outputs": [],
   "source": [
    "import pandas as pd"
   ]
  },
  {
   "cell_type": "code",
   "execution_count": 2,
   "metadata": {},
   "outputs": [],
   "source": [
    "data = pd.read_csv(r\"D:\\Tableau\\test/aaa.csv\")\n",
    "# data = pd.read_excel(\"D:/Tableau/test/ttt.xlsx\",sheet_name='aaa',header=0)"
   ]
  },
  {
   "cell_type": "code",
   "execution_count": 3,
   "metadata": {
    "scrolled": true
   },
   "outputs": [
    {
     "data": {
      "text/plain": [
       "Index(['City', 'Customer ID', 'Customer Name', 'Customer Segment', 'Discount',\n",
       "       '记录数', 'Order Date', 'Order ID', 'Order Priority', 'Postal Code',\n",
       "       'Product Base Margin', 'Product Category', 'Product Container',\n",
       "       'Product Name', 'Product Sub-Category', 'Profit',\n",
       "       'Quantity ordered new', 'Region', 'Row ID', 'Sales', 'Ship Date',\n",
       "       'Ship Mode', 'Shipping Cost', 'State or Province', 'Unit Price'],\n",
       "      dtype='object')"
      ]
     },
     "execution_count": 3,
     "metadata": {},
     "output_type": "execute_result"
    }
   ],
   "source": [
    "data.columns"
   ]
  },
  {
   "cell_type": "code",
   "execution_count": 4,
   "metadata": {},
   "outputs": [],
   "source": [
    "df = data[[\"Customer ID\",\"Order ID\"]]"
   ]
  },
  {
   "cell_type": "code",
   "execution_count": 5,
   "metadata": {},
   "outputs": [
    {
     "data": {
      "text/plain": [
       "(7123, 2)"
      ]
     },
     "execution_count": 5,
     "metadata": {},
     "output_type": "execute_result"
    }
   ],
   "source": [
    "# df1 = df.copy()\n",
    "df1 = df.drop_duplicates(subset=['Customer ID','Order ID'],keep='first')\n",
    "df1.shape\n"
   ]
  },
  {
   "cell_type": "code",
   "execution_count": 6,
   "metadata": {},
   "outputs": [
    {
     "data": {
      "text/plain": [
       "1193    17\n",
       "2882    16\n",
       "2491    15\n",
       "308     15\n",
       "699     15\n",
       "1745    14\n",
       "1129    13\n",
       "2107    13\n",
       "3079    13\n",
       "272     13\n",
       "1106    13\n",
       "1959    12\n",
       "1413    12\n",
       "553     11\n",
       "3151    11\n",
       "1821    11\n",
       "3289    10\n",
       "1723    10\n",
       "2006    10\n",
       "640     10\n",
       "3251    10\n",
       "1314     9\n",
       "2007     9\n",
       "2548     9\n",
       "894      9\n",
       "3004     9\n",
       "607      9\n",
       "949      9\n",
       "1999     9\n",
       "604      9\n",
       "        ..\n",
       "3235     1\n",
       "433      1\n",
       "437      1\n",
       "2488     1\n",
       "2492     1\n",
       "3315     1\n",
       "1174     1\n",
       "457      1\n",
       "2508     1\n",
       "461      1\n",
       "2512     1\n",
       "3215     1\n",
       "421      1\n",
       "3247     1\n",
       "1202     1\n",
       "413      1\n",
       "3259     1\n",
       "409      1\n",
       "1218     1\n",
       "405      1\n",
       "3267     1\n",
       "1222     1\n",
       "1226     1\n",
       "2444     1\n",
       "3291     1\n",
       "2440     1\n",
       "1258     1\n",
       "3307     1\n",
       "3311     1\n",
       "2047     1\n",
       "Name: Customer ID, Length: 2703, dtype: int64"
      ]
     },
     "execution_count": 6,
     "metadata": {},
     "output_type": "execute_result"
    }
   ],
   "source": [
    "df2 = df1[\"Customer ID\"].value_counts(sort=True)\n",
    "df2"
   ]
  },
  {
   "cell_type": "code",
   "execution_count": 7,
   "metadata": {},
   "outputs": [
    {
     "data": {
      "text/html": [
       "<div>\n",
       "<style scoped>\n",
       "    .dataframe tbody tr th:only-of-type {\n",
       "        vertical-align: middle;\n",
       "    }\n",
       "\n",
       "    .dataframe tbody tr th {\n",
       "        vertical-align: top;\n",
       "    }\n",
       "\n",
       "    .dataframe thead th {\n",
       "        text-align: right;\n",
       "    }\n",
       "</style>\n",
       "<table border=\"1\" class=\"dataframe\">\n",
       "  <thead>\n",
       "    <tr style=\"text-align: right;\">\n",
       "      <th></th>\n",
       "      <th>index</th>\n",
       "      <th>Customer ID</th>\n",
       "    </tr>\n",
       "  </thead>\n",
       "  <tbody>\n",
       "    <tr>\n",
       "      <th>0</th>\n",
       "      <td>1193</td>\n",
       "      <td>17</td>\n",
       "    </tr>\n",
       "    <tr>\n",
       "      <th>1</th>\n",
       "      <td>2882</td>\n",
       "      <td>16</td>\n",
       "    </tr>\n",
       "    <tr>\n",
       "      <th>2</th>\n",
       "      <td>2491</td>\n",
       "      <td>15</td>\n",
       "    </tr>\n",
       "    <tr>\n",
       "      <th>3</th>\n",
       "      <td>308</td>\n",
       "      <td>15</td>\n",
       "    </tr>\n",
       "    <tr>\n",
       "      <th>4</th>\n",
       "      <td>699</td>\n",
       "      <td>15</td>\n",
       "    </tr>\n",
       "  </tbody>\n",
       "</table>\n",
       "</div>"
      ],
      "text/plain": [
       "   index  Customer ID\n",
       "0   1193           17\n",
       "1   2882           16\n",
       "2   2491           15\n",
       "3    308           15\n",
       "4    699           15"
      ]
     },
     "execution_count": 7,
     "metadata": {},
     "output_type": "execute_result"
    }
   ],
   "source": [
    "df3 = pd.DataFrame(df2)\n",
    "df3 = df3.reset_index()\n",
    "df3.head()"
   ]
  },
  {
   "cell_type": "code",
   "execution_count": 8,
   "metadata": {},
   "outputs": [],
   "source": [
    "df4 = df3.drop_duplicates(subset=['index'],keep='first')\n",
    "# df4 = df3.copy()"
   ]
  },
  {
   "cell_type": "code",
   "execution_count": 9,
   "metadata": {},
   "outputs": [
    {
     "data": {
      "text/plain": [
       "1     1027\n",
       "2      479\n",
       "3      439\n",
       "4      366\n",
       "5      224\n",
       "6       92\n",
       "7       29\n",
       "8       16\n",
       "9       10\n",
       "13       5\n",
       "10       5\n",
       "11       3\n",
       "15       3\n",
       "12       2\n",
       "16       1\n",
       "14       1\n",
       "17       1\n",
       "Name: Customer ID, dtype: int64"
      ]
     },
     "execution_count": 9,
     "metadata": {},
     "output_type": "execute_result"
    }
   ],
   "source": [
    "df4[\"Customer ID\"].value_counts(sort=True)"
   ]
  },
  {
   "cell_type": "code",
   "execution_count": null,
   "metadata": {},
   "outputs": [],
   "source": []
  }
 ],
 "metadata": {
  "kernelspec": {
   "display_name": "Python 3",
   "language": "python",
   "name": "python3"
  },
  "language_info": {
   "codemirror_mode": {
    "name": "ipython",
    "version": 3
   },
   "file_extension": ".py",
   "mimetype": "text/x-python",
   "name": "python",
   "nbconvert_exporter": "python",
   "pygments_lexer": "ipython3",
   "version": "3.6.5"
  }
 },
 "nbformat": 4,
 "nbformat_minor": 2
}
