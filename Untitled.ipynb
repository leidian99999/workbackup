{
 "cells": [
  {
   "cell_type": "code",
   "execution_count": 1,
   "metadata": {},
   "outputs": [],
   "source": [
    "import pandas as pd\n",
    "import re"
   ]
  },
  {
   "cell_type": "code",
   "execution_count": 2,
   "metadata": {},
   "outputs": [],
   "source": [
    "data = pd.read_excel(r\"F:\\temp\\190523\\jiexi.xlsx\")"
   ]
  },
  {
   "cell_type": "code",
   "execution_count": 3,
   "metadata": {},
   "outputs": [
    {
     "data": {
      "text/plain": [
       "Index(['收货地址', '订单编号', '所在省', '所在市', '收货人地址', 're_district_gaode',\n",
       "       're_formatted_address_gaode', 're_level_gaode', 're_location_gaode',\n",
       "       're_number_gaode', 're_province_gaode', 're_street_gaode'],\n",
       "      dtype='object')"
      ]
     },
     "execution_count": 3,
     "metadata": {},
     "output_type": "execute_result"
    }
   ],
   "source": [
    "data.columns"
   ]
  },
  {
   "cell_type": "code",
   "execution_count": 4,
   "metadata": {},
   "outputs": [
    {
     "data": {
      "text/html": [
       "<div>\n",
       "<style scoped>\n",
       "    .dataframe tbody tr th:only-of-type {\n",
       "        vertical-align: middle;\n",
       "    }\n",
       "\n",
       "    .dataframe tbody tr th {\n",
       "        vertical-align: top;\n",
       "    }\n",
       "\n",
       "    .dataframe thead th {\n",
       "        text-align: right;\n",
       "    }\n",
       "</style>\n",
       "<table border=\"1\" class=\"dataframe\">\n",
       "  <thead>\n",
       "    <tr style=\"text-align: right;\">\n",
       "      <th></th>\n",
       "      <th>收货地址</th>\n",
       "      <th>订单编号</th>\n",
       "      <th>所在省</th>\n",
       "      <th>所在市</th>\n",
       "      <th>收货人地址</th>\n",
       "      <th>re_district_gaode</th>\n",
       "      <th>re_formatted_address_gaode</th>\n",
       "      <th>re_level_gaode</th>\n",
       "      <th>re_location_gaode</th>\n",
       "      <th>re_number_gaode</th>\n",
       "      <th>re_province_gaode</th>\n",
       "      <th>re_street_gaode</th>\n",
       "    </tr>\n",
       "  </thead>\n",
       "  <tbody>\n",
       "    <tr>\n",
       "      <th>0</th>\n",
       "      <td>45100</td>\n",
       "      <td>609907814000008319051506314841</td>\n",
       "      <td>山西</td>\n",
       "      <td>阳泉市</td>\n",
       "      <td>山西阳泉市45100</td>\n",
       "      <td>[]</td>\n",
       "      <td>山西省阳泉市</td>\n",
       "      <td>市</td>\n",
       "      <td>113.580519,37.856971</td>\n",
       "      <td>[]</td>\n",
       "      <td>山西省</td>\n",
       "      <td>[]</td>\n",
       "    </tr>\n",
       "    <tr>\n",
       "      <th>1</th>\n",
       "      <td>123456</td>\n",
       "      <td>600205853000008319051506409213</td>\n",
       "      <td>云南</td>\n",
       "      <td>曲靖市</td>\n",
       "      <td>云南曲靖市123456</td>\n",
       "      <td>[]</td>\n",
       "      <td>云南省曲靖市</td>\n",
       "      <td>市</td>\n",
       "      <td>103.796167,25.489999</td>\n",
       "      <td>[]</td>\n",
       "      <td>云南省</td>\n",
       "      <td>[]</td>\n",
       "    </tr>\n",
       "    <tr>\n",
       "      <th>2</th>\n",
       "      <td>585170</td>\n",
       "      <td>600203843000008319051506343117</td>\n",
       "      <td>湖南</td>\n",
       "      <td>邵阳市</td>\n",
       "      <td>湖南邵阳市585170</td>\n",
       "      <td>[]</td>\n",
       "      <td>湖南省邵阳市</td>\n",
       "      <td>市</td>\n",
       "      <td>111.467791,27.238892</td>\n",
       "      <td>[]</td>\n",
       "      <td>湖南省</td>\n",
       "      <td>[]</td>\n",
       "    </tr>\n",
       "    <tr>\n",
       "      <th>3</th>\n",
       "      <td>702995</td>\n",
       "      <td>600103832000008319051506315569</td>\n",
       "      <td>江苏</td>\n",
       "      <td>徐州市</td>\n",
       "      <td>江苏徐州市702995</td>\n",
       "      <td>[]</td>\n",
       "      <td>江苏省徐州市</td>\n",
       "      <td>市</td>\n",
       "      <td>117.284124,34.205768</td>\n",
       "      <td>[]</td>\n",
       "      <td>江苏省</td>\n",
       "      <td>[]</td>\n",
       "    </tr>\n",
       "    <tr>\n",
       "      <th>4</th>\n",
       "      <td>372930200105200000</td>\n",
       "      <td>609903837100008319051506419891</td>\n",
       "      <td>山东</td>\n",
       "      <td>菏泽市</td>\n",
       "      <td>山东菏泽市372930200105200000</td>\n",
       "      <td>[]</td>\n",
       "      <td>山东省菏泽市</td>\n",
       "      <td>市</td>\n",
       "      <td>115.480656,35.233750</td>\n",
       "      <td>[]</td>\n",
       "      <td>山东省</td>\n",
       "      <td>[]</td>\n",
       "    </tr>\n",
       "  </tbody>\n",
       "</table>\n",
       "</div>"
      ],
      "text/plain": [
       "                 收货地址                            订单编号 所在省  所在市  \\\n",
       "0               45100  609907814000008319051506314841  山西  阳泉市   \n",
       "1              123456  600205853000008319051506409213  云南  曲靖市   \n",
       "2              585170  600203843000008319051506343117  湖南  邵阳市   \n",
       "3              702995  600103832000008319051506315569  江苏  徐州市   \n",
       "4  372930200105200000  609903837100008319051506419891  山东  菏泽市   \n",
       "\n",
       "                     收货人地址 re_district_gaode re_formatted_address_gaode  \\\n",
       "0               山西阳泉市45100                []                     山西省阳泉市   \n",
       "1              云南曲靖市123456                []                     云南省曲靖市   \n",
       "2              湖南邵阳市585170                []                     湖南省邵阳市   \n",
       "3              江苏徐州市702995                []                     江苏省徐州市   \n",
       "4  山东菏泽市372930200105200000                []                     山东省菏泽市   \n",
       "\n",
       "  re_level_gaode     re_location_gaode re_number_gaode re_province_gaode  \\\n",
       "0              市  113.580519,37.856971              []               山西省   \n",
       "1              市  103.796167,25.489999              []               云南省   \n",
       "2              市  111.467791,27.238892              []               湖南省   \n",
       "3              市  117.284124,34.205768              []               江苏省   \n",
       "4              市  115.480656,35.233750              []               山东省   \n",
       "\n",
       "  re_street_gaode  \n",
       "0              []  \n",
       "1              []  \n",
       "2              []  \n",
       "3              []  \n",
       "4              []  "
      ]
     },
     "execution_count": 4,
     "metadata": {},
     "output_type": "execute_result"
    }
   ],
   "source": [
    "data.head()"
   ]
  },
  {
   "cell_type": "code",
   "execution_count": 23,
   "metadata": {},
   "outputs": [
    {
     "data": {
      "text/plain": [
       "0        山西省阳泉市\n",
       "1        云南省曲靖市\n",
       "2        湖南省邵阳市\n",
       "3        江苏省徐州市\n",
       "4        山东省菏泽市\n",
       "19       海南省儋州市\n",
       "23       四川省内江市\n",
       "34       山西省晋中市\n",
       "43       甘肃省金昌市\n",
       "65      河北省石家庄市\n",
       "80      黑龙江省绥化市\n",
       "81       河北省承德市\n",
       "92       山西省忻州市\n",
       "93       四川省宜宾市\n",
       "97       四川省南充市\n",
       "105      贵州省贵阳市\n",
       "138     河南省驻马店市\n",
       "255      安徽省阜阳市\n",
       "371      云南省保山市\n",
       "390      河北省衡水市\n",
       "562      浙江省宁波市\n",
       "583      山东省聊城市\n",
       "596     黑龙江省大庆市\n",
       "607      贵州省毕节市\n",
       "776      吉林省白城市\n",
       "817      四川省南充市\n",
       "986     黑龙江省鸡西市\n",
       "1030     广东省清远市\n",
       "1034     吉林省松原市\n",
       "1066     贵州省毕节市\n",
       "1091     江苏省无锡市\n",
       "1092     山东省济宁市\n",
       "1100     贵州省遵义市\n",
       "1109     湖北省十堰市\n",
       "1205     广东省湛江市\n",
       "1297     河南省商丘市\n",
       "1406     吉林省四平市\n",
       "1427     河北省保定市\n",
       "1428     河北省保定市\n",
       "1443     广东省深圳市\n",
       "1514     吉林省吉林市\n",
       "1558     山东省济宁市\n",
       "1573     辽宁省朝阳市\n",
       "1598     山西省晋城市\n",
       "1603     山西省晋城市\n",
       "1662     河北省沧州市\n",
       "1676     广东省广州市\n",
       "1693     河南省濮阳市\n",
       "1694     甘肃省武威市\n",
       "2173     河南省开封市\n",
       "Name: re_formatted_address_gaode, dtype: object"
      ]
     },
     "execution_count": 23,
     "metadata": {},
     "output_type": "execute_result"
    }
   ],
   "source": [
    "data[\"re_formatted_address_gaode\"] = data[\"re_formatted_address_gaode\"].fillna(\"XX省XX市\")\n",
    "df = data[data[\"re_formatted_address_gaode\"].str.contains(\"^.*省\\w{1,4}市$\",regex=True)]\n",
    "df[\"re_formatted_address_gaode\"][0:50]"
   ]
  },
  {
   "cell_type": "code",
   "execution_count": 24,
   "metadata": {},
   "outputs": [],
   "source": [
    "data[\"dai\"] = data[\"re_formatted_address_gaode\"].str.contains(\"^.*省\\w{1,4}市$\",regex=True)"
   ]
  },
  {
   "cell_type": "code",
   "execution_count": 25,
   "metadata": {},
   "outputs": [
    {
     "data": {
      "text/plain": [
       "False    46408\n",
       "True       963\n",
       "Name: dai, dtype: int64"
      ]
     },
     "execution_count": 25,
     "metadata": {},
     "output_type": "execute_result"
    }
   ],
   "source": [
    "data[\"dai\"].value_counts()"
   ]
  },
  {
   "cell_type": "code",
   "execution_count": 18,
   "metadata": {},
   "outputs": [
    {
     "data": {
      "text/plain": [
       "0      True\n",
       "1      True\n",
       "2      True\n",
       "3      True\n",
       "4      True\n",
       "5     False\n",
       "6     False\n",
       "7     False\n",
       "8     False\n",
       "9     False\n",
       "10    False\n",
       "11    False\n",
       "12    False\n",
       "13    False\n",
       "14    False\n",
       "15    False\n",
       "16    False\n",
       "17    False\n",
       "18    False\n",
       "19     True\n",
       "20    False\n",
       "21    False\n",
       "22    False\n",
       "23     True\n",
       "24    False\n",
       "25    False\n",
       "26    False\n",
       "27    False\n",
       "28    False\n",
       "29    False\n",
       "30    False\n",
       "31    False\n",
       "32    False\n",
       "33    False\n",
       "34     True\n",
       "35    False\n",
       "36    False\n",
       "37    False\n",
       "38    False\n",
       "39    False\n",
       "40    False\n",
       "41    False\n",
       "42    False\n",
       "43     True\n",
       "44    False\n",
       "45    False\n",
       "46    False\n",
       "47    False\n",
       "48    False\n",
       "49    False\n",
       "Name: dai, dtype: bool"
      ]
     },
     "execution_count": 18,
     "metadata": {},
     "output_type": "execute_result"
    }
   ],
   "source": [
    "data[\"dai\"][0:50]"
   ]
  },
  {
   "cell_type": "code",
   "execution_count": 27,
   "metadata": {},
   "outputs": [],
   "source": [
    "data.to_excel(r\"F:\\temp\\190523\\test1.xlsx\",index=False)"
   ]
  },
  {
   "cell_type": "code",
   "execution_count": null,
   "metadata": {},
   "outputs": [],
   "source": []
  }
 ],
 "metadata": {
  "kernelspec": {
   "display_name": "Python 3",
   "language": "python",
   "name": "python3"
  },
  "language_info": {
   "codemirror_mode": {
    "name": "ipython",
    "version": 3
   },
   "file_extension": ".py",
   "mimetype": "text/x-python",
   "name": "python",
   "nbconvert_exporter": "python",
   "pygments_lexer": "ipython3",
   "version": "3.6.6"
  }
 },
 "nbformat": 4,
 "nbformat_minor": 2
}
