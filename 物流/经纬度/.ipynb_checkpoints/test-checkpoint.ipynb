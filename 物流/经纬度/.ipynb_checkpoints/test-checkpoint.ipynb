{
 "cells": [
  {
   "cell_type": "code",
   "execution_count": 1,
   "metadata": {},
   "outputs": [],
   "source": [
    "import pandas as pd"
   ]
  },
  {
   "cell_type": "code",
   "execution_count": 3,
   "metadata": {},
   "outputs": [],
   "source": [
    "df_st = pd.read_excel(r\"M:\\toChen\\zhejiang\\JDstations_zhejiang_gaode.xlsx\")\n",
    "df_re = pd.read_excel(r\"M:\\toChen\\zhejiang\\1812zhejianginfo.xlsx\")\n",
    "df_cha = pd.read_csv(r\"M:\\toChen\\zhejiang\\201812_JD_cha.csv\")"
   ]
  },
  {
   "cell_type": "code",
   "execution_count": 4,
   "metadata": {},
   "outputs": [
    {
     "name": "stdout",
     "output_type": "stream",
     "text": [
      "(447, 23)\n",
      "(10316, 60)\n",
      "(79458, 6)\n"
     ]
    }
   ],
   "source": [
    "print(df_st.shape)\n",
    "print(df_re.shape)\n",
    "print(df_cha.shape)"
   ]
  },
  {
   "cell_type": "code",
   "execution_count": 5,
   "metadata": {},
   "outputs": [
    {
     "data": {
      "text/plain": [
       "Index(['JD_siteAdcode_gaode', 'JD_siteCity_gaode', 'JD_siteCountry_gaode',\n",
       "       'JD_siteDistrict_gaode', 'JD_siteFormatted_address_gaode',\n",
       "       'JD_siteLevel_gaode', 'JD_siteLocation_gaode', 'JD_siteNumber_gaode',\n",
       "       'JD_siteProvince_gaode', 'JD_siteStreet_gaode', 'JD_siteTownship_gaode',\n",
       "       'JD_siteAddress', 'JD_siteBusinessName', 'JD_siteCityId',\n",
       "       'JD_siteCountyId', 'JD_siteName', 'JD_siteProvinceId',\n",
       "       'JD_siteTelephone', 'cityId', 'JD_cityName', 'JD_siteAddress_all',\n",
       "       'JD_siteLng_gaode', 'JD_siteLat_gaode'],\n",
       "      dtype='object')"
      ]
     },
     "execution_count": 5,
     "metadata": {},
     "output_type": "execute_result"
    }
   ],
   "source": [
    "df_st.columns"
   ]
  },
  {
   "cell_type": "code",
   "execution_count": 6,
   "metadata": {},
   "outputs": [
    {
     "data": {
      "text/plain": [
       "Index(['订单编号', '订单状态', '订单子状态', '订单挂起原因', '安装失败原因', '订单来源', '店铺', '订单金额',\n",
       "       '订单生成时间', '交易完成时间', '发货时间', '物流单回填时间', '入网用户姓名', '入网身份证号', '入网手机号',\n",
       "       '收货人姓名', '收货地址_x', '收货人电话号码', '邮编', '所在省 / 市 / 县', '号码归属地', 'CPS推荐人',\n",
       "       '订单备注', '物流单号', '物流签收时间', '承运商_x', '大小卡类型', '写卡渠道', '销售品编号', '销售品名称',\n",
       "       '销售品类型', '套餐', '主号码', '副号码', '现金预存款', '靓号低消', '靓号等级', '靓号预存款',\n",
       "       '营业厅送货方式', '是否线下模式', '是否线下转线上', '线下转线上原因', '营业厅送货iccid', '所在省_x',\n",
       "       '所在市_x', '所在县', '号码归属省', '号码归属市', 're_adcode_gaode', 're_city_gaode',\n",
       "       're_country_gaode', 're_district_gaode', 're_formatted_address_gaode',\n",
       "       're_level_gaode', 're_lng_gaode', 're_lat_gaode', 're_number_gaode',\n",
       "       're_province_gaode', 're_street_gaode', 're_township_gaode'],\n",
       "      dtype='object')"
      ]
     },
     "execution_count": 6,
     "metadata": {},
     "output_type": "execute_result"
    }
   ],
   "source": [
    "df_re.columns"
   ]
  },
  {
   "cell_type": "code",
   "execution_count": 7,
   "metadata": {},
   "outputs": [
    {
     "data": {
      "text/plain": [
       "Index(['JD_LastStation', 'JD_OrderId', 'JD_deliveryman_name',\n",
       "       'JD_deliveryman_tel', 'JD_orderstatus', 'JD_trackingID'],\n",
       "      dtype='object')"
      ]
     },
     "execution_count": 7,
     "metadata": {},
     "output_type": "execute_result"
    }
   ],
   "source": [
    "df_cha.columns"
   ]
  },
  {
   "cell_type": "code",
   "execution_count": 12,
   "metadata": {},
   "outputs": [],
   "source": [
    "data1 = pd.merge(df_cha,df_st,how=\"left\",left_on=\"JD_LastStation\",right_on=\"JD_siteName\")"
   ]
  },
  {
   "cell_type": "code",
   "execution_count": 13,
   "metadata": {},
   "outputs": [
    {
     "data": {
      "text/plain": [
       "Index(['JD_LastStation', 'JD_OrderId', 'JD_deliveryman_name',\n",
       "       'JD_deliveryman_tel', 'JD_orderstatus', 'JD_trackingID',\n",
       "       'JD_siteAdcode_gaode', 'JD_siteCity_gaode', 'JD_siteCountry_gaode',\n",
       "       'JD_siteDistrict_gaode', 'JD_siteFormatted_address_gaode',\n",
       "       'JD_siteLevel_gaode', 'JD_siteLocation_gaode', 'JD_siteNumber_gaode',\n",
       "       'JD_siteProvince_gaode', 'JD_siteStreet_gaode', 'JD_siteTownship_gaode',\n",
       "       'JD_siteAddress', 'JD_siteBusinessName', 'JD_siteCityId',\n",
       "       'JD_siteCountyId', 'JD_siteName', 'JD_siteProvinceId',\n",
       "       'JD_siteTelephone', 'cityId', 'JD_cityName', 'JD_siteAddress_all',\n",
       "       'JD_siteLng_gaode', 'JD_siteLat_gaode'],\n",
       "      dtype='object')"
      ]
     },
     "execution_count": 13,
     "metadata": {},
     "output_type": "execute_result"
    }
   ],
   "source": [
    "data1.columns"
   ]
  },
  {
   "cell_type": "code",
   "execution_count": 14,
   "metadata": {},
   "outputs": [],
   "source": [
    "data2 = pd.merge(df_re,data1,how=\"left\",left_on=\"订单编号\",right_on=\"JD_OrderId\")"
   ]
  },
  {
   "cell_type": "code",
   "execution_count": 15,
   "metadata": {},
   "outputs": [
    {
     "name": "stdout",
     "output_type": "stream",
     "text": [
      "(79458, 29)\n",
      "(10316, 89)\n"
     ]
    }
   ],
   "source": [
    "print(data1.shape)\n",
    "print(data2.shape)"
   ]
  },
  {
   "cell_type": "code",
   "execution_count": 17,
   "metadata": {},
   "outputs": [],
   "source": [
    "data2.to_excel(r\"M:\\toChen\\zhejiang\\output_zhejiang_18DEC.xlsx\")"
   ]
  }
 ],
 "metadata": {
  "kernelspec": {
   "display_name": "Python 3",
   "language": "python",
   "name": "python3"
  },
  "language_info": {
   "codemirror_mode": {
    "name": "ipython",
    "version": 3
   },
   "file_extension": ".py",
   "mimetype": "text/x-python",
   "name": "python",
   "nbconvert_exporter": "python",
   "pygments_lexer": "ipython3",
   "version": "3.6.6"
  }
 },
 "nbformat": 4,
 "nbformat_minor": 2
}
