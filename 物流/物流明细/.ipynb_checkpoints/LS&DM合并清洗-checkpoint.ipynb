{
 "cells": [
  {
   "cell_type": "code",
   "execution_count": 1,
   "metadata": {},
   "outputs": [],
   "source": [
    "import pandas as pd"
   ]
  },
  {
   "cell_type": "code",
   "execution_count": 2,
   "metadata": {},
   "outputs": [
    {
     "name": "stderr",
     "output_type": "stream",
     "text": [
      "d:\\python\\envs\\jupyterpy36\\lib\\site-packages\\IPython\\core\\interactiveshell.py:2785: DtypeWarning: Columns (12) have mixed types. Specify dtype option on import or set low_memory=False.\n",
      "  interactivity=interactivity, compiler=compiler, result=result)\n"
     ]
    }
   ],
   "source": [
    "df_DM1 = pd.read_csv(r\"G:\\work\\logistica\\info\\output\\CHA\\CSV\\201902_JDXX_DM_cha.csv\")\n",
    "df_LS1 = pd.read_csv(r\"G:\\work\\logistica\\info\\output\\CHA\\CSV\\201902_JDXX_LS_cha.csv\")\n",
    "df_DM2 = pd.read_csv(r\"G:\\work\\logistica\\info\\output\\CHA\\CSV\\201902_JDWL_DM_cha.csv\")\n",
    "df_LS2 = pd.read_csv(r\"G:\\work\\logistica\\info\\output\\CHA\\CSV\\201902_JDWL_LS_cha.csv\")"
   ]
  },
  {
   "cell_type": "code",
   "execution_count": 3,
   "metadata": {},
   "outputs": [],
   "source": [
    "dfXX = pd.merge(df_LS1,\n",
    "               df_DM1[['MAIL_NO','PARTNER_ACTION','ROUTE_TIME','DESCRIPTION','JD_deliveryman_name','JD_deliveryman_tel']],\n",
    "               how='inner',on=\"MAIL_NO\",suffixes=(\"_LS\",\"_DM\"))"
   ]
  },
  {
   "cell_type": "code",
   "execution_count": 4,
   "metadata": {},
   "outputs": [],
   "source": [
    "dfWL = pd.merge(df_LS2,\n",
    "               df_DM2[['MAIL_NO','PARTNER_ACTION','ROUTE_TIME','DESCRIPTION','JD_deliveryman_name','JD_deliveryman_tel']],\n",
    "               how='inner',on=\"MAIL_NO\",suffixes=(\"_LS\",\"_DM\"))"
   ]
  },
  {
   "cell_type": "code",
   "execution_count": 5,
   "metadata": {},
   "outputs": [
    {
     "data": {
      "text/plain": [
       "Index(['﻿\"ORDER_ID\"', 'MAIL_NO', 'ORDER_STATUS', 'PROV_NAME', 'CITY_NAME',\n",
       "       'CHANNEL_ID', 'LOGISTICS_COMPANY', 'ACTION', 'PARTNER_ACTION_LS',\n",
       "       'ROUTE_TIME_LS', 'DESCRIPTION_LS', 'JD_lastStation',\n",
       "       'PARTNER_ACTION_DM', 'ROUTE_TIME_DM', 'DESCRIPTION_DM',\n",
       "       'JD_deliveryman_name', 'JD_deliveryman_tel'],\n",
       "      dtype='object')"
      ]
     },
     "execution_count": 5,
     "metadata": {},
     "output_type": "execute_result"
    }
   ],
   "source": [
    "dfWL.columns"
   ]
  },
  {
   "cell_type": "code",
   "execution_count": 6,
   "metadata": {},
   "outputs": [
    {
     "data": {
      "text/plain": [
       "Index(['﻿\"ORDER_ID\"', 'MAIL_NO', 'ORDER_STATUS', 'PROV_NAME', 'CITY_NAME',\n",
       "       'CHANNEL_ID', 'LOGISTICS_COMPANY', 'ACTION', 'PARTNER_ACTION_LS',\n",
       "       'ROUTE_TIME_LS', 'DESCRIPTION_LS', 'JD_lastStation',\n",
       "       'PARTNER_ACTION_DM', 'ROUTE_TIME_DM', 'DESCRIPTION_DM',\n",
       "       'JD_deliveryman_name', 'JD_deliveryman_tel'],\n",
       "      dtype='object')"
      ]
     },
     "execution_count": 6,
     "metadata": {},
     "output_type": "execute_result"
    }
   ],
   "source": [
    "dfXX.columns"
   ]
  },
  {
   "cell_type": "code",
   "execution_count": 7,
   "metadata": {},
   "outputs": [],
   "source": [
    "df = pd.concat([dfWL,dfXX])"
   ]
  },
  {
   "cell_type": "code",
   "execution_count": 8,
   "metadata": {},
   "outputs": [
    {
     "name": "stderr",
     "output_type": "stream",
     "text": [
      "d:\\python\\envs\\jupyterpy36\\lib\\site-packages\\IPython\\core\\interactiveshell.py:2785: DtypeWarning: Columns (11,17) have mixed types. Specify dtype option on import or set low_memory=False.\n",
      "  interactivity=interactivity, compiler=compiler, result=result)\n"
     ]
    }
   ],
   "source": [
    "data = pd.read_csv(r\"G:\\work\\basic\\alter\\1902_info_alter_gai.csv\")"
   ]
  },
  {
   "cell_type": "code",
   "execution_count": 9,
   "metadata": {},
   "outputs": [
    {
     "data": {
      "text/plain": [
       "(520906, 49)"
      ]
     },
     "execution_count": 9,
     "metadata": {},
     "output_type": "execute_result"
    }
   ],
   "source": [
    "data.shape"
   ]
  },
  {
   "cell_type": "code",
   "execution_count": 10,
   "metadata": {},
   "outputs": [
    {
     "data": {
      "text/plain": [
       "Index(['订单编号', '订单状态', '订单子状态', '订单挂起原因', '安装失败原因', '订单来源', '店铺', '订单金额',\n",
       "       '订单生成时间', '交易完成时间', '发货时间', '物流单回填时间', '入网用户姓名', '入网身份证号', '入网手机号',\n",
       "       '收货人姓名', '收货地址', '收货人电话号码', '邮编', '所在省 / 市 / 县', '号码归属地', 'CPS推荐人',\n",
       "       '订单备注', '物流单号', '物流签收时间', '承运商', '大小卡类型', '写卡渠道', '销售品编号', '销售品名称',\n",
       "       '销售品类型', '套餐', '主号码', '副号码', '现金预存款', '靓号低消', '靓号等级', '靓号预存款',\n",
       "       '营业厅送货方式', '是否线下模式', '是否线下转线上', '线下转线上原因', '营业厅送货iccid', '京东不可达原因',\n",
       "       '所在省', '所在市', '所在县', '号码归属省', '号码归属市'],\n",
       "      dtype='object')"
      ]
     },
     "execution_count": 10,
     "metadata": {},
     "output_type": "execute_result"
    }
   ],
   "source": [
    "data.columns"
   ]
  },
  {
   "cell_type": "code",
   "execution_count": 11,
   "metadata": {},
   "outputs": [],
   "source": [
    "dataA = pd.merge(data[['物流单号','所在省','所在市']],\n",
    "                 df[['MAIL_NO','LOGISTICS_COMPANY','JD_lastStation','JD_deliveryman_name']],\n",
    "                 how=\"inner\",\n",
    "                 left_on='物流单号',\n",
    "                right_on = 'MAIL_NO'\n",
    "                )"
   ]
  },
  {
   "cell_type": "code",
   "execution_count": 12,
   "metadata": {
    "scrolled": true
   },
   "outputs": [
    {
     "data": {
      "text/html": [
       "<div>\n",
       "<style scoped>\n",
       "    .dataframe tbody tr th:only-of-type {\n",
       "        vertical-align: middle;\n",
       "    }\n",
       "\n",
       "    .dataframe tbody tr th {\n",
       "        vertical-align: top;\n",
       "    }\n",
       "\n",
       "    .dataframe thead th {\n",
       "        text-align: right;\n",
       "    }\n",
       "</style>\n",
       "<table border=\"1\" class=\"dataframe\">\n",
       "  <thead>\n",
       "    <tr style=\"text-align: right;\">\n",
       "      <th></th>\n",
       "      <th>物流单号</th>\n",
       "      <th>所在省</th>\n",
       "      <th>所在市</th>\n",
       "      <th>MAIL_NO</th>\n",
       "      <th>LOGISTICS_COMPANY</th>\n",
       "      <th>JD_lastStation</th>\n",
       "      <th>JD_deliveryman_name</th>\n",
       "    </tr>\n",
       "  </thead>\n",
       "  <tbody>\n",
       "    <tr>\n",
       "      <th>0</th>\n",
       "      <td>VA50808674265</td>\n",
       "      <td>广东</td>\n",
       "      <td>潮州市</td>\n",
       "      <td>VA50808674265</td>\n",
       "      <td>jingdongxianxia</td>\n",
       "      <td>潮州钱东营业部</td>\n",
       "      <td>张旭生</td>\n",
       "    </tr>\n",
       "    <tr>\n",
       "      <th>1</th>\n",
       "      <td>VA50808674265</td>\n",
       "      <td>广东</td>\n",
       "      <td>潮州市</td>\n",
       "      <td>VA50808674265</td>\n",
       "      <td>jingdongxianxia</td>\n",
       "      <td>潮州钱东营业部</td>\n",
       "      <td>卓卫浩</td>\n",
       "    </tr>\n",
       "    <tr>\n",
       "      <th>2</th>\n",
       "      <td>VA50808674265</td>\n",
       "      <td>广东</td>\n",
       "      <td>潮州市</td>\n",
       "      <td>VA50808674265</td>\n",
       "      <td>jingdongxianxia</td>\n",
       "      <td>潮州钱东营业部</td>\n",
       "      <td>郑加鑫</td>\n",
       "    </tr>\n",
       "    <tr>\n",
       "      <th>3</th>\n",
       "      <td>VA50808674265</td>\n",
       "      <td>广东</td>\n",
       "      <td>潮州市</td>\n",
       "      <td>VA50808674265</td>\n",
       "      <td>jingdongxianxia</td>\n",
       "      <td>潮州钱东营业部</td>\n",
       "      <td>郑加鑫</td>\n",
       "    </tr>\n",
       "    <tr>\n",
       "      <th>4</th>\n",
       "      <td>VA50808674265</td>\n",
       "      <td>广东</td>\n",
       "      <td>潮州市</td>\n",
       "      <td>VA50808674265</td>\n",
       "      <td>jingdongxianxia</td>\n",
       "      <td>潮州钱东营业部</td>\n",
       "      <td>郑加鑫</td>\n",
       "    </tr>\n",
       "  </tbody>\n",
       "</table>\n",
       "</div>"
      ],
      "text/plain": [
       "            物流单号 所在省  所在市        MAIL_NO LOGISTICS_COMPANY JD_lastStation  \\\n",
       "0  VA50808674265  广东  潮州市  VA50808674265   jingdongxianxia        潮州钱东营业部   \n",
       "1  VA50808674265  广东  潮州市  VA50808674265   jingdongxianxia        潮州钱东营业部   \n",
       "2  VA50808674265  广东  潮州市  VA50808674265   jingdongxianxia        潮州钱东营业部   \n",
       "3  VA50808674265  广东  潮州市  VA50808674265   jingdongxianxia        潮州钱东营业部   \n",
       "4  VA50808674265  广东  潮州市  VA50808674265   jingdongxianxia        潮州钱东营业部   \n",
       "\n",
       "  JD_deliveryman_name  \n",
       "0                 张旭生  \n",
       "1                 卓卫浩  \n",
       "2                 郑加鑫  \n",
       "3                 郑加鑫  \n",
       "4                 郑加鑫  "
      ]
     },
     "execution_count": 12,
     "metadata": {},
     "output_type": "execute_result"
    }
   ],
   "source": [
    "dataA.head()"
   ]
  },
  {
   "cell_type": "code",
   "execution_count": 13,
   "metadata": {},
   "outputs": [
    {
     "data": {
      "text/plain": [
       "广东     73289\n",
       "山东     37434\n",
       "河南     32315\n",
       "江苏     26565\n",
       "北京     20257\n",
       "河北     19678\n",
       "湖北     19149\n",
       "湖南     17820\n",
       "浙江     17532\n",
       "四川     17483\n",
       "上海     16774\n",
       "云南     10305\n",
       "山西      9833\n",
       "江西      9336\n",
       "辽宁      9042\n",
       "安徽      8841\n",
       "广西      8249\n",
       "内蒙古     7889\n",
       "重庆      7167\n",
       "陕西      7027\n",
       "黑龙江     6664\n",
       "福建      6602\n",
       "吉林      3397\n",
       "天津      2770\n",
       "贵州      2686\n",
       "甘肃      2518\n",
       "海南      1179\n",
       "宁夏       910\n",
       "青海       196\n",
       "新疆       191\n",
       "西藏       138\n",
       "Name: 所在省, dtype: int64"
      ]
     },
     "execution_count": 13,
     "metadata": {},
     "output_type": "execute_result"
    }
   ],
   "source": [
    "dataA['所在省'].value_counts()"
   ]
  },
  {
   "cell_type": "code",
   "execution_count": 14,
   "metadata": {},
   "outputs": [],
   "source": [
    "dataB = dataA[dataA['所在省'] == \"重庆\"]"
   ]
  },
  {
   "cell_type": "code",
   "execution_count": 23,
   "metadata": {},
   "outputs": [
    {
     "data": {
      "text/plain": [
       "唐昭伟    1\n",
       "冷世明    1\n",
       "戴明权    1\n",
       "李美元    1\n",
       "邓中国    1\n",
       "李兴     1\n",
       "代祥     1\n",
       "崔杰     1\n",
       "王超     1\n",
       "贺大冲    1\n",
       "梁居勇    1\n",
       "吴伟     1\n",
       "周凯志    1\n",
       "曾祥伟    1\n",
       "贾东浪    1\n",
       "张逸     1\n",
       "邱文书    1\n",
       "莫海涛    1\n",
       "傅佳佳    1\n",
       "林飞扬    1\n",
       "傅黎     1\n",
       "孙连军    1\n",
       "雷廷潘    1\n",
       "王杰     1\n",
       "肖芹都    1\n",
       "魏金馨    1\n",
       "李兵     1\n",
       "夏悦     1\n",
       "刘兴林    1\n",
       "胡译心    1\n",
       "      ..\n",
       "蒋华勇    1\n",
       "张波     1\n",
       "刘纪国    1\n",
       "王承林    1\n",
       "潘涛     1\n",
       "杨安全    1\n",
       "杨春杰    1\n",
       "陶堂月    1\n",
       "刘超     1\n",
       "陈源科    1\n",
       "张霜     1\n",
       "粟建     1\n",
       "陈爽     1\n",
       "童真均    1\n",
       "刘建     1\n",
       "陈良圣    1\n",
       "张渝     1\n",
       "陈孝生    1\n",
       "唐福维    1\n",
       "卢小宇    1\n",
       "夏泽林    1\n",
       "赵怀道    1\n",
       "辛兵     1\n",
       "窝琅健    1\n",
       "徐永祥    1\n",
       "曹约华    1\n",
       "何建东    1\n",
       "白长江    1\n",
       "郑树明    1\n",
       "唐佐才    1\n",
       "Name: JD_deliveryman_name, Length: 930, dtype: int64"
      ]
     },
     "execution_count": 23,
     "metadata": {},
     "output_type": "execute_result"
    }
   ],
   "source": [
    "dataB[\"JD_deliveryman_name\"].value_counts()"
   ]
  },
  {
   "cell_type": "code",
   "execution_count": 22,
   "metadata": {},
   "outputs": [
    {
     "name": "stderr",
     "output_type": "stream",
     "text": [
      "d:\\python\\envs\\jupyterpy36\\lib\\site-packages\\ipykernel_launcher.py:3: SettingWithCopyWarning: \n",
      "A value is trying to be set on a copy of a slice from a DataFrame\n",
      "\n",
      "See the caveats in the documentation: http://pandas.pydata.org/pandas-docs/stable/indexing.html#indexing-view-versus-copy\n",
      "  This is separate from the ipykernel package so we can avoid doing imports until\n"
     ]
    }
   ],
   "source": [
    "dataB.drop_duplicates(subset=['JD_deliveryman_name'],\n",
    "                              keep='first',\n",
    "                             inplace=True)"
   ]
  },
  {
   "cell_type": "code",
   "execution_count": 27,
   "metadata": {},
   "outputs": [
    {
     "data": {
      "text/html": [
       "<div>\n",
       "<style scoped>\n",
       "    .dataframe tbody tr th:only-of-type {\n",
       "        vertical-align: middle;\n",
       "    }\n",
       "\n",
       "    .dataframe tbody tr th {\n",
       "        vertical-align: top;\n",
       "    }\n",
       "\n",
       "    .dataframe thead th {\n",
       "        text-align: right;\n",
       "    }\n",
       "</style>\n",
       "<table border=\"1\" class=\"dataframe\">\n",
       "  <thead>\n",
       "    <tr style=\"text-align: right;\">\n",
       "      <th></th>\n",
       "      <th>物流单号</th>\n",
       "      <th>所在省</th>\n",
       "      <th>所在市</th>\n",
       "      <th>MAIL_NO</th>\n",
       "      <th>LOGISTICS_COMPANY</th>\n",
       "      <th>JD_lastStation</th>\n",
       "      <th>JD_deliveryman_name</th>\n",
       "    </tr>\n",
       "  </thead>\n",
       "  <tbody>\n",
       "    <tr>\n",
       "      <th>104</th>\n",
       "      <td>VA53013702070</td>\n",
       "      <td>重庆</td>\n",
       "      <td>重庆市</td>\n",
       "      <td>VA53013702070</td>\n",
       "      <td>jingdongxianxia</td>\n",
       "      <td>重庆龙头寺营业部</td>\n",
       "      <td>杨朝军</td>\n",
       "    </tr>\n",
       "    <tr>\n",
       "      <th>392</th>\n",
       "      <td>VA51392833424</td>\n",
       "      <td>重庆</td>\n",
       "      <td>重庆市</td>\n",
       "      <td>VA51392833424</td>\n",
       "      <td>jingdongxianxia</td>\n",
       "      <td>重庆建胜营业部</td>\n",
       "      <td>卢元全</td>\n",
       "    </tr>\n",
       "    <tr>\n",
       "      <th>393</th>\n",
       "      <td>VA51392833424</td>\n",
       "      <td>重庆</td>\n",
       "      <td>重庆市</td>\n",
       "      <td>VA51392833424</td>\n",
       "      <td>jingdongxianxia</td>\n",
       "      <td>重庆建胜营业部</td>\n",
       "      <td>刘照权</td>\n",
       "    </tr>\n",
       "    <tr>\n",
       "      <th>395</th>\n",
       "      <td>VA51392356864</td>\n",
       "      <td>重庆</td>\n",
       "      <td>重庆市</td>\n",
       "      <td>VA51392356864</td>\n",
       "      <td>jingdongxianxia</td>\n",
       "      <td>重庆华福营业部</td>\n",
       "      <td>黄开刚</td>\n",
       "    </tr>\n",
       "    <tr>\n",
       "      <th>398</th>\n",
       "      <td>VA49776932166</td>\n",
       "      <td>重庆</td>\n",
       "      <td>重庆市</td>\n",
       "      <td>VA49776932166</td>\n",
       "      <td>jingdongxianxia</td>\n",
       "      <td>重庆大石坝营业部</td>\n",
       "      <td>梁梦</td>\n",
       "    </tr>\n",
       "  </tbody>\n",
       "</table>\n",
       "</div>"
      ],
      "text/plain": [
       "              物流单号 所在省  所在市        MAIL_NO LOGISTICS_COMPANY JD_lastStation  \\\n",
       "104  VA53013702070  重庆  重庆市  VA53013702070   jingdongxianxia       重庆龙头寺营业部   \n",
       "392  VA51392833424  重庆  重庆市  VA51392833424   jingdongxianxia        重庆建胜营业部   \n",
       "393  VA51392833424  重庆  重庆市  VA51392833424   jingdongxianxia        重庆建胜营业部   \n",
       "395  VA51392356864  重庆  重庆市  VA51392356864   jingdongxianxia        重庆华福营业部   \n",
       "398  VA49776932166  重庆  重庆市  VA49776932166   jingdongxianxia       重庆大石坝营业部   \n",
       "\n",
       "    JD_deliveryman_name  \n",
       "104                 杨朝军  \n",
       "392                 卢元全  \n",
       "393                 刘照权  \n",
       "395                 黄开刚  \n",
       "398                  梁梦  "
      ]
     },
     "execution_count": 27,
     "metadata": {},
     "output_type": "execute_result"
    }
   ],
   "source": [
    "dataB.head()"
   ]
  },
  {
   "cell_type": "code",
   "execution_count": 24,
   "metadata": {},
   "outputs": [],
   "source": [
    "list_station_CQ = dataB['JD_deliveryman_name'].groupby(dataB['JD_lastStation']).count()"
   ]
  },
  {
   "cell_type": "code",
   "execution_count": 25,
   "metadata": {},
   "outputs": [
    {
     "data": {
      "text/plain": [
       "JD_lastStation\n",
       "万州百安营业部               9\n",
       "南通平潮营业部               2\n",
       "焦作武陟营业部               1\n",
       "西南大学南区京东派             1\n",
       "重庆万州三峡职业学院京东派         1\n",
       "重庆万年路营业部              5\n",
       "重庆万盛营业部               7\n",
       "重庆三峡医药高等专科加盟京东派       1\n",
       "重庆上新街营业部              7\n",
       "重庆两江新区理工大学京东派         6\n",
       "重庆两路口营业部             13\n",
       "重庆丰都营业部              11\n",
       "重庆九龙坡营业部             14\n",
       "重庆二郎营业部              15\n",
       "重庆云阳营业部              13\n",
       "重庆井口营业部               7\n",
       "重庆人和营业部               4\n",
       "重庆凤天路营业部              3\n",
       "重庆北师营业部               9\n",
       "重庆北环营业部              12\n",
       "重庆北碚营业部              13\n",
       "重庆北部新区营业部            15\n",
       "重庆华福营业部              15\n",
       "重庆南山营业部               6\n",
       "重庆南岸营业部               2\n",
       "重庆南川营业部              10\n",
       "重庆南方翻译学院京东派          10\n",
       "重庆双桥营业部               3\n",
       "重庆合川营业部              12\n",
       "重庆后堡营业部              21\n",
       "                     ..\n",
       "重庆潼南营业部               4\n",
       "重庆照母山虚拟营业部            1\n",
       "重庆璧山营业部               4\n",
       "重庆界石营业部              13\n",
       "重庆白市驿营业部              9\n",
       "重庆白沙营业部               6\n",
       "重庆石坪桥营业部              8\n",
       "重庆石桥铺营业部             19\n",
       "重庆石马河营业部             15\n",
       "重庆礼嘉营业部               8\n",
       "重庆空港新城营业部            14\n",
       "重庆第二师范学院学府大道校区京东派     6\n",
       "重庆綦江营业部              16\n",
       "重庆茶园营业部               6\n",
       "重庆荣昌营业部              15\n",
       "重庆蔡家营业部               7\n",
       "重庆虎溪营业部               8\n",
       "重庆蚂蝗梁营业部             14\n",
       "重庆西彭营业部               6\n",
       "重庆西郊营业部               4\n",
       "重庆观音桥营业部             21\n",
       "重庆财富营业部               5\n",
       "重庆铜梁营业部              11\n",
       "重庆长大路营业部              8\n",
       "重庆长生桥营业部              7\n",
       "重庆鱼嘴营业部               7\n",
       "重庆鱼洞营业部              15\n",
       "重庆鸳鸯营业部               9\n",
       "重庆龙头寺营业部             17\n",
       "重庆龙洲湾营业部             12\n",
       "Name: JD_deliveryman_name, Length: 99, dtype: int64"
      ]
     },
     "execution_count": 25,
     "metadata": {},
     "output_type": "execute_result"
    }
   ],
   "source": [
    "list_station_CQ"
   ]
  },
  {
   "cell_type": "code",
   "execution_count": 26,
   "metadata": {},
   "outputs": [],
   "source": [
    "list_station_CQ.to_excel(r\"G:\\work\\logistica\\info\\output\\chongqing.xlsx\")"
   ]
  },
  {
   "cell_type": "code",
   "execution_count": 28,
   "metadata": {},
   "outputs": [],
   "source": [
    "dataB.to_excel(r\"G:\\work\\logistica\\info\\output\\chongqing_info.xlsx\")"
   ]
  },
  {
   "cell_type": "code",
   "execution_count": null,
   "metadata": {},
   "outputs": [],
   "source": []
  }
 ],
 "metadata": {
  "kernelspec": {
   "display_name": "Python 3",
   "language": "python",
   "name": "python3"
  },
  "language_info": {
   "codemirror_mode": {
    "name": "ipython",
    "version": 3
   },
   "file_extension": ".py",
   "mimetype": "text/x-python",
   "name": "python",
   "nbconvert_exporter": "python",
   "pygments_lexer": "ipython3",
   "version": "3.6.6"
  }
 },
 "nbformat": 4,
 "nbformat_minor": 2
}
