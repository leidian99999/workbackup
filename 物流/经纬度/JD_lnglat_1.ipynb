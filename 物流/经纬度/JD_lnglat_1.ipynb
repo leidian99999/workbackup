{
 "cells": [
  {
   "cell_type": "code",
   "execution_count": 1,
   "metadata": {},
   "outputs": [],
   "source": [
    "import pandas as pd\n",
    "from geopy.distance import vincenty"
   ]
  },
  {
   "cell_type": "code",
   "execution_count": 2,
   "metadata": {},
   "outputs": [
    {
     "data": {
      "text/plain": [
       "(605, 8)"
      ]
     },
     "execution_count": 2,
     "metadata": {},
     "output_type": "execute_result"
    }
   ],
   "source": [
    "data_old = pd.read_excel(r\"F:/temp/190408/1812JDlnglat.xlsx\")\n",
    "data_old.shape"
   ]
  },
  {
   "cell_type": "code",
   "execution_count": 3,
   "metadata": {},
   "outputs": [
    {
     "data": {
      "text/plain": [
       "(1508, 8)"
      ]
     },
     "execution_count": 3,
     "metadata": {},
     "output_type": "execute_result"
    }
   ],
   "source": [
    "data_new = pd.read_excel(r\"F:/temp/190408/1902JDlnglat.xlsx\")\n",
    "data_new.shape"
   ]
  },
  {
   "cell_type": "code",
   "execution_count": 4,
   "metadata": {},
   "outputs": [
    {
     "data": {
      "text/plain": [
       "Index(['订单编号', '承运商', 're_province_gaode', 're_city_gaode',\n",
       "       're_district_gaode', 're_siteLng_gaode', 're_siteLat_gaode',\n",
       "       're_location_gaode'],\n",
       "      dtype='object')"
      ]
     },
     "execution_count": 4,
     "metadata": {},
     "output_type": "execute_result"
    }
   ],
   "source": [
    "data_new.columns"
   ]
  },
  {
   "cell_type": "code",
   "execution_count": 5,
   "metadata": {},
   "outputs": [
    {
     "data": {
      "text/plain": [
       "(605, 8)"
      ]
     },
     "execution_count": 5,
     "metadata": {},
     "output_type": "execute_result"
    }
   ],
   "source": [
    "df_old = data_old.copy()\n",
    "df_old.shape"
   ]
  },
  {
   "cell_type": "code",
   "execution_count": 6,
   "metadata": {},
   "outputs": [
    {
     "data": {
      "text/plain": [
       "(1508, 8)"
      ]
     },
     "execution_count": 6,
     "metadata": {},
     "output_type": "execute_result"
    }
   ],
   "source": [
    "df_new = data_new.copy()\n",
    "df_new.shape"
   ]
  },
  {
   "cell_type": "code",
   "execution_count": 7,
   "metadata": {
    "scrolled": true
   },
   "outputs": [
    {
     "data": {
      "text/html": [
       "<div>\n",
       "<style scoped>\n",
       "    .dataframe tbody tr th:only-of-type {\n",
       "        vertical-align: middle;\n",
       "    }\n",
       "\n",
       "    .dataframe tbody tr th {\n",
       "        vertical-align: top;\n",
       "    }\n",
       "\n",
       "    .dataframe thead th {\n",
       "        text-align: right;\n",
       "    }\n",
       "</style>\n",
       "<table border=\"1\" class=\"dataframe\">\n",
       "  <thead>\n",
       "    <tr style=\"text-align: right;\">\n",
       "      <th></th>\n",
       "      <th>订单编号</th>\n",
       "      <th>承运商</th>\n",
       "      <th>re_province_gaode</th>\n",
       "      <th>re_city_gaode</th>\n",
       "      <th>re_district_gaode</th>\n",
       "      <th>re_siteLng_gaode</th>\n",
       "      <th>re_siteLat_gaode</th>\n",
       "      <th>re_location_gaode</th>\n",
       "    </tr>\n",
       "  </thead>\n",
       "  <tbody>\n",
       "    <tr>\n",
       "      <th>0</th>\n",
       "      <td>690000000001008318120420506883</td>\n",
       "      <td>京东线下</td>\n",
       "      <td>河南省</td>\n",
       "      <td>信阳市</td>\n",
       "      <td>息县</td>\n",
       "      <td>114.817384</td>\n",
       "      <td>32.429147</td>\n",
       "      <td>114.817384,32.429147</td>\n",
       "    </tr>\n",
       "    <tr>\n",
       "      <th>1</th>\n",
       "      <td>690000000001008318120420505325</td>\n",
       "      <td>京东线下</td>\n",
       "      <td>河南省</td>\n",
       "      <td>信阳市</td>\n",
       "      <td>息县</td>\n",
       "      <td>114.757180</td>\n",
       "      <td>32.353290</td>\n",
       "      <td>114.757180,32.353290</td>\n",
       "    </tr>\n",
       "    <tr>\n",
       "      <th>2</th>\n",
       "      <td>690000000001008318120420505075</td>\n",
       "      <td>京东线下</td>\n",
       "      <td>河南省</td>\n",
       "      <td>信阳市</td>\n",
       "      <td>淮滨县</td>\n",
       "      <td>115.424500</td>\n",
       "      <td>32.472500</td>\n",
       "      <td>115.424500,32.472500</td>\n",
       "    </tr>\n",
       "    <tr>\n",
       "      <th>3</th>\n",
       "      <td>690000000001008318120420504451</td>\n",
       "      <td>京东线下</td>\n",
       "      <td>河南省</td>\n",
       "      <td>信阳市</td>\n",
       "      <td>光山县</td>\n",
       "      <td>114.917610</td>\n",
       "      <td>32.015293</td>\n",
       "      <td>114.917610,32.015293</td>\n",
       "    </tr>\n",
       "    <tr>\n",
       "      <th>4</th>\n",
       "      <td>690000000001008318120420503659</td>\n",
       "      <td>京东线下</td>\n",
       "      <td>河南省</td>\n",
       "      <td>信阳市</td>\n",
       "      <td>罗山县</td>\n",
       "      <td>114.400194</td>\n",
       "      <td>32.157155</td>\n",
       "      <td>114.400194,32.157155</td>\n",
       "    </tr>\n",
       "  </tbody>\n",
       "</table>\n",
       "</div>"
      ],
      "text/plain": [
       "                             订单编号   承运商 re_province_gaode re_city_gaode  \\\n",
       "0  690000000001008318120420506883  京东线下               河南省           信阳市   \n",
       "1  690000000001008318120420505325  京东线下               河南省           信阳市   \n",
       "2  690000000001008318120420505075  京东线下               河南省           信阳市   \n",
       "3  690000000001008318120420504451  京东线下               河南省           信阳市   \n",
       "4  690000000001008318120420503659  京东线下               河南省           信阳市   \n",
       "\n",
       "  re_district_gaode  re_siteLng_gaode  re_siteLat_gaode     re_location_gaode  \n",
       "0                息县        114.817384         32.429147  114.817384,32.429147  \n",
       "1                息县        114.757180         32.353290  114.757180,32.353290  \n",
       "2               淮滨县        115.424500         32.472500  115.424500,32.472500  \n",
       "3               光山县        114.917610         32.015293  114.917610,32.015293  \n",
       "4               罗山县        114.400194         32.157155  114.400194,32.157155  "
      ]
     },
     "execution_count": 7,
     "metadata": {},
     "output_type": "execute_result"
    }
   ],
   "source": [
    "df_old.head()"
   ]
  },
  {
   "cell_type": "code",
   "execution_count": 8,
   "metadata": {},
   "outputs": [
    {
     "name": "stdout",
     "output_type": "stream",
     "text": [
      "平桥区    110\n",
      "固始县    100\n",
      "浉河区     98\n",
      "罗山县     62\n",
      "光山县     48\n",
      "商城县     43\n",
      "淮滨县     43\n",
      "息县      39\n",
      "新县      30\n",
      "潢川县     16\n",
      "[]      16\n",
      "Name: re_district_gaode, dtype: int64\n"
     ]
    }
   ],
   "source": [
    "print(df_old[\"re_district_gaode\"].value_counts())"
   ]
  },
  {
   "cell_type": "code",
   "execution_count": 9,
   "metadata": {},
   "outputs": [
    {
     "name": "stdout",
     "output_type": "stream",
     "text": [
      "平桥区    110\n",
      "固始县    100\n",
      "浉河区     98\n",
      "罗山县     62\n",
      "光山县     48\n",
      "商城县     43\n",
      "淮滨县     43\n",
      "息县      39\n",
      "新县      30\n",
      "潢川县     16\n",
      "Name: re_district_gaode, dtype: int64\n"
     ]
    }
   ],
   "source": [
    "df_old = df_old[~df_old[\"re_district_gaode\"].str.contains(\"\\[\\]\",regex=True)]\n",
    "print(df_old[\"re_district_gaode\"].value_counts())"
   ]
  },
  {
   "cell_type": "code",
   "execution_count": 10,
   "metadata": {},
   "outputs": [
    {
     "name": "stdout",
     "output_type": "stream",
     "text": [
      "平桥区    245\n",
      "固始县    207\n",
      "浉河区    159\n",
      "潢川县    138\n",
      "光山县    129\n",
      "息县     124\n",
      "商城县    118\n",
      "罗山县    114\n",
      "新县      99\n",
      "淮滨县     91\n",
      "Name: re_district_gaode, dtype: int64\n"
     ]
    }
   ],
   "source": [
    "df_new = df_new[~df_new[\"re_district_gaode\"].str.contains(\"\\[\\]\",regex=True)]\n",
    "print(df_new[\"re_district_gaode\"].value_counts())"
   ]
  },
  {
   "cell_type": "code",
   "execution_count": 11,
   "metadata": {},
   "outputs": [
    {
     "data": {
      "text/plain": [
       "array(['息县', '淮滨县', '光山县', '罗山县', '平桥区', '浉河区', '新县', '商城县', '固始县', '潢川县'],\n",
       "      dtype=object)"
      ]
     },
     "execution_count": 11,
     "metadata": {},
     "output_type": "execute_result"
    }
   ],
   "source": [
    "sheng_list = df_old[\"re_district_gaode\"].unique()\n",
    "sheng_list"
   ]
  },
  {
   "cell_type": "code",
   "execution_count": 29,
   "metadata": {},
   "outputs": [],
   "source": [
    "def FenSheng(df_new,df_old,col_city,col_district,col_lng,col_lat):\n",
    "    sheng_list = df_old[col_city].unique()\n",
    "    district_list = df_old[col_district].unique()  \n",
    "#     listA = []\n",
    "    dfA = pd.DataFrame(columns=[\n",
    "        'orderID_old',\n",
    "        're_location_gaode_old',\n",
    "        'orderID_new',\n",
    "        're_location_gaode_new',\n",
    "        'distance',\n",
    "        'city',\n",
    "        'district'\n",
    "    ])\n",
    "    for sheng in sheng_list:\n",
    "        for xian in district_list:\n",
    "            dfold = df_old[(df_old[col_city] == sheng) & (df_old[col_district] == xian)].reset_index(drop=True)\n",
    "            dfnew = df_new[(df_new[col_city] == sheng) & (df_new[col_district] == xian)].reset_index(drop=True)\n",
    "            if dfnew.empty == True:\n",
    "                print(sheng + \"：为空\")\n",
    "                pass\n",
    "            elif dfold.empty == True:\n",
    "                print(\"原所在市不存在\")\n",
    "                pass\n",
    "            else:\n",
    "                for i in range(0,len(dfnew[col_lng])):\n",
    "                    for j in range(0,len(dfold[col_lng])):\n",
    "                        start_lng = round(dfnew[col_lng][i],6)\n",
    "                        start_lat = round(dfnew[col_lat][i],6)\n",
    "                        end_lng = round(dfold[col_lng][j],6)\n",
    "                        end_lat = round(dfold[col_lat][j],6)\n",
    "                        start_lnglat = (start_lat,start_lng)\n",
    "                        end_lnglat = (end_lat,end_lng)\n",
    "                        a = vincenty(start_lnglat, end_lnglat).km\n",
    "                        row={\n",
    "                            'orderID_old':dfold['订单编号'][j],\n",
    "                             're_location_gaode_old':dfold['re_location_gaode'][j],\n",
    "                             'orderID_new':dfnew['订单编号'][i],\n",
    "                             're_location_gaode_new':dfnew['re_location_gaode'][i],\n",
    "                             'distance':a,\n",
    "                             'city':sheng,\n",
    "                             'district':xian\n",
    "                        }\n",
    "                        \n",
    "                        dfA = dfA.append(row,ignore_index=True)\n",
    "#                         listA.append(a)\n",
    "                print(str(sheng) + str(xian)+\"：已完成\")\n",
    "        return dfA"
   ]
  },
  {
   "cell_type": "code",
   "execution_count": 30,
   "metadata": {},
   "outputs": [],
   "source": [
    "# listA = []\n",
    "# for i in range(0,len(df_new_sheng['re_location_gaode'])):\n",
    "#     for j in range(0,len(df_old_sheng['re_location_gaode'])):\n",
    "#         start_lng = round(df_new_sheng['re_siteLng_gaode'][i],6)\n",
    "#         start_lat = round(df_new_sheng['re_siteLat_gaode'][j],6)\n",
    "#         end_lng = round(df_old_sheng['re_siteLng_gaode'][j],6)\n",
    "#         end_lat = round(df_old_sheng['re_siteLat_gaode'][j],6)\n",
    "#         start_lnglat = (start_lat,start_lng)\n",
    "#         end_lnglat = (end_lat,end_lng)\n",
    "#         a = vincenty(start_lnglat, end_lnglat).km\n",
    "#         listA.append(a)"
   ]
  },
  {
   "cell_type": "code",
   "execution_count": 31,
   "metadata": {},
   "outputs": [
    {
     "name": "stderr",
     "output_type": "stream",
     "text": [
      "d:\\python\\envs\\jupyterpy36\\lib\\site-packages\\ipykernel_launcher.py:33: DeprecationWarning: Vincenty is deprecated and is going to be removed in geopy 2.0. Use `geopy.distance.geodesic` (or the default `geopy.distance.distance`) instead, which is more accurate and always converges.\n"
     ]
    },
    {
     "name": "stdout",
     "output_type": "stream",
     "text": [
      "信阳市息县：已完成\n",
      "信阳市淮滨县：已完成\n",
      "信阳市光山县：已完成\n",
      "信阳市罗山县：已完成\n",
      "信阳市平桥区：已完成\n",
      "信阳市浉河区：已完成\n",
      "信阳市新县：已完成\n",
      "信阳市商城县：已完成\n",
      "信阳市固始县：已完成\n",
      "信阳市潢川县：已完成\n"
     ]
    }
   ],
   "source": [
    "listA = FenSheng(df_new,df_old,\"re_city_gaode\",\"re_district_gaode\",\"re_siteLng_gaode\",\"re_siteLat_gaode\")"
   ]
  },
  {
   "cell_type": "code",
   "execution_count": 32,
   "metadata": {},
   "outputs": [
    {
     "data": {
      "text/html": [
       "<div>\n",
       "<style scoped>\n",
       "    .dataframe tbody tr th:only-of-type {\n",
       "        vertical-align: middle;\n",
       "    }\n",
       "\n",
       "    .dataframe tbody tr th {\n",
       "        vertical-align: top;\n",
       "    }\n",
       "\n",
       "    .dataframe thead th {\n",
       "        text-align: right;\n",
       "    }\n",
       "</style>\n",
       "<table border=\"1\" class=\"dataframe\">\n",
       "  <thead>\n",
       "    <tr style=\"text-align: right;\">\n",
       "      <th></th>\n",
       "      <th>orderID_old</th>\n",
       "      <th>re_location_gaode_old</th>\n",
       "      <th>orderID_new</th>\n",
       "      <th>re_location_gaode_new</th>\n",
       "      <th>distance</th>\n",
       "      <th>city</th>\n",
       "      <th>district</th>\n",
       "    </tr>\n",
       "  </thead>\n",
       "  <tbody>\n",
       "    <tr>\n",
       "      <th>0</th>\n",
       "      <td>690000000001008318120420506883</td>\n",
       "      <td>114.817384,32.429147</td>\n",
       "      <td>690000000001008319022522223455</td>\n",
       "      <td>114.736480,32.344108</td>\n",
       "      <td>12.119494</td>\n",
       "      <td>信阳市</td>\n",
       "      <td>息县</td>\n",
       "    </tr>\n",
       "    <tr>\n",
       "      <th>1</th>\n",
       "      <td>690000000001008318120420505325</td>\n",
       "      <td>114.757180,32.353290</td>\n",
       "      <td>690000000001008319022522223455</td>\n",
       "      <td>114.736480,32.344108</td>\n",
       "      <td>2.198566</td>\n",
       "      <td>信阳市</td>\n",
       "      <td>息县</td>\n",
       "    </tr>\n",
       "    <tr>\n",
       "      <th>2</th>\n",
       "      <td>690000000001008318123121148907</td>\n",
       "      <td>114.746702,32.337226</td>\n",
       "      <td>690000000001008319022522223455</td>\n",
       "      <td>114.736480,32.344108</td>\n",
       "      <td>1.228202</td>\n",
       "      <td>信阳市</td>\n",
       "      <td>息县</td>\n",
       "    </tr>\n",
       "    <tr>\n",
       "      <th>3</th>\n",
       "      <td>690000000001008318123121146525</td>\n",
       "      <td>114.832989,32.172442</td>\n",
       "      <td>690000000001008319022522223455</td>\n",
       "      <td>114.736480,32.344108</td>\n",
       "      <td>21.096834</td>\n",
       "      <td>信阳市</td>\n",
       "      <td>息县</td>\n",
       "    </tr>\n",
       "    <tr>\n",
       "      <th>4</th>\n",
       "      <td>609904841100008318122097921225</td>\n",
       "      <td>114.738778,32.353330</td>\n",
       "      <td>690000000001008319022522223455</td>\n",
       "      <td>114.736480,32.344108</td>\n",
       "      <td>1.045283</td>\n",
       "      <td>信阳市</td>\n",
       "      <td>息县</td>\n",
       "    </tr>\n",
       "  </tbody>\n",
       "</table>\n",
       "</div>"
      ],
      "text/plain": [
       "                      orderID_old re_location_gaode_old  \\\n",
       "0  690000000001008318120420506883  114.817384,32.429147   \n",
       "1  690000000001008318120420505325  114.757180,32.353290   \n",
       "2  690000000001008318123121148907  114.746702,32.337226   \n",
       "3  690000000001008318123121146525  114.832989,32.172442   \n",
       "4  609904841100008318122097921225  114.738778,32.353330   \n",
       "\n",
       "                      orderID_new re_location_gaode_new   distance city  \\\n",
       "0  690000000001008319022522223455  114.736480,32.344108  12.119494  信阳市   \n",
       "1  690000000001008319022522223455  114.736480,32.344108   2.198566  信阳市   \n",
       "2  690000000001008319022522223455  114.736480,32.344108   1.228202  信阳市   \n",
       "3  690000000001008319022522223455  114.736480,32.344108  21.096834  信阳市   \n",
       "4  690000000001008319022522223455  114.736480,32.344108   1.045283  信阳市   \n",
       "\n",
       "  district  \n",
       "0       息县  \n",
       "1       息县  \n",
       "2       息县  \n",
       "3       息县  \n",
       "4       息县  "
      ]
     },
     "execution_count": 32,
     "metadata": {},
     "output_type": "execute_result"
    }
   ],
   "source": [
    "listA.head()"
   ]
  },
  {
   "cell_type": "code",
   "execution_count": 33,
   "metadata": {},
   "outputs": [
    {
     "data": {
      "text/plain": [
       "(95493, 7)"
      ]
     },
     "execution_count": 33,
     "metadata": {},
     "output_type": "execute_result"
    }
   ],
   "source": [
    "listA.shape"
   ]
  },
  {
   "cell_type": "code",
   "execution_count": null,
   "metadata": {},
   "outputs": [],
   "source": [
    "# pd.DataFrame(listA).to_excel(r\"F:\\temp\\190408\\信阳.xlsx\",index=False)"
   ]
  },
  {
   "cell_type": "code",
   "execution_count": 34,
   "metadata": {},
   "outputs": [],
   "source": [
    "listA.to_excel(r\"F:\\temp\\190408\\信阳.xlsx\",index=False)"
   ]
  },
  {
   "cell_type": "code",
   "execution_count": null,
   "metadata": {},
   "outputs": [],
   "source": []
  }
 ],
 "metadata": {
  "kernelspec": {
   "display_name": "Python 3",
   "language": "python",
   "name": "python3"
  },
  "language_info": {
   "codemirror_mode": {
    "name": "ipython",
    "version": 3
   },
   "file_extension": ".py",
   "mimetype": "text/x-python",
   "name": "python",
   "nbconvert_exporter": "python",
   "pygments_lexer": "ipython3",
   "version": "3.6.6"
  }
 },
 "nbformat": 4,
 "nbformat_minor": 2
}
