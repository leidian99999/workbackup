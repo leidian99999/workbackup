{
 "cells": [
  {
   "cell_type": "code",
   "execution_count": null,
   "metadata": {},
   "outputs": [],
   "source": [
    "import pandas as pd\n",
    "import requests\n",
    "from bs4 import BeautifulSoup\n",
    "import json\n",
    "import os\n",
    "from urllib.request import urlopen, quote,URLError, HTTPError\n",
    "import time"
   ]
  },
  {
   "cell_type": "code",
   "execution_count": null,
   "metadata": {},
   "outputs": [],
   "source": [
    "# 解析高德地图API网址信息\n",
    "def get_latlng_gaode(address,ak):\n",
    "    ak= ak\n",
    "    url=\"http://restapi.amap.com/v3/geocode/geo?key=%s&address=%s\"%(ak,address)\n",
    "    data=requests.get(url)\n",
    "    contest=data.json()\n",
    "    return contest"
   ]
  },
  {
   "cell_type": "code",
   "execution_count": null,
   "metadata": {},
   "outputs": [],
   "source": [
    "# 获取高德地图API地址信息\n",
    "def get_receiver_lnglat_gaode(address):\n",
    "    start_time = time.time()\n",
    "    re_List_gaode = []\n",
    "    for b in address:\n",
    "#         print(b)\n",
    "        re_Dict_gaode = {}\n",
    "        try:\n",
    "            temp=get_latlng_gaode(b,ak_gaode)\n",
    "        except HTTPError as e:\n",
    "            print(\"请求出错\")\n",
    "            pass\n",
    "        else:\n",
    "            if ('geocodes' in temp):\n",
    "                re_Dict_gaode[\"re_location_gaode\"] = temp['geocodes'][0]['location']\n",
    "                re_Dict_gaode[\"re_formatted_address_gaode\"] = temp['geocodes'][0]['formatted_address']\n",
    "                re_Dict_gaode[\"re_province_gaode\"] = temp['geocodes'][0]['province']\n",
    "                re_Dict_gaode[\"re_country_gaode\"] = temp['geocodes'][0]['country']\n",
    "                if ('citycode' in temp):\n",
    "                    re_Dict_gaode[\"re_citycode_gaode\"] = temp['geocodes'][0]['citycode']\n",
    "                else:\n",
    "                    pass\n",
    "                re_Dict_gaode[\"re_city_gaode\"] = temp['geocodes'][0]['city']\n",
    "                re_Dict_gaode[\"re_district_gaode\"] = temp['geocodes'][0]['district']\n",
    "                re_Dict_gaode[\"re_level_gaode\"] = temp['geocodes'][0]['level']\n",
    "                re_Dict_gaode[\"re_township_gaode\"] = temp['geocodes'][0]['township']\n",
    "                re_Dict_gaode[\"re_adcode_gaode\"] = temp['geocodes'][0]['adcode']\n",
    "                re_Dict_gaode[\"re_street_gaode\"] = temp['geocodes'][0]['street']\n",
    "                re_Dict_gaode[\"re_number_gaode\"] = temp['geocodes'][0]['number']\n",
    "            else:\n",
    "                pass\n",
    "        re_List_gaode.append(re_Dict_gaode)\n",
    "    #     time.sleep(1)\n",
    "    end_time = time.time()\n",
    "    print(\"高德总用时：\",end_time-start_time)\n",
    "    return re_List_gaode"
   ]
  },
  {
   "cell_type": "code",
   "execution_count": null,
   "metadata": {},
   "outputs": [],
   "source": [
    "# 解析百度地图API网址信息\n",
    "def get_latlng_baidu(address,ak):\n",
    "    url = 'http://api.map.baidu.com/geocoder/v2/'\n",
    "    output = 'json'#输出数据的格式\n",
    "    ak = ak\n",
    "    add = quote(address) #由于本文地址变量为中文，为防止乱码，先用quote进行编码\n",
    "    uri = url + '?' + 'address=' + add  + '&output=' + output + '&ak=' + ak\n",
    "    req = urlopen(uri)\n",
    "    res = req.read().decode()\n",
    "    temp = json.loads(res)\n",
    "    return temp"
   ]
  },
  {
   "cell_type": "code",
   "execution_count": null,
   "metadata": {},
   "outputs": [],
   "source": [
    "# 获取高德地图API地址信息\n",
    "def get_receiver_lnglat_baidu(address):\n",
    "    start_time = time.time()\n",
    "    re_List_baidu = []\n",
    "    for b in address:\n",
    "#         print(b)\n",
    "        re_Dict_baidu = {}\n",
    "        try:\n",
    "            temp = get_latlng_baidu(b,ak_baidu)\n",
    "        except HTTPError as e:\n",
    "            print(\"请求出错\")\n",
    "            pass\n",
    "        else:\n",
    "            if ('result' in temp):\n",
    "                re_Dict_baidu[\"re_Lng_baidu\"] = temp['result']['location']['lng']\n",
    "                re_Dict_baidu[\"re_Lat_baidu\"] = temp['result']['location']['lat']\n",
    "                re_Dict_baidu[\"re_Precise_baidu\"] = temp['result']['precise']\n",
    "                re_Dict_baidu[\"re_Confidence_baidu\"] = temp['result']['confidence']\n",
    "                re_Dict_baidu[\"re_Comprehension_baidu\"] = temp['result']['comprehension']\n",
    "                re_Dict_baidu[\"re_Level_baidu\"] = temp['result']['level']\n",
    "            else:\n",
    "                pass\n",
    "        re_List_baidu.append(re_Dict_baidu)\n",
    "    #     time.sleep(1)\n",
    "    end_time = time.time()\n",
    "    print(\"百度总用时：\", end_time - start_time)\n",
    "    return re_List_baidu"
   ]
  },
  {
   "cell_type": "code",
   "execution_count": null,
   "metadata": {},
   "outputs": [],
   "source": [
    "# ak码\n",
    "ak_gaode = 'c71d9eda293d20db64955275557d92d4'\n",
    "ak_baidu = 'z3KEtliyTGvj0bFudEkz4GO0GN8eQQa5'"
   ]
  },
  {
   "cell_type": "code",
   "execution_count": null,
   "metadata": {},
   "outputs": [],
   "source": [
    "# 导入数据\n",
    "inputpath = \"H:\\\\work\\\\basic\\\\province\\\\DEC18\\\\\"\n",
    "inputFileName = \"浙江(所在省).xlsx\"\n",
    "data = pd.read_excel(inputpath + inputFileName)\n"
   ]
  },
  {
   "cell_type": "code",
   "execution_count": null,
   "metadata": {
    "scrolled": true
   },
   "outputs": [],
   "source": [
    "data.columns "
   ]
  },
  {
   "cell_type": "code",
   "execution_count": null,
   "metadata": {},
   "outputs": [],
   "source": [
    "data[\"承运商\"].value_counts()"
   ]
  },
  {
   "cell_type": "code",
   "execution_count": null,
   "metadata": {},
   "outputs": [],
   "source": [
    "df = data[[\"所在省\",\"所在市\",\"收货地址\",\"订单编号\",\"承运商\"]]"
   ]
  },
  {
   "cell_type": "code",
   "execution_count": null,
   "metadata": {},
   "outputs": [],
   "source": [
    "df[\"address_all\"]= df[\"所在省\"] +\"省\"+ df[\"所在市\"] + df[\"收货地址\"]"
   ]
  },
  {
   "cell_type": "code",
   "execution_count": null,
   "metadata": {},
   "outputs": [],
   "source": [
    "data.shape"
   ]
  },
  {
   "cell_type": "code",
   "execution_count": null,
   "metadata": {},
   "outputs": [],
   "source": [
    "df.head()"
   ]
  },
  {
   "cell_type": "code",
   "execution_count": null,
   "metadata": {},
   "outputs": [],
   "source": [
    "df_EMS = df[df[\"承运商\"] == \"EMS\"]\n",
    "df_JDWL = df[df[\"承运商\"] == \"京东物流\"]\n",
    "df_YD = df[df[\"承运商\"] == \"韵达\"]\n",
    "df_JDXX = df[df[\"承运商\"] == \"京东线下\"]"
   ]
  },
  {
   "cell_type": "code",
   "execution_count": null,
   "metadata": {},
   "outputs": [],
   "source": [
    "list_JDXX_gaode = get_receiver_lnglat_gaode(df_JDXX[\"address_all\"])"
   ]
  },
  {
   "cell_type": "code",
   "execution_count": null,
   "metadata": {},
   "outputs": [],
   "source": [
    "list_JDWL_gaode = get_receiver_lnglat_gaode(df_JDWL [\"address_all\"])"
   ]
  },
  {
   "cell_type": "code",
   "execution_count": null,
   "metadata": {},
   "outputs": [],
   "source": [
    "list_YD_gaode = get_receiver_lnglat_gaode(df_YD [\"address_all\"])"
   ]
  },
  {
   "cell_type": "code",
   "execution_count": null,
   "metadata": {},
   "outputs": [],
   "source": [
    "list_EMS_gaode = get_receiver_lnglat_gaode(df_EMS[\"address_all\"])"
   ]
  },
  {
   "cell_type": "code",
   "execution_count": null,
   "metadata": {},
   "outputs": [],
   "source": [
    "df_EMS_gaode = pd.DataFrame(list_EMS_gaode)\n",
    "df_JDXX_gaode = pd.DataFrame(list_JDXX_gaode)\n",
    "df_JDWL_gaode = pd.DataFrame(list_JDWL_gaode)\n",
    "df_YD_gaode = pd.DataFrame(list_YD_gaode )"
   ]
  },
  {
   "cell_type": "code",
   "execution_count": null,
   "metadata": {},
   "outputs": [],
   "source": [
    "# 导出数据\n",
    "outpath = \"D:\\\\work\\\\basic\\\\province\\\\\"\n",
    "name_ANSI = \"1812_info_alter_lnglat1.xlsx\"\n",
    "# name_UTF8 = \"1812_info_alter_lnglat.csv\""
   ]
  },
  {
   "cell_type": "code",
   "execution_count": null,
   "metadata": {},
   "outputs": [],
   "source": [
    "print(\"验证完整收货地址：\")\n",
    "print(add[0:3])\n",
    "print(\"&%\"*50)"
   ]
  },
  {
   "cell_type": "code",
   "execution_count": null,
   "metadata": {},
   "outputs": [],
   "source": []
  }
 ],
 "metadata": {
  "kernelspec": {
   "display_name": "Python 3",
   "language": "python",
   "name": "python3"
  },
  "language_info": {
   "codemirror_mode": {
    "name": "ipython",
    "version": 3
   },
   "file_extension": ".py",
   "mimetype": "text/x-python",
   "name": "python",
   "nbconvert_exporter": "python",
   "pygments_lexer": "ipython3",
   "version": "3.5.2"
  }
 },
 "nbformat": 4,
 "nbformat_minor": 2
}
