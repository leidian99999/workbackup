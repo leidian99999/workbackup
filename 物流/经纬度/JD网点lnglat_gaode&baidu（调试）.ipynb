{
 "cells": [
  {
   "cell_type": "code",
   "execution_count": null,
   "metadata": {},
   "outputs": [],
   "source": [
    "import pandas as pd\n",
    "import requests\n",
    "from bs4 import BeautifulSoup\n",
    "import json\n",
    "import os\n",
    "from urllib.request import urlopen, quote,URLError, HTTPError\n",
    "import time"
   ]
  },
  {
   "cell_type": "code",
   "execution_count": null,
   "metadata": {},
   "outputs": [],
   "source": [
    "# 导入数据\n",
    "df = pd.read_excel(r\"G:\\\\work\\\\logistica\\\\stations\\\\JDStations\\\\yuanURL\\\\浙江/浙江.xlsx\")\n",
    "data_city = pd.read_excel(r\"G:\\work\\logistica\\stations\\JDStations\\stations\\zhejiangcityID.xlsx\")\n",
    "province = \"浙江省\""
   ]
  },
  {
   "cell_type": "code",
   "execution_count": null,
   "metadata": {},
   "outputs": [],
   "source": [
    "ak_gaode='c71d9eda293d20db64955275557d92d4'"
   ]
  },
  {
   "cell_type": "code",
   "execution_count": null,
   "metadata": {},
   "outputs": [],
   "source": [
    "# 导出数据路径\n",
    "outpath = \"G:\\\\work\\\\logistica\\\\stations\\\\JDStations\\\\stations\\\\website\\\\\"\n",
    "name_ANSI = \"JDstations_zhejiang_gaode.xlsx\""
   ]
  },
  {
   "cell_type": "code",
   "execution_count": null,
   "metadata": {},
   "outputs": [],
   "source": [
    "# 建立url池\n",
    "urls = []\n",
    "for a in df[\"url\"]:\n",
    "    urls.append(\"http://www.jdwl.com/site/querySiteList?\" + a)\n",
    "\n",
    "print(\"验证完整地址：\")\n",
    "print(urls[0:3])"
   ]
  },
  {
   "cell_type": "code",
   "execution_count": null,
   "metadata": {},
   "outputs": [],
   "source": [
    "# 遍历获取JD官网网点信息\n",
    "def get_JD_siteInfo(urls):\n",
    "    JD_siteList = []\n",
    "    for url in urls:\n",
    "        request = requests.get(url)\n",
    "        soup = BeautifulSoup(request.content, \"lxml\").get_text()\n",
    "        jsonlist = json.loads(soup)\n",
    "        for i in range(len(jsonlist)):\n",
    "            JD_siteDict = {}\n",
    "            JD_siteDict[\"JD_siteBusinessName\"] = jsonlist[i][\"siteBusinessName\"]\n",
    "            JD_siteDict[\"JD_siteProvinceId\"] = jsonlist[i][\"provinceId\"]\n",
    "            JD_siteDict[\"JD_siteCityId\"] = jsonlist[i][\"cityId\"]\n",
    "            JD_siteDict[\"JD_siteCountyId\"] = jsonlist[i][\"countyId\"]\n",
    "            JD_siteDict[\"siteName\"] = jsonlist[i][\"siteName\"]\n",
    "            if 'address' in jsonlist[i]:\n",
    "                JD_siteDict[\"JD_siteAddress\"] = jsonlist[i][\"address\"]\n",
    "            else:\n",
    "                pass\n",
    "            if 'latitude' in jsonlist[i]:\n",
    "                JD_siteDict[\"JD_siteLatitude\"] = jsonlist[i]['latitude']\n",
    "            else:\n",
    "                pass  \n",
    "            if 'longitude' in jsonlist[i]:\n",
    "                JD_siteDict[\"JD_siteLongitude\"] = jsonlist[i]['longitude']\n",
    "            else:\n",
    "                pass       \n",
    "            if \"telephone\" in jsonlist[i]:\n",
    "                JD_siteDict[\"JD_siteTelephone\"] = jsonlist[i][\"telephone\"]\n",
    "            else:\n",
    "                pass\n",
    "            JD_siteList.append(JD_siteDict)\n",
    "    return JD_siteList"
   ]
  },
  {
   "cell_type": "code",
   "execution_count": null,
   "metadata": {},
   "outputs": [],
   "source": [
    "def get_latlng_Gaode(address,ak):\n",
    "    ak = ak_gaode\n",
    "    url=\"http://restapi.amap.com/v3/geocode/geo?key=%s&address=%s\"%(ak,address)\n",
    "    data=requests.get(url)\n",
    "    contest=data.json()\n",
    "    return contest"
   ]
  },
  {
   "cell_type": "code",
   "execution_count": null,
   "metadata": {},
   "outputs": [],
   "source": [
    "def get_JD_siteInfo_gaode(urls):\n",
    "    start_time = time.time()\n",
    "    JD_siteList_gaode = []\n",
    "    for b in urls:\n",
    "        # print(b)\n",
    "        JD_siteDict_gaode = {}\n",
    "        try:\n",
    "            temp=get_latlng_Gaode(b)\n",
    "        except HTTPError as e:\n",
    "            print(\"请求出错\")\n",
    "            pass\n",
    "        else:    \n",
    "            if ('geocodes' in temp):\n",
    "                JD_siteDict_gaode[\"JD_siteLocation_gaode\"] = temp['geocodes'][0]['location']\n",
    "                JD_siteDict_gaode[\"JD_siteFormatted_address_gaode\"] = temp['geocodes'][0]['formatted_address']\n",
    "                JD_siteDict_gaode[\"JD_siteProvince_gaode\"] = temp['geocodes'][0]['province']\n",
    "                JD_siteDict_gaode[\"JD_siteCountry_gaode\"] = temp['geocodes'][0]['country']\n",
    "                if ('citycode' in temp):\n",
    "                    JD_siteDict_gaode[\"JD_siteCitycode_gaode\"] = temp['geocodes'][0]['citycode']\n",
    "                else:\n",
    "                    pass\n",
    "                JD_siteDict_gaode[\"JD_siteCity_gaode\"] = temp['geocodes'][0]['city']\n",
    "                JD_siteDict_gaode[\"JD_siteDistrict_gaode\"] = temp['geocodes'][0]['district']\n",
    "                JD_siteDict_gaode[\"JD_siteLevel_gaode\"] = temp['geocodes'][0]['level']\n",
    "                JD_siteDict_gaode[\"JD_siteTownship_gaode\"] = temp['geocodes'][0]['township']\n",
    "                JD_siteDict_gaode[\"JD_siteAdcode_gaode\"] = temp['geocodes'][0]['adcode']\n",
    "                JD_siteDict_gaode[\"JD_siteStreet_gaode\"] = temp['geocodes'][0]['street']\n",
    "                JD_siteDict_gaode[\"JD_siteNumber_gaode\"] = temp['geocodes'][0]['number']\n",
    "            else:\n",
    "                pass\n",
    "        JD_siteList_gaode.append(JD_siteDict_gaode)\n",
    "    #     time.sleep(1)\n",
    "    end_time = time.time()\n",
    "    print(\"总用时：\",end_time-start_time)\n",
    "    return JD_siteList_gaode"
   ]
  },
  {
   "cell_type": "code",
   "execution_count": null,
   "metadata": {},
   "outputs": [],
   "source": [
    "# df化\n",
    "df_JD_siteInfo = pd.DataFrame(get_JD_siteInfo(urls))"
   ]
  },
  {
   "cell_type": "code",
   "execution_count": null,
   "metadata": {
    "scrolled": true
   },
   "outputs": [],
   "source": [
    "# 去除空白地址所在行\n",
    "print(df_JD_siteInfo['JD_siteAddress'].isnull().value_counts())\n",
    "df_JD_siteInfo = df_JD_siteInfo.dropna(subset=[\"JD_siteAddress\"])\n",
    "print(df_JD_siteInfo['JD_siteAddress'].isnull().value_counts())"
   ]
  },
  {
   "cell_type": "code",
   "execution_count": null,
   "metadata": {},
   "outputs": [],
   "source": [
    "print(df_JD_siteInfo.columns)\n",
    "print(\"*\"*30)\n",
    "print(data_city.columns)"
   ]
  },
  {
   "cell_type": "code",
   "execution_count": null,
   "metadata": {},
   "outputs": [],
   "source": [
    "df[\"JD_siteAddress_all\"] = province + df['cityname'] + df['JD_siteAddress']"
   ]
  },
  {
   "cell_type": "code",
   "execution_count": null,
   "metadata": {},
   "outputs": [],
   "source": [
    "print(\"验证完整地址：\")\n",
    "print(df[\"siteAddress_all\"][0:3])"
   ]
  },
  {
   "cell_type": "code",
   "execution_count": null,
   "metadata": {},
   "outputs": [],
   "source": [
    "# df化\n",
    "df_JD_siteList_gaode = pd.DataFrame(get_JD_siteInfo(urls))"
   ]
  },
  {
   "cell_type": "code",
   "execution_count": null,
   "metadata": {},
   "outputs": [],
   "source": [
    "# 合并并清洗\n",
    "df_JD_siteInfo_gaode = pd.concat([df_JD_siteList_gaode,df_JD_siteInfo],axis=1)\n",
    "df_JD_siteInfo_gaode = df_JD_siteInfo_gaode.drop(columns=['JD_siteLongitude','JD_siteLatitude'])\n",
    "split_gaode = pd.DataFrame((x.split(',') for x in df_JD_siteInfo_gaode['JD_siteLocation_gaode']), index=df_JD_siteInfo_gaode.index, columns=['JD_siteLng_gaode','JD_siteLat_gaode'])\n",
    "df_JD_siteInfo_gaode = pd.merge(df_JD_siteInfo_gaode,split_gaode,left_index=True,right_index=True)"
   ]
  },
  {
   "cell_type": "code",
   "execution_count": null,
   "metadata": {},
   "outputs": [],
   "source": [
    "# 最后检查\n",
    "print(\"JD官网网点信息：\" + str(df_JD_siteInfo.shape))\n",
    "print(df.shape)\n",
    "print(df_A.shape)\n",
    "print(df_all.shape)\n",
    "print(df_allA.shape)"
   ]
  },
  {
   "cell_type": "code",
   "execution_count": null,
   "metadata": {},
   "outputs": [],
   "source": []
  },
  {
   "cell_type": "code",
   "execution_count": null,
   "metadata": {},
   "outputs": [],
   "source": []
  },
  {
   "cell_type": "code",
   "execution_count": null,
   "metadata": {},
   "outputs": [],
   "source": []
  },
  {
   "cell_type": "code",
   "execution_count": null,
   "metadata": {},
   "outputs": [],
   "source": []
  },
  {
   "cell_type": "code",
   "execution_count": null,
   "metadata": {},
   "outputs": [],
   "source": []
  },
  {
   "cell_type": "code",
   "execution_count": null,
   "metadata": {},
   "outputs": [],
   "source": []
  }
 ],
 "metadata": {
  "kernelspec": {
   "display_name": "Python 3",
   "language": "python",
   "name": "python3"
  },
  "language_info": {
   "codemirror_mode": {
    "name": "ipython",
    "version": 3
   },
   "file_extension": ".py",
   "mimetype": "text/x-python",
   "name": "python",
   "nbconvert_exporter": "python",
   "pygments_lexer": "ipython3",
   "version": "3.5.2"
  }
 },
 "nbformat": 4,
 "nbformat_minor": 2
}
