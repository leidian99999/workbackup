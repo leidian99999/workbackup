{
 "cells": [
  {
   "cell_type": "code",
   "execution_count": 1,
   "metadata": {},
   "outputs": [],
   "source": [
    "import pandas as pd\n",
    "import requests\n",
    "from bs4 import BeautifulSoup\n",
    "import json\n",
    "import os\n",
    "from urllib.request import urlopen, quote,URLError, HTTPError\n",
    "import time"
   ]
  },
  {
   "cell_type": "code",
   "execution_count": 2,
   "metadata": {},
   "outputs": [],
   "source": [
    "# 解析高德地图API网址信息\n",
    "def get_latlng_gaode(address,ak):\n",
    "    ak= ak\n",
    "    url=\"http://restapi.amap.com/v3/geocode/geo?key=%s&address=%s\"%(ak,address)\n",
    "    data=requests.get(url)\n",
    "    contest=data.json()\n",
    "    return contest"
   ]
  },
  {
   "cell_type": "code",
   "execution_count": 3,
   "metadata": {},
   "outputs": [],
   "source": [
    "# 获取高德地图API地址信息\n",
    "def get_receiver_lnglat_gaode(address):\n",
    "    start_time = time.time()\n",
    "    re_List_gaode = []\n",
    "    for b in address:\n",
    "#         print(b)\n",
    "        re_Dict_gaode = {}\n",
    "        try:\n",
    "            temp=get_latlng_gaode(b,ak_gaode)\n",
    "        except requests.exceptions.ConnectionError: # HTTPError\n",
    "            re_Dict_gaode[\"re_location_gaode\"] = \"请求出错\"\n",
    "            \n",
    "        else:\n",
    "            if ('geocodes' in temp):\n",
    "                re_Dict_gaode[\"re_location_gaode\"] = temp['geocodes'][0]['location']\n",
    "                re_Dict_gaode[\"re_formatted_address_gaode\"] = temp['geocodes'][0]['formatted_address']\n",
    "                re_Dict_gaode[\"re_province_gaode\"] = temp['geocodes'][0]['province']\n",
    "                re_Dict_gaode[\"re_country_gaode\"] = temp['geocodes'][0]['country']\n",
    "                if ('citycode' in temp):\n",
    "                    re_Dict_gaode[\"re_citycode_gaode\"] = temp['geocodes'][0]['citycode']\n",
    "                else:\n",
    "                    pass\n",
    "                re_Dict_gaode[\"re_city_gaode\"] = temp['geocodes'][0]['city']\n",
    "                re_Dict_gaode[\"re_district_gaode\"] = temp['geocodes'][0]['district']\n",
    "                re_Dict_gaode[\"re_level_gaode\"] = temp['geocodes'][0]['level']\n",
    "                re_Dict_gaode[\"re_township_gaode\"] = temp['geocodes'][0]['township']\n",
    "                re_Dict_gaode[\"re_adcode_gaode\"] = temp['geocodes'][0]['adcode']\n",
    "                re_Dict_gaode[\"re_street_gaode\"] = temp['geocodes'][0]['street']\n",
    "                re_Dict_gaode[\"re_number_gaode\"] = temp['geocodes'][0]['number']\n",
    "            else:\n",
    "                pass\n",
    "        re_List_gaode.append(re_Dict_gaode)\n",
    "    #     time.sleep(1)\n",
    "    end_time = time.time()\n",
    "    print(\"高德总用时：\",end_time-start_time)\n",
    "    return re_List_gaode"
   ]
  },
  {
   "cell_type": "code",
   "execution_count": 4,
   "metadata": {},
   "outputs": [],
   "source": [
    "# 解析百度地图API网址信息\n",
    "def get_latlng_baidu(address,ak):\n",
    "    url = 'http://api.map.baidu.com/geocoder/v2/'\n",
    "    output = 'json'#输出数据的格式\n",
    "    ak = ak\n",
    "    add = quote(address) #由于本文地址变量为中文，为防止乱码，先用quote进行编码\n",
    "    uri = url + '?' + 'address=' + add  + '&output=' + output + '&ak=' + ak\n",
    "    req = urlopen(uri)\n",
    "    res = req.read().decode()\n",
    "    temp = json.loads(res)\n",
    "    return temp"
   ]
  },
  {
   "cell_type": "code",
   "execution_count": 5,
   "metadata": {},
   "outputs": [],
   "source": [
    "# 获取百度地图API地址信息\n",
    "def get_receiver_lnglat_baidu(address):\n",
    "    start_time = time.time()\n",
    "    re_List_baidu = []\n",
    "    for b in address:\n",
    "#         print(b)\n",
    "        re_Dict_baidu = {}\n",
    "        try:\n",
    "            temp = get_latlng_baidu(b,ak_baidu)\n",
    "        except HTTPError as e:\n",
    "            print(\"请求出错\")\n",
    "            pass\n",
    "        else:\n",
    "            if ('result' in temp):\n",
    "                re_Dict_baidu[\"re_Lng_baidu\"] = temp['result']['location']['lng']\n",
    "                re_Dict_baidu[\"re_Lat_baidu\"] = temp['result']['location']['lat']\n",
    "                re_Dict_baidu[\"re_Precise_baidu\"] = temp['result']['precise']\n",
    "                re_Dict_baidu[\"re_Confidence_baidu\"] = temp['result']['confidence']\n",
    "                re_Dict_baidu[\"re_Comprehension_baidu\"] = temp['result']['comprehension']\n",
    "                re_Dict_baidu[\"re_Level_baidu\"] = temp['result']['level']\n",
    "            else:\n",
    "                pass\n",
    "        re_List_baidu.append(re_Dict_baidu)\n",
    "    #     time.sleep(1)\n",
    "    end_time = time.time()\n",
    "    print(\"百度总用时：\", end_time - start_time)\n",
    "    return re_List_baidu"
   ]
  },
  {
   "cell_type": "code",
   "execution_count": 6,
   "metadata": {},
   "outputs": [],
   "source": [
    "# ak码\n",
    "ak_gaode = 'c71d9eda293d20db64955275557d92d4'\n",
    "ak_baidu = 'z3KEtliyTGvj0bFudEkz4GO0GN8eQQa5'"
   ]
  },
  {
   "cell_type": "code",
   "execution_count": 7,
   "metadata": {},
   "outputs": [],
   "source": [
    "# 导入数据\n",
    "dirDate = \"FEB19\"\n",
    "date = \"1902\"\n",
    "provinceName = \"浙江(所在省).xlsx\"\n",
    "pinyin = \"zhejiang\"\n",
    "inputpath = \"G:\\\\work\\\\basic\\\\province\\\\\" + dirDate + \"\\\\\"\n",
    "data = pd.read_excel(inputpath + provinceName)"
   ]
  },
  {
   "cell_type": "code",
   "execution_count": 8,
   "metadata": {
    "scrolled": true
   },
   "outputs": [],
   "source": [
    "# 导出数据路径\n",
    "outpath_gaode = \"G:\\\\work\\\\basic\\\\province\\\\GAODE\\\\\"\n",
    "name_ANSI_gaode = date + \"Info_lnglat_\" + pinyin + \"_gaode.xlsx\"\n",
    "name_UTF8_gaode = date + \"Info_lnglat_\" + pinyin + \"_gaode.csv\"\n",
    "outpath_baidu = \"G:\\\\work\\\\basic\\\\province\\\\BAIDU\\\\\"\n",
    "name_ANSI_baidu = date + \"Info_lnglat_\" + pinyin + \"_baidu.xlsx\"\n",
    "name_UTF8_baidu = date + \"Info_lnglat_\" + pinyin + \"_baidu.csv\"\n"
   ]
  },
  {
   "cell_type": "code",
   "execution_count": 9,
   "metadata": {
    "scrolled": true
   },
   "outputs": [
    {
     "data": {
      "text/plain": [
       "京东线下    9755\n",
       "EMS     2215\n",
       "京东物流     783\n",
       "韵达       648\n",
       "Name: 承运商, dtype: int64"
      ]
     },
     "execution_count": 9,
     "metadata": {},
     "output_type": "execute_result"
    }
   ],
   "source": [
    "data[\"承运商\"].value_counts()"
   ]
  },
  {
   "cell_type": "markdown",
   "metadata": {},
   "source": [
    "### 选取有效字段"
   ]
  },
  {
   "cell_type": "code",
   "execution_count": null,
   "metadata": {},
   "outputs": [],
   "source": [
    "df = data[[\"所在省\",\"所在市\",\"收货地址\",\"订单编号\",\"承运商\"]]"
   ]
  },
  {
   "cell_type": "code",
   "execution_count": null,
   "metadata": {
    "scrolled": true
   },
   "outputs": [],
   "source": [
    "df[\"address_all\"]= df[\"所在省\"] +\"省\"+ df[\"所在市\"] + df[\"收货地址\"]"
   ]
  },
  {
   "cell_type": "markdown",
   "metadata": {},
   "source": [
    "### 文件分组并检查"
   ]
  },
  {
   "cell_type": "code",
   "execution_count": null,
   "metadata": {},
   "outputs": [],
   "source": [
    "print(\"data:\" + str(data.shape))\n",
    "print(\"df:\" + str(df.shape))"
   ]
  },
  {
   "cell_type": "code",
   "execution_count": null,
   "metadata": {},
   "outputs": [],
   "source": [
    "df_EMS = df[df[\"承运商\"] == \"EMS\"].reset_index(drop=True)\n",
    "df_JDWL = df[df[\"承运商\"] == \"京东物流\"].reset_index(drop=True)\n",
    "df_YD = df[df[\"承运商\"] == \"韵达\"].reset_index(drop=True)\n",
    "df_JDXX = df[df[\"承运商\"] == \"京东线下\"].reset_index(drop=True)"
   ]
  },
  {
   "cell_type": "code",
   "execution_count": null,
   "metadata": {},
   "outputs": [],
   "source": [
    "print(\"df_EMS:\" + str(df_EMS.shape))\n",
    "print(\"df_JDWL:\" + str(df_JDWL.shape))\n",
    "print(\"df_YD:\" + str(df_YD.shape))\n",
    "print(\"df_JDXX:\" + str(df_JDXX.shape))"
   ]
  },
  {
   "cell_type": "code",
   "execution_count": null,
   "metadata": {},
   "outputs": [],
   "source": [
    "list_JDXX_gaode = get_receiver_lnglat_gaode(df_JDXX[\"address_all\"])\n",
    "\n",
    "list_JDWL_gaode = get_receiver_lnglat_gaode(df_JDWL[\"address_all\"])\n",
    "\n",
    "list_EMS_gaode = get_receiver_lnglat_gaode(df_EMS[\"address_all\"])\n",
    "\n",
    "list_YD_gaode = get_receiver_lnglat_gaode(df_YD[\"address_all\"])"
   ]
  },
  {
   "cell_type": "code",
   "execution_count": null,
   "metadata": {},
   "outputs": [],
   "source": [
    "# df化(高德)\n",
    "df_EMS_gaode = pd.DataFrame(list_EMS_gaode)\n",
    "df_JDXX_gaode = pd.DataFrame(list_JDXX_gaode)\n",
    "df_JDWL_gaode = pd.DataFrame(list_JDWL_gaode)\n",
    "df_YD_gaode = pd.DataFrame(list_YD_gaode)\n",
    "\n",
    "data_JDWL_gaode = pd.concat([df_JDWL,df_JDWL_gaode],axis=1)\n",
    "data_JDXX_gaode = pd.concat([df_JDXX,df_JDXX_gaode],axis=1)\n",
    "data_EMS_gaode = pd.concat([df_EMS,df_EMS_gaode],axis=1)\n",
    "data_YD_gaode = pd.concat([df_YD,df_YD_gaode],axis=1)"
   ]
  },
  {
   "cell_type": "code",
   "execution_count": null,
   "metadata": {},
   "outputs": [],
   "source": [
    "list_JDXX_baidu = get_receiver_lnglat_baidu(df_JDXX[\"address_all\"])\n",
    "\n",
    "list_JDWL_baidu = get_receiver_lnglat_baidu(df_JDWL[\"address_all\"])\n",
    "\n",
    "list_EMS_baidu = get_receiver_lnglat_baidu(df_EMS[\"address_all\"])\n",
    "\n",
    "list_YD_baidu = get_receiver_lnglat_baidu(df_YD[\"address_all\"])"
   ]
  },
  {
   "cell_type": "code",
   "execution_count": null,
   "metadata": {},
   "outputs": [],
   "source": [
    "# df化(百度)\n",
    "df_EMS_baidu = pd.DataFrame(list_EMS_baidu)\n",
    "df_JDXX_baidu = pd.DataFrame(list_JDXX_baidu)\n",
    "df_JDWL_baidu = pd.DataFrame(list_JDWL_baidu)\n",
    "df_YD_baidu = pd.DataFrame(list_YD_baidu)\n",
    "\n",
    "data_JDWL_baidu = pd.concat([df_JDWL,df_JDWL_baidu],axis=1)\n",
    "data_JDXX_baidu = pd.concat([df_JDXX,df_JDXX_baidu],axis=1)\n",
    "data_EMS_baidu = pd.concat([df_EMS,df_EMS_baidu],axis=1)\n",
    "data_YD_baidu = pd.concat([df_YD,df_YD_baidu],axis=1)"
   ]
  },
  {
   "cell_type": "code",
   "execution_count": null,
   "metadata": {},
   "outputs": [],
   "source": [
    "# 检查各df\n",
    "print(\"data_JDWL_gaode:\" + str(data_JDWL_gaode.shape))\n",
    "print(\"data_JDXX_gaode:\" + str(data_JDXX_gaode.shape))\n",
    "print(\"data_YD_gaode:\" + str(data_YD_gaode.shape))\n",
    "print(\"data_EMS_gaode:\" + str(data_EMS_gaode.shape))\n",
    "print(\"*\"*50)\n",
    "print(\"data_JDWL_baidu:\" + str(data_JDWL_baidu.shape))\n",
    "print(\"data_JDXX_baidu:\" + str(data_JDXX_baidu.shape))\n",
    "print(\"data_YD_baidu:\" + str(data_YD_baidu.shape))\n",
    "print(\"data_EMS_baidu:\" + str(data_EMS_baidu.shape))"
   ]
  },
  {
   "cell_type": "code",
   "execution_count": null,
   "metadata": {},
   "outputs": [],
   "source": [
    "# 合表\n",
    "data_gaode_all = pd.concat([data_JDWL_gaode,data_JDXX_gaode,data_EMS_gaode,data_YD_gaode],axis=0)\n",
    "split_gaode = pd.DataFrame((x.split(',') for x in data_gaode_all['re_location_gaode']), index=data_gaode_all.index, columns=['re_siteLng_gaode','re_siteLat_gaode'])\n",
    "data_gaode_all = pd.merge(data_gaode_all,split_gaode,left_index=True,right_index=True)\n",
    "\n",
    "data_baidu_all = pd.concat([data_JDWL_baidu,data_JDXX_baidu,data_EMS_baidu,data_YD_baidu],axis=0)"
   ]
  },
  {
   "cell_type": "code",
   "execution_count": null,
   "metadata": {},
   "outputs": [],
   "source": [
    "# 检查合并后结构\n",
    "print(\"data:\" + str(data.shape))\n",
    "print(\"df:\" + str(df.shape))\n",
    "print(\"data_gaode_all:\" + str(data_gaode_all.shape))\n",
    "print(\"data_baidu_all:\" + str(data_baidu_all.shape))"
   ]
  },
  {
   "cell_type": "code",
   "execution_count": null,
   "metadata": {},
   "outputs": [],
   "source": [
    "# 输出\n",
    "# data_gaode_all.to_excel(outpath_gaode + name_ANSI_gaode,index=False)\n",
    "# data_baidu_all.to_excel(outpath_baidu + name_ANSI_baidu,index=False)"
   ]
  },
  {
   "cell_type": "code",
   "execution_count": null,
   "metadata": {},
   "outputs": [],
   "source": [
    "#  "
   ]
  },
  {
   "cell_type": "code",
   "execution_count": null,
   "metadata": {},
   "outputs": [],
   "source": []
  },
  {
   "cell_type": "code",
   "execution_count": null,
   "metadata": {},
   "outputs": [],
   "source": []
  },
  {
   "cell_type": "code",
   "execution_count": null,
   "metadata": {},
   "outputs": [],
   "source": []
  },
  {
   "cell_type": "code",
   "execution_count": null,
   "metadata": {},
   "outputs": [],
   "source": []
  },
  {
   "cell_type": "code",
   "execution_count": null,
   "metadata": {},
   "outputs": [],
   "source": []
  },
  {
   "cell_type": "code",
   "execution_count": null,
   "metadata": {},
   "outputs": [],
   "source": []
  },
  {
   "cell_type": "code",
   "execution_count": null,
   "metadata": {},
   "outputs": [],
   "source": []
  },
  {
   "cell_type": "code",
   "execution_count": null,
   "metadata": {},
   "outputs": [],
   "source": []
  },
  {
   "cell_type": "code",
   "execution_count": null,
   "metadata": {},
   "outputs": [],
   "source": []
  },
  {
   "cell_type": "code",
   "execution_count": null,
   "metadata": {},
   "outputs": [],
   "source": []
  },
  {
   "cell_type": "code",
   "execution_count": null,
   "metadata": {},
   "outputs": [],
   "source": []
  },
  {
   "cell_type": "code",
   "execution_count": null,
   "metadata": {},
   "outputs": [],
   "source": []
  },
  {
   "cell_type": "code",
   "execution_count": null,
   "metadata": {},
   "outputs": [],
   "source": []
  },
  {
   "cell_type": "code",
   "execution_count": null,
   "metadata": {},
   "outputs": [],
   "source": []
  },
  {
   "cell_type": "code",
   "execution_count": null,
   "metadata": {},
   "outputs": [],
   "source": []
  },
  {
   "cell_type": "code",
   "execution_count": null,
   "metadata": {},
   "outputs": [],
   "source": []
  },
  {
   "cell_type": "code",
   "execution_count": null,
   "metadata": {},
   "outputs": [],
   "source": []
  },
  {
   "cell_type": "code",
   "execution_count": null,
   "metadata": {},
   "outputs": [],
   "source": []
  },
  {
   "cell_type": "code",
   "execution_count": null,
   "metadata": {},
   "outputs": [],
   "source": []
  },
  {
   "cell_type": "code",
   "execution_count": null,
   "metadata": {},
   "outputs": [],
   "source": []
  },
  {
   "cell_type": "code",
   "execution_count": null,
   "metadata": {},
   "outputs": [],
   "source": []
  },
  {
   "cell_type": "code",
   "execution_count": null,
   "metadata": {},
   "outputs": [],
   "source": []
  },
  {
   "cell_type": "code",
   "execution_count": null,
   "metadata": {},
   "outputs": [],
   "source": []
  },
  {
   "cell_type": "code",
   "execution_count": null,
   "metadata": {},
   "outputs": [],
   "source": []
  },
  {
   "cell_type": "code",
   "execution_count": null,
   "metadata": {},
   "outputs": [],
   "source": []
  },
  {
   "cell_type": "code",
   "execution_count": null,
   "metadata": {},
   "outputs": [],
   "source": []
  },
  {
   "cell_type": "code",
   "execution_count": null,
   "metadata": {},
   "outputs": [],
   "source": []
  },
  {
   "cell_type": "code",
   "execution_count": null,
   "metadata": {},
   "outputs": [],
   "source": []
  },
  {
   "cell_type": "code",
   "execution_count": null,
   "metadata": {},
   "outputs": [],
   "source": []
  },
  {
   "cell_type": "code",
   "execution_count": null,
   "metadata": {},
   "outputs": [],
   "source": []
  },
  {
   "cell_type": "code",
   "execution_count": null,
   "metadata": {},
   "outputs": [],
   "source": []
  },
  {
   "cell_type": "code",
   "execution_count": null,
   "metadata": {},
   "outputs": [],
   "source": [
    "# 导出数据\n",
    "outpath = \"D:\\\\work\\\\basic\\\\province\\\\\"\n",
    "name_ANSI = \"1812_info_alter_lnglat1.xlsx\"\n",
    "# name_UTF8 = \"1812_info_alter_lnglat.csv\""
   ]
  },
  {
   "cell_type": "code",
   "execution_count": null,
   "metadata": {},
   "outputs": [],
   "source": [
    "print(\"验证完整收货地址：\")\n",
    "print(add[0:3])\n",
    "print(\"&%\"*50)"
   ]
  },
  {
   "cell_type": "code",
   "execution_count": null,
   "metadata": {},
   "outputs": [],
   "source": []
  }
 ],
 "metadata": {
  "kernelspec": {
   "display_name": "Python 3",
   "language": "python",
   "name": "python3"
  },
  "language_info": {
   "codemirror_mode": {
    "name": "ipython",
    "version": 3
   },
   "file_extension": ".py",
   "mimetype": "text/x-python",
   "name": "python",
   "nbconvert_exporter": "python",
   "pygments_lexer": "ipython3",
   "version": "3.5.2"
  }
 },
 "nbformat": 4,
 "nbformat_minor": 2
}
