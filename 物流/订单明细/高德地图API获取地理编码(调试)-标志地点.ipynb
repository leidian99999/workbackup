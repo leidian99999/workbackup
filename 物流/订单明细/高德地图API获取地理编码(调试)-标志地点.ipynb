{
 "cells": [
  {
   "cell_type": "code",
   "execution_count": 1,
   "metadata": {},
   "outputs": [],
   "source": [
    "import pandas as pd\n",
    "import json\n",
    "from urllib.request import urlopen, quote,URLError, HTTPError\n",
    "import requests\n",
    "import time"
   ]
  },
  {
   "cell_type": "code",
   "execution_count": 2,
   "metadata": {},
   "outputs": [],
   "source": [
    "data = pd.read_excel(r\"G:\\work\\logistica\\stations\\JDStations\\yuanURL\\浙江\\标志地点.xlsx\")"
   ]
  },
  {
   "cell_type": "code",
   "execution_count": 3,
   "metadata": {},
   "outputs": [
    {
     "data": {
      "text/plain": [
       "Index(['标志地点', '地址'], dtype='object')"
      ]
     },
     "execution_count": 3,
     "metadata": {},
     "output_type": "execute_result"
    }
   ],
   "source": [
    "data.columns"
   ]
  },
  {
   "cell_type": "code",
   "execution_count": 4,
   "metadata": {},
   "outputs": [],
   "source": [
    "df = data.copy()"
   ]
  },
  {
   "cell_type": "code",
   "execution_count": 5,
   "metadata": {},
   "outputs": [],
   "source": [
    "add = df['地址']"
   ]
  },
  {
   "cell_type": "code",
   "execution_count": 6,
   "metadata": {},
   "outputs": [],
   "source": [
    "def getlatlng_Gaode2(address):\n",
    "    ak='1c2682317206ccaa18ec2487bb45d880'\n",
    "    url=\"http://restapi.amap.com/v3/geocode/geo?key=%s&address=%s\"%(ak,address)\n",
    "    data=requests.get(url)\n",
    "    contest=data.json()\n",
    "#     contest=contest['geocodes'][0]['location']\n",
    "    return contest\n"
   ]
  },
  {
   "cell_type": "code",
   "execution_count": 7,
   "metadata": {},
   "outputs": [
    {
     "name": "stdout",
     "output_type": "stream",
     "text": [
      "浙江省杭州市江干区五福路172号东北80米\n",
      "富春路290号鑫亚·钱江国际时代广场\n",
      "杭州市江干区城星路185号\n",
      "浙江省杭州市江干区聚丰弄明珠国际商务中心\n",
      "江干区钱江新城新业路8号\n",
      "浙江省杭州市江干区新塘路19号\n",
      "浙江省杭州市拱墅区大关路179号\n",
      "浙江省杭州市西湖区万塘路18号黄龙时代广场\n",
      "杭州市西湖区教工路18号\n",
      "杭州市西湖区文二路391号\n",
      "浙江省杭州市西湖区天目山路278号\n",
      "杭州市西湖区文二路391号\n",
      "浙江省绍兴市诸暨市店口镇\n",
      "浙江省绍兴市诸暨市次坞镇\n",
      "浙江省绍兴市诸暨市山下湖镇\n",
      "浙江省绍兴市柯桥区\n",
      "浙江省绍兴市柯桥区钱清镇\n",
      "浙江省绍兴市越城区袍江工业区绍兴市马山镇\n",
      "杭州市余杭区超丁村17组\n",
      "浙江省绍兴市上虞区谢塘镇\n",
      "浙江省绍兴市上虞区沥海镇\n",
      "浙江省绍兴市诸暨市学勉路\n",
      "浙江省绍兴市柯桥区漓渚镇\n",
      "浙江省绍兴市柯桥区安华北路\n",
      "浙江省绍兴市嵊州市仙岩镇\n",
      "浙江省绍兴市嵊州市谷来镇\n",
      "浙江省绍兴市上虞区下管镇\n",
      "温州市乐清市清远路338号\n",
      "温州市瑞安市万松路108号\n",
      "温州市龙湾区滨海六路2526号\n",
      "浙江省温州市鹿城区划龙桥路306号\n",
      "温州市黄龙住宅区盛锦路1号\n",
      "温州市鹿城区康乐坊嘉福寺巷15号\n",
      "温州市乐清市纬十七路\n",
      "温州市瑞安市塘下镇北街127号\n",
      "瑞安市塘下人民医院\n",
      "温州市鹿城区葡萄棚路39号\n",
      "浙江省温州市永嘉县桥东南大街3号\n",
      "温州市乐清市长江路877号\n",
      "浙江省温州市学院西路109号\n",
      "浙江省温州市乐清市建设东路206号\n",
      "浙江省温州市鹿城区信河街大士门27号\n",
      "总用时： 2.507143259048462\n"
     ]
    }
   ],
   "source": [
    "start_time = time.time()\n",
    "listA = []\n",
    "for b in df['地址']:\n",
    "    print(b)\n",
    "    dictA = {}\n",
    "    try:\n",
    "        temp=getlatlng_Gaode2(b)\n",
    "    except HTTPError as e:\n",
    "        print(\"请求出错\")\n",
    "        pass\n",
    "    else:    \n",
    "        if ('geocodes' in temp):\n",
    "            dictA[\"LM_location_gaode\"] = temp['geocodes'][0]['location']\n",
    "            dictA[\"LM_formatted_address_gaode\"] = temp['geocodes'][0]['formatted_address']\n",
    "            dictA[\"LM_province_gaode\"] = temp['geocodes'][0]['province']\n",
    "            dictA[\"LM_country_gaode\"] = temp['geocodes'][0]['country']\n",
    "            if ('citycode' in temp):\n",
    "                dictA[\"LM_citycode_gaode\"] = temp['geocodes'][0]['citycode']\n",
    "            else:\n",
    "                pass\n",
    "            dictA[\"LM_city_gaode\"] = temp['geocodes'][0]['city']\n",
    "            dictA[\"LM_district_gaode\"] = temp['geocodes'][0]['district']\n",
    "            dictA[\"LM_level_gaode\"] = temp['geocodes'][0]['level']\n",
    "            dictA[\"LM_township_gaode\"] = temp['geocodes'][0]['township']\n",
    "            dictA[\"LM_adcode_gaode\"] = temp['geocodes'][0]['adcode']\n",
    "            dictA[\"LM_street_gaode\"] = temp['geocodes'][0]['street']\n",
    "            dictA[\"LM_number_gaode\"] = temp['geocodes'][0]['number']\n",
    "        else:\n",
    "            pass\n",
    "    listA.append(dictA)\n",
    "#     time.sleep(1)\n",
    "end_time = time.time()\n",
    "print(\"总用时：\",end_time-start_time)"
   ]
  },
  {
   "cell_type": "code",
   "execution_count": 8,
   "metadata": {
    "collapsed": true
   },
   "outputs": [
    {
     "data": {
      "text/plain": [
       "[{'LM_location_gaode': '120.143499,30.325513',\n",
       "  'LM_formatted_address_gaode': '浙江省杭州市江干区顺福路|172',\n",
       "  'LM_province_gaode': '浙江省',\n",
       "  'LM_country_gaode': '中国',\n",
       "  'LM_city_gaode': '杭州市',\n",
       "  'LM_district_gaode': '江干区',\n",
       "  'LM_level_gaode': '门牌号',\n",
       "  'LM_township_gaode': [],\n",
       "  'LM_adcode_gaode': '330104',\n",
       "  'LM_street_gaode': '顺福路',\n",
       "  'LM_number_gaode': '172'},\n",
       " {'LM_location_gaode': '117.298706,34.194702',\n",
       "  'LM_formatted_address_gaode': '江苏省徐州市云龙区富春路1号',\n",
       "  'LM_province_gaode': '江苏省',\n",
       "  'LM_country_gaode': '中国',\n",
       "  'LM_city_gaode': '徐州市',\n",
       "  'LM_district_gaode': '云龙区',\n",
       "  'LM_level_gaode': '门牌号',\n",
       "  'LM_township_gaode': [],\n",
       "  'LM_adcode_gaode': '320303',\n",
       "  'LM_street_gaode': '富春路',\n",
       "  'LM_number_gaode': []},\n",
       " {'LM_location_gaode': '120.211274,30.236942',\n",
       "  'LM_formatted_address_gaode': '浙江省杭州市江干区城星路|185号',\n",
       "  'LM_province_gaode': '浙江省',\n",
       "  'LM_country_gaode': '中国',\n",
       "  'LM_city_gaode': '杭州市',\n",
       "  'LM_district_gaode': '江干区',\n",
       "  'LM_level_gaode': '门牌号',\n",
       "  'LM_township_gaode': [],\n",
       "  'LM_adcode_gaode': '330104',\n",
       "  'LM_street_gaode': '城星路',\n",
       "  'LM_number_gaode': '185号'}]"
      ]
     },
     "execution_count": 8,
     "metadata": {},
     "output_type": "execute_result"
    }
   ],
   "source": [
    "listA[0:3]"
   ]
  },
  {
   "cell_type": "code",
   "execution_count": 9,
   "metadata": {},
   "outputs": [],
   "source": [
    "df_A = pd.DataFrame(listA)"
   ]
  },
  {
   "cell_type": "code",
   "execution_count": 10,
   "metadata": {},
   "outputs": [],
   "source": [
    "df_all = pd.concat([df,df_A],axis=1)"
   ]
  },
  {
   "cell_type": "code",
   "execution_count": 12,
   "metadata": {},
   "outputs": [
    {
     "data": {
      "text/plain": [
       "Index(['标志地点', '地址', 'LM_adcode_gaode', 'LM_city_gaode', 'LM_country_gaode',\n",
       "       'LM_district_gaode', 'LM_formatted_address_gaode', 'LM_level_gaode',\n",
       "       'LM_location_gaode', 'LM_number_gaode', 'LM_province_gaode',\n",
       "       'LM_street_gaode', 'LM_township_gaode'],\n",
       "      dtype='object')"
      ]
     },
     "execution_count": 12,
     "metadata": {},
     "output_type": "execute_result"
    }
   ],
   "source": [
    "df_all.columns"
   ]
  },
  {
   "cell_type": "code",
   "execution_count": 13,
   "metadata": {},
   "outputs": [],
   "source": [
    "split = pd.DataFrame((x.split(',') for x in df_all['LM_location_gaode']), index=df_all.index, columns=['LM_Lng_gaode','LM_Lat_gaode'])\n",
    "df_allA = pd.merge(df_all,split,left_index=True,right_index=True)"
   ]
  },
  {
   "cell_type": "code",
   "execution_count": 14,
   "metadata": {},
   "outputs": [],
   "source": [
    "outpath = r\"G:\\work\\logistica\\stations\\JDStations\\yuanURL\\标志地点\\\\\"\n",
    "name_UTF8 = \"JD_landmark_lnglat_gaode.csv\"\n",
    "name_ANSI = \"JD_landmark_lnglat_gaode.xlsx\""
   ]
  },
  {
   "cell_type": "code",
   "execution_count": 15,
   "metadata": {},
   "outputs": [],
   "source": [
    "df_allA.to_excel(outpath + name_ANSI, index=False)\n",
    "df_allA.to_csv(outpath + name_UTF8, index=False)"
   ]
  },
  {
   "cell_type": "code",
   "execution_count": null,
   "metadata": {},
   "outputs": [],
   "source": []
  }
 ],
 "metadata": {
  "kernelspec": {
   "display_name": "Python 3",
   "language": "python",
   "name": "python3"
  },
  "language_info": {
   "codemirror_mode": {
    "name": "ipython",
    "version": 3
   },
   "file_extension": ".py",
   "mimetype": "text/x-python",
   "name": "python",
   "nbconvert_exporter": "python",
   "pygments_lexer": "ipython3",
   "version": "3.6.6"
  }
 },
 "nbformat": 4,
 "nbformat_minor": 2
}
