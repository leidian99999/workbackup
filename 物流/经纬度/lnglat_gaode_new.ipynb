{
 "cells": [
  {
   "cell_type": "code",
   "execution_count": 1,
   "metadata": {},
   "outputs": [
    {
     "data": {
      "text/plain": [
       "0.026871"
      ]
     },
     "execution_count": 1,
     "metadata": {},
     "output_type": "execute_result"
    }
   ],
   "source": [
    "import pandas as pd\n",
    "import requests\n",
    "from bs4 import BeautifulSoup\n",
    "import json\n",
    "import os\n",
    "from urllib.request import urlopen, quote,URLError, HTTPError\n",
    "import time"
   ]
  },
  {
   "cell_type": "code",
   "execution_count": null,
   "metadata": {},
   "outputs": [],
   "source": [
    "# 解析高德地图API网址信息\n",
    "def get_latlng_gaode(address,ak):\n",
    "    ak= ak\n",
    "    url=\"http://restapi.amap.com/v3/geocode/geo?key=%s&address=%s\"%(ak,address)\n",
    "    data=requests.get(url)\n",
    "    contest=data.json()\n",
    "    return contest"
   ]
  },
  {
   "cell_type": "code",
   "execution_count": null,
   "metadata": {},
   "outputs": [],
   "source": [
    "# 获取高德地图API地址信息\n",
    "def get_receiver_lnglat_gaode(address):\n",
    "    start_time = time.time()\n",
    "    re_List_gaode = []\n",
    "    for b in address:\n",
    "        print(b)\n",
    "        re_Dict_gaode = {}\n",
    "        try:\n",
    "            temp=get_latlng_gaode(b,ak_gaode)\n",
    "        except requests.exceptions.ConnectionError: # HTTPError\n",
    "            re_Dict_gaode[\"re_location_gaode\"] = \"0,0\"         \n",
    "        else:\n",
    "            if (temp['status'] == \"0\"):\n",
    "                print('status=0')\n",
    "                pass\n",
    "            else:\n",
    "                if (temp['status'] == \"1\"):\n",
    "                    if (temp['count'] == \"1\"):\n",
    "                        if('location' in temp['geocodes'][0]):\n",
    "                            re_Dict_gaode[\"re_location_gaode\"] = temp['geocodes'][0]['location']\n",
    "                        else:\n",
    "                            pass\n",
    "                        if ('formatted_address' in temp['geocodes'][0]):\n",
    "                            re_Dict_gaode[\"re_formatted_address_gaode\"] = temp['geocodes'][0]['formatted_address']\n",
    "                        else:\n",
    "                            pass\n",
    "                        if ('province' in temp['geocodes'][0]):\n",
    "                            re_Dict_gaode[\"re_province_gaode\"] = temp['geocodes'][0]['province']\n",
    "                        else:\n",
    "                            pass\n",
    "                        if ('country' in temp['geocodes'][0]):\n",
    "                            re_Dict_gaode[\"re_country_gaode\"] = temp['geocodes'][0]['country']\n",
    "                        else:\n",
    "                            pass\n",
    "                        if ('city' in temp['geocodes'][0]):\n",
    "                            re_Dict_gaode[\"re_city_gaode\"] = temp['geocodes'][0]['city']\n",
    "                        else:\n",
    "                            pass\n",
    "                        if ('district' in temp['geocodes'][0]):\n",
    "                            re_Dict_gaode[\"re_district_gaode\"] = temp['geocodes'][0]['district']\n",
    "                        else: \n",
    "                            pass\n",
    "                        if ('level' in temp['geocodes'][0]):\n",
    "                            re_Dict_gaode[\"re_level_gaode\"] = temp['geocodes'][0]['level']\n",
    "                        else:\n",
    "                            pass\n",
    "                        if ('township' in temp['geocodes'][0]):\n",
    "                            re_Dict_gaode[\"re_township_gaode\"] = temp['geocodes'][0]['township']\n",
    "                        else:\n",
    "                            pass\n",
    "                        if ('adcode' in temp['geocodes'][0]):\n",
    "                            re_Dict_gaode[\"re_adcode_gaode\"] = temp['geocodes'][0]['adcode']\n",
    "                        else:\n",
    "                            pass\n",
    "                        if ('street' in temp['geocodes'][0]):\n",
    "                            re_Dict_gaode[\"re_street_gaode\"] = temp['geocodes'][0]['street']\n",
    "                        else:\n",
    "                            pass\n",
    "                        if ('number' in temp['geocodes'][0]):\n",
    "                            re_Dict_gaode[\"re_number_gaode\"] = temp['geocodes'][0]['number']\n",
    "                        else:\n",
    "                            pass\n",
    "                    else:\n",
    "                        if (temp['count'] == \"0\"):\n",
    "                            print(\"count=0\")\n",
    "                            pass\n",
    "                else:\n",
    "                    pass\n",
    "        re_List_gaode.append(re_Dict_gaode)\n",
    "    #     time.sleep(1)\n",
    "    end_time = time.time()\n",
    "    print(\"高德总用时：\",end_time-start_time)\n",
    "    return re_List_gaode"
   ]
  },
  {
   "cell_type": "code",
   "execution_count": null,
   "metadata": {},
   "outputs": [],
   "source": [
    "def parse_gaode(df,address):\n",
    "    # 解析高德\n",
    "    list_gaode = get_receiver_lnglat_gaode(address)\n",
    "    # df化(高德)\n",
    "    df_gaode = pd.DataFrame(list_gaode)\n",
    "    data_gaode = pd.concat([df,df_gaode],axis=1)\n",
    "    print(\"data_gaode:\" + str(data_gaode.shape))\n",
    "    return data_gaode"
   ]
  },
  {
   "cell_type": "code",
   "execution_count": null,
   "metadata": {},
   "outputs": [],
   "source": [
    "# ak码\n",
    "ak_gaode = 'c71d9eda293d20db64955275557d92d4'"
   ]
  },
  {
   "cell_type": "code",
   "execution_count": null,
   "metadata": {},
   "outputs": [],
   "source": [
    "# 导入数据\n",
    "date = \"190416\"\n",
    "fileName = date + \"info_New.xls\"\n",
    "pinyin = \"JDXX\"\n",
    "inputpath = \"/root/lnglat_gaode/\"\n",
    "data = pd.read_excel(inputpath + fileName)"
   ]
  },
  {
   "cell_type": "code",
   "execution_count": null,
   "metadata": {},
   "outputs": [],
   "source": [
    "# 导出数据路径\n",
    "outpath_gaode = \"/root/lnglat_gaode/\"\n",
    "name_UTF8_gaode = date + \"Info_lnglat_\" + pinyin + \"_gaode.csv\""
   ]
  },
  {
   "cell_type": "code",
   "execution_count": null,
   "metadata": {},
   "outputs": [],
   "source": [
    "# 选取有用字段\n",
    "df = data[['订单编号','收货人地址','所在省','所在市','所在县']]\n",
    "dict_province = {'焦作市':'河南','河南省':'河南','河北省':'河北','贵州省':'贵州','湖南省':'湖南','广东省':'广东','江苏省':'江苏','山西省':'山西',\n",
    "    '吉林省':'吉林','山东省':'山东','广西壮族自治区':'广西','湖北省':'湖北','陕西省':'陕西','浙江省':'浙江','福建省':'福建',\n",
    "    '内蒙古自治区':'内蒙古','云南省':'云南','辽宁省':'辽宁','江西省':'江西','四川省':'四川','黑龙江省':'黑龙江','安徽省':'安徽',\n",
    "    '甘肃省':'甘肃','西藏自治区':'西藏','青海省':'青海','宁夏回族自治区':'宁夏',\n",
    "    '海南省':'海南','六安市':'安徽','东莞市':'广东','新疆维吾尔自治区':'新疆'}\n",
    "df = df.replace(dict_province)"
   ]
  },
  {
   "cell_type": "code",
   "execution_count": null,
   "metadata": {},
   "outputs": [],
   "source": [
    "# 文件分组并检查\n",
    "print(\"data:\" + str(data.shape))\n",
    "print(\"df:\" + str(df.shape))"
   ]
  },
  {
   "cell_type": "code",
   "execution_count": null,
   "metadata": {},
   "outputs": [],
   "source": [
    "# 解析高德\n",
    "data_gaode = parse_gaode(df,df[\"收货人地址\"])\n",
    "data_gaode['re_location_gaode'] = data_gaode['re_location_gaode'].map(lambda x:str(x))"
   ]
  },
  {
   "cell_type": "code",
   "execution_count": null,
   "metadata": {},
   "outputs": [],
   "source": [
    "# 合表\n",
    "split_gaode = pd.DataFrame((x.split(',') for x in data_gaode['re_location_gaode']), index=data_gaode.index, columns=['re_siteLng_gaode','re_siteLat_gaode'])\n",
    "data_gaode = pd.merge(data_gaode,split_gaode,left_index=True,right_index=True)"
   ]
  },
  {
   "cell_type": "code",
   "execution_count": null,
   "metadata": {},
   "outputs": [],
   "source": [
    "# 检查合并后结构\n",
    "print(\"data:\" + str(data.shape))\n",
    "print(\"df:\" + str(df.shape))\n",
    "print(\"data_gaode:\" + str(data_gaode.shape))\n",
    "\n",
    "data_gaode.to_csv(outpath_gaode + name_UTF8_gaode,index=False)"
   ]
  }
 ],
 "metadata": {
  "kernelspec": {
   "display_name": "Python 3",
   "language": "python",
   "name": "python3"
  },
  "language_info": {
   "codemirror_mode": {
    "name": "ipython",
    "version": 3
   },
   "file_extension": ".py",
   "mimetype": "text/x-python",
   "name": "python",
   "nbconvert_exporter": "python",
   "pygments_lexer": "ipython3",
   "version": "3.6.6"
  }
 },
 "nbformat": 4,
 "nbformat_minor": 2
}
