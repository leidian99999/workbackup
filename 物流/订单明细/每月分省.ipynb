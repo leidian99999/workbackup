{
 "cells": [
  {
   "cell_type": "code",
   "execution_count": 1,
   "metadata": {},
   "outputs": [],
   "source": [
    "import pandas as pd"
   ]
  },
  {
   "cell_type": "code",
   "execution_count": 2,
   "metadata": {},
   "outputs": [],
   "source": [
    "def FenSheng(df,col,writer,name):\n",
    "    print(\"开始分省\")\n",
    "    print(df[col].value_counts())\n",
    "    sheng_list = df[col].unique()\n",
    "    for sheng in sheng_list:\n",
    "        df_new = df[df[col] == sheng]\n",
    "        df_new.to_excel(writer + sheng + name + '.xlsx', index=False)"
   ]
  },
  {
   "cell_type": "code",
   "execution_count": 3,
   "metadata": {},
   "outputs": [
    {
     "name": "stderr",
     "output_type": "stream",
     "text": [
      "d:\\python\\envs\\jupyterpy36\\lib\\site-packages\\IPython\\core\\interactiveshell.py:2785: DtypeWarning: Columns (11,17) have mixed types. Specify dtype option on import or set low_memory=False.\n",
      "  interactivity=interactivity, compiler=compiler, result=result)\n"
     ]
    }
   ],
   "source": [
    "data = pd.read_csv(r\"G:/work/basic/alter/1902_info_alter_gai.csv\")"
   ]
  },
  {
   "cell_type": "code",
   "execution_count": 4,
   "metadata": {},
   "outputs": [
    {
     "data": {
      "text/plain": [
       "Index(['订单编号', '订单状态', '订单子状态', '订单挂起原因', '安装失败原因', '订单来源', '店铺', '订单金额',\n",
       "       '订单生成时间', '交易完成时间', '发货时间', '物流单回填时间', '入网用户姓名', '入网身份证号', '入网手机号',\n",
       "       '收货人姓名', '收货地址', '收货人电话号码', '邮编', '所在省 / 市 / 县', '号码归属地', 'CPS推荐人',\n",
       "       '订单备注', '物流单号', '物流签收时间', '承运商', '大小卡类型', '写卡渠道', '销售品编号', '销售品名称',\n",
       "       '销售品类型', '套餐', '主号码', '副号码', '现金预存款', '靓号低消', '靓号等级', '靓号预存款',\n",
       "       '营业厅送货方式', '是否线下模式', '是否线下转线上', '线下转线上原因', '营业厅送货iccid', '京东不可达原因',\n",
       "       '所在省', '所在市', '所在县', '号码归属省', '号码归属市'],\n",
       "      dtype='object')"
      ]
     },
     "execution_count": 4,
     "metadata": {},
     "output_type": "execute_result"
    }
   ],
   "source": [
    "data.columns"
   ]
  },
  {
   "cell_type": "code",
   "execution_count": 5,
   "metadata": {},
   "outputs": [],
   "source": [
    "df = data.copy()"
   ]
  },
  {
   "cell_type": "code",
   "execution_count": 6,
   "metadata": {},
   "outputs": [
    {
     "data": {
      "text/plain": [
       "广东     72550\n",
       "山东     39503\n",
       "河南     35181\n",
       "湖南     27420\n",
       "江苏     27390\n",
       "河北     25568\n",
       "湖北     24799\n",
       "北京     24525\n",
       "四川     22100\n",
       "浙江     19251\n",
       "陕西     18313\n",
       "云南     15867\n",
       "广西     15761\n",
       "辽宁     15723\n",
       "上海     13602\n",
       "山西     12347\n",
       "安徽     12141\n",
       "贵州     11912\n",
       "黑龙江    11553\n",
       "福建     11130\n",
       "江西     10743\n",
       "内蒙古     9887\n",
       "吉林      9370\n",
       "甘肃      8703\n",
       "重庆      8089\n",
       "天津      4855\n",
       "新疆      4505\n",
       "宁夏      3089\n",
       "海南      2512\n",
       "青海      1748\n",
       "西藏       769\n",
       "Name: 所在省, dtype: int64"
      ]
     },
     "execution_count": 6,
     "metadata": {},
     "output_type": "execute_result"
    }
   ],
   "source": [
    "df[\"所在省\"].value_counts()"
   ]
  },
  {
   "cell_type": "code",
   "execution_count": 7,
   "metadata": {},
   "outputs": [],
   "source": [
    "col = \"所在省\""
   ]
  },
  {
   "cell_type": "code",
   "execution_count": 8,
   "metadata": {},
   "outputs": [],
   "source": [
    "name = \"(所在省)\""
   ]
  },
  {
   "cell_type": "code",
   "execution_count": 9,
   "metadata": {},
   "outputs": [],
   "source": [
    "writer = \"G:/work/basic/province/FEB19\\\\\""
   ]
  },
  {
   "cell_type": "code",
   "execution_count": 10,
   "metadata": {},
   "outputs": [
    {
     "name": "stdout",
     "output_type": "stream",
     "text": [
      "开始分省\n",
      "广东     72550\n",
      "山东     39503\n",
      "河南     35181\n",
      "湖南     27420\n",
      "江苏     27390\n",
      "河北     25568\n",
      "湖北     24799\n",
      "北京     24525\n",
      "四川     22100\n",
      "浙江     19251\n",
      "陕西     18313\n",
      "云南     15867\n",
      "广西     15761\n",
      "辽宁     15723\n",
      "上海     13602\n",
      "山西     12347\n",
      "安徽     12141\n",
      "贵州     11912\n",
      "黑龙江    11553\n",
      "福建     11130\n",
      "江西     10743\n",
      "内蒙古     9887\n",
      "吉林      9370\n",
      "甘肃      8703\n",
      "重庆      8089\n",
      "天津      4855\n",
      "新疆      4505\n",
      "宁夏      3089\n",
      "海南      2512\n",
      "青海      1748\n",
      "西藏       769\n",
      "Name: 所在省, dtype: int64\n"
     ]
    }
   ],
   "source": [
    "FenSheng(df,col,writer,name)"
   ]
  },
  {
   "cell_type": "code",
   "execution_count": null,
   "metadata": {},
   "outputs": [],
   "source": []
  }
 ],
 "metadata": {
  "kernelspec": {
   "display_name": "Python 3",
   "language": "python",
   "name": "python3"
  },
  "language_info": {
   "codemirror_mode": {
    "name": "ipython",
    "version": 3
   },
   "file_extension": ".py",
   "mimetype": "text/x-python",
   "name": "python",
   "nbconvert_exporter": "python",
   "pygments_lexer": "ipython3",
   "version": "3.6.6"
  }
 },
 "nbformat": 4,
 "nbformat_minor": 2
}
