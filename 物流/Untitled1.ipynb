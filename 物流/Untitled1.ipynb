{
 "cells": [
  {
   "cell_type": "code",
   "execution_count": null,
   "metadata": {},
   "outputs": [],
   "source": [
    "import pandas as pd\n",
    "import requests\n",
    "from bs4 import BeautifulSoup\n",
    "import json\n",
    "import os\n",
    "from urllib.request import urlopen, quote,URLError, HTTPError\n",
    "import time"
   ]
  },
  {
   "cell_type": "code",
   "execution_count": null,
   "metadata": {},
   "outputs": [],
   "source": [
    "data = pd.read_excel(r\"F:\\temp\\190523\\面对面15日.xlsx\")"
   ]
  },
  {
   "cell_type": "code",
   "execution_count": null,
   "metadata": {
    "scrolled": false
   },
   "outputs": [],
   "source": [
    "df = data[[\"收货地址\",\"订单编号\",\"所在省 / 市 / 县\"]]"
   ]
  },
  {
   "cell_type": "code",
   "execution_count": null,
   "metadata": {},
   "outputs": [],
   "source": [
    "split = pd.DataFrame((x.split('/') for x in df['所在省 / 市 / 县']), index=df.index, columns=['所在省','所在市','所在县'])\n",
    "df = pd.merge(df,split,left_index=True,right_index=True)"
   ]
  },
  {
   "cell_type": "code",
   "execution_count": null,
   "metadata": {},
   "outputs": [],
   "source": [
    "df['所在省'] = df['所在省'].map(lambda x:str(x))\n",
    "df['所在市'] = df['所在市'].map(lambda x:str(x))\n",
    "df['收货地址'] = df['收货地址'].map(lambda x:str(x))"
   ]
  },
  {
   "cell_type": "code",
   "execution_count": null,
   "metadata": {},
   "outputs": [],
   "source": [
    "df[\"收货人地址\"] = df[\"所在省\"] + df[\"所在市\"] + df[\"收货地址\"]"
   ]
  },
  {
   "cell_type": "code",
   "execution_count": null,
   "metadata": {},
   "outputs": [],
   "source": [
    "# 解析高德地图API网址信息\n",
    "def get_latlng_gaode(address,ak):\n",
    "    ak= ak\n",
    "    url=\"http://restapi.amap.com/v3/geocode/geo?key=%s&address=%s\"%(ak,address)\n",
    "    data=requests.get(url)\n",
    "    contest=data.json()\n",
    "    return contest"
   ]
  },
  {
   "cell_type": "code",
   "execution_count": null,
   "metadata": {},
   "outputs": [],
   "source": [
    "def get_receiver_lnglat_gaode(address):\n",
    "    start_time = time.time()\n",
    "    re_List_gaode = []\n",
    "    for b in address:\n",
    "        print(b)\n",
    "        re_Dict_gaode = {}\n",
    "        try:\n",
    "            temp=get_latlng_gaode(b,ak_gaode)\n",
    "        except requests.exceptions.ConnectionError: # HTTPError\n",
    "            re_Dict_gaode[\"re_location_gaode\"] = \"请求出错\"         \n",
    "        else:\n",
    "            if ('geocodes' in temp):\n",
    "                re_Dict_gaode[\"re_location_gaode\"] = temp['geocodes'][0]['location']\n",
    "                re_Dict_gaode[\"re_formatted_address_gaode\"] = temp['geocodes'][0]['formatted_address']\n",
    "                re_Dict_gaode[\"re_province_gaode\"] = temp['geocodes'][0]['province']\n",
    "                re_Dict_gaode[\"re_country_gaode\"] = temp['geocodes'][0]['country']\n",
    "                re_Dict_gaode[\"re_city_gaode\"] = temp['geocodes'][0]['city']\n",
    "                re_Dict_gaode[\"re_district_gaode\"] = temp['geocodes'][0]['district']\n",
    "                re_Dict_gaode[\"re_level_gaode\"] = temp['geocodes'][0]['level']\n",
    "                re_Dict_gaode[\"re_township_gaode\"] = temp['geocodes'][0]['township']\n",
    "                re_Dict_gaode[\"re_adcode_gaode\"] = temp['geocodes'][0]['adcode']\n",
    "                re_Dict_gaode[\"re_street_gaode\"] = temp['geocodes'][0]['street']\n",
    "                re_Dict_gaode[\"re_number_gaode\"] = temp['geocodes'][0]['number']\n",
    "            else:\n",
    "                pass\n",
    "        re_List_gaode.append(re_Dict_gaode)\n",
    "    #     time.sleep(1)\n",
    "    end_time = time.time()\n",
    "    print(\"高德总用时：\",end_time-start_time)\n",
    "    return re_List_gaode"
   ]
  },
  {
   "cell_type": "code",
   "execution_count": null,
   "metadata": {},
   "outputs": [],
   "source": [
    "def parse_gaode(df,address):\n",
    "    # 解析高德\n",
    "    list_gaode = get_receiver_lnglat_gaode(address)\n",
    "    # df化(高德)\n",
    "    df_gaode = pd.DataFrame(list_gaode)\n",
    "    data_gaode = pd.concat([df,df_gaode],axis=1)\n",
    "    print(\"data_gaode:\" + str(data_gaode.shape))\n",
    "    return data_gaode"
   ]
  },
  {
   "cell_type": "code",
   "execution_count": null,
   "metadata": {},
   "outputs": [],
   "source": [
    "ak_gaode = \"1c2682317206ccaa18ec2487bb45d880\""
   ]
  },
  {
   "cell_type": "code",
   "execution_count": null,
   "metadata": {},
   "outputs": [],
   "source": [
    "df.shape"
   ]
  },
  {
   "cell_type": "code",
   "execution_count": null,
   "metadata": {},
   "outputs": [],
   "source": []
  },
  {
   "cell_type": "code",
   "execution_count": null,
   "metadata": {},
   "outputs": [],
   "source": []
  },
  {
   "cell_type": "code",
   "execution_count": null,
   "metadata": {},
   "outputs": [],
   "source": []
  },
  {
   "cell_type": "code",
   "execution_count": null,
   "metadata": {},
   "outputs": [],
   "source": []
  },
  {
   "cell_type": "code",
   "execution_count": null,
   "metadata": {},
   "outputs": [],
   "source": []
  },
  {
   "cell_type": "code",
   "execution_count": null,
   "metadata": {
    "scrolled": true
   },
   "outputs": [],
   "source": [
    "# 解析高德\n",
    "data_gaode = parse_gaode(df,df[\"收货人地址\"])"
   ]
  },
  {
   "cell_type": "code",
   "execution_count": null,
   "metadata": {},
   "outputs": [],
   "source": [
    "data_gaode[\"re_location_gaode\"].isnull().value_counts()"
   ]
  },
  {
   "cell_type": "code",
   "execution_count": null,
   "metadata": {},
   "outputs": [],
   "source": [
    "data_gaode.to_excel(r\"F:\\temp\\190523\\jiexi.xlsx\",index=False)"
   ]
  },
  {
   "cell_type": "code",
   "execution_count": null,
   "metadata": {},
   "outputs": [],
   "source": []
  },
  {
   "cell_type": "code",
   "execution_count": null,
   "metadata": {},
   "outputs": [],
   "source": [
    "data_gaode['re_location_gaode'] = data_gaode['re_location_gaode'].map(lambda x:str(x))\n",
    "\n"
   ]
  },
  {
   "cell_type": "code",
   "execution_count": null,
   "metadata": {},
   "outputs": [],
   "source": [
    "# 合表\n",
    "split_gaode = pd.DataFrame((x.split(',') for x in data_gaode['re_location_gaode']), index=data_gaode.index, columns=['re_siteLng_gaode','re_siteLat_gaode'])\n"
   ]
  },
  {
   "cell_type": "code",
   "execution_count": null,
   "metadata": {},
   "outputs": [],
   "source": [
    "data_gaode = pd.merge(data_gaode,split_gaode,left_index=True,right_index=True)"
   ]
  }
 ],
 "metadata": {
  "kernelspec": {
   "display_name": "Python 3",
   "language": "python",
   "name": "python3"
  },
  "language_info": {
   "codemirror_mode": {
    "name": "ipython",
    "version": 3
   },
   "file_extension": ".py",
   "mimetype": "text/x-python",
   "name": "python",
   "nbconvert_exporter": "python",
   "pygments_lexer": "ipython3",
   "version": "3.6.6"
  }
 },
 "nbformat": 4,
 "nbformat_minor": 2
}
