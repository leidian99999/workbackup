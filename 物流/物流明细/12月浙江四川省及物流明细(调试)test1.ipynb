{
 "cells": [
  {
   "cell_type": "code",
   "execution_count": 1,
   "metadata": {},
   "outputs": [],
   "source": [
    "import pandas as pd \n",
    "pd.set_option('max_colwidth',200)"
   ]
  },
  {
   "cell_type": "code",
   "execution_count": 2,
   "metadata": {},
   "outputs": [
    {
     "name": "stderr",
     "output_type": "stream",
     "text": [
      "d:\\python\\envs\\jupyterpy36\\lib\\site-packages\\IPython\\core\\interactiveshell.py:2785: DtypeWarning: Columns (11,12,26,40,41,42,43) have mixed types. Specify dtype option on import or set low_memory=False.\n",
      "  interactivity=interactivity, compiler=compiler, result=result)\n"
     ]
    }
   ],
   "source": [
    "data = pd.read_csv(r\"F:\\temp\\190306\\part11.csv\")\n",
    "JD_stations_ZJ = pd.read_excel(r\"G:\\work\\logistica\\stations\\JDStations\\stations\\gaode\\JDstations_zhejiang_gaode.xlsx\")"
   ]
  },
  {
   "cell_type": "code",
   "execution_count": 3,
   "metadata": {},
   "outputs": [
    {
     "data": {
      "text/plain": [
       "Index(['订单编号', '订单类型', '订单状态', '订单子状态', '取消原因', '订单挂起原因', '订单来源', '店铺', 'AB类型',\n",
       "       '订单金额', '订单生成时间', '支付完成时间', '交易完成时间', '发货时间', '入网用户姓名', '入网手机号',\n",
       "       '入网身份证号', '联系人电话号码', '收货人姓名', '收货地址', '收货人电话号码', '所在省`/`市`/`县',\n",
       "       '入网人所在省/市/县', '号码归属地', '配送方式', 'CPS推荐人', '订单备注', '物流单号', '物流签收时间',\n",
       "       '承运商', '写卡渠道', '销售品编号', '销售品名称', '销售品类型', '套餐', '主号码', '副号码', '靓号等级',\n",
       "       '靓号低消', '靓号预存款', '营业厅送货方式', '是否线下模式', '是否线下转线上', '线下转线上原因',\n",
       "       '营业厅送货iccid', '发货量', '签收量', '激活量', '月拦截量', '所属省', '所属市', '产品分类', '激活时效',\n",
       "       '性别', '签收时效', '交付时效', '年龄', '配送时效', 'ORDER_ID', 'MAIL_NO',\n",
       "       'LOGISTICS_COMPANY', '收货省市县', '写卡渠道号', '索引', '流转信息', '最后送达时间', '网点'],\n",
       "      dtype='object')"
      ]
     },
     "execution_count": 3,
     "metadata": {},
     "output_type": "execute_result"
    }
   ],
   "source": [
    "data.columns"
   ]
  },
  {
   "cell_type": "code",
   "execution_count": 4,
   "metadata": {
    "scrolled": true
   },
   "outputs": [],
   "source": [
    "df = data[['订单编号', '收货地址','所在省`/`市`/`县', '物流单号','物流签收时间','承运商','LOGISTICS_COMPANY','最后送达时间','网点']]\n",
    "# df = data.copy()"
   ]
  },
  {
   "cell_type": "code",
   "execution_count": 5,
   "metadata": {},
   "outputs": [],
   "source": [
    "split = pd.DataFrame((x.split('/') for x in df['所在省`/`市`/`县']), index=df.index, columns=['所在省','所在市','所在县'])\n",
    "df = pd.merge(df,split,left_index=True,right_index=True)"
   ]
  },
  {
   "cell_type": "code",
   "execution_count": 6,
   "metadata": {
    "scrolled": true
   },
   "outputs": [
    {
     "data": {
      "text/plain": [
       "四川    18972\n",
       "浙江     5986\n",
       "Name: 所在省, dtype: int64"
      ]
     },
     "execution_count": 6,
     "metadata": {},
     "output_type": "execute_result"
    }
   ],
   "source": [
    "df[\"所在省\"].value_counts()"
   ]
  },
  {
   "cell_type": "code",
   "execution_count": 7,
   "metadata": {
    "scrolled": true
   },
   "outputs": [],
   "source": [
    "df[['快递员','最后一站','快递员电话']] = df['网点'].str.extract('配送员(\\\\w+)，您的订单已到达(\\\\w+)，.*，均可给我打电话(\\\\d+)', expand=False)\n",
    "df['导航地址'] = df['所在省'] + df['所在市'] + df['收货地址']"
   ]
  },
  {
   "cell_type": "code",
   "execution_count": 8,
   "metadata": {},
   "outputs": [
    {
     "data": {
      "text/plain": [
       "京东物流    24958\n",
       "Name: 承运商, dtype: int64"
      ]
     },
     "execution_count": 8,
     "metadata": {},
     "output_type": "execute_result"
    }
   ],
   "source": [
    "dict_carrier ={'ems':'EMS','邮政':'EMS','100000137':'圆通','ZHAIJISONG':'宅急送','jingdongwuliu':'京东物流','yunda':'韵达','shunfeng':'顺丰','EMS物流':'EMS'}\n",
    "df =df.replace(dict_carrier)\n",
    "df[\"承运商\"].value_counts()"
   ]
  },
  {
   "cell_type": "code",
   "execution_count": 9,
   "metadata": {},
   "outputs": [
    {
     "data": {
      "text/plain": [
       "四川    18972\n",
       "浙江     5986\n",
       "Name: 所在省, dtype: int64"
      ]
     },
     "execution_count": 9,
     "metadata": {},
     "output_type": "execute_result"
    }
   ],
   "source": [
    "dict_province = {'焦作市':'河南','河南省':'河南','河北省':'河北','贵州省':'贵州','湖南省':'湖南','广东省':'广东','江苏省':'江苏','山西省':'山西',\n",
    "        '吉林省':'吉林','山东省':'山东','广西壮族自治区':'广西','湖北省':'湖北','陕西省':'陕西','浙江省':'浙江','福建省':'福建',\n",
    "        '内蒙古自治区':'内蒙古','云南省':'云南','辽宁省':'辽宁','江西省':'江西','四川省':'四川','黑龙江省':'黑龙江','安徽省':'安徽',\n",
    "        '甘肃省':'甘肃','西藏自治区':'西藏','青海省':'青海','宁夏回族自治区':'宁夏',\n",
    "        '海南省':'海南','六安市':'安徽','东莞市':'广东','新疆维吾尔自治区':'新疆'}\n",
    "df = df.replace(dict_province)\n",
    "df[\"所在省\"].value_counts()"
   ]
  },
  {
   "cell_type": "code",
   "execution_count": 10,
   "metadata": {},
   "outputs": [],
   "source": [
    "df_JD = df[df[\"承运商\"] == \"京东物流\"]"
   ]
  },
  {
   "cell_type": "code",
   "execution_count": 11,
   "metadata": {},
   "outputs": [
    {
     "name": "stdout",
     "output_type": "stream",
     "text": [
      "浙江省样本数：5986\n"
     ]
    }
   ],
   "source": [
    "df_ZJ_JD = df_JD[df_JD[\"所在省\"] == \"浙江\"]\n",
    "print(\"浙江省样本数：{}\".format(df_ZJ_JD.shape[0]))"
   ]
  },
  {
   "cell_type": "code",
   "execution_count": 12,
   "metadata": {
    "scrolled": true
   },
   "outputs": [
    {
     "data": {
      "text/plain": [
       "Index(['cityId', 'countyId', 'provinceId', 'siteAddress', 'siteBusinessName',\n",
       "       'siteName', 'siteTelephone', 'cityname', 'siteAddress_all',\n",
       "       'siteAdcode_gaode', 'siteCity_gaode', 'siteCountry_gaode',\n",
       "       'siteDistrict_gaode', 'siteFormatted_address_gaode', 'siteLevel_gaode',\n",
       "       'siteLocation_gaode', 'siteNumber_gaode', 'siteProvince_gaode',\n",
       "       'siteStreet_gaode', 'siteTownship_gaode', 'site_Lng_gaode',\n",
       "       'site_Lat_gaode'],\n",
       "      dtype='object')"
      ]
     },
     "execution_count": 12,
     "metadata": {},
     "output_type": "execute_result"
    }
   ],
   "source": [
    "JD_stations_ZJ.columns"
   ]
  },
  {
   "cell_type": "code",
   "execution_count": 13,
   "metadata": {},
   "outputs": [
    {
     "data": {
      "text/plain": [
       "Index(['订单编号', '收货地址', '所在省`/`市`/`县', '物流单号', '物流签收时间', '承运商',\n",
       "       'LOGISTICS_COMPANY', '最后送达时间', '网点', '所在省', '所在市', '所在县', '快递员', '最后一站',\n",
       "       '快递员电话', '导航地址'],\n",
       "      dtype='object')"
      ]
     },
     "execution_count": 13,
     "metadata": {},
     "output_type": "execute_result"
    }
   ],
   "source": [
    "df_ZJ_JD.columns"
   ]
  },
  {
   "cell_type": "code",
   "execution_count": 14,
   "metadata": {},
   "outputs": [],
   "source": [
    "JD_ZJ = pd.merge(df_ZJ_JD,JD_stations_ZJ,how=\"left\",left_on=\"最后一站\",right_on=\"siteName\")"
   ]
  },
  {
   "cell_type": "code",
   "execution_count": 15,
   "metadata": {
    "scrolled": true
   },
   "outputs": [
    {
     "name": "stdout",
     "output_type": "stream",
     "text": [
      "JD_stations_ZJ:447\n",
      "JD_ZJ:5986\n"
     ]
    }
   ],
   "source": [
    "# print(\"df:{}\".format(df.shape[0]))\n",
    "print(\"JD_stations_ZJ:{}\".format(JD_stations_ZJ.shape[0]))\n",
    "print(\"JD_ZJ:{}\".format(JD_ZJ.shape[0]))"
   ]
  },
  {
   "cell_type": "code",
   "execution_count": 16,
   "metadata": {},
   "outputs": [
    {
     "data": {
      "text/plain": [
       "Index(['订单编号', '收货地址', '所在省`/`市`/`县', '物流单号', '物流签收时间', '承运商',\n",
       "       'LOGISTICS_COMPANY', '最后送达时间', '网点', '所在省', '所在市', '所在县', '快递员', '最后一站',\n",
       "       '快递员电话', '导航地址', 'cityId', 'countyId', 'provinceId', 'siteAddress',\n",
       "       'siteBusinessName', 'siteName', 'siteTelephone', 'cityname',\n",
       "       'siteAddress_all', 'siteAdcode_gaode', 'siteCity_gaode',\n",
       "       'siteCountry_gaode', 'siteDistrict_gaode',\n",
       "       'siteFormatted_address_gaode', 'siteLevel_gaode', 'siteLocation_gaode',\n",
       "       'siteNumber_gaode', 'siteProvince_gaode', 'siteStreet_gaode',\n",
       "       'siteTownship_gaode', 'site_Lng_gaode', 'site_Lat_gaode'],\n",
       "      dtype='object')"
      ]
     },
     "execution_count": 16,
     "metadata": {},
     "output_type": "execute_result"
    }
   ],
   "source": [
    "JD_ZJ.columns"
   ]
  },
  {
   "cell_type": "code",
   "execution_count": 17,
   "metadata": {
    "scrolled": true
   },
   "outputs": [
    {
     "data": {
      "text/plain": [
       "False    5250\n",
       "True      736\n",
       "Name: siteName, dtype: int64"
      ]
     },
     "execution_count": 17,
     "metadata": {},
     "output_type": "execute_result"
    }
   ],
   "source": [
    "JD_ZJ[\"siteName\"].isnull().value_counts()"
   ]
  },
  {
   "cell_type": "code",
   "execution_count": 18,
   "metadata": {},
   "outputs": [],
   "source": [
    "JD_ZJ = JD_ZJ.drop(columns=['承运商', '所在省`/`市`/`县','网点'])"
   ]
  },
  {
   "cell_type": "code",
   "execution_count": 19,
   "metadata": {},
   "outputs": [],
   "source": [
    "JD_ZJ_list = JD_ZJ[JD_ZJ[\"siteName\"].isnull() == False]\n",
    "JD_ZJ_NA = JD_ZJ[JD_ZJ[\"siteName\"].isnull() == True]"
   ]
  },
  {
   "cell_type": "code",
   "execution_count": null,
   "metadata": {},
   "outputs": [],
   "source": []
  },
  {
   "cell_type": "code",
   "execution_count": null,
   "metadata": {},
   "outputs": [],
   "source": []
  },
  {
   "cell_type": "code",
   "execution_count": 20,
   "metadata": {},
   "outputs": [
    {
     "name": "stdout",
     "output_type": "stream",
     "text": [
      "JD_ZJ_list:5250\n",
      "JD_ZJ_NA:736\n"
     ]
    }
   ],
   "source": [
    "print(\"JD_ZJ_list:{}\".format(JD_ZJ_list.shape[0]))\n",
    "print(\"JD_ZJ_NA:{}\".format(JD_ZJ_NA.shape[0]))"
   ]
  },
  {
   "cell_type": "code",
   "execution_count": 21,
   "metadata": {},
   "outputs": [
    {
     "data": {
      "text/plain": [
       "False    687\n",
       "True      49\n",
       "Name: 最后一站, dtype: int64"
      ]
     },
     "execution_count": 21,
     "metadata": {},
     "output_type": "execute_result"
    }
   ],
   "source": [
    "JD_ZJ_NA[\"最后一站\"].isnull().value_counts()\n",
    "# JD_ZJ_NA[\"siteName\"].isnull().value_counts()\n"
   ]
  },
  {
   "cell_type": "code",
   "execution_count": 22,
   "metadata": {},
   "outputs": [],
   "source": [
    "JD_ZJ_NA = JD_ZJ_NA.dropna(subset=['最后一站'])"
   ]
  },
  {
   "cell_type": "code",
   "execution_count": 23,
   "metadata": {},
   "outputs": [],
   "source": [
    "JD_ZJ_jingdongpai = JD_ZJ_NA[JD_ZJ_NA[\"最后一站\"].str.contains('京东派|众包站')]\n",
    "JD_ZJ_otherNA = JD_ZJ_NA[JD_ZJ_NA[\"最后一站\"].str.contains(\"京东派|众包站\") == False]"
   ]
  },
  {
   "cell_type": "code",
   "execution_count": 24,
   "metadata": {},
   "outputs": [
    {
     "data": {
      "text/plain": [
       "杭州晟虞营业部    24\n",
       "杭州黄龙营业部    14\n",
       "温州雪山营业部     8\n",
       "温州绣山营业部     2\n",
       "扬州汊河营业部     1\n",
       "邯郸丛台营业部     1\n",
       "长沙青园营业部     1\n",
       "吕梁孝义营业部     1\n",
       "五常营业部       1\n",
       "庆阳西峰营业部     1\n",
       "娄底娄星营业部     1\n",
       "南昌象湖营业部     1\n",
       "长沙中信营业部     1\n",
       "兰州西湖营业部     1\n",
       "娄底南苑营业部     1\n",
       "西安泾渭营业部     1\n",
       "泉州清源营业部     1\n",
       "Name: 最后一站, dtype: int64"
      ]
     },
     "execution_count": 24,
     "metadata": {},
     "output_type": "execute_result"
    }
   ],
   "source": [
    "# JD_ZJ_jingdongpai['最后一站'].value_counts()\n",
    "JD_ZJ_otherNA['最后一站'].value_counts()"
   ]
  },
  {
   "cell_type": "code",
   "execution_count": 26,
   "metadata": {},
   "outputs": [
    {
     "data": {
      "text/plain": [
       "61"
      ]
     },
     "execution_count": 26,
     "metadata": {},
     "output_type": "execute_result"
    }
   ],
   "source": [
    "len(JD_ZJ_otherNA['最后一站'])"
   ]
  },
  {
   "cell_type": "code",
   "execution_count": 25,
   "metadata": {},
   "outputs": [],
   "source": [
    "JD_ZJ_list.to_excel(r\"G:\\work\\logistica\\info\\shenglist\\JD_ZJ_list.xlsx\",index = False)\n",
    "JD_ZJ_NA.to_excel(r\"G:\\work\\logistica\\info\\shenglist\\JD_ZJ_NA.xlsx\",index = False)\n",
    "JD_ZJ_list.to_csv(r\"G:\\work\\logistica\\info\\shenglist\\JD_ZJ_list.csv\",index = False)"
   ]
  }
 ],
 "metadata": {
  "kernelspec": {
   "display_name": "Python 3",
   "language": "python",
   "name": "python3"
  },
  "language_info": {
   "codemirror_mode": {
    "name": "ipython",
    "version": 3
   },
   "file_extension": ".py",
   "mimetype": "text/x-python",
   "name": "python",
   "nbconvert_exporter": "python",
   "pygments_lexer": "ipython3",
   "version": "3.6.6"
  }
 },
 "nbformat": 4,
 "nbformat_minor": 2
}
