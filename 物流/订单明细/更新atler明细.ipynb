{
 "cells": [
  {
   "cell_type": "code",
   "execution_count": 1,
   "metadata": {},
   "outputs": [],
   "source": [
    "import pandas as pd"
   ]
  },
  {
   "cell_type": "code",
   "execution_count": 2,
   "metadata": {
    "scrolled": false
   },
   "outputs": [
    {
     "name": "stderr",
     "output_type": "stream",
     "text": [
      "d:\\python\\envs\\jupyterpy36\\lib\\site-packages\\ipykernel_launcher.py:1: ParserWarning: Falling back to the 'python' engine because the 'c' engine does not support sep=None with delim_whitespace=False; you can avoid this warning by specifying engine='python'.\n",
      "  \"\"\"Entry point for launching an IPython kernel.\n"
     ]
    }
   ],
   "source": [
    "data = pd.read_csv(r\"G:\\work\\basic\\alter\\1808_info_alter_gai.csv\",sep = None,encoding='utf8')"
   ]
  },
  {
   "cell_type": "code",
   "execution_count": 3,
   "metadata": {
    "scrolled": true
   },
   "outputs": [
    {
     "data": {
      "text/plain": [
       "Index(['Unnamed: 0', '订单编号', '订单状态', '订单子状态', '订单挂起原因', '安装失败原因', '订单来源', '店铺',\n",
       "       '订单金额', '订单生成时间', '交易完成时间', '发货时间', '物流单回填时间', '入网用户姓名', '入网身份证号',\n",
       "       '入网手机号', '收货人姓名', '收货地址', '收货人电话号码', '邮编', '所在省 / 市 / 县', '号码归属地',\n",
       "       'CPS推荐人', '订单备注', '物流单号', '物流签收时间', '承运商', '大小卡类型', '写卡渠道', '销售品编号',\n",
       "       '销售品名称', '销售品类型', '套餐', '主号码', '副号码', '现金预存款', '靓号低消', '靓号等级', '靓号预存款',\n",
       "       '营业厅送货方式', '是否线下模式', '是否线下转线上', '线下转线上原因', '营业厅送货iccid', '所在省', '所在市',\n",
       "       '所在县', '号码归属省', '号码归属市'],\n",
       "      dtype='object')"
      ]
     },
     "execution_count": 3,
     "metadata": {},
     "output_type": "execute_result"
    }
   ],
   "source": [
    "data.columns"
   ]
  },
  {
   "cell_type": "code",
   "execution_count": 4,
   "metadata": {},
   "outputs": [
    {
     "data": {
      "text/plain": [
       "(911845, 49)"
      ]
     },
     "execution_count": 4,
     "metadata": {},
     "output_type": "execute_result"
    }
   ],
   "source": [
    "data.shape"
   ]
  },
  {
   "cell_type": "markdown",
   "metadata": {},
   "source": [
    "### 删除合表表头"
   ]
  },
  {
   "cell_type": "code",
   "execution_count": 5,
   "metadata": {},
   "outputs": [],
   "source": [
    "data = data[data[\"号码归属地\"].str.contains('号码归属地') == False]"
   ]
  },
  {
   "cell_type": "code",
   "execution_count": 6,
   "metadata": {},
   "outputs": [
    {
     "data": {
      "text/plain": [
       "(911845, 49)"
      ]
     },
     "execution_count": 6,
     "metadata": {},
     "output_type": "execute_result"
    }
   ],
   "source": [
    "data.shape"
   ]
  },
  {
   "cell_type": "code",
   "execution_count": 7,
   "metadata": {},
   "outputs": [],
   "source": [
    "df = data[[ '订单编号', '订单状态','订单子状态', '订单挂起原因', '安装失败原因', '订单来源', '店铺', '订单金额',\n",
    "       '订单生成时间', '交易完成时间', '发货时间', '物流单回填时间', '入网用户姓名', '入网身份证号', '入网手机号',\n",
    "       '收货人姓名', '收货地址', '收货人电话号码', '邮编', '所在省 / 市 / 县', '号码归属地', 'CPS推荐人',\n",
    "       '订单备注', '物流单号', '物流签收时间', '承运商', '大小卡类型', '写卡渠道', '销售品编号', '销售品名称',\n",
    "       '销售品类型', '套餐', '主号码', '副号码', '现金预存款', '靓号低消', '靓号等级', '靓号预存款',\n",
    "       '营业厅送货方式', '是否线下模式', '是否线下转线上', '线下转线上原因', '营业厅送货iccid']]#,'京东不可达原因'"
   ]
  },
  {
   "cell_type": "code",
   "execution_count": 8,
   "metadata": {},
   "outputs": [
    {
     "data": {
      "text/plain": [
       "(911845, 43)"
      ]
     },
     "execution_count": 8,
     "metadata": {},
     "output_type": "execute_result"
    }
   ],
   "source": [
    "df.shape"
   ]
  },
  {
   "cell_type": "markdown",
   "metadata": {},
   "source": [
    "### 所在省/市/县/=\"//\"的删除"
   ]
  },
  {
   "cell_type": "code",
   "execution_count": 9,
   "metadata": {
    "scrolled": true
   },
   "outputs": [
    {
     "data": {
      "text/plain": [
       "广东/深圳市/宝安区                11579\n",
       "北京/北京市/朝阳区                10352\n",
       "北京/北京市/海淀区                 8240\n",
       "北京/北京市/昌平区                 7409\n",
       "广东/广州市/白云区                 7407\n",
       "广东/深圳市/龙岗区                 6604\n",
       "广东/佛山市/南海区                 5862\n",
       "北京/北京市/丰台区                 5207\n",
       "广东/广州市/天河区                 5029\n",
       "广东/东莞市/东莞市                 4985\n",
       "广东/广州市/番禺区                 4536\n",
       "广东/佛山市/顺德区                 4432\n",
       "广东/深圳市/龙华新区                4325\n",
       "上海/上海市/浦东新区                4191\n",
       "广东/惠州市/惠城区                 3849\n",
       "北京/北京市/大兴区                 3690\n",
       "湖南/长沙市/岳麓区                 3526\n",
       "北京/北京市/通州区                 3432\n",
       "湖北/武汉市/洪山区                 3416\n",
       "广东/深圳市/南山区                 3089\n",
       "陕西/西安市/雁塔区                 3067\n",
       "广东/广州市/海珠区                 2973\n",
       "广东/广州市/花都区                 2968\n",
       "河南/郑州市/金水区                 2759\n",
       "广东/广州市/黄埔区                 2566\n",
       "广东/惠州市/惠阳区                 2535\n",
       "北京/北京市/顺义区                 2486\n",
       "广东/深圳市/福田区                 2483\n",
       "江苏/苏州市/昆山市                 2434\n",
       "云南/昆明市/官渡区                 2367\n",
       "                          ...  \n",
       "山西/吕梁市/绛县                     1\n",
       "甘肃//海淀区                       1\n",
       "安徽省/芜湖市/鸠江区                   1\n",
       "四川省/甘孜藏族自治州/康定市               1\n",
       "甘肃省/张掖市/临泽县                   1\n",
       "云南/贵阳市/麒麟区                    1\n",
       "广东省/韶关市/翁源县                   1\n",
       "广西壮族自治区/梧州市/万秀区               1\n",
       "广西壮族自治区/柳州市/柳城县               1\n",
       "河南省/开封市/顺河回族区                 1\n",
       "黑龙江/哈尔滨市/动力区                  1\n",
       "江苏省/徐州市/睢宁县                   1\n",
       "江西省/景德镇市/昌江区                  1\n",
       "黑龙江省/绥化市/绥棱县                  1\n",
       "吉林/四平市/经济开发区区                 1\n",
       "安徽省/淮北市/烈山区                   1\n",
       "新疆维吾尔自治区/伊犁哈萨克自治州/特克斯县        1\n",
       "云南/保山市/潞西市                    1\n",
       "广西壮族自治区/玉林市/兴业县               1\n",
       "贵州省/黔东南苗族侗族自治州/从江县            1\n",
       "山西省/运城市/盐湖区                   1\n",
       "陕西省/宝鸡市/眉县                    1\n",
       "青海省/玉树藏族自治州/囊谦县               1\n",
       "云南省/大理白族自治州/鹤庆县               1\n",
       "广西壮族自治区/百色市/靖西市               1\n",
       "海南/文昌市/迈号镇                    1\n",
       "江苏省/南通市/启东市                   1\n",
       "黑龙江省/七台河市/茄子河区                1\n",
       "辽宁省/丹东市/元宝区                   1\n",
       "江苏省/淮安市/淮阴区                   1\n",
       "Name: 所在省 / 市 / 县, Length: 5574, dtype: int64"
      ]
     },
     "execution_count": 9,
     "metadata": {},
     "output_type": "execute_result"
    }
   ],
   "source": [
    "df[\"所在省 / 市 / 县\"].value_counts()"
   ]
  },
  {
   "cell_type": "code",
   "execution_count": 10,
   "metadata": {},
   "outputs": [],
   "source": [
    "# 去“//”\n",
    "df = df[df[\"所在省 / 市 / 县\"].str.contains(\"^//$\",regex=True) == False]"
   ]
  },
  {
   "cell_type": "code",
   "execution_count": 11,
   "metadata": {
    "scrolled": true
   },
   "outputs": [
    {
     "data": {
      "text/plain": [
       "广东/深圳市/宝安区                11579\n",
       "北京/北京市/朝阳区                10352\n",
       "北京/北京市/海淀区                 8240\n",
       "北京/北京市/昌平区                 7409\n",
       "广东/广州市/白云区                 7407\n",
       "广东/深圳市/龙岗区                 6604\n",
       "广东/佛山市/南海区                 5862\n",
       "北京/北京市/丰台区                 5207\n",
       "广东/广州市/天河区                 5029\n",
       "广东/东莞市/东莞市                 4985\n",
       "广东/广州市/番禺区                 4536\n",
       "广东/佛山市/顺德区                 4432\n",
       "广东/深圳市/龙华新区                4325\n",
       "上海/上海市/浦东新区                4191\n",
       "广东/惠州市/惠城区                 3849\n",
       "北京/北京市/大兴区                 3690\n",
       "湖南/长沙市/岳麓区                 3526\n",
       "北京/北京市/通州区                 3432\n",
       "湖北/武汉市/洪山区                 3416\n",
       "广东/深圳市/南山区                 3089\n",
       "陕西/西安市/雁塔区                 3067\n",
       "广东/广州市/海珠区                 2973\n",
       "广东/广州市/花都区                 2968\n",
       "河南/郑州市/金水区                 2759\n",
       "广东/广州市/黄埔区                 2566\n",
       "广东/惠州市/惠阳区                 2535\n",
       "北京/北京市/顺义区                 2486\n",
       "广东/深圳市/福田区                 2483\n",
       "江苏/苏州市/昆山市                 2434\n",
       "云南/昆明市/官渡区                 2367\n",
       "                          ...  \n",
       "山西/吕梁市/绛县                     1\n",
       "甘肃//海淀区                       1\n",
       "安徽省/芜湖市/鸠江区                   1\n",
       "四川省/甘孜藏族自治州/康定市               1\n",
       "甘肃省/张掖市/临泽县                   1\n",
       "云南/贵阳市/麒麟区                    1\n",
       "广东省/韶关市/翁源县                   1\n",
       "广西壮族自治区/梧州市/万秀区               1\n",
       "广西壮族自治区/柳州市/柳城县               1\n",
       "河南省/开封市/顺河回族区                 1\n",
       "黑龙江/哈尔滨市/动力区                  1\n",
       "江苏省/徐州市/睢宁县                   1\n",
       "江西省/景德镇市/昌江区                  1\n",
       "黑龙江省/绥化市/绥棱县                  1\n",
       "吉林/四平市/经济开发区区                 1\n",
       "安徽省/淮北市/烈山区                   1\n",
       "新疆维吾尔自治区/伊犁哈萨克自治州/特克斯县        1\n",
       "云南/保山市/潞西市                    1\n",
       "广西壮族自治区/玉林市/兴业县               1\n",
       "贵州省/黔东南苗族侗族自治州/从江县            1\n",
       "山西省/运城市/盐湖区                   1\n",
       "陕西省/宝鸡市/眉县                    1\n",
       "青海省/玉树藏族自治州/囊谦县               1\n",
       "云南省/大理白族自治州/鹤庆县               1\n",
       "广西壮族自治区/百色市/靖西市               1\n",
       "海南/文昌市/迈号镇                    1\n",
       "江苏省/南通市/启东市                   1\n",
       "黑龙江省/七台河市/茄子河区                1\n",
       "辽宁省/丹东市/元宝区                   1\n",
       "江苏省/淮安市/淮阴区                   1\n",
       "Name: 所在省 / 市 / 县, Length: 5574, dtype: int64"
      ]
     },
     "execution_count": 11,
     "metadata": {},
     "output_type": "execute_result"
    }
   ],
   "source": [
    "df[\"所在省 / 市 / 县\"].value_counts()"
   ]
  },
  {
   "cell_type": "markdown",
   "metadata": {},
   "source": [
    "### 统一所在省"
   ]
  },
  {
   "cell_type": "code",
   "execution_count": 12,
   "metadata": {},
   "outputs": [],
   "source": [
    "split = pd.DataFrame((x.split('/') for x in df['所在省 / 市 / 县']), index=df.index, columns=['所在省','所在市','所在县'])\n",
    "df = pd.merge(df,split,left_index=True,right_index=True)"
   ]
  },
  {
   "cell_type": "code",
   "execution_count": 13,
   "metadata": {},
   "outputs": [],
   "source": [
    "# 统一所在省\n",
    "dict_province = {'焦作市':'河南','河南省':'河南','河北省':'河北','贵州省':'贵州','湖南省':'湖南','广东省':'广东','江苏省':'江苏','山西省':'山西',\n",
    "    '吉林省':'吉林','山东省':'山东','广西壮族自治区':'广西','湖北省':'湖北','陕西省':'陕西','浙江省':'浙江','福建省':'福建',\n",
    "    '内蒙古自治区':'内蒙古','云南省':'云南','辽宁省':'辽宁','江西省':'江西','四川省':'四川','黑龙江省':'黑龙江','安徽省':'安徽',\n",
    "    '甘肃省':'甘肃','西藏自治区':'西藏','青海省':'青海','宁夏回族自治区':'宁夏',\n",
    "    '海南省':'海南','六安市':'安徽','东莞市':'广东','新疆维吾尔自治区':'新疆'}\n",
    "df = df.replace(dict_province)"
   ]
  },
  {
   "cell_type": "code",
   "execution_count": 14,
   "metadata": {},
   "outputs": [
    {
     "data": {
      "text/plain": [
       "广东     177038\n",
       "山东      67576\n",
       "河南      53263\n",
       "北京      52951\n",
       "湖南      42852\n",
       "河北      40630\n",
       "湖北      38737\n",
       "江苏      38428\n",
       "浙江      35844\n",
       "云南      34059\n",
       "四川      32868\n",
       "陕西      30414\n",
       "广西      23537\n",
       "辽宁      23367\n",
       "贵州      22212\n",
       "吉林      19318\n",
       "山西      19213\n",
       "安徽      18598\n",
       "内蒙古     18285\n",
       "上海      17926\n",
       "福建      17234\n",
       "黑龙江     15657\n",
       "江西      15652\n",
       "甘肃      13666\n",
       "重庆      12771\n",
       "天津       7595\n",
       "新疆       7102\n",
       "宁夏       5346\n",
       "海南       4649\n",
       "青海       3156\n",
       "西藏       1893\n",
       "            8\n",
       "Name: 所在省, dtype: int64"
      ]
     },
     "execution_count": 14,
     "metadata": {},
     "output_type": "execute_result"
    }
   ],
   "source": [
    "df[\"所在省\"].value_counts()"
   ]
  },
  {
   "cell_type": "markdown",
   "metadata": {},
   "source": [
    "### 号码归属地=\"/\"的删除"
   ]
  },
  {
   "cell_type": "code",
   "execution_count": 15,
   "metadata": {},
   "outputs": [
    {
     "data": {
      "text/plain": [
       "北京/市辖区                  60310\n",
       "广东省/广州市                 36775\n",
       "广东省/深圳市                 30699\n",
       "广东省/东莞市                 22441\n",
       "湖南省/长沙市                 19710\n",
       "上海市/市辖区                 18873\n",
       "湖北省/武汉市                 15945\n",
       "四川省/成都市                 14684\n",
       "陕西省/西安市                 13571\n",
       "重庆市/市辖区                 13463\n",
       "吉林省/长春市                 12597\n",
       "广东省/佛山市                 12019\n",
       "河南省/郑州市                 11177\n",
       "云南省/昆明市                 10364\n",
       "浙江省/杭州市                  8956\n",
       "广东省/惠州市                  8669\n",
       "江苏省/苏州市                  8640\n",
       "山东省/青岛市                  8198\n",
       "河北省/石家庄市                 7868\n",
       "天津市/市辖区                  7828\n",
       "山东省/济南市                  7339\n",
       "广东省/中山市                  6724\n",
       "黑龙江省/哈尔滨市                6712\n",
       "辽宁省/沈阳市                  6447\n",
       "广西壮族自治区/南宁市              6172\n",
       "山东省/临沂市                  6008\n",
       "山东省/潍坊市                  5734\n",
       "贵州省/贵阳市                  5651\n",
       "江苏省/南京市                  5514\n",
       "广东省/茂名市                  5411\n",
       "                        ...  \n",
       "云南省/怒江傈僳族自治州              274\n",
       "西藏自治区/日喀则地区               267\n",
       "甘肃省/金昌市                   260\n",
       "内蒙古自治区/阿拉善盟               257\n",
       "青海省/海西蒙古族藏族自治州            254\n",
       "云南省/迪庆藏族自治州               240\n",
       "新疆维吾尔自治区/克拉玛依市            229\n",
       "新疆维吾尔自治区/吐鲁番地区            223\n",
       "新疆维吾尔自治区/哈密地区             218\n",
       "甘肃省/嘉峪关市                  205\n",
       "河南省/济源市                   186\n",
       "新疆维吾尔自治区/阿勒泰地区            178\n",
       "黑龙江省/大兴安岭地区               173\n",
       "西藏自治区/山南地区                164\n",
       "新疆维吾尔自治区/博尔塔拉蒙古自治州        159\n",
       "新疆维吾尔自治区/塔城地区             158\n",
       "青海省/海南藏族自治州               154\n",
       "新疆维吾尔自治区/克孜勒苏柯尔克孜自治州      147\n",
       "西藏自治区/昌都地区                134\n",
       "西藏自治区/林芝地区                134\n",
       "青海省/黄南藏族自治州               105\n",
       "青海省/格尔木市                  102\n",
       "青海省/海北藏族自治州                94\n",
       "青海省/玉树藏族自治州                89\n",
       "西藏自治区/那曲地区                 81\n",
       "新疆维吾尔自治区/奎屯市               69\n",
       "西藏自治区/阿里地区                 59\n",
       "湖北省/林区（神农架）                52\n",
       "青海省/果洛藏族自治州                41\n",
       "湖北省/省直辖县级行政区划              10\n",
       "Name: 号码归属地, Length: 344, dtype: int64"
      ]
     },
     "execution_count": 15,
     "metadata": {},
     "output_type": "execute_result"
    }
   ],
   "source": [
    "df[\"号码归属地\"].value_counts()"
   ]
  },
  {
   "cell_type": "code",
   "execution_count": 16,
   "metadata": {},
   "outputs": [],
   "source": [
    "df = df[df[\"号码归属地\"].str.contains(\"^/$\",regex=True) == False]"
   ]
  },
  {
   "cell_type": "code",
   "execution_count": 17,
   "metadata": {},
   "outputs": [],
   "source": [
    "split1 = pd.DataFrame((x.split('/') for x in df['号码归属地']), index=df.index, columns=['号码归属省','号码归属市'])\n",
    "df = pd.merge(df,split1,left_index=True,right_index=True)"
   ]
  },
  {
   "cell_type": "code",
   "execution_count": 18,
   "metadata": {},
   "outputs": [
    {
     "data": {
      "text/plain": [
       "北京/市辖区                  60310\n",
       "广东省/广州市                 36775\n",
       "广东省/深圳市                 30699\n",
       "广东省/东莞市                 22441\n",
       "湖南省/长沙市                 19710\n",
       "上海市/市辖区                 18873\n",
       "湖北省/武汉市                 15945\n",
       "四川省/成都市                 14684\n",
       "陕西省/西安市                 13571\n",
       "重庆市/市辖区                 13463\n",
       "吉林省/长春市                 12597\n",
       "广东省/佛山市                 12019\n",
       "河南省/郑州市                 11177\n",
       "云南省/昆明市                 10364\n",
       "浙江省/杭州市                  8956\n",
       "广东省/惠州市                  8669\n",
       "江苏省/苏州市                  8640\n",
       "山东省/青岛市                  8198\n",
       "河北省/石家庄市                 7868\n",
       "天津市/市辖区                  7828\n",
       "山东省/济南市                  7339\n",
       "广东省/中山市                  6724\n",
       "黑龙江省/哈尔滨市                6712\n",
       "辽宁省/沈阳市                  6447\n",
       "广西壮族自治区/南宁市              6172\n",
       "山东省/临沂市                  6008\n",
       "山东省/潍坊市                  5734\n",
       "贵州省/贵阳市                  5651\n",
       "江苏省/南京市                  5514\n",
       "广东省/茂名市                  5411\n",
       "                        ...  \n",
       "云南省/怒江傈僳族自治州              274\n",
       "西藏自治区/日喀则地区               267\n",
       "甘肃省/金昌市                   260\n",
       "内蒙古自治区/阿拉善盟               257\n",
       "青海省/海西蒙古族藏族自治州            254\n",
       "云南省/迪庆藏族自治州               240\n",
       "新疆维吾尔自治区/克拉玛依市            229\n",
       "新疆维吾尔自治区/吐鲁番地区            223\n",
       "新疆维吾尔自治区/哈密地区             218\n",
       "甘肃省/嘉峪关市                  205\n",
       "河南省/济源市                   186\n",
       "新疆维吾尔自治区/阿勒泰地区            178\n",
       "黑龙江省/大兴安岭地区               173\n",
       "西藏自治区/山南地区                164\n",
       "新疆维吾尔自治区/博尔塔拉蒙古自治州        159\n",
       "新疆维吾尔自治区/塔城地区             158\n",
       "青海省/海南藏族自治州               154\n",
       "新疆维吾尔自治区/克孜勒苏柯尔克孜自治州      147\n",
       "西藏自治区/昌都地区                134\n",
       "西藏自治区/林芝地区                134\n",
       "青海省/黄南藏族自治州               105\n",
       "青海省/格尔木市                  102\n",
       "青海省/海北藏族自治州                94\n",
       "青海省/玉树藏族自治州                89\n",
       "西藏自治区/那曲地区                 81\n",
       "新疆维吾尔自治区/奎屯市               69\n",
       "西藏自治区/阿里地区                 59\n",
       "湖北省/林区（神农架）                52\n",
       "青海省/果洛藏族自治州                41\n",
       "湖北省/省直辖县级行政区划              10\n",
       "Name: 号码归属地, Length: 344, dtype: int64"
      ]
     },
     "execution_count": 18,
     "metadata": {},
     "output_type": "execute_result"
    }
   ],
   "source": [
    "df[\"号码归属地\"].value_counts()"
   ]
  },
  {
   "cell_type": "markdown",
   "metadata": {},
   "source": [
    "### 订单状态办理类的行删除"
   ]
  },
  {
   "cell_type": "code",
   "execution_count": 19,
   "metadata": {},
   "outputs": [],
   "source": [
    "df = df[df[\"订单状态\"].str.contains(\"办理\") == False]"
   ]
  },
  {
   "cell_type": "code",
   "execution_count": 20,
   "metadata": {},
   "outputs": [
    {
     "data": {
      "text/plain": [
       "交易完成        483215\n",
       "订单关闭        413110\n",
       "拆机成功          4818\n",
       "退款成功          3758\n",
       "已发货           2919\n",
       "拆机中           2161\n",
       "身份信息审核失败       624\n",
       "开始备货           495\n",
       "已取消            228\n",
       "撤单成功           179\n",
       "已拒收            123\n",
       "订单信息审核失败        92\n",
       "支付成功            60\n",
       "系统审核订单          20\n",
       "退款中             16\n",
       "退款失败            14\n",
       "退款审核中           11\n",
       "身份信息审核成功         1\n",
       "身份初审失败           1\n",
       "Name: 订单状态, dtype: int64"
      ]
     },
     "execution_count": 20,
     "metadata": {},
     "output_type": "execute_result"
    }
   ],
   "source": [
    "df[\"订单状态\"].value_counts()"
   ]
  },
  {
   "cell_type": "markdown",
   "metadata": {},
   "source": [
    "### 收货地址去空"
   ]
  },
  {
   "cell_type": "code",
   "execution_count": 21,
   "metadata": {},
   "outputs": [
    {
     "data": {
      "text/plain": [
       "False    911843\n",
       "Name: 收货地址, dtype: int64"
      ]
     },
     "execution_count": 21,
     "metadata": {},
     "output_type": "execute_result"
    }
   ],
   "source": [
    "df[\"收货地址\"].isnull().value_counts()\n",
    "df = df.dropna(subset=[\"收货地址\"])\n",
    "df[\"收货地址\"].isnull().value_counts()"
   ]
  },
  {
   "cell_type": "markdown",
   "metadata": {},
   "source": [
    "### 统一承运商名称"
   ]
  },
  {
   "cell_type": "code",
   "execution_count": 22,
   "metadata": {},
   "outputs": [
    {
     "data": {
      "text/plain": [
       "EMS              305750\n",
       "顺丰               197754\n",
       "韵达               155918\n",
       "京东物流              80308\n",
       "中通                20931\n",
       "圆通                20185\n",
       "宅急送               19542\n",
       "恒宇运通              18451\n",
       "邮政包裹               2453\n",
       "其他                  954\n",
       "商海德                 288\n",
       "骏飞通信专营店              14\n",
       "移宝旗舰店                12\n",
       "通港数码专营店               4\n",
       "如初数码专营店               4\n",
       "凡思特通信专营               3\n",
       "1119506065920         1\n",
       "1119505881420         1\n",
       "营业厅送货                 1\n",
       "Name: 承运商, dtype: int64"
      ]
     },
     "execution_count": 22,
     "metadata": {},
     "output_type": "execute_result"
    }
   ],
   "source": [
    "dict_carrier ={'ems':'EMS','邮政':'EMS','100000137':'圆通','ZHAIJISONG':'宅急送','jingdongwuliu':'京东物流','yunda':'韵达','shunfeng':'顺丰','EMS物流':'EMS'}\n",
    "df =df.replace(dict_carrier)\n",
    "df[\"承运商\"].value_counts()"
   ]
  },
  {
   "cell_type": "code",
   "execution_count": 23,
   "metadata": {},
   "outputs": [
    {
     "data": {
      "text/plain": [
       "0                      东风路中粮国际\n",
       "1       司马浦镇华里西村红桥路时尚贵族对面(进德楼)\n",
       "2    云南大理白族自治州大理县下关漾濞路228号极速网咖\n",
       "Name: 收货地址, dtype: object"
      ]
     },
     "execution_count": 23,
     "metadata": {},
     "output_type": "execute_result"
    }
   ],
   "source": [
    "df[\"收货地址\"][0:3]"
   ]
  },
  {
   "cell_type": "code",
   "execution_count": null,
   "metadata": {},
   "outputs": [],
   "source": [
    "df.to_csv(r\"G:\\work\\basic\\alter\\1808_info_alter_gai.csv\",index=False)"
   ]
  }
 ],
 "metadata": {
  "kernelspec": {
   "display_name": "Python 3",
   "language": "python",
   "name": "python3"
  },
  "language_info": {
   "codemirror_mode": {
    "name": "ipython",
    "version": 3
   },
   "file_extension": ".py",
   "mimetype": "text/x-python",
   "name": "python",
   "nbconvert_exporter": "python",
   "pygments_lexer": "ipython3",
   "version": "3.6.6"
  }
 },
 "nbformat": 4,
 "nbformat_minor": 2
}
