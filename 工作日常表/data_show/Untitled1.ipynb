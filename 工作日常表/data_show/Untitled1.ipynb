{
 "cells": [
  {
   "cell_type": "code",
   "execution_count": 1,
   "metadata": {},
   "outputs": [],
   "source": [
    "import pandas as pd"
   ]
  },
  {
   "cell_type": "code",
   "execution_count": 3,
   "metadata": {},
   "outputs": [
    {
     "data": {
      "text/plain": [
       "(676, 13)"
      ]
     },
     "execution_count": 3,
     "metadata": {},
     "output_type": "execute_result"
    }
   ],
   "source": [
    "data = pd.read_excel(r\"G:\\work\\daily\\DataShow\\190613\\A1_type_king_card.xlsx\",\n",
    "                     sheet_name=\"全部产品激活情况\",\n",
    "                    skiprows=2,\n",
    "                     header=0)\n",
    "data.shape"
   ]
  },
  {
   "cell_type": "code",
   "execution_count": 5,
   "metadata": {},
   "outputs": [],
   "source": [
    "data = data.drop(columns=[\"Unnamed: 0\"], axis=1)"
   ]
  },
  {
   "cell_type": "code",
   "execution_count": 7,
   "metadata": {},
   "outputs": [],
   "source": [
    "data = data.fillna(method=\"ffill\")"
   ]
  },
  {
   "cell_type": "code",
   "execution_count": 8,
   "metadata": {},
   "outputs": [
    {
     "data": {
      "text/html": [
       "<div>\n",
       "<style scoped>\n",
       "    .dataframe tbody tr th:only-of-type {\n",
       "        vertical-align: middle;\n",
       "    }\n",
       "\n",
       "    .dataframe tbody tr th {\n",
       "        vertical-align: top;\n",
       "    }\n",
       "\n",
       "    .dataframe thead th {\n",
       "        text-align: right;\n",
       "    }\n",
       "</style>\n",
       "<table border=\"1\" class=\"dataframe\">\n",
       "  <thead>\n",
       "    <tr style=\"text-align: right;\">\n",
       "      <th></th>\n",
       "      <th>产品</th>\n",
       "      <th>日期</th>\n",
       "      <th>来单量</th>\n",
       "      <th>发货量</th>\n",
       "      <th>签收量</th>\n",
       "      <th>3日激活率</th>\n",
       "      <th>7日激活率</th>\n",
       "      <th>10日激活率</th>\n",
       "      <th>15日激活率</th>\n",
       "      <th>25日激活率</th>\n",
       "      <th>截止到今日总激活率</th>\n",
       "      <th>总激活量</th>\n",
       "    </tr>\n",
       "  </thead>\n",
       "  <tbody>\n",
       "    <tr>\n",
       "      <th>0</th>\n",
       "      <td>全部产品</td>\n",
       "      <td>2019-05-01</td>\n",
       "      <td>26976.0</td>\n",
       "      <td>20697.0</td>\n",
       "      <td>15444.0</td>\n",
       "      <td>0.579698</td>\n",
       "      <td>0.666618</td>\n",
       "      <td>0.679422</td>\n",
       "      <td>0.687733</td>\n",
       "      <td>0.694545</td>\n",
       "      <td>0.694932</td>\n",
       "      <td>14383.0</td>\n",
       "    </tr>\n",
       "    <tr>\n",
       "      <th>1</th>\n",
       "      <td>全部产品</td>\n",
       "      <td>2019-05-02</td>\n",
       "      <td>22371.0</td>\n",
       "      <td>17246.0</td>\n",
       "      <td>13120.0</td>\n",
       "      <td>0.614345</td>\n",
       "      <td>0.685840</td>\n",
       "      <td>0.699872</td>\n",
       "      <td>0.707005</td>\n",
       "      <td>0.712919</td>\n",
       "      <td>0.713499</td>\n",
       "      <td>12305.0</td>\n",
       "    </tr>\n",
       "    <tr>\n",
       "      <th>2</th>\n",
       "      <td>全部产品</td>\n",
       "      <td>2019-05-03</td>\n",
       "      <td>19818.0</td>\n",
       "      <td>15287.0</td>\n",
       "      <td>11834.0</td>\n",
       "      <td>0.621966</td>\n",
       "      <td>0.694250</td>\n",
       "      <td>0.709034</td>\n",
       "      <td>0.716753</td>\n",
       "      <td>0.724276</td>\n",
       "      <td>0.724537</td>\n",
       "      <td>11076.0</td>\n",
       "    </tr>\n",
       "    <tr>\n",
       "      <th>3</th>\n",
       "      <td>全部产品</td>\n",
       "      <td>2019-05-04</td>\n",
       "      <td>20967.0</td>\n",
       "      <td>16049.0</td>\n",
       "      <td>12612.0</td>\n",
       "      <td>0.634557</td>\n",
       "      <td>0.707895</td>\n",
       "      <td>0.720419</td>\n",
       "      <td>0.727709</td>\n",
       "      <td>0.733005</td>\n",
       "      <td>0.733379</td>\n",
       "      <td>11770.0</td>\n",
       "    </tr>\n",
       "    <tr>\n",
       "      <th>4</th>\n",
       "      <td>全部产品</td>\n",
       "      <td>2019-05-05</td>\n",
       "      <td>21791.0</td>\n",
       "      <td>16570.0</td>\n",
       "      <td>13114.0</td>\n",
       "      <td>0.640495</td>\n",
       "      <td>0.711044</td>\n",
       "      <td>0.723054</td>\n",
       "      <td>0.730839</td>\n",
       "      <td>0.736874</td>\n",
       "      <td>0.737115</td>\n",
       "      <td>12214.0</td>\n",
       "    </tr>\n",
       "  </tbody>\n",
       "</table>\n",
       "</div>"
      ],
      "text/plain": [
       "     产品          日期      来单量      发货量      签收量     3日激活率     7日激活率    10日激活率  \\\n",
       "0  全部产品  2019-05-01  26976.0  20697.0  15444.0  0.579698  0.666618  0.679422   \n",
       "1  全部产品  2019-05-02  22371.0  17246.0  13120.0  0.614345  0.685840  0.699872   \n",
       "2  全部产品  2019-05-03  19818.0  15287.0  11834.0  0.621966  0.694250  0.709034   \n",
       "3  全部产品  2019-05-04  20967.0  16049.0  12612.0  0.634557  0.707895  0.720419   \n",
       "4  全部产品  2019-05-05  21791.0  16570.0  13114.0  0.640495  0.711044  0.723054   \n",
       "\n",
       "     15日激活率    25日激活率  截止到今日总激活率     总激活量  \n",
       "0  0.687733  0.694545   0.694932  14383.0  \n",
       "1  0.707005  0.712919   0.713499  12305.0  \n",
       "2  0.716753  0.724276   0.724537  11076.0  \n",
       "3  0.727709  0.733005   0.733379  11770.0  \n",
       "4  0.730839  0.736874   0.737115  12214.0  "
      ]
     },
     "execution_count": 8,
     "metadata": {},
     "output_type": "execute_result"
    }
   ],
   "source": [
    "data.head()"
   ]
  },
  {
   "cell_type": "code",
   "execution_count": 9,
   "metadata": {},
   "outputs": [],
   "source": [
    "data = data[data[\"产品\"] == \"米粉卡\"]"
   ]
  },
  {
   "cell_type": "code",
   "execution_count": 13,
   "metadata": {},
   "outputs": [
    {
     "data": {
      "text/plain": [
       "Index(['产品', '日期', '来单量', '发货量', '签收量', '3日激活率', '7日激活率', '10日激活率', '15日激活率',\n",
       "       '25日激活率', '截止到今日总激活率', '总激活量'],\n",
       "      dtype='object')"
      ]
     },
     "execution_count": 13,
     "metadata": {},
     "output_type": "execute_result"
    }
   ],
   "source": [
    "data.columns"
   ]
  },
  {
   "cell_type": "code",
   "execution_count": 14,
   "metadata": {},
   "outputs": [],
   "source": [
    "data = data[[\"日期\",\"来单量\",\"发货量\",\"总激活量\",\"3日激活率\",\"7日激活率\",\"15日激活率\"]]"
   ]
  },
  {
   "cell_type": "code",
   "execution_count": null,
   "metadata": {},
   "outputs": [],
   "source": []
  }
 ],
 "metadata": {
  "kernelspec": {
   "display_name": "Python 3",
   "language": "python",
   "name": "python3"
  },
  "language_info": {
   "codemirror_mode": {
    "name": "ipython",
    "version": 3
   },
   "file_extension": ".py",
   "mimetype": "text/x-python",
   "name": "python",
   "nbconvert_exporter": "python",
   "pygments_lexer": "ipython3",
   "version": "3.6.6"
  }
 },
 "nbformat": 4,
 "nbformat_minor": 2
}
