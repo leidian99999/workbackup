{
 "cells": [
  {
   "cell_type": "code",
   "execution_count": 1,
   "metadata": {},
   "outputs": [],
   "source": [
    "import pandas as pd\n",
    "import re"
   ]
  },
  {
   "cell_type": "code",
   "execution_count": 2,
   "metadata": {},
   "outputs": [],
   "source": [
    "date = \"1901\"\n",
    "carrier = \"ems\"\n",
    "\n",
    "inputpath = \"G:\\\\work\\\\logistica\\\\info\\\\input\\\\cha\\\\\"+date+\"cha\\\\\"\n",
    "inputname = date + \"cha_\"+carrier+\".csv\"\n",
    "outpath = \"G:\\\\work\\\\logistica\\\\info\\\\output\\\\CHA\\\\CSV\\\\\"\n",
    "outname1 = date+\"_\"+carrier+\"_LS_cha\"\n",
    "outname2 = date+\"_\"+carrier+\"_DM_cha\"\n",
    "outname3 = date+\"_\"+carrier+\"_ST_cha\""
   ]
  },
  {
   "cell_type": "code",
   "execution_count": 3,
   "metadata": {},
   "outputs": [
    {
     "name": "stderr",
     "output_type": "stream",
     "text": [
      "d:\\python\\envs\\jupyterpy36\\lib\\site-packages\\ipykernel_launcher.py:1: ParserWarning: Falling back to the 'python' engine because the 'c' engine does not support sep=None with delim_whitespace=False; you can avoid this warning by specifying engine='python'.\n",
      "  \"\"\"Entry point for launching an IPython kernel.\n"
     ]
    },
    {
     "data": {
      "text/plain": [
       "(1160687, 11)"
      ]
     },
     "execution_count": 3,
     "metadata": {},
     "output_type": "execute_result"
    }
   ],
   "source": [
    "df = pd.read_csv(inputpath + inputname,sep = None,encoding='utf8')\n",
    "df.shape"
   ]
  },
  {
   "cell_type": "code",
   "execution_count": 4,
   "metadata": {},
   "outputs": [
    {
     "data": {
      "text/html": [
       "<div>\n",
       "<style scoped>\n",
       "    .dataframe tbody tr th:only-of-type {\n",
       "        vertical-align: middle;\n",
       "    }\n",
       "\n",
       "    .dataframe tbody tr th {\n",
       "        vertical-align: top;\n",
       "    }\n",
       "\n",
       "    .dataframe thead th {\n",
       "        text-align: right;\n",
       "    }\n",
       "</style>\n",
       "<table border=\"1\" class=\"dataframe\">\n",
       "  <thead>\n",
       "    <tr style=\"text-align: right;\">\n",
       "      <th></th>\n",
       "      <th>﻿\"ORDER_ID\"</th>\n",
       "      <th>MAIL_NO</th>\n",
       "      <th>ORDER_STATUS</th>\n",
       "      <th>PROV_NAME</th>\n",
       "      <th>CITY_NAME</th>\n",
       "      <th>CHANNEL_ID</th>\n",
       "      <th>LOGISTICS_COMPANY</th>\n",
       "      <th>ROUTE_TIME</th>\n",
       "      <th>ACTION</th>\n",
       "      <th>PARTNER_ACTION</th>\n",
       "      <th>DESCRIPTION</th>\n",
       "    </tr>\n",
       "  </thead>\n",
       "  <tbody>\n",
       "    <tr>\n",
       "      <th>0</th>\n",
       "      <td>600000000000008319010199322336</td>\n",
       "      <td>1130712978717</td>\n",
       "      <td>交易完成</td>\n",
       "      <td>山东</td>\n",
       "      <td>济宁</td>\n",
       "      <td>20001.0</td>\n",
       "      <td>ems</td>\n",
       "      <td>2019-01-02 11:16:00.000000000</td>\n",
       "      <td>NaN</td>\n",
       "      <td>00</td>\n",
       "      <td>山东省分公司商企揽投部已收件（揽投员姓名：杨晓光,联系电话:17685416816）</td>\n",
       "    </tr>\n",
       "    <tr>\n",
       "      <th>1</th>\n",
       "      <td>600000000000008319010199322336</td>\n",
       "      <td>1130712978717</td>\n",
       "      <td>交易完成</td>\n",
       "      <td>山东</td>\n",
       "      <td>济宁</td>\n",
       "      <td>20001.0</td>\n",
       "      <td>ems</td>\n",
       "      <td>2019-01-02 23:09:20.000000000</td>\n",
       "      <td>NaN</td>\n",
       "      <td>40</td>\n",
       "      <td>离开济南市 发往济宁市</td>\n",
       "    </tr>\n",
       "    <tr>\n",
       "      <th>2</th>\n",
       "      <td>600000000000008319010199322336</td>\n",
       "      <td>1130712978717</td>\n",
       "      <td>交易完成</td>\n",
       "      <td>山东</td>\n",
       "      <td>济宁</td>\n",
       "      <td>20001.0</td>\n",
       "      <td>ems</td>\n",
       "      <td>2019-01-03 02:58:01.000000000</td>\n",
       "      <td>NaN</td>\n",
       "      <td>41</td>\n",
       "      <td>到达  中国邮政集团公司济宁市分公司邮区中心局邮件处理中心 处理中心</td>\n",
       "    </tr>\n",
       "    <tr>\n",
       "      <th>3</th>\n",
       "      <td>600000000000008319010199322336</td>\n",
       "      <td>1130712978717</td>\n",
       "      <td>交易完成</td>\n",
       "      <td>山东</td>\n",
       "      <td>济宁</td>\n",
       "      <td>20001.0</td>\n",
       "      <td>ems</td>\n",
       "      <td>2019-01-03 05:27:00.000000000</td>\n",
       "      <td>NaN</td>\n",
       "      <td>40</td>\n",
       "      <td>离开中国邮政集团公司济宁市分公司邮区中心局邮件处理中心 发往汶上县邮政局投递分局</td>\n",
       "    </tr>\n",
       "    <tr>\n",
       "      <th>4</th>\n",
       "      <td>600000000000008319010199322336</td>\n",
       "      <td>1130712978717</td>\n",
       "      <td>交易完成</td>\n",
       "      <td>山东</td>\n",
       "      <td>济宁</td>\n",
       "      <td>20001.0</td>\n",
       "      <td>ems</td>\n",
       "      <td>2019-01-03 08:02:00.000000000</td>\n",
       "      <td>NaN</td>\n",
       "      <td>41</td>\n",
       "      <td>到达汶上县邮政局投递分局</td>\n",
       "    </tr>\n",
       "  </tbody>\n",
       "</table>\n",
       "</div>"
      ],
      "text/plain": [
       "                      ﻿\"ORDER_ID\"        MAIL_NO ORDER_STATUS PROV_NAME  \\\n",
       "0  600000000000008319010199322336  1130712978717         交易完成        山东   \n",
       "1  600000000000008319010199322336  1130712978717         交易完成        山东   \n",
       "2  600000000000008319010199322336  1130712978717         交易完成        山东   \n",
       "3  600000000000008319010199322336  1130712978717         交易完成        山东   \n",
       "4  600000000000008319010199322336  1130712978717         交易完成        山东   \n",
       "\n",
       "  CITY_NAME  CHANNEL_ID LOGISTICS_COMPANY                     ROUTE_TIME  \\\n",
       "0        济宁     20001.0               ems  2019-01-02 11:16:00.000000000   \n",
       "1        济宁     20001.0               ems  2019-01-02 23:09:20.000000000   \n",
       "2        济宁     20001.0               ems  2019-01-03 02:58:01.000000000   \n",
       "3        济宁     20001.0               ems  2019-01-03 05:27:00.000000000   \n",
       "4        济宁     20001.0               ems  2019-01-03 08:02:00.000000000   \n",
       "\n",
       "   ACTION PARTNER_ACTION                                 DESCRIPTION  \n",
       "0     NaN             00  山东省分公司商企揽投部已收件（揽投员姓名：杨晓光,联系电话:17685416816）  \n",
       "1     NaN             40                                 离开济南市 发往济宁市  \n",
       "2     NaN             41          到达  中国邮政集团公司济宁市分公司邮区中心局邮件处理中心 处理中心  \n",
       "3     NaN             40    离开中国邮政集团公司济宁市分公司邮区中心局邮件处理中心 发往汶上县邮政局投递分局  \n",
       "4     NaN             41                                到达汶上县邮政局投递分局  "
      ]
     },
     "execution_count": 4,
     "metadata": {},
     "output_type": "execute_result"
    }
   ],
   "source": [
    "df.head()"
   ]
  },
  {
   "cell_type": "code",
   "execution_count": 5,
   "metadata": {},
   "outputs": [
    {
     "name": "stdout",
     "output_type": "stream",
     "text": [
      "40      367765\n",
      "41      309412\n",
      "50      177979\n",
      "00      136942\n",
      "10      134780\n",
      "20       29944\n",
      "离开        1991\n",
      "到达        1612\n",
      "已转         110\n",
      "正在投递        83\n",
      "已妥投         65\n",
      "已经收寄         3\n",
      "Name: PARTNER_ACTION, dtype: int64\n"
     ]
    }
   ],
   "source": [
    "print(df[\"PARTNER_ACTION\"].value_counts())"
   ]
  },
  {
   "cell_type": "code",
   "execution_count": 6,
   "metadata": {
    "scrolled": false
   },
   "outputs": [
    {
     "name": "stdout",
     "output_type": "stream",
     "text": [
      "False    1160686\n",
      "True           1\n",
      "Name: PARTNER_ACTION, dtype: int64\n"
     ]
    }
   ],
   "source": [
    "print(df[\"PARTNER_ACTION\"].isnull().value_counts())"
   ]
  },
  {
   "cell_type": "code",
   "execution_count": 7,
   "metadata": {},
   "outputs": [],
   "source": [
    "df = df.dropna(subset=[\"PARTNER_ACTION\"],axis=0)"
   ]
  },
  {
   "cell_type": "code",
   "execution_count": 8,
   "metadata": {},
   "outputs": [
    {
     "name": "stdout",
     "output_type": "stream",
     "text": [
      "False    1160686\n",
      "Name: PARTNER_ACTION, dtype: int64\n"
     ]
    }
   ],
   "source": [
    "print(df[\"PARTNER_ACTION\"].isnull().value_counts())"
   ]
  },
  {
   "cell_type": "code",
   "execution_count": null,
   "metadata": {},
   "outputs": [],
   "source": []
  },
  {
   "cell_type": "code",
   "execution_count": 9,
   "metadata": {},
   "outputs": [
    {
     "name": "stdout",
     "output_type": "stream",
     "text": [
      "40    367765\n",
      "41    309412\n",
      "50    177979\n",
      "00    136942\n",
      "10    134780\n",
      "20     29944\n",
      "Name: PARTNER_ACTION, dtype: int64\n"
     ]
    }
   ],
   "source": [
    "df = df[df[\"PARTNER_ACTION\"].str.contains(\"\\d+\",regex=True)]\n",
    "print(df[\"PARTNER_ACTION\"].value_counts())"
   ]
  },
  {
   "cell_type": "code",
   "execution_count": 15,
   "metadata": {},
   "outputs": [],
   "source": [
    "df[\"PARTNER_ACTION\"] = df[\"PARTNER_ACTION\"].map(lambda x:int(x))"
   ]
  },
  {
   "cell_type": "code",
   "execution_count": 16,
   "metadata": {},
   "outputs": [],
   "source": [
    "df1 = df[df[\"PARTNER_ACTION\"] == 50].reset_index(drop=True)"
   ]
  },
  {
   "cell_type": "code",
   "execution_count": 17,
   "metadata": {},
   "outputs": [
    {
     "data": {
      "text/plain": [
       "(177979, 11)"
      ]
     },
     "execution_count": 17,
     "metadata": {},
     "output_type": "execute_result"
    }
   ],
   "source": [
    "df1.shape"
   ]
  },
  {
   "cell_type": "code",
   "execution_count": null,
   "metadata": {},
   "outputs": [],
   "source": []
  }
 ],
 "metadata": {
  "kernelspec": {
   "display_name": "Python 3",
   "language": "python",
   "name": "python3"
  },
  "language_info": {
   "codemirror_mode": {
    "name": "ipython",
    "version": 3
   },
   "file_extension": ".py",
   "mimetype": "text/x-python",
   "name": "python",
   "nbconvert_exporter": "python",
   "pygments_lexer": "ipython3",
   "version": "3.6.6"
  }
 },
 "nbformat": 4,
 "nbformat_minor": 2
}
