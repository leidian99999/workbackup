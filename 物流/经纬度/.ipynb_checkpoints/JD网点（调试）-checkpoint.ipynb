{
 "cells": [
  {
   "cell_type": "code",
   "execution_count": 1,
   "metadata": {},
   "outputs": [],
   "source": [
    "import pandas as pd\n",
    "import requests\n",
    "from bs4 import BeautifulSoup\n",
    "import json\n",
    "import os"
   ]
  },
  {
   "cell_type": "code",
   "execution_count": 3,
   "metadata": {},
   "outputs": [],
   "source": [
    "df = pd.read_excel(r\"D:/work/logistica/stations/JDStations/yuanURL/浙江/浙江.xlsx\")"
   ]
  },
  {
   "cell_type": "code",
   "execution_count": 4,
   "metadata": {},
   "outputs": [
    {
     "data": {
      "text/plain": [
       "Index(['url'], dtype='object')"
      ]
     },
     "execution_count": 4,
     "metadata": {},
     "output_type": "execute_result"
    }
   ],
   "source": [
    "df.columns"
   ]
  },
  {
   "cell_type": "code",
   "execution_count": null,
   "metadata": {},
   "outputs": [],
   "source": [
    "urls = []\n",
    "for a in df[\"url\"]:\n",
    "    urls.append(\"http://www.jdwl.com/site/querySiteList?\" + a)"
   ]
  },
  {
   "cell_type": "code",
   "execution_count": null,
   "metadata": {},
   "outputs": [],
   "source": [
    "urls"
   ]
  },
  {
   "cell_type": "code",
   "execution_count": null,
   "metadata": {},
   "outputs": [],
   "source": [
    "list = []\n",
    "for url in urls:\n",
    "\n",
    "    request = requests.get(url)\n",
    "    soup = BeautifulSoup(request.content, \"lxml\").get_text()\n",
    "    jsonlist = json.loads(soup)\n",
    "\n",
    "    \n",
    "    for i in range(len(jsonlist)):\n",
    "        dict = {}\n",
    "        dict[\"服务类型\"] = jsonlist[i][\"siteBusinessName\"]\n",
    "        dict[\"provinceId\"] = jsonlist[i][\"provinceId\"]\n",
    "        dict[\"cityId\"] = jsonlist[i][\"cityId\"]\n",
    "        dict[\"countyId\"] = jsonlist[i][\"countyId\"]\n",
    "        dict[\"网点名称\"] = jsonlist[i][\"siteName\"]\n",
    "        if 'address' in jsonlist[i]:\n",
    "            dict[\"地址\"] = jsonlist[i][\"address\"]\n",
    "        else:\n",
    "            pass\n",
    "        if 'latitude' in jsonlist[i]:\n",
    "            dict[\"纬度\"] = jsonlist[i]['latitude']\n",
    "        else:\n",
    "            pass  \n",
    "        if 'longitude' in jsonlist[i]:\n",
    "            dict[\"经度\"] = jsonlist[i]['longitude']\n",
    "        else:\n",
    "            pass       \n",
    "        if \"telephone\" in jsonlist[i]:\n",
    "            dict[\"网点电话\"] = jsonlist[i][\"telephone\"]\n",
    "        else:\n",
    "            pass\n",
    "            \n",
    "        list.append(dict)"
   ]
  },
  {
   "cell_type": "code",
   "execution_count": null,
   "metadata": {},
   "outputs": [],
   "source": [
    "df_list = pd.DataFrame(list)"
   ]
  },
  {
   "cell_type": "code",
   "execution_count": null,
   "metadata": {},
   "outputs": [],
   "source": [
    "df_list"
   ]
  },
  {
   "cell_type": "code",
   "execution_count": null,
   "metadata": {},
   "outputs": [],
   "source": []
  }
 ],
 "metadata": {
  "kernelspec": {
   "display_name": "Python 3",
   "language": "python",
   "name": "python3"
  },
  "language_info": {
   "codemirror_mode": {
    "name": "ipython",
    "version": 3
   },
   "file_extension": ".py",
   "mimetype": "text/x-python",
   "name": "python",
   "nbconvert_exporter": "python",
   "pygments_lexer": "ipython3",
   "version": "3.5.2"
  }
 },
 "nbformat": 4,
 "nbformat_minor": 2
}
