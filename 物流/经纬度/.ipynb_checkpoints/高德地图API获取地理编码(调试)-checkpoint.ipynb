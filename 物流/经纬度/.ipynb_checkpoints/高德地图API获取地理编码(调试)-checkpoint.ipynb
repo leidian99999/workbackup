{
 "cells": [
  {
   "cell_type": "code",
   "execution_count": 1,
   "metadata": {},
   "outputs": [],
   "source": [
    " \n",
    "import pandas as pd\n",
    "import json\n",
    "from urllib.request import urlopen, quote,URLError, HTTPError\n",
    "import requests\n",
    "import time"
   ]
  },
  {
   "cell_type": "code",
   "execution_count": 2,
   "metadata": {},
   "outputs": [],
   "source": [
    "data = pd.read_csv(r\"G:\\work\\logistica\\info\\shenglist\\JD_ZJ_list.csv\")"
   ]
  },
  {
   "cell_type": "code",
   "execution_count": null,
   "metadata": {},
   "outputs": [],
   "source": [
    "df = data[[\"订单编号\",\"所在省`/`市`/`县\",\"物流单号\",\"收货地址\"]]"
   ]
  },
  {
   "cell_type": "code",
   "execution_count": null,
   "metadata": {},
   "outputs": [],
   "source": [
    "split = pd.DataFrame((x.split('/') for x in df['所在省`/`市`/`县']), index=df.index, columns=['所在省','所在市','所在县'])\n",
    "df = pd.merge(df,split,left_index=True,right_index=True)"
   ]
  },
  {
   "cell_type": "code",
   "execution_count": null,
   "metadata": {},
   "outputs": [],
   "source": [
    "df['导航地址'] = df['所在省'] + df['所在市'] + df['收货地址']\n",
    "df = df.dropna(subset=[\"导航地址\"])\n",
    "add = df['导航地址']\n"
   ]
  },
  {
   "cell_type": "code",
   "execution_count": null,
   "metadata": {},
   "outputs": [],
   "source": [
    "ak='1c2682317206ccaa18ec2487bb45d880'"
   ]
  },
  {
   "cell_type": "code",
   "execution_count": null,
   "metadata": {},
   "outputs": [],
   "source": []
  },
  {
   "cell_type": "code",
   "execution_count": null,
   "metadata": {},
   "outputs": [],
   "source": [
    "\n",
    "def getlatlng_Gaode2(address):\n",
    "    ak='1c2682317206ccaa18ec2487bb45d880'\n",
    "    url=\"http://restapi.amap.com/v3/geocode/geo?key=%s&address=%s\"%(ak,address)\n",
    "    data=requests.get(url)\n",
    "    contest=data.json()\n",
    "#     contest=contest['geocodes'][0]['location']\n",
    "    return contest\n",
    "\n"
   ]
  },
  {
   "cell_type": "code",
   "execution_count": null,
   "metadata": {},
   "outputs": [],
   "source": [
    "start_time = time.time()\n",
    "listA = []\n",
    "for b in df['导航地址']:\n",
    "    print(b)\n",
    "    dictA = {}\n",
    "    try:\n",
    "        temp=getlatlng_Gaode2(b)\n",
    "    except HTTPError as e:\n",
    "        print(\"请求出错\")\n",
    "        pass\n",
    "    else:    \n",
    "        if ('geocodes' in temp):\n",
    "            dictA[\"location\"] = temp['geocodes'][0]['location']\n",
    "            dictA[\"formatted_address\"] = temp['geocodes'][0]['formatted_address']\n",
    "            dictA[\"province\"] = temp['geocodes'][0]['province']\n",
    "            dictA[\"country\"] = temp['geocodes'][0]['country']\n",
    "            if ('citycode' in temp):\n",
    "                dictA[\"citycode\"] = temp['geocodes'][0]['citycode']\n",
    "            else:\n",
    "                pass\n",
    "            dictA[\"city\"] = temp['geocodes'][0]['city']\n",
    "            dictA[\"district\"] = temp['geocodes'][0]['district']\n",
    "            dictA[\"level\"] = temp['geocodes'][0]['level']\n",
    "            dictA[\"township\"] = temp['geocodes'][0]['township']\n",
    "            dictA[\"adcode\"] = temp['geocodes'][0]['adcode']\n",
    "            dictA[\"street\"] = temp['geocodes'][0]['street']\n",
    "            dictA[\"number\"] = temp['geocodes'][0]['number']\n",
    "        else:\n",
    "            pass\n",
    "    listA.append(dictA)\n",
    "#     time.sleep(1)\n",
    "end_time = time.time()\n",
    "print(\"总用时：\",end_time-start_time)"
   ]
  },
  {
   "cell_type": "code",
   "execution_count": null,
   "metadata": {},
   "outputs": [],
   "source": [
    "listA"
   ]
  },
  {
   "cell_type": "code",
   "execution_count": null,
   "metadata": {},
   "outputs": [],
   "source": [
    "df_A = pd.DataFrame(listA)"
   ]
  },
  {
   "cell_type": "code",
   "execution_count": null,
   "metadata": {},
   "outputs": [],
   "source": [
    "df_A.shape"
   ]
  },
  {
   "cell_type": "code",
   "execution_count": null,
   "metadata": {},
   "outputs": [],
   "source": [
    "df.shape"
   ]
  },
  {
   "cell_type": "code",
   "execution_count": null,
   "metadata": {},
   "outputs": [],
   "source": [
    "df_all = pd.concat([df,df_A],axis=1,join_axes=[df.index])"
   ]
  },
  {
   "cell_type": "code",
   "execution_count": null,
   "metadata": {},
   "outputs": [],
   "source": [
    "df_all.shape"
   ]
  },
  {
   "cell_type": "code",
   "execution_count": null,
   "metadata": {},
   "outputs": [],
   "source": [
    "df_all.columns"
   ]
  },
  {
   "cell_type": "code",
   "execution_count": null,
   "metadata": {
    "scrolled": true
   },
   "outputs": [],
   "source": [
    "df_all[\"location\"][0:10]"
   ]
  },
  {
   "cell_type": "code",
   "execution_count": null,
   "metadata": {},
   "outputs": [],
   "source": [
    "df_all['location'] = df_all['location'].map(lambda x:str(x))"
   ]
  },
  {
   "cell_type": "code",
   "execution_count": null,
   "metadata": {},
   "outputs": [],
   "source": [
    "split = pd.DataFrame((x.split(',') for x in df_all['location']), index=df_all.index, columns=['lng','lat'])\n",
    "df_allA = pd.merge(df_all,split,left_index=True,right_index=True)"
   ]
  },
  {
   "cell_type": "code",
   "execution_count": null,
   "metadata": {},
   "outputs": [],
   "source": [
    "df_allA.shape"
   ]
  },
  {
   "cell_type": "code",
   "execution_count": null,
   "metadata": {},
   "outputs": [],
   "source": [
    "outpath = \"G:\\\\work\\\\logistica\\\\stations\\\\JDStations\\\\test\\\\out\"\n",
    "name_UTF8 = \"JD_SCreceiving_lnglat_gaode.csv\"\n",
    "name_ANSI = \"JD_SCreceiving_lnglat_gaode.xlsx\""
   ]
  },
  {
   "cell_type": "code",
   "execution_count": null,
   "metadata": {},
   "outputs": [],
   "source": [
    "df_allA.to_excel(outpath + name_ANSI, index=False)\n",
    "df_allA.to_csv(outpath + name_UTF8, index=False)"
   ]
  },
  {
   "cell_type": "code",
   "execution_count": null,
   "metadata": {},
   "outputs": [],
   "source": []
  }
 ],
 "metadata": {
  "kernelspec": {
   "display_name": "Python 3",
   "language": "python",
   "name": "python3"
  },
  "language_info": {
   "codemirror_mode": {
    "name": "ipython",
    "version": 3
   },
   "file_extension": ".py",
   "mimetype": "text/x-python",
   "name": "python",
   "nbconvert_exporter": "python",
   "pygments_lexer": "ipython3",
   "version": "3.6.6"
  }
 },
 "nbformat": 4,
 "nbformat_minor": 2
}
