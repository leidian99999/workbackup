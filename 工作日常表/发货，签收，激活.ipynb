{
 "cells": [
  {
   "cell_type": "code",
   "execution_count": 2,
   "metadata": {},
   "outputs": [],
   "source": [
    "import pandas as pd\n",
    "import numpy as np"
   ]
  },
  {
   "cell_type": "code",
   "execution_count": 4,
   "metadata": {},
   "outputs": [],
   "source": [
    "data1 = pd.read_excel(r\"F:\\temp\\190529\\数据准备\\3&7日189.xlsx\")\n",
    "data2 = pd.read_excel(r\"F:\\temp\\190529\\数据准备\\3&7日前新生产线下京东下省.xlsx\")\n",
    "data3 = pd.read_excel(r\"F:\\temp\\190529\\数据准备\\首充.xlsx\", sheet_name=\"Sheet1\")\n",
    "data4 = pd.read_excel(r\"F:\\temp\\190529\\数据准备\\首充0530.xlsx\")\n",
    "data5 = pd.read_excel(r\"F:\\temp\\190529\\数据准备\\业务订单明细[20190530164757].xlsx\")\n"
   ]
  },
  {
   "cell_type": "code",
   "execution_count": 5,
   "metadata": {},
   "outputs": [],
   "source": [
    "df1 = data1.copy()\n",
    "df2 = data2.copy()\n",
    "df3 = data3.copy()\n",
    "df4 = data4.copy()\n",
    "df5 = data5.copy()"
   ]
  },
  {
   "cell_type": "code",
   "execution_count": 6,
   "metadata": {},
   "outputs": [],
   "source": [
    "def fahuo(a,b,c):\n",
    "    if a is not np.nan:\n",
    "        return 1\n",
    "    elif a is np.nan and b == \"交易完成\":\n",
    "        return 1\n",
    "    elif a is np.nan and c is not np.nan:\n",
    "        return 1\n",
    "    else:\n",
    "        return 0"
   ]
  },
  {
   "cell_type": "code",
   "execution_count": 7,
   "metadata": {},
   "outputs": [],
   "source": [
    "def qianshou(a,b):\n",
    "    if a is not np.nan:\n",
    "        return 1\n",
    "    elif a is np.nan and b == \"交易完成\":\n",
    "        return 1\n",
    "    else:\n",
    "        return 0"
   ]
  },
  {
   "cell_type": "code",
   "execution_count": 8,
   "metadata": {},
   "outputs": [],
   "source": [
    "def jihuo(x):\n",
    "    if x == \"交易完成\":\n",
    "        return 1\n",
    "    else:\n",
    "        return 0"
   ]
  },
  {
   "cell_type": "code",
   "execution_count": 9,
   "metadata": {},
   "outputs": [],
   "source": [
    "def paidan(x):\n",
    "    if x is np.nan:\n",
    "        return 0\n",
    "    else:\n",
    "        return 1"
   ]
  },
  {
   "cell_type": "code",
   "execution_count": 10,
   "metadata": {},
   "outputs": [],
   "source": [
    "df1 = df1[(True ^ df1['订单状态'].isin(['办理成功', '办理中', '办理失败']))]\n",
    "df1 = df1[pd.notnull(df1['所在省 / 市 / 县'])]\n",
    "df1 = df1[df1[\"订单编号\"].str.contains('订单编号') == False]\n",
    "split1 = pd.DataFrame(\n",
    "    (x.split(' ') for x in df1['订单生成时间']),\n",
    "    index=df1.index,\n",
    "    columns=[\n",
    "        '订单生成日期',\n",
    "        '订单生成小时'])\n",
    "df1 = pd.merge(df1, split1, left_index=True, right_index=True)"
   ]
  },
  {
   "cell_type": "code",
   "execution_count": 11,
   "metadata": {},
   "outputs": [],
   "source": [
    "df2 = df2[df2[\"模式分类\"] == \"京东模式\"]\n",
    "df2 = df2[pd.notnull(df2['是否下省'])]"
   ]
  },
  {
   "cell_type": "code",
   "execution_count": 12,
   "metadata": {},
   "outputs": [],
   "source": [
    "df34 = pd.concat([df3, df4])\n",
    "df34 = df34.drop_duplicates(subset=['用户名'], keep='first')\n",
    "df34 = df34[df34[\"订单编号\"].str.contains('订单编号') == False]\n",
    "df34['用户名'] = df34['用户名'].map(lambda x: round(x, 0))"
   ]
  },
  {
   "cell_type": "code",
   "execution_count": 13,
   "metadata": {},
   "outputs": [],
   "source": [
    "df51 = df5[[\"运营商单号\", \"物流单号\"]]\n",
    "df52 = df5[[\"运营商单号\", \"APP操作时间\"]]\n",
    "df51 = df51[pd.notnull(df51['物流单号'])]\n",
    "df52 = df52[pd.notnull(df52['APP操作时间'])]"
   ]
  },
  {
   "cell_type": "code",
   "execution_count": 14,
   "metadata": {},
   "outputs": [],
   "source": [
    "df11 = pd.merge(df1, df2[[\"订单编号\", \"模式分类\", \"是否下省\"]],\n",
    "                left_on=\"订单编号\", right_on=\"订单编号\", how=\"left\")\n",
    "df11 = pd.merge(df11, df51, left_on=\"订单编号\", right_on=\"运营商单号\", how=\"left\")\n",
    "df11 = pd.merge(df11, df52, left_on=\"订单编号\", right_on=\"运营商单号\", how=\"left\")\n",
    "df11['入网手机号'] = df11['入网手机号'].apply(int)\n",
    "df11 = pd.merge(df11, df34[['订单编号', '用户名']],\n",
    "                left_on=\"入网手机号\", right_on=\"用户名\", how=\"left\")\n"
   ]
  },
  {
   "cell_type": "code",
   "execution_count": 16,
   "metadata": {},
   "outputs": [],
   "source": [
    "df11['派单'] = df11[\"是否下省\"].apply(paidan)\n",
    "df11['派卡'] = df11[\"物流单号_y\"].apply(paidan)\n",
    "df11['上门'] = df11[\"APP操作时间\"].apply(paidan)\n",
    "df11['首充'] = df11[\"订单编号_y\"].apply(paidan)"
   ]
  },
  {
   "cell_type": "code",
   "execution_count": 22,
   "metadata": {},
   "outputs": [
    {
     "name": "stdout",
     "output_type": "stream",
     "text": [
      "Index(['订单编号_x', '原始订单', '订单类型', '订单状态', '订单子状态', '取消原因', '订单挂起原因', '安装失败原因',\n",
      "       '订单来源', '结算状态',\n",
      "       ...\n",
      "       '运营商单号_x', '物流单号_y', '运营商单号_y', 'APP操作时间', '订单编号_y', '用户名_y', '派单',\n",
      "       '派卡', '上门', '首充'],\n",
      "      dtype='object', length=124)\n"
     ]
    }
   ],
   "source": [
    "print(df11.columns)"
   ]
  },
  {
   "cell_type": "code",
   "execution_count": 19,
   "metadata": {},
   "outputs": [],
   "source": [
    "df11['发货量'] = df11.apply(lambda x: fahuo(x[\"物流单号_x\"], x[\"订单状态\"], x[\"物流签收时间\"]), axis=1)"
   ]
  },
  {
   "cell_type": "code",
   "execution_count": 20,
   "metadata": {},
   "outputs": [],
   "source": [
    "df11['签收量'] = df11.apply(lambda x: qianshou(x[\"物流签收时间\"], x[\"订单状态\"]), axis=1)"
   ]
  },
  {
   "cell_type": "code",
   "execution_count": 21,
   "metadata": {},
   "outputs": [],
   "source": [
    "df11['激活量'] = df11[\"订单状态\"].apply(jihuo)"
   ]
  },
  {
   "cell_type": "code",
   "execution_count": 23,
   "metadata": {},
   "outputs": [],
   "source": [
    "df11.to_excel(r\"F:\\temp\\190529\\数据准备\\test3.xlsx\", index=False)\n"
   ]
  },
  {
   "cell_type": "code",
   "execution_count": null,
   "metadata": {},
   "outputs": [],
   "source": []
  }
 ],
 "metadata": {
  "kernelspec": {
   "display_name": "Python 3",
   "language": "python",
   "name": "python3"
  },
  "language_info": {
   "codemirror_mode": {
    "name": "ipython",
    "version": 3
   },
   "file_extension": ".py",
   "mimetype": "text/x-python",
   "name": "python",
   "nbconvert_exporter": "python",
   "pygments_lexer": "ipython3",
   "version": "3.6.6"
  }
 },
 "nbformat": 4,
 "nbformat_minor": 2
}
