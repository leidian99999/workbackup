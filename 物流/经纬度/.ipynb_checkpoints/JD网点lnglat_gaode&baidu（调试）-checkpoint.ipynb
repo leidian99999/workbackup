{
 "cells": [
  {
   "cell_type": "code",
   "execution_count": null,
   "metadata": {},
   "outputs": [],
   "source": [
    "import pandas as pd\n",
    "import requests\n",
    "from bs4 import BeautifulSoup\n",
    "import json\n",
    "import os\n",
    "from urllib.request import urlopen, quote,URLError, HTTPError\n",
    "import time"
   ]
  },
  {
   "cell_type": "code",
   "execution_count": null,
   "metadata": {},
   "outputs": [],
   "source": [
    "# 导入数据\n",
    "df = pd.read_excel(r\"G:\\\\work\\\\logistica\\\\stations\\\\JDStations\\\\yuanURL\\\\浙江/浙江.xlsx\")\n",
    "data_city = pd.read_excel(r\"G:\\work\\logistica\\stations\\JDStations\\stations\\zhejiangcityID.xlsx\")\n",
    "province = \"浙江省\""
   ]
  },
  {
   "cell_type": "code",
   "execution_count": null,
   "metadata": {},
   "outputs": [],
   "source": [
    "# 导出数据路径\n",
    "outpath = \"G:\\\\work\\\\logistica\\\\stations\\\\JDStations\\\\stations\\\\website\\\\\"\n",
    "name_ANSI = \"JDstations_zhejiang_gaode.xlsx\""
   ]
  },
  {
   "cell_type": "code",
   "execution_count": null,
   "metadata": {},
   "outputs": [],
   "source": [
    "# 建立url池\n",
    "urls = []\n",
    "for a in df[\"url\"]:\n",
    "    urls.append(\"http://www.jdwl.com/site/querySiteList?\" + a)\n",
    "\n",
    "print(urls[0:3])"
   ]
  },
  {
   "cell_type": "code",
   "execution_count": null,
   "metadata": {},
   "outputs": [],
   "source": [
    "# 遍历获取JD官网网点信息\n",
    "def get_JD_siteInfo(urls):\n",
    "    JD_siteList = []\n",
    "    for url in urls:\n",
    "        request = requests.get(url)\n",
    "        soup = BeautifulSoup(request.content, \"lxml\").get_text()\n",
    "        jsonlist = json.loads(soup)\n",
    "        for i in range(len(jsonlist)):\n",
    "            JD_siteDict = {}\n",
    "            JD_siteDict[\"JD_siteBusinessName\"] = jsonlist[i][\"siteBusinessName\"]\n",
    "            JD_siteDict[\"JD_siteProvinceId\"] = jsonlist[i][\"provinceId\"]\n",
    "            JD_siteDict[\"JD_siteCityId\"] = jsonlist[i][\"cityId\"]\n",
    "            JD_siteDict[\"JD_siteCountyId\"] = jsonlist[i][\"countyId\"]\n",
    "            JD_siteDict[\"siteName\"] = jsonlist[i][\"siteName\"]\n",
    "            if 'address' in jsonlist[i]:\n",
    "                JD_siteDict[\"JD_siteAddress\"] = jsonlist[i][\"address\"]\n",
    "            else:\n",
    "                pass\n",
    "            if 'latitude' in jsonlist[i]:\n",
    "                JD_siteDict[\"JD_siteLatitude\"] = jsonlist[i]['latitude']\n",
    "            else:\n",
    "                pass  \n",
    "            if 'longitude' in jsonlist[i]:\n",
    "                JD_siteDict[\"JD_siteLongitude\"] = jsonlist[i]['longitude']\n",
    "            else:\n",
    "                pass       \n",
    "            if \"telephone\" in jsonlist[i]:\n",
    "                JD_siteDict[\"JD_siteTelephone\"] = jsonlist[i][\"telephone\"]\n",
    "            else:\n",
    "                pass\n",
    "            JD_siteList.append(JD_siteDict)\n",
    "            return JD_siteList\n",
    "df_JD_siteInfo = pd.DataFrame(get_JD_siteInfo(urls))"
   ]
  },
  {
   "cell_type": "code",
   "execution_count": null,
   "metadata": {},
   "outputs": [],
   "source": [
    "# 去除空白地址所在行\n",
    "print(df_JD_siteInfo['JD_siteAddress'].isnull().value_counts())\n",
    "df_JD_siteInfo = df_JD_siteInfo.dropna(subset=[\"JD_siteAddress\"])\n",
    "print(df_JD_siteInfo['JD_siteAddress'].isnull().value_counts())"
   ]
  },
  {
   "cell_type": "code",
   "execution_count": null,
   "metadata": {},
   "outputs": [],
   "source": [
    "print(data.columns)\n",
    "print(\"*\"*30)\n",
    "print(data_city.columns)"
   ]
  },
  {
   "cell_type": "code",
   "execution_count": null,
   "metadata": {},
   "outputs": [],
   "source": []
  },
  {
   "cell_type": "code",
   "execution_count": null,
   "metadata": {},
   "outputs": [],
   "source": []
  },
  {
   "cell_type": "code",
   "execution_count": null,
   "metadata": {},
   "outputs": [],
   "source": []
  },
  {
   "cell_type": "code",
   "execution_count": null,
   "metadata": {},
   "outputs": [],
   "source": []
  },
  {
   "cell_type": "code",
   "execution_count": null,
   "metadata": {},
   "outputs": [],
   "source": []
  },
  {
   "cell_type": "code",
   "execution_count": null,
   "metadata": {},
   "outputs": [],
   "source": []
  },
  {
   "cell_type": "code",
   "execution_count": null,
   "metadata": {},
   "outputs": [],
   "source": []
  },
  {
   "cell_type": "code",
   "execution_count": null,
   "metadata": {},
   "outputs": [],
   "source": []
  },
  {
   "cell_type": "code",
   "execution_count": null,
   "metadata": {},
   "outputs": [],
   "source": []
  },
  {
   "cell_type": "code",
   "execution_count": null,
   "metadata": {},
   "outputs": [],
   "source": []
  },
  {
   "cell_type": "code",
   "execution_count": null,
   "metadata": {},
   "outputs": [],
   "source": []
  },
  {
   "cell_type": "code",
   "execution_count": null,
   "metadata": {},
   "outputs": [],
   "source": []
  },
  {
   "cell_type": "code",
   "execution_count": null,
   "metadata": {},
   "outputs": [],
   "source": []
  }
 ],
 "metadata": {
  "kernelspec": {
   "display_name": "Python 3",
   "language": "python",
   "name": "python3"
  },
  "language_info": {
   "codemirror_mode": {
    "name": "ipython",
    "version": 3
   },
   "file_extension": ".py",
   "mimetype": "text/x-python",
   "name": "python",
   "nbconvert_exporter": "python",
   "pygments_lexer": "ipython3",
   "version": "3.5.2"
  }
 },
 "nbformat": 4,
 "nbformat_minor": 2
}
