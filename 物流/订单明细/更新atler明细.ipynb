{
 "cells": [
  {
   "cell_type": "code",
   "execution_count": 1,
   "metadata": {},
   "outputs": [],
   "source": [
    "import pandas as pd"
   ]
  },
  {
   "cell_type": "code",
   "execution_count": 2,
   "metadata": {
    "scrolled": false
   },
   "outputs": [
    {
     "name": "stderr",
     "output_type": "stream",
     "text": [
      "d:\\python\\envs\\jupyterpy36\\lib\\site-packages\\ipykernel_launcher.py:1: ParserWarning: Falling back to the 'python' engine because the 'c' engine does not support sep=None with delim_whitespace=False; you can avoid this warning by specifying engine='python'.\n",
      "  \"\"\"Entry point for launching an IPython kernel.\n"
     ]
    }
   ],
   "source": [
    "data = pd.read_csv(r\"G:\\work\\basic\\csv\\1806_info_p3.csv\",sep = None,encoding='utf8')"
   ]
  },
  {
   "cell_type": "code",
   "execution_count": 3,
   "metadata": {
    "scrolled": true
   },
   "outputs": [
    {
     "data": {
      "text/plain": [
       "Index(['Unnamed: 0', '订单编号', '原始订单', '订单类型', '订单状态', '订单子状态', '取消原因', '订单挂起原因',\n",
       "       '安装失败原因', '订单来源', '结算状态', '支付平台', '机价款', '店铺', 'AB类型', '拆单类型', '制式类型',\n",
       "       '订单金额', '支付方式', '支付流水号', '收取卡密号码', '订单生成时间', '支付完成时间', '交易完成时间', '发货时间',\n",
       "       '物流单回填时间', '用户名', 'QQ号', '入网用户姓名', '入网身份证号', '入网手机号', '联系人电话号码',\n",
       "       'ICCID', '联系住址', '收货人姓名', '收货地址', '收货人电话号码', '收货人邮箱', '邮编',\n",
       "       '所在省 / 市 / 县', '入网人所在省/市/县', '号码归属地', '配送方式', '营业厅地址', '配送时间', '优惠劵',\n",
       "       '优惠券编码', 'F码', 'F码名称', '产品推荐人', 'CPS推荐人', '订单备注', '物流单号', '物流签收时间',\n",
       "       '承运商', '是否上传签收证明项', '预存款发票类别', '物品费发票抬头', '物品费抬头名称', '发票内容', '企业税号',\n",
       "       '用户留言', '大小卡类型', '写卡渠道', '卡号', '串号', '销售品编号', '销售品名称', '销售品类型', '销售品数量',\n",
       "       '销售品价格', '合作商', '实际分账金额', '套餐', '主号码', '副号码', '现金预存款', '可选包', '合约补贴',\n",
       "       '其他', '靓号低消', '靓号等级', '靓号预存款', '营业厅送货方式', '是否线下模式', '是否线下转线上',\n",
       "       '线下转线上原因', '营业厅送货iccid', '身份证图片1', '身份证图片2', '身份证图片3', '身份证图片4',\n",
       "       '实名信息复核中时间', '销售品文本步骤名称', '用户选择的步骤内容'],\n",
       "      dtype='object')"
      ]
     },
     "execution_count": 3,
     "metadata": {},
     "output_type": "execute_result"
    }
   ],
   "source": [
    "data.columns"
   ]
  },
  {
   "cell_type": "code",
   "execution_count": 4,
   "metadata": {},
   "outputs": [
    {
     "data": {
      "text/plain": [
       "(480015, 95)"
      ]
     },
     "execution_count": 4,
     "metadata": {},
     "output_type": "execute_result"
    }
   ],
   "source": [
    "data.shape"
   ]
  },
  {
   "cell_type": "markdown",
   "metadata": {},
   "source": [
    "### 删除合表表头"
   ]
  },
  {
   "cell_type": "code",
   "execution_count": 5,
   "metadata": {},
   "outputs": [],
   "source": [
    "data = data[data[\"号码归属地\"].str.contains('号码归属地') == False]"
   ]
  },
  {
   "cell_type": "code",
   "execution_count": 6,
   "metadata": {},
   "outputs": [
    {
     "data": {
      "text/plain": [
       "(480000, 95)"
      ]
     },
     "execution_count": 6,
     "metadata": {},
     "output_type": "execute_result"
    }
   ],
   "source": [
    "data.shape"
   ]
  },
  {
   "cell_type": "code",
   "execution_count": 7,
   "metadata": {},
   "outputs": [],
   "source": [
    "df = data[[ '订单编号', '订单状态','订单子状态', '订单挂起原因', '安装失败原因', '订单来源', '店铺', '订单金额',\n",
    "       '订单生成时间', '交易完成时间', '发货时间', '物流单回填时间', '入网用户姓名', '入网身份证号', '入网手机号',\n",
    "       '收货人姓名', '收货地址', '收货人电话号码', '邮编', '所在省 / 市 / 县', '号码归属地', 'CPS推荐人',\n",
    "       '订单备注', '物流单号', '物流签收时间', '承运商', '大小卡类型', '写卡渠道', '销售品编号', '销售品名称',\n",
    "       '销售品类型', '套餐', '主号码', '副号码', '现金预存款', '靓号低消', '靓号等级', '靓号预存款',\n",
    "       '营业厅送货方式', '是否线下模式', '是否线下转线上', '线下转线上原因', '营业厅送货iccid']]#,'京东不可达原因'"
   ]
  },
  {
   "cell_type": "code",
   "execution_count": 8,
   "metadata": {},
   "outputs": [
    {
     "data": {
      "text/plain": [
       "(480000, 43)"
      ]
     },
     "execution_count": 8,
     "metadata": {},
     "output_type": "execute_result"
    }
   ],
   "source": [
    "df.shape"
   ]
  },
  {
   "cell_type": "markdown",
   "metadata": {},
   "source": [
    "### 所在省/市/县/=\"//\"的删除"
   ]
  },
  {
   "cell_type": "code",
   "execution_count": 9,
   "metadata": {
    "scrolled": true
   },
   "outputs": [
    {
     "data": {
      "text/plain": [
       "//                        44905\n",
       "广东/深圳市/宝安区                 4914\n",
       "北京/北京市/海淀区                 4624\n",
       "北京/北京市/朝阳区                 4468\n",
       "广东/广州市/白云区                 3462\n",
       "上海/上海市/浦东新区                2914\n",
       "广东/深圳市/龙岗区                 2838\n",
       "广东/东莞市/东莞市                 2788\n",
       "广东/广州市/天河区                 2618\n",
       "广东/佛山市/南海区                 2555\n",
       "北京/北京市/昌平区                 2231\n",
       "广东/广州市/番禺区                 2202\n",
       "广东/佛山市/顺德区                 1903\n",
       "湖北/武汉市/洪山区                 1901\n",
       "北京/北京市/大兴区                 1898\n",
       "广东/深圳市/龙华新区                1869\n",
       "北京/北京市/丰台区                 1840\n",
       "广东/惠州市/惠城区                 1812\n",
       "北京/北京市/通州区                 1640\n",
       "湖南/长沙市/岳麓区                 1549\n",
       "陕西/西安市/雁塔区                 1503\n",
       "广东/广州市/海珠区                 1399\n",
       "广东/深圳市/南山区                 1374\n",
       "陕西/西安市/未央区                 1284\n",
       "上海/上海市/闵行区                 1278\n",
       "广东/广州市/花都区                 1244\n",
       "广东/广州市/黄埔区                 1190\n",
       "江苏/苏州市/昆山市                 1185\n",
       "湖北/武汉市/江夏区                 1111\n",
       "贵州/六盘水市/六枝特区               1079\n",
       "                          ...  \n",
       "甘肃省/兰州市/西固区                   1\n",
       "安徽省/滁州市/凤阳县                   1\n",
       "海南/三沙市/西沙群岛                   1\n",
       "山东省/潍坊市/临朐县                   1\n",
       "贵州省/黔东南苗族侗族自治州/台江县            1\n",
       "内蒙古自治区/赤峰市/敖汉旗                1\n",
       "黑龙江省/齐齐哈尔市/克东县                1\n",
       "广东省/韶关市/翁源县                   1\n",
       "江苏省/宿迁市/宿城区                   1\n",
       "新疆维吾尔自治区/博尔塔拉蒙古自治州/博乐市        1\n",
       "安徽省/芜湖市/无为县                   1\n",
       "广西壮族自治区/柳州市/柳南区               1\n",
       "河北省/唐山市/古冶区                   1\n",
       "安徽省/合肥市/其它区                   1\n",
       "河北省/秦皇岛市/抚宁区                  1\n",
       "四川省/内江市/资中县                   1\n",
       "云南省/曲靖市/富源县                   1\n",
       "新疆维吾尔自治区/吐鲁番市/高昌区             1\n",
       "河北省/保定市/唐县                    1\n",
       "江西省/上饶市/弋阳县                   1\n",
       "内蒙古自治区/乌兰察布市/商都县              1\n",
       "云南省/玉溪市/澄江县                   1\n",
       "广东省/阳江市/阳东区                   1\n",
       "浙江省/衢州市/柯城区                   1\n",
       "河北省/沧州市/肃宁县                   1\n",
       "贵州省/黔西南布依族苗族自治州/兴仁县           1\n",
       "江苏省/常州市/金坛区                   1\n",
       "江西省/鹰潭市/月湖区                   1\n",
       "四川省/广元市/利州区                   1\n",
       "青海/玉树藏族自治州/囊谦县                1\n",
       "Name: 所在省 / 市 / 县, Length: 4914, dtype: int64"
      ]
     },
     "execution_count": 9,
     "metadata": {},
     "output_type": "execute_result"
    }
   ],
   "source": [
    "df[\"所在省 / 市 / 县\"].value_counts()"
   ]
  },
  {
   "cell_type": "code",
   "execution_count": 10,
   "metadata": {},
   "outputs": [],
   "source": [
    "# 去“//”\n",
    "df = df[df[\"所在省 / 市 / 县\"].str.contains(\"^//$\",regex=True) == False]"
   ]
  },
  {
   "cell_type": "code",
   "execution_count": 11,
   "metadata": {
    "scrolled": true
   },
   "outputs": [
    {
     "data": {
      "text/plain": [
       "广东/深圳市/宝安区              4914\n",
       "北京/北京市/海淀区              4624\n",
       "北京/北京市/朝阳区              4468\n",
       "广东/广州市/白云区              3462\n",
       "上海/上海市/浦东新区             2914\n",
       "广东/深圳市/龙岗区              2838\n",
       "广东/东莞市/东莞市              2788\n",
       "广东/广州市/天河区              2618\n",
       "广东/佛山市/南海区              2555\n",
       "北京/北京市/昌平区              2231\n",
       "广东/广州市/番禺区              2202\n",
       "广东/佛山市/顺德区              1903\n",
       "湖北/武汉市/洪山区              1901\n",
       "北京/北京市/大兴区              1898\n",
       "广东/深圳市/龙华新区             1869\n",
       "北京/北京市/丰台区              1840\n",
       "广东/惠州市/惠城区              1812\n",
       "北京/北京市/通州区              1640\n",
       "湖南/长沙市/岳麓区              1549\n",
       "陕西/西安市/雁塔区              1503\n",
       "广东/广州市/海珠区              1399\n",
       "广东/深圳市/南山区              1374\n",
       "陕西/西安市/未央区              1284\n",
       "上海/上海市/闵行区              1278\n",
       "广东/广州市/花都区              1244\n",
       "广东/广州市/黄埔区              1190\n",
       "江苏/苏州市/昆山市              1185\n",
       "湖北/武汉市/江夏区              1111\n",
       "贵州/六盘水市/六枝特区            1079\n",
       "广东/深圳市/福田区              1066\n",
       "                        ... \n",
       "湖北省/荆州市/荆州区                1\n",
       "海南/保亭黎族自治县/南林乡             1\n",
       "黑龙江省/哈尔滨市/尚志市              1\n",
       "海南/乐东黎族自治县/千家镇             1\n",
       "四川省/广元市/剑阁县                1\n",
       "四川省/广元市/利州区                1\n",
       "江苏省/盐城市/盐都区                1\n",
       "海南省/文昌市/                   1\n",
       "河南/新乡市/北站区                 1\n",
       "海南/琼中黎族自治县/阳江农场            1\n",
       "海南/陵水黎族自治县/南平镇             1\n",
       "山西省/长治市/沁源县                1\n",
       "新疆维吾尔自治区/乌鲁木齐市/沙依巴克区       1\n",
       "广西壮族自治区/钦州市/钦北区            1\n",
       "广西壮族自治区/河池市/巴马瑶族自治县        1\n",
       "江苏省/无锡市/惠山区                1\n",
       "江西省/宜春市/袁州区                1\n",
       "江苏省/泰州市/泰兴市                1\n",
       "海南/东方市/东河镇                 1\n",
       "湖北省/武汉市/新洲区                1\n",
       "云南省/普洱市/澜沧拉祜族自治县           1\n",
       "广西壮族自治区/柳州市/柳南区            1\n",
       "湖北/仙桃市/沔城镇                 1\n",
       "内蒙古自治区/乌兰察布市/集宁区           1\n",
       "重庆/重庆市/荣昌区                 1\n",
       "甘肃省/陇南市/礼县                 1\n",
       "河北省/唐山市/古冶区                1\n",
       "湖北省/随州市/曾都区                1\n",
       "河北省/秦皇岛市/北戴河区              1\n",
       "山东省/泰安市/宁阳县                1\n",
       "Name: 所在省 / 市 / 县, Length: 4913, dtype: int64"
      ]
     },
     "execution_count": 11,
     "metadata": {},
     "output_type": "execute_result"
    }
   ],
   "source": [
    "df[\"所在省 / 市 / 县\"].value_counts()"
   ]
  },
  {
   "cell_type": "markdown",
   "metadata": {},
   "source": [
    "### 统一所在省"
   ]
  },
  {
   "cell_type": "code",
   "execution_count": 12,
   "metadata": {},
   "outputs": [],
   "source": [
    "split = pd.DataFrame((x.split('/') for x in df['所在省 / 市 / 县']), index=df.index, columns=['所在省','所在市','所在县'])\n",
    "df = pd.merge(df,split,left_index=True,right_index=True)"
   ]
  },
  {
   "cell_type": "code",
   "execution_count": 13,
   "metadata": {},
   "outputs": [],
   "source": [
    "# 统一所在省\n",
    "dict_province = {'焦作市':'河南','河南省':'河南','河北省':'河北','贵州省':'贵州','湖南省':'湖南','广东省':'广东','江苏省':'江苏','山西省':'山西',\n",
    "    '吉林省':'吉林','山东省':'山东','广西壮族自治区':'广西','湖北省':'湖北','陕西省':'陕西','浙江省':'浙江','福建省':'福建',\n",
    "    '内蒙古自治区':'内蒙古','云南省':'云南','辽宁省':'辽宁','江西省':'江西','四川省':'四川','黑龙江省':'黑龙江','安徽省':'安徽',\n",
    "    '甘肃省':'甘肃','西藏自治区':'西藏','青海省':'青海','宁夏回族自治区':'宁夏',\n",
    "    '海南省':'海南','六安市':'安徽','东莞市':'广东','新疆维吾尔自治区':'新疆'}\n",
    "df = df.replace(dict_province)"
   ]
  },
  {
   "cell_type": "code",
   "execution_count": 14,
   "metadata": {},
   "outputs": [
    {
     "data": {
      "text/plain": [
       "广东     78837\n",
       "山东     30002\n",
       "河北     22977\n",
       "湖南     22760\n",
       "河南     22661\n",
       "贵州     22539\n",
       "北京     21789\n",
       "江苏     20021\n",
       "浙江     19153\n",
       "湖北     19081\n",
       "陕西     14594\n",
       "四川     14388\n",
       "云南     14210\n",
       "上海     12229\n",
       "广西     11661\n",
       "辽宁      9699\n",
       "安徽      8918\n",
       "山西      8593\n",
       "福建      7494\n",
       "江西      7422\n",
       "吉林      6898\n",
       "黑龙江     6625\n",
       "重庆      6460\n",
       "内蒙古     6133\n",
       "甘肃      6077\n",
       "天津      4219\n",
       "新疆      2806\n",
       "宁夏      2794\n",
       "海南      2100\n",
       "青海      1331\n",
       "西藏       624\n",
       "Name: 所在省, dtype: int64"
      ]
     },
     "execution_count": 14,
     "metadata": {},
     "output_type": "execute_result"
    }
   ],
   "source": [
    "df[\"所在省\"].value_counts()"
   ]
  },
  {
   "cell_type": "markdown",
   "metadata": {},
   "source": [
    "### 号码归属地=\"/\"的删除"
   ]
  },
  {
   "cell_type": "code",
   "execution_count": 15,
   "metadata": {},
   "outputs": [
    {
     "data": {
      "text/plain": [
       "北京/市辖区                  24949\n",
       "广东省/广州市                 16657\n",
       "广东省/深圳市                 14584\n",
       "上海市/市辖区                 12331\n",
       "广东省/东莞市                  9899\n",
       "湖北省/武汉市                  8492\n",
       "陕西省/西安市                  7073\n",
       "重庆市/市辖区                  6709\n",
       "四川省/成都市                  6442\n",
       "贵州省/贵阳市                  5572\n",
       "广东省/佛山市                  5546\n",
       "湖南省/长沙市                  5375\n",
       "河南省/郑州市                  5171\n",
       "浙江省/杭州市                  4926\n",
       "江苏省/苏州市                  4744\n",
       "河北省/石家庄市                 4567\n",
       "云南省/昆明市                  4411\n",
       "天津市/市辖区                  4313\n",
       "贵州省/遵义市                  4179\n",
       "广东省/惠州市                  3961\n",
       "山东省/青岛市                  3693\n",
       "山东省/济南市                  3383\n",
       "辽宁省/沈阳市                  3240\n",
       "江苏省/南京市                  3206\n",
       "广东省/中山市                  3126\n",
       "吉林省/长春市                  3113\n",
       "黑龙江省/哈尔滨市                3032\n",
       "湖南省/衡阳市                  2929\n",
       "山东省/潍坊市                  2856\n",
       "河北省/保定市                  2762\n",
       "                        ...  \n",
       "新疆维吾尔自治区/石河子市             115\n",
       "西藏自治区/日喀则地区               110\n",
       "四川省/阿坝藏族羌族自治州             109\n",
       "四川省/甘孜藏族自治州               109\n",
       "云南省/怒江傈僳族自治州              108\n",
       "新疆维吾尔自治区/哈密地区              97\n",
       "河南省/济源市                    88\n",
       "内蒙古自治区/阿拉善盟                84\n",
       "甘肃省/嘉峪关市                   83\n",
       "青海省/海南藏族自治州                70\n",
       "新疆维吾尔自治区/博尔塔拉蒙古自治州         67\n",
       "云南省/迪庆藏族自治州                62\n",
       "新疆维吾尔自治区/阿勒泰地区             60\n",
       "黑龙江省/大兴安岭地区                57\n",
       "青海省/海北藏族自治州                57\n",
       "新疆维吾尔自治区/克拉玛依市             57\n",
       "西藏自治区/林芝地区                 55\n",
       "青海省/玉树藏族自治州                51\n",
       "新疆维吾尔自治区/吐鲁番地区             51\n",
       "西藏自治区/山南地区                 47\n",
       "青海省/黄南藏族自治州                46\n",
       "西藏自治区/昌都地区                 39\n",
       "新疆维吾尔自治区/克孜勒苏柯尔克孜自治州       36\n",
       "青海省/格尔木市                   30\n",
       "青海省/果洛藏族自治州                28\n",
       "湖北省/林区（神农架）                23\n",
       "新疆维吾尔自治区/奎屯市               19\n",
       "西藏自治区/那曲地区                 15\n",
       "西藏自治区/阿里地区                 13\n",
       "湖北省/省直辖县级行政区划               8\n",
       "Name: 号码归属地, Length: 344, dtype: int64"
      ]
     },
     "execution_count": 15,
     "metadata": {},
     "output_type": "execute_result"
    }
   ],
   "source": [
    "df[\"号码归属地\"].value_counts()"
   ]
  },
  {
   "cell_type": "code",
   "execution_count": 16,
   "metadata": {},
   "outputs": [],
   "source": [
    "df = df[df[\"号码归属地\"].str.contains(\"^/$\",regex=True) == False]"
   ]
  },
  {
   "cell_type": "code",
   "execution_count": 17,
   "metadata": {},
   "outputs": [],
   "source": [
    "split1 = pd.DataFrame((x.split('/') for x in df['号码归属地']), index=df.index, columns=['号码归属省','号码归属市'])\n",
    "df = pd.merge(df,split1,left_index=True,right_index=True)"
   ]
  },
  {
   "cell_type": "code",
   "execution_count": 18,
   "metadata": {},
   "outputs": [
    {
     "data": {
      "text/plain": [
       "北京/市辖区                  24949\n",
       "广东省/广州市                 16657\n",
       "广东省/深圳市                 14584\n",
       "上海市/市辖区                 12331\n",
       "广东省/东莞市                  9899\n",
       "湖北省/武汉市                  8492\n",
       "陕西省/西安市                  7073\n",
       "重庆市/市辖区                  6709\n",
       "四川省/成都市                  6442\n",
       "贵州省/贵阳市                  5572\n",
       "广东省/佛山市                  5546\n",
       "湖南省/长沙市                  5375\n",
       "河南省/郑州市                  5171\n",
       "浙江省/杭州市                  4926\n",
       "江苏省/苏州市                  4744\n",
       "河北省/石家庄市                 4567\n",
       "云南省/昆明市                  4411\n",
       "天津市/市辖区                  4313\n",
       "贵州省/遵义市                  4179\n",
       "广东省/惠州市                  3961\n",
       "山东省/青岛市                  3693\n",
       "山东省/济南市                  3383\n",
       "辽宁省/沈阳市                  3240\n",
       "江苏省/南京市                  3206\n",
       "广东省/中山市                  3126\n",
       "吉林省/长春市                  3113\n",
       "黑龙江省/哈尔滨市                3032\n",
       "湖南省/衡阳市                  2929\n",
       "山东省/潍坊市                  2856\n",
       "河北省/保定市                  2762\n",
       "                        ...  \n",
       "新疆维吾尔自治区/石河子市             115\n",
       "西藏自治区/日喀则地区               110\n",
       "四川省/阿坝藏族羌族自治州             109\n",
       "四川省/甘孜藏族自治州               109\n",
       "云南省/怒江傈僳族自治州              108\n",
       "新疆维吾尔自治区/哈密地区              97\n",
       "河南省/济源市                    88\n",
       "内蒙古自治区/阿拉善盟                84\n",
       "甘肃省/嘉峪关市                   83\n",
       "青海省/海南藏族自治州                70\n",
       "新疆维吾尔自治区/博尔塔拉蒙古自治州         67\n",
       "云南省/迪庆藏族自治州                62\n",
       "新疆维吾尔自治区/阿勒泰地区             60\n",
       "黑龙江省/大兴安岭地区                57\n",
       "青海省/海北藏族自治州                57\n",
       "新疆维吾尔自治区/克拉玛依市             57\n",
       "西藏自治区/林芝地区                 55\n",
       "青海省/玉树藏族自治州                51\n",
       "新疆维吾尔自治区/吐鲁番地区             51\n",
       "西藏自治区/山南地区                 47\n",
       "青海省/黄南藏族自治州                46\n",
       "西藏自治区/昌都地区                 39\n",
       "新疆维吾尔自治区/克孜勒苏柯尔克孜自治州       36\n",
       "青海省/格尔木市                   30\n",
       "青海省/果洛藏族自治州                28\n",
       "湖北省/林区（神农架）                23\n",
       "新疆维吾尔自治区/奎屯市               19\n",
       "西藏自治区/那曲地区                 15\n",
       "西藏自治区/阿里地区                 13\n",
       "湖北省/省直辖县级行政区划               8\n",
       "Name: 号码归属地, Length: 344, dtype: int64"
      ]
     },
     "execution_count": 18,
     "metadata": {},
     "output_type": "execute_result"
    }
   ],
   "source": [
    "df[\"号码归属地\"].value_counts()"
   ]
  },
  {
   "cell_type": "markdown",
   "metadata": {},
   "source": [
    "### 订单状态办理类的行删除"
   ]
  },
  {
   "cell_type": "code",
   "execution_count": 19,
   "metadata": {},
   "outputs": [],
   "source": [
    "df = df[df[\"订单状态\"].str.contains(\"办理\") == False]"
   ]
  },
  {
   "cell_type": "code",
   "execution_count": 20,
   "metadata": {},
   "outputs": [
    {
     "data": {
      "text/plain": [
       "交易完成         225415\n",
       "订单关闭         176895\n",
       "拆机中            9959\n",
       "身份信息审核失败       9733\n",
       "拆机成功           4140\n",
       "实名信息复核未通过      1951\n",
       "已发货            1641\n",
       "退款成功           1061\n",
       "激活成功            207\n",
       "开始备货            188\n",
       "已取消             187\n",
       "撤单成功            147\n",
       "系统审核订单           98\n",
       "已拒收              78\n",
       "支付成功             23\n",
       "身份信息审核成功          3\n",
       "退款审核中             2\n",
       "订单信息审核失败          2\n",
       "身份初审失败            1\n",
       "超期未激活             1\n",
       "退款失败              1\n",
       "激活失败              1\n",
       "退款中               1\n",
       "Name: 订单状态, dtype: int64"
      ]
     },
     "execution_count": 20,
     "metadata": {},
     "output_type": "execute_result"
    }
   ],
   "source": [
    "df[\"订单状态\"].value_counts()"
   ]
  },
  {
   "cell_type": "markdown",
   "metadata": {},
   "source": [
    "### 收货地址去空"
   ]
  },
  {
   "cell_type": "code",
   "execution_count": 21,
   "metadata": {},
   "outputs": [
    {
     "data": {
      "text/plain": [
       "False    431735\n",
       "Name: 收货地址, dtype: int64"
      ]
     },
     "execution_count": 21,
     "metadata": {},
     "output_type": "execute_result"
    }
   ],
   "source": [
    "df[\"收货地址\"].isnull().value_counts()\n",
    "df = df.dropna(subset=[\"收货地址\"])\n",
    "df[\"收货地址\"].isnull().value_counts()"
   ]
  },
  {
   "cell_type": "markdown",
   "metadata": {},
   "source": [
    "### 统一承运商名称"
   ]
  },
  {
   "cell_type": "code",
   "execution_count": 22,
   "metadata": {},
   "outputs": [
    {
     "data": {
      "text/plain": [
       "EMS        150026\n",
       "顺丰         115615\n",
       "韵达          59443\n",
       "京东物流        44864\n",
       "中通          12198\n",
       "圆通           6869\n",
       "邮政包裹         4148\n",
       "恒宇运通         3734\n",
       "其他            210\n",
       "商海德           129\n",
       "圆通速递           35\n",
       "移宝旗舰店           9\n",
       "通港数码专营店         7\n",
       "凡思特通信专营         3\n",
       "宅急送             1\n",
       "骏飞通信专营店         1\n",
       "Name: 承运商, dtype: int64"
      ]
     },
     "execution_count": 22,
     "metadata": {},
     "output_type": "execute_result"
    }
   ],
   "source": [
    "dict_carrier ={'ems':'EMS','邮政':'EMS','100000137':'圆通','ZHAIJISONG':'宅急送','jingdongwuliu':'京东物流','yunda':'韵达','shunfeng':'顺丰','EMS物流':'EMS'}\n",
    "df =df.replace(dict_carrier)\n",
    "df[\"承运商\"].value_counts()"
   ]
  },
  {
   "cell_type": "code",
   "execution_count": 23,
   "metadata": {},
   "outputs": [
    {
     "data": {
      "text/plain": [
       "0    白沙镇郑州市郑东新区郑东新区与通商路交叉口向北郑州工业贸易学院新校区\n",
       "2                             水城县文苑路32号\n",
       "3                    凤岗街道复兴路和谐家园3-1-602\n",
       "Name: 收货地址, dtype: object"
      ]
     },
     "execution_count": 23,
     "metadata": {},
     "output_type": "execute_result"
    }
   ],
   "source": [
    "df[\"收货地址\"][0:3]"
   ]
  },
  {
   "cell_type": "code",
   "execution_count": 24,
   "metadata": {},
   "outputs": [],
   "source": [
    "df.to_csv(r\"G:\\work\\basic\\alter\\1806_info_p3_alter_gai.csv\",index=False)"
   ]
  }
 ],
 "metadata": {
  "kernelspec": {
   "display_name": "Python 3",
   "language": "python",
   "name": "python3"
  },
  "language_info": {
   "codemirror_mode": {
    "name": "ipython",
    "version": 3
   },
   "file_extension": ".py",
   "mimetype": "text/x-python",
   "name": "python",
   "nbconvert_exporter": "python",
   "pygments_lexer": "ipython3",
   "version": "3.6.6"
  }
 },
 "nbformat": 4,
 "nbformat_minor": 2
}
